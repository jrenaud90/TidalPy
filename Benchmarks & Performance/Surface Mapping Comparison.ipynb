{
 "cells": [
  {
   "cell_type": "markdown",
   "metadata": {
    "collapsed": true,
    "pycharm": {
     "name": "#%% md\n"
    }
   },
   "source": [
    "# Tidal Potential Comparison"
   ]
  },
  {
   "cell_type": "markdown",
   "metadata": {
    "pycharm": {
     "name": "#%% md\n"
    }
   },
   "source": [
    "## Input Parameters"
   ]
  },
  {
   "cell_type": "code",
   "execution_count": 2,
   "metadata": {
    "pycharm": {
     "name": "#%%\n"
    }
   },
   "outputs": [],
   "source": [
    "import numpy as np\n",
    "\n",
    "from TidalPy.constants import M_earth, R_earth, G, mass_trap1\n",
    "from TidalPy.toolbox.conversions import days2rads, rads2days, orbital_motion2semi_a\n",
    "from TidalPy.rheology.complex_compliance import known_models as known_complex_compliances\n",
    "\n",
    "# Orbital Properties\n",
    "orbital_freq_baseline = days2rads(6.)\n",
    "spin_freq_baseline = orbital_freq_baseline\n",
    "eccentricity_baseline = 0.3\n",
    "obliquity_baseline = 0.\n",
    "host_mass = mass_trap1\n",
    "\n",
    "# Planetary Properties\n",
    "radius = R_earth\n",
    "mass = M_earth\n",
    "volume = (4. / 3.) * np.pi * radius**3\n",
    "density_bulk = mass / volume\n",
    "\n",
    "# Material Properties\n",
    "mantle_density = 3300.\n",
    "mantle_viscosity = 1.e21\n",
    "mantle_shear = 50.e9\n",
    "mantle_bulk_mod = 100.e9\n",
    "mantle_rheology = 'maxwell'\n",
    "\n",
    "# Numerical Properties\n",
    "planet_N = 50\n",
    "latitude_N = 30\n",
    "longitude_N = 31\n",
    "time_N = 32\n",
    "\n",
    "# Build Static Domains\n",
    "longitude_deg = np.linspace(0., 360., longitude_N)\n",
    "latitude_deg = np.linspace(-89.9, 89.9, latitude_N)\n",
    "longitude_rad = np.radians(longitude_deg)\n",
    "latitude_rad = np.radians(latitude_deg)\n",
    "colatitude_deg = 90. - latitude_deg\n",
    "colatitude_rad = np.radians(colatitude_deg)\n",
    "\n",
    "# General Parameters - y calculation\n",
    "order_l = 2\n",
    "use_kamata = True\n",
    "use_julia = False\n",
    "use_numba_integrator = False\n",
    "verbose = False\n",
    "int_rtol = 1.0e-6\n",
    "int_atol = 1.0e-4\n",
    "scipy_int_method = 'RK45'\n",
    "julia_int_method = 'Tsit5'\n",
    "non_dimensionalize = False"
   ]
  },
  {
   "cell_type": "markdown",
   "metadata": {
    "pycharm": {
     "name": "#%% md\n"
    }
   },
   "source": [
    "## Homogeneous Planet\n"
   ]
  },
  {
   "cell_type": "markdown",
   "metadata": {
    "pycharm": {
     "name": "#%% md\n"
    }
   },
   "source": [
    "### Comparison to Tobie+ (2005)"
   ]
  },
  {
   "cell_type": "code",
   "execution_count": null,
   "metadata": {
    "pycharm": {
     "name": "#%%\n"
    }
   },
   "outputs": [],
   "source": [
    "from TidalPy.tides.modes.multilayer_modes import collapse_multilayer_modes\n",
    "\n",
    "def tobie_comp():\n",
    "\n",
    "\n"
   ]
  },
  {
   "cell_type": "code",
   "execution_count": null,
   "metadata": {
    "pycharm": {
     "name": "#%%\n"
    }
   },
   "outputs": [],
   "source": [
    "\n"
   ]
  },
  {
   "cell_type": "markdown",
   "metadata": {
    "pycharm": {
     "name": "#%% md\n"
    }
   },
   "source": [
    "## Surface Heating Maps"
   ]
  },
  {
   "cell_type": "code",
   "execution_count": null,
   "metadata": {
    "pycharm": {
     "name": "#%%\n"
    }
   },
   "outputs": [],
   "source": [
    "\n",
    "\n",
    "tidal_y = convergence_ls_dynamic_liq(\n",
    "    tidal_y_solutions_by_layer: TidalYSolType, surface_solution: np.ndarray,\n",
    "    gravity_array_layer0: np.ndarray, density_array_layer0: np.ndarray,\n",
    "    radius_array_layer0: np.ndarray, orbital_freq: float\n",
    "    )\n",
    "\n",
    "\n",
    "\n"
   ]
  }
 ],
 "metadata": {
  "kernelspec": {
   "display_name": "Python 3 (ipykernel)",
   "language": "python",
   "name": "python3"
  },
  "language_info": {
   "codemirror_mode": {
    "name": "ipython",
    "version": 3
   },
   "file_extension": ".py",
   "mimetype": "text/x-python",
   "name": "python",
   "nbconvert_exporter": "python",
   "pygments_lexer": "ipython3",
   "version": "3.9.15"
  }
 },
 "nbformat": 4,
 "nbformat_minor": 1
}
