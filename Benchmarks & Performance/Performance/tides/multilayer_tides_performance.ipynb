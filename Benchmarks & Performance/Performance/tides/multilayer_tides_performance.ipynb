{
 "cells": [
  {
   "cell_type": "code",
   "execution_count": 1,
   "id": "b304ad18",
   "metadata": {},
   "outputs": [],
   "source": [
    "import numpy as np\n",
    "import pandas as pd\n",
    "import matplotlib.pyplot as plt\n",
    "import os\n",
    "\n",
    "import TidalPy\n",
    "TidalPy.clear_cache(verbose=False)\n",
    "\n",
    "from TidalPy.toolbox.conversions import days2rads, rads2days, semi_a2orbital_motion\n",
    "from TidalPy.rheology.complex_compliance.compliance_models import maxwell, sundberg, andrade\n",
    "from TidalPy.tides.multilayer.numerical_int import tidal_y_solver, tidal_y_solver_numba\n",
    "\n",
    "\n",
    "R_Venus = 6050.0e3\n",
    "M_Venus = 4.867e24\n",
    "planet_bulk_density = M_Venus / ((4. / 3.) * np.pi * R_Venus**3)\n",
    "venus_solar_day_freq = days2rads(116.75)\n",
    "solar_day_forcing_frequency = venus_solar_day_freq\n",
    "\n",
    "# Build Domain\n",
    "N = 40\n",
    "# Start at a radius slightly larger than 0.\n",
    "radius_array_baseline = np.linspace(10., R_Venus, N)\n",
    "\n",
    "# Rheology Inputs\n",
    "alpha_baseline, zeta_baseline, andrade_critical_freq_baseline = 0.3, 1., days2rads(10000.)\n",
    "rheology_inputs_baseline = (alpha_baseline, zeta_baseline, andrade_critical_freq_baseline)\n",
    "\n",
    "# Integration parameters\n",
    "int_rtol_scale = 1.\n",
    "int_atol_scale = .01\n",
    "use_numba_integrator = True\n",
    "\n",
    "# Incompressibility Check\n",
    "incomp_bulk = 1.0e18"
   ]
  },
  {
   "cell_type": "code",
   "execution_count": 11,
   "id": "9db5f88e",
   "metadata": {},
   "outputs": [],
   "source": [
    "\n",
    "# Build function inputs\n",
    "N = 100\n",
    "radius_array = np.linspace(0.1, R_Venus, N)\n",
    "\n",
    "data = pd.read_csv('venus_data.csv')\n",
    "radius_array = data['rad'].to_numpy()\n",
    "density_array = data['rho'].to_numpy()\n",
    "pressure_array = data['P'].to_numpy()\n",
    "temperature_array = data['T'].to_numpy()\n",
    "velocity_p = data['Vp'].to_numpy()\n",
    "velocity_s = data['Vs'].to_numpy()\n",
    "viscosity_array = data['visco'].to_numpy()\n",
    "gravity_array = data['g'].to_numpy()\n",
    "\n",
    "# Calculate shear and bulk modulus\n",
    "shear_array = velocity_s**2 * density_array\n",
    "bulk_array = velocity_p**2 * density_array - (4. / 3.) * shear_array\n",
    "\n",
    "# Make any corrections\n",
    "bulk_array[bulk_array < 0.] = 0.\n",
    "shear_array[shear_array < 0.] = 0.\n",
    "\n",
    "# Find the cut off between the inner core (if present), outer core, and mantle -- based on the shear velocity\n",
    "oc_index = velocity_s == 0.\n",
    "oc_radii = radius_array[oc_index]\n",
    "cmb_radius = oc_radii[-1]\n",
    "icb_radius = oc_radii[0]\n",
    "mantle_index = radius_array > cmb_radius\n",
    "ic_index = radius_array < icb_radius\n",
    "\n",
    "complex_shear = maxwell(venus_solar_day_freq, shear_array**(-1), viscosity_array)**(-1)\n",
    "\n",
    "function_inputs = (\n",
    "    'solid_liquid_solid', radius_array, complex_shear, bulk_array, density_array, gravity_array,\n",
    "    venus_solar_day_freq,\n",
    "    (True, False, True), (True, True, True), (ic_index, oc_index, mantle_index)\n",
    ")\n",
    "\n",
    "function_kwargs = {\n",
    "    'order_l': 2,\n",
    "    'solve_load_numbers': False,\n",
    "    'nondimensionalize': True,\n",
    "    'use_numba_integrator': True,\n",
    "    'int_rtol': 1.e-9,\n",
    "    'int_atol': 1.e-10,\n",
    "    'planet_bulk_density': planet_bulk_density\n",
    "}\n",
    "\n",
    "function_kwargs_nb = (\n",
    "     2, None, False, False, 1.e-9, 1.e-10, 1, False, True, planet_bulk_density, False\n",
    ")"
   ]
  },
  {
   "cell_type": "code",
   "execution_count": null,
   "id": "6c66ea8b",
   "metadata": {},
   "outputs": [],
   "source": [
    "tidal_y = tidal_y_solver(*function_inputs, **function_kwargs)"
   ]
  },
  {
   "cell_type": "markdown",
   "id": "ecdd4a4d",
   "metadata": {},
   "source": [
    "## Baseline"
   ]
  },
  {
   "cell_type": "code",
   "execution_count": 12,
   "id": "295f849f",
   "metadata": {
    "scrolled": false
   },
   "outputs": [
    {
     "name": "stdout",
     "output_type": "stream",
     "text": [
      "86.6 ms ± 822 µs per loop (mean ± std. dev. of 7 runs, 10 loops each)\n"
     ]
    }
   ],
   "source": [
    "# Starting out 86.6ms\n",
    "\n",
    "\n",
    "%timeit tidal_y_solver(*function_inputs, **function_kwargs)"
   ]
  },
  {
   "cell_type": "code",
   "execution_count": 14,
   "id": "e8e62771",
   "metadata": {},
   "outputs": [
    {
     "name": "stdout",
     "output_type": "stream",
     "text": [
      "86.7 ms ± 636 µs per loop (mean ± std. dev. of 7 runs, 10 loops each)\n"
     ]
    }
   ],
   "source": [
    "%timeit tidal_y_solver_numba(*function_inputs, *function_kwargs_nb)"
   ]
  }
 ],
 "metadata": {
  "kernelspec": {
   "display_name": "Python 3 (ipykernel)",
   "language": "python",
   "name": "python3"
  },
  "language_info": {
   "codemirror_mode": {
    "name": "ipython",
    "version": 3
   },
   "file_extension": ".py",
   "mimetype": "text/x-python",
   "name": "python",
   "nbconvert_exporter": "python",
   "pygments_lexer": "ipython3",
   "version": "3.9.7"
  }
 },
 "nbformat": 4,
 "nbformat_minor": 5
}
