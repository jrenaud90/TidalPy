{
 "cells": [
  {
   "cell_type": "code",
   "execution_count": 13,
   "metadata": {
    "collapsed": true
   },
   "outputs": [],
   "source": [
    "import numpy as np\n",
    "import matplotlib.pyplot as plt\n",
    "\n",
    "from TidalPy.utilities.spherical_helper.volume import calculate_voxel_volumes, calculate_voxel_volumes_npy"
   ]
  },
  {
   "cell_type": "code",
   "execution_count": 14,
   "outputs": [],
   "source": [
    "planet_radius = 6300.0e3\n",
    "def array_builder(N, R=planet_radius):\n",
    "    \"\"\" Helper function to quickly build radius and degree arrays \"\"\"\n",
    "    radius_array = np.linspace(0., R, N)\n",
    "    longitude_array_deg = np.linspace(0., 360., N)\n",
    "    colatitude_array_deg = np.linspace(0., 180., N)\n",
    "    longitude_array = np.radians(longitude_array_deg)\n",
    "    colatitude_array = np.radians(colatitude_array_deg)\n",
    "\n",
    "    return radius_array, longitude_array, colatitude_array"
   ],
   "metadata": {
    "collapsed": false,
    "pycharm": {
     "name": "#%%\n"
    }
   }
  },
  {
   "cell_type": "code",
   "execution_count": 15,
   "outputs": [
    {
     "name": "stdout",
     "output_type": "stream",
     "text": [
      "Numpy\n",
      "182 µs ± 926 ns per loop (mean ± std. dev. of 7 runs, 10000 loops each)\n",
      "Numba\n",
      "44.2 µs ± 5.89 µs per loop (mean ± std. dev. of 7 runs, 10000 loops each)\n"
     ]
    }
   ],
   "source": [
    "# Compare times between numpy and numba versions\n",
    "radius, long, colat = array_builder(50)\n",
    "\n",
    "print('Numpy')\n",
    "%timeit calculate_voxel_volumes_npy(radius, long, colat)\n",
    "\n",
    "print('Numba')\n",
    "%timeit calculate_voxel_volumes(radius, long, colat)"
   ],
   "metadata": {
    "collapsed": false,
    "pycharm": {
     "name": "#%%\n"
    }
   }
  },
  {
   "cell_type": "code",
   "execution_count": 16,
   "outputs": [
    {
     "ename": "IndexError",
     "evalue": "index 0 is out of bounds for axis 0 with size 0",
     "output_type": "error",
     "traceback": [
      "\u001B[1;31m---------------------------------------------------------------------------\u001B[0m",
      "\u001B[1;31mIndexError\u001B[0m                                Traceback (most recent call last)",
      "\u001B[1;32m~\\AppData\\Local\\Temp/ipykernel_24656/132558359.py\u001B[0m in \u001B[0;36m<module>\u001B[1;34m\u001B[0m\n\u001B[0;32m     16\u001B[0m \u001B[1;33m\u001B[0m\u001B[0m\n\u001B[0;32m     17\u001B[0m     \u001B[0mt0\u001B[0m \u001B[1;33m=\u001B[0m \u001B[0mtime\u001B[0m\u001B[1;33m(\u001B[0m\u001B[1;33m)\u001B[0m\u001B[1;33m\u001B[0m\u001B[1;33m\u001B[0m\u001B[0m\n\u001B[1;32m---> 18\u001B[1;33m     \u001B[0m_\u001B[0m \u001B[1;33m=\u001B[0m \u001B[0mcalculate_voxel_volumes_npy\u001B[0m\u001B[1;33m(\u001B[0m\u001B[0mradius\u001B[0m\u001B[1;33m,\u001B[0m \u001B[0mlongitude\u001B[0m\u001B[1;33m,\u001B[0m \u001B[0mcolatitude\u001B[0m\u001B[1;33m)\u001B[0m\u001B[1;33m\u001B[0m\u001B[1;33m\u001B[0m\u001B[0m\n\u001B[0m\u001B[0;32m     19\u001B[0m     \u001B[0mtf\u001B[0m \u001B[1;33m=\u001B[0m \u001B[0mtime\u001B[0m\u001B[1;33m(\u001B[0m\u001B[1;33m)\u001B[0m \u001B[1;33m-\u001B[0m \u001B[0mt0\u001B[0m\u001B[1;33m\u001B[0m\u001B[1;33m\u001B[0m\u001B[0m\n\u001B[0;32m     20\u001B[0m     \u001B[0mtime_taken_numpy\u001B[0m\u001B[1;33m.\u001B[0m\u001B[0mappend\u001B[0m\u001B[1;33m(\u001B[0m\u001B[0mtf\u001B[0m\u001B[1;33m)\u001B[0m\u001B[1;33m\u001B[0m\u001B[1;33m\u001B[0m\u001B[0m\n",
      "\u001B[1;32mN:\\Joe Documents\\Research\\Software\\TidalPy\\TidalPy\\utilities\\spherical_helper\\volume.py\u001B[0m in \u001B[0;36mcalculate_voxel_volumes_npy\u001B[1;34m(radius_array, longitude_array, colatitude_array)\u001B[0m\n\u001B[0;32m     45\u001B[0m     \u001B[1;31m#    difference is the same as the first calculated difference. This should be fine unless there is a layer\u001B[0m\u001B[1;33m\u001B[0m\u001B[1;33m\u001B[0m\u001B[0m\n\u001B[0;32m     46\u001B[0m     \u001B[1;31m#    structure with a very small N (likewise if longitude or latitude are small N).\u001B[0m\u001B[1;33m\u001B[0m\u001B[1;33m\u001B[0m\u001B[0m\n\u001B[1;32m---> 47\u001B[1;33m     \u001B[0mdr_array\u001B[0m \u001B[1;33m=\u001B[0m \u001B[0mnp\u001B[0m\u001B[1;33m.\u001B[0m\u001B[0mconcatenate\u001B[0m\u001B[1;33m(\u001B[0m\u001B[1;33m(\u001B[0m\u001B[1;33m[\u001B[0m\u001B[0mdr_array\u001B[0m\u001B[1;33m[\u001B[0m\u001B[1;36m0\u001B[0m\u001B[1;33m]\u001B[0m\u001B[1;33m]\u001B[0m\u001B[1;33m,\u001B[0m \u001B[0mdr_array\u001B[0m\u001B[1;33m)\u001B[0m\u001B[1;33m)\u001B[0m\u001B[1;33m\u001B[0m\u001B[1;33m\u001B[0m\u001B[0m\n\u001B[0m\u001B[0;32m     48\u001B[0m     \u001B[0mdlong_array\u001B[0m \u001B[1;33m=\u001B[0m \u001B[0mnp\u001B[0m\u001B[1;33m.\u001B[0m\u001B[0mconcatenate\u001B[0m\u001B[1;33m(\u001B[0m\u001B[1;33m(\u001B[0m\u001B[1;33m[\u001B[0m\u001B[0mdlong_array\u001B[0m\u001B[1;33m[\u001B[0m\u001B[1;36m0\u001B[0m\u001B[1;33m]\u001B[0m\u001B[1;33m]\u001B[0m\u001B[1;33m,\u001B[0m \u001B[0mdlong_array\u001B[0m\u001B[1;33m)\u001B[0m\u001B[1;33m)\u001B[0m\u001B[1;33m\u001B[0m\u001B[1;33m\u001B[0m\u001B[0m\n\u001B[0;32m     49\u001B[0m     \u001B[0mdcolat_array\u001B[0m \u001B[1;33m=\u001B[0m \u001B[0mnp\u001B[0m\u001B[1;33m.\u001B[0m\u001B[0mconcatenate\u001B[0m\u001B[1;33m(\u001B[0m\u001B[1;33m(\u001B[0m\u001B[1;33m[\u001B[0m\u001B[0mdcolat_array\u001B[0m\u001B[1;33m[\u001B[0m\u001B[1;36m0\u001B[0m\u001B[1;33m]\u001B[0m\u001B[1;33m]\u001B[0m\u001B[1;33m,\u001B[0m \u001B[0mdcolat_array\u001B[0m\u001B[1;33m)\u001B[0m\u001B[1;33m)\u001B[0m\u001B[1;33m\u001B[0m\u001B[1;33m\u001B[0m\u001B[0m\n",
      "\u001B[1;31mIndexError\u001B[0m: index 0 is out of bounds for axis 0 with size 0"
     ]
    }
   ],
   "source": [
    "from time import time\n",
    "# Show how voxel volumes compare to real volume over N\n",
    "n_array = np.arange(start=15, stop=300, step=1)\n",
    "\n",
    "time_taken_numba = list()\n",
    "time_taken_numpy = list()\n",
    "voxel_result = list()\n",
    "\n",
    "for n in n_array:\n",
    "    radius, longitude, colatitude = array_builder(n)\n",
    "    t0 = time()\n",
    "    voxel_volume = calculate_voxel_volumes(radius, longitude, colatitude)\n",
    "    tf = time() - t0\n",
    "    time_taken_numba.append(tf)\n",
    "    voxel_result.append(np.sum(voxel_volume))\n",
    "\n",
    "    t0 = time()\n",
    "    _ = calculate_voxel_volumes_npy(radius, longitude, colatitude)\n",
    "    tf = time() - t0\n",
    "    time_taken_numpy.append(tf)\n",
    "\n",
    "time_taken_numpy = np.asarray(time_taken_numpy)\n",
    "time_taken_numba = np.asarray(time_taken_numba)\n",
    "voxel_result = np.asarray(voxel_result)\n",
    "\n",
    "real_volume = (4. / 3.) * np.pi * planet_radius**3\n",
    "percent_diff = np.abs(real_volume - voxel_result) / real_volume\n",
    "\n",
    "fig, ax = plt.subplots()\n",
    "ax2 = ax.twinx()\n",
    "ax.plot(n_array, percent_diff * 100, 'b-')\n",
    "ax.set(xlabel='Array Size', ylabel='Volume %-Diff', yscale='log')\n",
    "ax2.plot(n_array, time_taken_numba * 1000, 'r-')\n",
    "ax2.plot(n_array, time_taken_numpy * 1000, 'y-')\n",
    "ax2.set(ylabel='Calculation Time [ms, red]')\n",
    "\n",
    "plt.show()\n"
   ],
   "metadata": {
    "collapsed": false,
    "pycharm": {
     "name": "#%%\n"
    }
   }
  }
 ],
 "metadata": {
  "kernelspec": {
   "display_name": "Python 3",
   "language": "python",
   "name": "python3"
  },
  "language_info": {
   "codemirror_mode": {
    "name": "ipython",
    "version": 2
   },
   "file_extension": ".py",
   "mimetype": "text/x-python",
   "name": "python",
   "nbconvert_exporter": "python",
   "pygments_lexer": "ipython2",
   "version": "2.7.6"
  }
 },
 "nbformat": 4,
 "nbformat_minor": 0
}
