{
 "cells": [
  {
   "cell_type": "markdown",
   "metadata": {
    "collapsed": true,
    "pycharm": {
     "name": "#%% md\n"
    }
   },
   "source": [
    "# Tidal Potential Comparison"
   ]
  },
  {
   "cell_type": "markdown",
   "source": [
    "## Input Parameters"
   ],
   "metadata": {
    "collapsed": false,
    "pycharm": {
     "name": "#%% md\n"
    }
   }
  },
  {
   "cell_type": "code",
   "execution_count": 2,
   "outputs": [],
   "source": [
    "import numpy as np\n",
    "\n",
    "from TidalPy.constants import M_earth, R_earth, G, mass_trap1\n",
    "from TidalPy.toolbox.conversions import days2rads, rads2days, orbital_motion2semi_a\n",
    "from TidalPy.rheology.complex_compliance import known_models as known_complex_compliances\n",
    "\n",
    "# Orbital Properties\n",
    "orbital_freq_baseline = days2rads(6.)\n",
    "spin_freq_baseline = orbital_freq_baseline\n",
    "eccentricity_baseline = 0.3\n",
    "obliquity_baseline = 0.\n",
    "host_mass = mass_trap1\n",
    "\n",
    "# Planetary Properties\n",
    "radius = R_earth\n",
    "mass = M_earth\n",
    "volume = (4. / 3.) * np.pi * radius**3\n",
    "density_bulk = mass / volume\n",
    "\n",
    "# Material Properties\n",
    "mantle_density = 3300.\n",
    "mantle_viscosity = 1.e21\n",
    "mantle_shear = 50.e9\n",
    "mantle_bulk_mod = 100.e9\n",
    "mantle_rheology = 'maxwell'\n",
    "\n",
    "# Numerical Properties\n",
    "planet_N = 50\n",
    "latitude_N = 30\n",
    "longitude_N = 31\n",
    "time_N = 32\n",
    "\n",
    "# Build Static Domains\n",
    "longitude_deg = np.linspace(0., 360., longitude_N)\n",
    "latitude_deg = np.linspace(-89.9, 89.9, latitude_N)\n",
    "longitude_rad = np.radians(longitude_deg)\n",
    "latitude_rad = np.radians(latitude_deg)\n",
    "colatitude_deg = 90. - latitude_deg\n",
    "colatitude_rad = np.radians(colatitude_deg)\n",
    "\n",
    "# General Parameters - y calculation\n",
    "order_l = 2\n",
    "use_kamata = True\n",
    "use_julia = False\n",
    "use_numba_integrator = False\n",
    "verbose = False\n",
    "int_rtol = 1.0e-6\n",
    "int_atol = 1.0e-4\n",
    "scipy_int_method = 'RK45'\n",
    "julia_int_method = 'Tsit5'\n",
    "non_dimensionalize = False"
   ],
   "metadata": {
    "collapsed": false,
    "pycharm": {
     "name": "#%%\n"
    }
   }
  },
  {
   "cell_type": "code",
   "execution_count": null,
   "outputs": [],
   "source": [
    "from TidalPy.tides.potential import tidal_potential_nsr, tidal_potential_nsr_modes, tidal_potential_simple\n",
    "\n",
    "def tidal_potential_helper(potential_model, radius_matrix, longitude_matrix, colatitude_matrix, time_matrix,\n",
    "                           orbital_frequency, spin_frequency, semi_major_axis, eccentricity):\n",
    "\n",
    "    if potential_model == 'simple':\n",
    "        modes = {'n': orbital_frequency}\n",
    "        potential, potential_dtheta, potential_dphi, potential_d2theta, potential_d2phi, potential_dtheta_dphi = \\\n",
    "                tidal_potential_simple(radius_matrix, longitude_matrix, colatitude_matrix, orbital_frequency, eccentricity, time_matrix)\n",
    "    elif potential_model == 'nsr':\n",
    "        modes = {'n': orbital_frequency}\n",
    "        potential, potential_dtheta, potential_dphi, potential_d2theta, potential_d2phi, potential_dtheta_dphi = \\\n",
    "            tidal_potential_nsr(radius_matrix, longitude_matrix, colatitude_matrix, orbital_frequency, eccentricity, time_matrix,\n",
    "                spin_frequency, world_radius=np.max(radius_matrix), host_mass=host_mass, semi_major_axis=semi_major_axis,\n",
    "                use_static=False\n",
    "                )\n",
    "    elif potential_model == 'modes':\n",
    "        modes, potential_dict, potential_dtheta_dict, potential_dphi_dict, potential_d2theta_dict,\\\n",
    "            potential_d2phi_dict, potential_dtheta_dphi_dict = \\\n",
    "            tidal_potential_nsr_modes(\n",
    "                radius_matrix, longitude_matrix, colatitude_matrix, orbital_frequency, eccentricity, time_matrix,\n",
    "                spin_frequency, world_radius=np.max(radius_matrix), host_mass=host_mass, semi_major_axis=semi_major_axis,\n",
    "                use_static=False\n",
    "                )\n",
    "    else:\n",
    "        raise ValueError('Unknown Model')\n",
    "\n",
    "    return modes, potential, potential_dtheta, potential_dphi, potential_d2theta, potential_d2phi, potential_dtheta_dphi"
   ],
   "metadata": {
    "collapsed": false,
    "pycharm": {
     "name": "#%%\n"
    }
   }
  },
  {
   "cell_type": "code",
   "execution_count": null,
   "outputs": [],
   "source": [],
   "metadata": {
    "collapsed": false,
    "pycharm": {
     "name": "#%%\n"
    }
   }
  },
  {
   "cell_type": "markdown",
   "source": [
    "## Homogeneous Planet\n"
   ],
   "metadata": {
    "collapsed": false,
    "pycharm": {
     "name": "#%% md\n"
    }
   }
  },
  {
   "cell_type": "code",
   "execution_count": null,
   "outputs": [],
   "source": [
    "from TidalPy.toolbox.multilayer.homogen_solid import calculate_homogen_solid\n",
    "\n",
    "# Switches\n",
    "use_static = False\n",
    "\n",
    "# Planet Structure\n",
    "radii = np.linspace(0.1, radius, planet_N)\n",
    "densities = density_bulk * np.ones_like(radii)\n",
    "volumes = (4. / 3.) * np.pi * (radius[1:]**3 - radius[:-1]**3)\n",
    "masses = volumes * densities\n",
    "mass_below = np.asarray([np.sum(masses[0:i]) for i in range(planet_N)])\n",
    "gravities = G * mass_below / radii**2\n",
    "\n",
    "# Find volumes for each voxel\n",
    "dr = radii[1] - radii[0]\n",
    "dColat_rad = colatitude_rad[1] - colatitude_rad[0]\n",
    "dLong_rad = longitude_rad[1] - longitude_rad[0]\n",
    "r_mtx, long_mtx, colat_mtx = np.meshgrid(radii, longitude_rad, colatitude_rad)\n",
    "voxel_volumes = r_mtx**2 * np.sin(colat_mtx) * dr * dColat_rad * dLong_rad\n",
    "\n",
    "breakpoint()\n",
    "\n",
    "\n",
    "def homogen_planet(shear=mantle_shear, viscosity=mantle_viscosity, bulk_modulus=mantle_bulk_mod, orbital_frequency=orbital_freq_baseline,\n",
    "                   rheology_func=mantle_rheology):\n",
    "\n",
    "    # Convert floats to arrays if not already\n",
    "    if type(shear) is float:\n",
    "        shear = shear * np.ones_like(radii)\n",
    "    if type(viscosity) is float:\n",
    "        viscosity = viscosity * np.ones_like(radii)\n",
    "    if type(bulk_modulus) is float:\n",
    "        bulk_modulus = bulk_modulus * np.ones_like(radii)\n",
    "\n",
    "    # Calculate other properties\n",
    "    semi_major_axis = orbital_motion2semi_a(orbital_frequency, host_mass, mass)\n",
    "\n",
    "    # Load rheology and calculate complex compliance\n",
    "    complex_comp = known_complex_compliances[rheology_func](orbital_frequency, shear**-1, viscosity)\n",
    "    complex_shear = complex_comp**(-1)\n",
    "\n",
    "    # Calculate tidal ys\n",
    "    tidal_y, tidal_y_derivative = \\\n",
    "        calculate_homogen_solid(\n",
    "            radius=radii, shear_modulus=complex_shear, bulk_modulus=mantle_bulk_mod,\n",
    "            density=densities, gravity=gravities, frequency=orbital_frequency,\n",
    "            order_l=order_l, use_static=use_static,\n",
    "            surface_boundary_condition=None,\n",
    "            use_kamata=use_kamata, use_julia=use_julia,\n",
    "            use_numba_integrator=use_numba_integrator,\n",
    "            verbose=verbose,\n",
    "            int_rtol=int_rtol, int_atol=int_atol, scipy_int_method=scipy_int_method,\n",
    "            julia_int_method=julia_int_method,\n",
    "            non_dimensionalize=non_dimensionalize,\n",
    "            planet_bulk_density=density_bulk\n",
    "        )\n",
    "\n",
    "    # Build higher dimension domains\n",
    "    time_domain = np.linspace(0., 86400. * rads2days(orbital_frequency), time_N)\n",
    "    rad_mtx, time_mtx, long_mtx, colat_mtx = np.meshgrid(radii, time_domain, longitude_rad, colatitude_rad, indexing='ij')\n",
    "\n",
    "    bulk_moduli_higher_dim, _, _, _ = \\\n",
    "        np.meshgrid(bulk_modulus, time_domain, longitude_rad, colatitude_rad, indexing='ij')\n",
    "    radius_array_higher_dim, _, _, _ = \\\n",
    "        np.meshgrid(radii, time_domain, longitude_rad, colatitude_rad, indexing='ij')\n",
    "    volume_array_higher_dim, _, _, _ = \\\n",
    "        np.meshgrid(volumes, time_domain, longitude_rad, colatitude_rad, indexing='ij')\n",
    "\n",
    "    # For the voxel volumes we need to insert a new axis for time (since it already has ones for radius, lat, long).\n",
    "    voxel_volume_array_higher_dim = np.repeat(voxel_volumes[:, np.newaxis, :, :], len(time_domain), axis=1)\n",
    "\n"
   ],
   "metadata": {
    "collapsed": false,
    "pycharm": {
     "name": "#%%\n"
    }
   }
  },
  {
   "cell_type": "markdown",
   "source": [
    "## Surface Heating Maps"
   ],
   "metadata": {
    "collapsed": false,
    "pycharm": {
     "name": "#%% md\n"
    }
   }
  },
  {
   "cell_type": "code",
   "execution_count": null,
   "outputs": [],
   "source": [
    "\n",
    "\n",
    "tidal_y = convergence_ls_dynamic_liq(\n",
    "    tidal_y_solutions_by_layer: TidalYSolType, surface_solution: np.ndarray,\n",
    "    gravity_array_layer0: np.ndarray, density_array_layer0: np.ndarray,\n",
    "    radius_array_layer0: np.ndarray, orbital_freq: float\n",
    "    )\n",
    "\n",
    "\n",
    "\n"
   ],
   "metadata": {
    "collapsed": false,
    "pycharm": {
     "name": "#%%\n"
    }
   }
  }
 ],
 "metadata": {
  "kernelspec": {
   "display_name": "Python 3",
   "language": "python",
   "name": "python3"
  },
  "language_info": {
   "codemirror_mode": {
    "name": "ipython",
    "version": 2
   },
   "file_extension": ".py",
   "mimetype": "text/x-python",
   "name": "python",
   "nbconvert_exporter": "python",
   "pygments_lexer": "ipython2",
   "version": "2.7.6"
  }
 },
 "nbformat": 4,
 "nbformat_minor": 0
}