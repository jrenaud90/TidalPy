{
 "cells": [
  {
   "cell_type": "code",
   "execution_count": 1,
   "id": "9122a35e",
   "metadata": {},
   "outputs": [],
   "source": [
    "from sympy import Symbol, Rational, init_printing, sqrt, expand, simplify, factor, factorial2, oo, limit, besselj, jn, factorial, expand_func, series\n",
    "init_printing(use_latex=True)\n",
    "from sympy import gamma as gamma_F\n",
    "from IPython.display import display as disp"
   ]
  },
  {
   "cell_type": "code",
   "execution_count": 2,
   "id": "4e7a9013",
   "metadata": {},
   "outputs": [],
   "source": [
    "w2 = Symbol('\\\\omega^2', real=True, positive=True)\n",
    "gamma = Symbol('\\\\gamma', real=True, positive=True)\n",
    "alpha2 = Symbol('\\\\alpha^2', real=True, positive=True)\n",
    "beta2 = Symbol('\\\\beta^2', real=True, positive=True)\n",
    "l = Symbol('l', integer=True)\n",
    "r = Symbol('r', real=True, positive=True)\n",
    "x = Symbol('x', real=True, positive=True)\n",
    "shear = Symbol('\\\\mu', positive=True)\n",
    "bulk = Symbol('K', positive=True)\n",
    "density = Symbol('\\\\rho', real=True, positive=True)\n",
    "lame = Symbol('\\\\lambda')\n",
    "\n",
    "k_inner_nonsqrt = ((w2 + 4 * gamma) / alpha2) + (w2 / beta2)\n",
    "k_inner_sqrt = ((w2 / beta2) - ((w2 + 4 * gamma) / alpha2))**2 + ((4 * l * (l + 1) * gamma**2) / (alpha2 * beta2))\n",
    "k_pos = Rational(1, 2) * (k_inner_nonsqrt + sqrt(k_inner_sqrt))\n",
    "k_neg = Rational(1, 2) * (k_inner_nonsqrt - sqrt(k_inner_sqrt))\n",
    "\n",
    "f_kpos = (beta2 * k_pos - w2) / gamma\n",
    "f_kneg = (beta2 * k_neg - w2) / gamma\n",
    "\n",
    "h_kpos = f_kpos - (l + 1)\n",
    "h_kneg = f_kneg - (l + 1)\n",
    "\n",
    "# Phi and Psi functions are found via bessel functions on \"kr\". \n",
    "def Phi_real(x, n):\n",
    "    return factorial2(2 * n + 1) * besselj(n, x)/ x**n\n",
    "\n",
    "def Phi_approx(k2, n):\n",
    "    return 1 - (1 / (2 * (2 * n + 3))) * k2 * r**2 + (1 / (2**2 * (2 * n + 3) * (2 * n + 5) * 2)) * k2**2 * r**4\n",
    "\n",
    "def Psi_real(x, n):\n",
    "    return 2 * (2 * n + 3) * (1 - Phi(x))/ x**2\n",
    "\n",
    "def Psi_approx(k2, n):\n",
    "    return 1 - (1 / (2 * (2 * n + 5) * 2)) * k2 * r**2 + (1 / (2**2 * (2 * n + 5) * (2 * n + 7) * 3)) * k2**2 * r**4"
   ]
  },
  {
   "cell_type": "code",
   "execution_count": 3,
   "id": "cdea2bdf",
   "metadata": {
    "scrolled": false
   },
   "outputs": [
    {
     "name": "stderr",
     "output_type": "stream",
     "text": [
      "C:\\ProgramData\\Anaconda3\\envs\\arpy\\lib\\site-packages\\IPython\\lib\\latextools.py:126: MatplotlibDeprecationWarning: \n",
      "The to_png function was deprecated in Matplotlib 3.4 and will be removed two minor releases later. Use mathtext.math_to_image instead.\n",
      "  mt.to_png(f, s, fontsize=12, dpi=dpi, color=color)\n",
      "C:\\ProgramData\\Anaconda3\\envs\\arpy\\lib\\site-packages\\IPython\\lib\\latextools.py:126: MatplotlibDeprecationWarning: \n",
      "The to_rgba function was deprecated in Matplotlib 3.4 and will be removed two minor releases later. Use mathtext.math_to_image instead.\n",
      "  mt.to_png(f, s, fontsize=12, dpi=dpi, color=color)\n",
      "C:\\ProgramData\\Anaconda3\\envs\\arpy\\lib\\site-packages\\IPython\\lib\\latextools.py:126: MatplotlibDeprecationWarning: \n",
      "The to_mask function was deprecated in Matplotlib 3.4 and will be removed two minor releases later. Use mathtext.math_to_image instead.\n",
      "  mt.to_png(f, s, fontsize=12, dpi=dpi, color=color)\n",
      "C:\\ProgramData\\Anaconda3\\envs\\arpy\\lib\\site-packages\\IPython\\lib\\latextools.py:126: MatplotlibDeprecationWarning: \n",
      "The MathtextBackendBitmap class was deprecated in Matplotlib 3.4 and will be removed two minor releases later. Use mathtext.math_to_image instead.\n",
      "  mt.to_png(f, s, fontsize=12, dpi=dpi, color=color)\n"
     ]
    },
    {
     "data": {
      "image/png": "[encoded data removed]",
      "text/latex": [
       "$\\displaystyle \\frac{15}{8} - \\frac{5 x^{2}}{32} + \\frac{5 x^{4}}{1024} + O\\left(x^{6}\\right)$"
      ],
      "text/plain": [
       "        2      4        \n",
       "15   5⋅x    5⋅x     ⎛ 6⎞\n",
       "── - ──── + ──── + O⎝x ⎠\n",
       "8     32    1024        "
      ]
     },
     "metadata": {},
     "output_type": "display_data"
    }
   ],
   "source": [
    "disp(series(Phi_real(x, 2), x, 0))"
   ]
  },
  {
   "cell_type": "code",
   "execution_count": 4,
   "id": "a8b1cff0",
   "metadata": {},
   "outputs": [
    {
     "data": {
      "image/png": "[encoded data removed]",
      "text/latex": [
       "$\\displaystyle \\frac{\\left(- \\alpha^{2} \\omega^{2} + \\beta^{2} \\cdot \\left(4 \\gamma + \\omega^{2}\\right) + \\sqrt{4 \\alpha^{2} \\beta^{2} \\gamma^{2} l \\left(l + 1\\right) + \\left(\\alpha^{2} \\omega^{2} - \\beta^{2} \\cdot \\left(4 \\gamma + \\omega^{2}\\right)\\right)^{2}}\\right) \\left(\\alpha^{2} \\omega^{2} + \\beta^{2} \\cdot \\left(4 \\gamma + \\omega^{2}\\right) + \\sqrt{4 \\alpha^{2} \\beta^{2} \\gamma^{2} l \\left(l + 1\\right) + \\left(\\alpha^{2} \\omega^{2} - \\beta^{2} \\cdot \\left(4 \\gamma + \\omega^{2}\\right)\\right)^{2}}\\right)}{4 \\alpha^{2} \\beta^{2} \\gamma}$"
      ],
      "text/plain": [
       "⎛                                                    _________________________\n",
       "⎜                                                   ╱                        2\n",
       "⎝-\\alpha²⋅\\omega² + \\beta²⋅(4⋅\\gamma + \\omega²) + ╲╱  4⋅\\alpha²⋅\\beta²⋅\\gamma \n",
       "──────────────────────────────────────────────────────────────────────────────\n",
       "                                                                              \n",
       "\n",
       "______________________________________________________________⎞ ⎛             \n",
       "                                                            2 ⎟ ⎜             \n",
       "⋅l⋅(l + 1) + (\\alpha²⋅\\omega² - \\beta²⋅(4⋅\\gamma + \\omega²))  ⎠⋅⎝\\alpha²⋅\\omeg\n",
       "──────────────────────────────────────────────────────────────────────────────\n",
       "                                                   4⋅\\alpha²⋅\\beta²⋅\\gamma    \n",
       "\n",
       "                                      ________________________________________\n",
       "                                     ╱                        2               \n",
       "a² + \\beta²⋅(4⋅\\gamma + \\omega²) + ╲╱  4⋅\\alpha²⋅\\beta²⋅\\gamma ⋅l⋅(l + 1) + (\\\n",
       "──────────────────────────────────────────────────────────────────────────────\n",
       "                                                                              \n",
       "\n",
       "_______________________________________________⎞\n",
       "                                             2 ⎟\n",
       "alpha²⋅\\omega² - \\beta²⋅(4⋅\\gamma + \\omega²))  ⎠\n",
       "────────────────────────────────────────────────\n",
       "                                                "
      ]
     },
     "metadata": {},
     "output_type": "display_data"
    }
   ],
   "source": [
    "disp(simplify((k_pos * f_kpos * alpha2)))"
   ]
  },
  {
   "cell_type": "code",
   "execution_count": 5,
   "id": "fa165deb",
   "metadata": {},
   "outputs": [
    {
     "data": {
      "image/png": "[encoded data removed]",
      "text/latex": [
       "$\\displaystyle \\gamma l \\left(l + 1\\right)$"
      ],
      "text/plain": [
       "\\gamma⋅l⋅(l + 1)"
      ]
     },
     "metadata": {},
     "output_type": "display_data"
    }
   ],
   "source": [
    "# Confirms Kamata+ (2015) result just before their Eq. B17\n",
    "disp(simplify(limit(k_pos * f_kpos * alpha2, alpha2, oo)))"
   ]
  },
  {
   "cell_type": "markdown",
   "id": "6b16381d",
   "metadata": {},
   "source": [
    "## Perform Limits on T&S initial conditions"
   ]
  },
  {
   "cell_type": "code",
   "execution_count": 22,
   "id": "5172b443",
   "metadata": {},
   "outputs": [],
   "source": [
    "def find_ys(kpos, kneg):\n",
    "    \n",
    "    f_kpos_ = (beta2 * kpos - w2) / gamma\n",
    "    f_kneg_ = (beta2 * kneg - w2) / gamma\n",
    "\n",
    "    h_kpos_ = f_kpos_ - (l + 1)\n",
    "    h_kneg_ = f_kneg_ - (l + 1)\n",
    "\n",
    "    \n",
    "    y1_s1 = - (r**(l + 1) / (2 * l + 3)) * (Rational(1, 2) * l * h_kneg_ * Psi_approx(kneg, l) + \\\n",
    "                                        f_kneg_ * Phi_approx(kneg, l + 1))\n",
    "    y1_s2 = - (r**(l + 1) / (2 * l + 3)) * (Rational(1, 2) * l * h_kpos_ * Psi_approx(kpos, l) + \\\n",
    "                                            f_kpos_ * Phi_approx(kpos, l + 1))\n",
    "    y1_s3 = l * r**(l-1)\n",
    "\n",
    "    y2_s1 = -r**(l) * (lame + 2 * shear) * f_kneg_ * Phi_approx(kneg, l) + \\\n",
    "             (r**l * shear / (2 * l + 3)) * (-l * (l - 1) * h_kneg_ * Psi_approx(kneg, l) + \\\n",
    "                                             2 * (2 * f_kneg_ + l * (l + 1)) * Phi_approx(kneg, l + 1))\n",
    "    y2_s2 = -r**(l) * (lame + 2 * shear) * f_kpos_ * Phi_approx(kpos, l) + \\\n",
    "             (r**l * shear / (2 * l + 3)) * (-l * (l - 1) * h_kpos_ * Psi_approx(kpos, l) + \\\n",
    "                                             2 * (2 * f_kpos_ + l * (l + 1)) * Phi_approx(kpos, l + 1))\n",
    "    y2_s3 = 2 * shear * l * (l - 1) * r**(l-2)\n",
    "\n",
    "    y3_s1 = -(r**(l+1) / (2 * l + 3)) * (Rational(1, 2) * h_kneg_ * Psi_approx(kneg, l) - Phi_approx(kneg, l + 1))\n",
    "    y3_s2 = -(r**(l+1) / (2 * l + 3)) * (Rational(1, 2) * h_kpos_ * Psi_approx(kpos, l) - Phi_approx(kpos, l + 1))\n",
    "    y3_s3 = r**(l-1)\n",
    "\n",
    "    y4_s1 = shear * r**(l) * (Phi_approx(kneg, l) - (1 / (2 * l + 3)) * ((l - 1) * h_kneg_ * Psi_approx(kneg, l) + \\\n",
    "                                                      2 * (f_kneg_ + 1) * Phi_approx(kneg, l + 1)))\n",
    "    y4_s2 = shear * r**(l) * (Phi_approx(kpos, l) - (1 / (2 * l + 3)) * ((l - 1) * h_kpos_ * Psi_approx(kpos, l) + \\\n",
    "                                                      2 * (f_kpos_ + 1) * Phi_approx(kpos, l + 1)))\n",
    "    y4_s3 = 2 * shear * (l - 1) * r**(l - 2)\n",
    "\n",
    "    y5_s1 = r**(l + 2) * (((alpha2 * f_kneg_ - (l + 1) * beta2) / r**2) - \\\n",
    "                          (3 * gamma * f_kneg_ / (2 * (2 * l + 3))) * Psi_approx(kneg, l))\n",
    "    y5_s2 = r**(l + 2) * (((alpha2 * f_kpos_ - (l + 1) * beta2) / r**2) - \\\n",
    "                          (3 * gamma * f_kpos_ / (2 * (2 * l + 3))) * Psi_approx(kpos, l))\n",
    "    y5_s3 = (l * gamma - w2) * r**l\n",
    "\n",
    "    y6_s1 = ((2 * l + 1) * y5_s1 / r) + (3 * l * gamma * h_kneg_ * r**(l + 1) / (2 * (2 * l + 3))) * Psi_approx(kneg, l)\n",
    "    y6_s2 = ((2 * l + 1) * y5_s2 / r) + (3 * l * gamma * h_kpos_ * r**(l + 1) / (2 * (2 * l + 3))) * Psi_approx(kpos, l)\n",
    "    y6_s3 = ((2 * l + 1) * y5_s3 / r) - 3 * l * gamma * r**(l-1)\n",
    "\n",
    "\n",
    "    ys = {\n",
    "        '$y_{1}$': {\n",
    "            '\\tsol1': y1_s1,\n",
    "            '\\tsol2': y1_s2,\n",
    "            '\\tsol3': y1_s3\n",
    "        },\n",
    "        '$y_{2}$': {\n",
    "            '\\tsol1': y2_s1,\n",
    "            '\\tsol2': y2_s2,\n",
    "            '\\tsol3': y2_s3\n",
    "        },\n",
    "        '$y_{3}$': {\n",
    "            '\\tsol1': y3_s1,\n",
    "            '\\tsol2': y3_s2,\n",
    "            '\\tsol3': y3_s3\n",
    "        },\n",
    "        '$y_{4}$': {\n",
    "            '\\tsol1': y4_s1,\n",
    "            '\\tsol2': y4_s2,\n",
    "            '\\tsol3': y4_s3\n",
    "        },\n",
    "        '$y_{5}$': {\n",
    "            '\\tsol1': y5_s1,\n",
    "            '\\tsol2': y5_s2,\n",
    "            '\\tsol3': y5_s3\n",
    "        },\n",
    "        '$y_{6}$': {\n",
    "            '\\tsol1': y6_s1,\n",
    "            '\\tsol2': y6_s2,\n",
    "            '\\tsol3': y6_s3\n",
    "        }\n",
    "    }\n",
    "    \n",
    "    return ys"
   ]
  },
  {
   "cell_type": "markdown",
   "id": "c6b98059",
   "metadata": {},
   "source": [
    "### Incompressibility"
   ]
  },
  {
   "cell_type": "code",
   "execution_count": 33,
   "id": "a6b9403e",
   "metadata": {
    "scrolled": false
   },
   "outputs": [
    {
     "data": {
      "text/plain": [
       "'$y_{1}$'"
      ]
     },
     "metadata": {},
     "output_type": "display_data"
    },
    {
     "name": "stdout",
     "output_type": "stream",
     "text": [
      "\tsol1\n",
      "Incomp - on final\n"
     ]
    },
    {
     "data": {
      "image/png": "[encoded data removed]",
      "text/latex": [
       "$\\displaystyle \\frac{r^{l + 1} \\left(\\gamma l^{2} + \\gamma l + \\omega^{2} l + 2 \\omega^{2}\\right)}{2 \\gamma \\left(2 l + 3\\right)}$"
      ],
      "text/plain": [
       " l + 1 ⎛        2                                   ⎞\n",
       "r     ⋅⎝\\gamma⋅l  + \\gamma⋅l + \\omega²⋅l + 2⋅\\omega²⎠\n",
       "─────────────────────────────────────────────────────\n",
       "                  2⋅\\gamma⋅(2⋅l + 3)                 "
      ]
     },
     "metadata": {},
     "output_type": "display_data"
    },
    {
     "name": "stdout",
     "output_type": "stream",
     "text": [
      "Incomp - on initk\n"
     ]
    },
    {
     "data": {
      "image/png": "[encoded data removed]",
      "text/latex": [
       "$\\displaystyle \\frac{r^{l + 1} \\left(\\gamma l^{2} + \\gamma l + \\omega^{2} l + 2 \\omega^{2}\\right)}{2 \\gamma \\left(2 l + 3\\right)}$"
      ],
      "text/plain": [
       " l + 1 ⎛        2                                   ⎞\n",
       "r     ⋅⎝\\gamma⋅l  + \\gamma⋅l + \\omega²⋅l + 2⋅\\omega²⎠\n",
       "─────────────────────────────────────────────────────\n",
       "                  2⋅\\gamma⋅(2⋅l + 3)                 "
      ]
     },
     "metadata": {},
     "output_type": "display_data"
    },
    {
     "name": "stdout",
     "output_type": "stream",
     "text": [
      "DIFF\n"
     ]
    },
    {
     "data": {
      "image/png": "[encoded data removed]",
      "text/latex": [
       "$\\displaystyle 0$"
      ],
      "text/plain": [
       "0"
      ]
     },
     "metadata": {},
     "output_type": "display_data"
    },
    {
     "name": "stdout",
     "output_type": "stream",
     "text": [
      "~~~\n",
      "\tsol2\n",
      "Incomp - on final\n"
     ]
    },
    {
     "data": {
      "image/png": "[encoded data removed]",
      "text/latex": [
       "$\\displaystyle \\frac{l r^{l + 1} \\left(l + 1\\right) \\left(48 \\left(\\beta^{2}\\right)^{2} l^{2} + 288 \\left(\\beta^{2}\\right)^{2} l + 420 \\left(\\beta^{2}\\right)^{2} - 6 \\beta^{2} \\omega^{2} l r^{2} - 21 \\beta^{2} \\omega^{2} r^{2} + \\left(\\omega^{2}\\right)^{2} r^{4}\\right)}{24 \\left(\\beta^{2}\\right)^{2} \\cdot \\left(2 l + 3\\right) \\left(2 l + 5\\right) \\left(2 l + 7\\right)}$"
      ],
      "text/plain": [
       "   l + 1         ⎛         2  2             2               2                 \n",
       "l⋅r     ⋅(l + 1)⋅⎝48⋅\\beta² ⋅l  + 288⋅\\beta² ⋅l + 420⋅\\beta²  - 6⋅\\beta²⋅\\omeg\n",
       "──────────────────────────────────────────────────────────────────────────────\n",
       "                                                   2                          \n",
       "                                          24⋅\\beta² ⋅(2⋅l + 3)⋅(2⋅l + 5)⋅(2⋅l \n",
       "\n",
       "      2                      2          2  4⎞\n",
       "a²⋅l⋅r  - 21⋅\\beta²⋅\\omega²⋅r  + \\omega² ⋅r ⎠\n",
       "─────────────────────────────────────────────\n",
       "                                             \n",
       "+ 7)                                         "
      ]
     },
     "metadata": {},
     "output_type": "display_data"
    },
    {
     "name": "stdout",
     "output_type": "stream",
     "text": [
      "Incomp - on initk\n"
     ]
    },
    {
     "data": {
      "image/png": "[encoded data removed]",
      "text/latex": [
       "$\\displaystyle \\frac{l r^{l + 1} \\left(l + 1\\right) \\left(48 \\left(\\beta^{2}\\right)^{2} l^{2} + 288 \\left(\\beta^{2}\\right)^{2} l + 420 \\left(\\beta^{2}\\right)^{2} - 6 \\beta^{2} \\omega^{2} l r^{2} - 21 \\beta^{2} \\omega^{2} r^{2} + \\left(\\omega^{2}\\right)^{2} r^{4}\\right)}{24 \\left(\\beta^{2}\\right)^{2} \\cdot \\left(2 l + 3\\right) \\left(2 l + 5\\right) \\left(2 l + 7\\right)}$"
      ],
      "text/plain": [
       "   l + 1         ⎛         2  2             2               2                 \n",
       "l⋅r     ⋅(l + 1)⋅⎝48⋅\\beta² ⋅l  + 288⋅\\beta² ⋅l + 420⋅\\beta²  - 6⋅\\beta²⋅\\omeg\n",
       "──────────────────────────────────────────────────────────────────────────────\n",
       "                                                   2                          \n",
       "                                          24⋅\\beta² ⋅(2⋅l + 3)⋅(2⋅l + 5)⋅(2⋅l \n",
       "\n",
       "      2                      2          2  4⎞\n",
       "a²⋅l⋅r  - 21⋅\\beta²⋅\\omega²⋅r  + \\omega² ⋅r ⎠\n",
       "─────────────────────────────────────────────\n",
       "                                             \n",
       "+ 7)                                         "
      ]
     },
     "metadata": {},
     "output_type": "display_data"
    },
    {
     "name": "stdout",
     "output_type": "stream",
     "text": [
      "DIFF\n"
     ]
    },
    {
     "data": {
      "image/png": "[encoded data removed]",
      "text/latex": [
       "$\\displaystyle 0$"
      ],
      "text/plain": [
       "0"
      ]
     },
     "metadata": {},
     "output_type": "display_data"
    },
    {
     "name": "stdout",
     "output_type": "stream",
     "text": [
      "~~~\n",
      "\tsol3\n",
      "Incomp - on final\n"
     ]
    },
    {
     "data": {
      "image/png": "[encoded data removed]",
      "text/latex": [
       "$\\displaystyle l r^{l - 1}$"
      ],
      "text/plain": [
       "   l - 1\n",
       "l⋅r     "
      ]
     },
     "metadata": {},
     "output_type": "display_data"
    },
    {
     "name": "stdout",
     "output_type": "stream",
     "text": [
      "Incomp - on initk\n"
     ]
    },
    {
     "data": {
      "image/png": "[encoded data removed]",
      "text/latex": [
       "$\\displaystyle l r^{l - 1}$"
      ],
      "text/plain": [
       "   l - 1\n",
       "l⋅r     "
      ]
     },
     "metadata": {},
     "output_type": "display_data"
    },
    {
     "name": "stdout",
     "output_type": "stream",
     "text": [
      "DIFF\n"
     ]
    },
    {
     "data": {
      "image/png": "[encoded data removed]",
      "text/latex": [
       "$\\displaystyle 0$"
      ],
      "text/plain": [
       "0"
      ]
     },
     "metadata": {},
     "output_type": "display_data"
    },
    {
     "name": "stdout",
     "output_type": "stream",
     "text": [
      "~~~\n",
      "\n",
      "\n",
      "\n",
      "\n"
     ]
    },
    {
     "data": {
      "text/plain": [
       "'$y_{2}$'"
      ]
     },
     "metadata": {},
     "output_type": "display_data"
    },
    {
     "name": "stdout",
     "output_type": "stream",
     "text": [
      "\tsol1\n",
      "Incomp - on final\n"
     ]
    },
    {
     "data": {
      "image/png": "[encoded data removed]",
      "text/latex": [
       "$\\displaystyle \\infty$"
      ],
      "text/plain": [
       "∞"
      ]
     },
     "metadata": {},
     "output_type": "display_data"
    },
    {
     "name": "stdout",
     "output_type": "stream",
     "text": [
      "Incomp - on initk\n"
     ]
    },
    {
     "data": {
      "image/png": "[encoded data removed]",
      "text/latex": [
       "$\\displaystyle \\infty$"
      ],
      "text/plain": [
       "∞"
      ]
     },
     "metadata": {},
     "output_type": "display_data"
    },
    {
     "name": "stdout",
     "output_type": "stream",
     "text": [
      "DIFF\n"
     ]
    },
    {
     "data": {
      "text/latex": [
       "$\\displaystyle \\text{NaN}$"
      ],
      "text/plain": [
       "nan"
      ]
     },
     "metadata": {},
     "output_type": "display_data"
    },
    {
     "name": "stdout",
     "output_type": "stream",
     "text": [
      "~~~\n",
      "\tsol2\n",
      "Incomp - on final\n"
     ]
    },
    {
     "data": {
      "image/png": "[encoded data removed]",
      "text/latex": [
       "$\\displaystyle - \\frac{l r^{l} \\left(l + 1\\right) \\left(192 \\left(\\beta^{2}\\right)^{3} \\gamma \\rho l^{3} + 1440 \\left(\\beta^{2}\\right)^{3} \\gamma \\rho l^{2} + 3408 \\left(\\beta^{2}\\right)^{3} \\gamma \\rho l + 2520 \\left(\\beta^{2}\\right)^{3} \\gamma \\rho - 48 \\left(\\beta^{2}\\right)^{2} \\gamma \\omega^{2} \\rho l^{2} r^{2} - 288 \\left(\\beta^{2}\\right)^{2} \\gamma \\omega^{2} \\rho l r^{2} - 420 \\left(\\beta^{2}\\right)^{2} \\gamma \\omega^{2} \\rho r^{2} - 96 \\left(\\beta^{2}\\right)^{2} \\mu \\omega^{2} l^{3} - 672 \\left(\\beta^{2}\\right)^{2} \\mu \\omega^{2} l^{2} - 1416 \\left(\\beta^{2}\\right)^{2} \\mu \\omega^{2} l - 840 \\left(\\beta^{2}\\right)^{2} \\mu \\omega^{2} + 6 \\beta^{2} \\gamma \\left(\\omega^{2}\\right)^{2} \\rho l r^{4} + 21 \\beta^{2} \\gamma \\left(\\omega^{2}\\right)^{2} \\rho r^{4} + 12 \\beta^{2} \\mu \\left(\\omega^{2}\\right)^{2} l^{2} r^{2} + 78 \\beta^{2} \\mu \\left(\\omega^{2}\\right)^{2} l r^{2} + 126 \\beta^{2} \\mu \\left(\\omega^{2}\\right)^{2} r^{2} - 2 \\mu \\left(\\omega^{2}\\right)^{3} l r^{4} - 4 \\mu \\left(\\omega^{2}\\right)^{3} r^{4}\\right)}{24 \\left(\\beta^{2}\\right)^{2} \\omega^{2} \\cdot \\left(2 l + 3\\right) \\left(2 l + 5\\right) \\left(2 l + 7\\right)}$"
      ],
      "text/plain": [
       "    l         ⎛          3              3              3              2       \n",
       "-l⋅r ⋅(l + 1)⋅⎝192⋅\\beta² ⋅\\gamma⋅\\rho⋅l  + 1440⋅\\beta² ⋅\\gamma⋅\\rho⋅l  + 3408\n",
       "──────────────────────────────────────────────────────────────────────────────\n",
       "                                                                              \n",
       "                                                                              \n",
       "\n",
       "       3                            3                        2                \n",
       "⋅\\beta² ⋅\\gamma⋅\\rho⋅l + 2520⋅\\beta² ⋅\\gamma⋅\\rho - 48⋅\\beta² ⋅\\gamma⋅\\omega²⋅\n",
       "──────────────────────────────────────────────────────────────────────────────\n",
       "                                                                              \n",
       "                                                                              \n",
       "\n",
       "      2  2             2                        2             2               \n",
       "\\rho⋅l ⋅r  - 288⋅\\beta² ⋅\\gamma⋅\\omega²⋅\\rho⋅l⋅r  - 420⋅\\beta² ⋅\\gamma⋅\\omega²\n",
       "──────────────────────────────────────────────────────────────────────────────\n",
       "                                                                              \n",
       "                                                                              \n",
       "\n",
       "       2            2              3             2              2             \n",
       "⋅\\rho⋅r  - 96⋅\\beta² ⋅\\mu⋅\\omega²⋅l  - 672⋅\\beta² ⋅\\mu⋅\\omega²⋅l  - 1416⋅\\beta\n",
       "──────────────────────────────────────────────────────────────────────────────\n",
       "                                2                                             \n",
       "                       24⋅\\beta² ⋅\\omega²⋅(2⋅l + 3)⋅(2⋅l + 5)⋅(2⋅l + 7)       \n",
       "\n",
       " 2                           2                                      2         \n",
       "² ⋅\\mu⋅\\omega²⋅l - 840⋅\\beta² ⋅\\mu⋅\\omega² + 6⋅\\beta²⋅\\gamma⋅\\omega² ⋅\\rho⋅l⋅r\n",
       "──────────────────────────────────────────────────────────────────────────────\n",
       "                                                                              \n",
       "                                                                              \n",
       "\n",
       "4                           2       4                        2  2  2          \n",
       "  + 21⋅\\beta²⋅\\gamma⋅\\omega² ⋅\\rho⋅r  + 12⋅\\beta²⋅\\mu⋅\\omega² ⋅l ⋅r  + 78⋅\\bet\n",
       "──────────────────────────────────────────────────────────────────────────────\n",
       "                                                                              \n",
       "                                                                              \n",
       "\n",
       "              2    2                         2  2                3    4       \n",
       "a²⋅\\mu⋅\\omega² ⋅l⋅r  + 126⋅\\beta²⋅\\mu⋅\\omega² ⋅r  - 2⋅\\mu⋅\\omega² ⋅l⋅r  - 4⋅\\m\n",
       "──────────────────────────────────────────────────────────────────────────────\n",
       "                                                                              \n",
       "                                                                              \n",
       "\n",
       "         3  4⎞ \n",
       "u⋅\\omega² ⋅r ⎠ \n",
       "───────────────\n",
       "               \n",
       "               "
      ]
     },
     "metadata": {},
     "output_type": "display_data"
    },
    {
     "name": "stdout",
     "output_type": "stream",
     "text": [
      "Incomp - on initk\n"
     ]
    },
    {
     "data": {
      "image/png": "[encoded data removed]",
      "text/latex": [
       "$\\displaystyle - \\frac{l r^{l} \\left(l + 1\\right) \\left(192 \\left(\\beta^{2}\\right)^{3} \\gamma \\rho l^{3} + 1440 \\left(\\beta^{2}\\right)^{3} \\gamma \\rho l^{2} + 3408 \\left(\\beta^{2}\\right)^{3} \\gamma \\rho l + 2520 \\left(\\beta^{2}\\right)^{3} \\gamma \\rho - 48 \\left(\\beta^{2}\\right)^{2} \\gamma \\omega^{2} \\rho l^{2} r^{2} - 288 \\left(\\beta^{2}\\right)^{2} \\gamma \\omega^{2} \\rho l r^{2} - 420 \\left(\\beta^{2}\\right)^{2} \\gamma \\omega^{2} \\rho r^{2} - 96 \\left(\\beta^{2}\\right)^{2} \\mu \\omega^{2} l^{3} - 672 \\left(\\beta^{2}\\right)^{2} \\mu \\omega^{2} l^{2} - 1416 \\left(\\beta^{2}\\right)^{2} \\mu \\omega^{2} l - 840 \\left(\\beta^{2}\\right)^{2} \\mu \\omega^{2} + 6 \\beta^{2} \\gamma \\left(\\omega^{2}\\right)^{2} \\rho l r^{4} + 21 \\beta^{2} \\gamma \\left(\\omega^{2}\\right)^{2} \\rho r^{4} + 12 \\beta^{2} \\mu \\left(\\omega^{2}\\right)^{2} l^{2} r^{2} + 78 \\beta^{2} \\mu \\left(\\omega^{2}\\right)^{2} l r^{2} + 126 \\beta^{2} \\mu \\left(\\omega^{2}\\right)^{2} r^{2} - 2 \\mu \\left(\\omega^{2}\\right)^{3} l r^{4} - 4 \\mu \\left(\\omega^{2}\\right)^{3} r^{4}\\right)}{24 \\left(\\beta^{2}\\right)^{2} \\omega^{2} \\cdot \\left(2 l + 3\\right) \\left(2 l + 5\\right) \\left(2 l + 7\\right)}$"
      ],
      "text/plain": [
       "    l         ⎛          3              3              3              2       \n",
       "-l⋅r ⋅(l + 1)⋅⎝192⋅\\beta² ⋅\\gamma⋅\\rho⋅l  + 1440⋅\\beta² ⋅\\gamma⋅\\rho⋅l  + 3408\n",
       "──────────────────────────────────────────────────────────────────────────────\n",
       "                                                                              \n",
       "                                                                              \n",
       "\n",
       "       3                            3                        2                \n",
       "⋅\\beta² ⋅\\gamma⋅\\rho⋅l + 2520⋅\\beta² ⋅\\gamma⋅\\rho - 48⋅\\beta² ⋅\\gamma⋅\\omega²⋅\n",
       "──────────────────────────────────────────────────────────────────────────────\n",
       "                                                                              \n",
       "                                                                              \n",
       "\n",
       "      2  2             2                        2             2               \n",
       "\\rho⋅l ⋅r  - 288⋅\\beta² ⋅\\gamma⋅\\omega²⋅\\rho⋅l⋅r  - 420⋅\\beta² ⋅\\gamma⋅\\omega²\n",
       "──────────────────────────────────────────────────────────────────────────────\n",
       "                                                                              \n",
       "                                                                              \n",
       "\n",
       "       2            2              3             2              2             \n",
       "⋅\\rho⋅r  - 96⋅\\beta² ⋅\\mu⋅\\omega²⋅l  - 672⋅\\beta² ⋅\\mu⋅\\omega²⋅l  - 1416⋅\\beta\n",
       "──────────────────────────────────────────────────────────────────────────────\n",
       "                                2                                             \n",
       "                       24⋅\\beta² ⋅\\omega²⋅(2⋅l + 3)⋅(2⋅l + 5)⋅(2⋅l + 7)       \n",
       "\n",
       " 2                           2                                      2         \n",
       "² ⋅\\mu⋅\\omega²⋅l - 840⋅\\beta² ⋅\\mu⋅\\omega² + 6⋅\\beta²⋅\\gamma⋅\\omega² ⋅\\rho⋅l⋅r\n",
       "──────────────────────────────────────────────────────────────────────────────\n",
       "                                                                              \n",
       "                                                                              \n",
       "\n",
       "4                           2       4                        2  2  2          \n",
       "  + 21⋅\\beta²⋅\\gamma⋅\\omega² ⋅\\rho⋅r  + 12⋅\\beta²⋅\\mu⋅\\omega² ⋅l ⋅r  + 78⋅\\bet\n",
       "──────────────────────────────────────────────────────────────────────────────\n",
       "                                                                              \n",
       "                                                                              \n",
       "\n",
       "              2    2                         2  2                3    4       \n",
       "a²⋅\\mu⋅\\omega² ⋅l⋅r  + 126⋅\\beta²⋅\\mu⋅\\omega² ⋅r  - 2⋅\\mu⋅\\omega² ⋅l⋅r  - 4⋅\\m\n",
       "──────────────────────────────────────────────────────────────────────────────\n",
       "                                                                              \n",
       "                                                                              \n",
       "\n",
       "         3  4⎞ \n",
       "u⋅\\omega² ⋅r ⎠ \n",
       "───────────────\n",
       "               \n",
       "               "
      ]
     },
     "metadata": {},
     "output_type": "display_data"
    },
    {
     "name": "stdout",
     "output_type": "stream",
     "text": [
      "DIFF\n"
     ]
    },
    {
     "data": {
      "image/png": "[encoded data removed]",
      "text/latex": [
       "$\\displaystyle 0$"
      ],
      "text/plain": [
       "0"
      ]
     },
     "metadata": {},
     "output_type": "display_data"
    },
    {
     "name": "stdout",
     "output_type": "stream",
     "text": [
      "~~~\n",
      "\tsol3\n",
      "Incomp - on final\n"
     ]
    },
    {
     "data": {
      "image/png": "[encoded data removed]",
      "text/latex": [
       "$\\displaystyle 2 \\mu l r^{l - 2} \\left(l - 1\\right)$"
      ],
      "text/plain": [
       "         l - 2        \n",
       "2⋅\\mu⋅l⋅r     ⋅(l - 1)"
      ]
     },
     "metadata": {},
     "output_type": "display_data"
    },
    {
     "name": "stdout",
     "output_type": "stream",
     "text": [
      "Incomp - on initk\n"
     ]
    },
    {
     "data": {
      "image/png": "[encoded data removed]",
      "text/latex": [
       "$\\displaystyle 2 \\mu l r^{l - 2} \\left(l - 1\\right)$"
      ],
      "text/plain": [
       "         l - 2        \n",
       "2⋅\\mu⋅l⋅r     ⋅(l - 1)"
      ]
     },
     "metadata": {},
     "output_type": "display_data"
    },
    {
     "name": "stdout",
     "output_type": "stream",
     "text": [
      "DIFF\n"
     ]
    },
    {
     "data": {
      "image/png": "[encoded data removed]",
      "text/latex": [
       "$\\displaystyle 0$"
      ],
      "text/plain": [
       "0"
      ]
     },
     "metadata": {},
     "output_type": "display_data"
    },
    {
     "name": "stdout",
     "output_type": "stream",
     "text": [
      "~~~\n",
      "\n",
      "\n",
      "\n",
      "\n"
     ]
    },
    {
     "data": {
      "text/plain": [
       "'$y_{3}$'"
      ]
     },
     "metadata": {},
     "output_type": "display_data"
    },
    {
     "name": "stdout",
     "output_type": "stream",
     "text": [
      "\tsol1\n",
      "Incomp - on final\n"
     ]
    },
    {
     "data": {
      "image/png": "[encoded data removed]",
      "text/latex": [
       "$\\displaystyle \\frac{r^{l + 1} \\left(\\gamma l + 3 \\gamma + \\omega^{2}\\right)}{2 \\gamma \\left(2 l + 3\\right)}$"
      ],
      "text/plain": [
       " l + 1                                \n",
       "r     ⋅(\\gamma⋅l + 3⋅\\gamma + \\omega²)\n",
       "──────────────────────────────────────\n",
       "          2⋅\\gamma⋅(2⋅l + 3)          "
      ]
     },
     "metadata": {},
     "output_type": "display_data"
    },
    {
     "name": "stdout",
     "output_type": "stream",
     "text": [
      "Incomp - on initk\n"
     ]
    },
    {
     "data": {
      "image/png": "[encoded data removed]",
      "text/latex": [
       "$\\displaystyle \\frac{r^{l + 1} \\left(\\gamma l + 3 \\gamma + \\omega^{2}\\right)}{2 \\gamma \\left(2 l + 3\\right)}$"
      ],
      "text/plain": [
       " l + 1                                \n",
       "r     ⋅(\\gamma⋅l + 3⋅\\gamma + \\omega²)\n",
       "──────────────────────────────────────\n",
       "          2⋅\\gamma⋅(2⋅l + 3)          "
      ]
     },
     "metadata": {},
     "output_type": "display_data"
    },
    {
     "name": "stdout",
     "output_type": "stream",
     "text": [
      "DIFF\n"
     ]
    },
    {
     "data": {
      "image/png": "[encoded data removed]",
      "text/latex": [
       "$\\displaystyle 0$"
      ],
      "text/plain": [
       "0"
      ]
     },
     "metadata": {},
     "output_type": "display_data"
    },
    {
     "name": "stdout",
     "output_type": "stream",
     "text": [
      "~~~\n",
      "\tsol2\n",
      "Incomp - on final\n"
     ]
    },
    {
     "data": {
      "image/png": "[encoded data removed]",
      "text/latex": [
       "$\\displaystyle \\frac{r^{l + 1} \\cdot \\left(48 \\left(\\beta^{2}\\right)^{2} l^{3} + 432 \\left(\\beta^{2}\\right)^{2} l^{2} + 1284 \\left(\\beta^{2}\\right)^{2} l + 1260 \\left(\\beta^{2}\\right)^{2} - 6 \\beta^{2} \\omega^{2} l^{2} r^{2} - 51 \\beta^{2} \\omega^{2} l r^{2} - 105 \\beta^{2} \\omega^{2} r^{2} + \\left(\\omega^{2}\\right)^{2} l r^{4} + 4 \\left(\\omega^{2}\\right)^{2} r^{4}\\right)}{24 \\left(\\beta^{2}\\right)^{2} \\cdot \\left(2 l + 3\\right) \\left(2 l + 5\\right) \\left(2 l + 7\\right)}$"
      ],
      "text/plain": [
       " l + 1 ⎛         2  3             2  2              2                2        \n",
       "r     ⋅⎝48⋅\\beta² ⋅l  + 432⋅\\beta² ⋅l  + 1284⋅\\beta² ⋅l + 1260⋅\\beta²  - 6⋅\\be\n",
       "──────────────────────────────────────────────────────────────────────────────\n",
       "                                                                              \n",
       "                                                                     24⋅\\beta²\n",
       "\n",
       "             2  2                        2                       2          2 \n",
       "ta²⋅\\omega²⋅l ⋅r  - 51⋅\\beta²⋅\\omega²⋅l⋅r  - 105⋅\\beta²⋅\\omega²⋅r  + \\omega² ⋅\n",
       "──────────────────────────────────────────────────────────────────────────────\n",
       "2                                                                             \n",
       " ⋅(2⋅l + 3)⋅(2⋅l + 5)⋅(2⋅l + 7)                                               \n",
       "\n",
       "   4            2  4⎞\n",
       "l⋅r  + 4⋅\\omega² ⋅r ⎠\n",
       "─────────────────────\n",
       "                     \n",
       "                     "
      ]
     },
     "metadata": {},
     "output_type": "display_data"
    },
    {
     "name": "stdout",
     "output_type": "stream",
     "text": [
      "Incomp - on initk\n"
     ]
    },
    {
     "data": {
      "image/png": "[encoded data removed]",
      "text/latex": [
       "$\\displaystyle \\frac{r^{l + 1} \\cdot \\left(48 \\left(\\beta^{2}\\right)^{2} l^{3} + 432 \\left(\\beta^{2}\\right)^{2} l^{2} + 1284 \\left(\\beta^{2}\\right)^{2} l + 1260 \\left(\\beta^{2}\\right)^{2} - 6 \\beta^{2} \\omega^{2} l^{2} r^{2} - 51 \\beta^{2} \\omega^{2} l r^{2} - 105 \\beta^{2} \\omega^{2} r^{2} + \\left(\\omega^{2}\\right)^{2} l r^{4} + 4 \\left(\\omega^{2}\\right)^{2} r^{4}\\right)}{24 \\left(\\beta^{2}\\right)^{2} \\cdot \\left(2 l + 3\\right) \\left(2 l + 5\\right) \\left(2 l + 7\\right)}$"
      ],
      "text/plain": [
       " l + 1 ⎛         2  3             2  2              2                2        \n",
       "r     ⋅⎝48⋅\\beta² ⋅l  + 432⋅\\beta² ⋅l  + 1284⋅\\beta² ⋅l + 1260⋅\\beta²  - 6⋅\\be\n",
       "──────────────────────────────────────────────────────────────────────────────\n",
       "                                                                              \n",
       "                                                                     24⋅\\beta²\n",
       "\n",
       "             2  2                        2                       2          2 \n",
       "ta²⋅\\omega²⋅l ⋅r  - 51⋅\\beta²⋅\\omega²⋅l⋅r  - 105⋅\\beta²⋅\\omega²⋅r  + \\omega² ⋅\n",
       "──────────────────────────────────────────────────────────────────────────────\n",
       "2                                                                             \n",
       " ⋅(2⋅l + 3)⋅(2⋅l + 5)⋅(2⋅l + 7)                                               \n",
       "\n",
       "   4            2  4⎞\n",
       "l⋅r  + 4⋅\\omega² ⋅r ⎠\n",
       "─────────────────────\n",
       "                     \n",
       "                     "
      ]
     },
     "metadata": {},
     "output_type": "display_data"
    },
    {
     "name": "stdout",
     "output_type": "stream",
     "text": [
      "DIFF\n"
     ]
    },
    {
     "data": {
      "image/png": "[encoded data removed]",
      "text/latex": [
       "$\\displaystyle 0$"
      ],
      "text/plain": [
       "0"
      ]
     },
     "metadata": {},
     "output_type": "display_data"
    },
    {
     "name": "stdout",
     "output_type": "stream",
     "text": [
      "~~~\n",
      "\tsol3\n",
      "Incomp - on final\n"
     ]
    },
    {
     "data": {
      "image/png": "[encoded data removed]",
      "text/latex": [
       "$\\displaystyle r^{l - 1}$"
      ],
      "text/plain": [
       " l - 1\n",
       "r     "
      ]
     },
     "metadata": {},
     "output_type": "display_data"
    },
    {
     "name": "stdout",
     "output_type": "stream",
     "text": [
      "Incomp - on initk\n"
     ]
    },
    {
     "data": {
      "image/png": "[encoded data removed]",
      "text/latex": [
       "$\\displaystyle r^{l - 1}$"
      ],
      "text/plain": [
       " l - 1\n",
       "r     "
      ]
     },
     "metadata": {},
     "output_type": "display_data"
    },
    {
     "name": "stdout",
     "output_type": "stream",
     "text": [
      "DIFF\n"
     ]
    },
    {
     "data": {
      "image/png": "[encoded data removed]",
      "text/latex": [
       "$\\displaystyle 0$"
      ],
      "text/plain": [
       "0"
      ]
     },
     "metadata": {},
     "output_type": "display_data"
    },
    {
     "name": "stdout",
     "output_type": "stream",
     "text": [
      "~~~\n",
      "\n",
      "\n",
      "\n",
      "\n"
     ]
    },
    {
     "data": {
      "text/plain": [
       "'$y_{4}$'"
      ]
     },
     "metadata": {},
     "output_type": "display_data"
    },
    {
     "name": "stdout",
     "output_type": "stream",
     "text": [
      "\tsol1\n",
      "Incomp - on final\n"
     ]
    },
    {
     "data": {
      "image/png": "[encoded data removed]",
      "text/latex": [
       "$\\displaystyle \\frac{\\mu r^{l} \\left(\\gamma l^{2} + 2 \\gamma l + \\omega^{2} l + \\omega^{2}\\right)}{\\gamma \\left(2 l + 3\\right)}$"
      ],
      "text/plain": [
       "     l ⎛        2                                   ⎞\n",
       "\\mu⋅r ⋅⎝\\gamma⋅l  + 2⋅\\gamma⋅l + \\omega²⋅l + \\omega²⎠\n",
       "─────────────────────────────────────────────────────\n",
       "                   \\gamma⋅(2⋅l + 3)                  "
      ]
     },
     "metadata": {},
     "output_type": "display_data"
    },
    {
     "name": "stdout",
     "output_type": "stream",
     "text": [
      "Incomp - on initk\n"
     ]
    },
    {
     "data": {
      "image/png": "[encoded data removed]",
      "text/latex": [
       "$\\displaystyle \\frac{\\mu r^{l} \\left(\\gamma l^{2} + 2 \\gamma l + \\omega^{2} l + \\omega^{2}\\right)}{\\gamma \\left(2 l + 3\\right)}$"
      ],
      "text/plain": [
       "     l ⎛        2                                   ⎞\n",
       "\\mu⋅r ⋅⎝\\gamma⋅l  + 2⋅\\gamma⋅l + \\omega²⋅l + \\omega²⎠\n",
       "─────────────────────────────────────────────────────\n",
       "                   \\gamma⋅(2⋅l + 3)                  "
      ]
     },
     "metadata": {},
     "output_type": "display_data"
    },
    {
     "name": "stdout",
     "output_type": "stream",
     "text": [
      "DIFF\n"
     ]
    },
    {
     "data": {
      "image/png": "[encoded data removed]",
      "text/latex": [
       "$\\displaystyle 0$"
      ],
      "text/plain": [
       "0"
      ]
     },
     "metadata": {},
     "output_type": "display_data"
    },
    {
     "name": "stdout",
     "output_type": "stream",
     "text": [
      "~~~\n",
      "\tsol2\n",
      "Incomp - on final\n"
     ]
    },
    {
     "data": {
      "image/png": "[encoded data removed]",
      "text/latex": [
       "$\\displaystyle \\frac{\\mu r^{l} \\left(96 \\left(\\beta^{2}\\right)^{2} l^{4} + 768 \\left(\\beta^{2}\\right)^{2} l^{3} + 1992 \\left(\\beta^{2}\\right)^{2} l^{2} + 1680 \\left(\\beta^{2}\\right)^{2} l - 12 \\beta^{2} \\omega^{2} l^{3} r^{2} - 90 \\beta^{2} \\omega^{2} l^{2} r^{2} - 228 \\beta^{2} \\omega^{2} l r^{2} - 210 \\beta^{2} \\omega^{2} r^{2} + 2 \\left(\\omega^{2}\\right)^{2} l^{2} r^{4} + 6 \\left(\\omega^{2}\\right)^{2} l r^{4} + 13 \\left(\\omega^{2}\\right)^{2} r^{4}\\right)}{24 \\left(\\beta^{2}\\right)^{2} \\cdot \\left(2 l + 3\\right) \\left(2 l + 5\\right) \\left(2 l + 7\\right)}$"
      ],
      "text/plain": [
       "     l ⎛         2  4             2  3              2  2              2       \n",
       "\\mu⋅r ⋅⎝96⋅\\beta² ⋅l  + 768⋅\\beta² ⋅l  + 1992⋅\\beta² ⋅l  + 1680⋅\\beta² ⋅l - 12\n",
       "──────────────────────────────────────────────────────────────────────────────\n",
       "                                                                              \n",
       "                                                                              \n",
       "\n",
       "                 3  2                      2  2                         2     \n",
       "⋅\\beta²⋅\\omega²⋅l ⋅r  - 90⋅\\beta²⋅\\omega²⋅l ⋅r  - 228⋅\\beta²⋅\\omega²⋅l⋅r  - 21\n",
       "──────────────────────────────────────────────────────────────────────────────\n",
       "                          2                                                   \n",
       "                 24⋅\\beta² ⋅(2⋅l + 3)⋅(2⋅l + 5)⋅(2⋅l + 7)                     \n",
       "\n",
       "                  2            2  2  4            2    4             2  4⎞\n",
       "0⋅\\beta²⋅\\omega²⋅r  + 2⋅\\omega² ⋅l ⋅r  + 6⋅\\omega² ⋅l⋅r  + 13⋅\\omega² ⋅r ⎠\n",
       "──────────────────────────────────────────────────────────────────────────\n",
       "                                                                          \n",
       "                                                                          "
      ]
     },
     "metadata": {},
     "output_type": "display_data"
    },
    {
     "name": "stdout",
     "output_type": "stream",
     "text": [
      "Incomp - on initk\n"
     ]
    },
    {
     "data": {
      "image/png": "[encoded data removed]",
      "text/latex": [
       "$\\displaystyle \\frac{\\mu r^{l} \\left(96 \\left(\\beta^{2}\\right)^{2} l^{4} + 768 \\left(\\beta^{2}\\right)^{2} l^{3} + 1992 \\left(\\beta^{2}\\right)^{2} l^{2} + 1680 \\left(\\beta^{2}\\right)^{2} l - 12 \\beta^{2} \\omega^{2} l^{3} r^{2} - 90 \\beta^{2} \\omega^{2} l^{2} r^{2} - 228 \\beta^{2} \\omega^{2} l r^{2} - 210 \\beta^{2} \\omega^{2} r^{2} + 2 \\left(\\omega^{2}\\right)^{2} l^{2} r^{4} + 6 \\left(\\omega^{2}\\right)^{2} l r^{4} + 13 \\left(\\omega^{2}\\right)^{2} r^{4}\\right)}{24 \\left(\\beta^{2}\\right)^{2} \\cdot \\left(2 l + 3\\right) \\left(2 l + 5\\right) \\left(2 l + 7\\right)}$"
      ],
      "text/plain": [
       "     l ⎛         2  4             2  3              2  2              2       \n",
       "\\mu⋅r ⋅⎝96⋅\\beta² ⋅l  + 768⋅\\beta² ⋅l  + 1992⋅\\beta² ⋅l  + 1680⋅\\beta² ⋅l - 12\n",
       "──────────────────────────────────────────────────────────────────────────────\n",
       "                                                                              \n",
       "                                                                              \n",
       "\n",
       "                 3  2                      2  2                         2     \n",
       "⋅\\beta²⋅\\omega²⋅l ⋅r  - 90⋅\\beta²⋅\\omega²⋅l ⋅r  - 228⋅\\beta²⋅\\omega²⋅l⋅r  - 21\n",
       "──────────────────────────────────────────────────────────────────────────────\n",
       "                          2                                                   \n",
       "                 24⋅\\beta² ⋅(2⋅l + 3)⋅(2⋅l + 5)⋅(2⋅l + 7)                     \n",
       "\n",
       "                  2            2  2  4            2    4             2  4⎞\n",
       "0⋅\\beta²⋅\\omega²⋅r  + 2⋅\\omega² ⋅l ⋅r  + 6⋅\\omega² ⋅l⋅r  + 13⋅\\omega² ⋅r ⎠\n",
       "──────────────────────────────────────────────────────────────────────────\n",
       "                                                                          \n",
       "                                                                          "
      ]
     },
     "metadata": {},
     "output_type": "display_data"
    },
    {
     "name": "stdout",
     "output_type": "stream",
     "text": [
      "DIFF\n"
     ]
    },
    {
     "data": {
      "image/png": "[encoded data removed]",
      "text/latex": [
       "$\\displaystyle 0$"
      ],
      "text/plain": [
       "0"
      ]
     },
     "metadata": {},
     "output_type": "display_data"
    },
    {
     "name": "stdout",
     "output_type": "stream",
     "text": [
      "~~~\n",
      "\tsol3\n",
      "Incomp - on final\n"
     ]
    },
    {
     "data": {
      "image/png": "[encoded data removed]",
      "text/latex": [
       "$\\displaystyle 2 \\mu r^{l - 2} \\left(l - 1\\right)$"
      ],
      "text/plain": [
       "       l - 2        \n",
       "2⋅\\mu⋅r     ⋅(l - 1)"
      ]
     },
     "metadata": {},
     "output_type": "display_data"
    },
    {
     "name": "stdout",
     "output_type": "stream",
     "text": [
      "Incomp - on initk\n"
     ]
    },
    {
     "data": {
      "image/png": "[encoded data removed]",
      "text/latex": [
       "$\\displaystyle 2 \\mu r^{l - 2} \\left(l - 1\\right)$"
      ],
      "text/plain": [
       "       l - 2        \n",
       "2⋅\\mu⋅r     ⋅(l - 1)"
      ]
     },
     "metadata": {},
     "output_type": "display_data"
    },
    {
     "name": "stdout",
     "output_type": "stream",
     "text": [
      "DIFF\n"
     ]
    },
    {
     "data": {
      "image/png": "[encoded data removed]",
      "text/latex": [
       "$\\displaystyle 0$"
      ],
      "text/plain": [
       "0"
      ]
     },
     "metadata": {},
     "output_type": "display_data"
    },
    {
     "name": "stdout",
     "output_type": "stream",
     "text": [
      "~~~\n",
      "\n",
      "\n",
      "\n",
      "\n"
     ]
    },
    {
     "data": {
      "text/plain": [
       "'$y_{5}$'"
      ]
     },
     "metadata": {},
     "output_type": "display_data"
    },
    {
     "name": "stdout",
     "output_type": "stream",
     "text": [
      "\tsol1\n",
      "Incomp - on final\n"
     ]
    },
    {
     "data": {
      "image/png": "[encoded data removed]",
      "text/latex": [
       "$\\displaystyle -\\infty$"
      ],
      "text/plain": [
       "-∞"
      ]
     },
     "metadata": {},
     "output_type": "display_data"
    },
    {
     "name": "stdout",
     "output_type": "stream",
     "text": [
      "Incomp - on initk\n"
     ]
    },
    {
     "data": {
      "image/png": "[encoded data removed]",
      "text/latex": [
       "$\\displaystyle -\\infty$"
      ],
      "text/plain": [
       "-∞"
      ]
     },
     "metadata": {},
     "output_type": "display_data"
    },
    {
     "name": "stdout",
     "output_type": "stream",
     "text": [
      "DIFF\n"
     ]
    },
    {
     "data": {
      "text/latex": [
       "$\\displaystyle \\text{NaN}$"
      ],
      "text/plain": [
       "nan"
      ]
     },
     "metadata": {},
     "output_type": "display_data"
    },
    {
     "name": "stdout",
     "output_type": "stream",
     "text": [
      "~~~\n",
      "\tsol2\n",
      "Incomp - on final\n"
     ]
    },
    {
     "data": {
      "image/png": "[encoded data removed]",
      "text/latex": [
       "$\\displaystyle \\frac{\\beta^{2} r^{l} \\left(l + 1\\right) \\left(\\gamma l - \\omega^{2}\\right)}{\\omega^{2}}$"
      ],
      "text/plain": [
       "        l                             \n",
       "\\beta²⋅r ⋅(l + 1)⋅(\\gamma⋅l - \\omega²)\n",
       "──────────────────────────────────────\n",
       "               \\omega²                "
      ]
     },
     "metadata": {},
     "output_type": "display_data"
    },
    {
     "name": "stdout",
     "output_type": "stream",
     "text": [
      "Incomp - on initk\n"
     ]
    },
    {
     "data": {
      "image/png": "[encoded data removed]",
      "text/latex": [
       "$\\displaystyle \\frac{\\beta^{2} r^{l} \\left(l + 1\\right) \\left(\\gamma l - \\omega^{2}\\right)}{\\omega^{2}}$"
      ],
      "text/plain": [
       "        l                             \n",
       "\\beta²⋅r ⋅(l + 1)⋅(\\gamma⋅l - \\omega²)\n",
       "──────────────────────────────────────\n",
       "               \\omega²                "
      ]
     },
     "metadata": {},
     "output_type": "display_data"
    },
    {
     "name": "stdout",
     "output_type": "stream",
     "text": [
      "DIFF\n"
     ]
    },
    {
     "data": {
      "image/png": "[encoded data removed]",
      "text/latex": [
       "$\\displaystyle 0$"
      ],
      "text/plain": [
       "0"
      ]
     },
     "metadata": {},
     "output_type": "display_data"
    },
    {
     "name": "stdout",
     "output_type": "stream",
     "text": [
      "~~~\n",
      "\tsol3\n",
      "Incomp - on final\n"
     ]
    },
    {
     "data": {
      "image/png": "[encoded data removed]",
      "text/latex": [
       "$\\displaystyle r^{l} \\left(\\gamma l - \\omega^{2}\\right)$"
      ],
      "text/plain": [
       " l                     \n",
       "r ⋅(\\gamma⋅l - \\omega²)"
      ]
     },
     "metadata": {},
     "output_type": "display_data"
    },
    {
     "name": "stdout",
     "output_type": "stream",
     "text": [
      "Incomp - on initk\n"
     ]
    },
    {
     "data": {
      "image/png": "[encoded data removed]",
      "text/latex": [
       "$\\displaystyle r^{l} \\left(\\gamma l - \\omega^{2}\\right)$"
      ],
      "text/plain": [
       " l                     \n",
       "r ⋅(\\gamma⋅l - \\omega²)"
      ]
     },
     "metadata": {},
     "output_type": "display_data"
    },
    {
     "name": "stdout",
     "output_type": "stream",
     "text": [
      "DIFF\n"
     ]
    },
    {
     "data": {
      "image/png": "[encoded data removed]",
      "text/latex": [
       "$\\displaystyle 0$"
      ],
      "text/plain": [
       "0"
      ]
     },
     "metadata": {},
     "output_type": "display_data"
    },
    {
     "name": "stdout",
     "output_type": "stream",
     "text": [
      "~~~\n",
      "\n",
      "\n",
      "\n",
      "\n"
     ]
    },
    {
     "data": {
      "text/plain": [
       "'$y_{6}$'"
      ]
     },
     "metadata": {},
     "output_type": "display_data"
    },
    {
     "name": "stdout",
     "output_type": "stream",
     "text": [
      "\tsol1\n",
      "Incomp - on final\n"
     ]
    },
    {
     "data": {
      "image/png": "[encoded data removed]",
      "text/latex": [
       "$\\displaystyle - \\infty \\left(l + 1\\right)$"
      ],
      "text/plain": [
       "-∞⋅(l + 1)"
      ]
     },
     "metadata": {},
     "output_type": "display_data"
    },
    {
     "name": "stdout",
     "output_type": "stream",
     "text": [
      "Incomp - on initk\n"
     ]
    },
    {
     "data": {
      "image/png": "[encoded data removed]",
      "text/latex": [
       "$\\displaystyle - \\infty \\left(l + 1\\right)$"
      ],
      "text/plain": [
       "-∞⋅(l + 1)"
      ]
     },
     "metadata": {},
     "output_type": "display_data"
    },
    {
     "name": "stdout",
     "output_type": "stream",
     "text": [
      "DIFF\n"
     ]
    },
    {
     "data": {
      "text/latex": [
       "$\\displaystyle \\text{NaN}$"
      ],
      "text/plain": [
       "nan"
      ]
     },
     "metadata": {},
     "output_type": "display_data"
    },
    {
     "name": "stdout",
     "output_type": "stream",
     "text": [
      "~~~\n",
      "\tsol2\n",
      "Incomp - on final\n"
     ]
    },
    {
     "data": {
      "image/png": "[encoded data removed]",
      "text/latex": [
       "$\\displaystyle - \\frac{r^{l - 1} \\left(l + 1\\right) \\left(- 128 \\left(\\beta^{2}\\right)^{3} \\gamma l^{5} - 1024 \\left(\\beta^{2}\\right)^{3} \\gamma l^{4} - 2752 \\left(\\beta^{2}\\right)^{3} \\gamma l^{3} - 2816 \\left(\\beta^{2}\\right)^{3} \\gamma l^{2} - 840 \\left(\\beta^{2}\\right)^{3} \\gamma l + 128 \\left(\\beta^{2}\\right)^{3} \\omega^{2} l^{4} + 1024 \\left(\\beta^{2}\\right)^{3} \\omega^{2} l^{3} + 2752 \\left(\\beta^{2}\\right)^{3} \\omega^{2} l^{2} + 2816 \\left(\\beta^{2}\\right)^{3} \\omega^{2} l + 840 \\left(\\beta^{2}\\right)^{3} \\omega^{2} + 48 \\left(\\beta^{2}\\right)^{2} \\gamma \\omega^{2} l^{3} r^{2} + 288 \\left(\\beta^{2}\\right)^{2} \\gamma \\omega^{2} l^{2} r^{2} + 420 \\left(\\beta^{2}\\right)^{2} \\gamma \\omega^{2} l r^{2} - 6 \\beta^{2} \\gamma \\left(\\omega^{2}\\right)^{2} l^{2} r^{4} - 21 \\beta^{2} \\gamma \\left(\\omega^{2}\\right)^{2} l r^{4} + \\gamma \\left(\\omega^{2}\\right)^{3} l r^{6}\\right)}{8 \\left(\\beta^{2}\\right)^{2} \\omega^{2} \\cdot \\left(2 l + 3\\right) \\left(2 l + 5\\right) \\left(2 l + 7\\right)}$"
      ],
      "text/plain": [
       "  l - 1         ⎛            3         5              3         4             \n",
       "-r     ⋅(l + 1)⋅⎝- 128⋅\\beta² ⋅\\gamma⋅l  - 1024⋅\\beta² ⋅\\gamma⋅l  - 2752⋅\\beta\n",
       "──────────────────────────────────────────────────────────────────────────────\n",
       "                                                                              \n",
       "                                                                              \n",
       "\n",
       " 3         3              3         2             3                      3    \n",
       "² ⋅\\gamma⋅l  - 2816⋅\\beta² ⋅\\gamma⋅l  - 840⋅\\beta² ⋅\\gamma⋅l + 128⋅\\beta² ⋅\\om\n",
       "──────────────────────────────────────────────────────────────────────────────\n",
       "                                                                              \n",
       "                                                                              \n",
       "\n",
       "      4              3          3              3          2              3    \n",
       "ega²⋅l  + 1024⋅\\beta² ⋅\\omega²⋅l  + 2752⋅\\beta² ⋅\\omega²⋅l  + 2816⋅\\beta² ⋅\\om\n",
       "──────────────────────────────────────────────────────────────────────────────\n",
       "                                                        2                     \n",
       "                                                8⋅\\beta² ⋅\\omega²⋅(2⋅l + 3)⋅(2\n",
       "\n",
       "                   3                    2                 3  2             2  \n",
       "ega²⋅l + 840⋅\\beta² ⋅\\omega² + 48⋅\\beta² ⋅\\gamma⋅\\omega²⋅l ⋅r  + 288⋅\\beta² ⋅\\\n",
       "──────────────────────────────────────────────────────────────────────────────\n",
       "                                                                              \n",
       "⋅l + 5)⋅(2⋅l + 7)                                                             \n",
       "\n",
       "               2  2             2                   2                         \n",
       "gamma⋅\\omega²⋅l ⋅r  + 420⋅\\beta² ⋅\\gamma⋅\\omega²⋅l⋅r  - 6⋅\\beta²⋅\\gamma⋅\\omega\n",
       "──────────────────────────────────────────────────────────────────────────────\n",
       "                                                                              \n",
       "                                                                              \n",
       "\n",
       " 2  2  4                           2    4                 3    6⎞ \n",
       "² ⋅l ⋅r  - 21⋅\\beta²⋅\\gamma⋅\\omega² ⋅l⋅r  + \\gamma⋅\\omega² ⋅l⋅r ⎠ \n",
       "──────────────────────────────────────────────────────────────────\n",
       "                                                                  \n",
       "                                                                  "
      ]
     },
     "metadata": {},
     "output_type": "display_data"
    },
    {
     "name": "stdout",
     "output_type": "stream",
     "text": [
      "Incomp - on initk\n"
     ]
    },
    {
     "data": {
      "image/png": "[encoded data removed]",
      "text/latex": [
       "$\\displaystyle - \\frac{r^{l} \\left(l + 1\\right) \\left(- 128 \\left(\\beta^{2}\\right)^{3} \\gamma l^{5} - 1024 \\left(\\beta^{2}\\right)^{3} \\gamma l^{4} - 2752 \\left(\\beta^{2}\\right)^{3} \\gamma l^{3} - 2816 \\left(\\beta^{2}\\right)^{3} \\gamma l^{2} - 840 \\left(\\beta^{2}\\right)^{3} \\gamma l + 128 \\left(\\beta^{2}\\right)^{3} \\omega^{2} l^{4} + 1024 \\left(\\beta^{2}\\right)^{3} \\omega^{2} l^{3} + 2752 \\left(\\beta^{2}\\right)^{3} \\omega^{2} l^{2} + 2816 \\left(\\beta^{2}\\right)^{3} \\omega^{2} l + 840 \\left(\\beta^{2}\\right)^{3} \\omega^{2} + 48 \\left(\\beta^{2}\\right)^{2} \\gamma \\omega^{2} l^{3} r^{2} + 288 \\left(\\beta^{2}\\right)^{2} \\gamma \\omega^{2} l^{2} r^{2} + 420 \\left(\\beta^{2}\\right)^{2} \\gamma \\omega^{2} l r^{2} - 6 \\beta^{2} \\gamma \\left(\\omega^{2}\\right)^{2} l^{2} r^{4} - 21 \\beta^{2} \\gamma \\left(\\omega^{2}\\right)^{2} l r^{4} + \\gamma \\left(\\omega^{2}\\right)^{3} l r^{6}\\right)}{8 \\left(\\beta^{2}\\right)^{2} \\omega^{2} r \\left(2 l + 3\\right) \\left(2 l + 5\\right) \\left(2 l + 7\\right)}$"
      ],
      "text/plain": [
       "  l         ⎛            3         5              3         4              3  \n",
       "-r ⋅(l + 1)⋅⎝- 128⋅\\beta² ⋅\\gamma⋅l  - 1024⋅\\beta² ⋅\\gamma⋅l  - 2752⋅\\beta² ⋅\\\n",
       "──────────────────────────────────────────────────────────────────────────────\n",
       "                                                                              \n",
       "                                                                              \n",
       "\n",
       "       3              3         2             3                      3        \n",
       "gamma⋅l  - 2816⋅\\beta² ⋅\\gamma⋅l  - 840⋅\\beta² ⋅\\gamma⋅l + 128⋅\\beta² ⋅\\omega²\n",
       "──────────────────────────────────────────────────────────────────────────────\n",
       "                                                                              \n",
       "                                                                              \n",
       "\n",
       "  4              3          3              3          2              3        \n",
       "⋅l  + 1024⋅\\beta² ⋅\\omega²⋅l  + 2752⋅\\beta² ⋅\\omega²⋅l  + 2816⋅\\beta² ⋅\\omega²\n",
       "──────────────────────────────────────────────────────────────────────────────\n",
       "                                                     2                        \n",
       "                                             8⋅\\beta² ⋅\\omega²⋅r⋅(2⋅l + 3)⋅(2⋅\n",
       "\n",
       "               3                    2                 3  2             2      \n",
       "⋅l + 840⋅\\beta² ⋅\\omega² + 48⋅\\beta² ⋅\\gamma⋅\\omega²⋅l ⋅r  + 288⋅\\beta² ⋅\\gamm\n",
       "──────────────────────────────────────────────────────────────────────────────\n",
       "                                                                              \n",
       "l + 5)⋅(2⋅l + 7)                                                              \n",
       "\n",
       "           2  2             2                   2                          2  \n",
       "a⋅\\omega²⋅l ⋅r  + 420⋅\\beta² ⋅\\gamma⋅\\omega²⋅l⋅r  - 6⋅\\beta²⋅\\gamma⋅\\omega² ⋅l\n",
       "──────────────────────────────────────────────────────────────────────────────\n",
       "                                                                              \n",
       "                                                                              \n",
       "\n",
       "2  4                           2    4                 3    6⎞ \n",
       " ⋅r  - 21⋅\\beta²⋅\\gamma⋅\\omega² ⋅l⋅r  + \\gamma⋅\\omega² ⋅l⋅r ⎠ \n",
       "──────────────────────────────────────────────────────────────\n",
       "                                                              \n",
       "                                                              "
      ]
     },
     "metadata": {},
     "output_type": "display_data"
    },
    {
     "name": "stdout",
     "output_type": "stream",
     "text": [
      "DIFF\n"
     ]
    },
    {
     "data": {
      "image/png": "[encoded data removed]",
      "text/latex": [
       "$\\displaystyle 0$"
      ],
      "text/plain": [
       "0"
      ]
     },
     "metadata": {},
     "output_type": "display_data"
    },
    {
     "name": "stdout",
     "output_type": "stream",
     "text": [
      "~~~\n",
      "\tsol3\n",
      "Incomp - on final\n"
     ]
    },
    {
     "data": {
      "image/png": "[encoded data removed]",
      "text/latex": [
       "$\\displaystyle r^{l - 1} \\cdot \\left(2 \\gamma l^{2} - 2 \\gamma l - 2 \\omega^{2} l - \\omega^{2}\\right)$"
      ],
      "text/plain": [
       " l - 1 ⎛          2                                     ⎞\n",
       "r     ⋅⎝2⋅\\gamma⋅l  - 2⋅\\gamma⋅l - 2⋅\\omega²⋅l - \\omega²⎠"
      ]
     },
     "metadata": {},
     "output_type": "display_data"
    },
    {
     "name": "stdout",
     "output_type": "stream",
     "text": [
      "Incomp - on initk\n"
     ]
    },
    {
     "data": {
      "image/png": "[encoded data removed]",
      "text/latex": [
       "$\\displaystyle r^{l - 1} \\cdot \\left(2 \\gamma l^{2} - 2 \\gamma l - 2 \\omega^{2} l - \\omega^{2}\\right)$"
      ],
      "text/plain": [
       " l - 1 ⎛          2                                     ⎞\n",
       "r     ⋅⎝2⋅\\gamma⋅l  - 2⋅\\gamma⋅l - 2⋅\\omega²⋅l - \\omega²⎠"
      ]
     },
     "metadata": {},
     "output_type": "display_data"
    },
    {
     "name": "stdout",
     "output_type": "stream",
     "text": [
      "DIFF\n"
     ]
    },
    {
     "data": {
      "image/png": "[encoded data removed]",
      "text/latex": [
       "$\\displaystyle 0$"
      ],
      "text/plain": [
       "0"
      ]
     },
     "metadata": {},
     "output_type": "display_data"
    },
    {
     "name": "stdout",
     "output_type": "stream",
     "text": [
      "~~~\n",
      "\n",
      "\n",
      "\n",
      "\n"
     ]
    }
   ],
   "source": [
    "def incomp(expr):\n",
    "    expr = expr.subs(alpha2, (lame + 2 * shear) / density)\n",
    "    expr = expr.subs(lame, bulk - Rational(2, 3) * shear)\n",
    "    expr = expand(expr)\n",
    "    expr = limit(expr, bulk, oo, '+')\n",
    "    return simplify(expr)\n",
    "    \n",
    "f_kpos = (beta2 * k_pos - w2) / gamma\n",
    "f_kneg = (beta2 * k_neg - w2) / gamma\n",
    "k_pos_incom = incomp(k_pos)\n",
    "k_neg_incom = incomp(k_neg)\n",
    "\n",
    "# print('k2 * f(k+) * a2')\n",
    "# disp(incomp(k_pos * f_kpos * alpha2))\n",
    "# print('f(k+)')\n",
    "# disp(incomp(f_kpos))\n",
    "# print('k+ * a2')\n",
    "# disp(incomp(k_pos * alpha2))\n",
    "# print('k2')\n",
    "# disp(incomp(k_pos))\n",
    "# print()\n",
    "# print('k2 * f(k-) * a2')\n",
    "# disp(incomp(k_neg * f_kneg * alpha2))\n",
    "# print('f(k-)')\n",
    "# disp(incomp(f_kneg))\n",
    "# print('k- * a2')\n",
    "# disp(incomp(k_neg * alpha2))\n",
    "# print('k2')\n",
    "# disp(incomp(k_neg))\n",
    "\n",
    "y_reg = find_ys(k_pos, k_neg)\n",
    "y_incom = find_ys(k_pos_incom, k_neg_incom)\n",
    "                    \n",
    "\n",
    "# FirstOff = True\n",
    "for (yi, sols), (yi_incom, sols_incom)  in zip(y_reg.items(), y_incom.items()):\n",
    "    disp(yi)\n",
    "    for (soli, sol), (soli_incom, sol_incom) in zip(sols.items(), sols_incom.items()):\n",
    "        print(soli)\n",
    "        #print('Full')\n",
    "        #disp(factor(sol))\n",
    "        print('Incomp - on final')\n",
    "        sol_incom = factor(incomp(expand(sol)))\n",
    "        disp(sol_incom)\n",
    "        print('Incomp - on initk')\n",
    "        sol_incom_k_incom = factor(incomp(sol_incom))\n",
    "        disp(sol_incom_k_incom)\n",
    "        print('DIFF')\n",
    "        disp(simplify(sol_incom - sol_incom_k_incom))\n",
    "        print('~~~')\n",
    "        \n",
    "    print('\\n\\n\\n')"
   ]
  },
  {
   "cell_type": "code",
   "execution_count": 41,
   "id": "888a85a1",
   "metadata": {},
   "outputs": [
    {
     "data": {
      "image/png": "[encoded data removed]",
      "text/latex": [
       "$\\displaystyle - \\frac{\\omega^{2}}{\\gamma}$"
      ],
      "text/plain": [
       "-\\omega² \n",
       "─────────\n",
       "  \\gamma "
      ]
     },
     "metadata": {},
     "output_type": "display_data"
    },
    {
     "data": {
      "image/png": "[encoded data removed]",
      "text/latex": [
       "$\\displaystyle -\\infty$"
      ],
      "text/plain": [
       "-∞"
      ]
     },
     "metadata": {},
     "output_type": "display_data"
    },
    {
     "data": {
      "image/png": "[encoded data removed]",
      "text/latex": [
       "$\\displaystyle \\frac{3 \\omega^{2}}{2 \\cdot \\left(2 l + 3\\right)}$"
      ],
      "text/plain": [
       " 3⋅\\omega² \n",
       "───────────\n",
       "2⋅(2⋅l + 3)"
      ]
     },
     "metadata": {},
     "output_type": "display_data"
    },
    {
     "data": {
      "image/png": "[encoded data removed]",
      "text/latex": [
       "$\\displaystyle -\\infty$"
      ],
      "text/plain": [
       "-∞"
      ]
     },
     "metadata": {},
     "output_type": "display_data"
    }
   ],
   "source": [
    "f_kpos = (beta2 * k_pos - w2) / gamma\n",
    "f_kneg = (beta2 * k_neg - w2) / gamma\n",
    "\n",
    "h_kpos = f_kpos - (l + 1)\n",
    "h_kneg = f_kneg - (l + 1)\n",
    "\n",
    "\n",
    "y5_t1_neg = (alpha2 * f_kneg - (l + 1) * beta2) / r**2\n",
    "y5_t2_neg = (-3 * gamma * f_kneg) * Psi_approx(k_neg, l) / (2 * (2 * l + 3))\n",
    "\n",
    "expr = alpha2 * f_kneg\n",
    "expr = expr.subs(alpha2, (lame + 2 * shear) / density)\n",
    "expr = expr.subs(lame, bulk - Rational(2, 3) * shear)\n",
    "disp(incomp(f_kneg))\n",
    "disp(incomp(y5_t1_neg))\n",
    "disp(incomp(y5_t2_neg))\n",
    "disp(incomp(y5_t1_neg + y5_t2_neg))\n"
   ]
  },
  {
   "cell_type": "code",
   "execution_count": 13,
   "id": "826cae17",
   "metadata": {
    "scrolled": false
   },
   "outputs": [
    {
     "name": "stdout",
     "output_type": "stream",
     "text": [
      "Negative Sol k2\n"
     ]
    },
    {
     "data": {
      "image/png": "[encoded data removed]",
      "text/latex": [
       "$\\displaystyle 0$"
      ],
      "text/plain": [
       "0"
      ]
     },
     "metadata": {},
     "output_type": "display_data"
    },
    {
     "name": "stdout",
     "output_type": "stream",
     "text": [
      "Positive Sol k2\n"
     ]
    },
    {
     "data": {
      "image/png": "[encoded data removed]",
      "text/latex": [
       "$\\displaystyle 0$"
      ],
      "text/plain": [
       "0"
      ]
     },
     "metadata": {},
     "output_type": "display_data"
    },
    {
     "data": {
      "text/plain": [
       "'$y_{1}$'"
      ]
     },
     "metadata": {},
     "output_type": "display_data"
    },
    {
     "name": "stdout",
     "output_type": "stream",
     "text": [
      "\tsol1\n"
     ]
    },
    {
     "data": {
      "image/png": "[encoded data removed]",
      "text/latex": [
       "$\\displaystyle \\frac{r^{l + 1} \\left(\\gamma l^{2} + \\gamma l + \\omega^{2} l + 2 \\omega^{2}\\right)}{2 \\gamma \\left(2 l + 3\\right)}$"
      ],
      "text/plain": [
       " l + 1 ⎛        2                                   ⎞\n",
       "r     ⋅⎝\\gamma⋅l  + \\gamma⋅l + \\omega²⋅l + 2⋅\\omega²⎠\n",
       "─────────────────────────────────────────────────────\n",
       "                  2⋅\\gamma⋅(2⋅l + 3)                 "
      ]
     },
     "metadata": {},
     "output_type": "display_data"
    },
    {
     "name": "stdout",
     "output_type": "stream",
     "text": [
      "\tsol2\n"
     ]
    },
    {
     "data": {
      "image/png": "[encoded data removed]",
      "text/latex": [
       "$\\displaystyle \\frac{r^{l + 1} \\left(\\gamma l^{2} + \\gamma l + \\omega^{2} l + 2 \\omega^{2}\\right)}{2 \\gamma \\left(2 l + 3\\right)}$"
      ],
      "text/plain": [
       " l + 1 ⎛        2                                   ⎞\n",
       "r     ⋅⎝\\gamma⋅l  + \\gamma⋅l + \\omega²⋅l + 2⋅\\omega²⎠\n",
       "─────────────────────────────────────────────────────\n",
       "                  2⋅\\gamma⋅(2⋅l + 3)                 "
      ]
     },
     "metadata": {},
     "output_type": "display_data"
    },
    {
     "name": "stdout",
     "output_type": "stream",
     "text": [
      "\tsol3\n"
     ]
    },
    {
     "data": {
      "image/png": "[encoded data removed]",
      "text/latex": [
       "$\\displaystyle l r^{l - 1}$"
      ],
      "text/plain": [
       "   l - 1\n",
       "l⋅r     "
      ]
     },
     "metadata": {},
     "output_type": "display_data"
    },
    {
     "data": {
      "text/plain": [
       "'$y_{2}$'"
      ]
     },
     "metadata": {},
     "output_type": "display_data"
    },
    {
     "name": "stdout",
     "output_type": "stream",
     "text": [
      "\tsol1\n"
     ]
    },
    {
     "data": {
      "image/png": "[encoded data removed]",
      "text/latex": [
       "$\\displaystyle \\infty$"
      ],
      "text/plain": [
       "∞"
      ]
     },
     "metadata": {},
     "output_type": "display_data"
    },
    {
     "name": "stdout",
     "output_type": "stream",
     "text": [
      "\tsol2\n"
     ]
    },
    {
     "data": {
      "image/png": "[encoded data removed]",
      "text/latex": [
       "$\\displaystyle \\infty$"
      ],
      "text/plain": [
       "∞"
      ]
     },
     "metadata": {},
     "output_type": "display_data"
    },
    {
     "name": "stdout",
     "output_type": "stream",
     "text": [
      "\tsol3\n"
     ]
    },
    {
     "data": {
      "image/png": "[encoded data removed]",
      "text/latex": [
       "$\\displaystyle 2 \\mu l r^{l - 2} \\left(l - 1\\right)$"
      ],
      "text/plain": [
       "         l - 2        \n",
       "2⋅\\mu⋅l⋅r     ⋅(l - 1)"
      ]
     },
     "metadata": {},
     "output_type": "display_data"
    },
    {
     "data": {
      "text/plain": [
       "'$y_{3}$'"
      ]
     },
     "metadata": {},
     "output_type": "display_data"
    },
    {
     "name": "stdout",
     "output_type": "stream",
     "text": [
      "\tsol1\n"
     ]
    },
    {
     "data": {
      "image/png": "[encoded data removed]",
      "text/latex": [
       "$\\displaystyle \\frac{r^{l + 1} \\left(\\gamma l + 3 \\gamma + \\omega^{2}\\right)}{2 \\gamma \\left(2 l + 3\\right)}$"
      ],
      "text/plain": [
       " l + 1                                \n",
       "r     ⋅(\\gamma⋅l + 3⋅\\gamma + \\omega²)\n",
       "──────────────────────────────────────\n",
       "          2⋅\\gamma⋅(2⋅l + 3)          "
      ]
     },
     "metadata": {},
     "output_type": "display_data"
    },
    {
     "name": "stdout",
     "output_type": "stream",
     "text": [
      "\tsol2\n"
     ]
    },
    {
     "data": {
      "image/png": "[encoded data removed]",
      "text/latex": [
       "$\\displaystyle \\frac{r^{l + 1} \\left(\\gamma l + 3 \\gamma + \\omega^{2}\\right)}{2 \\gamma \\left(2 l + 3\\right)}$"
      ],
      "text/plain": [
       " l + 1                                \n",
       "r     ⋅(\\gamma⋅l + 3⋅\\gamma + \\omega²)\n",
       "──────────────────────────────────────\n",
       "          2⋅\\gamma⋅(2⋅l + 3)          "
      ]
     },
     "metadata": {},
     "output_type": "display_data"
    },
    {
     "name": "stdout",
     "output_type": "stream",
     "text": [
      "\tsol3\n"
     ]
    },
    {
     "data": {
      "image/png": "[encoded data removed]",
      "text/latex": [
       "$\\displaystyle r^{l - 1}$"
      ],
      "text/plain": [
       " l - 1\n",
       "r     "
      ]
     },
     "metadata": {},
     "output_type": "display_data"
    },
    {
     "data": {
      "text/plain": [
       "'$y_{4}$'"
      ]
     },
     "metadata": {},
     "output_type": "display_data"
    },
    {
     "name": "stdout",
     "output_type": "stream",
     "text": [
      "\tsol1\n"
     ]
    },
    {
     "data": {
      "image/png": "[encoded data removed]",
      "text/latex": [
       "$\\displaystyle \\frac{\\mu r^{l} \\left(\\gamma l^{2} + 2 \\gamma l + \\omega^{2} l + \\omega^{2}\\right)}{\\gamma \\left(2 l + 3\\right)}$"
      ],
      "text/plain": [
       "     l ⎛        2                                   ⎞\n",
       "\\mu⋅r ⋅⎝\\gamma⋅l  + 2⋅\\gamma⋅l + \\omega²⋅l + \\omega²⎠\n",
       "─────────────────────────────────────────────────────\n",
       "                   \\gamma⋅(2⋅l + 3)                  "
      ]
     },
     "metadata": {},
     "output_type": "display_data"
    },
    {
     "name": "stdout",
     "output_type": "stream",
     "text": [
      "\tsol2\n"
     ]
    },
    {
     "data": {
      "image/png": "[encoded data removed]",
      "text/latex": [
       "$\\displaystyle \\frac{\\mu r^{l} \\left(\\gamma l^{2} + 2 \\gamma l + \\omega^{2} l + \\omega^{2}\\right)}{\\gamma \\left(2 l + 3\\right)}$"
      ],
      "text/plain": [
       "     l ⎛        2                                   ⎞\n",
       "\\mu⋅r ⋅⎝\\gamma⋅l  + 2⋅\\gamma⋅l + \\omega²⋅l + \\omega²⎠\n",
       "─────────────────────────────────────────────────────\n",
       "                   \\gamma⋅(2⋅l + 3)                  "
      ]
     },
     "metadata": {},
     "output_type": "display_data"
    },
    {
     "name": "stdout",
     "output_type": "stream",
     "text": [
      "\tsol3\n"
     ]
    },
    {
     "data": {
      "image/png": "[encoded data removed]",
      "text/latex": [
       "$\\displaystyle 2 \\mu r^{l - 2} \\left(l - 1\\right)$"
      ],
      "text/plain": [
       "       l - 2        \n",
       "2⋅\\mu⋅r     ⋅(l - 1)"
      ]
     },
     "metadata": {},
     "output_type": "display_data"
    },
    {
     "data": {
      "text/plain": [
       "'$y_{5}$'"
      ]
     },
     "metadata": {},
     "output_type": "display_data"
    },
    {
     "name": "stdout",
     "output_type": "stream",
     "text": [
      "\tsol1\n"
     ]
    },
    {
     "data": {
      "image/png": "[encoded data removed]",
      "text/latex": [
       "$\\displaystyle -\\infty$"
      ],
      "text/plain": [
       "-∞"
      ]
     },
     "metadata": {},
     "output_type": "display_data"
    },
    {
     "name": "stdout",
     "output_type": "stream",
     "text": [
      "\tsol2\n"
     ]
    },
    {
     "ename": "KeyboardInterrupt",
     "evalue": "",
     "output_type": "error",
     "traceback": [
      "\u001b[1;31m---------------------------------------------------------------------------\u001b[0m",
      "\u001b[1;31mKeyboardInterrupt\u001b[0m                         Traceback (most recent call last)",
      "\u001b[1;32m~\\AppData\\Local\\Temp\\ipykernel_27940\\4192803790.py\u001b[0m in \u001b[0;36m<module>\u001b[1;34m\u001b[0m\n\u001b[0;32m     24\u001b[0m     \u001b[1;32mfor\u001b[0m \u001b[0msoli\u001b[0m\u001b[1;33m,\u001b[0m \u001b[0msol\u001b[0m \u001b[1;32min\u001b[0m \u001b[0msols\u001b[0m\u001b[1;33m.\u001b[0m\u001b[0mitems\u001b[0m\u001b[1;33m(\u001b[0m\u001b[1;33m)\u001b[0m\u001b[1;33m:\u001b[0m\u001b[1;33m\u001b[0m\u001b[1;33m\u001b[0m\u001b[0m\n\u001b[0;32m     25\u001b[0m         \u001b[0mprint\u001b[0m\u001b[1;33m(\u001b[0m\u001b[0msoli\u001b[0m\u001b[1;33m)\u001b[0m\u001b[1;33m\u001b[0m\u001b[1;33m\u001b[0m\u001b[0m\n\u001b[1;32m---> 26\u001b[1;33m         \u001b[0mdisp\u001b[0m\u001b[1;33m(\u001b[0m\u001b[0mfactor\u001b[0m\u001b[1;33m(\u001b[0m\u001b[0mincomp\u001b[0m\u001b[1;33m(\u001b[0m\u001b[0msol\u001b[0m\u001b[1;33m)\u001b[0m\u001b[1;33m)\u001b[0m\u001b[1;33m)\u001b[0m\u001b[1;33m\u001b[0m\u001b[1;33m\u001b[0m\u001b[0m\n\u001b[0m",
      "\u001b[1;32mC:\\ProgramData\\Anaconda3\\envs\\arpy\\lib\\site-packages\\IPython\\core\\display.py\u001b[0m in \u001b[0;36mdisplay\u001b[1;34m(include, exclude, metadata, transient, display_id, *objs, **kwargs)\u001b[0m\n\u001b[0;32m    318\u001b[0m             \u001b[0mpublish_display_data\u001b[0m\u001b[1;33m(\u001b[0m\u001b[0mdata\u001b[0m\u001b[1;33m=\u001b[0m\u001b[0mobj\u001b[0m\u001b[1;33m,\u001b[0m \u001b[0mmetadata\u001b[0m\u001b[1;33m=\u001b[0m\u001b[0mmetadata\u001b[0m\u001b[1;33m,\u001b[0m \u001b[1;33m**\u001b[0m\u001b[0mkwargs\u001b[0m\u001b[1;33m)\u001b[0m\u001b[1;33m\u001b[0m\u001b[1;33m\u001b[0m\u001b[0m\n\u001b[0;32m    319\u001b[0m         \u001b[1;32melse\u001b[0m\u001b[1;33m:\u001b[0m\u001b[1;33m\u001b[0m\u001b[1;33m\u001b[0m\u001b[0m\n\u001b[1;32m--> 320\u001b[1;33m             \u001b[0mformat_dict\u001b[0m\u001b[1;33m,\u001b[0m \u001b[0mmd_dict\u001b[0m \u001b[1;33m=\u001b[0m \u001b[0mformat\u001b[0m\u001b[1;33m(\u001b[0m\u001b[0mobj\u001b[0m\u001b[1;33m,\u001b[0m \u001b[0minclude\u001b[0m\u001b[1;33m=\u001b[0m\u001b[0minclude\u001b[0m\u001b[1;33m,\u001b[0m \u001b[0mexclude\u001b[0m\u001b[1;33m=\u001b[0m\u001b[0mexclude\u001b[0m\u001b[1;33m)\u001b[0m\u001b[1;33m\u001b[0m\u001b[1;33m\u001b[0m\u001b[0m\n\u001b[0m\u001b[0;32m    321\u001b[0m             \u001b[1;32mif\u001b[0m \u001b[1;32mnot\u001b[0m \u001b[0mformat_dict\u001b[0m\u001b[1;33m:\u001b[0m\u001b[1;33m\u001b[0m\u001b[1;33m\u001b[0m\u001b[0m\n\u001b[0;32m    322\u001b[0m                 \u001b[1;31m# nothing to display (e.g. _ipython_display_ took over)\u001b[0m\u001b[1;33m\u001b[0m\u001b[1;33m\u001b[0m\u001b[0m\n",
      "\u001b[1;32mC:\\ProgramData\\Anaconda3\\envs\\arpy\\lib\\site-packages\\IPython\\core\\formatters.py\u001b[0m in \u001b[0;36mformat\u001b[1;34m(self, obj, include, exclude)\u001b[0m\n\u001b[0;32m    178\u001b[0m             \u001b[0mmd\u001b[0m \u001b[1;33m=\u001b[0m \u001b[1;32mNone\u001b[0m\u001b[1;33m\u001b[0m\u001b[1;33m\u001b[0m\u001b[0m\n\u001b[0;32m    179\u001b[0m             \u001b[1;32mtry\u001b[0m\u001b[1;33m:\u001b[0m\u001b[1;33m\u001b[0m\u001b[1;33m\u001b[0m\u001b[0m\n\u001b[1;32m--> 180\u001b[1;33m                 \u001b[0mdata\u001b[0m \u001b[1;33m=\u001b[0m \u001b[0mformatter\u001b[0m\u001b[1;33m(\u001b[0m\u001b[0mobj\u001b[0m\u001b[1;33m)\u001b[0m\u001b[1;33m\u001b[0m\u001b[1;33m\u001b[0m\u001b[0m\n\u001b[0m\u001b[0;32m    181\u001b[0m             \u001b[1;32mexcept\u001b[0m\u001b[1;33m:\u001b[0m\u001b[1;33m\u001b[0m\u001b[1;33m\u001b[0m\u001b[0m\n\u001b[0;32m    182\u001b[0m                 \u001b[1;31m# FIXME: log the exception\u001b[0m\u001b[1;33m\u001b[0m\u001b[1;33m\u001b[0m\u001b[0m\n",
      "\u001b[1;32mC:\\ProgramData\\Anaconda3\\envs\\arpy\\lib\\site-packages\\decorator.py\u001b[0m in \u001b[0;36mfun\u001b[1;34m(*args, **kw)\u001b[0m\n\u001b[0;32m    230\u001b[0m             \u001b[1;32mif\u001b[0m \u001b[1;32mnot\u001b[0m \u001b[0mkwsyntax\u001b[0m\u001b[1;33m:\u001b[0m\u001b[1;33m\u001b[0m\u001b[1;33m\u001b[0m\u001b[0m\n\u001b[0;32m    231\u001b[0m                 \u001b[0margs\u001b[0m\u001b[1;33m,\u001b[0m \u001b[0mkw\u001b[0m \u001b[1;33m=\u001b[0m \u001b[0mfix\u001b[0m\u001b[1;33m(\u001b[0m\u001b[0margs\u001b[0m\u001b[1;33m,\u001b[0m \u001b[0mkw\u001b[0m\u001b[1;33m,\u001b[0m \u001b[0msig\u001b[0m\u001b[1;33m)\u001b[0m\u001b[1;33m\u001b[0m\u001b[1;33m\u001b[0m\u001b[0m\n\u001b[1;32m--> 232\u001b[1;33m             \u001b[1;32mreturn\u001b[0m \u001b[0mcaller\u001b[0m\u001b[1;33m(\u001b[0m\u001b[0mfunc\u001b[0m\u001b[1;33m,\u001b[0m \u001b[1;33m*\u001b[0m\u001b[1;33m(\u001b[0m\u001b[0mextras\u001b[0m \u001b[1;33m+\u001b[0m \u001b[0margs\u001b[0m\u001b[1;33m)\u001b[0m\u001b[1;33m,\u001b[0m \u001b[1;33m**\u001b[0m\u001b[0mkw\u001b[0m\u001b[1;33m)\u001b[0m\u001b[1;33m\u001b[0m\u001b[1;33m\u001b[0m\u001b[0m\n\u001b[0m\u001b[0;32m    233\u001b[0m     \u001b[0mfun\u001b[0m\u001b[1;33m.\u001b[0m\u001b[0m__name__\u001b[0m \u001b[1;33m=\u001b[0m \u001b[0mfunc\u001b[0m\u001b[1;33m.\u001b[0m\u001b[0m__name__\u001b[0m\u001b[1;33m\u001b[0m\u001b[1;33m\u001b[0m\u001b[0m\n\u001b[0;32m    234\u001b[0m     \u001b[0mfun\u001b[0m\u001b[1;33m.\u001b[0m\u001b[0m__doc__\u001b[0m \u001b[1;33m=\u001b[0m \u001b[0mfunc\u001b[0m\u001b[1;33m.\u001b[0m\u001b[0m__doc__\u001b[0m\u001b[1;33m\u001b[0m\u001b[1;33m\u001b[0m\u001b[0m\n",
      "\u001b[1;32mC:\\ProgramData\\Anaconda3\\envs\\arpy\\lib\\site-packages\\IPython\\core\\formatters.py\u001b[0m in \u001b[0;36mcatch_format_error\u001b[1;34m(method, self, *args, **kwargs)\u001b[0m\n\u001b[0;32m    222\u001b[0m     \u001b[1;34m\"\"\"show traceback on failed format call\"\"\"\u001b[0m\u001b[1;33m\u001b[0m\u001b[1;33m\u001b[0m\u001b[0m\n\u001b[0;32m    223\u001b[0m     \u001b[1;32mtry\u001b[0m\u001b[1;33m:\u001b[0m\u001b[1;33m\u001b[0m\u001b[1;33m\u001b[0m\u001b[0m\n\u001b[1;32m--> 224\u001b[1;33m         \u001b[0mr\u001b[0m \u001b[1;33m=\u001b[0m \u001b[0mmethod\u001b[0m\u001b[1;33m(\u001b[0m\u001b[0mself\u001b[0m\u001b[1;33m,\u001b[0m \u001b[1;33m*\u001b[0m\u001b[0margs\u001b[0m\u001b[1;33m,\u001b[0m \u001b[1;33m**\u001b[0m\u001b[0mkwargs\u001b[0m\u001b[1;33m)\u001b[0m\u001b[1;33m\u001b[0m\u001b[1;33m\u001b[0m\u001b[0m\n\u001b[0m\u001b[0;32m    225\u001b[0m     \u001b[1;32mexcept\u001b[0m \u001b[0mNotImplementedError\u001b[0m\u001b[1;33m:\u001b[0m\u001b[1;33m\u001b[0m\u001b[1;33m\u001b[0m\u001b[0m\n\u001b[0;32m    226\u001b[0m         \u001b[1;31m# don't warn on NotImplementedErrors\u001b[0m\u001b[1;33m\u001b[0m\u001b[1;33m\u001b[0m\u001b[0m\n",
      "\u001b[1;32mC:\\ProgramData\\Anaconda3\\envs\\arpy\\lib\\site-packages\\IPython\\core\\formatters.py\u001b[0m in \u001b[0;36m__call__\u001b[1;34m(self, obj)\u001b[0m\n\u001b[0;32m    343\u001b[0m             \u001b[0mmethod\u001b[0m \u001b[1;33m=\u001b[0m \u001b[0mget_real_method\u001b[0m\u001b[1;33m(\u001b[0m\u001b[0mobj\u001b[0m\u001b[1;33m,\u001b[0m \u001b[0mself\u001b[0m\u001b[1;33m.\u001b[0m\u001b[0mprint_method\u001b[0m\u001b[1;33m)\u001b[0m\u001b[1;33m\u001b[0m\u001b[1;33m\u001b[0m\u001b[0m\n\u001b[0;32m    344\u001b[0m             \u001b[1;32mif\u001b[0m \u001b[0mmethod\u001b[0m \u001b[1;32mis\u001b[0m \u001b[1;32mnot\u001b[0m \u001b[1;32mNone\u001b[0m\u001b[1;33m:\u001b[0m\u001b[1;33m\u001b[0m\u001b[1;33m\u001b[0m\u001b[0m\n\u001b[1;32m--> 345\u001b[1;33m                 \u001b[1;32mreturn\u001b[0m \u001b[0mmethod\u001b[0m\u001b[1;33m(\u001b[0m\u001b[1;33m)\u001b[0m\u001b[1;33m\u001b[0m\u001b[1;33m\u001b[0m\u001b[0m\n\u001b[0m\u001b[0;32m    346\u001b[0m             \u001b[1;32mreturn\u001b[0m \u001b[1;32mNone\u001b[0m\u001b[1;33m\u001b[0m\u001b[1;33m\u001b[0m\u001b[0m\n\u001b[0;32m    347\u001b[0m         \u001b[1;32melse\u001b[0m\u001b[1;33m:\u001b[0m\u001b[1;33m\u001b[0m\u001b[1;33m\u001b[0m\u001b[0m\n",
      "\u001b[1;32mC:\\ProgramData\\Anaconda3\\envs\\arpy\\lib\\site-packages\\sympy\\interactive\\printing.py\u001b[0m in \u001b[0;36m_print_latex_png\u001b[1;34m(o)\u001b[0m\n\u001b[0;32m    183\u001b[0m                 \u001b[0ms\u001b[0m \u001b[1;33m=\u001b[0m \u001b[1;34m'$\\\\displaystyle %s$'\u001b[0m \u001b[1;33m%\u001b[0m \u001b[0ms\u001b[0m\u001b[1;33m\u001b[0m\u001b[1;33m\u001b[0m\u001b[0m\n\u001b[0;32m    184\u001b[0m             \u001b[1;32mtry\u001b[0m\u001b[1;33m:\u001b[0m\u001b[1;33m\u001b[0m\u001b[1;33m\u001b[0m\u001b[0m\n\u001b[1;32m--> 185\u001b[1;33m                 \u001b[1;32mreturn\u001b[0m \u001b[0m_preview_wrapper\u001b[0m\u001b[1;33m(\u001b[0m\u001b[0ms\u001b[0m\u001b[1;33m)\u001b[0m\u001b[1;33m\u001b[0m\u001b[1;33m\u001b[0m\u001b[0m\n\u001b[0m\u001b[0;32m    186\u001b[0m             \u001b[1;32mexcept\u001b[0m \u001b[0mRuntimeError\u001b[0m \u001b[1;32mas\u001b[0m \u001b[0me\u001b[0m\u001b[1;33m:\u001b[0m\u001b[1;33m\u001b[0m\u001b[1;33m\u001b[0m\u001b[0m\n\u001b[0;32m    187\u001b[0m                 debug('preview failed with:', repr(e),\n",
      "\u001b[1;32mC:\\ProgramData\\Anaconda3\\envs\\arpy\\lib\\site-packages\\sympy\\interactive\\printing.py\u001b[0m in \u001b[0;36m_preview_wrapper\u001b[1;34m(o)\u001b[0m\n\u001b[0;32m     94\u001b[0m         \u001b[0mexprbuffer\u001b[0m \u001b[1;33m=\u001b[0m \u001b[0mBytesIO\u001b[0m\u001b[1;33m(\u001b[0m\u001b[1;33m)\u001b[0m\u001b[1;33m\u001b[0m\u001b[1;33m\u001b[0m\u001b[0m\n\u001b[0;32m     95\u001b[0m         \u001b[1;32mtry\u001b[0m\u001b[1;33m:\u001b[0m\u001b[1;33m\u001b[0m\u001b[1;33m\u001b[0m\u001b[0m\n\u001b[1;32m---> 96\u001b[1;33m             preview(o, output='png', viewer='BytesIO',\n\u001b[0m\u001b[0;32m     97\u001b[0m                     \u001b[0moutputbuffer\u001b[0m\u001b[1;33m=\u001b[0m\u001b[0mexprbuffer\u001b[0m\u001b[1;33m,\u001b[0m \u001b[0mpreamble\u001b[0m\u001b[1;33m=\u001b[0m\u001b[0mpreamble\u001b[0m\u001b[1;33m,\u001b[0m\u001b[1;33m\u001b[0m\u001b[1;33m\u001b[0m\u001b[0m\n\u001b[0;32m     98\u001b[0m                     dvioptions=dvioptions)\n",
      "\u001b[1;32mC:\\ProgramData\\Anaconda3\\envs\\arpy\\lib\\site-packages\\sympy\\printing\\preview.py\u001b[0m in \u001b[0;36mpreview\u001b[1;34m(expr, output, viewer, euler, packages, filename, outputbuffer, preamble, dvioptions, outputTexFile, **latex_settings)\u001b[0m\n\u001b[0;32m    247\u001b[0m \u001b[1;33m\u001b[0m\u001b[0m\n\u001b[0;32m    248\u001b[0m         \u001b[1;32mtry\u001b[0m\u001b[1;33m:\u001b[0m\u001b[1;33m\u001b[0m\u001b[1;33m\u001b[0m\u001b[0m\n\u001b[1;32m--> 249\u001b[1;33m             _check_output_no_window(\n\u001b[0m\u001b[0;32m    250\u001b[0m                 ['latex', '-halt-on-error', '-interaction=nonstopmode',\n\u001b[0;32m    251\u001b[0m                  'texput.tex'],\n",
      "\u001b[1;32mC:\\ProgramData\\Anaconda3\\envs\\arpy\\lib\\site-packages\\sympy\\printing\\preview.py\u001b[0m in \u001b[0;36m_check_output_no_window\u001b[1;34m(*args, **kwargs)\u001b[0m\n\u001b[0;32m     22\u001b[0m     \u001b[1;32melse\u001b[0m\u001b[1;33m:\u001b[0m\u001b[1;33m\u001b[0m\u001b[1;33m\u001b[0m\u001b[0m\n\u001b[0;32m     23\u001b[0m         \u001b[0mcreation_flag\u001b[0m \u001b[1;33m=\u001b[0m \u001b[1;36m0\u001b[0m \u001b[1;31m# Default value\u001b[0m\u001b[1;33m\u001b[0m\u001b[1;33m\u001b[0m\u001b[0m\n\u001b[1;32m---> 24\u001b[1;33m     \u001b[1;32mreturn\u001b[0m \u001b[0mcheck_output\u001b[0m\u001b[1;33m(\u001b[0m\u001b[1;33m*\u001b[0m\u001b[0margs\u001b[0m\u001b[1;33m,\u001b[0m \u001b[0mcreationflags\u001b[0m\u001b[1;33m=\u001b[0m\u001b[0mcreation_flag\u001b[0m\u001b[1;33m,\u001b[0m \u001b[1;33m**\u001b[0m\u001b[0mkwargs\u001b[0m\u001b[1;33m)\u001b[0m\u001b[1;33m\u001b[0m\u001b[1;33m\u001b[0m\u001b[0m\n\u001b[0m\u001b[0;32m     25\u001b[0m \u001b[1;33m\u001b[0m\u001b[0m\n\u001b[0;32m     26\u001b[0m \u001b[1;33m\u001b[0m\u001b[0m\n",
      "\u001b[1;32mC:\\ProgramData\\Anaconda3\\envs\\arpy\\lib\\subprocess.py\u001b[0m in \u001b[0;36mcheck_output\u001b[1;34m(timeout, *popenargs, **kwargs)\u001b[0m\n\u001b[0;32m    422\u001b[0m         \u001b[0mkwargs\u001b[0m\u001b[1;33m[\u001b[0m\u001b[1;34m'input'\u001b[0m\u001b[1;33m]\u001b[0m \u001b[1;33m=\u001b[0m \u001b[0mempty\u001b[0m\u001b[1;33m\u001b[0m\u001b[1;33m\u001b[0m\u001b[0m\n\u001b[0;32m    423\u001b[0m \u001b[1;33m\u001b[0m\u001b[0m\n\u001b[1;32m--> 424\u001b[1;33m     return run(*popenargs, stdout=PIPE, timeout=timeout, check=True,\n\u001b[0m\u001b[0;32m    425\u001b[0m                **kwargs).stdout\n\u001b[0;32m    426\u001b[0m \u001b[1;33m\u001b[0m\u001b[0m\n",
      "\u001b[1;32mC:\\ProgramData\\Anaconda3\\envs\\arpy\\lib\\subprocess.py\u001b[0m in \u001b[0;36mrun\u001b[1;34m(input, capture_output, timeout, check, *popenargs, **kwargs)\u001b[0m\n\u001b[0;32m    505\u001b[0m     \u001b[1;32mwith\u001b[0m \u001b[0mPopen\u001b[0m\u001b[1;33m(\u001b[0m\u001b[1;33m*\u001b[0m\u001b[0mpopenargs\u001b[0m\u001b[1;33m,\u001b[0m \u001b[1;33m**\u001b[0m\u001b[0mkwargs\u001b[0m\u001b[1;33m)\u001b[0m \u001b[1;32mas\u001b[0m \u001b[0mprocess\u001b[0m\u001b[1;33m:\u001b[0m\u001b[1;33m\u001b[0m\u001b[1;33m\u001b[0m\u001b[0m\n\u001b[0;32m    506\u001b[0m         \u001b[1;32mtry\u001b[0m\u001b[1;33m:\u001b[0m\u001b[1;33m\u001b[0m\u001b[1;33m\u001b[0m\u001b[0m\n\u001b[1;32m--> 507\u001b[1;33m             \u001b[0mstdout\u001b[0m\u001b[1;33m,\u001b[0m \u001b[0mstderr\u001b[0m \u001b[1;33m=\u001b[0m \u001b[0mprocess\u001b[0m\u001b[1;33m.\u001b[0m\u001b[0mcommunicate\u001b[0m\u001b[1;33m(\u001b[0m\u001b[0minput\u001b[0m\u001b[1;33m,\u001b[0m \u001b[0mtimeout\u001b[0m\u001b[1;33m=\u001b[0m\u001b[0mtimeout\u001b[0m\u001b[1;33m)\u001b[0m\u001b[1;33m\u001b[0m\u001b[1;33m\u001b[0m\u001b[0m\n\u001b[0m\u001b[0;32m    508\u001b[0m         \u001b[1;32mexcept\u001b[0m \u001b[0mTimeoutExpired\u001b[0m \u001b[1;32mas\u001b[0m \u001b[0mexc\u001b[0m\u001b[1;33m:\u001b[0m\u001b[1;33m\u001b[0m\u001b[1;33m\u001b[0m\u001b[0m\n\u001b[0;32m    509\u001b[0m             \u001b[0mprocess\u001b[0m\u001b[1;33m.\u001b[0m\u001b[0mkill\u001b[0m\u001b[1;33m(\u001b[0m\u001b[1;33m)\u001b[0m\u001b[1;33m\u001b[0m\u001b[1;33m\u001b[0m\u001b[0m\n",
      "\u001b[1;32mC:\\ProgramData\\Anaconda3\\envs\\arpy\\lib\\subprocess.py\u001b[0m in \u001b[0;36mcommunicate\u001b[1;34m(self, input, timeout)\u001b[0m\n\u001b[0;32m   1119\u001b[0m                 \u001b[0mself\u001b[0m\u001b[1;33m.\u001b[0m\u001b[0m_stdin_write\u001b[0m\u001b[1;33m(\u001b[0m\u001b[0minput\u001b[0m\u001b[1;33m)\u001b[0m\u001b[1;33m\u001b[0m\u001b[1;33m\u001b[0m\u001b[0m\n\u001b[0;32m   1120\u001b[0m             \u001b[1;32melif\u001b[0m \u001b[0mself\u001b[0m\u001b[1;33m.\u001b[0m\u001b[0mstdout\u001b[0m\u001b[1;33m:\u001b[0m\u001b[1;33m\u001b[0m\u001b[1;33m\u001b[0m\u001b[0m\n\u001b[1;32m-> 1121\u001b[1;33m                 \u001b[0mstdout\u001b[0m \u001b[1;33m=\u001b[0m \u001b[0mself\u001b[0m\u001b[1;33m.\u001b[0m\u001b[0mstdout\u001b[0m\u001b[1;33m.\u001b[0m\u001b[0mread\u001b[0m\u001b[1;33m(\u001b[0m\u001b[1;33m)\u001b[0m\u001b[1;33m\u001b[0m\u001b[1;33m\u001b[0m\u001b[0m\n\u001b[0m\u001b[0;32m   1122\u001b[0m                 \u001b[0mself\u001b[0m\u001b[1;33m.\u001b[0m\u001b[0mstdout\u001b[0m\u001b[1;33m.\u001b[0m\u001b[0mclose\u001b[0m\u001b[1;33m(\u001b[0m\u001b[1;33m)\u001b[0m\u001b[1;33m\u001b[0m\u001b[1;33m\u001b[0m\u001b[0m\n\u001b[0;32m   1123\u001b[0m             \u001b[1;32melif\u001b[0m \u001b[0mself\u001b[0m\u001b[1;33m.\u001b[0m\u001b[0mstderr\u001b[0m\u001b[1;33m:\u001b[0m\u001b[1;33m\u001b[0m\u001b[1;33m\u001b[0m\u001b[0m\n",
      "\u001b[1;31mKeyboardInterrupt\u001b[0m: "
     ]
    }
   ],
   "source": [
    "def incomp_static(expr):\n",
    "    a2_exp = (bulk - Rational(2, 3) * shear + 2 * shear) / density\n",
    "    expr = expr.subs(alpha2, a2_exp)\n",
    "    expr = expr.subs(lame, bulk - Rational(2, 3) * shear)\n",
    "    expr = expr.subs(beta2, shear /density)\n",
    "    expr = limit(expr, w2, 0)\n",
    "    expr = limit(expr, bulk, oo)\n",
    "    return simplify(expr)\n",
    "    \n",
    "\n",
    "k_pos_incomst = incomp_static(k_pos)\n",
    "k_neg_incomst = incomp_static(k_neg)\n",
    "\n",
    "print('Negative Sol k2')\n",
    "disp(k_neg_incomst)\n",
    "print('Positive Sol k2')\n",
    "disp(k_pos_incomst)\n",
    "\n",
    "y_liqst = find_ys(k_pos_incomst, k_neg_incomst)\n",
    "                    \n",
    "                    \n",
    "for yi, sols in y_liqst.items():\n",
    "    disp(yi)\n",
    "    for soli, sol in sols.items():\n",
    "        print(soli)\n",
    "        disp(factor(incomp_static(sol)))"
   ]
  },
  {
   "cell_type": "markdown",
   "id": "8579a03c",
   "metadata": {},
   "source": [
    "### Shear goes to zero (liquid limit)"
   ]
  },
  {
   "cell_type": "code",
   "execution_count": 26,
   "id": "f7a7a333",
   "metadata": {
    "scrolled": false
   },
   "outputs": [
    {
     "name": "stdout",
     "output_type": "stream",
     "text": [
      "Negative Sol k2\n"
     ]
    },
    {
     "data": {
      "image/png": "[encoded data removed]",
      "text/latex": [
       "$\\displaystyle \\frac{\\rho \\left(- \\gamma^{2} l^{2} - \\gamma^{2} l + 4 \\gamma \\omega^{2} + \\left(\\omega^{2}\\right)^{2}\\right)}{K \\omega^{2}}$"
      ],
      "text/plain": [
       "     ⎛        2  2         2                               2⎞\n",
       "\\rho⋅⎝- \\gamma ⋅l  - \\gamma ⋅l + 4⋅\\gamma⋅\\omega² + \\omega² ⎠\n",
       "─────────────────────────────────────────────────────────────\n",
       "                          K⋅\\omega²                          "
      ]
     },
     "metadata": {},
     "output_type": "display_data"
    },
    {
     "name": "stdout",
     "output_type": "stream",
     "text": [
      "Positive Sol k2\n"
     ]
    },
    {
     "data": {
      "image/png": "[encoded data removed]",
      "text/latex": [
       "$\\displaystyle \\infty$"
      ],
      "text/plain": [
       "∞"
      ]
     },
     "metadata": {},
     "output_type": "display_data"
    },
    {
     "data": {
      "text/plain": [
       "'$y_{1}$'"
      ]
     },
     "metadata": {},
     "output_type": "display_data"
    },
    {
     "name": "stdout",
     "output_type": "stream",
     "text": [
      "\tsol1\n"
     ]
    },
    {
     "data": {
      "image/png": "[encoded data removed]",
      "text/latex": [
       "$\\displaystyle \\frac{r^{l + 1} \\cdot \\left(48 K^{2} \\gamma \\left(\\omega^{2}\\right)^{2} l^{4} + 336 K^{2} \\gamma \\left(\\omega^{2}\\right)^{2} l^{3} + 708 K^{2} \\gamma \\left(\\omega^{2}\\right)^{2} l^{2} + 420 K^{2} \\gamma \\left(\\omega^{2}\\right)^{2} l + 48 K^{2} \\left(\\omega^{2}\\right)^{3} l^{3} + 384 K^{2} \\left(\\omega^{2}\\right)^{3} l^{2} + 996 K^{2} \\left(\\omega^{2}\\right)^{3} l + 840 K^{2} \\left(\\omega^{2}\\right)^{3} + 6 K \\gamma^{3} \\omega^{2} \\rho l^{5} r^{2} + 33 K \\gamma^{3} \\omega^{2} \\rho l^{4} r^{2} + 48 K \\gamma^{3} \\omega^{2} \\rho l^{3} r^{2} + 21 K \\gamma^{3} \\omega^{2} \\rho l^{2} r^{2} + 6 K \\gamma^{2} \\left(\\omega^{2}\\right)^{2} \\rho l^{4} r^{2} + 27 K \\gamma^{2} \\left(\\omega^{2}\\right)^{2} \\rho l^{3} r^{2} + 21 K \\gamma^{2} \\left(\\omega^{2}\\right)^{2} \\rho l^{2} r^{2} - 6 K \\gamma \\left(\\omega^{2}\\right)^{3} \\rho l^{3} r^{2} - 51 K \\gamma \\left(\\omega^{2}\\right)^{3} \\rho l^{2} r^{2} - 201 K \\gamma \\left(\\omega^{2}\\right)^{3} \\rho l r^{2} - 336 K \\gamma \\left(\\omega^{2}\\right)^{3} \\rho r^{2} - 6 K \\left(\\omega^{2}\\right)^{4} \\rho l^{2} r^{2} - 45 K \\left(\\omega^{2}\\right)^{4} \\rho l r^{2} - 84 K \\left(\\omega^{2}\\right)^{4} \\rho r^{2} + \\gamma^{5} \\rho^{2} l^{6} r^{4} + 3 \\gamma^{5} \\rho^{2} l^{5} r^{4} + 3 \\gamma^{5} \\rho^{2} l^{4} r^{4} + \\gamma^{5} \\rho^{2} l^{3} r^{4} + \\gamma^{4} \\omega^{2} \\rho^{2} l^{5} r^{4} - 3 \\gamma^{4} \\omega^{2} \\rho^{2} l^{4} r^{4} - 9 \\gamma^{4} \\omega^{2} \\rho^{2} l^{3} r^{4} - 5 \\gamma^{4} \\omega^{2} \\rho^{2} l^{2} r^{4} - 2 \\gamma^{3} \\left(\\omega^{2}\\right)^{2} \\rho^{2} l^{4} r^{4} - 12 \\gamma^{3} \\left(\\omega^{2}\\right)^{2} \\rho^{2} l^{3} r^{4} - 18 \\gamma^{3} \\left(\\omega^{2}\\right)^{2} \\rho^{2} l^{2} r^{4} - 8 \\gamma^{3} \\left(\\omega^{2}\\right)^{2} \\rho^{2} l r^{4} - 2 \\gamma^{2} \\left(\\omega^{2}\\right)^{3} \\rho^{2} l^{3} r^{4} + 18 \\gamma^{2} \\left(\\omega^{2}\\right)^{3} \\rho^{2} l r^{4} + 48 \\gamma^{2} \\left(\\omega^{2}\\right)^{3} \\rho^{2} r^{4} + \\gamma \\left(\\omega^{2}\\right)^{4} \\rho^{2} l^{2} r^{4} + 9 \\gamma \\left(\\omega^{2}\\right)^{4} \\rho^{2} l r^{4} + 24 \\gamma \\left(\\omega^{2}\\right)^{4} \\rho^{2} r^{4} + \\left(\\omega^{2}\\right)^{5} \\rho^{2} l r^{4} + 3 \\left(\\omega^{2}\\right)^{5} \\rho^{2} r^{4}\\right)}{24 K^{2} \\gamma \\left(\\omega^{2}\\right)^{2} \\cdot \\left(2 l + 3\\right) \\left(2 l + 5\\right) \\left(2 l + 7\\right)}$"
      ],
      "text/plain": [
       " l + 1 ⎛    2               2  4        2               2  3        2         \n",
       "r     ⋅⎝48⋅K ⋅\\gamma⋅\\omega² ⋅l  + 336⋅K ⋅\\gamma⋅\\omega² ⋅l  + 708⋅K ⋅\\gamma⋅\\\n",
       "──────────────────────────────────────────────────────────────────────────────\n",
       "                                                                              \n",
       "                                                                              \n",
       "\n",
       "      2  2        2               2         2        3  3        2        3  2\n",
       "omega² ⋅l  + 420⋅K ⋅\\gamma⋅\\omega² ⋅l + 48⋅K ⋅\\omega² ⋅l  + 384⋅K ⋅\\omega² ⋅l \n",
       "──────────────────────────────────────────────────────────────────────────────\n",
       "                                                                              \n",
       "                                                                              \n",
       "\n",
       "        2        3          2        3             3               5  2       \n",
       " + 996⋅K ⋅\\omega² ⋅l + 840⋅K ⋅\\omega²  + 6⋅K⋅\\gamma ⋅\\omega²⋅\\rho⋅l ⋅r  + 33⋅K\n",
       "──────────────────────────────────────────────────────────────────────────────\n",
       "                                                                              \n",
       "                                                                              \n",
       "\n",
       "       3               4  2              3               3  2              3  \n",
       "⋅\\gamma ⋅\\omega²⋅\\rho⋅l ⋅r  + 48⋅K⋅\\gamma ⋅\\omega²⋅\\rho⋅l ⋅r  + 21⋅K⋅\\gamma ⋅\\\n",
       "──────────────────────────────────────────────────────────────────────────────\n",
       "                                                                              \n",
       "                                                                              \n",
       "\n",
       "             2  2             2        2       4  2              2        2   \n",
       "omega²⋅\\rho⋅l ⋅r  + 6⋅K⋅\\gamma ⋅\\omega² ⋅\\rho⋅l ⋅r  + 27⋅K⋅\\gamma ⋅\\omega² ⋅\\r\n",
       "──────────────────────────────────────────────────────────────────────────────\n",
       "                                                                              \n",
       "                                                                              \n",
       "\n",
       "    3  2              2        2       2  2                     3       3  2  \n",
       "ho⋅l ⋅r  + 21⋅K⋅\\gamma ⋅\\omega² ⋅\\rho⋅l ⋅r  - 6⋅K⋅\\gamma⋅\\omega² ⋅\\rho⋅l ⋅r  -\n",
       "──────────────────────────────────────────────────────────────────────────────\n",
       "                                                                              \n",
       "                                                                              \n",
       "\n",
       "                    3       2  2                       3         2            \n",
       " 51⋅K⋅\\gamma⋅\\omega² ⋅\\rho⋅l ⋅r  - 201⋅K⋅\\gamma⋅\\omega² ⋅\\rho⋅l⋅r  - 336⋅K⋅\\ga\n",
       "──────────────────────────────────────────────────────────────────────────────\n",
       "                                                                              \n",
       "                                                                              \n",
       "\n",
       "           3       2              4       2  2               4         2      \n",
       "mma⋅\\omega² ⋅\\rho⋅r  - 6⋅K⋅\\omega² ⋅\\rho⋅l ⋅r  - 45⋅K⋅\\omega² ⋅\\rho⋅l⋅r  - 84⋅\n",
       "──────────────────────────────────────────────────────────────────────────────\n",
       "                                             2               2                \n",
       "                                         24⋅K ⋅\\gamma⋅\\omega² ⋅(2⋅l + 3)⋅(2⋅l \n",
       "\n",
       "         4       2         5     2  6  4           5     2  5  4           5  \n",
       "K⋅\\omega² ⋅\\rho⋅r  + \\gamma ⋅\\rho ⋅l ⋅r  + 3⋅\\gamma ⋅\\rho ⋅l ⋅r  + 3⋅\\gamma ⋅\\\n",
       "──────────────────────────────────────────────────────────────────────────────\n",
       "                                                                              \n",
       "+ 5)⋅(2⋅l + 7)                                                                \n",
       "\n",
       "   2  4  4         5     2  3  4         4             2  5  4           4    \n",
       "rho ⋅l ⋅r  + \\gamma ⋅\\rho ⋅l ⋅r  + \\gamma ⋅\\omega²⋅\\rho ⋅l ⋅r  - 3⋅\\gamma ⋅\\om\n",
       "──────────────────────────────────────────────────────────────────────────────\n",
       "                                                                              \n",
       "                                                                              \n",
       "\n",
       "         2  4  4           4             2  3  4           4             2  2 \n",
       "ega²⋅\\rho ⋅l ⋅r  - 9⋅\\gamma ⋅\\omega²⋅\\rho ⋅l ⋅r  - 5⋅\\gamma ⋅\\omega²⋅\\rho ⋅l ⋅\n",
       "──────────────────────────────────────────────────────────────────────────────\n",
       "                                                                              \n",
       "                                                                              \n",
       "\n",
       " 4           3        2     2  4  4            3        2     2  3  4         \n",
       "r  - 2⋅\\gamma ⋅\\omega² ⋅\\rho ⋅l ⋅r  - 12⋅\\gamma ⋅\\omega² ⋅\\rho ⋅l ⋅r  - 18⋅\\ga\n",
       "──────────────────────────────────────────────────────────────────────────────\n",
       "                                                                              \n",
       "                                                                              \n",
       "\n",
       "   3        2     2  2  4           3        2     2    4           2        3\n",
       "mma ⋅\\omega² ⋅\\rho ⋅l ⋅r  - 8⋅\\gamma ⋅\\omega² ⋅\\rho ⋅l⋅r  - 2⋅\\gamma ⋅\\omega² \n",
       "──────────────────────────────────────────────────────────────────────────────\n",
       "                                                                              \n",
       "                                                                              \n",
       "\n",
       "     2  3  4            2        3     2    4            2        3     2  4  \n",
       "⋅\\rho ⋅l ⋅r  + 18⋅\\gamma ⋅\\omega² ⋅\\rho ⋅l⋅r  + 48⋅\\gamma ⋅\\omega² ⋅\\rho ⋅r  +\n",
       "──────────────────────────────────────────────────────────────────────────────\n",
       "                                                                              \n",
       "                                                                              \n",
       "\n",
       "               4     2  2  4                   4     2    4                   \n",
       " \\gamma⋅\\omega² ⋅\\rho ⋅l ⋅r  + 9⋅\\gamma⋅\\omega² ⋅\\rho ⋅l⋅r  + 24⋅\\gamma⋅\\omega\n",
       "──────────────────────────────────────────────────────────────────────────────\n",
       "                                                                              \n",
       "                                                                              \n",
       "\n",
       " 4     2  4          5     2    4            5     2  4⎞\n",
       "² ⋅\\rho ⋅r  + \\omega² ⋅\\rho ⋅l⋅r  + 3⋅\\omega² ⋅\\rho ⋅r ⎠\n",
       "────────────────────────────────────────────────────────\n",
       "                                                        \n",
       "                                                        "
      ]
     },
     "metadata": {},
     "output_type": "display_data"
    },
    {
     "name": "stdout",
     "output_type": "stream",
     "text": [
      "\tsol2\n"
     ]
    },
    {
     "data": {
      "text/latex": [
       "$\\displaystyle \\text{NaN}$"
      ],
      "text/plain": [
       "nan"
      ]
     },
     "metadata": {},
     "output_type": "display_data"
    },
    {
     "name": "stdout",
     "output_type": "stream",
     "text": [
      "\tsol3\n"
     ]
    },
    {
     "data": {
      "image/png": "[encoded data removed]",
      "text/latex": [
       "$\\displaystyle l r^{l - 1}$"
      ],
      "text/plain": [
       "   l - 1\n",
       "l⋅r     "
      ]
     },
     "metadata": {},
     "output_type": "display_data"
    },
    {
     "data": {
      "text/plain": [
       "'$y_{2}$'"
      ]
     },
     "metadata": {},
     "output_type": "display_data"
    },
    {
     "name": "stdout",
     "output_type": "stream",
     "text": [
      "\tsol1\n"
     ]
    },
    {
     "data": {
      "image/png": "[encoded data removed]",
      "text/latex": [
       "$\\displaystyle \\frac{r^{l} \\left(32 K^{2} \\left(\\omega^{2}\\right)^{2} l^{2} + 128 K^{2} \\left(\\omega^{2}\\right)^{2} l + 120 K^{2} \\left(\\omega^{2}\\right)^{2} + 8 K \\gamma^{2} \\omega^{2} \\rho l^{3} r^{2} + 28 K \\gamma^{2} \\omega^{2} \\rho l^{2} r^{2} + 20 K \\gamma^{2} \\omega^{2} \\rho l r^{2} - 32 K \\gamma \\left(\\omega^{2}\\right)^{2} \\rho l r^{2} - 80 K \\gamma \\left(\\omega^{2}\\right)^{2} \\rho r^{2} - 8 K \\left(\\omega^{2}\\right)^{3} \\rho l r^{2} - 20 K \\left(\\omega^{2}\\right)^{3} \\rho r^{2} + \\gamma^{4} \\rho^{2} l^{4} r^{4} + 2 \\gamma^{4} \\rho^{2} l^{3} r^{4} + \\gamma^{4} \\rho^{2} l^{2} r^{4} - 8 \\gamma^{3} \\omega^{2} \\rho^{2} l^{2} r^{4} - 8 \\gamma^{3} \\omega^{2} \\rho^{2} l r^{4} - 2 \\gamma^{2} \\left(\\omega^{2}\\right)^{2} \\rho^{2} l^{2} r^{4} - 2 \\gamma^{2} \\left(\\omega^{2}\\right)^{2} \\rho^{2} l r^{4} + 16 \\gamma^{2} \\left(\\omega^{2}\\right)^{2} \\rho^{2} r^{4} + 8 \\gamma \\left(\\omega^{2}\\right)^{3} \\rho^{2} r^{4} + \\left(\\omega^{2}\\right)^{4} \\rho^{2} r^{4}\\right)}{8 K \\gamma \\omega^{2} \\cdot \\left(2 l + 3\\right) \\left(2 l + 5\\right)}$"
      ],
      "text/plain": [
       " l ⎛    2        2  2        2        2          2        2             2     \n",
       "r ⋅⎝32⋅K ⋅\\omega² ⋅l  + 128⋅K ⋅\\omega² ⋅l + 120⋅K ⋅\\omega²  + 8⋅K⋅\\gamma ⋅\\ome\n",
       "──────────────────────────────────────────────────────────────────────────────\n",
       "                                                                              \n",
       "\n",
       "          3  2              2               2  2              2               \n",
       "ga²⋅\\rho⋅l ⋅r  + 28⋅K⋅\\gamma ⋅\\omega²⋅\\rho⋅l ⋅r  + 20⋅K⋅\\gamma ⋅\\omega²⋅\\rho⋅l\n",
       "──────────────────────────────────────────────────────────────────────────────\n",
       "                                                                              \n",
       "\n",
       "  2                      2         2                      2       2           \n",
       "⋅r  - 32⋅K⋅\\gamma⋅\\omega² ⋅\\rho⋅l⋅r  - 80⋅K⋅\\gamma⋅\\omega² ⋅\\rho⋅r  - 8⋅K⋅\\ome\n",
       "──────────────────────────────────────────────────────────────────────────────\n",
       "                                                                              \n",
       "\n",
       "   3         2               3       2         4     2  4  4           4     2\n",
       "ga² ⋅\\rho⋅l⋅r  - 20⋅K⋅\\omega² ⋅\\rho⋅r  + \\gamma ⋅\\rho ⋅l ⋅r  + 2⋅\\gamma ⋅\\rho \n",
       "──────────────────────────────────────────────────────────────────────────────\n",
       "                      8⋅K⋅\\gamma⋅\\omega²⋅(2⋅l + 3)⋅(2⋅l + 5)                  \n",
       "\n",
       "  3  4         4     2  2  4           3             2  2  4           3      \n",
       "⋅l ⋅r  + \\gamma ⋅\\rho ⋅l ⋅r  - 8⋅\\gamma ⋅\\omega²⋅\\rho ⋅l ⋅r  - 8⋅\\gamma ⋅\\omeg\n",
       "──────────────────────────────────────────────────────────────────────────────\n",
       "                                                                              \n",
       "\n",
       "       2    4           2        2     2  2  4           2        2     2    4\n",
       "a²⋅\\rho ⋅l⋅r  - 2⋅\\gamma ⋅\\omega² ⋅\\rho ⋅l ⋅r  - 2⋅\\gamma ⋅\\omega² ⋅\\rho ⋅l⋅r \n",
       "──────────────────────────────────────────────────────────────────────────────\n",
       "                                                                              \n",
       "\n",
       "            2        2     2  4                   3     2  4          4     2 \n",
       " + 16⋅\\gamma ⋅\\omega² ⋅\\rho ⋅r  + 8⋅\\gamma⋅\\omega² ⋅\\rho ⋅r  + \\omega² ⋅\\rho ⋅\n",
       "──────────────────────────────────────────────────────────────────────────────\n",
       "                                                                              \n",
       "\n",
       " 4⎞\n",
       "r ⎠\n",
       "───\n",
       "   "
      ]
     },
     "metadata": {},
     "output_type": "display_data"
    },
    {
     "name": "stdout",
     "output_type": "stream",
     "text": [
      "\tsol2\n"
     ]
    },
    {
     "data": {
      "text/latex": [
       "$\\displaystyle \\text{NaN}$"
      ],
      "text/plain": [
       "nan"
      ]
     },
     "metadata": {},
     "output_type": "display_data"
    },
    {
     "name": "stdout",
     "output_type": "stream",
     "text": [
      "\tsol3\n"
     ]
    },
    {
     "data": {
      "image/png": "[encoded data removed]",
      "text/latex": [
       "$\\displaystyle 0$"
      ],
      "text/plain": [
       "0"
      ]
     },
     "metadata": {},
     "output_type": "display_data"
    },
    {
     "data": {
      "text/plain": [
       "'$y_{3}$'"
      ]
     },
     "metadata": {},
     "output_type": "display_data"
    },
    {
     "name": "stdout",
     "output_type": "stream",
     "text": [
      "\tsol1\n"
     ]
    },
    {
     "data": {
      "image/png": "[encoded data removed]",
      "text/latex": [
       "$\\displaystyle \\frac{r^{l + 1} \\cdot \\left(48 K^{2} \\gamma \\left(\\omega^{2}\\right)^{2} l^{3} + 432 K^{2} \\gamma \\left(\\omega^{2}\\right)^{2} l^{2} + 1284 K^{2} \\gamma \\left(\\omega^{2}\\right)^{2} l + 1260 K^{2} \\gamma \\left(\\omega^{2}\\right)^{2} + 48 K^{2} \\left(\\omega^{2}\\right)^{3} l^{2} + 288 K^{2} \\left(\\omega^{2}\\right)^{3} l + 420 K^{2} \\left(\\omega^{2}\\right)^{3} + 6 K \\gamma^{3} \\omega^{2} \\rho l^{4} r^{2} + 57 K \\gamma^{3} \\omega^{2} \\rho l^{3} r^{2} + 156 K \\gamma^{3} \\omega^{2} \\rho l^{2} r^{2} + 105 K \\gamma^{3} \\omega^{2} \\rho l r^{2} + 6 K \\gamma^{2} \\left(\\omega^{2}\\right)^{2} \\rho l^{3} r^{2} + 3 K \\gamma^{2} \\left(\\omega^{2}\\right)^{2} \\rho l^{2} r^{2} - 183 K \\gamma^{2} \\left(\\omega^{2}\\right)^{2} \\rho l r^{2} - 420 K \\gamma^{2} \\left(\\omega^{2}\\right)^{2} \\rho r^{2} - 6 K \\gamma \\left(\\omega^{2}\\right)^{3} \\rho l^{2} r^{2} - 75 K \\gamma \\left(\\omega^{2}\\right)^{3} \\rho l r^{2} - 189 K \\gamma \\left(\\omega^{2}\\right)^{3} \\rho r^{2} - 6 K \\left(\\omega^{2}\\right)^{4} \\rho l r^{2} - 21 K \\left(\\omega^{2}\\right)^{4} \\rho r^{2} + \\gamma^{5} \\rho^{2} l^{5} r^{4} + 6 \\gamma^{5} \\rho^{2} l^{4} r^{4} + 9 \\gamma^{5} \\rho^{2} l^{3} r^{4} + 4 \\gamma^{5} \\rho^{2} l^{2} r^{4} + \\gamma^{4} \\omega^{2} \\rho^{2} l^{4} r^{4} - 6 \\gamma^{4} \\omega^{2} \\rho^{2} l^{3} r^{4} - 39 \\gamma^{4} \\omega^{2} \\rho^{2} l^{2} r^{4} - 32 \\gamma^{4} \\omega^{2} \\rho^{2} l r^{4} - 2 \\gamma^{3} \\left(\\omega^{2}\\right)^{2} \\rho^{2} l^{3} r^{4} - 18 \\gamma^{3} \\left(\\omega^{2}\\right)^{2} \\rho^{2} l^{2} r^{4} + 64 \\gamma^{3} \\left(\\omega^{2}\\right)^{2} \\rho^{2} r^{4} - 2 \\gamma^{2} \\left(\\omega^{2}\\right)^{3} \\rho^{2} l^{2} r^{4} + 6 \\gamma^{2} \\left(\\omega^{2}\\right)^{3} \\rho^{2} l r^{4} + 48 \\gamma^{2} \\left(\\omega^{2}\\right)^{3} \\rho^{2} r^{4} + \\gamma \\left(\\omega^{2}\\right)^{4} \\rho^{2} l r^{4} + 12 \\gamma \\left(\\omega^{2}\\right)^{4} \\rho^{2} r^{4} + \\left(\\omega^{2}\\right)^{5} \\rho^{2} r^{4}\\right)}{24 K^{2} \\gamma \\left(\\omega^{2}\\right)^{2} \\cdot \\left(2 l + 3\\right) \\left(2 l + 5\\right) \\left(2 l + 7\\right)}$"
      ],
      "text/plain": [
       " l + 1 ⎛    2               2  3        2               2  2         2        \n",
       "r     ⋅⎝48⋅K ⋅\\gamma⋅\\omega² ⋅l  + 432⋅K ⋅\\gamma⋅\\omega² ⋅l  + 1284⋅K ⋅\\gamma⋅\n",
       "──────────────────────────────────────────────────────────────────────────────\n",
       "                                                                              \n",
       "                                                                              \n",
       "\n",
       "       2           2               2       2        3  2        2        3    \n",
       "\\omega² ⋅l + 1260⋅K ⋅\\gamma⋅\\omega²  + 48⋅K ⋅\\omega² ⋅l  + 288⋅K ⋅\\omega² ⋅l +\n",
       "──────────────────────────────────────────────────────────────────────────────\n",
       "                                                                              \n",
       "                                                                              \n",
       "\n",
       "      2        3             3               4  2              3              \n",
       " 420⋅K ⋅\\omega²  + 6⋅K⋅\\gamma ⋅\\omega²⋅\\rho⋅l ⋅r  + 57⋅K⋅\\gamma ⋅\\omega²⋅\\rho⋅\n",
       "──────────────────────────────────────────────────────────────────────────────\n",
       "                                                                              \n",
       "                                                                              \n",
       "\n",
       " 3  2               3               2  2               3                 2    \n",
       "l ⋅r  + 156⋅K⋅\\gamma ⋅\\omega²⋅\\rho⋅l ⋅r  + 105⋅K⋅\\gamma ⋅\\omega²⋅\\rho⋅l⋅r  + 6\n",
       "──────────────────────────────────────────────────────────────────────────────\n",
       "                                                                              \n",
       "                                                                              \n",
       "\n",
       "         2        2       3  2             2        2       2  2              \n",
       "⋅K⋅\\gamma ⋅\\omega² ⋅\\rho⋅l ⋅r  + 3⋅K⋅\\gamma ⋅\\omega² ⋅\\rho⋅l ⋅r  - 183⋅K⋅\\gamm\n",
       "──────────────────────────────────────────────────────────────────────────────\n",
       "                                                                              \n",
       "                                                                              \n",
       "\n",
       " 2        2         2               2        2       2                     3  \n",
       "a ⋅\\omega² ⋅\\rho⋅l⋅r  - 420⋅K⋅\\gamma ⋅\\omega² ⋅\\rho⋅r  - 6⋅K⋅\\gamma⋅\\omega² ⋅\\\n",
       "──────────────────────────────────────────────────────────────────────────────\n",
       "                                                                              \n",
       "                                                                              \n",
       "\n",
       "     2  2                      3         2                       3       2    \n",
       "rho⋅l ⋅r  - 75⋅K⋅\\gamma⋅\\omega² ⋅\\rho⋅l⋅r  - 189⋅K⋅\\gamma⋅\\omega² ⋅\\rho⋅r  - 6\n",
       "──────────────────────────────────────────────────────────────────────────────\n",
       "                                                     2               2        \n",
       "                                                 24⋅K ⋅\\gamma⋅\\omega² ⋅(2⋅l + \n",
       "\n",
       "          4         2               4       2         5     2  5  4           \n",
       "⋅K⋅\\omega² ⋅\\rho⋅l⋅r  - 21⋅K⋅\\omega² ⋅\\rho⋅r  + \\gamma ⋅\\rho ⋅l ⋅r  + 6⋅\\gamma\n",
       "──────────────────────────────────────────────────────────────────────────────\n",
       "                                                                              \n",
       "3)⋅(2⋅l + 5)⋅(2⋅l + 7)                                                        \n",
       "\n",
       "5     2  4  4           5     2  3  4           5     2  2  4         4       \n",
       " ⋅\\rho ⋅l ⋅r  + 9⋅\\gamma ⋅\\rho ⋅l ⋅r  + 4⋅\\gamma ⋅\\rho ⋅l ⋅r  + \\gamma ⋅\\omega\n",
       "──────────────────────────────────────────────────────────────────────────────\n",
       "                                                                              \n",
       "                                                                              \n",
       "\n",
       "      2  4  4           4             2  3  4            4             2  2  4\n",
       "²⋅\\rho ⋅l ⋅r  - 6⋅\\gamma ⋅\\omega²⋅\\rho ⋅l ⋅r  - 39⋅\\gamma ⋅\\omega²⋅\\rho ⋅l ⋅r \n",
       "──────────────────────────────────────────────────────────────────────────────\n",
       "                                                                              \n",
       "                                                                              \n",
       "\n",
       "            4             2    4           3        2     2  3  4            3\n",
       " - 32⋅\\gamma ⋅\\omega²⋅\\rho ⋅l⋅r  - 2⋅\\gamma ⋅\\omega² ⋅\\rho ⋅l ⋅r  - 18⋅\\gamma \n",
       "──────────────────────────────────────────────────────────────────────────────\n",
       "                                                                              \n",
       "                                                                              \n",
       "\n",
       "        2     2  2  4            3        2     2  4           2        3     \n",
       "⋅\\omega² ⋅\\rho ⋅l ⋅r  + 64⋅\\gamma ⋅\\omega² ⋅\\rho ⋅r  - 2⋅\\gamma ⋅\\omega² ⋅\\rho\n",
       "──────────────────────────────────────────────────────────────────────────────\n",
       "                                                                              \n",
       "                                                                              \n",
       "\n",
       "2  2  4           2        3     2    4            2        3     2  4        \n",
       " ⋅l ⋅r  + 6⋅\\gamma ⋅\\omega² ⋅\\rho ⋅l⋅r  + 48⋅\\gamma ⋅\\omega² ⋅\\rho ⋅r  + \\gamm\n",
       "──────────────────────────────────────────────────────────────────────────────\n",
       "                                                                              \n",
       "                                                                              \n",
       "\n",
       "         4     2    4                    4     2  4          5     2  4⎞\n",
       "a⋅\\omega² ⋅\\rho ⋅l⋅r  + 12⋅\\gamma⋅\\omega² ⋅\\rho ⋅r  + \\omega² ⋅\\rho ⋅r ⎠\n",
       "────────────────────────────────────────────────────────────────────────\n",
       "                                                                        \n",
       "                                                                        "
      ]
     },
     "metadata": {},
     "output_type": "display_data"
    },
    {
     "name": "stdout",
     "output_type": "stream",
     "text": [
      "\tsol2\n"
     ]
    },
    {
     "data": {
      "text/latex": [
       "$\\displaystyle \\text{NaN}$"
      ],
      "text/plain": [
       "nan"
      ]
     },
     "metadata": {},
     "output_type": "display_data"
    },
    {
     "name": "stdout",
     "output_type": "stream",
     "text": [
      "\tsol3\n"
     ]
    },
    {
     "data": {
      "image/png": "[encoded data removed]",
      "text/latex": [
       "$\\displaystyle r^{l - 1}$"
      ],
      "text/plain": [
       " l - 1\n",
       "r     "
      ]
     },
     "metadata": {},
     "output_type": "display_data"
    },
    {
     "data": {
      "text/plain": [
       "'$y_{4}$'"
      ]
     },
     "metadata": {},
     "output_type": "display_data"
    },
    {
     "name": "stdout",
     "output_type": "stream",
     "text": [
      "\tsol1\n"
     ]
    },
    {
     "data": {
      "image/png": "[encoded data removed]",
      "text/latex": [
       "$\\displaystyle 0$"
      ],
      "text/plain": [
       "0"
      ]
     },
     "metadata": {},
     "output_type": "display_data"
    },
    {
     "name": "stdout",
     "output_type": "stream",
     "text": [
      "\tsol2\n"
     ]
    },
    {
     "data": {
      "text/latex": [
       "$\\displaystyle \\text{NaN}$"
      ],
      "text/plain": [
       "nan"
      ]
     },
     "metadata": {},
     "output_type": "display_data"
    },
    {
     "name": "stdout",
     "output_type": "stream",
     "text": [
      "\tsol3\n"
     ]
    },
    {
     "data": {
      "image/png": "[encoded data removed]",
      "text/latex": [
       "$\\displaystyle 0$"
      ],
      "text/plain": [
       "0"
      ]
     },
     "metadata": {},
     "output_type": "display_data"
    },
    {
     "data": {
      "text/plain": [
       "'$y_{5}$'"
      ]
     },
     "metadata": {},
     "output_type": "display_data"
    },
    {
     "name": "stdout",
     "output_type": "stream",
     "text": [
      "\tsol1\n"
     ]
    },
    {
     "data": {
      "image/png": "[encoded data removed]",
      "text/latex": [
       "$\\displaystyle \\frac{r^{l} \\left(- 64 K^{3} \\left(\\omega^{2}\\right)^{2} l^{3} - 480 K^{3} \\left(\\omega^{2}\\right)^{2} l^{2} - 1136 K^{3} \\left(\\omega^{2}\\right)^{2} l - 840 K^{3} \\left(\\omega^{2}\\right)^{2} + 48 K^{2} \\gamma \\left(\\omega^{2}\\right)^{2} \\rho l^{2} r^{2} + 288 K^{2} \\gamma \\left(\\omega^{2}\\right)^{2} \\rho l r^{2} + 420 K^{2} \\gamma \\left(\\omega^{2}\\right)^{2} \\rho r^{2} + 6 K \\gamma^{3} \\omega^{2} \\rho^{2} l^{3} r^{4} + 27 K \\gamma^{3} \\omega^{2} \\rho^{2} l^{2} r^{4} + 21 K \\gamma^{3} \\omega^{2} \\rho^{2} l r^{4} - 24 K \\gamma^{2} \\left(\\omega^{2}\\right)^{2} \\rho^{2} l r^{4} - 84 K \\gamma^{2} \\left(\\omega^{2}\\right)^{2} \\rho^{2} r^{4} - 6 K \\gamma \\left(\\omega^{2}\\right)^{3} \\rho^{2} l r^{4} - 21 K \\gamma \\left(\\omega^{2}\\right)^{3} \\rho^{2} r^{4} + \\gamma^{5} \\rho^{3} l^{4} r^{6} + 2 \\gamma^{5} \\rho^{3} l^{3} r^{6} + \\gamma^{5} \\rho^{3} l^{2} r^{6} - 8 \\gamma^{4} \\omega^{2} \\rho^{3} l^{2} r^{6} - 8 \\gamma^{4} \\omega^{2} \\rho^{3} l r^{6} - 2 \\gamma^{3} \\left(\\omega^{2}\\right)^{2} \\rho^{3} l^{2} r^{6} - 2 \\gamma^{3} \\left(\\omega^{2}\\right)^{2} \\rho^{3} l r^{6} + 16 \\gamma^{3} \\left(\\omega^{2}\\right)^{2} \\rho^{3} r^{6} + 8 \\gamma^{2} \\left(\\omega^{2}\\right)^{3} \\rho^{3} r^{6} + \\gamma \\left(\\omega^{2}\\right)^{4} \\rho^{3} r^{6}\\right)}{8 K^{2} \\gamma \\omega^{2} \\rho \\left(2 l + 3\\right) \\left(2 l + 5\\right) \\left(2 l + 7\\right)}$"
      ],
      "text/plain": [
       " l ⎛      3        2  3        3        2  2         3        2          3    \n",
       "r ⋅⎝- 64⋅K ⋅\\omega² ⋅l  - 480⋅K ⋅\\omega² ⋅l  - 1136⋅K ⋅\\omega² ⋅l - 840⋅K ⋅\\om\n",
       "──────────────────────────────────────────────────────────────────────────────\n",
       "                                                                              \n",
       "                                                                              \n",
       "\n",
       "    2       2               2       2  2        2               2         2   \n",
       "ega²  + 48⋅K ⋅\\gamma⋅\\omega² ⋅\\rho⋅l ⋅r  + 288⋅K ⋅\\gamma⋅\\omega² ⋅\\rho⋅l⋅r  + \n",
       "──────────────────────────────────────────────────────────────────────────────\n",
       "                                                                              \n",
       "                                                                              \n",
       "\n",
       "     2               2       2             3             2  3  4              \n",
       "420⋅K ⋅\\gamma⋅\\omega² ⋅\\rho⋅r  + 6⋅K⋅\\gamma ⋅\\omega²⋅\\rho ⋅l ⋅r  + 27⋅K⋅\\gamma\n",
       "──────────────────────────────────────────────────────────────────────────────\n",
       "                                                                              \n",
       "                                                                              \n",
       "\n",
       "3             2  2  4              3             2    4              2        \n",
       " ⋅\\omega²⋅\\rho ⋅l ⋅r  + 21⋅K⋅\\gamma ⋅\\omega²⋅\\rho ⋅l⋅r  - 24⋅K⋅\\gamma ⋅\\omega²\n",
       "──────────────────────────────────────────────────────────────────────────────\n",
       "                                                                              \n",
       "                                                                              \n",
       "\n",
       "2     2    4              2        2     2  4                     3     2    4\n",
       " ⋅\\rho ⋅l⋅r  - 84⋅K⋅\\gamma ⋅\\omega² ⋅\\rho ⋅r  - 6⋅K⋅\\gamma⋅\\omega² ⋅\\rho ⋅l⋅r \n",
       "──────────────────────────────────────────────────────────────────────────────\n",
       "                  2                                                           \n",
       "               8⋅K ⋅\\gamma⋅\\omega²⋅\\rho⋅(2⋅l + 3)⋅(2⋅l + 5)⋅(2⋅l + 7)         \n",
       "\n",
       "                      3     2  4         5     3  4  6           5     3  3  6\n",
       " - 21⋅K⋅\\gamma⋅\\omega² ⋅\\rho ⋅r  + \\gamma ⋅\\rho ⋅l ⋅r  + 2⋅\\gamma ⋅\\rho ⋅l ⋅r \n",
       "──────────────────────────────────────────────────────────────────────────────\n",
       "                                                                              \n",
       "                                                                              \n",
       "\n",
       "         5     3  2  6           4             3  2  6           4            \n",
       " + \\gamma ⋅\\rho ⋅l ⋅r  - 8⋅\\gamma ⋅\\omega²⋅\\rho ⋅l ⋅r  - 8⋅\\gamma ⋅\\omega²⋅\\rh\n",
       "──────────────────────────────────────────────────────────────────────────────\n",
       "                                                                              \n",
       "                                                                              \n",
       "\n",
       " 3    6           3        2     3  2  6           3        2     3    6      \n",
       "o ⋅l⋅r  - 2⋅\\gamma ⋅\\omega² ⋅\\rho ⋅l ⋅r  - 2⋅\\gamma ⋅\\omega² ⋅\\rho ⋅l⋅r  + 16⋅\n",
       "──────────────────────────────────────────────────────────────────────────────\n",
       "                                                                              \n",
       "                                                                              \n",
       "\n",
       "      3        2     3  6           2        3     3  6                 4     \n",
       "\\gamma ⋅\\omega² ⋅\\rho ⋅r  + 8⋅\\gamma ⋅\\omega² ⋅\\rho ⋅r  + \\gamma⋅\\omega² ⋅\\rho\n",
       "──────────────────────────────────────────────────────────────────────────────\n",
       "                                                                              \n",
       "                                                                              \n",
       "\n",
       "3  6⎞\n",
       " ⋅r ⎠\n",
       "─────\n",
       "     \n",
       "     "
      ]
     },
     "metadata": {},
     "output_type": "display_data"
    },
    {
     "name": "stdout",
     "output_type": "stream",
     "text": [
      "\tsol2\n"
     ]
    },
    {
     "data": {
      "text/latex": [
       "$\\displaystyle \\text{NaN}$"
      ],
      "text/plain": [
       "nan"
      ]
     },
     "metadata": {},
     "output_type": "display_data"
    },
    {
     "name": "stdout",
     "output_type": "stream",
     "text": [
      "\tsol3\n"
     ]
    },
    {
     "data": {
      "image/png": "[encoded data removed]",
      "text/latex": [
       "$\\displaystyle r^{l} \\left(\\gamma l - \\omega^{2}\\right)$"
      ],
      "text/plain": [
       " l                     \n",
       "r ⋅(\\gamma⋅l - \\omega²)"
      ]
     },
     "metadata": {},
     "output_type": "display_data"
    },
    {
     "data": {
      "text/plain": [
       "'$y_{6}$'"
      ]
     },
     "metadata": {},
     "output_type": "display_data"
    },
    {
     "name": "stdout",
     "output_type": "stream",
     "text": [
      "\tsol1\n"
     ]
    },
    {
     "data": {
      "image/png": "[encoded data removed]",
      "text/latex": [
       "$\\displaystyle - \\frac{r^{l - 1} \\cdot \\left(128 K^{3} \\left(\\omega^{2}\\right)^{3} l^{4} + 1024 K^{3} \\left(\\omega^{2}\\right)^{3} l^{3} + 2752 K^{3} \\left(\\omega^{2}\\right)^{3} l^{2} + 2816 K^{3} \\left(\\omega^{2}\\right)^{3} l + 840 K^{3} \\left(\\omega^{2}\\right)^{3} + 48 K^{2} \\gamma^{2} \\left(\\omega^{2}\\right)^{2} \\rho l^{4} r^{2} + 336 K^{2} \\gamma^{2} \\left(\\omega^{2}\\right)^{2} \\rho l^{3} r^{2} + 708 K^{2} \\gamma^{2} \\left(\\omega^{2}\\right)^{2} \\rho l^{2} r^{2} + 420 K^{2} \\gamma^{2} \\left(\\omega^{2}\\right)^{2} \\rho l r^{2} - 48 K^{2} \\gamma \\left(\\omega^{2}\\right)^{3} \\rho l^{3} r^{2} - 336 K^{2} \\gamma \\left(\\omega^{2}\\right)^{3} \\rho l^{2} r^{2} - 708 K^{2} \\gamma \\left(\\omega^{2}\\right)^{3} \\rho l r^{2} - 420 K^{2} \\gamma \\left(\\omega^{2}\\right)^{3} \\rho r^{2} + 6 K \\gamma^{4} \\omega^{2} \\rho^{2} l^{5} r^{4} + 33 K \\gamma^{4} \\omega^{2} \\rho^{2} l^{4} r^{4} + 48 K \\gamma^{4} \\omega^{2} \\rho^{2} l^{3} r^{4} + 21 K \\gamma^{4} \\omega^{2} \\rho^{2} l^{2} r^{4} - 6 K \\gamma^{3} \\left(\\omega^{2}\\right)^{2} \\rho^{2} l^{4} r^{4} - 57 K \\gamma^{3} \\left(\\omega^{2}\\right)^{2} \\rho^{2} l^{3} r^{4} - 156 K \\gamma^{3} \\left(\\omega^{2}\\right)^{2} \\rho^{2} l^{2} r^{4} - 105 K \\gamma^{3} \\left(\\omega^{2}\\right)^{2} \\rho^{2} l r^{4} - 6 K \\gamma^{2} \\left(\\omega^{2}\\right)^{3} \\rho^{2} l^{3} r^{4} - 3 K \\gamma^{2} \\left(\\omega^{2}\\right)^{3} \\rho^{2} l^{2} r^{4} + 87 K \\gamma^{2} \\left(\\omega^{2}\\right)^{3} \\rho^{2} l r^{4} + 84 K \\gamma^{2} \\left(\\omega^{2}\\right)^{3} \\rho^{2} r^{4} + 6 K \\gamma \\left(\\omega^{2}\\right)^{4} \\rho^{2} l^{2} r^{4} + 27 K \\gamma \\left(\\omega^{2}\\right)^{4} \\rho^{2} l r^{4} + 21 K \\gamma \\left(\\omega^{2}\\right)^{4} \\rho^{2} r^{4} + \\gamma^{6} \\rho^{3} l^{6} r^{6} + 3 \\gamma^{6} \\rho^{3} l^{5} r^{6} + 3 \\gamma^{6} \\rho^{3} l^{4} r^{6} + \\gamma^{6} \\rho^{3} l^{3} r^{6} - \\gamma^{5} \\omega^{2} \\rho^{3} l^{5} r^{6} - 11 \\gamma^{5} \\omega^{2} \\rho^{3} l^{4} r^{6} - 19 \\gamma^{5} \\omega^{2} \\rho^{3} l^{3} r^{6} - 9 \\gamma^{5} \\omega^{2} \\rho^{3} l^{2} r^{6} - 2 \\gamma^{4} \\left(\\omega^{2}\\right)^{2} \\rho^{3} l^{4} r^{6} + 4 \\gamma^{4} \\left(\\omega^{2}\\right)^{2} \\rho^{3} l^{3} r^{6} + 30 \\gamma^{4} \\left(\\omega^{2}\\right)^{2} \\rho^{3} l^{2} r^{6} + 24 \\gamma^{4} \\left(\\omega^{2}\\right)^{2} \\rho^{3} l r^{6} + 2 \\gamma^{3} \\left(\\omega^{2}\\right)^{3} \\rho^{3} l^{3} r^{6} + 12 \\gamma^{3} \\left(\\omega^{2}\\right)^{3} \\rho^{3} l^{2} r^{6} - 6 \\gamma^{3} \\left(\\omega^{2}\\right)^{3} \\rho^{3} l r^{6} - 16 \\gamma^{3} \\left(\\omega^{2}\\right)^{3} \\rho^{3} r^{6} + \\gamma^{2} \\left(\\omega^{2}\\right)^{4} \\rho^{3} l^{2} r^{6} - 7 \\gamma^{2} \\left(\\omega^{2}\\right)^{4} \\rho^{3} l r^{6} - 8 \\gamma^{2} \\left(\\omega^{2}\\right)^{4} \\rho^{3} r^{6} - \\gamma \\left(\\omega^{2}\\right)^{5} \\rho^{3} l r^{6} - \\gamma \\left(\\omega^{2}\\right)^{5} \\rho^{3} r^{6}\\right)}{8 K^{2} \\gamma \\left(\\omega^{2}\\right)^{2} \\rho \\left(2 l + 3\\right) \\left(2 l + 5\\right) \\left(2 l + 7\\right)}$"
      ],
      "text/plain": [
       "  l - 1 ⎛     3        3  4         3        3  3         3        3  2       \n",
       "-r     ⋅⎝128⋅K ⋅\\omega² ⋅l  + 1024⋅K ⋅\\omega² ⋅l  + 2752⋅K ⋅\\omega² ⋅l  + 2816\n",
       "──────────────────────────────────────────────────────────────────────────────\n",
       "                                                                              \n",
       "                                                                              \n",
       "\n",
       "  3        3          3        3       2       2        2       4  2        2 \n",
       "⋅K ⋅\\omega² ⋅l + 840⋅K ⋅\\omega²  + 48⋅K ⋅\\gamma ⋅\\omega² ⋅\\rho⋅l ⋅r  + 336⋅K ⋅\n",
       "──────────────────────────────────────────────────────────────────────────────\n",
       "                                                                              \n",
       "                                                                              \n",
       "\n",
       "      2        2       3  2        2       2        2       2  2        2     \n",
       "\\gamma ⋅\\omega² ⋅\\rho⋅l ⋅r  + 708⋅K ⋅\\gamma ⋅\\omega² ⋅\\rho⋅l ⋅r  + 420⋅K ⋅\\gam\n",
       "──────────────────────────────────────────────────────────────────────────────\n",
       "                                                                              \n",
       "                                                                              \n",
       "\n",
       "  2        2         2       2               3       3  2        2            \n",
       "ma ⋅\\omega² ⋅\\rho⋅l⋅r  - 48⋅K ⋅\\gamma⋅\\omega² ⋅\\rho⋅l ⋅r  - 336⋅K ⋅\\gamma⋅\\ome\n",
       "──────────────────────────────────────────────────────────────────────────────\n",
       "                                                                              \n",
       "                                                                              \n",
       "\n",
       "   3       2  2        2               3         2        2               3   \n",
       "ga² ⋅\\rho⋅l ⋅r  - 708⋅K ⋅\\gamma⋅\\omega² ⋅\\rho⋅l⋅r  - 420⋅K ⋅\\gamma⋅\\omega² ⋅\\r\n",
       "──────────────────────────────────────────────────────────────────────────────\n",
       "                                                                              \n",
       "                                                                              \n",
       "\n",
       "    2             4             2  5  4              4             2  4  4    \n",
       "ho⋅r  + 6⋅K⋅\\gamma ⋅\\omega²⋅\\rho ⋅l ⋅r  + 33⋅K⋅\\gamma ⋅\\omega²⋅\\rho ⋅l ⋅r  + 4\n",
       "──────────────────────────────────────────────────────────────────────────────\n",
       "                                                                              \n",
       "                                                                              \n",
       "\n",
       "          4             2  3  4              4             2  2  4            \n",
       "8⋅K⋅\\gamma ⋅\\omega²⋅\\rho ⋅l ⋅r  + 21⋅K⋅\\gamma ⋅\\omega²⋅\\rho ⋅l ⋅r  - 6⋅K⋅\\gamm\n",
       "──────────────────────────────────────────────────────────────────────────────\n",
       "                                                                              \n",
       "                                                                              \n",
       "\n",
       " 3        2     2  4  4              3        2     2  3  4               3   \n",
       "a ⋅\\omega² ⋅\\rho ⋅l ⋅r  - 57⋅K⋅\\gamma ⋅\\omega² ⋅\\rho ⋅l ⋅r  - 156⋅K⋅\\gamma ⋅\\o\n",
       "──────────────────────────────────────────────────────────────────────────────\n",
       "                                                                              \n",
       "                                                                              \n",
       "\n",
       "     2     2  2  4               3        2     2    4             2        3 \n",
       "mega² ⋅\\rho ⋅l ⋅r  - 105⋅K⋅\\gamma ⋅\\omega² ⋅\\rho ⋅l⋅r  - 6⋅K⋅\\gamma ⋅\\omega² ⋅\n",
       "──────────────────────────────────────────────────────────────────────────────\n",
       "                                                                              \n",
       "                                                                              \n",
       "\n",
       "    2  3  4             2        3     2  2  4              2        3     2  \n",
       "\\rho ⋅l ⋅r  - 3⋅K⋅\\gamma ⋅\\omega² ⋅\\rho ⋅l ⋅r  + 87⋅K⋅\\gamma ⋅\\omega² ⋅\\rho ⋅l\n",
       "──────────────────────────────────────────────────────────────────────────────\n",
       "                                                2               2             \n",
       "                                             8⋅K ⋅\\gamma⋅\\omega² ⋅\\rho⋅(2⋅l + \n",
       "\n",
       "  4              2        3     2  4                     4     2  2  4        \n",
       "⋅r  + 84⋅K⋅\\gamma ⋅\\omega² ⋅\\rho ⋅r  + 6⋅K⋅\\gamma⋅\\omega² ⋅\\rho ⋅l ⋅r  + 27⋅K⋅\n",
       "──────────────────────────────────────────────────────────────────────────────\n",
       "                                                                              \n",
       "3)⋅(2⋅l + 5)⋅(2⋅l + 7)                                                        \n",
       "\n",
       "              4     2    4                      4     2  4         6     3  6 \n",
       "\\gamma⋅\\omega² ⋅\\rho ⋅l⋅r  + 21⋅K⋅\\gamma⋅\\omega² ⋅\\rho ⋅r  + \\gamma ⋅\\rho ⋅l ⋅\n",
       "──────────────────────────────────────────────────────────────────────────────\n",
       "                                                                              \n",
       "                                                                              \n",
       "\n",
       " 6           6     3  5  6           6     3  4  6         6     3  3  6      \n",
       "r  + 3⋅\\gamma ⋅\\rho ⋅l ⋅r  + 3⋅\\gamma ⋅\\rho ⋅l ⋅r  + \\gamma ⋅\\rho ⋅l ⋅r  - \\ga\n",
       "──────────────────────────────────────────────────────────────────────────────\n",
       "                                                                              \n",
       "                                                                              \n",
       "\n",
       "   5             3  5  6            5             3  4  6            5        \n",
       "mma ⋅\\omega²⋅\\rho ⋅l ⋅r  - 11⋅\\gamma ⋅\\omega²⋅\\rho ⋅l ⋅r  - 19⋅\\gamma ⋅\\omega²\n",
       "──────────────────────────────────────────────────────────────────────────────\n",
       "                                                                              \n",
       "                                                                              \n",
       "\n",
       "     3  3  6           5             3  2  6           4        2     3  4  6 \n",
       "⋅\\rho ⋅l ⋅r  - 9⋅\\gamma ⋅\\omega²⋅\\rho ⋅l ⋅r  - 2⋅\\gamma ⋅\\omega² ⋅\\rho ⋅l ⋅r  \n",
       "──────────────────────────────────────────────────────────────────────────────\n",
       "                                                                              \n",
       "                                                                              \n",
       "\n",
       "          4        2     3  3  6            4        2     3  2  6            \n",
       "+ 4⋅\\gamma ⋅\\omega² ⋅\\rho ⋅l ⋅r  + 30⋅\\gamma ⋅\\omega² ⋅\\rho ⋅l ⋅r  + 24⋅\\gamma\n",
       "──────────────────────────────────────────────────────────────────────────────\n",
       "                                                                              \n",
       "                                                                              \n",
       "\n",
       "4        2     3    6           3        3     3  3  6            3        3  \n",
       " ⋅\\omega² ⋅\\rho ⋅l⋅r  + 2⋅\\gamma ⋅\\omega² ⋅\\rho ⋅l ⋅r  + 12⋅\\gamma ⋅\\omega² ⋅\\\n",
       "──────────────────────────────────────────────────────────────────────────────\n",
       "                                                                              \n",
       "                                                                              \n",
       "\n",
       "   3  2  6           3        3     3    6            3        3     3  6     \n",
       "rho ⋅l ⋅r  - 6⋅\\gamma ⋅\\omega² ⋅\\rho ⋅l⋅r  - 16⋅\\gamma ⋅\\omega² ⋅\\rho ⋅r  + \\g\n",
       "──────────────────────────────────────────────────────────────────────────────\n",
       "                                                                              \n",
       "                                                                              \n",
       "\n",
       "    2        4     3  2  6           2        4     3    6           2        \n",
       "amma ⋅\\omega² ⋅\\rho ⋅l ⋅r  - 7⋅\\gamma ⋅\\omega² ⋅\\rho ⋅l⋅r  - 8⋅\\gamma ⋅\\omega²\n",
       "──────────────────────────────────────────────────────────────────────────────\n",
       "                                                                              \n",
       "                                                                              \n",
       "\n",
       "4     3  6                 5     3    6                 5     3  6⎞ \n",
       " ⋅\\rho ⋅r  - \\gamma⋅\\omega² ⋅\\rho ⋅l⋅r  - \\gamma⋅\\omega² ⋅\\rho ⋅r ⎠ \n",
       "────────────────────────────────────────────────────────────────────\n",
       "                                                                    \n",
       "                                                                    "
      ]
     },
     "metadata": {},
     "output_type": "display_data"
    },
    {
     "name": "stdout",
     "output_type": "stream",
     "text": [
      "\tsol2\n"
     ]
    },
    {
     "data": {
      "text/latex": [
       "$\\displaystyle \\text{NaN}$"
      ],
      "text/plain": [
       "nan"
      ]
     },
     "metadata": {},
     "output_type": "display_data"
    },
    {
     "name": "stdout",
     "output_type": "stream",
     "text": [
      "\tsol3\n"
     ]
    },
    {
     "data": {
      "image/png": "[encoded data removed]",
      "text/latex": [
       "$\\displaystyle r^{l - 1} \\cdot \\left(2 \\gamma l^{2} - 2 \\gamma l - 2 \\omega^{2} l - \\omega^{2}\\right)$"
      ],
      "text/plain": [
       " l - 1 ⎛          2                                     ⎞\n",
       "r     ⋅⎝2⋅\\gamma⋅l  - 2⋅\\gamma⋅l - 2⋅\\omega²⋅l - \\omega²⎠"
      ]
     },
     "metadata": {},
     "output_type": "display_data"
    }
   ],
   "source": [
    "def liquid(expr):\n",
    "    a2_exp = (bulk - Rational(2, 3) * shear + 2 * shear) / density\n",
    "    expr = expr.subs(alpha2, a2_exp)\n",
    "    expr = expr.subs(lame, bulk - Rational(2, 3) * shear)\n",
    "    expr = expr.subs(beta2, shear /density)\n",
    "    expr = limit(expr, shear, 0)\n",
    "    return simplify(expr)\n",
    "    \n",
    "\n",
    "k_pos_liq = liquid(k_pos)\n",
    "k_neg_liq = liquid(k_neg)\n",
    "\n",
    "print('Negative Sol k2')\n",
    "disp(k_neg_liq)\n",
    "print('Positive Sol k2')\n",
    "disp(k_pos_liq)\n",
    "\n",
    "y_liq = find_ys(k_pos_liq, k_neg_liq)\n",
    "                    \n",
    "                    \n",
    "for yi, sols in y_liq.items():\n",
    "    disp(yi)\n",
    "    for soli, sol in sols.items():\n",
    "        print(soli)\n",
    "        disp(factor(liquid(sol)))"
   ]
  },
  {
   "cell_type": "markdown",
   "id": "6b18e490",
   "metadata": {},
   "source": [
    "### Static Limit for Liquid"
   ]
  },
  {
   "cell_type": "code",
   "execution_count": 27,
   "id": "8cf89db0",
   "metadata": {},
   "outputs": [
    {
     "name": "stdout",
     "output_type": "stream",
     "text": [
      "Negative Sol k2\n"
     ]
    },
    {
     "data": {
      "text/latex": [
       "$\\displaystyle \\begin{cases} \\text{NaN} & \\text{for}\\: l^{2} + l = 0 \\\\- \\frac{\\infty l \\left(l + 1\\right)}{\\left|{l \\left(l + 1\\right)}\\right|} & \\text{otherwise} \\end{cases}$"
      ],
      "text/plain": [
       "⎧                    2        \n",
       "⎪     nan       for l  + l = 0\n",
       "⎪                             \n",
       "⎨-∞⋅l⋅(l + 1)                 \n",
       "⎪─────────────    otherwise   \n",
       "⎪ │l⋅(l + 1)│                 \n",
       "⎩                             "
      ]
     },
     "metadata": {},
     "output_type": "display_data"
    },
    {
     "name": "stdout",
     "output_type": "stream",
     "text": [
      "Positive Sol k2\n"
     ]
    },
    {
     "data": {
      "image/png": "[encoded data removed]",
      "text/latex": [
       "$\\displaystyle \\infty$"
      ],
      "text/plain": [
       "∞"
      ]
     },
     "metadata": {},
     "output_type": "display_data"
    },
    {
     "data": {
      "text/plain": [
       "'$y_{1}$'"
      ]
     },
     "metadata": {},
     "output_type": "display_data"
    },
    {
     "name": "stdout",
     "output_type": "stream",
     "text": [
      "\tsol1\n"
     ]
    },
    {
     "data": {
      "text/latex": [
       "$\\displaystyle \\lim_{\\omega^{2} \\to 0^+} \\begin{cases} \\text{NaN} & \\text{for}\\: l^{2} + l = 0 \\\\\\frac{\\infty l^{6}}{8 l^{7} + 76 l^{6} + 270 l^{5} + 449 l^{4} + 352 l^{3} + 105 l^{2}} + \\frac{\\infty l^{5} \\left|{l^{2} + l}\\right|}{8 l^{7} + 76 l^{6} + 270 l^{5} + 449 l^{4} + 352 l^{3} + 105 l^{2}} + \\frac{\\infty l^{5}}{8 l^{7} + 76 l^{6} + 270 l^{5} + 449 l^{4} + 352 l^{3} + 105 l^{2}} + \\frac{\\infty l^{4} \\left|{l^{2} + l}\\right|}{8 l^{7} + 76 l^{6} + 270 l^{5} + 449 l^{4} + 352 l^{3} + 105 l^{2}} + \\frac{\\infty l^{4}}{8 l^{7} + 76 l^{6} + 270 l^{5} + 449 l^{4} + 352 l^{3} + 105 l^{2}} + \\frac{\\infty l^{3} \\left|{l^{2} + l}\\right|}{8 l^{7} + 76 l^{6} + 270 l^{5} + 449 l^{4} + 352 l^{3} + 105 l^{2}} + \\frac{\\infty l^{3}}{8 l^{7} + 76 l^{6} + 270 l^{5} + 449 l^{4} + 352 l^{3} + 105 l^{2}} + \\frac{\\infty l^{2} \\left|{l^{2} + l}\\right|}{8 l^{7} + 76 l^{6} + 270 l^{5} + 449 l^{4} + 352 l^{3} + 105 l^{2}} + \\frac{\\infty l^{2}}{8 l^{7} + 76 l^{6} + 270 l^{5} + 449 l^{4} + 352 l^{3} + 105 l^{2}} + \\frac{\\infty l \\left|{l^{2} + l}\\right|}{8 l^{7} + 76 l^{6} + 270 l^{5} + 449 l^{4} + 352 l^{3} + 105 l^{2}} & \\text{otherwise} \\end{cases}$"
      ],
      "text/plain": [
       "           ⎧                                                                  \n",
       "           ⎪                                                                  \n",
       "           ⎪                                                                  \n",
       "           ⎪                         6                                        \n",
       "    lim    ⎨                      ∞⋅l                                         \n",
       "\\omega²─→0⁺⎪──────────────────────────────────────────────── + ───────────────\n",
       "           ⎪   7       6        5        4        3        2      7       6   \n",
       "           ⎪8⋅l  + 76⋅l  + 270⋅l  + 449⋅l  + 352⋅l  + 105⋅l    8⋅l  + 76⋅l  + \n",
       "           ⎩                                                                  \n",
       "\n",
       "                                                                              \n",
       "                                                                              \n",
       "                                                                              \n",
       "     5 │ 2    │                                              5                \n",
       "  ∞⋅l ⋅│l  + l│                                           ∞⋅l                 \n",
       "───────────────────────────────── + ──────────────────────────────────────────\n",
       "     5        4        3        2      7       6        5        4        3   \n",
       "270⋅l  + 449⋅l  + 352⋅l  + 105⋅l    8⋅l  + 76⋅l  + 270⋅l  + 449⋅l  + 352⋅l  + \n",
       "                                                                              \n",
       "\n",
       "                                                                              \n",
       "                                                                              \n",
       "                                                                              \n",
       "                             4 │ 2    │                                       \n",
       "                          ∞⋅l ⋅│l  + l│                                       \n",
       "────── + ──────────────────────────────────────────────── + ──────────────────\n",
       "     2      7       6        5        4        3        2      7       6      \n",
       "105⋅l    8⋅l  + 76⋅l  + 270⋅l  + 449⋅l  + 352⋅l  + 105⋅l    8⋅l  + 76⋅l  + 270\n",
       "                                                                              \n",
       "\n",
       "                                                                              \n",
       "                              nan                                             \n",
       "                                                                              \n",
       "       4                                             3 │ 2    │               \n",
       "    ∞⋅l                                           ∞⋅l ⋅│l  + l│               \n",
       "────────────────────────────── + ─────────────────────────────────────────────\n",
       "  5        4        3        2      7       6        5        4        3      \n",
       "⋅l  + 449⋅l  + 352⋅l  + 105⋅l    8⋅l  + 76⋅l  + 270⋅l  + 449⋅l  + 352⋅l  + 105\n",
       "                                                                              \n",
       "\n",
       "                                                                              \n",
       "                                                                              \n",
       "                                                                              \n",
       "                               3                                             2\n",
       "                            ∞⋅l                                           ∞⋅l \n",
       "─── + ──────────────────────────────────────────────── + ─────────────────────\n",
       "  2      7       6        5        4        3        2      7       6        5\n",
       "⋅l    8⋅l  + 76⋅l  + 270⋅l  + 449⋅l  + 352⋅l  + 105⋅l    8⋅l  + 76⋅l  + 270⋅l \n",
       "                                                                              \n",
       "\n",
       "                                                                              \n",
       "                                                                              \n",
       "                                                                              \n",
       " │ 2    │                                              2                      \n",
       "⋅│l  + l│                                           ∞⋅l                       \n",
       "─────────────────────────── + ────────────────────────────────────────────────\n",
       "        4        3        2      7       6        5        4        3        2\n",
       " + 449⋅l  + 352⋅l  + 105⋅l    8⋅l  + 76⋅l  + 270⋅l  + 449⋅l  + 352⋅l  + 105⋅l \n",
       "                                                                              \n",
       "\n",
       "                                                          2        \n",
       "                                                     for l  + l = 0\n",
       "                                                                   \n",
       "                         │ 2    │                                  \n",
       "                     ∞⋅l⋅│l  + l│                                  \n",
       " + ────────────────────────────────────────────────    otherwise   \n",
       "      7       6        5        4        3        2                \n",
       "   8⋅l  + 76⋅l  + 270⋅l  + 449⋅l  + 352⋅l  + 105⋅l                 \n",
       "                                                                   "
      ]
     },
     "metadata": {},
     "output_type": "display_data"
    },
    {
     "name": "stdout",
     "output_type": "stream",
     "text": [
      "\tsol2\n"
     ]
    },
    {
     "data": {
      "text/latex": [
       "$\\displaystyle \\text{NaN}$"
      ],
      "text/plain": [
       "nan"
      ]
     },
     "metadata": {},
     "output_type": "display_data"
    },
    {
     "name": "stdout",
     "output_type": "stream",
     "text": [
      "\tsol3\n"
     ]
    },
    {
     "data": {
      "image/png": "[encoded data removed]",
      "text/latex": [
       "$\\displaystyle l r^{l - 1}$"
      ],
      "text/plain": [
       "   l - 1\n",
       "l⋅r     "
      ]
     },
     "metadata": {},
     "output_type": "display_data"
    },
    {
     "data": {
      "text/plain": [
       "'$y_{2}$'"
      ]
     },
     "metadata": {},
     "output_type": "display_data"
    },
    {
     "name": "stdout",
     "output_type": "stream",
     "text": [
      "\tsol1\n"
     ]
    },
    {
     "data": {
      "text/latex": [
       "$\\displaystyle \\text{NaN}$"
      ],
      "text/plain": [
       "nan"
      ]
     },
     "metadata": {},
     "output_type": "display_data"
    },
    {
     "name": "stdout",
     "output_type": "stream",
     "text": [
      "\tsol2\n"
     ]
    },
    {
     "data": {
      "text/latex": [
       "$\\displaystyle \\text{NaN}$"
      ],
      "text/plain": [
       "nan"
      ]
     },
     "metadata": {},
     "output_type": "display_data"
    },
    {
     "name": "stdout",
     "output_type": "stream",
     "text": [
      "\tsol3\n"
     ]
    },
    {
     "data": {
      "image/png": "[encoded data removed]",
      "text/latex": [
       "$\\displaystyle 0$"
      ],
      "text/plain": [
       "0"
      ]
     },
     "metadata": {},
     "output_type": "display_data"
    },
    {
     "data": {
      "text/plain": [
       "'$y_{3}$'"
      ]
     },
     "metadata": {},
     "output_type": "display_data"
    },
    {
     "name": "stdout",
     "output_type": "stream",
     "text": [
      "\tsol1\n"
     ]
    },
    {
     "data": {
      "text/latex": [
       "$\\displaystyle \\begin{cases} \\text{NaN} & \\text{for}\\: l^{2} + l = 0 \\\\\\frac{\\infty l^{5}}{8 l^{4} \\left|{l^{2} + l}\\right| + 68 l^{3} \\left|{l^{2} + l}\\right| + 202 l^{2} \\left|{l^{2} + l}\\right| + 247 l \\left|{l^{2} + l}\\right| + 105 \\left|{l^{2} + l}\\right|} + \\frac{\\infty l^{3}}{8 l^{4} \\left|{l^{2} + l}\\right| + 68 l^{3} \\left|{l^{2} + l}\\right| + 202 l^{2} \\left|{l^{2} + l}\\right| + 247 l \\left|{l^{2} + l}\\right| + 105 \\left|{l^{2} + l}\\right|} + \\frac{\\infty l^{2} \\left|{l^{2} + l}\\right|}{8 l^{4} \\left|{l^{2} + l}\\right| + 68 l^{3} \\left|{l^{2} + l}\\right| + 202 l^{2} \\left|{l^{2} + l}\\right| + 247 l \\left|{l^{2} + l}\\right| + 105 \\left|{l^{2} + l}\\right|} + \\frac{\\infty l}{8 l^{4} \\left|{l^{2} + l}\\right| + 68 l^{3} \\left|{l^{2} + l}\\right| + 202 l^{2} \\left|{l^{2} + l}\\right| + 247 l \\left|{l^{2} + l}\\right| + 105 \\left|{l^{2} + l}\\right|} + \\frac{\\infty \\left|{l^{2} + l}\\right|}{8 l^{4} \\left|{l^{2} + l}\\right| + 68 l^{3} \\left|{l^{2} + l}\\right| + 202 l^{2} \\left|{l^{2} + l}\\right| + 247 l \\left|{l^{2} + l}\\right| + 105 \\left|{l^{2} + l}\\right|} & \\text{otherwise} \\end{cases}$"
      ],
      "text/plain": [
       "⎧                                                                             \n",
       "⎪                                                                             \n",
       "⎪                                                                             \n",
       "⎪                                         5                                   \n",
       "⎨                                      ∞⋅l                                    \n",
       "⎪─────────────────────────────────────────────────────────────────────────────\n",
       "⎪   4 │ 2    │       3 │ 2    │        2 │ 2    │         │ 2    │       │ 2  \n",
       "⎪8⋅l ⋅│l  + l│ + 68⋅l ⋅│l  + l│ + 202⋅l ⋅│l  + l│ + 247⋅l⋅│l  + l│ + 105⋅│l  +\n",
       "⎩                                                                             \n",
       "\n",
       "                                                                              \n",
       "                                                                              \n",
       "                                                                              \n",
       "                                               3                              \n",
       "                                            ∞⋅l                               \n",
       "─── + ────────────────────────────────────────────────────────────────────────\n",
       "  │      4 │ 2    │       3 │ 2    │        2 │ 2    │         │ 2    │       \n",
       " l│   8⋅l ⋅│l  + l│ + 68⋅l ⋅│l  + l│ + 202⋅l ⋅│l  + l│ + 247⋅l⋅│l  + l│ + 105⋅\n",
       "                                                                              \n",
       "\n",
       "                                                                              \n",
       "                                                 nan                          \n",
       "                                                                              \n",
       "                                               2 │ 2    │                     \n",
       "                                            ∞⋅l ⋅│l  + l│                     \n",
       "──────── + ───────────────────────────────────────────────────────────────────\n",
       "│ 2    │      4 │ 2    │       3 │ 2    │        2 │ 2    │         │ 2    │  \n",
       "│l  + l│   8⋅l ⋅│l  + l│ + 68⋅l ⋅│l  + l│ + 202⋅l ⋅│l  + l│ + 247⋅l⋅│l  + l│ +\n",
       "                                                                              \n",
       "\n",
       "                                                                              \n",
       "                                                                              \n",
       "                                                                              \n",
       "                                                                              \n",
       "                                                      ∞⋅l                     \n",
       "───────────── + ──────────────────────────────────────────────────────────────\n",
       "     │ 2    │      4 │ 2    │       3 │ 2    │        2 │ 2    │         │ 2  \n",
       " 105⋅│l  + l│   8⋅l ⋅│l  + l│ + 68⋅l ⋅│l  + l│ + 202⋅l ⋅│l  + l│ + 247⋅l⋅│l  +\n",
       "                                                                              \n",
       "\n",
       "                                                                              \n",
       "                                                                              \n",
       "                                                                              \n",
       "                                                          │ 2    │            \n",
       "                                                        ∞⋅│l  + l│            \n",
       "────────────────── + ─────────────────────────────────────────────────────────\n",
       "  │       │ 2    │      4 │ 2    │       3 │ 2    │        2 │ 2    │         \n",
       " l│ + 105⋅│l  + l│   8⋅l ⋅│l  + l│ + 68⋅l ⋅│l  + l│ + 202⋅l ⋅│l  + l│ + 247⋅l⋅\n",
       "                                                                              \n",
       "\n",
       "                              2        \n",
       "                         for l  + l = 0\n",
       "                                       \n",
       "                                       \n",
       "                                       \n",
       "───────────────────────    otherwise   \n",
       "│ 2    │       │ 2    │                \n",
       "│l  + l│ + 105⋅│l  + l│                \n",
       "                                       "
      ]
     },
     "metadata": {},
     "output_type": "display_data"
    },
    {
     "name": "stdout",
     "output_type": "stream",
     "text": [
      "\tsol2\n"
     ]
    },
    {
     "data": {
      "text/latex": [
       "$\\displaystyle \\text{NaN}$"
      ],
      "text/plain": [
       "nan"
      ]
     },
     "metadata": {},
     "output_type": "display_data"
    },
    {
     "name": "stdout",
     "output_type": "stream",
     "text": [
      "\tsol3\n"
     ]
    },
    {
     "data": {
      "image/png": "[encoded data removed]",
      "text/latex": [
       "$\\displaystyle r^{l - 1}$"
      ],
      "text/plain": [
       " l - 1\n",
       "r     "
      ]
     },
     "metadata": {},
     "output_type": "display_data"
    },
    {
     "data": {
      "text/plain": [
       "'$y_{4}$'"
      ]
     },
     "metadata": {},
     "output_type": "display_data"
    },
    {
     "name": "stdout",
     "output_type": "stream",
     "text": [
      "\tsol1\n"
     ]
    },
    {
     "data": {
      "text/latex": [
       "$\\displaystyle \\text{NaN}$"
      ],
      "text/plain": [
       "nan"
      ]
     },
     "metadata": {},
     "output_type": "display_data"
    },
    {
     "name": "stdout",
     "output_type": "stream",
     "text": [
      "\tsol2\n"
     ]
    },
    {
     "data": {
      "text/latex": [
       "$\\displaystyle \\text{NaN}$"
      ],
      "text/plain": [
       "nan"
      ]
     },
     "metadata": {},
     "output_type": "display_data"
    },
    {
     "name": "stdout",
     "output_type": "stream",
     "text": [
      "\tsol3\n"
     ]
    },
    {
     "data": {
      "image/png": "[encoded data removed]",
      "text/latex": [
       "$\\displaystyle 0$"
      ],
      "text/plain": [
       "0"
      ]
     },
     "metadata": {},
     "output_type": "display_data"
    },
    {
     "data": {
      "text/plain": [
       "'$y_{5}$'"
      ]
     },
     "metadata": {},
     "output_type": "display_data"
    },
    {
     "name": "stdout",
     "output_type": "stream",
     "text": [
      "\tsol1\n"
     ]
    },
    {
     "data": {
      "text/latex": [
       "$\\displaystyle \\text{NaN}$"
      ],
      "text/plain": [
       "nan"
      ]
     },
     "metadata": {},
     "output_type": "display_data"
    },
    {
     "name": "stdout",
     "output_type": "stream",
     "text": [
      "\tsol2\n"
     ]
    },
    {
     "data": {
      "text/latex": [
       "$\\displaystyle \\text{NaN}$"
      ],
      "text/plain": [
       "nan"
      ]
     },
     "metadata": {},
     "output_type": "display_data"
    },
    {
     "name": "stdout",
     "output_type": "stream",
     "text": [
      "\tsol3\n"
     ]
    },
    {
     "data": {
      "image/png": "[encoded data removed]",
      "text/latex": [
       "$\\displaystyle \\gamma l r^{l}$"
      ],
      "text/plain": [
       "          l\n",
       "\\gamma⋅l⋅r "
      ]
     },
     "metadata": {},
     "output_type": "display_data"
    },
    {
     "data": {
      "text/plain": [
       "'$y_{6}$'"
      ]
     },
     "metadata": {},
     "output_type": "display_data"
    },
    {
     "name": "stdout",
     "output_type": "stream",
     "text": [
      "\tsol1\n"
     ]
    },
    {
     "data": {
      "text/latex": [
       "$\\displaystyle \\text{NaN}$"
      ],
      "text/plain": [
       "nan"
      ]
     },
     "metadata": {},
     "output_type": "display_data"
    },
    {
     "name": "stdout",
     "output_type": "stream",
     "text": [
      "\tsol2\n"
     ]
    },
    {
     "data": {
      "text/latex": [
       "$\\displaystyle \\text{NaN}$"
      ],
      "text/plain": [
       "nan"
      ]
     },
     "metadata": {},
     "output_type": "display_data"
    },
    {
     "name": "stdout",
     "output_type": "stream",
     "text": [
      "\tsol3\n"
     ]
    },
    {
     "data": {
      "image/png": "[encoded data removed]",
      "text/latex": [
       "$\\displaystyle 2 \\gamma l r^{l - 1} \\left(l - 1\\right)$"
      ],
      "text/plain": [
       "            l - 1        \n",
       "2⋅\\gamma⋅l⋅r     ⋅(l - 1)"
      ]
     },
     "metadata": {},
     "output_type": "display_data"
    }
   ],
   "source": [
    "def liquid_static(expr):\n",
    "    a2_exp = (bulk - Rational(2, 3) * shear + 2 * shear) / density\n",
    "    expr = expr.subs(alpha2, a2_exp)\n",
    "    expr = expr.subs(lame, bulk - Rational(2, 3) * shear)\n",
    "    expr = expr.subs(beta2, shear /density)\n",
    "    expr = limit(expr, shear, 0)\n",
    "    expr = limit(expr, w2, 0)\n",
    "    return simplify(expr)\n",
    "    \n",
    "\n",
    "k_pos_liqst = liquid_static(k_pos)\n",
    "k_neg_liqst = liquid_static(k_neg)\n",
    "\n",
    "print('Negative Sol k2')\n",
    "disp(k_neg_liqst)\n",
    "print('Positive Sol k2')\n",
    "disp(k_pos_liqst)\n",
    "\n",
    "y_liqst = find_ys(k_pos_liqst, k_neg_liqst)\n",
    "                    \n",
    "                    \n",
    "for yi, sols in y_liqst.items():\n",
    "    disp(yi)\n",
    "    for soli, sol in sols.items():\n",
    "        print(soli)\n",
    "        disp(factor(liquid_static(sol)))"
   ]
  },
  {
   "cell_type": "markdown",
   "id": "f6efb9ce",
   "metadata": {},
   "source": [
    "## Kamata IC"
   ]
  },
  {
   "cell_type": "code",
   "execution_count": 3,
   "id": "a93815e1",
   "metadata": {},
   "outputs": [],
   "source": [
    "def zn(x2, n=2):\n",
    "    \n",
    "    max_l = 10\n",
    "    z = x2 / (2 * max_l + 3)\n",
    "    for l_ in range(n, max_l)[::-1]:\n",
    "        z = x2 / ((2 * l_ + 1) - z)\n",
    "        \n",
    "    return z\n",
    "\n",
    "k2 = Symbol('k_{2}')\n",
    "z_pos = zn(k_pos * r**2)\n",
    "#z_neg = zn(k_neg * r**2)"
   ]
  },
  {
   "cell_type": "code",
   "execution_count": 4,
   "id": "9a67673b",
   "metadata": {},
   "outputs": [
    {
     "data": {
      "image/png": "[encoded data removed]",
      "text/latex": [
       "$\\displaystyle \\frac{\\omega^{2} r^{2} \\cdot \\left(1003917915 \\left(\\beta^{2}\\right)^{4} - 47586825 \\left(\\beta^{2}\\right)^{3} \\omega^{2} r^{2} + 589875 \\left(\\beta^{2}\\right)^{2} \\left(\\omega^{2}\\right)^{2} r^{4} - 2054 \\beta^{2} \\left(\\omega^{2}\\right)^{3} r^{6} + \\left(\\omega^{2}\\right)^{4} r^{8}\\right)}{\\beta^{2} \\cdot \\left(5019589575 \\left(\\beta^{2}\\right)^{4} - 381350970 \\left(\\beta^{2}\\right)^{3} \\omega^{2} r^{2} + 7471035 \\left(\\beta^{2}\\right)^{2} \\left(\\omega^{2}\\right)^{2} r^{4} - 45760 \\beta^{2} \\left(\\omega^{2}\\right)^{3} r^{6} + 67 \\left(\\omega^{2}\\right)^{4} r^{8}\\right)}$"
      ],
      "text/plain": [
       "          2 ⎛                 4                  3          2                2\n",
       " \\omega²⋅r ⋅⎝1003917915⋅\\beta²  - 47586825⋅\\beta² ⋅\\omega²⋅r  + 589875⋅\\beta² \n",
       "──────────────────────────────────────────────────────────────────────────────\n",
       "       ⎛                 4                   3          2                 2   \n",
       "\\beta²⋅⎝5019589575⋅\\beta²  - 381350970⋅\\beta² ⋅\\omega²⋅r  + 7471035⋅\\beta² ⋅\\o\n",
       "\n",
       "        2  4                      3  6          4  8⎞ \n",
       "⋅\\omega² ⋅r  - 2054⋅\\beta²⋅\\omega² ⋅r  + \\omega² ⋅r ⎠ \n",
       "──────────────────────────────────────────────────────\n",
       "     2  4                       3  6             4  8⎞\n",
       "mega² ⋅r  - 45760⋅\\beta²⋅\\omega² ⋅r  + 67⋅\\omega² ⋅r ⎠"
      ]
     },
     "metadata": {},
     "output_type": "display_data"
    }
   ],
   "source": [
    "disp(simplify(limit(z_pos, alpha2, oo)))"
   ]
  },
  {
   "cell_type": "code",
   "execution_count": 5,
   "id": "72d13181",
   "metadata": {},
   "outputs": [
    {
     "data": {
      "image/png": "[encoded data removed]",
      "text/latex": [
       "$\\displaystyle \\frac{\\omega^{2} r^{2} \\cdot \\left(1003917915 \\left(\\beta^{2}\\right)^{4} - 47586825 \\left(\\beta^{2}\\right)^{3} \\omega^{2} r^{2} + 589875 \\left(\\beta^{2}\\right)^{2} \\left(\\omega^{2}\\right)^{2} r^{4} - 2054 \\beta^{2} \\left(\\omega^{2}\\right)^{3} r^{6} + \\left(\\omega^{2}\\right)^{4} r^{8}\\right)}{\\beta^{2} \\cdot \\left(5019589575 \\left(\\beta^{2}\\right)^{4} - 381350970 \\left(\\beta^{2}\\right)^{3} \\omega^{2} r^{2} + 7471035 \\left(\\beta^{2}\\right)^{2} \\left(\\omega^{2}\\right)^{2} r^{4} - 45760 \\beta^{2} \\left(\\omega^{2}\\right)^{3} r^{6} + 67 \\left(\\omega^{2}\\right)^{4} r^{8}\\right)}$"
      ],
      "text/plain": [
       "          2 ⎛                 4                  3          2                2\n",
       " \\omega²⋅r ⋅⎝1003917915⋅\\beta²  - 47586825⋅\\beta² ⋅\\omega²⋅r  + 589875⋅\\beta² \n",
       "──────────────────────────────────────────────────────────────────────────────\n",
       "       ⎛                 4                   3          2                 2   \n",
       "\\beta²⋅⎝5019589575⋅\\beta²  - 381350970⋅\\beta² ⋅\\omega²⋅r  + 7471035⋅\\beta² ⋅\\o\n",
       "\n",
       "        2  4                      3  6          4  8⎞ \n",
       "⋅\\omega² ⋅r  - 2054⋅\\beta²⋅\\omega² ⋅r  + \\omega² ⋅r ⎠ \n",
       "──────────────────────────────────────────────────────\n",
       "     2  4                       3  6             4  8⎞\n",
       "mega² ⋅r  - 45760⋅\\beta²⋅\\omega² ⋅r  + 67⋅\\omega² ⋅r ⎠"
      ]
     },
     "metadata": {},
     "output_type": "display_data"
    }
   ],
   "source": [
    "disp(simplify(limit(z_pos, alpha2, oo)))"
   ]
  },
  {
   "cell_type": "code",
   "execution_count": 6,
   "id": "46546fc4",
   "metadata": {},
   "outputs": [
    {
     "data": {
      "image/png": "[encoded data removed]",
      "text/latex": [
       "$\\displaystyle \\frac{r^{2} \\left(\\frac{\\sqrt{\\left(\\frac{\\omega^{2}}{\\beta^{2}} + \\frac{- 4 \\gamma - \\omega^{2}}{\\alpha^{2}}\\right)^{2} + \\frac{4 \\gamma^{2} l \\left(l + 1\\right)}{\\alpha^{2} \\beta^{2}}}}{2} + \\frac{\\omega^{2}}{2 \\beta^{2}} + \\frac{4 \\gamma + \\omega^{2}}{2 \\alpha^{2}}\\right)}{- \\frac{r^{2} \\left(\\frac{\\sqrt{\\left(\\frac{\\omega^{2}}{\\beta^{2}} + \\frac{- 4 \\gamma - \\omega^{2}}{\\alpha^{2}}\\right)^{2} + \\frac{4 \\gamma^{2} l \\left(l + 1\\right)}{\\alpha^{2} \\beta^{2}}}}{2} + \\frac{\\omega^{2}}{2 \\beta^{2}} + \\frac{4 \\gamma + \\omega^{2}}{2 \\alpha^{2}}\\right)}{- \\frac{r^{2} \\left(\\frac{\\sqrt{\\left(\\frac{\\omega^{2}}{\\beta^{2}} + \\frac{- 4 \\gamma - \\omega^{2}}{\\alpha^{2}}\\right)^{2} + \\frac{4 \\gamma^{2} l \\left(l + 1\\right)}{\\alpha^{2} \\beta^{2}}}}{2} + \\frac{\\omega^{2}}{2 \\beta^{2}} + \\frac{4 \\gamma + \\omega^{2}}{2 \\alpha^{2}}\\right)}{- \\frac{r^{2} \\left(\\frac{\\sqrt{\\left(\\frac{\\omega^{2}}{\\beta^{2}} + \\frac{- 4 \\gamma - \\omega^{2}}{\\alpha^{2}}\\right)^{2} + \\frac{4 \\gamma^{2} l \\left(l + 1\\right)}{\\alpha^{2} \\beta^{2}}}}{2} + \\frac{\\omega^{2}}{2 \\beta^{2}} + \\frac{4 \\gamma + \\omega^{2}}{2 \\alpha^{2}}\\right)}{- \\frac{r^{2} \\left(\\frac{\\sqrt{\\left(\\frac{\\omega^{2}}{\\beta^{2}} + \\frac{- 4 \\gamma - \\omega^{2}}{\\alpha^{2}}\\right)^{2} + \\frac{4 \\gamma^{2} l \\left(l + 1\\right)}{\\alpha^{2} \\beta^{2}}}}{2} + \\frac{\\omega^{2}}{2 \\beta^{2}} + \\frac{4 \\gamma + \\omega^{2}}{2 \\alpha^{2}}\\right)}{- \\frac{r^{2} \\left(\\frac{\\sqrt{\\left(\\frac{\\omega^{2}}{\\beta^{2}} + \\frac{- 4 \\gamma - \\omega^{2}}{\\alpha^{2}}\\right)^{2} + \\frac{4 \\gamma^{2} l \\left(l + 1\\right)}{\\alpha^{2} \\beta^{2}}}}{2} + \\frac{\\omega^{2}}{2 \\beta^{2}} + \\frac{4 \\gamma + \\omega^{2}}{2 \\alpha^{2}}\\right)}{- \\frac{r^{2} \\left(\\frac{\\sqrt{\\left(\\frac{\\omega^{2}}{\\beta^{2}} + \\frac{- 4 \\gamma - \\omega^{2}}{\\alpha^{2}}\\right)^{2} + \\frac{4 \\gamma^{2} l \\left(l + 1\\right)}{\\alpha^{2} \\beta^{2}}}}{2} + \\frac{\\omega^{2}}{2 \\beta^{2}} + \\frac{4 \\gamma + \\omega^{2}}{2 \\alpha^{2}}\\right)}{- \\frac{r^{2} \\left(\\frac{\\sqrt{\\left(\\frac{\\omega^{2}}{\\beta^{2}} + \\frac{- 4 \\gamma - \\omega^{2}}{\\alpha^{2}}\\right)^{2} + \\frac{4 \\gamma^{2} l \\left(l + 1\\right)}{\\alpha^{2} \\beta^{2}}}}{2} + \\frac{\\omega^{2}}{2 \\beta^{2}} + \\frac{4 \\gamma + \\omega^{2}}{2 \\alpha^{2}}\\right)}{- \\frac{r^{2} \\left(\\frac{\\sqrt{\\left(\\frac{\\omega^{2}}{\\beta^{2}} + \\frac{- 4 \\gamma - \\omega^{2}}{\\alpha^{2}}\\right)^{2} + \\frac{4 \\gamma^{2} l \\left(l + 1\\right)}{\\alpha^{2} \\beta^{2}}}}{2} + \\frac{\\omega^{2}}{2 \\beta^{2}} + \\frac{4 \\gamma + \\omega^{2}}{2 \\alpha^{2}}\\right)}{23} + 19} + 17} + 15} + 13} + 11} + 9} + 7} + 5}$"
      ],
      "text/plain": [
       "                              ⎛     __________________________________________\n",
       "                              ⎜    ╱                                2         \n",
       "                              ⎜   ╱  ⎛\\omega²   -4⋅\\gamma - \\omega²⎞    4⋅\\gam\n",
       "                              ⎜  ╱   ⎜─────── + ───────────────────⎟  + ──────\n",
       "                            2 ⎜╲╱    ⎝ \\beta²         \\alpha²      ⎠       \\al\n",
       "                           r ⋅⎜───────────────────────────────────────────────\n",
       "                              ⎝                              2                \n",
       "──────────────────────────────────────────────────────────────────────────────\n",
       "                             ⎛     ___________________________________________\n",
       "                             ⎜    ╱                                2          \n",
       "                             ⎜   ╱  ⎛\\omega²   -4⋅\\gamma - \\omega²⎞    4⋅\\gamm\n",
       "                             ⎜  ╱   ⎜─────── + ───────────────────⎟  + ───────\n",
       "                           2 ⎜╲╱    ⎝ \\beta²         \\alpha²      ⎠       \\alp\n",
       "                          r ⋅⎜────────────────────────────────────────────────\n",
       "                             ⎝                              2                 \n",
       "- ────────────────────────────────────────────────────────────────────────────\n",
       "                            ⎛     ____________________________________________\n",
       "                            ⎜    ╱                                2           \n",
       "                            ⎜   ╱  ⎛\\omega²   -4⋅\\gamma - \\omega²⎞    4⋅\\gamma\n",
       "                            ⎜  ╱   ⎜─────── + ───────────────────⎟  + ────────\n",
       "                          2 ⎜╲╱    ⎝ \\beta²         \\alpha²      ⎠       \\alph\n",
       "                         r ⋅⎜─────────────────────────────────────────────────\n",
       "                            ⎝                              2                  \n",
       "  - ──────────────────────────────────────────────────────────────────────────\n",
       "                           ⎛     _____________________________________________\n",
       "                           ⎜    ╱                                2           2\n",
       "                           ⎜   ╱  ⎛\\omega²   -4⋅\\gamma - \\omega²⎞    4⋅\\gamma \n",
       "                           ⎜  ╱   ⎜─────── + ───────────────────⎟  + ─────────\n",
       "                         2 ⎜╲╱    ⎝ \\beta²         \\alpha²      ⎠       \\alpha\n",
       "                        r ⋅⎜──────────────────────────────────────────────────\n",
       "                           ⎝                              2                   \n",
       "    - ────────────────────────────────────────────────────────────────────────\n",
       "                         ⎛     _______________________________________________\n",
       "                         ⎜    ╱                                2           2  \n",
       "                         ⎜   ╱  ⎛\\omega²   -4⋅\\gamma - \\omega²⎞    4⋅\\gamma ⋅l\n",
       "                         ⎜  ╱   ⎜─────── + ───────────────────⎟  + ───────────\n",
       "                       2 ⎜╲╱    ⎝ \\beta²         \\alpha²      ⎠       \\alpha²⋅\n",
       "                      r ⋅⎜────────────────────────────────────────────────────\n",
       "                         ⎝                              2                     \n",
       "      - ──────────────────────────────────────────────────────────────────────\n",
       "                        ⎛     ________________________________________________\n",
       "                        ⎜    ╱                                2           2   \n",
       "                        ⎜   ╱  ⎛\\omega²   -4⋅\\gamma - \\omega²⎞    4⋅\\gamma ⋅l⋅\n",
       "                        ⎜  ╱   ⎜─────── + ───────────────────⎟  + ────────────\n",
       "                      2 ⎜╲╱    ⎝ \\beta²         \\alpha²      ⎠       \\alpha²⋅\\\n",
       "                     r ⋅⎜─────────────────────────────────────────────────────\n",
       "                        ⎝                              2                      \n",
       "        - ────────────────────────────────────────────────────────────────────\n",
       "                      ⎛     __________________________________________________\n",
       "                      ⎜    ╱                                2           2     \n",
       "                      ⎜   ╱  ⎛\\omega²   -4⋅\\gamma - \\omega²⎞    4⋅\\gamma ⋅l⋅(l\n",
       "                      ⎜  ╱   ⎜─────── + ───────────────────⎟  + ──────────────\n",
       "                    2 ⎜╲╱    ⎝ \\beta²         \\alpha²      ⎠       \\alpha²⋅\\be\n",
       "                   r ⋅⎜───────────────────────────────────────────────────────\n",
       "                      ⎝                              2                        \n",
       "          - ──────────────────────────────────────────────────────────────────\n",
       "                     ⎛     ___________________________________________________\n",
       "                     ⎜    ╱                                2           2      \n",
       "                     ⎜   ╱  ⎛\\omega²   -4⋅\\gamma - \\omega²⎞    4⋅\\gamma ⋅l⋅(l \n",
       "                     ⎜  ╱   ⎜─────── + ───────────────────⎟  + ───────────────\n",
       "                   2 ⎜╲╱    ⎝ \\beta²         \\alpha²      ⎠       \\alpha²⋅\\bet\n",
       "                  r ⋅⎜────────────────────────────────────────────────────────\n",
       "                     ⎝                              2                         \n",
       "            - ────────────────────────────────────────────────────────────────\n",
       "                   ⎛     _____________________________________________________\n",
       "                   ⎜    ╱                                2           2        \n",
       "                   ⎜   ╱  ⎛\\omega²   -4⋅\\gamma - \\omega²⎞    4⋅\\gamma ⋅l⋅(l + \n",
       "                   ⎜  ╱   ⎜─────── + ───────────────────⎟  + ─────────────────\n",
       "                 2 ⎜╲╱    ⎝ \\beta²         \\alpha²      ⎠       \\alpha²⋅\\beta²\n",
       "                r ⋅⎜──────────────────────────────────────────────────────────\n",
       "                   ⎝                              2                           \n",
       "              - ──────────────────────────────────────────────────────────────\n",
       "                                                                23            \n",
       "\n",
       "______________                                ⎞                          \n",
       "  2                                           ⎟                          \n",
       "ma ⋅l⋅(l + 1)                                 ⎟                          \n",
       "─────────────                                 ⎟                          \n",
       "pha²⋅\\beta²      \\omega²    4⋅\\gamma + \\omega²⎟                          \n",
       "────────────── + ──────── + ──────────────────⎟                          \n",
       "                 2⋅\\beta²       2⋅\\alpha²     ⎠                          \n",
       "─────────────────────────────────────────────────────────────────────────\n",
       "_____________                                ⎞                           \n",
       " 2                                           ⎟                           \n",
       "a ⋅l⋅(l + 1)                                 ⎟                           \n",
       "────────────                                 ⎟                           \n",
       "ha²⋅\\beta²      \\omega²    4⋅\\gamma + \\omega²⎟                           \n",
       "───────────── + ──────── + ──────────────────⎟                           \n",
       "                2⋅\\beta²       2⋅\\alpha²     ⎠                           \n",
       "───────────────────────────────────────────────────────────────────── + 5\n",
       "____________                                ⎞                            \n",
       "2                                           ⎟                            \n",
       " ⋅l⋅(l + 1)                                 ⎟                            \n",
       "───────────                                 ⎟                            \n",
       "a²⋅\\beta²      \\omega²    4⋅\\gamma + \\omega²⎟                            \n",
       "──────────── + ──────── + ──────────────────⎟                            \n",
       "               2⋅\\beta²       2⋅\\alpha²     ⎠                            \n",
       "───────────────────────────────────────────────────────────────── + 7    \n",
       "___________                                ⎞                             \n",
       "                                           ⎟                             \n",
       "⋅l⋅(l + 1)                                 ⎟                             \n",
       "──────────                                 ⎟                             \n",
       "²⋅\\beta²      \\omega²    4⋅\\gamma + \\omega²⎟                             \n",
       "─────────── + ──────── + ──────────────────⎟                             \n",
       "              2⋅\\beta²       2⋅\\alpha²     ⎠                             \n",
       "───────────────────────────────────────────────────────────── + 9        \n",
       "_________                                ⎞                               \n",
       "                                         ⎟                               \n",
       "⋅(l + 1)                                 ⎟                               \n",
       "────────                                 ⎟                               \n",
       "\\beta²      \\omega²    4⋅\\gamma + \\omega²⎟                               \n",
       "───────── + ──────── + ──────────────────⎟                               \n",
       "            2⋅\\beta²       2⋅\\alpha²     ⎠                               \n",
       "──────────────────────────────────────────────────────── + 11            \n",
       "________                                ⎞                                \n",
       "                                        ⎟                                \n",
       "(l + 1)                                 ⎟                                \n",
       "───────                                 ⎟                                \n",
       "beta²      \\omega²    4⋅\\gamma + \\omega²⎟                                \n",
       "──────── + ──────── + ──────────────────⎟                                \n",
       "           2⋅\\beta²       2⋅\\alpha²     ⎠                                \n",
       "─────────────────────────────────────────────────── + 13                 \n",
       "______                                ⎞                                  \n",
       "                                      ⎟                                  \n",
       " + 1)                                 ⎟                                  \n",
       "─────                                 ⎟                                  \n",
       "ta²      \\omega²    4⋅\\gamma + \\omega²⎟                                  \n",
       "────── + ──────── + ──────────────────⎟                                  \n",
       "         2⋅\\beta²       2⋅\\alpha²     ⎠                                  \n",
       "────────────────────────────────────────────── + 15                      \n",
       "_____                                ⎞                                   \n",
       "                                     ⎟                                   \n",
       "+ 1)                                 ⎟                                   \n",
       "────                                 ⎟                                   \n",
       "a²      \\omega²    4⋅\\gamma + \\omega²⎟                                   \n",
       "───── + ──────── + ──────────────────⎟                                   \n",
       "        2⋅\\beta²       2⋅\\alpha²     ⎠                                   \n",
       "───────────────────────────────────────── + 17                           \n",
       "___                                ⎞                                     \n",
       "                                   ⎟                                     \n",
       "1)                                 ⎟                                     \n",
       "──                                 ⎟                                     \n",
       "      \\omega²    4⋅\\gamma + \\omega²⎟                                     \n",
       "─── + ──────── + ──────────────────⎟                                     \n",
       "      2⋅\\beta²       2⋅\\alpha²     ⎠                                     \n",
       "──────────────────────────────────── + 19                                \n",
       "                                                                         "
      ]
     },
     "metadata": {},
     "output_type": "display_data"
    }
   ],
   "source": [
    "x = Symbol('x^{2}')\n",
    "z_pos_2 = z_pos.subs(k2 * r**2, x)\n",
    "disp(series(z_pos_2, x, 0))"
   ]
  },
  {
   "cell_type": "code",
   "execution_count": null,
   "id": "b78a736c",
   "metadata": {},
   "outputs": [],
   "source": [
    "def find_ys_kamata(kpos, kneg):\n",
    "    \n",
    "    f_kpos_ = (beta2 * kpos - w2) / gamma\n",
    "    f_kneg_ = (beta2 * kneg - w2) / gamma\n",
    "\n",
    "    h_kpos_ = f_kpos_ - (l + 1)\n",
    "    h_kneg_ = f_kneg_ - (l + 1)\n",
    "    \n",
    "    z_pos = zn(kpos * r**2)\n",
    "    z_neg = zn(kneg * r**2)\n",
    "    \n",
    "    y1_s1 = -f_k_pos_ * z_pos / r\n",
    "    y1_s2 = -f_k_neg_ * z_neg / r\n",
    "    y1_s3 = l / r\n",
    "\n",
    "    y2_s1 = -density * f_kpos_ * alpha**2 * kpos + 2 * shear * (2 * f_kpos_ + l * (l + 1)) * z_pos / r**2\n",
    "    y2_s2 = -density * f_kneg_ * alpha**2 * kneg + 2 * shear * (2 * f_kneg_ + l * (l + 1)) * z_neg / r**2\n",
    "    y2_s3 = 2 * shear * l * (l - 1) / r**2\n",
    "    \n",
    "    y3_s1 = z_pos / r\n",
    "    y3_s2 = z_neg / r\n",
    "    y3_s3 = 1 / r\n",
    "    \n",
    "    y4_s1 = shear * kpos - 2 * shear * (f_kpos_ + 1) * z_pos / r**2\n",
    "    y4_s2 = shear * kneg - 2 * shear * (f_kneg_ + 1) * z_neg / r**2\n",
    "    y4_s3 = 2 * shear (l - 1) / r**2\n",
    "    \n",
    "    y5_s1 = 3 * gamma * f_kpos_ - h_kpos_ * (l * gamma - w2)\n",
    "    y5_s2 = 3 * gamma * f_kneg_ - h_kneg_ * (l * gamma - w2)\n",
    "    y5_s3 = l * gamma - w2\n",
    "    \n",
    "    y6_s1 = (2 * l + 1) * y5_s1 / r\n",
    "    y6_s2 = (2 * l + 1) * y5_s2 / r\n",
    "    y6_s1 = (2 * l + 1) * y5_s3 / r - 3 * l * gamma / r\n",
    "\n",
    "    ys = {\n",
    "        '$y_{1}$': {\n",
    "            '\\tsol1': y1_s1,\n",
    "            '\\tsol2': y1_s2,\n",
    "            '\\tsol3': y1_s3\n",
    "        },\n",
    "        '$y_{2}$': {\n",
    "            '\\tsol1': y2_s1,\n",
    "            '\\tsol2': y2_s2,\n",
    "            '\\tsol3': y2_s3\n",
    "        },\n",
    "        '$y_{3}$': {\n",
    "            '\\tsol1': y3_s1,\n",
    "            '\\tsol2': y3_s2,\n",
    "            '\\tsol3': y3_s3\n",
    "        },\n",
    "        '$y_{4}$': {\n",
    "            '\\tsol1': y4_s1,\n",
    "            '\\tsol2': y4_s2,\n",
    "            '\\tsol3': y4_s3\n",
    "        },\n",
    "        '$y_{5}$': {\n",
    "            '\\tsol1': y5_s1,\n",
    "            '\\tsol2': y5_s2,\n",
    "            '\\tsol3': y5_s3\n",
    "        },\n",
    "        '$y_{6}$': {\n",
    "            '\\tsol1': y6_s1,\n",
    "            '\\tsol2': y6_s2,\n",
    "            '\\tsol3': y6_s3\n",
    "        }\n",
    "    }\n",
    "    \n",
    "    return ys"
   ]
  },
  {
   "cell_type": "markdown",
   "id": "af9ed213",
   "metadata": {},
   "source": [
    "### Incompressiblity"
   ]
  },
  {
   "cell_type": "code",
   "execution_count": 11,
   "id": "7835fd0e",
   "metadata": {},
   "outputs": [
    {
     "name": "stdout",
     "output_type": "stream",
     "text": [
      "k2_pos\n"
     ]
    },
    {
     "data": {
      "image/png": "[encoded data removed]",
      "text/latex": [
       "$\\displaystyle \\frac{\\omega^{2}}{\\beta^{2}}$"
      ],
      "text/plain": [
       "\\omega²\n",
       "───────\n",
       " \\beta²"
      ]
     },
     "metadata": {},
     "output_type": "display_data"
    },
    {
     "name": "stdout",
     "output_type": "stream",
     "text": [
      "f_kpos\n"
     ]
    },
    {
     "data": {
      "image/png": "[encoded data removed]",
      "text/latex": [
       "$\\displaystyle 0$"
      ],
      "text/plain": [
       "0"
      ]
     },
     "metadata": {},
     "output_type": "display_data"
    },
    {
     "name": "stdout",
     "output_type": "stream",
     "text": [
      "f_kpos a2 k2\n"
     ]
    },
    {
     "data": {
      "image/png": "[encoded data removed]",
      "text/latex": [
       "$\\displaystyle \\gamma l \\left(l + 1\\right)$"
      ],
      "text/plain": [
       "\\gamma⋅l⋅(l + 1)"
      ]
     },
     "metadata": {},
     "output_type": "display_data"
    },
    {
     "name": "stdout",
     "output_type": "stream",
     "text": [
      "k2_neg\n"
     ]
    },
    {
     "data": {
      "image/png": "[encoded data removed]",
      "text/latex": [
       "$\\displaystyle 0$"
      ],
      "text/plain": [
       "0"
      ]
     },
     "metadata": {},
     "output_type": "display_data"
    },
    {
     "name": "stdout",
     "output_type": "stream",
     "text": [
      "k2_neg a2\n"
     ]
    },
    {
     "data": {
      "image/png": "[encoded data removed]",
      "text/latex": [
       "$\\displaystyle - \\frac{\\gamma^{2} l^{2}}{\\omega^{2}} - \\frac{\\gamma^{2} l}{\\omega^{2}} + 4 \\gamma + \\omega^{2}$"
      ],
      "text/plain": [
       "        2  2         2                       \n",
       "  \\gamma ⋅l    \\gamma ⋅l                     \n",
       "- ────────── - ───────── + 4⋅\\gamma + \\omega²\n",
       "   \\omega²      \\omega²                      "
      ]
     },
     "metadata": {},
     "output_type": "display_data"
    },
    {
     "name": "stdout",
     "output_type": "stream",
     "text": [
      "f_kneg\n"
     ]
    },
    {
     "data": {
      "image/png": "[encoded data removed]",
      "text/latex": [
       "$\\displaystyle - \\frac{\\omega^{2}}{\\gamma}$"
      ],
      "text/plain": [
       "-\\omega² \n",
       "─────────\n",
       "  \\gamma "
      ]
     },
     "metadata": {},
     "output_type": "display_data"
    }
   ],
   "source": [
    "k_inner_nonsqrt = ((w2 + 4 * gamma) / alpha2) + (w2 / beta2)\n",
    "k_inner_sqrt = ((w2 / beta2) - ((w2 + 4 * gamma) / alpha2))**2 + ((4 * l * (l + 1) * gamma**2) / (alpha2 * beta2))\n",
    "k_pos = Rational(1, 2) * (k_inner_nonsqrt + sqrt(k_inner_sqrt))\n",
    "k_neg = Rational(1, 2) * (k_inner_nonsqrt - sqrt(k_inner_sqrt))\n",
    "\n",
    "f_pos = (beta2 * k_pos - w2) / gamma\n",
    "f_neg = (beta2 * k_neg - w2) / gamma\n",
    "\n",
    "def incomp(expr):\n",
    "    expr = limit(expr, alpha2, oo, '+')\n",
    "    expr = limit(expr, lame, oo, '+')\n",
    "    expr = limit(expr, bulk, oo, '+')\n",
    "    return simplify(expr)\n",
    "\n",
    "print('INCOMP')\n",
    "print('k2_pos')\n",
    "disp(incomp(k_pos))\n",
    "\n",
    "print('f_kpos')\n",
    "disp(incomp(f_pos))\n",
    "\n",
    "print('f_kpos a2 k2')\n",
    "disp(incomp(expand(f_kpos * alpha2 * k_pos)))\n",
    "\n",
    "print('k2_neg')\n",
    "disp(incomp(k_neg))\n",
    "\n",
    "print('k2_neg a2')\n",
    "disp(incomp(expand(k_neg * alpha2)))\n",
    "\n",
    "print('f_kneg')\n",
    "disp(incomp(expand(f_kneg)))\n",
    "\n"
   ]
  }
 ],
 "metadata": {
  "kernelspec": {
   "display_name": "Python 3 (ipykernel)",
   "language": "python",
   "name": "python3"
  },
  "language_info": {
   "codemirror_mode": {
    "name": "ipython",
    "version": 3
   },
   "file_extension": ".py",
   "mimetype": "text/x-python",
   "name": "python",
   "nbconvert_exporter": "python",
   "pygments_lexer": "ipython3",
   "version": "3.8.13"
  }
 },
 "nbformat": 4,
 "nbformat_minor": 5
}
