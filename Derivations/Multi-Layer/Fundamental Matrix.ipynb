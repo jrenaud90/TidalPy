{
 "cells": [
  {
   "cell_type": "markdown",
   "metadata": {},
   "source": [
    "# Propagator Matrix Definiton (Incompressible Limit)\n",
    "Please see Eqs. 2.42 - 2.47"
   ]
  },
  {
   "cell_type": "code",
   "execution_count": 2,
   "metadata": {},
   "outputs": [],
   "source": [
    "import sympy\n",
    "import numpy as np\n",
    "sympy.init_printing()\n",
    "\n",
    "radius_array = sympy.Symbol('R', real=True, positive=True)\n",
    "gravity_array = sympy.Symbol('g', real=True, positive=True)\n",
    "density_array = sympy.Symbol('\\\\rho', real=True, positive=True)\n",
    "shear_array = sympy.Symbol('\\\\mu', real=True, positive=True)\n",
    "pi = sympy.Symbol('\\\\pi', real=True, positive=True)\n",
    "G = sympy.Symbol('G', real=True, positive=True)"
   ]
  },
  {
   "cell_type": "markdown",
   "metadata": {},
   "source": [
    "## Fundamental Matrix - Analytical"
   ]
  },
  {
   "cell_type": "code",
   "execution_count": 3,
   "metadata": {},
   "outputs": [
    {
     "name": "stdout",
     "output_type": "stream",
     "text": [
      "[[], [], [], [], [], []]\n",
      "Fundamental Matrix\n"
     ]
    },
    {
     "data": {
      "text/latex": [
       "$\\displaystyle \\left[\\begin{matrix}\\frac{R^{3}}{7} & R & 0 & \\frac{1}{2 R^{2}} & \\frac{1}{R^{4}} & 0\\\\\\frac{5 R^{3}}{42} & \\frac{R}{2} & 0 & 0 & - \\frac{1}{3 R^{4}} & 0\\\\\\frac{R^{2} \\left(R \\rho g - \\mu\\right)}{7} & R \\rho g + 2 \\mu & - R^{2} \\rho & \\frac{R \\rho g - 6 \\mu}{2 R^{3}} & \\frac{R \\rho g - 8 \\mu}{R^{5}} & - \\frac{\\rho}{R^{3}}\\\\\\frac{8 R^{2} \\mu}{21} & \\mu & 0 & \\frac{\\mu}{2 R^{3}} & \\frac{8 \\mu}{3 R^{5}} & 0\\\\0 & 0 & - R^{2} & 0 & 0 & - \\frac{1}{R^{3}}\\\\\\frac{4 G R^{3} \\pi \\rho}{7} & 4 G R \\pi \\rho & - 5 R & \\frac{2 G \\pi \\rho}{R^{2}} & \\frac{4 G \\pi \\rho}{R^{4}} & 0\\end{matrix}\\right]$"
      ],
      "text/plain": [
       "⎡         3                                                                   \n",
       "⎢        R                                               1                 1  \n",
       "⎢        ──                  R             0            ────               ── \n",
       "⎢        7                                                 2                4 \n",
       "⎢                                                       2⋅R                R  \n",
       "⎢                                                                             \n",
       "⎢          3                                                                  \n",
       "⎢       5⋅R                  R                                            -1  \n",
       "⎢       ────                 ─             0             0                ────\n",
       "⎢        42                  2                                               4\n",
       "⎢                                                                         3⋅R \n",
       "⎢                                                                             \n",
       "⎢ 2                                                                           \n",
       "⎢R ⋅(R⋅\\rho⋅g - \\mu)                      2       R⋅\\rho⋅g - 6⋅\\mu  R⋅\\rho⋅g -\n",
       "⎢───────────────────  R⋅\\rho⋅g + 2⋅\\mu  -R ⋅\\rho  ────────────────  ──────────\n",
       "⎢         7                                                3                5 \n",
       "⎢                                                       2⋅R                R  \n",
       "⎢                                                                             \n",
       "⎢        2                                                                    \n",
       "⎢     8⋅R ⋅\\mu                                          \\mu              8⋅\\mu\n",
       "⎢     ────────              \\mu            0            ────             ─────\n",
       "⎢        21                                                3                 5\n",
       "⎢                                                       2⋅R               3⋅R \n",
       "⎢                                                                             \n",
       "⎢                                           2                                 \n",
       "⎢         0                  0            -R             0                 0  \n",
       "⎢                                                                             \n",
       "⎢                                                                             \n",
       "⎢                                                                             \n",
       "⎢       3                                                                     \n",
       "⎢  4⋅G⋅R ⋅\\pi⋅\\rho                                  2⋅G⋅\\pi⋅\\rho      4⋅G⋅\\pi⋅\n",
       "⎢  ───────────────     4⋅G⋅R⋅\\pi⋅\\rho     -5⋅R      ────────────      ────────\n",
       "⎢         7                                               2                 4 \n",
       "⎣                                                        R                 R  \n",
       "\n",
       "              ⎤\n",
       "              ⎥\n",
       "          0   ⎥\n",
       "              ⎥\n",
       "              ⎥\n",
       "              ⎥\n",
       "              ⎥\n",
       "              ⎥\n",
       "          0   ⎥\n",
       "              ⎥\n",
       "              ⎥\n",
       "              ⎥\n",
       "              ⎥\n",
       " 8⋅\\mu  -\\rho ⎥\n",
       "──────  ──────⎥\n",
       "           3  ⎥\n",
       "          R   ⎥\n",
       "              ⎥\n",
       "              ⎥\n",
       "              ⎥\n",
       "          0   ⎥\n",
       "              ⎥\n",
       "              ⎥\n",
       "              ⎥\n",
       "         -1   ⎥\n",
       "         ───  ⎥\n",
       "           3  ⎥\n",
       "          R   ⎥\n",
       "              ⎥\n",
       "              ⎥\n",
       "\\rho          ⎥\n",
       "────      0   ⎥\n",
       "              ⎥\n",
       "              ⎦"
      ]
     },
     "execution_count": 3,
     "metadata": {},
     "output_type": "execute_result"
    }
   ],
   "source": [
    "fundamental_mtx = [[], [], [], [], [], []]\n",
    "\n",
    "# Optimizations\n",
    "rgp = radius_array * gravity_array * density_array\n",
    "rgp_s = rgp / shear_array\n",
    "r_s = radius_array / shear_array\n",
    "pr_s = density_array * r_s\n",
    "r2 = radius_array * radius_array\n",
    "r3 = radius_array * r2\n",
    "r4 = radius_array * r3\n",
    "r5 = radius_array * r4\n",
    "\n",
    "# Build Fundamental Matrix (zeros do not need to be specifically stated as they were put in at initialization)\n",
    "#     Eq. 2.42 in SVC\n",
    "## Column 1\n",
    "fundamental_mtx[0].append(r3 / 7)\n",
    "fundamental_mtx[1].append(5 * r3 / 42 )\n",
    "fundamental_mtx[2].append((rgp - shear_array) * r2 / 7) ##ERROR IN H&H?\n",
    "fundamental_mtx[3].append(8 * shear_array * r2 / 21)\n",
    "fundamental_mtx[4].append(0)\n",
    "fundamental_mtx[5].append(4 * pi * G * density_array * r3 / 7)\n",
    "\n",
    "## Column 2\n",
    "fundamental_mtx[0].append(radius_array)\n",
    "fundamental_mtx[1].append(radius_array / 2)\n",
    "fundamental_mtx[2].append(rgp + 2 * shear_array)\n",
    "fundamental_mtx[3].append(shear_array)\n",
    "fundamental_mtx[4].append(0)\n",
    "fundamental_mtx[5].append(4 * pi * G * density_array * radius_array)\n",
    "\n",
    "## Column 3\n",
    "fundamental_mtx[0].append(0)\n",
    "fundamental_mtx[1].append(0)\n",
    "fundamental_mtx[2].append(-density_array * r2)  # TODO: Should be negative? SVC changes sign conventions (I flipped back)\n",
    "fundamental_mtx[3].append(0)\n",
    "fundamental_mtx[4].append(-r2)  # TODO: Should be negative? SVC changes sign conventions (I flipped back)\n",
    "fundamental_mtx[5].append(-5 * radius_array)  # TODO: Should be negative? SVC changes sign conventions (I flipped back)\n",
    "\n",
    "## Column 4\n",
    "fundamental_mtx[0].append(1 / (2 * r2))\n",
    "fundamental_mtx[1].append(0)\n",
    "fundamental_mtx[2].append((rgp - 6 * shear_array) / (2 * r3))\n",
    "fundamental_mtx[3].append(shear_array / (2 * r3))\n",
    "fundamental_mtx[4].append(0)\n",
    "fundamental_mtx[5].append(2 * pi * G * density_array / r2)\n",
    "\n",
    "## Column 5\n",
    "fundamental_mtx[0].append(1 / r4)\n",
    "fundamental_mtx[1].append(-1 / (3 * r4))\n",
    "fundamental_mtx[2].append((rgp - 8 * shear_array) / r5)\n",
    "fundamental_mtx[3].append(8 * shear_array / (3 * r5))\n",
    "fundamental_mtx[4].append(0)\n",
    "fundamental_mtx[5].append(4 * pi * G * density_array / r4)\n",
    "\n",
    "## Column 6\n",
    "fundamental_mtx[0].append(0)\n",
    "fundamental_mtx[1].append(0)\n",
    "fundamental_mtx[2].append(-density_array / r3)  # TODO: Should be negative? SVC changes sign conventions (I flipped back)\n",
    "fundamental_mtx[3].append(0)\n",
    "fundamental_mtx[4].append( -1 / r3) # TODO: Should be negative? SVC changes sign conventions (I flipped back)\n",
    "fundamental_mtx[5].append(0)\n",
    "\n",
    "\n",
    "fundamental_mtx = sympy.Matrix(fundamental_mtx)\n",
    "print('Fundamental Matrix')\n",
    "fundamental_mtx\n"
   ]
  },
  {
   "cell_type": "markdown",
   "metadata": {},
   "source": [
    "## Fundamental Matrix Inverse - Analytical"
   ]
  },
  {
   "cell_type": "code",
   "execution_count": 39,
   "metadata": {},
   "outputs": [
    {
     "name": "stdout",
     "output_type": "stream",
     "text": [
      "Fundamental Matrix - Inverse\n"
     ]
    },
    {
     "data": {
      "text/latex": [
       "$\\displaystyle \\left[\\begin{matrix}\\frac{3 \\left(R \\rho g - 8 \\mu\\right)}{5 R^{3} \\mu} & \\frac{48}{5 R^{3}} & - \\frac{3}{5 R^{2} \\mu} & \\frac{6}{5 R^{2} \\mu} & \\frac{3 \\rho}{5 R^{2} \\mu} & 0\\\\- \\frac{\\rho g}{5 \\mu} + \\frac{6}{5 R} & - \\frac{6}{5 R} & \\frac{1}{5 \\mu} & 0 & - \\frac{\\rho}{5 \\mu} & 0\\\\\\frac{4 G \\pi \\rho}{5 R} & 0 & 0 & 0 & 0 & - \\frac{1}{5 R}\\\\\\frac{2 R^{2} \\left(R \\rho g + 2 \\mu\\right)}{5 \\mu} & \\frac{12 R^{2}}{5} & - \\frac{2 R^{3}}{5 \\mu} & - \\frac{6 R^{3}}{5 \\mu} & \\frac{2 R^{3} \\rho}{5 \\mu} & 0\\\\\\frac{3 R^{4} \\left(- R \\rho g + \\mu\\right)}{35 \\mu} & - \\frac{48 R^{4}}{35} & \\frac{3 R^{5}}{35 \\mu} & \\frac{3 R^{5}}{7 \\mu} & - \\frac{3 R^{5} \\rho}{35 \\mu} & 0\\\\400.0 G R \\pi \\rho & 0 & 0 & 0 & 500.0 & - 100.0 R\\end{matrix}\\right]$"
      ],
      "text/plain": [
       "⎡ 3⋅(R⋅\\rho⋅g - 8⋅\\mu)      48       -3         6        3⋅\\rho             ⎤\n",
       "⎢ ────────────────────     ────    ────────  ────────   ────────       0    ⎥\n",
       "⎢          3                  3       2         2          2                ⎥\n",
       "⎢       5⋅R ⋅\\mu           5⋅R     5⋅R ⋅\\mu  5⋅R ⋅\\mu   5⋅R ⋅\\mu            ⎥\n",
       "⎢                                                                           ⎥\n",
       "⎢      \\rho⋅g    6          -6        1                  -\\rho              ⎥\n",
       "⎢    - ────── + ───         ───     ─────       0        ──────        0    ⎥\n",
       "⎢      5⋅\\mu    5⋅R         5⋅R     5⋅\\mu                5⋅\\mu              ⎥\n",
       "⎢                                                                           ⎥\n",
       "⎢     4⋅G⋅\\pi⋅\\rho                                                    -1    ⎥\n",
       "⎢     ────────────           0        0         0           0         ───   ⎥\n",
       "⎢         5⋅R                                                         5⋅R   ⎥\n",
       "⎢                                                                           ⎥\n",
       "⎢   2                          2        3         3        3                ⎥\n",
       "⎢2⋅R ⋅(R⋅\\rho⋅g + 2⋅\\mu)   12⋅R     -2⋅R      -6⋅R      2⋅R ⋅\\rho           ⎥\n",
       "⎢───────────────────────   ─────    ──────    ──────    ─────────      0    ⎥\n",
       "⎢         5⋅\\mu              5      5⋅\\mu     5⋅\\mu       5⋅\\mu             ⎥\n",
       "⎢                                                                           ⎥\n",
       "⎢   4                          4        5         5        5                ⎥\n",
       "⎢3⋅R ⋅(-R⋅\\rho⋅g + \\mu)   -48⋅R      3⋅R       3⋅R     -3⋅R ⋅\\rho           ⎥\n",
       "⎢──────────────────────   ───────   ──────    ─────    ───────────     0    ⎥\n",
       "⎢        35⋅\\mu              35     35⋅\\mu    7⋅\\mu       35⋅\\mu            ⎥\n",
       "⎢                                                                           ⎥\n",
       "⎣  400.0⋅G⋅R⋅\\pi⋅\\rho        0        0         0         500.0     -100.0⋅R⎦"
      ]
     },
     "execution_count": 39,
     "metadata": {},
     "output_type": "execute_result"
    }
   ],
   "source": [
    "fundamental_mtx_invs = [[], [], [], [], [], []]\n",
    "\n",
    "D_array = ((3 / (5 * r3)),\n",
    "           (1 / (5 * radius_array)),\n",
    "           (1 / (5 * radius_array)),\n",
    "           (2 * r2 / 5),\n",
    "           (3 * r4 / 35),\n",
    "           100.)\n",
    "\n",
    "D_mtx = sympy.diag(*D_array)\n",
    "\n",
    "## Column 1\n",
    "fundamental_mtx_invs[0].append(rgp_s - 8)\n",
    "fundamental_mtx_invs[1].append(-rgp_s + 6)\n",
    "fundamental_mtx_invs[2].append(4 * pi * G * density_array)\n",
    "fundamental_mtx_invs[3].append(rgp_s + 2)\n",
    "fundamental_mtx_invs[4].append(-rgp_s + 1)\n",
    "fundamental_mtx_invs[5].append(4 * pi * G * density_array * radius_array)\n",
    "\n",
    "## Column 2\n",
    "fundamental_mtx_invs[0].append(16)\n",
    "fundamental_mtx_invs[1].append(-6)\n",
    "fundamental_mtx_invs[2].append(0)\n",
    "fundamental_mtx_invs[3].append(6)\n",
    "fundamental_mtx_invs[4].append(-16)\n",
    "fundamental_mtx_invs[5].append(0)\n",
    "\n",
    "## Column 3\n",
    "fundamental_mtx_invs[0].append(-r_s)\n",
    "fundamental_mtx_invs[1].append(r_s)\n",
    "fundamental_mtx_invs[2].append(0)\n",
    "fundamental_mtx_invs[3].append(-r_s)\n",
    "fundamental_mtx_invs[4].append(r_s)\n",
    "fundamental_mtx_invs[5].append(0)\n",
    "\n",
    "## Column 4\n",
    "fundamental_mtx_invs[0].append(2 * r_s)\n",
    "fundamental_mtx_invs[1].append(0)\n",
    "fundamental_mtx_invs[2].append(0)\n",
    "fundamental_mtx_invs[3].append(-3 * r_s)\n",
    "fundamental_mtx_invs[4].append(5 * r_s)\n",
    "fundamental_mtx_invs[5].append(0)\n",
    "\n",
    "## Column 5\n",
    "fundamental_mtx_invs[0].append(pr_s)\n",
    "fundamental_mtx_invs[1].append(-pr_s)\n",
    "fundamental_mtx_invs[2].append(0)\n",
    "fundamental_mtx_invs[3].append(pr_s)\n",
    "fundamental_mtx_invs[4].append(-pr_s)\n",
    "fundamental_mtx_invs[5].append(5)\n",
    "\n",
    "## Column 6\n",
    "fundamental_mtx_invs[0].append(0)\n",
    "fundamental_mtx_invs[1].append(0)\n",
    "fundamental_mtx_invs[2].append(-1)\n",
    "fundamental_mtx_invs[3].append(0)\n",
    "fundamental_mtx_invs[4].append(0)\n",
    "fundamental_mtx_invs[5].append(-radius_array)\n",
    "\n",
    "fundamental_mtx_invs = sympy.Matrix(fundamental_mtx_invs)\n",
    "print('Fundamental Matrix - Inverse')\n",
    "D_mtx\n",
    "fundamental_mtx_invs = sympy.simplify(D_mtx * fundamental_mtx_invs)\n",
    "fundamental_mtx_invs"
   ]
  },
  {
   "cell_type": "markdown",
   "metadata": {},
   "source": [
    "## Fundamental Matrix Inverse - Calculated"
   ]
  },
  {
   "cell_type": "code",
   "execution_count": 28,
   "metadata": {
    "scrolled": false
   },
   "outputs": [
    {
     "data": {
      "text/latex": [
       "$\\displaystyle \\left[\\begin{matrix}\\frac{3 \\left(R \\rho g - 8 \\mu\\right)}{5 R^{3} \\mu} & \\frac{48}{5 R^{3}} & - \\frac{3}{5 R^{2} \\mu} & \\frac{6}{5 R^{2} \\mu} & \\frac{3 \\rho}{5 R^{2} \\mu} & 0\\\\- \\frac{\\rho g}{5 \\mu} + \\frac{6}{5 R} & - \\frac{6}{5 R} & \\frac{1}{5 \\mu} & 0 & - \\frac{\\rho}{5 \\mu} & 0\\\\\\frac{4 G \\pi \\rho}{5 R} & 0 & 0 & 0 & 0 & - \\frac{1}{5 R}\\\\\\frac{2 R^{2} \\left(R \\rho g + 2 \\mu\\right)}{5 \\mu} & \\frac{12 R^{2}}{5} & - \\frac{2 R^{3}}{5 \\mu} & - \\frac{6 R^{3}}{5 \\mu} & \\frac{2 R^{3} \\rho}{5 \\mu} & 0\\\\\\frac{3 R^{4} \\left(- R \\rho g + \\mu\\right)}{35 \\mu} & - \\frac{48 R^{4}}{35} & \\frac{3 R^{5}}{35 \\mu} & \\frac{3 R^{5}}{7 \\mu} & - \\frac{3 R^{5} \\rho}{35 \\mu} & 0\\\\- \\frac{4 G R^{4} \\pi \\rho}{5} & 0 & 0 & 0 & - R^{3} & \\frac{R^{4}}{5}\\end{matrix}\\right]$"
      ],
      "text/plain": [
       "⎡ 3⋅(R⋅\\rho⋅g - 8⋅\\mu)      48       -3         6        3⋅\\rho        ⎤\n",
       "⎢ ────────────────────     ────    ────────  ────────   ────────     0 ⎥\n",
       "⎢          3                  3       2         2          2           ⎥\n",
       "⎢       5⋅R ⋅\\mu           5⋅R     5⋅R ⋅\\mu  5⋅R ⋅\\mu   5⋅R ⋅\\mu       ⎥\n",
       "⎢                                                                      ⎥\n",
       "⎢      \\rho⋅g    6          -6        1                  -\\rho         ⎥\n",
       "⎢    - ────── + ───         ───     ─────       0        ──────      0 ⎥\n",
       "⎢      5⋅\\mu    5⋅R         5⋅R     5⋅\\mu                5⋅\\mu         ⎥\n",
       "⎢                                                                      ⎥\n",
       "⎢     4⋅G⋅\\pi⋅\\rho                                                  -1 ⎥\n",
       "⎢     ────────────           0        0         0           0       ───⎥\n",
       "⎢         5⋅R                                                       5⋅R⎥\n",
       "⎢                                                                      ⎥\n",
       "⎢   2                          2        3         3        3           ⎥\n",
       "⎢2⋅R ⋅(R⋅\\rho⋅g + 2⋅\\mu)   12⋅R     -2⋅R      -6⋅R      2⋅R ⋅\\rho      ⎥\n",
       "⎢───────────────────────   ─────    ──────    ──────    ─────────    0 ⎥\n",
       "⎢         5⋅\\mu              5      5⋅\\mu     5⋅\\mu       5⋅\\mu        ⎥\n",
       "⎢                                                                      ⎥\n",
       "⎢   4                          4        5         5        5           ⎥\n",
       "⎢3⋅R ⋅(-R⋅\\rho⋅g + \\mu)   -48⋅R      3⋅R       3⋅R     -3⋅R ⋅\\rho      ⎥\n",
       "⎢──────────────────────   ───────   ──────    ─────    ───────────   0 ⎥\n",
       "⎢        35⋅\\mu              35     35⋅\\mu    7⋅\\mu       35⋅\\mu       ⎥\n",
       "⎢                                                                      ⎥\n",
       "⎢         4                                                          4 ⎥\n",
       "⎢   -4⋅G⋅R ⋅\\pi⋅\\rho                                         3      R  ⎥\n",
       "⎢   ─────────────────        0        0         0          -R       ── ⎥\n",
       "⎣           5                                                       5  ⎦"
      ]
     },
     "execution_count": 28,
     "metadata": {},
     "output_type": "execute_result"
    }
   ],
   "source": [
    "inverse_mtx = fundamental_mtx.inv(method=\"LU\")\n",
    "inverse_mtx = sympy.simplify(inverse_mtx)\n",
    "inverse_mtx"
   ]
  },
  {
   "cell_type": "markdown",
   "metadata": {},
   "source": [
    "### Testing Equivalence"
   ]
  },
  {
   "cell_type": "code",
   "execution_count": 31,
   "metadata": {},
   "outputs": [
    {
     "data": {
      "text/plain": [
       "True"
      ]
     },
     "execution_count": 31,
     "metadata": {},
     "output_type": "execute_result"
    }
   ],
   "source": [
    "fundamental_mtx_invs == inverse_mtx"
   ]
  },
  {
   "cell_type": "code",
   "execution_count": 33,
   "metadata": {},
   "outputs": [
    {
     "data": {
      "text/latex": [
       "$\\displaystyle \\left[\\begin{matrix}1 & 0 & 0 & 0 & 0 & 0\\\\0 & 1 & 0 & 0 & 0 & 0\\\\0 & 0 & 1 & 0 & 0 & 0\\\\0 & 0 & 0 & 1 & 0 & 0\\\\0 & 0 & 0 & 0 & 1 & 0\\\\0 & 0 & 0 & 0 & 0 & 1\\end{matrix}\\right]$"
      ],
      "text/plain": [
       "⎡1  0  0  0  0  0⎤\n",
       "⎢                ⎥\n",
       "⎢0  1  0  0  0  0⎥\n",
       "⎢                ⎥\n",
       "⎢0  0  1  0  0  0⎥\n",
       "⎢                ⎥\n",
       "⎢0  0  0  1  0  0⎥\n",
       "⎢                ⎥\n",
       "⎢0  0  0  0  1  0⎥\n",
       "⎢                ⎥\n",
       "⎣0  0  0  0  0  1⎦"
      ]
     },
     "execution_count": 33,
     "metadata": {},
     "output_type": "execute_result"
    }
   ],
   "source": [
    "idenity_check_1 = sympy.simplify(fundamental_mtx * fundamental_mtx_invs)\n",
    "idenity_check_1"
   ]
  },
  {
   "cell_type": "code",
   "execution_count": 34,
   "metadata": {},
   "outputs": [
    {
     "data": {
      "text/latex": [
       "$\\displaystyle \\left[\\begin{matrix}1 & 0 & 0 & 0 & 0 & 0\\\\0 & 1 & 0 & 0 & 0 & 0\\\\0 & 0 & 1 & 0 & 0 & 0\\\\0 & 0 & 0 & 1 & 0 & 0\\\\0 & 0 & 0 & 0 & 1 & 0\\\\0 & 0 & 0 & 0 & 0 & 1\\end{matrix}\\right]$"
      ],
      "text/plain": [
       "⎡1  0  0  0  0  0⎤\n",
       "⎢                ⎥\n",
       "⎢0  1  0  0  0  0⎥\n",
       "⎢                ⎥\n",
       "⎢0  0  1  0  0  0⎥\n",
       "⎢                ⎥\n",
       "⎢0  0  0  1  0  0⎥\n",
       "⎢                ⎥\n",
       "⎢0  0  0  0  1  0⎥\n",
       "⎢                ⎥\n",
       "⎣0  0  0  0  0  1⎦"
      ]
     },
     "execution_count": 34,
     "metadata": {},
     "output_type": "execute_result"
    }
   ],
   "source": [
    "idenity_check_2 = sympy.simplify(fundamental_mtx * inverse_mtx)\n",
    "idenity_check_2"
   ]
  }
 ],
 "metadata": {
  "kernelspec": {
   "display_name": "Python 3",
   "language": "python",
   "name": "python3"
  },
  "language_info": {
   "codemirror_mode": {
    "name": "ipython",
    "version": 3
   },
   "file_extension": ".py",
   "mimetype": "text/x-python",
   "name": "python",
   "nbconvert_exporter": "python",
   "pygments_lexer": "ipython3",
   "version": "3.8.5"
  }
 },
 "nbformat": 4,
 "nbformat_minor": 4
}
