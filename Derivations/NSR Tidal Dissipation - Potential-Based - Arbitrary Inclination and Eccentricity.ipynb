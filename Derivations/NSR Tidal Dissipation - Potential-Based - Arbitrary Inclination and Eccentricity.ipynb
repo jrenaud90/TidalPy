{
 "cells": [
  {
   "cell_type": "code",
   "execution_count": 1,
   "metadata": {},
   "outputs": [],
   "source": [
    "# Import basic libraries and tools\n",
    "import os\n",
    "import warnings\n",
    "from time import time\n",
    "from scipy.special import gamma\n",
    "import math\n",
    "from sympy import Rational, trigsimp, simplify, expand, factor, Abs, sign, latex\n",
    "from functions.sympy_help import *\n",
    "from functions.inclination_funcs import F_func\n",
    "from functions.eccentricity_funcs import G_func\n",
    "from functions.general_math import binomial_coeff, besselj_func\n",
    "from functions.hansen import hansen_wrapper\n",
    "from functions.hansen import hansen_bessel as hansen_domain_0\n",
    "from functions.hansen import hansen_kIsZero_nIsNeg as hansen_domain_1\n",
    "from functions.hansen import hansen_kIsZero_nIsPos as hansen_domain_2"
   ]
  },
  {
   "cell_type": "code",
   "execution_count": 2,
   "metadata": {
    "scrolled": false
   },
   "outputs": [],
   "source": [
    "# use NSR\n",
    "use_nsr = True\n",
    "\n",
    "# Set Max l\n",
    "min_l = 2\n",
    "max_l = 2\n",
    "\n",
    "# Set max power of eccentricity\n",
    "max_e_power = 2\n",
    "\n",
    "# Performance Notes:\n",
    "#    Compiling Results for l=2, e=20 on my desktop takes 68952.3862695694 Sec (19 Hours)\n",
    "#    After ^ that compile, did it for l=3, e=20 ** ** takes 104769.17482447624 Sec (29 Hours) \n",
    "#   ^^ for l=7, e=20 ^^ takes 376306.64565110207 (using function, not this notebook) (4.35 days)\n",
    "\n",
    "max_e_calc_power = max_e_power\n",
    "\n",
    "max_q = math.ceil(max_e_calc_power / 2)\n",
    "\n",
    "if max_e_power > 18:\n",
    "    warnings.warn('Setting the max eccentricity power to above 18 may require significant system memory and (until multi-processing is implemented) significant calculation times.')"
   ]
  },
  {
   "cell_type": "code",
   "execution_count": 3,
   "metadata": {},
   "outputs": [],
   "source": [
    "# Calculate universal coefficients\n",
    "print_uni_coeffs = False\n",
    "if print_uni_coeffs:\n",
    "    for l in range(7, 7+1):\n",
    "        for m in range(0, l+1):\n",
    "            if m == 0:\n",
    "                universal_coeff = Rational(gamma(1 + l - m), gamma(1 + l + m))\n",
    "            else:\n",
    "                universal_coeff = 2*Rational(gamma(1 + l - m), gamma(1 + l + m))\n",
    "            print(l, m)\n",
    "            disp(universal_coeff)"
   ]
  },
  {
   "cell_type": "code",
   "execution_count": 7,
   "metadata": {
    "scrolled": false
   },
   "outputs": [
    {
     "name": "stdout",
     "output_type": "stream",
     "text": [
      "2 0 0\n"
     ]
    },
    {
     "data": {
      "image/png": "[encoded data removed]",
      "text/latex": [
       "$\\displaystyle \\frac{9 \\sin^{4}{\\left(I^{}_{S} \\right)}}{64}$"
      ],
      "text/plain": [
       "     4       \n",
       "9⋅sin (I_S__)\n",
       "─────────────\n",
       "      64     "
      ]
     },
     "metadata": {},
     "output_type": "display_data"
    },
    {
     "name": "stdout",
     "output_type": "stream",
     "text": [
      "2 0 1\n"
     ]
    },
    {
     "data": {
      "image/png": "[encoded data removed]",
      "text/latex": [
       "$\\displaystyle \\left(\\sin^{4}{\\left(\\frac{I^{}_{S}}{2} \\right)} - \\sin^{2}{\\left(\\frac{I^{}_{S}}{2} \\right)} - \\frac{\\sin^{2}{\\left(I^{}_{S} \\right)}}{2} + \\frac{1}{2}\\right)^{2}$"
      ],
      "text/plain": [
       "                                             2\n",
       "⎛                               2           ⎞ \n",
       "⎜   4⎛I_S__⎞      2⎛I_S__⎞   sin (I_S__)   1⎟ \n",
       "⎜sin ⎜─────⎟ - sin ⎜─────⎟ - ─────────── + ─⎟ \n",
       "⎝    ⎝  2  ⎠       ⎝  2  ⎠        2        2⎠ "
      ]
     },
     "metadata": {},
     "output_type": "display_data"
    },
    {
     "name": "stdout",
     "output_type": "stream",
     "text": [
      "2 0 2\n"
     ]
    },
    {
     "data": {
      "image/png": "[encoded data removed]",
      "text/latex": [
       "$\\displaystyle \\frac{9 \\sin^{4}{\\left(I^{}_{S} \\right)}}{64}$"
      ],
      "text/plain": [
       "     4       \n",
       "9⋅sin (I_S__)\n",
       "─────────────\n",
       "      64     "
      ]
     },
     "metadata": {},
     "output_type": "display_data"
    },
    {
     "name": "stdout",
     "output_type": "stream",
     "text": [
      "2 1 0\n"
     ]
    },
    {
     "data": {
      "image/png": "[encoded data removed]",
      "text/latex": [
       "$\\displaystyle 9 \\sin^{2}{\\left(\\frac{I^{}_{S}}{2} \\right)} \\cos^{6}{\\left(\\frac{I^{}_{S}}{2} \\right)}$"
      ],
      "text/plain": [
       "     2⎛I_S__⎞    6⎛I_S__⎞\n",
       "9⋅sin ⎜─────⎟⋅cos ⎜─────⎟\n",
       "      ⎝  2  ⎠     ⎝  2  ⎠"
      ]
     },
     "metadata": {},
     "output_type": "display_data"
    },
    {
     "name": "stdout",
     "output_type": "stream",
     "text": [
      "2 1 1\n"
     ]
    },
    {
     "data": {
      "image/png": "[encoded data removed]",
      "text/latex": [
       "$\\displaystyle \\frac{9 \\sin^{2}{\\left(2 I^{}_{S} \\right)}}{16}$"
      ],
      "text/plain": [
       "     2         \n",
       "9⋅sin (2⋅I_S__)\n",
       "───────────────\n",
       "       16      "
      ]
     },
     "metadata": {},
     "output_type": "display_data"
    },
    {
     "name": "stdout",
     "output_type": "stream",
     "text": [
      "2 1 2\n"
     ]
    },
    {
     "data": {
      "image/png": "[encoded data removed]",
      "text/latex": [
       "$\\displaystyle 9 \\sin^{6}{\\left(\\frac{I^{}_{S}}{2} \\right)} \\cos^{2}{\\left(\\frac{I^{}_{S}}{2} \\right)}$"
      ],
      "text/plain": [
       "     6⎛I_S__⎞    2⎛I_S__⎞\n",
       "9⋅sin ⎜─────⎟⋅cos ⎜─────⎟\n",
       "      ⎝  2  ⎠     ⎝  2  ⎠"
      ]
     },
     "metadata": {},
     "output_type": "display_data"
    },
    {
     "name": "stdout",
     "output_type": "stream",
     "text": [
      "2 2 0\n"
     ]
    },
    {
     "data": {
      "image/png": "[encoded data removed]",
      "text/latex": [
       "$\\displaystyle 9 \\cos^{8}{\\left(\\frac{I^{}_{S}}{2} \\right)}$"
      ],
      "text/plain": [
       "     8⎛I_S__⎞\n",
       "9⋅cos ⎜─────⎟\n",
       "      ⎝  2  ⎠"
      ]
     },
     "metadata": {},
     "output_type": "display_data"
    },
    {
     "name": "stdout",
     "output_type": "stream",
     "text": [
      "2 2 1\n"
     ]
    },
    {
     "data": {
      "image/png": "[encoded data removed]",
      "text/latex": [
       "$\\displaystyle \\frac{9 \\sin^{4}{\\left(I^{}_{S} \\right)}}{4}$"
      ],
      "text/plain": [
       "     4       \n",
       "9⋅sin (I_S__)\n",
       "─────────────\n",
       "      4      "
      ]
     },
     "metadata": {},
     "output_type": "display_data"
    },
    {
     "name": "stdout",
     "output_type": "stream",
     "text": [
      "2 2 2\n"
     ]
    },
    {
     "data": {
      "image/png": "[encoded data removed]",
      "text/latex": [
       "$\\displaystyle 9 \\sin^{8}{\\left(\\frac{I^{}_{S}}{2} \\right)}$"
      ],
      "text/plain": [
       "     8⎛I_S__⎞\n",
       "9⋅sin ⎜─────⎟\n",
       "      ⎝  2  ⎠"
      ]
     },
     "metadata": {},
     "output_type": "display_data"
    }
   ],
   "source": [
    "# Print and/or Save to Disk Inclination Functions\n",
    "\n",
    "print_inclines = True\n",
    "reduce_fractions = True\n",
    "tab = '    '\n",
    "\n",
    "l_ = max_l\n",
    "\n",
    "incline_str = '@njit\\ndef calc_inclination(inclination: FloatArray) -> Dict[Tuple[int, int], FloatArray]:\\n' + tab + '\"\"\"Calculate F^2_lmp for l = ' + f'{l_}' + '\"\"\"\\n\\n' + tab\n",
    "incline_str += f'# Inclination Functions Calculated for l = {l_}.\\n' + tab\n",
    "incline_str_off = '@njit\\ndef calc_inclination_off(inclination: FloatArray) -> Dict[Tuple[int, int], FloatArray]:\\n' + tab + '\"\"\"Calculate F^2_lmp (assuming I=0) for l = ' + f'{l_}' + '\"\"\"\\n\\n' + tab\n",
    "incline_str_off += f'# Inclination Functions Calculated for l = {l_}, Inclination == off.\\n'\n",
    "\n",
    "incline_str += f'# Optimizations\\n' + tab\n",
    "incline_str += 'i = inclination\\n' + tab\n",
    "incline_str += 'i_half = i / 2.\\n' + tab\n",
    "incline_str += 'i_double = 2. * i\\n' + tab\n",
    "incline_str += 'i_triple = 3. * i\\n' + tab\n",
    "incline_str += 'sin_i = np.sin(i)\\n' + tab\n",
    "incline_str += 'cos_i = np.cos(i)\\n' + tab\n",
    "incline_str += 'sin_i_half = np.sin(i_half)\\n' + tab\n",
    "incline_str += 'cos_i_half = np.cos(i_half)\\n' + tab\n",
    "incline_str += 'sin_i_double = np.sin(i_double)\\n' + tab\n",
    "incline_str += 'cos_i_double = np.cos(i_double)\\n' + tab\n",
    "incline_str += 'sin_i_triple = np.sin(i_triple)\\n' + tab\n",
    "incline_str += 'cos_i_triple = np.cos(i_triple)\\n' + '\\n'\n",
    "\n",
    "incline_str += tab + 'inclination_results = {\\n'\n",
    "\n",
    "incline_str_off += tab + 'ones_ = np.ones_like(inclination)\\n\\n'\n",
    "incline_str_off += tab + 'inclination_results = {\\n'\n",
    "\n",
    "for m in range(0, l_ + 1):\n",
    "\n",
    "    for p in range(0, l_ + 1):\n",
    "\n",
    "        F2 = trigsimp(F_func(l_, m, p, obliquity_sat)**2)\n",
    "        if print_inclines:\n",
    "            print(l_, m, p)\n",
    "            disp(F2)\n",
    "        F2_off = F2.subs(obliquity_sat, 0)\n",
    "        if reduce_fractions:\n",
    "            F2 = F2.evalf(25)\n",
    "            F2_off = F2_off.evalf(25)\n",
    "        F2_str = str(F2)\n",
    "        F2_off_str = str(F2_off)\n",
    "        F2_str = F2_str.replace('sin(I___S/2)', 'sin_i_half')\n",
    "        F2_str = F2_str.replace('cos(I___S/2)', 'cos_i_half')\n",
    "        F2_str = F2_str.replace('sin(2*I___S)', 'sin_i_double')\n",
    "        F2_str = F2_str.replace('cos(2*I___S)', 'cos_i_double')\n",
    "        F2_str = F2_str.replace('sin(3*I___S)', 'sin_i_triple')\n",
    "        F2_str = F2_str.replace('cos(3*I___S)', 'cos_i_triple')\n",
    "        F2_str = F2_str.replace('sin(I___S)', 'sin_i')\n",
    "        F2_str = F2_str.replace('cos(I___S)', 'cos_i')\n",
    "\n",
    "        if F2_str == '0':\n",
    "            pass\n",
    "        else:\n",
    "            incline_str += 2*tab + f'({m}, {p}) : ' + F2_str\n",
    "            if m == l_ and p == l_:\n",
    "                incline_str += '\\n'\n",
    "            else:\n",
    "                incline_str += ',\\n'\n",
    "\n",
    "        if F2_off_str == '0':\n",
    "            pass\n",
    "        else:\n",
    "            incline_str_off += 2*tab + f'({m}, {p}) : ' + F2_off_str + ' * ones_'\n",
    "            if m == l_ and p == l_:\n",
    "                incline_str_off += '\\n'\n",
    "            else:\n",
    "                incline_str_off += ',\\n'\n",
    "\n",
    "incline_str += tab + '}\\n'\n",
    "incline_str += '\\n' + tab + 'return inclination_results\\n'\n",
    "incline_str_off += tab + '}\\n'\n",
    "incline_str_off += '\\n' + tab + 'return inclination_results\\n'\n",
    "\n",
    "file_name = f'NSR Dissipation - TidalPy Output - Inclination Output for {l_}.py'\n",
    "with open(file_name, 'w') as incline_file:\n",
    "    incline_file.write(incline_str_off + '\\n\\n')\n",
    "    incline_file.write(incline_str)"
   ]
  },
  {
   "cell_type": "code",
   "execution_count": 5,
   "metadata": {
    "scrolled": false
   },
   "outputs": [],
   "source": [
    "# Test what q-values we should include.taylor(func, x, n, x0=0., debug=False)\n",
    "show_q_check = False\n",
    "show_all_relavent_qs = False\n",
    "show_specific_qs = []\n",
    "\n",
    "if show_q_check:\n",
    "    if show_all_relavent_qs:\n",
    "        q_range = range(-max_q, max_q+1)\n",
    "    else:\n",
    "        q_range = show_specific_qs\n",
    "\n",
    "    for q_ in q_range:\n",
    "        \n",
    "        print('... next q ...')\n",
    "        print(f'\\tq = {q_}')\n",
    "        for p_ in [0, 1, 2]:\n",
    "            print('... next p ...')\n",
    "            print(f'\\tp = {p_}')\n",
    "            t_i = time()\n",
    "            _, g_ = G_func(2, p_, q_, eccentricity, cutoff_power=max_e_calc_power)\n",
    "            print(f'Calc Time = {time() - t_i}')\n",
    "            \n",
    "#             print('\\tG')\n",
    "#             disp(g)\n",
    "            print('\\tG^2')\n",
    "            \n",
    "            t_i = time()\n",
    "            if g_.getO() is None:\n",
    "                res = g_**2\n",
    "            else:\n",
    "                g_ = g_.removeO()**2\n",
    "                res = taylor(g_, eccentricity, max_e_calc_power+1)\n",
    "            print(f'Taylor Time = {time() - t_i}')\n",
    "            disp(res)"
   ]
  },
  {
   "cell_type": "code",
   "execution_count": 6,
   "metadata": {
    "scrolled": false
   },
   "outputs": [
    {
     "name": "stdout",
     "output_type": "stream",
     "text": [
      "Building: (2, 0, 0, -1)  \n",
      "Starting Hansen Calculation (Bessel Domain, CO=3)\n",
      "e**3/16 - e/2\n",
      "-e/2 + O(e**3)                  ]\n",
      "-e/2 + O(e**3)                  ]\n",
      "-e/2 + O(e**3)###               ]\n",
      "-e/2 + O(e**3)###########       ]\n",
      "\t[##############################]\n",
      "\tTime to Build Mode: 0.29 s\n",
      "Building: (2, 0, 0, 0)  \n",
      "Starting Hansen Calculation (Bessel Domain, CO=3)\n",
      "1 - e**2\n",
      "-e**2 - e*(-2*e**3 + 4*e)/2 + 1 ]\n",
      "1 - 3*e**2 + O(e**3)            ]\n",
      "1 - 3*e**2 + O(e**3)            ]\n",
      "1 - 3*e**2 + O(e**3)#####       ]\n",
      "\t[##############################]\n",
      "\tTime to Build Mode: 0.03 s\n",
      "Building: (2, 0, 0, 1)  \n",
      "Starting Hansen Calculation (Bessel Domain, CO=3)\n",
      "-27*e**3/16 + 3*e/2\n",
      "3*e/2 - e*(9*e**2 - 4)/2 + O(e**3)\n",
      "7*e/2 + O(e**3)                 ]\n",
      "7*e/2 + O(e**3)##               ]\n",
      "7*e/2 + O(e**3)##########       ]\n",
      "\t[##############################]\n",
      "\tTime to Build Mode: 0.06 s\n",
      "Building: (2, 0, 1, -1)  \n",
      "Starting Hansen Calculation (Bessel Domain, CO=3)\n",
      "-e**3/16 + e/2\n",
      "e/2 - e*(e**2/4 - 2)/2 + O(e**3)]\n",
      "3*e/2 + O(e**3)                 ]\n",
      "3*e/2 + O(e**3)##               ]\n",
      "3*e/2 + O(e**3)##########       ]\n",
      "\t[##############################]\n",
      "\tTime to Build Mode: 0.04 s\n",
      "Building: (2, 0, 1, 0)  \n",
      "\tTime to Build Mode: 0.03 s\n",
      "Building: (2, 0, 1, 1)  \n",
      "\tTime to Build Mode: 0.00 s\n",
      "Building: (2, 0, 2, -1)  \n",
      "\tTime to Build Mode: 0.00 s\n",
      "Building: (2, 0, 2, 0)  \n",
      "\tTime to Build Mode: 0.00 s\n",
      "Building: (2, 0, 2, 1)  \n",
      "\tTime to Build Mode: 0.00 s\n",
      "Total Time to Construct Tables: 1.96 Secs\n"
     ]
    }
   ],
   "source": [
    "# Primary Calculation Point: Build eccentricity, obliquity, and mode tables\n",
    "\n",
    "print_list = False\n",
    "build_tables = True\n",
    "loud_eccentricity_funcs = True\n",
    "\n",
    "g_table = dict()\n",
    "f_table_host = dict()\n",
    "f_table_sat = dict()\n",
    "g2_table = dict()\n",
    "f2_table_host = dict()\n",
    "f2_table_sat = dict()\n",
    "omega_table_host = dict()\n",
    "omega_table_sat = dict()\n",
    "freq_table_host = dict()\n",
    "freq_table_sat = dict()\n",
    "sign_table_host = dict()\n",
    "sign_table_sat = dict()\n",
    "love_table_host = dict()\n",
    "love_table_sat = dict()\n",
    "love_omg_table_host = dict()\n",
    "love_omg_table_sat = dict()\n",
    "\n",
    "init_time = time()\n",
    "\n",
    "if print_list or build_tables:\n",
    "    for l in range(min_l, max_l+1):\n",
    "        \n",
    "        try:\n",
    "            love_func_host = love_func_lookup['host'][l]\n",
    "            love_func_sat = love_func_lookup['sat'][l]\n",
    "        except KeyError:\n",
    "            raise NotImplemented(f'l = {l} has not been implemented.')\n",
    "        \n",
    "        for m in range(0, l+1):\n",
    "            for p in range(0, l+1):\n",
    "                \n",
    "                if build_tables:\n",
    "                    # Build Inclination (Obliquity) Tables\n",
    "                    f_table_host[(l, m, p)] = F_func(l, m, p, obliquity_host, auto_taylor=False, run_trigsimp=False)\n",
    "                    f_table_sat[(l, m, p)] = F_func(l, m, p, obliquity_sat, auto_taylor=False, run_trigsimp=False)\n",
    "                    f2_table_host[(l, m, p)] = simplify(expand(f_table_host[(l, m, p)] * f_table_host[(l, m, p)]))\n",
    "                    f2_table_sat[(l, m, p)] = simplify(expand(f_table_sat[(l, m, p)] * f_table_sat[(l, m, p)]))\n",
    "        \n",
    "                for q in range(-max_q, max_q+1):\n",
    "                    \n",
    "                    if build_tables:\n",
    "                        # Build Eccentricity Tables\n",
    "                        if m == 0:\n",
    "                            # There are only unique eccentricity functions for the m=0 (they are the same for other m's)\n",
    "                            q_init_time = time()\n",
    "                            if loud_eccentricity_funcs:\n",
    "                                print(f'Building: ({l}, {m}, {p}, {q})  ')\n",
    "                            \n",
    "                            is_exact, g_table[(l, p, q)] = G_func(l, p, q, eccentricity, max_e_calc_power, going_to_square=True)\n",
    "                            \n",
    "                            if is_exact:\n",
    "                                g2_table[(l, p, q)] = simplify(g_table[(l, p, q)]**2)\n",
    "                            else:\n",
    "                                g2_table[(l, p, q)] = taylor(g_table[(l, p, q)].removeO()**2, eccentricity,\n",
    "                                                             max_e_calc_power+1)\n",
    "                            \n",
    "                            if loud_eccentricity_funcs:\n",
    "                                print(f'\\tTime to Build Mode: {time() - q_init_time:0.2f} s')\n",
    "                    \n",
    "                    # Build Mode and Frequency Tables\n",
    "                    omega_table_host[(l, m, p, q)] = (l - 2*p + q)*mean_n - m*spin_host\n",
    "                    omega_table_sat[(l, m, p, q)] = (l - 2*p + q)*mean_n - m*spin_sat\n",
    "                    freq_table_host[(l, m, p, q)] = Abs(omega_table_host[(l, m, p, q)])\n",
    "                    freq_table_sat[(l, m, p, q)] = Abs(omega_table_sat[(l, m, p, q)])\n",
    "                    sign_table_host[(l, m, p, q)] = sign(omega_table_host[(l, m, p, q)])\n",
    "                    sign_table_sat[(l, m, p, q)] = sign(omega_table_sat[(l, m, p, q)])\n",
    "                    \n",
    "                    # Build Love Number Tables\n",
    "                    if omega_table_host[(l, m, p, q)] == 0.:\n",
    "                        love_table_host[(l, m, p, q)] = 0.\n",
    "                        love_omg_table_host[(l, m, p, q)] = 0.\n",
    "                    else:\n",
    "                        love_table_host[(l, m, p, q)] = love_func_host(freq_table_host[(l, m, p, q)])\n",
    "                        love_omg_table_host[(l, m, p, q)] = love_func_host(omega_table_host[(l, m, p, q)])\n",
    "                    if omega_table_sat[(l, m, p, q)] == 0.:\n",
    "                        love_table_sat[(l, m, p, q)] = 0.\n",
    "                        love_omg_table_sat[(l, m, p, q)] = 0.\n",
    "                    else:\n",
    "                        love_table_sat[(l, m, p, q)] = love_func_sat(freq_table_sat[(l, m, p, q)])\n",
    "                        love_omg_table_sat[(l, m, p, q)] = love_func_sat(omega_table_sat[(l, m, p, q)])\n",
    "                    \n",
    "                    if print_list:\n",
    "                        disp('')\n",
    "                        print(f'\\nl, m, p, q = {l}{m}{p}{q}')\n",
    "                        print('\\tMode_h=')\n",
    "                        disp(nsimplify(omega_table_host[(l, m, p, q)]))\n",
    "                        print('\\tG(e)=')\n",
    "                        disp(nsimplify(g_table[(l, p, q)]))\n",
    "                        print('\\tF_h(I)=')\n",
    "                        disp(nsimplify(f_table_host[(l, m, p)]))\n",
    "\n",
    "delta_time = time() - init_time\n",
    "if delta_time >=300:\n",
    "    time_txt = f'{delta_time/60:0.4f} Mins'\n",
    "elif delta_time >= 7200:\n",
    "    time_txt = f'{delta_time/(60*60):0.4f} Hours'\n",
    "elif delta_time >= 86400:\n",
    "    time_txt = f'{delta_time/(60*60*24):0.4f} Days'\n",
    "else:\n",
    "    time_txt = f'{delta_time:0.2f} Secs'\n",
    "print(f'Total Time to Construct Tables: {time_txt}')"
   ]
  },
  {
   "cell_type": "code",
   "execution_count": null,
   "metadata": {},
   "outputs": [],
   "source": [
    "# Print Python Function Cache Information\n",
    "print_cache = True\n",
    "if print_cache:\n",
    "    \n",
    "    print('G and F Funcs')\n",
    "    print('Inclination Function')\n",
    "    print(F_func.cache_info())\n",
    "    print('Eccentricity Function')\n",
    "    print(G_func.cache_info())\n",
    "    \n",
    "    print('\\nEccentricity Func Components\\nHansen Wrapper')\n",
    "    print(hansen_wrapper.cache_info())\n",
    "    print('Hansen Bessel Domain')\n",
    "    print(hansen_domain_0.cache_info())\n",
    "    print('Hansen k=0, n>=0')\n",
    "    print(hansen_domain_1.cache_info())\n",
    "    print('Hansen k=0, n<0')\n",
    "    print(hansen_domain_2.cache_info())\n",
    "    \n",
    "    print('\\nOther Math Funcs')\n",
    "    print('Binomial Coefficient')\n",
    "    print(binomial_coeff.cache_info())\n",
    "    print('Bessel Function')\n",
    "    print(besselj_func.cache_info())"
   ]
  },
  {
   "cell_type": "markdown",
   "metadata": {},
   "source": [
    "## Tidal Potential Derivative Calculations"
   ]
  },
  {
   "cell_type": "code",
   "execution_count": null,
   "metadata": {
    "scrolled": false
   },
   "outputs": [],
   "source": [
    "physical_coeffs_sat = dict()\n",
    "physical_coeffs_host = dict()\n",
    "eccen_inclin_coeffs_sat = dict()\n",
    "love_coeffs_sat = dict()\n",
    "eccen_inclin_coeffs_host = dict()\n",
    "love_coeffs_host = dict()\n",
    "universal_coeffs = dict()\n",
    "dUdM_coeffs = dict()\n",
    "dUdw_coeffs = dict()\n",
    "dUdO_coeffs = dict()\n",
    "full_potential_coeffs = dict()\n",
    "\n",
    "for l in range(min_l, max_l+1):\n",
    "    for m in range(0, l+1):\n",
    "        for p in range(0, l+1):            \n",
    "            F_H = f2_table_host[(l, m, p)]\n",
    "            F_S = f2_table_sat[(l, m, p)]\n",
    "            \n",
    "            for q in range(-max_q, max_q+1):\n",
    "                \n",
    "                sgn_H = sign_table_host[(l, m, p, q)]\n",
    "                sgn_S = sign_table_sat[(l, m, p, q)]\n",
    "                freq_H = freq_table_host[(l, m, p, q)]\n",
    "                freq_S = freq_table_sat[(l, m, p, q)]\n",
    "                omg_H = omega_table_host[(l, m, p, q)]\n",
    "                omg_S = omega_table_sat[(l, m, p, q)]\n",
    "                love_H = love_table_host[(l, m, p, q)]\n",
    "                love_S = love_table_sat[(l, m, p, q)]\n",
    "                love_omg_H = love_omg_table_host[(l, m, p, q)]\n",
    "                love_omg_S = love_omg_table_sat[(l, m, p, q)]\n",
    "                \n",
    "                G_ = g2_table[(l, p, q)]\n",
    "                \n",
    "                eccen_inclin_coeffs_host[(l, m, p, q)] = factor(expand(G_ * F_H).removeO())\n",
    "                eccen_inclin_coeffs_sat[(l, m, p, q)] = factor(expand(G_ * F_S).removeO())\n",
    "                \n",
    "                love_coeffs_sat[(l, m, p, q)] = love_S * sgn_S\n",
    "                love_coeffs_host[(l, m, p, q)] = love_H * sgn_H\n",
    "                \n",
    "                dUdM_coeffs[(l, m, p, q)] = l - 2*p + q\n",
    "                dUdw_coeffs[(l, m, p, q)] = l - 2*p\n",
    "                dUdO_coeffs[(l, m, p, q)] = m\n",
    "                full_potential_coeffs[(l, m, p, q)] = 1\n",
    "                \n",
    "                if m == 0:\n",
    "                    universal_coeffs[(l, m, p, q)] = Rational(gamma(1 + l - m), gamma(1 + l + m))\n",
    "                else:\n",
    "                    universal_coeffs[(l, m, p, q)] = 2*Rational(gamma(1 + l - m), gamma(1 + l + m))\n",
    "                \n",
    "                # For the purposes of putting coefficients into TidalPy, I want every thing reduced by a factor of \n",
    "                #    (3 / 2) as that will be multipled by tidal susceptibility in a later step. \n",
    "                universal_coeffs[(l, m, p, q)] /= Rational(3, 2)\n",
    "                \n",
    "                physical_coeffs_host[(l, m, p, q)] = \\\n",
    "                    ((radius_host / semi_major_axis)**(2*l + 1) * newton_G * mass_sat) / semi_major_axis\n",
    "                physical_coeffs_sat[(l, m, p, q)] = \\\n",
    "                    ((radius_sat / semi_major_axis)**(2*l + 1) * newton_G * mass_host) / semi_major_axis\n",
    "                \n",
    "print('Completed Coeff Tables Calculations')"
   ]
  },
  {
   "cell_type": "markdown",
   "metadata": {},
   "source": [
    "## Print and save Eccentricity Results"
   ]
  },
  {
   "cell_type": "code",
   "execution_count": null,
   "metadata": {},
   "outputs": [],
   "source": [
    "save_tidalpy_data = True\n",
    "max_e_toconvert_power_sign = 6\n",
    "reduce_to_floats = True\n",
    "if save_tidalpy_data:\n",
    "    \n",
    "    output_file = f'NSR Dissipation - TidalPy Output - min_order_l {min_l} - max_e {max_e_power}.py'\n",
    "    \n",
    "    tab = '    '\n",
    "    eccentricity_section = '# Unique results.\\neccentricity_results_bymode = {\\n'\n",
    "    eccentricity_dupes_section = '\\n# Duplicate results are stored as dictionary lookups to previous calculations\\n#    Generally leads to a 30--50% speed-up when working with large arrays.\\n'\n",
    "    eccentricity_preamble = f'# Eccentricity functions calculated at truncation level {max_e_power}.\\n' +\\\n",
    "                            f'#     and order-l = {min_l}.\\n\\n'\n",
    "    needed_eccens = dict()\n",
    "    eccens_grabbed = list()\n",
    "    unique_funcs = dict()\n",
    "    max_e_text_len = 1\n",
    "    for i in range(2, max_e_power+1, 2):\n",
    "        needed_eccens[f'e**{i}'] = f'e{i}'\n",
    "        max_e_text_len = max(max_e_text_len, len(f'e{i}'))\n",
    "    \n",
    "    num_eccen = len(g2_table)\n",
    "    curr_eccen = 0\n",
    "    \n",
    "    for l in range(min_l, min_l+1):\n",
    "        if max_l != min_l:\n",
    "            raise Exception('TidalPy Printing only designed to work on one \"l\" at a time.')\n",
    "            \n",
    "        for p in range(0, l+1):\n",
    "\n",
    "            # Make a new p subsection\n",
    "            eccentricity_section += tab + f'{p}: ' + '{\\n'\n",
    "            \n",
    "            # Need to include at least one item in each p otherwise njit will not compile correctly\n",
    "            p_used = False\n",
    "\n",
    "            for q in range(-max_q, max_q+1):\n",
    "\n",
    "                gfunc = g2_table[(l, p, q)].removeO()\n",
    "                if (l, p, q) not in eccens_grabbed:\n",
    "                    eccens_grabbed.append((l, p, q))\n",
    "\n",
    "                    # Clean up the equation text\n",
    "                    if reduce_to_floats:\n",
    "                        gfunc_clean = str(gfunc.evalf())\n",
    "                    else:\n",
    "                        gfunc_clean = str(gfunc)\n",
    "                    for old_text in list(reversed(sorted(needed_eccens.keys()))):\n",
    "                            # Get rid of \"e**N\" in favor of \"eN\" which are precomputed\n",
    "                            new_text = needed_eccens[old_text]\n",
    "                            gfunc_clean = gfunc_clean.replace(old_text, new_text)\n",
    "\n",
    "                    if gfunc_clean not in unique_funcs or not p_used:\n",
    "                        \n",
    "                        if gfunc_clean == '0':\n",
    "                            # Ignore 0's\n",
    "                            continue\n",
    "\n",
    "                        # Unique equation\n",
    "                        unique_funcs[gfunc_clean] = (l, p, q)\n",
    "\n",
    "\n",
    "                        # Record the new equation\n",
    "                        if q < 0:\n",
    "                            mode_text = f'{q}: '\n",
    "                        else:\n",
    "                            mode_text = f'{q}:  '\n",
    "                        eccentricity_section += 2*tab + mode_text + gfunc_clean\n",
    "                        if curr_eccen == num_eccen - 1:\n",
    "                            eccentricity_section += '\\n}\\n'\n",
    "                        else:\n",
    "                            eccentricity_section += ',\\n'\n",
    "                            \n",
    "                        # Note that at least one thing was added to this p-dict\n",
    "                        p_used = True\n",
    "                    else:\n",
    "                        \n",
    "                        # If it is a duplicate, simply point to the old equation to save on computation\n",
    "                        if gfunc_clean == '0':\n",
    "                            # Ignore 0's\n",
    "                            continue\n",
    "                        \n",
    "                        old_copy_key = unique_funcs[gfunc_clean]\n",
    "                        old_l, old_p, old_q = old_copy_key\n",
    "                        eccentricity_dupes_section += f'eccentricity_results_bymode[{p}][{q}] = eccentricity_results_bymode[{old_p}][{old_q}]\\n'\n",
    "\n",
    "                    curr_eccen += 1\n",
    "\n",
    "            # End the previous p section\n",
    "            if p == l:\n",
    "                eccentricity_section += tab + '}\\n}'\n",
    "            else:\n",
    "                eccentricity_section += tab + '},\\n'\n",
    "                    \n",
    "                    \n",
    "    eccentricity_preamble += '# Performance and readability improvements\\n'\n",
    "    eccentricity_preamble += 'e = eccentricity\\n'    \n",
    "    for old_text, new_text in needed_eccens.items():\n",
    "        for max_e_conversion in range(2, max_e_toconvert_power_sign+2, 2):\n",
    "            if f'**{max_e_conversion}' == old_text[-3:]:\n",
    "                old_text = ' * '.join(list('e'*max_e_conversion))\n",
    "                break\n",
    "        eccentricity_preamble += f'{new_text}' + ' ' * (max_e_text_len-len(new_text)) + f' = {old_text}\\n'\n",
    "        \n",
    "    eccentricity_section = eccentricity_preamble + '\\n' + eccentricity_section + '\\n' + eccentricity_dupes_section\n",
    "    \n",
    "    with open(output_file, 'w') as output_file:\n",
    "        output_file.write(eccentricity_section)"
   ]
  },
  {
   "cell_type": "code",
   "execution_count": null,
   "metadata": {},
   "outputs": [],
   "source": [
    "save_latex_table = False\n",
    "if save_latex_table:\n",
    "    \n",
    "    unique_modes = list()\n",
    "    unique_freqs = list()\n",
    "    max_eq_length = 100\n",
    "    \n",
    "    table_preamble = \\\n",
    "        '\\\\begin{landscape}\\n' + \\\n",
    "        '\\\\fudge{3cm}{1.5cm} % 3cm longer and raise by 1.5cm\\n' + \\\n",
    "        '\\\\begin{longtable}[c]{@{}c|c|cccc|c|l@{}}\\n' + \\\n",
    "        '    \\\\caption{Caption \\\\label{tab:dissipation_order10}} \\\\\\\\ \\\\toprule\\n' + \\\n",
    "        '    \\tMode & Signature & \\\\multicolumn{4}{c|}{Coefficients, $C_{X}$} & Inclination Function & Eccentricity Function \\\\\\\\\\n' + \\\n",
    "        '    $\\\\omega_{j}$ & $l$, $m$, $p$, $q$ & $\\\\frac{dU_{j}}{d\\\\mathcal{M}}$ & $\\\\frac{dU_{j}}{d\\\\varpi_{j}}$ & $\\\\frac{dU_{j}}{d\\\\Omega_{j}}$ & $\\\\dot{E}_{j}$ & $F^{2}$ & $G^{2}$ \\\\\\\\ \\\\midrule\\n' + \\\n",
    "        '    \\\\midrule           % line head body\\n' + \\\n",
    "        '    \\\\endfirsthead      % Definition of 1. table header\\n' + \\\n",
    "        '    \\\\toprule\\n' + \\\n",
    "        '    \\\\multicolumn{8}{c}{continue table}\\\\\\\\\\n' + \\\n",
    "        '    Mode & Signature & \\\\multicolumn{4}{c|}{Coefficients, $C_{X}$} & Inclination Function & Eccentricity Function \\\\\\\\\\n' + \\\n",
    "        '    $\\\\omega_{j}$ & $l$, $m$, $p$, $q$ & $\\\\frac{dU_{j}}{d\\\\mathcal{M}}$ & $\\\\frac{dU_{j}}{d\\\\varpi_{j}}$ & $\\\\frac{dU_{j}}{d\\\\Omega_{j}}$ & $\\\\dot{E}_{j}$ & $F^{2}$ & $G^{2}$ \\\\\\\\ \\\\midrule\\n' + \\\n",
    "        '    \\\\midrule           % line head body\\n' + \\\n",
    "        '    \\\\endhead      % Definition of all following headers\\n' + \\\n",
    "        '    \\\\midrule\\n' + \\\n",
    "        '    \\\\multicolumn{8}{c}{table continues} \\\\\\\\ % footer 1. (and more) part(s) of table\\n' + \\\n",
    "        '    \\\\midrule\\n' + \\\n",
    "        '    \\\\endfoot      % foots of the table without the last one\\n' + \\\n",
    "        '    \\\\bottomrule\\n' + \\\n",
    "        '    \\\\endlastfoot  % the last(!!) foot of the table  %%%%%\\n' \n",
    "    \n",
    "    table_postamble = \\\n",
    "        '\\\\end{longtable}\\n' + \\\n",
    "        '\\\\end{landscape}\\n'\n",
    "    \n",
    "    \n",
    "    mode_str = ''\n",
    "    \n",
    "    for l in range(min_l, max_l+1):\n",
    "        for m in range(0, l+1):\n",
    "            for p in range(0, l+1):\n",
    "                \n",
    "                this_incline_grabbed = False\n",
    "                ffunc = f2_table_sat[(l, m, p)]\n",
    "                ffunc = simplify(ffunc)\n",
    "                \n",
    "                for q in range(-max_q, max_q+1):\n",
    "                    \n",
    "                    gfunc = g2_table[(l, p, q)].removeO()\n",
    "                    \n",
    "                    # Check if G or F funcs are zero. skip if they are\n",
    "                    if ffunc == 0 or gfunc == 0:\n",
    "                        continue\n",
    "                    \n",
    "                    # If not skipped then we need to add a line. Add the tab\n",
    "                    mode_str += '\\n'  # Line break before new mode.\n",
    "                    mode_str += f'    % Mode (lmpq) = ({l}, {m}, {p}, {q})\\n' # Add a comment for easy searching within the latex\n",
    "                    mode_str += '    '\n",
    "                    \n",
    "                    # Then the tidal mode\n",
    "                    omg_S = omega_table_sat[(l, m, p, q)]\n",
    "                    \n",
    "                    if omg_S == 0:\n",
    "                        continue\n",
    "                        \n",
    "                    omg_S_str = str(omg_S).replace('Omega___S', '\\\\ddot{\\\\theta}_{j}')\n",
    "                    omg_S_str = omg_S_str.replace('*', '')\n",
    "                    mode_str += '$' + omg_S_str + '$'\n",
    "                    \n",
    "                    # Store unique modes and freqs\n",
    "                    if omg_S not in unique_modes:\n",
    "                        unique_modes.append(omg_S)\n",
    "                    freq_S = expand(abs(omg_S))\n",
    "                    if freq_S not in unique_freqs:\n",
    "                        unique_freqs.append(freq_S)\n",
    "                    \n",
    "                    # Next the lmpq\n",
    "                    if q < 0:\n",
    "                        mode_str += ' & ' + f'{l}, {m}, {p}, {q}'\n",
    "                    else:\n",
    "                        mode_str += ' & ' + f'{l}, {m}, {p}, \\;{q}'\n",
    "                    \n",
    "                    # Then the coefficients\n",
    "                    dUdM_coeff = dUdM_coeffs[(l, m, p, q)]\n",
    "                    dUdw_coeff = dUdw_coeffs[(l, m, p, q)]\n",
    "                    dUdO_coeff = dUdO_coeffs[(l, m, p, q)]\n",
    "                    heating_coeff = 1\n",
    "                    uni_coeff = universal_coeffs[(l, m, p, q)]\n",
    "                    dUdM_coeff *= uni_coeff\n",
    "                    dUdw_coeff *= uni_coeff\n",
    "                    dUdO_coeff *= uni_coeff\n",
    "                    heating_coeff *= uni_coeff\n",
    "                    \n",
    "                    mode_str += ' & $' + latex(dUdM_coeff) + '$ & $' + latex(dUdw_coeff) + '$ & $' + latex(dUdO_coeff) + \\\n",
    "                        '$ & $' + latex(heating_coeff) + '$ & \\n'\n",
    "                    mode_str += '    '\n",
    "                    \n",
    "                    # Now the inclination functions\n",
    "                    if not this_incline_grabbed:\n",
    "                        \n",
    "                        # Clean up inclination function string\n",
    "                        incline_str = latex(ffunc).replace('_{S}', '_{j}')\n",
    "                        incline_str = incline_str.replace('I^{}', 'I')\n",
    "                        incline_str = incline_str.replace('\\\\frac{I_{j}}{2}', 'I_{j}/2')\n",
    "                        \n",
    "                        \n",
    "                        mode_str += '\\\\begin{math}\\n    \\\\begin{aligned}\\n        & '\n",
    "                        # Check length?\n",
    "                        mode_str += incline_str\n",
    "                        mode_str += ' \\n    \\\\end{aligned}\\n    \\end{math} & \\n'\n",
    "                        this_incline_grabbed = True\n",
    "                    else:\n",
    "                        mode_str += '--- & \\n'\n",
    "                    \n",
    "                    # Finally the eccentricity functions\n",
    "                    mode_str += '    '\n",
    "                    eccen_str = latex(gfunc)\n",
    "                    eccen_str = eccen_str.replace('e^{}', 'e')\n",
    "                    \n",
    "                    # Check if the eccentricity function needs to be split onto multiple lines.\n",
    "                    eccen_lines = 1\n",
    "                    if len(eccen_str) > max_eq_length:\n",
    "                        \n",
    "                        term_list = list()\n",
    "                        # First split along positives\n",
    "                        for term in eccen_str.split(' + '):\n",
    "                            if ' - ' in term:\n",
    "                                # And then along negatives\n",
    "                                for t_i, neg_term in enumerate(term.split(' - ')):\n",
    "                                    if t_i == 0:\n",
    "                                        # First term is the positive term\n",
    "                                        term_list.append((neg_term, True))\n",
    "                                    else:\n",
    "                                        term_list.append((neg_term, False))\n",
    "                            else:\n",
    "                                term_list.append((term, True))\n",
    "                        \n",
    "                        # Make new string\n",
    "                        new_eccen_str = ''\n",
    "                        running_num = 0\n",
    "                        for t_i, (term, leading_pos) in enumerate(term_list):\n",
    "                            if t_i > 0:\n",
    "                                if leading_pos:\n",
    "                                    term = ' + ' + term.strip()\n",
    "                                else:\n",
    "                                    term = ' - ' + term.strip()\n",
    "                            else:\n",
    "                                term = term.strip()\n",
    "                                    \n",
    "                            running_num += len(term)\n",
    "                            if running_num > max_eq_length:\n",
    "                                new_eccen_str += ' \\\\\\\\ \\n        &' + term\n",
    "                                running_num = len(term)\n",
    "                                eccen_lines += 1\n",
    "                            else:\n",
    "                                new_eccen_str += term\n",
    "                                \n",
    "                        eccen_str = new_eccen_str\n",
    "                    \n",
    "                    # The minipage enviornment allows there to be padding above and below the multi line equations (only thing I could get to work)\n",
    "                    #    The 80mm probably needs to be adjusted if you give the equations more/less horizontal room.\n",
    "                    mode_str += '\\\\begin{minipage}{80mm}\\n    \\\\vspace{2mm}    \\\\begin{math}\\n    \\\\begin{aligned}\\n        & '\n",
    "                    # Check length?\n",
    "                    mode_str += eccen_str\n",
    "                    mode_str += ' \\n    \\\\end{aligned}\\n    \\\\end{math}\\n    \\\\vspace{2mm}\\n    \\\\end{minipage} \\\\\\\\ \\\\hline\\n'\n",
    "                    \n",
    "    # Save as text file\n",
    "    with open(f'NSR Dissipation - Latex Output - emax_{max_e_power}_minl_{min_l}.txt', 'w') as latex_file:\n",
    "        output_str = table_preamble + mode_str + table_postamble\n",
    "        latex_file.write(output_str)\n",
    "\n",
    "    print('Done!')\n",
    "    print('# Unique Modes:', len(unique_modes))\n",
    "    print('# Unique Frequencies:', len(unique_freqs))"
   ]
  },
  {
   "cell_type": "code",
   "execution_count": null,
   "metadata": {},
   "outputs": [],
   "source": [
    "print('Type \"c\" and press enter to continue the calculations')\n",
    "breakpoint()"
   ]
  },
  {
   "cell_type": "markdown",
   "metadata": {},
   "source": [
    "### Compile Derivatives"
   ]
  },
  {
   "cell_type": "code",
   "execution_count": null,
   "metadata": {},
   "outputs": [],
   "source": [
    "beta = (mass_host * mass_sat) / (mass_host + mass_sat)\n",
    "\n",
    "# Host\n",
    "torque_H = 0.\n",
    "heating_H = 0.\n",
    "dUdM_H = 0.\n",
    "dUdw_H = 0.\n",
    "dUdO_H = 0.\n",
    "for mode, love_coeff in love_coeffs_host.items():\n",
    "    ei_coeff = eccen_inclin_coeffs_host[mode]\n",
    "    uni_coeff = universal_coeffs[mode]\n",
    "    phys_coeff = physical_coeffs_host[mode]\n",
    "    dUdM_coeff = dUdM_coeffs[mode]\n",
    "    dUdw_coeff = dUdw_coeffs[mode]\n",
    "    dUdO_coeff = dUdO_coeffs[mode]\n",
    "    freq = freq_table_host[mode]\n",
    "    sgn_H = sign_table_host[mode]\n",
    "    love_H = love_table_host[mode]\n",
    "    \n",
    "    heating_H += expand(Rational(3, 2) * ei_coeff * uni_coeff * phys_coeff * freq * love_H * mass_sat)\n",
    "    torque_H += expand(Rational(3, 2) * dUdO_coeff * ei_coeff * uni_coeff * phys_coeff * love_coeff * mass_sat)\n",
    "    dUdM_H += expand(Rational(3, 2) * dUdM_coeff * ei_coeff * uni_coeff * phys_coeff * love_coeff)\n",
    "    dUdw_H += expand(Rational(3, 2) * dUdw_coeff * ei_coeff * uni_coeff * phys_coeff * love_coeff)\n",
    "    dUdO_H += expand(Rational(3, 2) * dUdO_coeff * ei_coeff * uni_coeff * phys_coeff * love_coeff)\n",
    "    \n",
    "    \n",
    "# Satellite\n",
    "heating_S = 0\n",
    "torque_S = 0\n",
    "dUdM_S = 0\n",
    "dUdw_S = 0\n",
    "dUdO_S = 0\n",
    "full_potential = 0\n",
    "heating_S_simp = 0\n",
    "torque_S_simp = 0\n",
    "dUdM_S_simp = 0\n",
    "dUdw_S_simp = 0\n",
    "dUdO_S_simp = 0\n",
    "full_potential_simp = 0\n",
    "for mode, love_coeff in love_coeffs_sat.items():\n",
    "    ei_coeff = eccen_inclin_coeffs_sat[mode]\n",
    "    uni_coeff = universal_coeffs[mode]\n",
    "    phys_coeff = physical_coeffs_sat[mode]\n",
    "    dUdM_coeff = dUdM_coeffs[mode]\n",
    "    dUdw_coeff = dUdw_coeffs[mode]\n",
    "    dUdO_coeff = dUdO_coeffs[mode]\n",
    "    fullpot_coeff = full_potential_coeffs[mode]\n",
    "    freq = freq_table_sat[mode]\n",
    "    sgn_S = sign_table_sat[mode]\n",
    "    love_S = love_table_sat[mode]\n",
    "    \n",
    "    heating_S += expand(Rational(3, 2) * ei_coeff * uni_coeff * phys_coeff * freq * love_S * mass_host)\n",
    "    torque_S += expand(Rational(3, 2) * dUdO_coeff * ei_coeff * uni_coeff * phys_coeff * love_coeff * mass_host)\n",
    "    dUdM_S += expand(Rational(3, 2) * dUdM_coeff * ei_coeff * uni_coeff * phys_coeff * love_coeff)\n",
    "    dUdw_S += expand(Rational(3, 2) * dUdw_coeff * ei_coeff * uni_coeff * phys_coeff * love_coeff)\n",
    "    dUdO_S += expand(Rational(3, 2) * dUdO_coeff * ei_coeff * uni_coeff * phys_coeff * love_coeff)\n",
    "    full_potential +=  expand(Rational(3, 2) * fullpot_coeff * ei_coeff * uni_coeff * phys_coeff * love_coeff)\n",
    "    \n",
    "    heating_S_simp += expand(ei_coeff * uni_coeff * freq * love_S)\n",
    "    torque_S_simp += expand(dUdO_coeff * ei_coeff * uni_coeff * love_coeff)\n",
    "    dUdM_S_simp += expand(dUdM_coeff * ei_coeff * uni_coeff * love_coeff)\n",
    "    dUdw_S_simp += expand(dUdw_coeff * ei_coeff * uni_coeff * love_coeff)\n",
    "    dUdO_S_simp += expand(dUdO_coeff * ei_coeff * uni_coeff * love_coeff)\n",
    "    full_potential_simp += expand(fullpot_coeff * ei_coeff * uni_coeff * love_coeff)\n",
    "    \n",
    "    \n",
    "# Check if the user wanted the objects to both be forced into spin-sync from the get go.\n",
    "if not use_nsr:\n",
    "    heating_H = sync_spin(heating_H, host=True, sat=False, max_q=max_q)\n",
    "    torque_H = sync_spin(torque_H, host=True, sat=False, max_q=max_q)\n",
    "    dUdM_H = sync_spin(dUdM_H, host=True, sat=False, max_q=max_q)\n",
    "    dUdw_H = sync_spin(dUdw_H, host=True, sat=False, max_q=max_q)\n",
    "    dUdO_H = sync_spin(dUdO_H, host=True, sat=False, max_q=max_q)\n",
    "    \n",
    "    heating_S = sync_spin(heating_S, host=False, sat=True, max_q=max_q)\n",
    "    torque_S = sync_spin(torque_S, host=False, sat=True, max_q=max_q)\n",
    "    dUdM_S = sync_spin(dUdM_S, host=False, sat=True, max_q=max_q)\n",
    "    dUdw_S = sync_spin(dUdw_S, host=False, sat=True, max_q=max_q)\n",
    "    dUdO_S = sync_spin(dUdO_S, host=False, sat=True, max_q=max_q)\n",
    "    "
   ]
  },
  {
   "cell_type": "markdown",
   "metadata": {},
   "source": [
    "## Inclination = 0"
   ]
  },
  {
   "cell_type": "code",
   "execution_count": null,
   "metadata": {},
   "outputs": [],
   "source": [
    "# print('Full Potential')\n",
    "# expr = full_potential_simp\n",
    "# # expr = taylor(expr, inclin_sat, 3)\n",
    "# expr = expr.subs(inclin_sat, 0)\n",
    "# expr = expand(sync_spin(expr, host=True, sat=True))\n",
    "# for mode, love_S in love_table_sat.items():\n",
    "#     expr = collect(expr, love_S)\n",
    "# disp(expr)\n",
    "# latex_str = latex(expr)\n",
    "# latex_str = latex_str.replace('\\\\Xi^{}_{S2}', '\\\\operatorname{K}_{j}')\n",
    "# print(latex_str)"
   ]
  },
  {
   "cell_type": "code",
   "execution_count": null,
   "metadata": {},
   "outputs": [],
   "source": [
    "print('Tidal Heating')\n",
    "expr=heating_S_simp\n",
    "expr = expr.subs(obliquity_sat, 0)\n",
    "expr = expand(sync_spin(expr, host=True, sat=True, max_q=max_q) / abs(mean_n))\n",
    "for mode, love_S in love_table_sat.items():\n",
    "    expr = collect(expr, love_S)\n",
    "disp(expr)\n",
    "latex_str = latex(expr)\n",
    "latex_str = latex_str.replace('\\\\Xi^{}_{S2}', '\\\\operatorname{K}_{j}')\n",
    "print('\\nLaTeX:')\n",
    "print(latex_str)"
   ]
  },
  {
   "cell_type": "code",
   "execution_count": null,
   "metadata": {},
   "outputs": [],
   "source": [
    "# print('dU_dM')\n",
    "# expr = dUdM_S_simp.subs(inclin_sat, 0)\n",
    "# expr = expand(sync_spin(expr, host=True, sat=True) / (sign(mean_n)))\n",
    "# for mode, love_S in love_table_sat.items():\n",
    "#     expr = collect(expr, love_S)\n",
    "# disp(expr)\n",
    "# latex_str = latex(expr)\n",
    "# latex_str = latex_str.replace('\\\\Xi^{}_{S2}', '\\\\operatorname{K}_{j}')\n",
    "# print(latex_str)"
   ]
  },
  {
   "cell_type": "code",
   "execution_count": null,
   "metadata": {},
   "outputs": [],
   "source": [
    "# print('dU_dw')\n",
    "# expr = dUdw_S_simp.subs(inclin_sat, 0)\n",
    "# expr = expand(sync_spin(expr, host=True, sat=True) / (sign(mean_n)))\n",
    "# for mode, love_S in love_table_sat.items():\n",
    "#     expr = collect(expr, love_S)\n",
    "# disp(expr)\n",
    "# latex_str = latex(expr)\n",
    "# latex_str = latex_str.replace('\\\\Xi^{}_{S2}', '\\\\operatorname{K}_{j}')\n",
    "# print(latex_str)"
   ]
  },
  {
   "cell_type": "code",
   "execution_count": null,
   "metadata": {},
   "outputs": [],
   "source": [
    "# print('dU_dO')\n",
    "# expr = dUdO_S_simp.subs(inclin_sat, 0)\n",
    "# expr = expand(sync_spin(expr, host=True, sat=True) / (sign(mean_n)))\n",
    "# for mode, love_S in love_table_sat.items():\n",
    "#     expr = collect(expr, love_S)\n",
    "# disp(expr)\n",
    "# latex_str = latex(expr)\n",
    "# latex_str = latex_str.replace('\\\\Xi^{}_{S2}', '\\\\operatorname{K}_{j}')\n",
    "# print(latex_str)"
   ]
  },
  {
   "cell_type": "markdown",
   "metadata": {},
   "source": [
    "## Eccentricity = 0"
   ]
  },
  {
   "cell_type": "code",
   "execution_count": null,
   "metadata": {},
   "outputs": [],
   "source": [
    "# print('Full Potential')\n",
    "# expr = full_potential_simp\n",
    "# expr = expr.subs(ecc, 0)\n",
    "# expr = expand(sync_spin(expr, host=True, sat=True))\n",
    "# for mode, love_S in love_table_sat.items():\n",
    "#     expr = collect(expr, love_S)\n",
    "# disp(expr)\n",
    "# latex_str = latex(expr)\n",
    "# latex_str = latex_str.replace('\\\\Xi^{}_{S2}', '\\\\operatorname{K}_{j}')\n",
    "# print(latex_str)"
   ]
  },
  {
   "cell_type": "code",
   "execution_count": null,
   "metadata": {},
   "outputs": [],
   "source": [
    "# print('Tidal Heating')\n",
    "# expr = heating_S_simp\n",
    "# expr = expr.subs(ecc, 0)\n",
    "# expr = expand(sync_spin(expr, host=True, sat=True) / abs(mean_n))\n",
    "# for mode, love_S in love_table_sat.items():\n",
    "#     expr = collect(expr, love_S)\n",
    "# disp(expr)\n",
    "# latex_str = latex(expr)\n",
    "# latex_str = latex_str.replace('\\\\Xi^{}_{S2}', '\\\\operatorname{K}_{j}')\n",
    "# print(latex_str)"
   ]
  },
  {
   "cell_type": "code",
   "execution_count": null,
   "metadata": {},
   "outputs": [],
   "source": [
    "# print('dU_dM')\n",
    "# expr = dUdM_S_simp.subs(ecc, 0)\n",
    "# expr = expand(sync_spin(expr, host=True, sat=True) / (sign(mean_n)))\n",
    "# for mode, love_S in love_table_sat.items():\n",
    "#     expr = collect(expr, love_S)\n",
    "# disp(expr)\n",
    "# latex_str = latex(expr)\n",
    "# latex_str = latex_str.replace('\\\\Xi^{}_{S2}', '\\\\operatorname{K}_{j}')\n",
    "# print(latex_str)"
   ]
  },
  {
   "cell_type": "code",
   "execution_count": null,
   "metadata": {},
   "outputs": [],
   "source": [
    "# print('dU_dw')\n",
    "# expr = dUdw_S_simp.subs(ecc, 0)\n",
    "# expr = expand(sync_spin(expr, host=True, sat=True) / (sign(mean_n)))\n",
    "# for mode, love_S in love_table_sat.items():\n",
    "#     expr = collect(expr, love_S)\n",
    "# disp(expr)\n",
    "# latex_str = latex(expr)\n",
    "# latex_str = latex_str.replace('\\\\Xi^{}_{S2}', '\\\\operatorname{K}_{j}')\n",
    "# print(latex_str)"
   ]
  },
  {
   "cell_type": "code",
   "execution_count": null,
   "metadata": {},
   "outputs": [],
   "source": [
    "# print('dU_dO')\n",
    "# expr = dUdO_S_simp.subs(ecc, 0)\n",
    "# expr = expand(sync_spin(expr, host=True, sat=True) / (sign(mean_n)))\n",
    "# for mode, love_S in love_table_sat.items():\n",
    "#     expr = collect(expr, love_S)\n",
    "# disp(expr)\n",
    "# latex_str = latex(expr)\n",
    "# latex_str = latex_str.replace('\\\\Xi^{}_{S2}', '\\\\operatorname{K}_{j}')\n",
    "# print(latex_str)"
   ]
  },
  {
   "cell_type": "markdown",
   "metadata": {},
   "source": [
    "## General - Inclin Truncated"
   ]
  },
  {
   "cell_type": "code",
   "execution_count": null,
   "metadata": {},
   "outputs": [],
   "source": [
    "# Inclin_trunc = 5"
   ]
  },
  {
   "cell_type": "code",
   "execution_count": null,
   "metadata": {
    "scrolled": true
   },
   "outputs": [],
   "source": [
    "# print('Full Potential')\n",
    "# expr = full_potential_simp\n",
    "# expr = taylor(expr, inclin_sat, Inclin_trunc)\n",
    "# expr = expand(sync_spin(expr, host=True, sat=True))\n",
    "# for mode, love_S in love_table_sat.items():\n",
    "#     expr = collect(expr, love_S)\n",
    "# disp(expr)\n",
    "# latex_str = latex(expr)\n",
    "# latex_str = latex_str.replace('\\\\Xi^{}_{S2}', '\\\\operatorname{K}_{j}')\n",
    "# print(latex_str)"
   ]
  },
  {
   "cell_type": "code",
   "execution_count": null,
   "metadata": {},
   "outputs": [],
   "source": [
    "# print('Tidal Heating')\n",
    "# expr = heating_S_simp\n",
    "# expr = taylor(expr, ecc, 12)\n",
    "# expr = expand(sync_spin(expr, host=True, sat=True) / abs(mean_n))\n",
    "# # expr = taylor(expr, inclin_sat, Inclin_trunc)\n",
    "# for mode, love_S in love_table_sat.items():\n",
    "#     expr = collect(expr, love_S)\n",
    "# disp(expr)\n",
    "# latex_str = latex(expr)\n",
    "# latex_str = latex_str.replace('\\\\Xi^{}_{S2}', '\\\\operatorname{K}_{j}')\n",
    "# print(latex_str)"
   ]
  },
  {
   "cell_type": "code",
   "execution_count": null,
   "metadata": {},
   "outputs": [],
   "source": [
    "# print('dU_dM')\n",
    "# expr = expand(sync_spin(expr, host=True, sat=True) / (sign(mean_n)))\n",
    "# expr = taylor(expr, inclin_sat, Inclin_trunc)\n",
    "# for mode, love_S in love_table_sat.items():\n",
    "#     expr = collect(expr, love_S)\n",
    "# disp(expr)\n",
    "# latex_str = latex(expr)\n",
    "# latex_str = latex_str.replace('\\\\Xi^{}_{S2}', '\\\\operatorname{K}_{j}')\n",
    "# print(latex_str)"
   ]
  },
  {
   "cell_type": "code",
   "execution_count": null,
   "metadata": {},
   "outputs": [],
   "source": [
    "# print('dU_dw')\n",
    "# expr = expand(sync_spin(expr, host=True, sat=True) / (sign(mean_n)))\n",
    "# expr = taylor(expr, inclin_sat, Inclin_trunc)\n",
    "# for mode, love_S in love_table_sat.items():\n",
    "#     expr = collect(expr, love_S)\n",
    "# disp(expr)\n",
    "# latex_str = latex(expr)\n",
    "# latex_str = latex_str.replace('\\\\Xi^{}_{S2}', '\\\\operatorname{K}_{j}')\n",
    "# print(latex_str)"
   ]
  },
  {
   "cell_type": "code",
   "execution_count": null,
   "metadata": {},
   "outputs": [],
   "source": [
    "# print('dU_dO')\n",
    "# expr = expand(sync_spin(expr, host=True, sat=True) / (sign(mean_n)))\n",
    "# expr = taylor(expr, inclin_sat, Inclin_trunc)\n",
    "# for mode, love_S in love_table_sat.items():\n",
    "#     expr = collect(expr, love_S)\n",
    "# disp(expr)\n",
    "# latex_str = latex(expr)\n",
    "# latex_str = latex_str.replace('\\\\Xi^{}_{S2}', '\\\\operatorname{K}_{j}')\n",
    "# print(latex_str)"
   ]
  },
  {
   "cell_type": "code",
   "execution_count": null,
   "metadata": {},
   "outputs": [],
   "source": [
    "# Clean up\n",
    "heating_H = clean_up(heating_H, max_q=max_q)\n",
    "torque_H = clean_up(torque_H, max_q=max_q)\n",
    "dUdM_H = clean_up(dUdM_H, max_q=max_q)\n",
    "dUdw_H = clean_up(dUdw_H, max_q=max_q)\n",
    "dUdO_H = clean_up(dUdO_H, max_q=max_q)\n",
    "\n",
    "for mode, love_H in love_table_host.items():\n",
    "    heating_H = collect(heating_H, love_H)\n",
    "    dUdM_H = collect(dUdM_H, love_H)\n",
    "    dUdw_H = collect(dUdw_H, love_H)\n",
    "    dUdO_H = collect(dUdO_H, love_H)\n",
    "\n",
    "heating_S = clean_up(heating_S, max_q=max_q)\n",
    "torque_S = clean_up(torque_S, max_q=max_q)\n",
    "dUdM_S = clean_up(dUdM_S, max_q=max_q)\n",
    "dUdw_S = clean_up(dUdw_S, max_q=max_q)\n",
    "dUdO_S = clean_up(dUdO_S, max_q=max_q)\n",
    "\n",
    "for mode, love_S in love_table_sat.items():\n",
    "    heating_S = collect(heating_S, love_S)\n",
    "    dUdM_S = collect(dUdM_S, love_S)\n",
    "    dUdw_S = collect(dUdw_S, love_S)\n",
    "    dUdO_S = collect(dUdO_S, love_S)"
   ]
  },
  {
   "cell_type": "markdown",
   "metadata": {},
   "source": [
    "## Find Disturbing Potential Derivatives"
   ]
  },
  {
   "cell_type": "code",
   "execution_count": null,
   "metadata": {},
   "outputs": [],
   "source": [
    "dRdM = (1 / beta) * (-mass_host * dUdM_S - mass_sat * dUdM_H)\n",
    "dRdw_host = (1 / beta) * (-mass_sat * dUdw_H)\n",
    "dRdw_sat = (1 / beta) * (-mass_host * dUdw_S)\n",
    "dRdO_host = (1 / beta) * (-mass_sat * dUdO_H)\n",
    "dRdO_sat = (1 / beta) * (-mass_host * dUdO_S)"
   ]
  },
  {
   "cell_type": "code",
   "execution_count": null,
   "metadata": {},
   "outputs": [],
   "source": [
    "dRdM = expand(clean_up(dRdM.subs(mass_host + mass_sat, mean_n**2 * semi_major_axis**3 / newton_G),\n",
    "                       max_q=max_q))\n",
    "dRdw_host = expand(clean_up(dRdw_host.subs(mass_host + mass_sat, mean_n**2 * semi_major_axis**3 / newton_G),\n",
    "                            max_q=max_q))\n",
    "dRdw_sat = expand(clean_up(dRdw_sat.subs(mass_host + mass_sat, mean_n**2 * semi_major_axis**3 / newton_G),\n",
    "                           max_q=max_q))\n",
    "dRdO_host = expand(clean_up(dRdO_host.subs(mass_host + mass_sat, mean_n**2 * semi_major_axis**3 / newton_G),\n",
    "                            max_q=max_q))\n",
    "dRdO_sat = expand(clean_up(dRdO_sat.subs(mass_host + mass_sat, mean_n**2 * semi_major_axis**3 / newton_G),\n",
    "                           max_q=max_q))"
   ]
  },
  {
   "cell_type": "markdown",
   "metadata": {},
   "source": [
    "## Find Time Derivatives"
   ]
  },
  {
   "cell_type": "code",
   "execution_count": null,
   "metadata": {},
   "outputs": [],
   "source": [
    "dadt = (2 / (mean_n * semi_major_axis)) * dRdM\n",
    "dedt = ((1 - eccentricity**2) / (mean_n * semi_major_axis**2 * eccentricity)) * dRdM - \\\n",
    "    ((1 - eccentricity**2)**(Rational(1,2)) / (mean_n * semi_major_axis**2 * eccentricity)) * (dRdw_host + dRdw_sat)\n",
    "dspin_dt_host = - (beta / moi_host) * dRdO_host\n",
    "dspin_dt_sat = - (beta / moi_sat) * dRdO_sat"
   ]
  },
  {
   "cell_type": "markdown",
   "metadata": {},
   "source": [
    "### I = 0, Spin Sync Case"
   ]
  },
  {
   "cell_type": "code",
   "execution_count": null,
   "metadata": {},
   "outputs": [],
   "source": [
    "dadt_synci0 = sync_spin(dadt.subs(obliquity_host, 0).subs(obliquity_sat, 0),\n",
    "                        sat=True, host=True, max_q=max_q)\n",
    "dedt_synci0 = sync_spin(dedt.subs(obliquity_host, 0).subs(obliquity_sat, 0),\n",
    "                        sat=True, host=True, max_q=max_q)\n",
    "dspin_dt_host_synci0 = sync_spin(dspin_dt_host.subs(obliquity_host, 0).subs(obliquity_sat, 0),\n",
    "                                 sat=True, host=True, max_q=max_q)\n",
    "dspin_dt_sat_synci0 = sync_spin(dspin_dt_sat.subs(obliquity_host, 0).subs(obliquity_sat, 0),\n",
    "                                sat=True, host=True, max_q=max_q)\n",
    "\n",
    "for mode, love_S in love_table_sat.items():\n",
    "    dadt_synci0 = collect(dadt_synci0, love_S)\n",
    "    dedt_synci0 = collect(dedt_synci0, love_S)\n",
    "    dspin_dt_sat_synci0 = collect(dspin_dt_sat_synci0, love_S)\n",
    "for mode, love_H in love_table_host.items():\n",
    "    dadt_synci0 = collect(dadt_synci0, love_H)\n",
    "    dedt_synci0 = collect(dedt_synci0, love_H)\n",
    "    dspin_dt_host_synci0 = collect(dspin_dt_host_synci0, love_H)"
   ]
  },
  {
   "cell_type": "code",
   "execution_count": null,
   "metadata": {},
   "outputs": [],
   "source": [
    "print('da/dt')\n",
    "# disp(dadt_synci0)\n",
    "\n",
    "latex_str = latex(dadt_synci0/(Rational(3,2)))\n",
    "# latex_str = latex_str.replace('\\\\Xi^{}_{S2}', '\\\\operatorname{K}_{j}')\n",
    "print(latex_str)"
   ]
  },
  {
   "cell_type": "code",
   "execution_count": null,
   "metadata": {},
   "outputs": [],
   "source": [
    "print('de/dt')\n",
    "disp(dedt_synci0)"
   ]
  },
  {
   "cell_type": "code",
   "execution_count": null,
   "metadata": {},
   "outputs": [],
   "source": [
    "print('SpinDerivs')\n",
    "disp(dspin_dt_sat_synci0)\n",
    "disp(dspin_dt_host_synci0)"
   ]
  }
 ],
 "metadata": {
  "kernelspec": {
   "display_name": "Python 3",
   "language": "python",
   "name": "python3"
  },
  "language_info": {
   "codemirror_mode": {
    "name": "ipython",
    "version": 3
   },
   "file_extension": ".py",
   "mimetype": "text/x-python",
   "name": "python",
   "nbconvert_exporter": "python",
   "pygments_lexer": "ipython3",
   "version": "3.8.3"
  }
 },
 "nbformat": 4,
 "nbformat_minor": 2
}
