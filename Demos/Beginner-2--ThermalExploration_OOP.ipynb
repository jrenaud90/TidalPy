{
 "cells": [
  {
   "cell_type": "markdown",
   "metadata": {},
   "source": [
    "# Thermal Exploration using TidalPy\n",
    "In this notebook we will see how we can use TidalPy's object oriented approach to build a layered planet. We will then apply different temperatures to its mantle layer and see how its physical properties and tidal heating potential are affected."
   ]
  },
  {
   "cell_type": "markdown",
   "metadata": {},
   "source": [
    "### Build the Planet\n",
    "For this example we will build a simple version of Io. We will use the pre-built TidalPy configuration for \"io_simple\"; its configurations will be printed below."
   ]
  },
  {
   "cell_type": "code",
   "execution_count": 1,
   "metadata": {},
   "outputs": [],
   "source": [
    "import numpy as np\n",
    "import matplotlib.pyplot as plt\n",
    "from ipywidgets import interact, widgets\n",
    "%matplotlib ipympl\n",
    "from TidalPy import build_world, build_from_world\n",
    "from TidalPy import Orbit\n",
    "\n",
    "print_configs = False"
   ]
  },
  {
   "cell_type": "code",
   "execution_count": 2,
   "metadata": {
    "pycharm": {
     "name": "#%%\n"
    }
   },
   "outputs": [],
   "source": [
    "from pprint import pprint\n",
    "io = build_world('io_simple')\n",
    "\n",
    "if print_configs:\n",
    "    print('Complex Compliance Model Parameters:')\n",
    "    pprint(io.Mantle.rheology.complex_compliance_model.config)\n",
    "    print('\\nSolid Viscosity Model Parameters:')\n",
    "    pprint(io.Mantle.rheology.viscosity_model.config)\n",
    "    print('\\nPartial Melting Model Parameters:')\n",
    "    pprint(io.Mantle.rheology.partial_melting_model.config)"
   ]
  },
  {
   "cell_type": "markdown",
   "metadata": {},
   "source": [
    "### Plot the Planet's Interior Structure\n",
    "Remember this is just a simple version of Io (no density as function of pressure)"
   ]
  },
  {
   "cell_type": "code",
   "execution_count": 3,
   "metadata": {
    "pycharm": {
     "name": "#%%\n"
    },
    "scrolled": false
   },
   "outputs": [
    {
     "data": {
      "application/vnd.jupyter.widget-view+json": {
       "model_id": "e4b57a13e78841dba51a5bbe0a64837f",
       "version_major": 2,
       "version_minor": 0
      },
      "text/plain": [
       "Canvas(toolbar=Toolbar(toolitems=[('Home', 'Reset original view', 'home', 'home'), ('Back', 'Back to previous …"
      ]
     },
     "metadata": {},
     "output_type": "display_data"
    }
   ],
   "source": [
    "_ = io.paint()"
   ]
  },
  {
   "cell_type": "markdown",
   "metadata": {},
   "source": [
    "### Set the Mantle's Temperature and Plot its Viscoelastic Properties"
   ]
  },
  {
   "cell_type": "code",
   "execution_count": 4,
   "metadata": {
    "pycharm": {
     "name": "#%%\n"
    }
   },
   "outputs": [
    {
     "data": {
      "application/vnd.jupyter.widget-view+json": {
       "model_id": "dbd2eee347904f62a3e8a41ce7bb259c",
       "version_major": 2,
       "version_minor": 0
      },
      "text/plain": [
       "Canvas(toolbar=Toolbar(toolitems=[('Home', 'Reset original view', 'home', 'home'), ('Back', 'Back to previous …"
      ]
     },
     "metadata": {},
     "output_type": "display_data"
    }
   ],
   "source": [
    "temperature = np.linspace(900., 2000., 500)\n",
    "io.Mantle.set_state(temperature=temperature)\n",
    "\n",
    "# Plot the results\n",
    "fig, ax = plt.subplots()\n",
    "ax.set(xlabel='Temperature [K]', ylabel='Viscosity [Pa s]', yscale='log')\n",
    "ax.yaxis.label.set_color('b')\n",
    "ax_2 = ax.twinx()\n",
    "ax_2.set(yscale='log', ylabel='Shear Modulus [Pa]')\n",
    "ax_2.yaxis.label.set_color('r')\n",
    "\n",
    "io_visco_vs_temp = io.Mantle.viscosity\n",
    "io_shear_vs_temp = io.Mantle.shear_modulus\n",
    "ax.plot(temperature, io_visco_vs_temp, c='b')\n",
    "ax_2.plot(temperature, io_shear_vs_temp, c='r')\n",
    "\n",
    "# Add line where partial melting starts\n",
    "ax_2.axvline(x=1600., ls=':', c='k')\n",
    "ax_2.annotate('Partial Melting Starts', (1600., 1.e2), (1100, 1.e4), arrowprops={'arrowstyle':'->'})\n",
    "ax_2.axvline(x=1800., ls=':', c='k')\n",
    "ax_2.annotate('Breakdown', (1800., 1.e2), (1850, 1.e4), arrowprops={'arrowstyle':'->'})\n",
    "plt.show()"
   ]
  },
  {
   "cell_type": "markdown",
   "metadata": {
    "pycharm": {
     "name": "#%% md\n"
    }
   },
   "source": [
    "## Calculate Tidal Heating as a function of Temperature for Io\n",
    "Using a more realistic interior model for Io, we will now calculate tidal heating as a function of mantle temperature.\n",
    "This assumes Io's mantle is a homogeneous layer that follows the shear & viscosity vs. temperature relationship seen in the last figure."
   ]
  },
  {
   "cell_type": "code",
   "execution_count": null,
   "metadata": {
    "pycharm": {
     "name": "#%%\n"
    },
    "scrolled": false
   },
   "outputs": [
    {
     "data": {
      "application/vnd.jupyter.widget-view+json": {
       "model_id": "d508d9665cc24e85b26de2e77a6671d8",
       "version_major": 2,
       "version_minor": 0
      },
      "text/plain": [
       "Canvas(toolbar=Toolbar(toolitems=[('Home', 'Reset original view', 'home', 'home'), ('Back', 'Back to previous …"
      ]
     },
     "metadata": {},
     "output_type": "display_data"
    },
    {
     "name": "stdout",
     "output_type": "stream",
     "text": [
      "> \u001B[1;32mc:\\users\\joepr\\appdata\\local\\temp\\ipykernel_9520\\1243160690.py\u001B[0m(51)\u001B[0;36m<module>\u001B[1;34m()\u001B[0m\n",
      "\n",
      "ipdb> io.mantle.viscosity\n",
      "array([4.678e+37, 3.441e+37, 2.544e+37, 1.891e+37, 1.412e+37, 1.059e+37,\n",
      "       7.987e+36, 6.049e+36, 4.602e+36, 3.516e+36, 2.698e+36, 2.079e+36,\n",
      "       1.608e+36, 1.249e+36, 9.741e+35, 7.625e+35, 5.990e+35, 4.723e+35,\n",
      "       3.737e+35, 2.967e+35, 2.364e+35, 1.889e+35, 1.515e+35, 1.219e+35,\n",
      "       9.835e+34, 7.961e+34, 6.462e+34, 5.261e+34, 4.296e+34, 3.517e+34,\n",
      "       2.888e+34, 2.377e+34, 1.962e+34, 1.624e+34, 1.347e+34, 1.120e+34,\n",
      "       9.337e+33, 7.802e+33, 6.535e+33, 5.486e+33, 4.615e+33, 3.892e+33,\n",
      "       3.288e+33, 2.785e+33, 2.363e+33, 2.009e+33, 1.712e+33, 1.461e+33,\n",
      "       1.250e+33, 1.071e+33, 9.194e+32, 7.908e+32, 6.813e+32, 5.881e+32,\n",
      "       5.085e+32, 4.404e+32, 3.820e+32, 3.320e+32, 2.889e+32, 2.519e+32,\n",
      "       2.199e+32, 1.923e+32, 1.684e+32, 1.477e+32, 1.297e+32, 1.141e+32,\n",
      "       1.005e+32, 8.865e+31, 7.830e+31, 6.925e+31, 5.927e+31, 3.933e+31,\n",
      "       2.614e+31, 1.739e+31, 1.158e+31, 7.727e+30, 5.160e+30, 3.450e+30,\n",
      "       2.309e+30, 1.547e+30, 1.038e+30, 6.971e+29, 4.687e+29, 3.154e+29,\n",
      "       2.125e+29, 1.434e+29, 9.679e+28, 6.541e+28, 4.425e+28, 2.997e+28,\n",
      "       2.031e+28, 1.378e+28, 9.361e+27, 6.363e+27, 7.936e+24, 2.567e+21,\n",
      "       2.000e-01, 2.000e-01, 2.000e-01, 2.000e-01])\n",
      "ipdb> io.mantle.temperature\n",
      "array([1.000e+03, 1.009e+03, 1.017e+03, 1.026e+03, 1.034e+03, 1.043e+03,\n",
      "       1.052e+03, 1.060e+03, 1.069e+03, 1.077e+03, 1.086e+03, 1.094e+03,\n",
      "       1.103e+03, 1.112e+03, 1.120e+03, 1.129e+03, 1.137e+03, 1.146e+03,\n",
      "       1.155e+03, 1.163e+03, 1.172e+03, 1.180e+03, 1.189e+03, 1.197e+03,\n",
      "       1.206e+03, 1.215e+03, 1.223e+03, 1.232e+03, 1.240e+03, 1.249e+03,\n",
      "       1.258e+03, 1.266e+03, 1.275e+03, 1.283e+03, 1.292e+03, 1.301e+03,\n",
      "       1.309e+03, 1.318e+03, 1.326e+03, 1.335e+03, 1.343e+03, 1.352e+03,\n",
      "       1.361e+03, 1.369e+03, 1.378e+03, 1.386e+03, 1.395e+03, 1.404e+03,\n",
      "       1.412e+03, 1.421e+03, 1.429e+03, 1.438e+03, 1.446e+03, 1.455e+03,\n",
      "       1.464e+03, 1.472e+03, 1.481e+03, 1.489e+03, 1.498e+03, 1.507e+03,\n",
      "       1.515e+03, 1.524e+03, 1.532e+03, 1.541e+03, 1.549e+03, 1.558e+03,\n",
      "       1.567e+03, 1.575e+03, 1.584e+03, 1.592e+03, 1.601e+03, 1.610e+03,\n",
      "       1.618e+03, 1.627e+03, 1.635e+03, 1.644e+03, 1.653e+03, 1.661e+03,\n",
      "       1.670e+03, 1.678e+03, 1.687e+03, 1.695e+03, 1.704e+03, 1.713e+03,\n",
      "       1.721e+03, 1.730e+03, 1.738e+03, 1.747e+03, 1.756e+03, 1.764e+03,\n",
      "       1.773e+03, 1.781e+03, 1.790e+03, 1.798e+03, 1.807e+03, 1.816e+03,\n",
      "       1.824e+03, 1.833e+03, 1.841e+03, 1.850e+03])\n",
      "ipdb> io.mantle.shear\n",
      "*** AttributeError: 'BurnmanLayer' object has no attribute 'shear'\n",
      "ipdb> io.mantle.shear_modulus\n",
      "array([6.000e+10, 6.000e+10, 6.000e+10, 6.000e+10, 6.000e+10, 6.000e+10,\n",
      "       6.000e+10, 6.000e+10, 6.000e+10, 6.000e+10, 6.000e+10, 6.000e+10,\n",
      "       6.000e+10, 6.000e+10, 6.000e+10, 6.000e+10, 6.000e+10, 6.000e+10,\n",
      "       6.000e+10, 6.000e+10, 6.000e+10, 6.000e+10, 6.000e+10, 6.000e+10,\n",
      "       6.000e+10, 6.000e+10, 6.000e+10, 6.000e+10, 6.000e+10, 6.000e+10,\n",
      "       6.000e+10, 6.000e+10, 6.000e+10, 6.000e+10, 6.000e+10, 6.000e+10,\n",
      "       6.000e+10, 6.000e+10, 6.000e+10, 6.000e+10, 6.000e+10, 6.000e+10,\n",
      "       6.000e+10, 6.000e+10, 6.000e+10, 6.000e+10, 6.000e+10, 6.000e+10,\n",
      "       6.000e+10, 6.000e+10, 6.000e+10, 6.000e+10, 6.000e+10, 6.000e+10,\n",
      "       6.000e+10, 6.000e+10, 6.000e+10, 6.000e+10, 6.000e+10, 6.000e+10,\n",
      "       6.000e+10, 6.000e+10, 6.000e+10, 6.000e+10, 6.000e+10, 6.000e+10,\n",
      "       6.000e+10, 6.000e+10, 6.000e+10, 6.000e+10, 5.906e+10, 5.169e+10,\n",
      "       4.531e+10, 3.976e+10, 3.495e+10, 3.076e+10, 2.711e+10, 2.392e+10,\n",
      "       2.113e+10, 1.869e+10, 1.656e+10, 1.469e+10, 1.304e+10, 1.159e+10,\n",
      "       1.032e+10, 9.193e+09, 8.201e+09, 7.324e+09, 6.548e+09, 5.861e+09,\n",
      "       5.251e+09, 4.710e+09, 4.229e+09, 3.801e+09, 1.577e+04, 4.705e-03,\n",
      "       2.000e-01, 2.000e-01, 2.000e-01, 2.000e-01])\n",
      "ipdb> io.mantle.rheology.viscosity_func\n",
      "*** AttributeError: 'Rheology' object has no attribute 'viscosity_func'\n",
      "ipdb> dir(io.mantle.rheology)\n",
      "['__class__', '__delattr__', '__dict__', '__dir__', '__doc__', '__eq__', '__format__', '__ge__', '__getattribute__', '__gt__', '__hash__', '__init__', '__init_subclass__', '__le__', '__lt__', '__module__', '__ne__', '__new__', '__reduce__', '__reduce_ex__', '__repr__', '__setattr__', '__sizeof__', '__str__', '__subclasshook__', '__weakref__', '_complex_compliance_model', '_config', '_layer', '_liquid_viscosity_model', '_old_config', '_partial_melting_model', '_replacement_config', '_viscosity_model', '_world', 'beta', 'clear_state', 'complex_compliance_model', 'complex_compliances', 'complex_compliances_changed', 'compliance', 'config', 'config_constructed', 'default_config', 'default_config_key', 'get_param', 'layer', 'layer_config_key', 'layer_type', 'liquid_viscosity', 'liquid_viscosity_model', 'melt_fraction', 'old_config', 'partial_melting_model', 'postmelt_compliance', 'postmelt_shear_modulus', 'postmelt_viscosity', 'premelt_shear', 'premelt_viscosity', 'print_config', 'quality_factor', 'replace_config', 'replacement_config', 'save_config', 'set_state', 'shear', 'shear_modulus', 'store_config_in_layer', 'store_py_info', 'strength_changed', 'temperature_pressure_changed', 'tidal_frequencies_changed', 'tidalpy_version', 'unique_tidal_frequencies', 'update_config', 'viscosity', 'viscosity_model', 'world']\n",
      "ipdb> io.mantle.rheology.premelt_viscosity\n",
      "array([4.678e+37, 3.441e+37, 2.544e+37, 1.891e+37, 1.412e+37, 1.059e+37,\n",
      "       7.987e+36, 6.049e+36, 4.602e+36, 3.516e+36, 2.698e+36, 2.079e+36,\n",
      "       1.608e+36, 1.249e+36, 9.741e+35, 7.625e+35, 5.990e+35, 4.723e+35,\n",
      "       3.737e+35, 2.967e+35, 2.364e+35, 1.889e+35, 1.515e+35, 1.219e+35,\n",
      "       9.835e+34, 7.961e+34, 6.462e+34, 5.261e+34, 4.296e+34, 3.517e+34,\n",
      "       2.888e+34, 2.377e+34, 1.962e+34, 1.624e+34, 1.347e+34, 1.120e+34,\n",
      "       9.337e+33, 7.802e+33, 6.535e+33, 5.486e+33, 4.615e+33, 3.892e+33,\n",
      "       3.288e+33, 2.785e+33, 2.363e+33, 2.009e+33, 1.712e+33, 1.461e+33,\n",
      "       1.250e+33, 1.071e+33, 9.194e+32, 7.908e+32, 6.813e+32, 5.881e+32,\n",
      "       5.085e+32, 4.404e+32, 3.820e+32, 3.320e+32, 2.889e+32, 2.519e+32,\n",
      "       2.199e+32, 1.923e+32, 1.684e+32, 1.477e+32, 1.297e+32, 1.141e+32,\n",
      "       1.005e+32, 8.865e+31, 7.830e+31, 6.925e+31, 6.132e+31, 5.438e+31,\n",
      "       4.828e+31, 4.292e+31, 3.820e+31, 3.404e+31, 3.037e+31, 2.713e+31,\n",
      "       2.427e+31, 2.173e+31, 1.947e+31, 1.747e+31, 1.570e+31, 1.412e+31,\n",
      "       1.271e+31, 1.145e+31, 1.033e+31, 9.330e+30, 8.433e+30, 7.631e+30,\n",
      "       6.911e+30, 6.265e+30, 5.685e+30, 5.163e+30, 4.694e+30, 4.271e+30,\n",
      "       3.890e+30, 3.545e+30, 3.235e+30, 2.953e+30])\n",
      "ipdb> io.mantle.rheology.viscosity_model\n",
      "<TidalPy.rheology.viscosity.viscosity.SolidViscosity object at 0x0000021B462F3190>\n",
      "ipdb> dir(io.mantle.rheology.viscosity_model\n",
      "*** SyntaxError: unexpected EOF while parsing\n",
      "ipdb> dir(io.mantle.rheology.viscosity_model)\n",
      "['__class__', '__delattr__', '__dict__', '__dir__', '__doc__', '__eq__', '__format__', '__ge__', '__getattribute__', '__gt__', '__hash__', '__init__', '__init_subclass__', '__le__', '__lt__', '__module__', '__ne__', '__new__', '__reduce__', '__reduce_ex__', '__repr__', '__setattr__', '__sizeof__', '__str__', '__subclasshook__', '__weakref__', '_calc_to_use', '_calculate', '_config', '_constant_arg_names', '_debug_mode_on', '_func', '_func_array', '_func_array_defined', '_inputs', '_layer', '_live_arg_names', '_live_inputs', '_model', '_old_config', '_replacement_config', '_rheology_class', '_store_config_in_layer', '_viscosity', '_world', 'build_args', 'build_inputs', 'calculate', 'clear_state', 'config', 'config_constructed', 'debug_mode_on', 'default_config', 'default_config_key', 'func', 'func_array', 'func_array_defined', 'get_live_args', 'get_param', 'inputs', 'is_liquid', 'known_model_const_args', 'known_model_live_args', 'known_models', 'layer', 'layer_type', 'live_inputs', 'model', 'model_config_key', 'old_config', 'pressure', 'print_config', 'reinit', 'replace_config', 'replacement_config', 'rheology_class', 'save_config', 'store_config_in_layer', 'store_py_info', 'temperature', 'tidalpy_version', 'update_config', 'viscosity', 'world']\n"
     ]
    },
    {
     "name": "stdout",
     "output_type": "stream",
     "text": [
      "ipdb> io.mantle.rheology.viscosity_model.func\n",
      "CPUDispatcher(<function reference at 0x0000021B3EE803A0>)\n",
      "ipdb> io.mantle.rheology.viscosity_model.func.pyfunc\n",
      "*** AttributeError: 'CPUDispatcher' object has no attribute 'pyfunc'\n",
      "ipdb> dir(io.mantle.rheology.viscosity_model.func)\n",
      "['_MemoMixin__uuid', '__abstractmethods__', '__annotations__', '__call__', '__class__', '__code__', '__delattr__', '__dict__', '__dir__', '__doc__', '__eq__', '__format__', '__ge__', '__get__', '__getattribute__', '__gt__', '__hash__', '__init__', '__init_subclass__', '__le__', '__lt__', '__module__', '__name__', '__ne__', '__new__', '__numba__', '__qualname__', '__reduce__', '__reduce_ex__', '__repr__', '__setattr__', '__sizeof__', '__slots__', '__str__', '__subclasshook__', '__weakref__', '__wrapped__', '_abc_impl', '_cache', '_cache_hits', '_cache_misses', '_call_tls_target', '_callback_add_compiler_timer', '_callback_add_llvm_timer', '_callback_add_timer', '_can_compile', '_clear', '_compilation_chain_init_hook', '_compile_for_args', '_compiler', '_compiling_counter', '_cuda_call', '_explain_ambiguous', '_explain_matching_error', '_fold_args', '_get_dispatcher_for_current_target', '_get_retarget_dispatcher', '_impl_kind', '_impl_kinds', '_insert', '_make_finalizer', '_memo', '_numba_type_', '_rebuild', '_recent', '_reduce_class', '_reduce_states', '_required_target_backend', '_reset_overloads', '_search_new_conversions', '_set_uuid', '_tm', '_type', '_types_active_call', '_uuid', 'add_overload', 'compile', 'disable_compile', 'doc', 'dump', 'enable_caching', 'fold_argument_types', 'func_code', 'get_annotation_info', 'get_call_template', 'get_compile_result', 'get_function_type', 'get_metadata', 'get_overload', 'inspect_asm', 'inspect_cfg', 'inspect_disasm_cfg', 'inspect_llvm', 'inspect_types', 'is_compiling', 'locals', 'nopython_signatures', 'overloads', 'parallel_diagnostics', 'py_func', 'recompile', 'signatures', 'stats', 'targetctx', 'targetdescr', 'targetoptions', 'typeof_pyval', 'typingctx']\n",
      "ipdb> io.mantle.rheology.viscosity_model.func.py_func\n",
      "<function reference at 0x0000021B3EE803A0>\n",
      "ipdb> io.mantle.rheology.viscosity_model.func()\n",
      "*** TypeError: not enough arguments: expected 6, got 0\n"
     ]
    }
   ],
   "source": [
    "plot_convection = True\n",
    "plot_radiogenics = False\n",
    "\n",
    "# Build a new Io\n",
    "io_base = build_world('io')\n",
    "\n",
    "# Setup domain and plot\n",
    "temperature = np.linspace(1000., 1850., 100)\n",
    "fig2, ax2 = plt.subplots()\n",
    "ax2.set(xlabel='Temperature [K]', ylabel='Tidal Heating [W]', yscale='log', ylim=(1e11, 1e16), xlim=(1100, 1800),\n",
    "        title='Tidal Heating within Io')\n",
    "\n",
    "# Lets show how different rheological models can impact tidal heating\n",
    "fixed_q = 10.\n",
    "rheologies = {\n",
    "    'maxwell': ('Maxwell (Traditional Method)', 'k'),\n",
    "    'burgers': ('Burgers', 'r'),\n",
    "    'andrade': ('Andrade', 'b'),\n",
    "    'sundberg': ('Sundberg-Cooper', 'm')\n",
    "}\n",
    "orbit_by_rheo = {}\n",
    "\n",
    "r_i = 0\n",
    "for rheo_model, (rheo_name, rheo_color) in rheologies.items():\n",
    "    \n",
    "    # Build a new Io assuming its mantle has this new rheology.\n",
    "    #    Note: Building a whole new world just to see the difference in\n",
    "    #       in rheology is overkill - this is just a demonstration.\n",
    "    new_config = {'layers': {'Mantle': {'rheology': {'complex_compliance': {'model': rheo_model}}}}}\n",
    "    io = build_from_world(io_base, new_config=new_config)\n",
    "    \n",
    "    # Set fixed q if that model is being used\n",
    "    if rheo_model.lower() in ['fixed_q']:\n",
    "        io.tides.set_fixed_q(fixed_q, run_updates=False)\n",
    "    \n",
    "    # Load in temperatures and make tidal calculations\n",
    "    io.mantle.temperature = temperature\n",
    "    \n",
    "    # Add orbit with jupiter (load in default orbital configurations based on Io's config)\n",
    "    sol = build_world('sol')\n",
    "    jupiter = build_world('jupiter')\n",
    "    orbit = Orbit(star=sol, tidal_host=jupiter, tidal_bodies=io)\n",
    "    # Set orbits time to initialize the world's radiogenic heating\n",
    "    orbit.time = 4600.  # 4600. Myr after solar system formation is roughly modern.\n",
    "    \n",
    "    # Store the orbit by rheology\n",
    "    orbit_by_rheo[(rheo_name, rheo_color)] = orbit\n",
    "    \n",
    "    # Plot results\n",
    "    import pdb; pdb.set_trace()\n",
    "    ax2.plot(temperature, io.tidal_heating_global, label=rheo_name, color=rheo_color)\n",
    "    \n",
    "    # Plot convective cooling and radiogenics\n",
    "    if r_i == 0:\n",
    "        if plot_convection:\n",
    "            ax2.plot(temperature, io.mantle.cooling, label='Convective Cooling', color='y', ls=':')\n",
    "        \n",
    "        if plot_radiogenics:\n",
    "            ax2.plot(temperature, io.mantle.radiogenics.heating * np.ones_like(io.mantle.cooling),\n",
    "                     label='Radiogenic Heating', color='g', ls=':')\n",
    "    \n",
    "    r_i += 1\n",
    "    \n",
    "ax2.legend(loc='best')\n",
    "plt.show()"
   ]
  },
  {
   "cell_type": "markdown",
   "metadata": {},
   "source": [
    "## Calculate Tidal Heating as a Function of Strength\n",
    "The specific viscosity and shear modulus relationships used in the above example are full of uncertainties. Especially since we did not consider presssure dependence.\n",
    "However, the relationship between tidal heating and viscosity and shear modulus is less uncertain (still lots more work needed!). Let us look at that phase space, ignoring temperature"
   ]
  },
  {
   "cell_type": "code",
   "execution_count": 6,
   "metadata": {},
   "outputs": [
    {
     "data": {
      "application/vnd.jupyter.widget-view+json": {
       "model_id": "eed36241edd248ae8190bda398b4a3da",
       "version_major": 2,
       "version_minor": 0
      },
      "text/plain": [
       "Canvas(toolbar=Toolbar(toolitems=[('Home', 'Reset original view', 'home', 'home'), ('Back', 'Back to previous …"
      ]
     },
     "metadata": {},
     "output_type": "display_data"
    },
    {
     "name": "stdout",
     "output_type": "stream",
     "text": [
      "Vary Andrade Parameters\n"
     ]
    },
    {
     "data": {
      "application/vnd.jupyter.widget-view+json": {
       "model_id": "7c1dbb35af2549a8b040519e2a3a53a5",
       "version_major": 2,
       "version_minor": 0
      },
      "text/plain": [
       "interactive(children=(FloatSlider(value=0.3, description='$\\\\alpha$', max=0.9, min=0.1, step=0.05), FloatSlide…"
      ]
     },
     "metadata": {},
     "output_type": "display_data"
    },
    {
     "data": {
      "text/plain": [
       "<function __main__.update_fig(andrade_alpha=0.3, andrade_zeta_power=0.0)>"
      ]
     },
     "execution_count": 6,
     "metadata": {},
     "output_type": "execute_result"
    }
   ],
   "source": [
    "# Setup Plot\n",
    "fig3, axis_set = plt.subplots(nrows=2, ncols=2, sharex='all', sharey='all')\n",
    "((ax3_1, ax3_2), (ax3_3, ax3_4)) = axis_set\n",
    "axes = [ax3_1, ax3_2, ax3_3, ax3_4]\n",
    "\n",
    "viscosity_array = np.logspace(8, 22, 100)\n",
    "shear_array = np.logspace(4, 14, 110)\n",
    "\n",
    "# We eventually want a 2D matrix to plot the results, \n",
    "#    but currently TidalPy relies on numba which does not support 2D arrays - so we will need\n",
    "#    to flatten them before calculations.\n",
    "viscosity_mtx, shear_mtx = np.meshgrid(viscosity_array, shear_array)\n",
    "shape = viscosity_mtx.shape\n",
    "viscosity_mtx_flat = viscosity_mtx.flatten()\n",
    "shear_mtx_flat = shear_mtx.flatten()\n",
    "\n",
    "# Colorbar slices\n",
    "colorbar_points = np.linspace(10, 16, 13)\n",
    "colorbars = dict()\n",
    "\n",
    "# Use the orbits constructed in the last example\n",
    "    \n",
    "def update_fig(andrade_alpha=0.3, andrade_zeta_power=0.):\n",
    "    \n",
    "    andrade_zeta = 10. ** andrade_zeta_power\n",
    "    \n",
    "    i = 0\n",
    "    for (rheo_name, rheo_color), orbit in orbit_by_rheo.items():\n",
    "        \n",
    "        # Use the orbits constructed in the last example\n",
    "        io = orbit.tidal_objects[1]\n",
    "        # Change the andrade parameters based on the interactive interface\n",
    "        io.mantle.config['rheology']['complex_compliance']['alpha'] = andrade_alpha\n",
    "        io.mantle.config['rheology']['complex_compliance']['zeta'] = andrade_zeta\n",
    "        io.mantle.reinit()\n",
    "        \n",
    "        # Set thermal state\n",
    "        io.mantle.temperature = None  # Clear the temperature set in the previous cell.\n",
    "        io.mantle.set_strength(viscosity=viscosity_mtx_flat, shear_modulus=shear_mtx_flat)\n",
    "        \n",
    "        # Pull out tidal heating and convert the shape\n",
    "        tidal_heating = io.tidal_heating_global\n",
    "        tidal_heating = np.log10(tidal_heating.reshape(shape))\n",
    "\n",
    "        # Plot results\n",
    "        axes[i].clear()\n",
    "        cb_data = axes[i].contourf(viscosity_array, shear_array, tidal_heating, colorbar_points)\n",
    "        axes[i].set_title(rheo_name)\n",
    "\n",
    "        # Plot what the current melting model would produce\n",
    "        axes[i].plot(io_visco_vs_temp, io_shear_vs_temp, color='k', ls='--')\n",
    "\n",
    "        if i in [1, 3]:\n",
    "            if i not in colorbars:\n",
    "                pass\n",
    "            else:\n",
    "                cb = colorbars[i]\n",
    "                cb.remove()\n",
    "                del cb\n",
    "            \n",
    "            cb = plt.colorbar(cb_data, ax=axes[i])\n",
    "            cb.set_label('Tidal Heating [log$_{10}$ W]') \n",
    "            colorbars[i] = cb\n",
    "        i += 1\n",
    "    ax3_1.set(xlabel='', xscale='log', ylabel='Shear Modulus [Pa]', yscale='log',\n",
    "              ylim=(1e4, 1e14), xlim=(1e8, 1e22))\n",
    "    ax3_2.set(xlabel='', xscale='log', ylabel='', yscale='log',\n",
    "              ylim=(1e4, 1e14), xlim=(1e8, 1e22))\n",
    "    ax3_3.set(xlabel='Viscosity [Pa s]', xscale='log', ylabel='Shear Modulus [Pa]', yscale='log',\n",
    "              ylim=(1e4, 1e14), xlim=(1e8, 1e22))\n",
    "    ax3_4.set(xlabel='Viscosity [Pa s]', xscale='log', ylabel='', yscale='log',\n",
    "              ylim=(1e4, 1e14), xlim=(1e8, 1e22))\n",
    "\n",
    "print('Vary Andrade Parameters')\n",
    "interact(update_fig,\n",
    "         andrade_alpha=widgets.FloatSlider(min=0.1, max=0.9, step=0.05, description='$\\\\alpha$', value=0.3),\n",
    "         andrade_zeta_power=widgets.FloatSlider(min=-5., max=5., step=1, description='$\\\\zeta=10^{x}$', value=0.))"
   ]
  }
 ],
 "metadata": {
  "kernelspec": {
   "display_name": "Python 3 (ipykernel)",
   "language": "python",
   "name": "python3"
  },
  "language_info": {
   "codemirror_mode": {
    "name": "ipython",
    "version": 3
   },
   "file_extension": ".py",
   "mimetype": "text/x-python",
   "name": "python",
   "nbconvert_exporter": "python",
   "pygments_lexer": "ipython3",
   "version": "3.9.7"
  }
 },
 "nbformat": 4,
 "nbformat_minor": 1
}