{
 "cells": [
  {
   "cell_type": "markdown",
   "metadata": {
    "pycharm": {
     "name": "#%% md\n"
    }
   },
   "source": [
    "# Thermal Exploration using TidalPy\n",
    "In this notebook we will see how we can use TidalPy's object oriented approach to build a layered planet. We will then apply different temperatures to its mantle layer and see how its physical properties and tidal heating potential are affected."
   ]
  },
  {
   "cell_type": "markdown",
   "metadata": {
    "pycharm": {
     "name": "#%% md\n"
    }
   },
   "source": [
    "### Build the Planet\n",
    "For this example we will build a simple version of Io. We will use the pre-built TidalPy configuration for \"io_simple\"; its configurations will be printed below."
   ]
  },
  {
   "cell_type": "code",
   "execution_count": null,
   "metadata": {
    "pycharm": {
     "name": "#%%\n"
    }
   },
   "outputs": [],
   "source": [
    "import numpy as np\n",
    "import matplotlib.pyplot as plt\n",
    "from ipywidgets import interact, widgets\n",
    "%matplotlib ipympl\n",
    "from TidalPy import build_world, build_from_world\n",
    "from TidalPy import Orbit\n",
    "\n",
    "print_configs = False"
   ]
  },
  {
   "cell_type": "code",
   "execution_count": null,
   "metadata": {
    "pycharm": {
     "name": "#%%\n"
    }
   },
   "outputs": [],
   "source": [
    "from pprint import pprint\n",
    "io = build_world('io_simple')\n",
    "\n",
    "if print_configs:\n",
    "    print('Complex Compliance Model Parameters:')\n",
    "    pprint(io.Mantle.rheology.complex_compliance_model.config)\n",
    "    print('\\nSolid Viscosity Model Parameters:')\n",
    "    pprint(io.Mantle.rheology.viscosity_model.config)\n",
    "    print('\\nPartial Melting Model Parameters:')\n",
    "    pprint(io.Mantle.rheology.partial_melting_model.config)"
   ]
  },
  {
   "cell_type": "markdown",
   "metadata": {
    "pycharm": {
     "name": "#%% md\n"
    }
   },
   "source": [
    "### Plot the Planet's Interior Structure\n",
    "Remember this is just a simple version of Io (no density as function of pressure)"
   ]
  },
  {
   "cell_type": "code",
   "execution_count": null,
   "metadata": {
    "pycharm": {
     "name": "#%%\n"
    },
    "scrolled": false
   },
   "outputs": [],
   "source": [
    "_ = io.paint()"
   ]
  },
  {
   "cell_type": "markdown",
   "metadata": {
    "pycharm": {
     "name": "#%% md\n"
    }
   },
   "source": [
    "### Set the Mantle's Temperature and Plot its Viscoelastic Properties"
   ]
  },
  {
   "cell_type": "code",
   "execution_count": null,
   "metadata": {
    "pycharm": {
     "name": "#%%\n"
    }
   },
   "outputs": [],
   "source": [
    "temperature = np.linspace(900., 2000., 500)\n",
    "io.Mantle.set_state(temperature=temperature)\n",
    "\n",
    "# Plot the results\n",
    "fig, ax = plt.subplots()\n",
    "ax.set(xlabel='Temperature [K]', ylabel='Viscosity [Pa s]', yscale='log')\n",
    "ax.yaxis.label.set_color('b')\n",
    "ax_2 = ax.twinx()\n",
    "ax_2.set(yscale='log', ylabel='Shear Modulus [Pa]')\n",
    "ax_2.yaxis.label.set_color('r')\n",
    "\n",
    "io_visco_vs_temp = io.Mantle.viscosity\n",
    "io_shear_vs_temp = io.Mantle.shear_modulus\n",
    "ax.plot(temperature, io_visco_vs_temp, c='b')\n",
    "ax_2.plot(temperature, io_shear_vs_temp, c='r')\n",
    "\n",
    "# Add line where partial melting starts\n",
    "ax_2.axvline(x=1600., ls=':', c='k')\n",
    "ax_2.annotate('Partial Melting Starts', (1600., 1.e2), (1100, 1.e4), arrowprops={'arrowstyle':'->'})\n",
    "ax_2.axvline(x=1800., ls=':', c='k')\n",
    "ax_2.annotate('Breakdown', (1800., 1.e2), (1850, 1.e4), arrowprops={'arrowstyle':'->'})\n",
    "plt.show()"
   ]
  },
  {
   "cell_type": "markdown",
   "metadata": {
    "pycharm": {
     "name": "#%% md\n"
    }
   },
   "source": [
    "## Calculate Tidal Heating as a function of Temperature for Io\n",
    "Using a more realistic interior model for Io, we will now calculate tidal heating as a function of mantle temperature.\n",
    "This assumes Io's mantle is a homogeneous layer that follows the shear & viscosity vs. temperature relationship seen in the last figure."
   ]
  },
  {
   "cell_type": "code",
   "execution_count": null,
   "metadata": {
    "pycharm": {
     "name": "#%%\n"
    },
    "scrolled": false
   },
   "outputs": [],
   "source": [
    "plot_convection = True\n",
    "plot_radiogenics = False\n",
    "\n",
    "# Build a new Io\n",
    "io_base = build_world('io')\n",
    "\n",
    "# Setup domain and plot\n",
    "temperature = np.linspace(1000., 1850., 100)\n",
    "fig2, ax2 = plt.subplots()\n",
    "ax2.set(xlabel='Temperature [K]', ylabel='Tidal Heating [W]', yscale='log', ylim=(1e11, 1e16), xlim=(1100, 1800),\n",
    "        title='Tidal Heating within Io')\n",
    "\n",
    "# Lets show how different rheological models can impact tidal heating\n",
    "fixed_q = 10.\n",
    "rheologies = {\n",
    "    'maxwell': ('Maxwell (Traditional Method)', 'k'),\n",
    "    'burgers': ('Burgers', 'r'),\n",
    "    'andrade': ('Andrade', 'b'),\n",
    "    'sundberg': ('Sundberg-Cooper', 'm')\n",
    "}\n",
    "orbit_by_rheo = {}\n",
    "\n",
    "r_i = 0\n",
    "for rheo_model, (rheo_name, rheo_color) in rheologies.items():\n",
    "    \n",
    "    # Build a new Io assuming its mantle has this new rheology.\n",
    "    #    Note: Building a whole new world just to see the difference in\n",
    "    #       in rheology is overkill - this is just a demonstration.\n",
    "    new_config = {'layers': {'Mantle': {'rheology': {'complex_compliance': {'model': rheo_model}}}}}\n",
    "    io = build_from_world(io_base, new_config=new_config)\n",
    "    \n",
    "    # Set fixed q if that model is being used\n",
    "    if rheo_model.lower() in ['fixed_q']:\n",
    "        io.tides.set_fixed_q(fixed_q, run_updates=False)\n",
    "    \n",
    "    # Load in temperatures and make tidal calculations\n",
    "    io.mantle.temperature = temperature\n",
    "    \n",
    "    # Add orbit with jupiter (load in default orbital configurations based on Io's config)\n",
    "    sol = build_world('sol')\n",
    "    jupiter = build_world('jupiter')\n",
    "    orbit = Orbit(star=sol, tidal_host=jupiter, tidal_bodies=io)\n",
    "    # Set orbits time to initialize the world's radiogenic heating\n",
    "    orbit.time = 4600.  # 4600. Myr after solar system formation is roughly modern.\n",
    "    \n",
    "    # Store the orbit by rheology\n",
    "    orbit_by_rheo[(rheo_name, rheo_color)] = orbit\n",
    "    \n",
    "    # Plot results\n",
    "    ax2.plot(temperature, io.tidal_heating_global, label=rheo_name, color=rheo_color)\n",
    "    \n",
    "    # Plot convective cooling and radiogenics\n",
    "    if r_i == 0:\n",
    "        if plot_convection:\n",
    "            ax2.plot(temperature, io.mantle.cooling, label='Convective Cooling', color='y', ls=':')\n",
    "        \n",
    "        if plot_radiogenics:\n",
    "            ax2.plot(temperature, io.mantle.radiogenics.heating * np.ones_like(io.mantle.cooling),\n",
    "                     label='Radiogenic Heating', color='g', ls=':')\n",
    "    \n",
    "    r_i += 1\n",
    "    \n",
    "ax2.legend(loc='best')\n",
    "plt.show()"
   ]
  },
  {
   "cell_type": "markdown",
   "metadata": {
    "pycharm": {
     "name": "#%% md\n"
    }
   },
   "source": [
    "## Calculate Tidal Heating as a Function of Strength\n",
    "The specific viscosity and shear modulus relationships used in the above example are full of uncertainties. Especially since we did not consider presssure dependence.\n",
    "However, the relationship between tidal heating and viscosity and shear modulus is less uncertain (still lots more work needed!). Let us look at that phase space, ignoring temperature"
   ]
  },
  {
   "cell_type": "code",
   "execution_count": null,
   "metadata": {
    "pycharm": {
     "name": "#%%\n"
    }
   },
   "outputs": [],
   "source": [
    "# Setup Plot\n",
    "fig3, axis_set = plt.subplots(nrows=2, ncols=2, sharex='all', sharey='all')\n",
    "((ax3_1, ax3_2), (ax3_3, ax3_4)) = axis_set\n",
    "axes = [ax3_1, ax3_2, ax3_3, ax3_4]\n",
    "\n",
    "viscosity_array = np.logspace(8, 22, 100)\n",
    "shear_array = np.logspace(4, 14, 110)\n",
    "\n",
    "# We eventually want a 2D matrix to plot the results, \n",
    "#    but currently TidalPy relies on numba which does not support 2D arrays - so we will need\n",
    "#    to flatten them before calculations.\n",
    "viscosity_mtx, shear_mtx = np.meshgrid(viscosity_array, shear_array)\n",
    "shape = viscosity_mtx.shape\n",
    "viscosity_mtx_flat = viscosity_mtx.flatten()\n",
    "shear_mtx_flat = shear_mtx.flatten()\n",
    "\n",
    "# Colorbar slices\n",
    "colorbar_points = np.linspace(10, 16, 13)\n",
    "colorbars = dict()\n",
    "\n",
    "# Use the orbits constructed in the last example\n",
    "    \n",
    "def update_fig(andrade_alpha=0.3, andrade_zeta_power=0.):\n",
    "    \n",
    "    andrade_zeta = 10. ** andrade_zeta_power\n",
    "    \n",
    "    i = 0\n",
    "    for (rheo_name, rheo_color), orbit in orbit_by_rheo.items():\n",
    "        \n",
    "        # Use the orbits constructed in the last example\n",
    "        io = orbit.tidal_objects[1]\n",
    "        # Change the andrade parameters based on the interactive interface\n",
    "        io.mantle.config['rheology']['complex_compliance']['alpha'] = andrade_alpha\n",
    "        io.mantle.config['rheology']['complex_compliance']['zeta'] = andrade_zeta\n",
    "        io.mantle.reinit()\n",
    "        \n",
    "        # Set thermal state\n",
    "        io.mantle.temperature = None  # Clear the temperature set in the previous cell.\n",
    "        io.mantle.set_strength(viscosity=viscosity_mtx_flat, shear_modulus=shear_mtx_flat)\n",
    "        \n",
    "        # Pull out tidal heating and convert the shape\n",
    "        tidal_heating = io.tidal_heating_global\n",
    "        tidal_heating = np.log10(tidal_heating.reshape(shape))\n",
    "\n",
    "        # Plot results\n",
    "        axes[i].clear()\n",
    "        cb_data = axes[i].contourf(viscosity_array, shear_array, tidal_heating, colorbar_points)\n",
    "        axes[i].set_title(rheo_name)\n",
    "\n",
    "        # Plot what the current melting model would produce\n",
    "        axes[i].plot(io_visco_vs_temp, io_shear_vs_temp, color='k', ls='--')\n",
    "\n",
    "        if i in [1, 3]:\n",
    "            if i not in colorbars:\n",
    "                pass\n",
    "            else:\n",
    "                cb = colorbars[i]\n",
    "                cb.remove()\n",
    "                del cb\n",
    "            \n",
    "            cb = plt.colorbar(cb_data, ax=axes[i])\n",
    "            cb.set_label('Tidal Heating [log$_{10}$ W]') \n",
    "            colorbars[i] = cb\n",
    "        i += 1\n",
    "    ax3_1.set(xlabel='', xscale='log', ylabel='Shear Modulus [Pa]', yscale='log',\n",
    "              ylim=(1e4, 1e14), xlim=(1e8, 1e22))\n",
    "    ax3_2.set(xlabel='', xscale='log', ylabel='', yscale='log',\n",
    "              ylim=(1e4, 1e14), xlim=(1e8, 1e22))\n",
    "    ax3_3.set(xlabel='Viscosity [Pa s]', xscale='log', ylabel='Shear Modulus [Pa]', yscale='log',\n",
    "              ylim=(1e4, 1e14), xlim=(1e8, 1e22))\n",
    "    ax3_4.set(xlabel='Viscosity [Pa s]', xscale='log', ylabel='', yscale='log',\n",
    "              ylim=(1e4, 1e14), xlim=(1e8, 1e22))\n",
    "\n",
    "print('Vary Andrade Parameters')\n",
    "interact(update_fig,\n",
    "         andrade_alpha=widgets.FloatSlider(min=0.1, max=0.9, step=0.05, description='$\\\\alpha$', value=0.3),\n",
    "         andrade_zeta_power=widgets.FloatSlider(min=-5., max=5., step=1, description='$\\\\zeta=10^{x}$', value=0.))"
   ]
  }
 ],
 "metadata": {
  "kernelspec": {
   "display_name": "Python 3 (ipykernel)",
   "language": "python",
   "name": "python3"
  },
  "language_info": {
   "codemirror_mode": {
    "name": "ipython",
    "version": 3
   },
   "file_extension": ".py",
   "mimetype": "text/x-python",
   "name": "python",
   "nbconvert_exporter": "python",
   "pygments_lexer": "ipython3",
   "version": "3.8.13"
  }
 },
 "nbformat": 4,
 "nbformat_minor": 1
}
