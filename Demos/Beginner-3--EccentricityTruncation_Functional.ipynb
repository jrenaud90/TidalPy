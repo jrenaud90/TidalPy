{
 "cells": [
  {
   "cell_type": "markdown",
   "metadata": {
    "collapsed": true
   },
   "source": [
    "# Eccentricity Truncation Level Exploration\n",
    "Using TidalPy's high-level functional programming, we will see how different eccentricity truncation levels affect tidal dissipation.\n",
    "\n",
    "Also see the TidalPy/Papers/Renaud+2020 Notebook"
   ]
  },
  {
   "cell_type": "code",
   "execution_count": 1,
   "metadata": {},
   "outputs": [],
   "source": [
    "import math\n",
    "from typing import Tuple\n",
    "\n",
    "import numpy as np\n",
    "import matplotlib.pyplot as plt\n",
    "%matplotlib ipympl\n",
    "from matplotlib.gridspec import GridSpec\n",
    "from matplotlib.lines import Line2D\n",
    "import matplotlib.colors as mcolors\n",
    "\n",
    "from TidalPy import build_world\n",
    "from TidalPy.toolbox.quick_tides import dual_dissipation_from_dict_or_world_instance as calculate_dissipation\n",
    "from TidalPy.toolbox.conversions import orbital_motion2semi_a\n",
    "from TidalPy.utilities.numpy_helper.array_other import neg_array_for_log_plot, find_nearest\n",
    "from TidalPy.utilities.graphics.cmaps import vik_map, tofino_map, lajolla_map, lajolla_map_r, cork_map\n",
    "from TidalPy.constants import radius_earth, mass_earth, mass_solar, radius_solar, au \n",
    "\n",
    "# Setup plot style\n",
    "overall_scale = 0.79\n",
    "_colors = np.vstack((lajolla_map_r(np.linspace(0., 1, 128)), lajolla_map(np.linspace(0., 1, 128))))\n",
    "divergence_lajolla = mcolors.LinearSegmentedColormap.from_list('divergence_lajolla', _colors)\n",
    "if overall_scale == 1:\n",
    "    plt.rcParams.update({'font.size': 14})\n",
    "elif overall_scale < 1:\n",
    "    plt.rcParams.update({'font.size': 12})\n",
    "elif overall_scale > 1:\n",
    "    plt.rcParams.update({'font.size': 16})\n",
    "saturation_percent = .8\n",
    "vik_N = vik_map.N\n",
    "# Colorblind safe reds and blues\n",
    "red = vik_map(math.floor(vik_N * saturation_percent))\n",
    "blue = vik_map(math.floor(vik_N * (1 - saturation_percent)))\n",
    "\n",
    "# Build a simple homogenious planet around a star\n",
    "host = build_world('sol')\n",
    "planet = build_world('earth_simple')"
   ]
  },
  {
   "cell_type": "code",
   "execution_count": 2,
   "metadata": {},
   "outputs": [],
   "source": [
    "# Rheological Parameters\n",
    "rheologies = {\n",
    "    'Andrade': ('b', 'andrade', (0.3, 1.0)),\n",
    "    'Maxwell': ('k', 'maxwell', tuple()),\n",
    "    'Sundberg': ('m', 'sundberg', (0.2, 0.02, 0.3, 1.0)),\n",
    "    'Sundberg-Cooper': ('m', 'sundberg', (0.2, 0.02, 0.3, 1.0)),\n",
    "    'CPL': ('g', 'cpl', tuple()),\n",
    "    'CTL': ('c', 'ctl', tuple()),\n",
    "    'Off': ('gray', 'Off', tuple())\n",
    "}"
   ]
  },
  {
   "cell_type": "markdown",
   "metadata": {},
   "source": [
    "## Setup calculation and plotting function"
   ]
  },
  {
   "cell_type": "code",
   "execution_count": 3,
   "metadata": {},
   "outputs": [],
   "source": [
    "def truncation_level_plots(target_obliquity=0., target_viscosity=1.e22, target_shear=50.e9, target_rheo='Sundberg-Cooper',\n",
    "                           target_k2=0.33, target_q=100.,\n",
    "                           orbital_period: float = 10.,\n",
    "                           host_spin_period: float = None, host_k2=0.33, host_q=6000., host_obliquity = 0.,\n",
    "                           order_l_cases: Tuple[int, int, int, int] = (2, 2, 2, 2),\n",
    "                           eccentricity_trunc_cases: Tuple[int, int, int, int] = (2, 6, 10, 20), \n",
    "                           zpoints=np.linspace(-4, 4, 60), zticks=(-4, -2, 0, 2, 4), year_scale=1,\n",
    "                           ztick_names = ('$-10^{4}$', '$-10^{2}$', '$0$', '$10^{2}$', '$10^{4}$'),\n",
    "                           resolution: int = 350):\n",
    "    \n",
    "    # Pull out data\n",
    "    constant_orbital_freq = 2. * np.pi / (orbital_period * 86400.)\n",
    "    if host_spin_period is None:\n",
    "        constant_host_spin_rate = constant_orbital_freq\n",
    "    else:\n",
    "        constant_host_spin_rate = 2. * np.pi / (host_spin_period * 86400.)\n",
    "    constant_semi_major_axis = orbital_motion2semi_a(constant_orbital_freq, host.mass, planet.mass)\n",
    "    rheo_color, rheo_name, rheo_input = rheologies[target_rheo]\n",
    "    use_obliquity = (target_obliquity != 0.) or (host_obliquity != 0.)\n",
    "    \n",
    "    # Figure out year scale\n",
    "    known_scales = {1: 'yr', 1e1: 'dayr', 1e2: 'hyr', 1e3: 'kyr', 1e6: 'Myr', 1e9: 'Gyr'}\n",
    "    if year_scale not in known_scales:\n",
    "        raise ValueError('Unknown Year Scale')\n",
    "    year_name = known_scales[year_scale]        \n",
    "\n",
    "    # Domains\n",
    "    eccentricity_domain = np.logspace(-2, 0., int(resolution/2))\n",
    "    spin_scale_domain = np.linspace(0., 3., int(resolution/2))\n",
    "    #    Make sure to hit resonances\n",
    "    spin_scale_domain_res = np.asarray([0.5, 1., 1.5, 2., 2.5, 3.])\n",
    "    spin_scale_domain = \\\n",
    "        np.sort(np.concatenate((spin_scale_domain, spin_scale_domain_res)))\n",
    "    spin_domain = spin_scale_domain * constant_orbital_freq\n",
    "    eccentricity, spin_rate = np.meshgrid(eccentricity_domain, spin_domain)\n",
    "    shape = eccentricity.shape\n",
    "    eccentricity = eccentricity.flatten()\n",
    "    spin_rate = spin_rate.flatten()\n",
    "\n",
    "    # Make sure that all input arrays have the correct shape\n",
    "    x = eccentricity_domain\n",
    "    y = spin_scale_domain\n",
    "    target_obliquity *= np.ones_like(eccentricity)\n",
    "    host_obliquity *= np.ones_like(eccentricity)\n",
    "    constant_orbital_freq *= np.ones_like(spin_rate)\n",
    "    constant_semi_major_axis *= np.ones_like(spin_rate)\n",
    "    constant_host_spin_rate *= np.ones_like(constant_orbital_freq)\n",
    "    #   Find spin_sync index\n",
    "    sync_index = find_nearest(spin_scale_domain, 1.)\n",
    "\n",
    "    # Cases that are plotted (must be equal to 4, must have the format (order-l, eccentricity_trunc)\n",
    "    if len(order_l_cases) != 4 or len(eccentricity_trunc_cases) != 4:\n",
    "        raise ValueError('Both order_l_cases and eccentricity_trunc_cases must each have 4 cases.')\n",
    "        \n",
    "    case_line_styles = ['-', '--', '-.', ':']\n",
    "    case_names = ['$\\\\mathcal{O}(e^{' + f'{trunc_level}' + '}$)' if order_l == 2 \n",
    "                  else '$l = ' + f'{order_l}' + ', \\\\mathcal{O}(e^{' + f'{trunc_level}' + '}$)'\n",
    "                  for order_l, trunc_level in zip(order_l_cases, eccentricity_trunc_cases)]\n",
    "\n",
    "    # Setup plots\n",
    "    #    Contour Figure\n",
    "    fig_contours = plt.figure(figsize=(6.75*1.75*overall_scale, 4.8*overall_scale), constrained_layout=True)\n",
    "    ratios = (.249, .249, .249, .249, .02)\n",
    "    gs_contours = GridSpec(1, 5, figure=fig_contours, width_ratios=ratios)\n",
    "    case_contour_axes = [fig_contours.add_subplot(gs_contours[0, i]) for i in range(4)]\n",
    "    colorbar_ax = fig_contours.add_subplot(gs_contours[0, 4])\n",
    "\n",
    "    #    Spin-sync Figure\n",
    "    fig_sync, sync_axes = plt.subplots(ncols=2, figsize=(1.5 * 6.4*overall_scale, 4.8*overall_scale))\n",
    "    fig_sync.subplots_adjust(wspace=0.4)\n",
    "    fig_sync.suptitle('Spin Synchronous', fontsize=16)\n",
    "    sync_heating_ax = sync_axes[0]\n",
    "    sync_eccen_ax = sync_axes[1]\n",
    "\n",
    "    # Labels\n",
    "    for ax in [sync_heating_ax, sync_eccen_ax] + case_contour_axes:\n",
    "        if ax in [sync_heating_ax, sync_eccen_ax]:\n",
    "            ax.set(xlabel='Eccentricity', xscale='linear')\n",
    "        else:\n",
    "            ax.set(xlabel='Eccentricity', xscale='log')\n",
    "        \n",
    "    for ax in fig_contours.get_axes():\n",
    "        ax.label_outer()\n",
    "\n",
    "    case_contour_axes[0].set(ylabel='$\\\\dot{\\\\theta} \\\\; / \\\\; n$')\n",
    "    sync_heating_ax.set(ylabel='Tidal Heating [W]', yscale='log')\n",
    "    sync_eccen_ax.set(ylabel='$\\\\dot{e}$ [' + year_name + '$^{-1}$]', yscale='log')\n",
    "\n",
    "    for case_i, (order_l, eccentricity_trunc) in enumerate(zip(order_l_cases, eccentricity_trunc_cases)):\n",
    "        \n",
    "        # Calculate Derivatives\n",
    "        dissipation_results = \\\n",
    "            calculate_dissipation(\n",
    "                host, planet,\n",
    "                viscosities=(None, target_viscosity), shear_moduli=(None, target_shear),\n",
    "                rheologies=('fixed_q', rheo_name), complex_compliance_inputs=(None, rheo_input),\n",
    "                obliquities=(host_obliquity, target_obliquity),\n",
    "                spin_frequencies=(constant_host_spin_rate, spin_rate),\n",
    "                tidal_scales=(1., 1.),\n",
    "                fixed_k2s=(host_k2, target_k2), fixed_qs=(host_q, target_q),\n",
    "                eccentricity=eccentricity, orbital_frequency=constant_orbital_freq,\n",
    "                max_tidal_order_l=order_l, eccentricity_truncation_lvl=eccentricity_trunc,\n",
    "                use_obliquity=use_obliquity,\n",
    "        # The following scales convert da/dt & de/dt to yr-1; d^2theta/dt^2 to yr^-2\n",
    "                da_dt_scale=(3.154e7 / 1000.), de_dt_scale=3.154e7,\n",
    "                dspin_dt_scale=((360. / (2. * np.pi)) * 3.154e7**2))\n",
    "        \n",
    "        tidal_heating_targ = dissipation_results['secondary']['tidal_heating']\n",
    "        dspin_dt_targ = dissipation_results['secondary']['spin_rate_derivative']\n",
    "        de_dt = dissipation_results['eccentricity_derivative']\n",
    "        da_dt = dissipation_results['semi_major_axis_derivative']\n",
    "        \n",
    "        # Reshape\n",
    "        tidal_heating_targ = tidal_heating_targ.reshape(shape)\n",
    "        dspin_dt_targ = dspin_dt_targ.reshape(shape)\n",
    "        de_dt = de_dt.reshape(shape)\n",
    "        \n",
    "        # Prep for log plotting\n",
    "        dspin_dt_targ *= year_scale**2\n",
    "        de_dt *= year_scale\n",
    "        dspin_dt_targ_pos, dspin_dt_targ_neg = neg_array_for_log_plot(dspin_dt_targ)\n",
    "        de_dt_pos, de_dt_neg = neg_array_for_log_plot(de_dt)\n",
    "\n",
    "        # Make data Symmetric Log (for negative logscale plotting)\n",
    "        logpos = np.log10(np.copy(dspin_dt_targ_pos))\n",
    "        logpos[logpos < 0.] = 0.\n",
    "        negative_index = ~np.isnan(dspin_dt_targ_neg)\n",
    "        logneg = np.log10(dspin_dt_targ_neg[negative_index])\n",
    "        logneg[logneg < 0.] = 0.\n",
    "        dspin_dt_targ_combo = logpos\n",
    "        dspin_dt_targ_combo[negative_index] = -logneg\n",
    "\n",
    "        # Plot Contours\n",
    "        case_name = case_names[case_i]\n",
    "        contour_ax = case_contour_axes[case_i]\n",
    "        contour_ax.set(title=case_name)\n",
    "        cb_data = contour_ax.contourf(x, y, dspin_dt_targ_combo, zpoints, cmap=vik_map)\n",
    "    \n",
    "        for c in cb_data.collections:\n",
    "            c.set_edgecolor(\"face\")\n",
    "        \n",
    "        # Plot Spin Sync\n",
    "        case_style = case_line_styles[case_i]\n",
    "        #    Find sync data\n",
    "        tidal_heating_sync = tidal_heating_targ[sync_index, :]\n",
    "        de_dt_neg_sync = de_dt_neg[sync_index, :]\n",
    "        de_dt_pos_sync = de_dt_pos[sync_index, :]\n",
    "        #    Plot\n",
    "        sync_heating_ax.plot(x, tidal_heating_sync, c=red, ls=case_style, label=case_name)\n",
    "        sync_eccen_ax.plot(x, de_dt_neg_sync, c=blue, ls=case_style, label=case_name)\n",
    "        sync_eccen_ax.plot(x, de_dt_pos_sync, c=red, ls=case_style)\n",
    "        \n",
    "        print(f'Case {case_i+1} completed.', end='\\r')\n",
    "\n",
    "    # Add color bar\n",
    "    cb = plt.colorbar(cb_data, pad=0.03, cax=colorbar_ax, ticks=zticks)\n",
    "    spaces = '$' + '\\\\; '*14 + '$'\n",
    "    cb.set_label('Decelerating ' + spaces + 'Accelerating\\n$\\\\ddot{\\\\theta}$ [deg ' + year_name + '$^{-2}$]')\n",
    "    cb.ax.set_yticklabels(ztick_names)\n",
    "    \n",
    "    # Add Spin-Sync Legend\n",
    "    custom_lines = [Line2D([0], [0], color='k', lw=2, ls=style) for style in case_line_styles]\n",
    "    sync_heating_ax.legend(custom_lines, case_names, loc='upper left')\n",
    "    \n",
    "    # Add Grid lines\n",
    "    sync_heating_ax.grid(axis='x', which='major', alpha=0.5, ls='--')\n",
    "    sync_heating_ax.grid(axis='x', which='minor', alpha=0.45, ls='-.')\n",
    "    sync_eccen_ax.grid(axis='x', which='major', alpha=0.5, ls='--')\n",
    "    sync_eccen_ax.grid(axis='x', which='minor', alpha=0.45, ls='-.')\n",
    "\n",
    "    plt.show()"
   ]
  },
  {
   "cell_type": "markdown",
   "metadata": {},
   "source": [
    "## Plot some results\n",
    "Change around the various inputs and see what happens!\n",
    "\n",
    "Function time will be slow the first time you make a call to a new combination of `order_l` and `eccentricity_trunc` as background functions compile."
   ]
  },
  {
   "cell_type": "markdown",
   "metadata": {},
   "source": [
    "### No Obliquity - Maxwell"
   ]
  },
  {
   "cell_type": "code",
   "execution_count": 4,
   "metadata": {},
   "outputs": [
    {
     "data": {
      "application/vnd.jupyter.widget-view+json": {
       "model_id": "98195aa31dbf450fb612df9fa8cba242",
       "version_major": 2,
       "version_minor": 0
      },
      "text/plain": [
       "Canvas(toolbar=Toolbar(toolitems=[('Home', 'Reset original view', 'home', 'home'), ('Back', 'Back to previous …"
      ]
     },
     "metadata": {},
     "output_type": "display_data"
    },
    {
     "data": {
      "application/vnd.jupyter.widget-view+json": {
       "model_id": "a9b6c11d13614aec890146a40ca60b53",
       "version_major": 2,
       "version_minor": 0
      },
      "text/plain": [
       "Canvas(toolbar=Toolbar(toolitems=[('Home', 'Reset original view', 'home', 'home'), ('Back', 'Back to previous …"
      ]
     },
     "metadata": {},
     "output_type": "display_data"
    },
    {
     "name": "stdout",
     "output_type": "stream",
     "text": [
      "Case 4 completed.\r"
     ]
    }
   ],
   "source": [
    "truncation_level_plots(target_obliquity=0., target_viscosity=1.e22, target_shear=50.e9, target_rheo='Maxwell',\n",
    "                       target_k2=0.33, target_q=100., \n",
    "                       orbital_period=6.,\n",
    "                       host_spin_period=None, host_k2=0.33, host_q=6000., host_obliquity=0.,\n",
    "                       order_l_cases=(2, 2, 2, 2),\n",
    "                       eccentricity_trunc_cases=(2, 6, 10, 20), \n",
    "                       zpoints=np.linspace(-4, 4, 60), zticks=(-4, -2, 0, 2, 4), year_scale=1e2,\n",
    "                       ztick_names=('$-10^{4}$', '$-10^{2}$', '$0$', '$10^{2}$', '$10^{4}$'))"
   ]
  },
  {
   "cell_type": "markdown",
   "metadata": {},
   "source": [
    "### No Obliquity - Sundberg-Cooper\n",
    "Note the different units of time from the previous plot!"
   ]
  },
  {
   "cell_type": "code",
   "execution_count": 5,
   "metadata": {
    "scrolled": false
   },
   "outputs": [
    {
     "data": {
      "application/vnd.jupyter.widget-view+json": {
       "model_id": "01fd0dfc334b40d9900931ec6316b963",
       "version_major": 2,
       "version_minor": 0
      },
      "text/plain": [
       "Canvas(toolbar=Toolbar(toolitems=[('Home', 'Reset original view', 'home', 'home'), ('Back', 'Back to previous …"
      ]
     },
     "metadata": {},
     "output_type": "display_data"
    },
    {
     "data": {
      "application/vnd.jupyter.widget-view+json": {
       "model_id": "7cfae8c97e914119b4389900740f88d1",
       "version_major": 2,
       "version_minor": 0
      },
      "text/plain": [
       "Canvas(toolbar=Toolbar(toolitems=[('Home', 'Reset original view', 'home', 'home'), ('Back', 'Back to previous …"
      ]
     },
     "metadata": {},
     "output_type": "display_data"
    },
    {
     "name": "stdout",
     "output_type": "stream",
     "text": [
      "Case 4 completed.\r"
     ]
    }
   ],
   "source": [
    "truncation_level_plots(target_obliquity=0., target_viscosity=1.e22, target_shear=50.e9, target_rheo='Sundberg-Cooper',\n",
    "                       target_k2=0.33, target_q=100., \n",
    "                       orbital_period=6.,\n",
    "                       host_spin_period=None, host_k2=0.33, host_q=6000., host_obliquity=0.,\n",
    "                       order_l_cases=(2, 2, 2, 2),\n",
    "                       eccentricity_trunc_cases=(2, 6, 10, 20), \n",
    "                       zpoints=np.linspace(-4, 4, 60), zticks=(-4, -2, 0, 2, 4),\n",
    "                       ztick_names=('$-10^{4}$', '$-10^{2}$', '$0$', '$10^{2}$', '$10^{4}$'))"
   ]
  },
  {
   "cell_type": "markdown",
   "metadata": {},
   "source": [
    "### Non-Zero Obliquity"
   ]
  },
  {
   "cell_type": "code",
   "execution_count": 6,
   "metadata": {},
   "outputs": [
    {
     "data": {
      "application/vnd.jupyter.widget-view+json": {
       "model_id": "07c767d77afa480b9549e44ef650c8d3",
       "version_major": 2,
       "version_minor": 0
      },
      "text/plain": [
       "Canvas(toolbar=Toolbar(toolitems=[('Home', 'Reset original view', 'home', 'home'), ('Back', 'Back to previous …"
      ]
     },
     "metadata": {},
     "output_type": "display_data"
    },
    {
     "data": {
      "application/vnd.jupyter.widget-view+json": {
       "model_id": "0fdc3034266a4b8ab54ef2cf616c417b",
       "version_major": 2,
       "version_minor": 0
      },
      "text/plain": [
       "Canvas(toolbar=Toolbar(toolitems=[('Home', 'Reset original view', 'home', 'home'), ('Back', 'Back to previous …"
      ]
     },
     "metadata": {},
     "output_type": "display_data"
    },
    {
     "name": "stdout",
     "output_type": "stream",
     "text": [
      "Case 4 completed.\r"
     ]
    }
   ],
   "source": [
    "truncation_level_plots(target_obliquity=np.radians(35.), target_viscosity=1.e22, target_shear=50.e9,\n",
    "                       target_rheo='Sundberg-Cooper',\n",
    "                       target_k2=0.33, target_q=100., \n",
    "                       orbital_period=6.,\n",
    "                       host_spin_period=None, host_k2=0.33, host_q=6000., host_obliquity=0.,\n",
    "                       order_l_cases=(2, 2, 2, 2),\n",
    "                       eccentricity_trunc_cases=(2, 6, 10, 20), \n",
    "                       zpoints=np.linspace(-4, 4, 60), zticks=(-4, -2, 0, 2, 4),\n",
    "                       ztick_names=('$-10^{4}$', '$-10^{2}$', '$0$', '$10^{2}$', '$10^{4}$'))"
   ]
  },
  {
   "cell_type": "markdown",
   "metadata": {},
   "source": [
    "### Highly Dissipative, NSR Host"
   ]
  },
  {
   "cell_type": "code",
   "execution_count": 7,
   "metadata": {},
   "outputs": [
    {
     "data": {
      "application/vnd.jupyter.widget-view+json": {
       "model_id": "90fbf566a2b946e28140c0fd914b88e8",
       "version_major": 2,
       "version_minor": 0
      },
      "text/plain": [
       "Canvas(toolbar=Toolbar(toolitems=[('Home', 'Reset original view', 'home', 'home'), ('Back', 'Back to previous …"
      ]
     },
     "metadata": {},
     "output_type": "display_data"
    },
    {
     "data": {
      "application/vnd.jupyter.widget-view+json": {
       "model_id": "63c086c1318d4bbcb5f69efca58882e4",
       "version_major": 2,
       "version_minor": 0
      },
      "text/plain": [
       "Canvas(toolbar=Toolbar(toolitems=[('Home', 'Reset original view', 'home', 'home'), ('Back', 'Back to previous …"
      ]
     },
     "metadata": {},
     "output_type": "display_data"
    },
    {
     "name": "stdout",
     "output_type": "stream",
     "text": [
      "Case 4 completed.\r"
     ]
    }
   ],
   "source": [
    "truncation_level_plots(target_obliquity=0., target_viscosity=1.e22, target_shear=50.e9,\n",
    "                       target_rheo='Sundberg-Cooper',\n",
    "                       target_k2=0.33, target_q=100., \n",
    "                       orbital_period=6.,\n",
    "                       host_spin_period=3., host_k2=0.33, host_q=10., host_obliquity=0.,\n",
    "                       order_l_cases=(2, 2, 2, 2),\n",
    "                       eccentricity_trunc_cases=(2, 6, 10, 20), \n",
    "                       zpoints=np.linspace(-4, 4, 60), zticks=(-4, -2, 0, 2, 4),\n",
    "                       ztick_names=('$-10^{4}$', '$-10^{2}$', '$0$', '$10^{2}$', '$10^{4}$'))"
   ]
  },
  {
   "cell_type": "markdown",
   "metadata": {},
   "source": [
    "### Different Viscoelastic Properties"
   ]
  },
  {
   "cell_type": "code",
   "execution_count": 8,
   "metadata": {},
   "outputs": [
    {
     "data": {
      "application/vnd.jupyter.widget-view+json": {
       "model_id": "1c869004b842428ca83068e8b46539b6",
       "version_major": 2,
       "version_minor": 0
      },
      "text/plain": [
       "Canvas(toolbar=Toolbar(toolitems=[('Home', 'Reset original view', 'home', 'home'), ('Back', 'Back to previous …"
      ]
     },
     "metadata": {},
     "output_type": "display_data"
    },
    {
     "data": {
      "application/vnd.jupyter.widget-view+json": {
       "model_id": "fc46364163a84aba9af2b895819c6a77",
       "version_major": 2,
       "version_minor": 0
      },
      "text/plain": [
       "Canvas(toolbar=Toolbar(toolitems=[('Home', 'Reset original view', 'home', 'home'), ('Back', 'Back to previous …"
      ]
     },
     "metadata": {},
     "output_type": "display_data"
    },
    {
     "name": "stdout",
     "output_type": "stream",
     "text": [
      "Case 4 completed.\r"
     ]
    }
   ],
   "source": [
    "truncation_level_plots(target_obliquity=0., target_viscosity=1.e14, target_shear=3.e9, target_rheo='Sundberg-Cooper',\n",
    "                       target_k2=0.33, target_q=100., \n",
    "                       orbital_period=6.,\n",
    "                       host_spin_period=None, host_k2=0.33, host_q=6000., host_obliquity=0.,\n",
    "                       order_l_cases=(2, 2, 2, 2),\n",
    "                       eccentricity_trunc_cases=(2, 6, 10, 20), \n",
    "                       zpoints=np.linspace(-4, 4, 60), zticks=(-4, -2, 0, 2, 4),\n",
    "                       ztick_names=('$-10^{4}$', '$-10^{2}$', '$0$', '$10^{2}$', '$10^{4}$'))"
   ]
  },
  {
   "cell_type": "markdown",
   "metadata": {},
   "source": [
    "### Higher Order-l\n",
    "These can take quite a while to run!\n",
    "\n",
    "We move the planet much closer to allow for more difference at the higher l's."
   ]
  },
  {
   "cell_type": "code",
   "execution_count": 9,
   "metadata": {},
   "outputs": [
    {
     "data": {
      "application/vnd.jupyter.widget-view+json": {
       "model_id": "d9bde1b439cd4195904215f48ac365f9",
       "version_major": 2,
       "version_minor": 0
      },
      "text/plain": [
       "Canvas(toolbar=Toolbar(toolitems=[('Home', 'Reset original view', 'home', 'home'), ('Back', 'Back to previous …"
      ]
     },
     "metadata": {},
     "output_type": "display_data"
    },
    {
     "data": {
      "application/vnd.jupyter.widget-view+json": {
       "model_id": "5db4b4d00b904f90a4b242ac90a05557",
       "version_major": 2,
       "version_minor": 0
      },
      "text/plain": [
       "Canvas(toolbar=Toolbar(toolitems=[('Home', 'Reset original view', 'home', 'home'), ('Back', 'Back to previous …"
      ]
     },
     "metadata": {},
     "output_type": "display_data"
    },
    {
     "name": "stdout",
     "output_type": "stream",
     "text": [
      "Case 4 completed.\r"
     ]
    }
   ],
   "source": [
    "truncation_level_plots(target_obliquity=0., target_viscosity=1.e22, target_shear=50.e9, target_rheo='Sundberg-Cooper',\n",
    "                       target_k2=0.33, target_q=100., \n",
    "                       orbital_period=0.05,\n",
    "                       host_spin_period=None, host_k2=0.33, host_q=6000., host_obliquity=0.,\n",
    "                       order_l_cases=(2, 3, 4, 5),\n",
    "                       eccentricity_trunc_cases=(14, 14, 14, 14), \n",
    "                       zpoints=np.linspace(-16, 16, 60), zticks=(-16, -8, 0, 8, 16),\n",
    "                       ztick_names=('$-10^{16}$', '$-10^{8}$', '$0$', '$10^{8}$', '$10^{16}$'))"
   ]
  }
 ],
 "metadata": {
  "kernelspec": {
   "display_name": "Python 3",
   "language": "python",
   "name": "python3"
  },
  "language_info": {
   "codemirror_mode": {
    "name": "ipython",
    "version": 3
   },
   "file_extension": ".py",
   "mimetype": "text/x-python",
   "name": "python",
   "nbconvert_exporter": "python",
   "pygments_lexer": "ipython3",
   "version": "3.9.4"
  }
 },
 "nbformat": 4,
 "nbformat_minor": 1
}
