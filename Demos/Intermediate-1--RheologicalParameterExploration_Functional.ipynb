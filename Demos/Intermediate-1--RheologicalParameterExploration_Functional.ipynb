{
 "cells": [
  {
   "cell_type": "markdown",
   "metadata": {
    "pycharm": {
     "name": "#%% md\n"
    }
   },
   "source": [
    "# Rheological Parameter Exploration\n",
    "Using TidalPy's high-level functional programming, we will see how different rheological parameters affect tidal dissipation"
   ]
  },
  {
   "cell_type": "code",
   "execution_count": 1,
   "metadata": {
    "pycharm": {
     "name": "#%%\n"
    }
   },
   "outputs": [
    {
     "name": "stderr",
     "output_type": "stream",
     "text": [
      "C:\\Users\\joepr\\AppData\\Local\\Temp/ipykernel_35628/2635802078.py:8: DeprecationWarning: `set_matplotlib_formats` is deprecated since IPython 7.23, directly use `matplotlib_inline.backend_inline.set_matplotlib_formats()`\n",
      "  set_matplotlib_formats('pdf')\n"
     ]
    }
   ],
   "source": [
    "import numpy as np\n",
    "import matplotlib.pyplot as plt\n",
    "# plt.style.use('dark_background')\n",
    "from matplotlib.gridspec import GridSpec\n",
    "from cmcrameri import cm as cmc\n",
    "import ipywidgets as widgets\n",
    "from ipywidgets import interact, IntSlider, FloatSlider\n",
    "from IPython.display import set_matplotlib_formats\n",
    "set_matplotlib_formats('pdf')\n",
    "\n",
    "from TidalPy.constants import mass_solar, radius_solar, luminosity_solar, mass_earth, radius_earth, au, G\n",
    "from TidalPy.toolbox import quick_tidal_dissipation\n",
    "from TidalPy.toolbox.conversions import days2rads\n",
    "from TidalPy.utilities.numpy_helper.array_other import neg_array_for_log_plot\n",
    "from TidalPy.stellar import equilibrium_insolation_williams\n",
    "\n",
    "plt.rcParams['figure.figsize'] = [9.5 * .75, 6 * .75]\n",
    "plt.rcParams.update({'font.size': 14})\n",
    "%matplotlib ipympl"
   ]
  },
  {
   "cell_type": "markdown",
   "metadata": {
    "pycharm": {
     "name": "#%% md\n"
    }
   },
   "source": [
    "### Planetary Properties\n",
    "We will use planetary properties approximately based on the exoplanet: TRAPPIST 1e"
   ]
  },
  {
   "cell_type": "code",
   "execution_count": 18,
   "metadata": {
    "pycharm": {
     "name": "#%%\n"
    }
   },
   "outputs": [],
   "source": [
    "# TRAPPIST-1 (the star) Parameters [Stassun+2019, Gillon+2017]\n",
    "star_lumonsity = 10**(-3.28) * luminosity_solar\n",
    "star_radius = 0.1148270 * radius_solar\n",
    "star_mass = 0.09077820 * mass_solar\n",
    "\n",
    "# TRAPPIST-1e Parameters [Agol+2021, Grimm+2018]\n",
    "planet_radius = 0.920 * radius_earth\n",
    "planet_mass = 0.692 * mass_earth\n",
    "planet_semi_major_axis = 0.02925 * au\n",
    "planet_orbital_period = 6.101013\n",
    "planet_orbital_frequency = days2rads(planet_orbital_period)\n",
    "planet_eccentricity = 0.00510\n",
    "planet_obliquity = np.radians(90. - 89.793)\n",
    "\n",
    "# # Sun\n",
    "# star_lumonsity = luminosity_solar\n",
    "# star_radius = radius_solar\n",
    "# star_mass = mass_solar\n",
    "\n",
    "# # Mercury Parameters\n",
    "# planet_radius = 0.3829 * radius_earth\n",
    "# planet_mass = 0.0553 * mass_earth\n",
    "# planet_semi_major_axis = 0.38709893 * au\n",
    "# planet_orbital_period = 87.96926\n",
    "# planet_orbital_frequency = days2rads(planet_orbital_period)\n",
    "# planet_eccentricity = 0.20563069\n",
    "# planet_obliquity = np.radians(0.0329)  # [Genova+2019]\n",
    "\n",
    "\n",
    "planet_moi = (2. / 5.) * planet_mass * planet_radius**2\n",
    "# We will assume that only 50% of the world's volume is participating in tidal dissipation\n",
    "tidal_scale = 0.5\n",
    "# Calculate other properties\n",
    "planet_density = planet_mass / ((4. / 3.) * np.pi * planet_radius**3)\n",
    "planet_gravity = G * planet_mass / (planet_radius**2)\n",
    "\n",
    "# Conversions\n",
    "sec2_2_yr2 = (3.154e7)**2"
   ]
  },
  {
   "cell_type": "markdown",
   "metadata": {
    "pycharm": {
     "name": "#%% md\n"
    }
   },
   "source": [
    "## Viscosity Domain\n",
    "Here we calculate tidal heating versus insolation temperature in over a domain of mantle viscosity"
   ]
  },
  {
   "cell_type": "code",
   "execution_count": 20,
   "metadata": {
    "scrolled": false,
    "pycharm": {
     "name": "#%%\n"
    }
   },
   "outputs": [
    {
     "data": {
      "application/vnd.jupyter.widget-view+json": {
       "model_id": "45d6ff1be31448feb9eaccd5de318edf",
       "version_major": 2,
       "version_minor": 0
      },
      "text/plain": [
       "Canvas(toolbar=Toolbar(toolitems=[('Home', 'Reset original view', 'home', 'home'), ('Back', 'Back to previous …"
      ]
     },
     "metadata": {},
     "output_type": "display_data"
    },
    {
     "data": {
      "application/vnd.jupyter.widget-view+json": {
       "model_id": "4674f68679104f52a7c236cc6da4c26c",
       "version_major": 2,
       "version_minor": 0
      },
      "text/plain": [
       "interactive(children=(FloatSlider(value=0.2, description='$\\\\delta{}J$', max=1.0, min=0.01, step=0.05), FloatS…"
      ]
     },
     "metadata": {},
     "output_type": "display_data"
    }
   ],
   "source": [
    "# Setup domain\n",
    "viscosity_domain = np.logspace(14., 24., 100)\n",
    "shear_domain = 50.e9 * np.ones_like(viscosity_domain)\n",
    "\n",
    "# Setup figure\n",
    "fig_sync, axes_sync = plt.subplots(ncols=2, nrows=1, figsize=(9, 5))\n",
    "fig_sync.tight_layout(pad=4.0)\n",
    "ax_sync_heating = axes_sync[0]\n",
    "ax_sync_torque = axes_sync[1]\n",
    "ax_sync_heating.set(xlabel='Mantle Viscosity [Pa s]', ylabel='Tidal Heating / Insolation', yscale='log',\n",
    "                    xscale='log', ylim=(1e-3, 1e3))\n",
    "ax_sync_torque.set(xlabel='Mantle Viscosity [Pa s]', ylabel='Spin Rate Derivative [rad yr$^{-2}$]\\nDashed = Negative',\n",
    "                   yscale='log', xscale='log')\n",
    "\n",
    "# Plot lines\n",
    "ax_sync_heating.axhline(y=1e0, color='k', ls=':')\n",
    "rheo_lines_heating = [ax_sync_heating.plot(viscosity_domain, viscosity_domain, 'k', label='Maxwell')[0],\n",
    "                      ax_sync_heating.plot(viscosity_domain, viscosity_domain, 'b', label='Andrade')[0],\n",
    "                      ax_sync_heating.plot(viscosity_domain, viscosity_domain, 'm', label='Sundberg')[0]]\n",
    "rheo_lines_torque = [ax_sync_torque.plot(viscosity_domain, viscosity_domain, 'k', label='Maxwell')[0],\n",
    "                     ax_sync_torque.plot(viscosity_domain, viscosity_domain, 'b', label='Andrade')[0],\n",
    "                     ax_sync_torque.plot(viscosity_domain, viscosity_domain, 'm', label='Sundberg-Cooper')[0]]\n",
    "rheo_lines_torque_neg = [ax_sync_torque.plot(viscosity_domain, viscosity_domain, '--k', label='Maxwell')[0],\n",
    "                         ax_sync_torque.plot(viscosity_domain, viscosity_domain, '--b', label='Andrade')[0],\n",
    "                         ax_sync_torque.plot(viscosity_domain, viscosity_domain, '--m', label='Sundberg')[0]]\n",
    "plt.show()\n",
    "\n",
    "def sync_rotation(voigt_compliance_offset=.2,\n",
    "                  voigt_viscosity_offset=.02,\n",
    "                  alpha=.333,\n",
    "                  zeta_power=0.,\n",
    "                  critical_period=100.,\n",
    "                  albedo=0.3,\n",
    "                  eccentricity_pow=np.log10(planet_eccentricity),\n",
    "                  obliquity_deg=0.,\n",
    "                  force_spin_sync=True,\n",
    "                  spin_orbit_ratio=1.,\n",
    "                  eccentricity_truncation_lvl=2,\n",
    "                  max_tidal_order_l=2):\n",
    "    \n",
    "    eccentricity = 10.**eccentricity_pow\n",
    "    zeta = 10.**(zeta_power)\n",
    "    obliquity = np.radians(obliquity_deg)\n",
    "    critical_freq = 2. * np.pi / (86400. * critical_period)\n",
    "    dissipation_data = dict()\n",
    "    rheology_data = {\n",
    "        'maxwell': (rheo_lines_heating[0], rheo_lines_torque[0], rheo_lines_torque_neg[0],\n",
    "                    tuple()),\n",
    "        'andrade': (rheo_lines_heating[1], rheo_lines_torque[1], rheo_lines_torque_neg[1],\n",
    "                    (alpha, zeta, critical_freq)),\n",
    "        'sundberg': (rheo_lines_heating[2], rheo_lines_torque[2], rheo_lines_torque_neg[2],\n",
    "                     (voigt_compliance_offset, voigt_viscosity_offset, alpha, zeta, critical_freq)),\n",
    "    }\n",
    "    \n",
    "    if force_spin_sync:\n",
    "        spin_period = None\n",
    "    else:\n",
    "        # The ratio is in the denominator since it is a frequency ratio.\n",
    "        spin_period = planet_orbital_period / spin_orbit_ratio\n",
    "        \n",
    "    # Calculate insolation based on distance and eccentricity\n",
    "    insolation = \\\n",
    "        equilibrium_insolation_williams(star_lumonsity, planet_semi_major_axis, albedo, planet_radius, eccentricity)\n",
    "    \n",
    "    for rheo_name, (heating_line, torque_line, torque_neg_line, rheo_input) in rheology_data.items():\n",
    "        # Perform main tidal calculation\n",
    "        dissipation_data[rheo_name] = \\\n",
    "            quick_tidal_dissipation(star_mass, planet_radius, planet_mass, planet_gravity, planet_density, planet_moi,\n",
    "                                    viscosity=viscosity_domain, shear_modulus=shear_domain, rheology=rheo_name,\n",
    "                                    complex_compliance_inputs=rheo_input, eccentricity=eccentricity, obliquity=obliquity,\n",
    "                                    orbital_period=planet_orbital_period, spin_period=spin_period,\n",
    "                                    max_tidal_order_l=max_tidal_order_l,\n",
    "                                    eccentricity_truncation_lvl=eccentricity_truncation_lvl)\n",
    "        \n",
    "        spin_derivative = dissipation_data[rheo_name]['dUdO'] * (star_mass / planet_moi)\n",
    "        heating_line.set_ydata(dissipation_data[rheo_name]['tidal_heating'] / insolation)\n",
    "        # Convert spin_derivative from rad s-2 to hour per year\n",
    "        spin_derivative = sec2_2_yr2 * spin_derivative\n",
    "        spin_derivative_pos = np.copy(spin_derivative)\n",
    "        spin_derivative_pos[spin_derivative_pos<=0.] = np.nan\n",
    "        spin_derivative_neg = np.copy(spin_derivative)\n",
    "        spin_derivative_neg[spin_derivative_neg>0.] = np.nan\n",
    "    \n",
    "        torque_line.set_ydata(np.abs(spin_derivative_pos))\n",
    "        torque_neg_line.set_ydata(np.abs(spin_derivative_neg))\n",
    "        \n",
    "    \n",
    "    ax_sync_heating.legend(loc='lower left', fontsize=12)\n",
    "    ax_sync_heating.relim()\n",
    "    ax_sync_heating.autoscale_view()\n",
    "    ax_sync_heating.set_title('$e = ' + f'{eccentricity:0.3f}' +'$')\n",
    "    ax_sync_torque.relim()\n",
    "    ax_sync_torque.autoscale_view()\n",
    "    ax_sync_torque.set_title('Spin / n = ' + f'${spin_orbit_ratio:0.1f}$')\n",
    "    fig_sync.canvas.draw_idle()\n",
    "\n",
    "run_interactive_sync = interact(\n",
    "    sync_rotation,\n",
    "    voigt_compliance_offset=FloatSlider(value=0.2, min=0.01, max=1., step=0.05, description='$\\\\delta{}J$'),\n",
    "    voigt_viscosity_offset=FloatSlider(value=0.02, min=0.01, max=0.1, step=0.01, description='$\\\\delta{}\\\\eta$'),\n",
    "    alpha=FloatSlider(value=0.33, min=0.05, max=0.8, step=0.02, description='$\\\\alpha_{\\\\text{And}}$'),\n",
    "    zeta_power=FloatSlider(value=0., min=-5., max=5., step=0.5, description='$\\\\zeta_{\\\\text{And}}^{X}$'),\n",
    "    critical_period=FloatSlider(value=100., min=30., max=150., step=10, description='$P_{crit}$'),\n",
    "    albedo=FloatSlider(value=0.3, min=0.1, max=0.9, step=0.1, description='Albedo'),\n",
    "    eccentricity_pow=FloatSlider(value=-0.522879, min=-4, max=-0.09, step=0.05, description='$e^{X}$'),\n",
    "    obliquity_deg=FloatSlider(value=0, min=0., max=90., step=1., description='Obliquity'),\n",
    "    force_spin_sync=False,\n",
    "    spin_orbit_ratio=FloatSlider(value=1., min=0.5, max=9., step=.1, description='$\\\\dot{\\\\theta} / n$'),\n",
    "    eccentricity_truncation_lvl=IntSlider(value=8, min=2, max=20, step=2, description='$e$ Truncation'),\n",
    "    max_tidal_order_l=IntSlider(value=2, min=2, max=3, step=1, description='Max Order $l$')\n",
    ")"
   ]
  },
  {
   "cell_type": "markdown",
   "metadata": {
    "pycharm": {
     "name": "#%% md\n"
    }
   },
   "source": [
    "## Frequency Domain"
   ]
  },
  {
   "cell_type": "code",
   "execution_count": 27,
   "metadata": {
    "pycharm": {
     "name": "#%%\n"
    }
   },
   "outputs": [
    {
     "data": {
      "application/vnd.jupyter.widget-view+json": {
       "model_id": "1592b08cfde049f9b01bbdb6ce736e76",
       "version_major": 2,
       "version_minor": 0
      },
      "text/plain": [
       "Canvas(toolbar=Toolbar(toolitems=[('Home', 'Reset original view', 'home', 'home'), ('Back', 'Back to previous …"
      ]
     },
     "metadata": {},
     "output_type": "display_data"
    },
    {
     "data": {
      "application/vnd.jupyter.widget-view+json": {
       "model_id": "6921ec83e0654a6b864799a2b9d00730",
       "version_major": 2,
       "version_minor": 0
      },
      "text/plain": [
       "interactive(children=(FloatSlider(value=0.2, description='$\\\\delta{}J$', max=1.0, min=0.01, step=0.05), FloatS…"
      ]
     },
     "metadata": {},
     "output_type": "display_data"
    }
   ],
   "source": [
    "# Setup domain\n",
    "period_domain = np.linspace(0., 150., 100)\n",
    "freqeuncy_domain = days2rads(period_domain)\n",
    "\n",
    "# Setup figure\n",
    "fig_freq, axes_freq = plt.subplots(ncols=2, nrows=1, figsize=(9, 5))\n",
    "# fig_freq.tight_layout()\n",
    "plt.subplots_adjust(wspace=0.75)\n",
    "\n",
    "ax_freq_love_real = axes_freq[0]\n",
    "ax_freq_love_imag = ax_freq_love_real.twinx()\n",
    "ax_freq_torque = axes_freq[1]\n",
    "ax_freq_love_real.set(xlabel='Orbital Period [days]', ylabel='Re[$k_{2}$]', yscale='linear',\n",
    "                    xscale='linear', ylim=(0.5, 1.5))\n",
    "ax_freq_love_imag.set(xlabel='Orbital Period [days]', ylabel='-Im[$k_{2}$] (dotted)', yscale='log',\n",
    "                    xscale='linear', ylim=(1e-3, 0))\n",
    "ax_freq_torque.set(xlabel='Orbital Period [days]', ylabel='Spin Rate Derivative [rad yr$^{-2}$]\\nDashed = Negative',\n",
    "                   yscale='log', xscale='linear')\n",
    "\n",
    "# Plot lines\n",
    "rheo_lines_love_real = [ax_freq_love_real.plot(period_domain, freqeuncy_domain, 'k', label='Maxwell')[0],\n",
    "                        ax_freq_love_real.plot(period_domain, freqeuncy_domain, 'b', label='Andrade')[0],\n",
    "                        ax_freq_love_real.plot(period_domain, freqeuncy_domain, 'm', label='Sundberg')[0]]\n",
    "rheo_lines_love_imag = [ax_freq_love_imag.plot(period_domain, freqeuncy_domain, 'k', label='Maxwell', ls=':')[0],\n",
    "                        ax_freq_love_imag.plot(period_domain, freqeuncy_domain, 'b', label='Andrade', ls=':')[0],\n",
    "                        ax_freq_love_imag.plot(period_domain, freqeuncy_domain, 'm', label='Sundberg', ls=':')[0]]\n",
    "rheo_lines_torque = [ax_freq_torque.plot(period_domain, freqeuncy_domain, 'k', label='Maxwell')[0],\n",
    "                     ax_freq_torque.plot(period_domain, freqeuncy_domain, 'b', label='Andrade')[0],\n",
    "                     ax_freq_torque.plot(period_domain, freqeuncy_domain, 'm', label='Sundberg-Cooper')[0]]\n",
    "rheo_lines_torque_neg = [ax_freq_torque.plot(period_domain, freqeuncy_domain, '--k', label='Maxwell')[0],\n",
    "                         ax_freq_torque.plot(period_domain, freqeuncy_domain, '--b', label='Andrade')[0],\n",
    "                         ax_freq_torque.plot(period_domain, freqeuncy_domain, '--m', label='Sundberg')[0]]\n",
    "plt.show()\n",
    "\n",
    "def love_number_calc(voigt_compliance_offset=.2,\n",
    "                     voigt_viscosity_offset=.02,\n",
    "                     alpha=.333,\n",
    "                     zeta_power=0.,\n",
    "                     critical_period=100.,\n",
    "                     viscosity_power=18.,\n",
    "                     shear_power=10.,\n",
    "                     eccentricity_pow=np.log10(planet_eccentricity),\n",
    "                     obliquity_deg=0.,\n",
    "                     force_spin_sync=True,\n",
    "                     spin_period=20.,\n",
    "                     eccentricity_truncation_lvl=2,\n",
    "                     max_tidal_order_l=2):\n",
    "    \n",
    "    eccentricity = 10.**eccentricity_pow\n",
    "    zeta = 10.**(zeta_power)\n",
    "    obliquity = np.radians(obliquity_deg)\n",
    "    dissipation_data = dict()\n",
    "    critical_freq = 2. * np.pi / (86400. * critical_period)\n",
    "    rheology_data = {\n",
    "        'maxwell': (rheo_lines_love_real[0], rheo_lines_love_imag[0], rheo_lines_torque[0], rheo_lines_torque_neg[0],\n",
    "                    tuple()),\n",
    "        'andrade': (rheo_lines_love_real[1], rheo_lines_love_imag[1], rheo_lines_torque[1], rheo_lines_torque_neg[1],\n",
    "                    (alpha, zeta, critical_freq)),\n",
    "        'sundberg': (rheo_lines_love_real[2], rheo_lines_love_imag[2], rheo_lines_torque[2], rheo_lines_torque_neg[2],\n",
    "                     (voigt_compliance_offset, voigt_viscosity_offset, alpha, zeta, critical_freq)),\n",
    "    }\n",
    "    \n",
    "    if force_spin_sync:\n",
    "        spin_period = None\n",
    "    else:\n",
    "        # The ratio is in the denominator since it is a frequency ratio.\n",
    "        spin_period = spin_period\n",
    "    \n",
    "    for rheo_name, (love_real_line, love_imag_line, torque_line, torque_neg_line, rheo_input) in rheology_data.items():\n",
    "        # Perform main tidal calculation\n",
    "        dissipation_data[rheo_name] = \\\n",
    "            quick_tidal_dissipation(star_mass, planet_radius, planet_mass, planet_gravity, planet_density, planet_moi,\n",
    "                                    viscosity=10**viscosity_power, shear_modulus=10**shear_power, rheology=rheo_name,\n",
    "                                    complex_compliance_inputs=rheo_input, eccentricity=eccentricity, obliquity=obliquity,\n",
    "                                    orbital_period=period_domain, spin_period=spin_period,\n",
    "                                    max_tidal_order_l=max_tidal_order_l,\n",
    "                                    eccentricity_truncation_lvl=eccentricity_truncation_lvl)\n",
    "        \n",
    "        love_real_line.set_ydata(np.real(dissipation_data[rheo_name]['love_number_by_orderl'][2]))\n",
    "        love_imag_line.set_ydata(-np.imag(dissipation_data[rheo_name]['love_number_by_orderl'][2]))\n",
    "        \n",
    "        spin_derivative = dissipation_data[rheo_name]['dUdO'] * (star_mass / planet_moi)\n",
    "        # Convert spin_derivative from rad s-2 to hour per year\n",
    "        spin_derivative = sec2_2_yr2 * spin_derivative\n",
    "        spin_derivative_pos = np.copy(spin_derivative)\n",
    "        spin_derivative_pos[spin_derivative_pos<=0.] = np.nan\n",
    "        spin_derivative_neg = np.copy(spin_derivative)\n",
    "        spin_derivative_neg[spin_derivative_neg>0.] = np.nan\n",
    "    \n",
    "        torque_line.set_ydata(np.abs(spin_derivative_pos))\n",
    "        torque_neg_line.set_ydata(np.abs(spin_derivative_neg))\n",
    "        \n",
    "    if spin_period is not None:\n",
    "        ax_freq_love_real.axvline(x=spin_period, ls=':', c='green')\n",
    "        ax_freq_love_real.axvline(x=89., ls=':', c='k')\n",
    "    ax_freq_love_real.legend(loc='lower right', fontsize=12)\n",
    "    ax_freq_love_real.relim()\n",
    "    ax_freq_love_real.autoscale_view()\n",
    "    ax_freq_love_real.set_title('$e = ' + f'{eccentricity:0.3f}' +'$')\n",
    "    ax_freq_love_imag.relim()\n",
    "    ax_freq_love_imag.autoscale_view()\n",
    "    ax_freq_love_imag.set_title('$e = ' + f'{eccentricity:0.3f}' +'$')\n",
    "    ax_freq_torque.relim()\n",
    "    ax_freq_torque.autoscale_view()\n",
    "    fig_freq.canvas.draw_idle()\n",
    "\n",
    "run_interactive_love = interact(\n",
    "    love_number_calc,\n",
    "    voigt_compliance_offset=FloatSlider(value=0.2, min=0.01, max=1., step=0.05, description='$\\\\delta{}J$'),\n",
    "    voigt_viscosity_offset=FloatSlider(value=0.02, min=0.01, max=0.1, step=0.01, description='$\\\\delta{}\\\\eta$'),\n",
    "    alpha=FloatSlider(value=0.33, min=0.05, max=0.8, step=0.02, description='$\\\\alpha_{\\\\text{And}}$'),\n",
    "    zeta_power=FloatSlider(value=0., min=-5., max=5., step=0.5, description='$\\\\zeta_{\\\\text{And}}^{X}$'),\n",
    "    critical_period=FloatSlider(value=100., min=30., max=150., step=10, description='$P_{crit}$'),\n",
    "    viscosity_power=FloatSlider(value=17., min=14, max=28, step=1.0, description='$\\\\eta^{X}$'),\n",
    "    shear_power=FloatSlider(value=10., min=7., max=11., step=0.5, description='$\\\\mu^{X}$'),\n",
    "    eccentricity_pow=FloatSlider(value=np.log10(0.2), min=np.log10(0.001), max=np.log10(0.8), step=0.05,\n",
    "                                 description='$e^{X}$'),\n",
    "    obliquity_deg=FloatSlider(value=0, min=0., max=90., step=1., description='Obliquity'),\n",
    "    force_spin_sync=True,\n",
    "    spin_period=FloatSlider(value=59., min=1.0, max=200., step=2., description='$P_{s}$'),\n",
    "    eccentricity_truncation_lvl=IntSlider(value=8, min=2, max=20, step=2, description='$e$ Truncation'),\n",
    "    max_tidal_order_l=IntSlider(value=2, min=2, max=3, step=1, description='Max Order $l$')\n",
    ")"
   ]
  },
  {
   "cell_type": "markdown",
   "metadata": {
    "pycharm": {
     "name": "#%% md\n"
    }
   },
   "source": [
    "## Resonance Trapping\n",
    "Here we look at how material properties change how a planet can become trapped at a higher-order spin-orbit resonance"
   ]
  },
  {
   "cell_type": "code",
   "execution_count": 31,
   "metadata": {
    "scrolled": false,
    "pycharm": {
     "name": "#%%\n"
    }
   },
   "outputs": [
    {
     "data": {
      "application/vnd.jupyter.widget-view+json": {
       "model_id": "f0431f852df44d7fa755dac959871834",
       "version_major": 2,
       "version_minor": 0
      },
      "text/plain": [
       "Canvas(toolbar=Toolbar(toolitems=[('Home', 'Reset original view', 'home', 'home'), ('Back', 'Back to previous …"
      ]
     },
     "metadata": {},
     "output_type": "display_data"
    },
    {
     "data": {
      "application/vnd.jupyter.widget-view+json": {
       "model_id": "03a01e621c2442f790434a83a1390806",
       "version_major": 2,
       "version_minor": 0
      },
      "text/plain": [
       "interactive(children=(IntSlider(value=3, description='Cbar Scale', max=6), FloatSlider(value=0.2, description=…"
      ]
     },
     "metadata": {},
     "output_type": "display_data"
    }
   ],
   "source": [
    "# Setup scales\n",
    "scale_info_list = [\n",
    "((86400.)**2 * (360. / (2. * np.pi)), '[deg day$^{-2}$]'),\n",
    "((2.628e+6)**2 * (360. / (2. * np.pi)), '[deg month$^{-2}$]'),\n",
    "((3.154e7/2)**2 * (360. / (2. * np.pi)), '[deg semi-yr$^{-2}$]'),\n",
    "((3.154e7)**2 * (360. / (2. * np.pi)), '[deg yr$^{-2}$]'),\n",
    "((3.154e7 * 10)**2 * (360. / (2. * np.pi)),'[deg dayr$^{-2}$]'),\n",
    "((3.154e7 * 100)**2 * (360. / (2. * np.pi)), '[deg hyr$^{-2}$]'),\n",
    "((3.154e7 * 1000)**2 * (360. / (2. * np.pi)), '[deg kyr$^{-2}$]')\n",
    "]\n",
    "\n",
    "cpoints = np.linspace(-3, 3, 45)\n",
    "zticks = [-3, -2, -1, 0, 1, 2, 3]\n",
    "zlabels = ['$-10^{3}$', '$-10^{2}$', '$-10^{1}$',\n",
    "           '$\\\\;\\\\;\\\\;10^{0}$', '$\\\\;\\\\;\\\\;10^{1}$', '$\\\\;\\\\;\\\\;10^{2}$', '$\\\\;\\\\;\\\\;10^{3}$']\n",
    "\n",
    "# Setup domain\n",
    "x = eccentricity_domain = np.logspace(-2., 0., 80)\n",
    "y = spin_ratio_domain = np.linspace(0.5, 6., 70)\n",
    "eccen_mtx, spin_ratio_mtx = np.meshgrid(eccentricity_domain, spin_ratio_domain)\n",
    "shape = eccen_mtx.shape\n",
    "eccen_mtx = eccen_mtx.flatten()\n",
    "spin_ratio_mtx = spin_ratio_mtx.flatten()\n",
    "spin_frequency = spin_ratio_mtx * planet_orbital_frequency\n",
    "\n",
    "# Setup figure\n",
    "fig_trap = plt.figure()\n",
    "gs = GridSpec(1, 2, figure=fig_trap, wspace=None, hspace=None, width_ratios=[.98, .02])\n",
    "ax_trap = fig_trap.add_subplot(gs[0, 0])\n",
    "ax_cb = fig_trap.add_subplot(gs[0, 1])\n",
    "fig_sync.tight_layout()\n",
    "ax_cb.set(ylabel='Spin Rate Derivative [rad s-2]')\n",
    "\n",
    "plt.show()\n",
    "\n",
    "def sync_rotation(cbar_scale_set=2,\n",
    "                  voigt_compliance_offset=.2,\n",
    "                  voigt_viscosity_offset=.02,\n",
    "                  alpha=.333,\n",
    "                  zeta_power=0.,\n",
    "                  viscosity_power=22.,\n",
    "                  shear_power=10.69897,\n",
    "                  obliquity_deg=0.,\n",
    "                  eccentricity_truncation_lvl=2,\n",
    "                  max_tidal_order_l=2):\n",
    "    \n",
    "    viscosity = 10.**viscosity_power\n",
    "    shear = 10.**shear_power\n",
    "    zeta = 10.**zeta_power\n",
    "    obliquity = np.radians(obliquity_deg)\n",
    "    rheo_input = (voigt_compliance_offset, voigt_viscosity_offset, alpha, zeta)\n",
    "    \n",
    "    if max_tidal_order_l > 2 and eccentricity_truncation_lvl == 22:\n",
    "        raise NotImplemented\n",
    "    \n",
    "    dissipation_data = \\\n",
    "        quick_tidal_dissipation(star_mass, planet_radius, planet_mass, planet_gravity, planet_density, planet_moi,\n",
    "                                viscosity=viscosity, shear_modulus=shear, rheology='sundberg',\n",
    "                                complex_compliance_inputs=rheo_input, eccentricity=eccen_mtx, obliquity=obliquity,\n",
    "                                orbital_frequency=planet_orbital_frequency, spin_frequency=spin_frequency,\n",
    "                                max_tidal_order_l=max_tidal_order_l,\n",
    "                                eccentricity_truncation_lvl=eccentricity_truncation_lvl)\n",
    "        \n",
    "    spin_derivative = dissipation_data['dUdO'] * (star_mass / planet_moi)\n",
    "            \n",
    "    scale, unit_label = scale_info_list[cbar_scale_set]\n",
    "    \n",
    "    spin_derivative *= scale\n",
    "    dspin_dt_targ_pos, dspin_dt_targ_neg = neg_array_for_log_plot(spin_derivative)\n",
    "    \n",
    "    # Make data Symmetric Log (for negative logscale plotting)\n",
    "    logpos = np.log10(dspin_dt_targ_pos)\n",
    "    logpos[logpos < 0.] = 0.\n",
    "    negative_index = ~np.isnan(dspin_dt_targ_neg)\n",
    "    logneg = np.log10(dspin_dt_targ_neg[negative_index])\n",
    "    logneg[logneg < 0.] = 0.\n",
    "    dspin_dt_targ_combo = logpos\n",
    "    dspin_dt_targ_combo[negative_index] = -logneg\n",
    "    dspin_dt_targ_combo = dspin_dt_targ_combo.reshape(shape)\n",
    "\n",
    "    ax_trap.clear()\n",
    "    cb_data = ax_trap.contourf(x, y, dspin_dt_targ_combo, cpoints, cmap=cmc.vik)\n",
    "    \n",
    "    ax_cb.clear()\n",
    "    cb = plt.colorbar(cb_data, cax=ax_cb, ticks=zticks)\n",
    "    \n",
    "    ax_trap.set(xlabel='Eccentricity', ylabel='Spin Rate / Orbital Motion', yscale='linear',\n",
    "                xscale='log')\n",
    "    cb.set_label('Spin Rate Derivative ' + unit_label)\n",
    "    cb.ax.set_yticklabels(zlabels)\n",
    "    fig_trap.canvas.draw_idle()\n",
    "    plt.tight_layout()\n",
    "\n",
    "run_interactive_sync = interact(\n",
    "    sync_rotation,\n",
    "    cbar_scale_set = IntSlider(value=3, min=0, max=6, step=1, description='Cbar Scale'),\n",
    "    voigt_compliance_offset=FloatSlider(value=0.2, min=0.01, max=1., step=0.05, description='$\\\\delta{}J$'),\n",
    "    voigt_viscosity_offset=FloatSlider(value=0.02, min=0.01, max=0.1, step=0.01, description='$\\\\delta{}\\\\eta$'),\n",
    "    alpha=FloatSlider(value=0.333, min=0.05, max=0.8, step=0.02, description='$\\\\alpha_{\\\\text{And}}$'),\n",
    "    zeta_power=FloatSlider(value=0., min=-5., max=5., step=0.5, description='$\\\\zeta_{\\\\text{And}}^{X}$'),\n",
    "    viscosity_power=FloatSlider(value=22., min=14, max=28, step=1.0, description='$\\\\eta^{X}$'),\n",
    "    shear_power=FloatSlider(value=10.69897, min=7., max=11., step=0.5, description='$\\\\mu^{X}$'),\n",
    "    obliquity_deg=FloatSlider(value=0, min=0., max=90., step=1., description='Obliquity'),\n",
    "    eccentricity_truncation_lvl=IntSlider(value=4, min=2, max=20, step=2, description='$e$ Truncation'),\n",
    "    max_tidal_order_l=IntSlider(value=2, min=2, max=3, step=1, description='Max $l$')\n",
    ")"
   ]
  }
 ],
 "metadata": {
  "kernelspec": {
   "display_name": "Python 3 (ipykernel)",
   "language": "python",
   "name": "python3"
  },
  "language_info": {
   "codemirror_mode": {
    "name": "ipython",
    "version": 3
   },
   "file_extension": ".py",
   "mimetype": "text/x-python",
   "name": "python",
   "nbconvert_exporter": "python",
   "pygments_lexer": "ipython3",
   "version": "3.9.7"
  }
 },
 "nbformat": 4,
 "nbformat_minor": 4
}