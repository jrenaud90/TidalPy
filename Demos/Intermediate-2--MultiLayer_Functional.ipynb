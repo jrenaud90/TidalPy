{
 "cells": [
  {
   "cell_type": "markdown",
   "metadata": {
    "collapsed": true,
    "pycharm": {
     "name": "#%% md\n"
    }
   },
   "source": [
    "# Multilayer Tidal Calculations\n",
    "In this cookbook we will explore how we can use TidalPy's multilayer tidal functions to calculate tidal heating as a function of radius.\n",
    "\n",
    "**References**:\n",
    "- SVC16 : Sabadini, Vermeerson, & Cambiotti (2016), DOI: [10.1007/978-94-017-7552-6](https://doi.org/10.1007/978-94-017-7552-6).\n",
    "- HH14  : Henning & Hurford (2014), DOI: [10.1088/0004-637X/789/1/30](https://doi.org/10.1088/0004-637X/789/1/30).\n",
    "- TB05  : Tobie et al. (2005), DOI: [10.1016/j.icarus.2005.04.006](https://doi.org/10.1016/j.icarus.2005.04.006).\n",
    "- S74   : Saito (1974), DOI: [10.4294/jpe1952.22.123](https://doi.org/10.4294/jpe1952.22.123).\n",
    "- TS72  : Takeuchi & Saito (1972), DOI: [10.1016/B978-0-12-460811-5.50010-6](http://dx.doi.org/10.1016/B978-0-12-460811-5.50010-6).\n",
    "- M16   : Martens (2016, [PhD Thesis](https://resolver.caltech.edu/CaltechTHESIS:04102016-211741759)), DOI: [10.7907/Z9N29TX7](http://dx.doi.org/10.7907/Z9N29TX7).\n",
    "- ID    : [IcyDwarf Code](https://github.com/MarcNeveu/IcyDwarf/blob/master/IcyDwarf/Thermal.h) written by Marc Neveu."
   ]
  },
  {
   "cell_type": "markdown",
   "metadata": {},
   "source": [
    "## Build a Planet\n",
    "For this example we will use the Io-Jupiter system."
   ]
  },
  {
   "cell_type": "code",
   "execution_count": 1,
   "metadata": {
    "pycharm": {
     "name": "#%%\n"
    }
   },
   "outputs": [],
   "source": [
    "import numpy as np\n",
    "import matplotlib.pyplot as plt\n",
    "from ipywidgets import interact, widgets\n",
    "%matplotlib ipympl\n",
    "np.seterr(divide='ignore')\n",
    "from TidalPy import build_world\n",
    "from TidalPy.toolbox.conversions import orbital_motion2semi_a\n",
    "from TidalPy.utilities.numpy_helper import find_nearest\n",
    "from TidalPy.rheology.complex_compliance.compliance_models import maxwell, sundberg\n",
    "from TidalPy.tides.potential.synchronous_low_e import tidal_potential"
   ]
  },
  {
   "cell_type": "code",
   "execution_count": 2,
   "metadata": {
    "pycharm": {
     "name": "#%%\n"
    }
   },
   "outputs": [
    {
     "data": {
      "application/vnd.jupyter.widget-view+json": {
       "model_id": "7da08a77d0a9478ab9dc3f3f9e47286c",
       "version_major": 2,
       "version_minor": 0
      },
      "text/plain": [
       "Canvas(toolbar=Toolbar(toolitems=[('Home', 'Reset original view', 'home', 'home'), ('Back', 'Back to previous …"
      ]
     },
     "metadata": {},
     "output_type": "display_data"
    }
   ],
   "source": [
    "io = build_world('Io')\n",
    "io.paint()\n",
    "jupiter = build_world('Jupiter')\n",
    "tidal_host_mass = jupiter.mass\n",
    "eccentricity = 0.0041\n",
    "orbital_freq = 2. * np.pi / (86400. * 1.76914)\n",
    "# orbital_freq = 2. * np.pi / (86400. * 1.)\n",
    "orbital_period = 2. * np.pi / orbital_freq\n",
    "semi_major_axis = orbital_motion2semi_a(orbital_freq, tidal_host_mass, io.mass)\n",
    "\n",
    "# We won't be using TidalPy's OOP approach (which currently does not use the multilayer approach,\n",
    "#    instead relying on a homogenous model broken up by layers), instead we will pull out a few parameters needed\n",
    "#    for the multilayer calculations.\n",
    "radius_array = io.radii\n",
    "surf_area_array = io.surface_areas\n",
    "volume_array = io.volume_slices\n",
    "# Depth array skips the first shell since most viscoelastic properties are not defined there.\n",
    "depth_array = (io.radius - radius_array)\n",
    "gravity_array = io.gravities\n",
    "density_array = io.densities\n",
    "pressure_array = io.pressures\n",
    "\n",
    "# We will give the core and mantle a different viscoelastic state, but to do that we need to know what index\n",
    "#   corresponds to the top of the core.\n",
    "core_radius = io.core.radius\n",
    "core_radius_index = find_nearest(radius_array, core_radius)\n",
    "mantle_N = len(radius_array[core_radius_index:])\n",
    "core_N = len(radius_array[:core_radius_index])\n",
    "total_N = len(radius_array)\n",
    "\n",
    "# Determine some global properties\n",
    "world_radius = io.radius\n",
    "world_surf_area = io.surface_area\n",
    "surface_gravity = io.gravity_surface\n",
    "world_bulk_density = io.density_bulk\n",
    "mantle_bulk_density = np.average(density_array[core_radius_index:])\n",
    "\n",
    "# Setup Io's viscoelastic state - this is not particularly accurate ans is just meant for demonstration purposes.\n",
    "# All of the viscoelastic properties are not defined at r=0, so we are skipping the inner-most shell. This is done through\n",
    "#    the \"len(radius_array) - 1\"\n",
    "rheo_func = maxwell\n",
    "# We will not be looking at bulk modulus dissipation. So, the bulk modulus will only effect the compressibility results\n",
    "#    calculated with the\n",
    "bulk_modulus_array = 100.0e9 * np.ones_like(radius_array)\n",
    "bulk_modulus_array[:core_radius_index] = 200.0e9\n",
    "\n",
    "# Shear modulus and viscosity is much more important, but to keep this example simple we will assume a\n",
    "#   constant shear and an increasing viscosity towards the surface\n",
    "shear_modulus_array = np.zeros_like(radius_array) # Very small shear to mimic liquid layer.\n",
    "shear_modulus_array[core_radius_index:] = 50.0e9\n",
    "\n",
    "viscosity_array = 1.e1 * np.ones_like(radius_array)\n",
    "viscosity_array[core_radius_index:] = np.logspace(23, 15, mantle_N)\n",
    "\n",
    "# Now we can calculate the complex_compliance of the world. We will just use a Maxwell model here but several\n",
    "#    others are available.\n",
    "complex_compliance_array = np.zeros_like(radius_array, dtype=np.complex128)\n",
    "complex_compliance_array[core_radius_index:] = rheo_func(orbital_freq,\n",
    "                                                        shear_modulus_array[core_radius_index:]**(-1),\n",
    "                                                        viscosity_array[core_radius_index:])\n",
    "complex_shear_array = np.zeros_like(radius_array, dtype=np.complex128)\n",
    "complex_shear_array[core_radius_index:] = complex_compliance_array[core_radius_index:]**(-1)"
   ]
  },
  {
   "cell_type": "code",
   "execution_count": 3,
   "metadata": {
    "pycharm": {
     "name": "#%%\n"
    }
   },
   "outputs": [],
   "source": [
    "# Set this variable to True to restrict the dissipation calculations to just the mantle.\n",
    "#    This tends to produce better results for the propagation matrix method, but should be set to False for the shooting method.\n",
    "restrict_propagation_to_mantle = False\n",
    "\n",
    "if restrict_propagation_to_mantle:\n",
    "    core_R = None\n",
    "    radii = radius_array[core_radius_index:]\n",
    "    surf_areas = surf_area_array[core_radius_index:]\n",
    "    volumes = volume_array[core_radius_index:]\n",
    "    depths = depth_array[core_radius_index:]\n",
    "    gravitys = gravity_array[core_radius_index:]\n",
    "    densitys = density_array[core_radius_index:]\n",
    "    pressures = pressure_array[core_radius_index:]\n",
    "    viscosities = viscosity_array[core_radius_index:]\n",
    "    complex_compliances = complex_compliance_array[core_radius_index:]\n",
    "    complex_shears = complex_shear_array[core_radius_index:]\n",
    "    shear_moduli = shear_modulus_array[core_radius_index:]\n",
    "    bulk_moduli = bulk_modulus_array[core_radius_index:]\n",
    "else:\n",
    "    core_R = core_radius\n",
    "    radii = radius_array\n",
    "    surf_areas = surf_area_array\n",
    "    volumes = volume_array\n",
    "    depths = depth_array\n",
    "    gravitys = gravity_array\n",
    "    densitys = density_array\n",
    "    pressures = pressure_array\n",
    "    viscosities = viscosity_array\n",
    "    complex_compliances = complex_compliance_array\n",
    "    complex_shears = complex_shear_array\n",
    "    shear_moduli = shear_modulus_array\n",
    "    bulk_moduli = bulk_modulus_array"
   ]
  },
  {
   "cell_type": "code",
   "execution_count": 4,
   "metadata": {
    "pycharm": {
     "name": "#%%\n"
    }
   },
   "outputs": [
    {
     "data": {
      "application/vnd.jupyter.widget-view+json": {
       "model_id": "7756e60a1c0245489fe4c3a3106a6654",
       "version_major": 2,
       "version_minor": 0
      },
      "text/plain": [
       "Canvas(toolbar=Toolbar(toolitems=[('Home', 'Reset original view', 'home', 'home'), ('Back', 'Back to previous …"
      ]
     },
     "metadata": {},
     "output_type": "display_data"
    }
   ],
   "source": [
    "# Now let's see what this looks like\n",
    "fig_visco, ax_visco = plt.subplots()\n",
    "ax_shear = ax_visco.twiny()\n",
    "ax_comp = ax_visco.twiny()\n",
    "ax_comp.spines[\"top\"].set_position((\"axes\", 1.2))\n",
    "\n",
    "ax_visco.plot(viscosities, radii/1000., c='b', ls=':')\n",
    "ax_shear.plot(shear_moduli, radii/1000., c='r', ls='-.')\n",
    "ax_comp.plot(np.real(complex_shears), radii/1000., c='orange', ls='-')\n",
    "ax_comp.plot(np.imag(complex_shears), radii/1000., c='orange', ls='--')\n",
    "\n",
    "ax_visco.set(ylabel='Radius [km]', xlabel='Viscosity [Pa s]', xscale='log')\n",
    "ax_shear.set(xlabel='Shear Modulus [Pa]', xscale='linear')\n",
    "ax_comp.set(xlabel='Complex Shear (Solid=Real, Dash=Imag) [Pa$^{-1}$]', xscale='log')\n",
    "for ax, color in zip([ax_visco, ax_shear, ax_comp], ['b', 'r', 'orange']):\n",
    "    if ax is ax_visco:\n",
    "        ax.spines['bottom'].set_color(color)\n",
    "    else:\n",
    "        ax.spines['top'].set_color(color)\n",
    "    ax.xaxis.label.set_color(color)\n",
    "\n",
    "fig_visco.tight_layout()\n",
    "plt.show()"
   ]
  },
  {
   "cell_type": "markdown",
   "metadata": {},
   "source": [
    "## Calculate the multilayer tidal response using a propagation matrix technique\n",
    "TidalPy offers both a propagation matrix (HH14, SVC16, ID) and a shooting method technique (TS72, S74, TB05, M16) to calculate dissipation vs. radius.\n",
    "The propagation matrix assumes incompressibility and does not allow for dynamic tides. Nor can it fully capture the propagation across liquid layers without some hacks (e.g., assume shear modulus is very small rather than zero).\n",
    "The shooting method allows us the model all of the above with the addition of (since compressibility is allowed) including bulk dissipation (`Im[bulk_modulus] != 0`).\n",
    "There are a few drawbacks with the current TidalPy implementation:\n",
    "- Numerical stability when allowing for dynamic tides in liquid layers. Certain choices of forcing frequency can lead to numerical problems within liquid layers that can then affect other layers. If you are using liquid layers it is reccomended to turn dynamic tides off (you can leave them on in the solid layers), or if you must use dynamic tides then perform extensive testing to ensure the problem has correctly converged.\n",
    "- Slow performance. Even though TidalPy utilizes JIT compiled functions, there are some aspects of the numerical shooting method that still (as of this version) utilize non-compiled python leading to slower performance. Even without these issues, the shooting method is still performing 1--3 numerical integrations per layer. If you are using this during a time integration, *especially* if considering multiple tidal modes, then calculations can slow down pretty dramatically.\n",
    "    - A future version of TidalPy will offer pre-calculated lookup tables to try and mitigate this problem at the cost of a slight loss in accuracy (TODO)."
   ]
  },
  {
   "cell_type": "code",
   "execution_count": 5,
   "metadata": {},
   "outputs": [],
   "source": [
    "# Load TidalPy's multilayer functions\n",
    "from TidalPy.tides.multilayer import decompose\n",
    "from TidalPy.tides.multilayer.matrix import fundamental_matrix_orderl2, propagate\n",
    "from TidalPy.tides.multilayer.heating import calc_radial_tidal_heating\n",
    "from TidalPy.tides.multilayer.stress_strain import calculate_strain_stress_heating\n",
    "from TidalPy.toolbox.multilayer import calculate_homogen_solid, calculate_ls"
   ]
  },
  {
   "cell_type": "markdown",
   "metadata": {
    "pycharm": {
     "name": "#%% md\n"
    }
   },
   "source": [
    "### Calculate Radial Functions"
   ]
  },
  {
   "cell_type": "code",
   "execution_count": 6,
   "metadata": {
    "pycharm": {
     "name": "#%%\n"
    },
    "scrolled": false
   },
   "outputs": [],
   "source": [
    "use_shooting_method = True\n",
    "\n",
    "if use_shooting_method:\n",
    "    # Use the numerical shooting method technique.\n",
    "    if restrict_propagation_to_mantle:\n",
    "        # Use a homogeneous shooting function.\n",
    "        tidal_y, tidal_y_derivative = \\\n",
    "            calculate_homogen_solid(\n",
    "                radii, complex_shears, bulk_moduli,\n",
    "                densitys, gravitys, orbital_freq,\n",
    "                order_l=2, use_static=False,\n",
    "                surface_boundary_condition=None,\n",
    "                use_kamata=True, use_julia=False, verbose=False,\n",
    "                int_rtol=1.0e-6, int_atol=1.0e-5, scipy_int_method='RK45',\n",
    "                julia_int_method='Tsit5',\n",
    "                non_dimensionalize=False, planet_bulk_density=world_bulk_density)\n",
    "    else:\n",
    "        # Use a liquid layer -> solid layer shooting function.\n",
    "        tidal_y, tidal_y_derivative = \\\n",
    "            calculate_ls(\n",
    "                radii, complex_shears, bulk_moduli,\n",
    "                densitys, gravitys, orbital_freq,\n",
    "                interface_1_radius=core_R, layer_0_static=True, layer_1_static=False,\n",
    "                order_l=2,\n",
    "                surface_boundary_condition=None,\n",
    "                use_kamata=True, use_julia=False, verbose=False,\n",
    "                int_rtol=1.0e-6, int_atol=1.0e-5, scipy_int_method='RK45',\n",
    "                julia_int_method='Tsit5',\n",
    "                non_dimensionalize=False, planet_bulk_density=world_bulk_density)\n",
    "\n",
    "    # Calculate parameters not found in the functions above\n",
    "    k2, h2, l2 = tidal_y[4, :] - 1., tidal_y[0, :] * gravitys, tidal_y[2, :] * gravitys\n",
    "    \n",
    "else:\n",
    "    # Use the propagation matrix technique.\n",
    "    # Find the fundamental matrix; skip the innermost shell as that will be a boundary condition.\n",
    "    Y, Y_inv, derivative_mtx = fundamental_matrix_orderl2(radii, complex_shears, densitys, gravitys)\n",
    "\n",
    "    # Propagate the tidal solution through the world's shells\n",
    "    central_boundary_condition = np.zeros((6, 3), dtype=np.complex128)\n",
    "    # Roberts & Nimmo (2008): Liquid innermost zone.\n",
    "    central_boundary_condition[0, 0] = 0.05 + 0.0j\n",
    "    central_boundary_condition[1, 1] = 0.01 + 0.0j\n",
    "    central_boundary_condition[5, 2] = 1.0 + 0.0j\n",
    "\n",
    "    tidal_y, tidal_y_derivative = propagate(Y, Y_inv, derivative_mtx, central_boundary_condition, world_radius, order_l=2)\n",
    "\n",
    "    # Decompose the tidal solution into useful properties\n",
    "    #    There is a gradient in this function so we lose another shell. Thus the [1:] in viscoelastic properties\n",
    "    radial_sensitivity_to_shear, (k2, h2, l2) = \\\n",
    "        decompose(tidal_y, tidal_y_derivative, radii, gravitys, complex_shears, bulk_moduli, order_l=2)\n"
   ]
  },
  {
   "cell_type": "code",
   "execution_count": 7,
   "metadata": {
    "pycharm": {
     "name": "#%%\n"
    }
   },
   "outputs": [
    {
     "data": {
      "application/vnd.jupyter.widget-view+json": {
       "model_id": "55a399a03d7942d4942a37bb426a1eda",
       "version_major": 2,
       "version_minor": 0
      },
      "text/plain": [
       "Canvas(toolbar=Toolbar(toolitems=[('Home', 'Reset original view', 'home', 'home'), ('Back', 'Back to previous …"
      ]
     },
     "metadata": {},
     "output_type": "display_data"
    }
   ],
   "source": [
    "from TidalPy.utilities.graphics.multilayer import yplot\n",
    "\n",
    "_ = yplot(tidal_y, radii)"
   ]
  },
  {
   "cell_type": "code",
   "execution_count": 8,
   "metadata": {
    "pycharm": {
     "name": "#%%\n"
    }
   },
   "outputs": [
    {
     "name": "stdout",
     "output_type": "stream",
     "text": [
      "Surface Love & Shida Numbers\n",
      "k_2 = 3.13e-02-1.21e-03j\n",
      "h_2 = 9.61e-02-1.91e-03j\n",
      "l_2 = 1.86e-02-4.65e-04j\n"
     ]
    },
    {
     "data": {
      "application/vnd.jupyter.widget-view+json": {
       "model_id": "124f8dd08a9249f2942e2b8b226df5cf",
       "version_major": 2,
       "version_minor": 0
      },
      "text/plain": [
       "Canvas(toolbar=Toolbar(toolitems=[('Home', 'Reset original view', 'home', 'home'), ('Back', 'Back to previous …"
      ]
     },
     "metadata": {},
     "output_type": "display_data"
    }
   ],
   "source": [
    "print('Surface Love & Shida Numbers')\n",
    "print(f'k_2 = {k2[-1]:.2e}\\nh_2 = {h2[-1]:.2e}\\nl_2 = {l2[-1]:.2e}')\n",
    "\n",
    "# Let's plot these as a function of depth.\n",
    "fig_love, love_axes = plt.subplots(ncols=2)\n",
    "fig_love.suptitle('Love and Shida Numbers')\n",
    "\n",
    "for ax_i, ax in enumerate(love_axes):\n",
    "    ax_love_h = ax.twiny()\n",
    "    ax_love_l = ax.twiny()\n",
    "    ax_love_l.spines[\"top\"].set_position((\"axes\", 1.2))\n",
    "    \n",
    "    if ax_i == 0:\n",
    "        ax.plot(np.real(k2), radii/1000., c='b', ls='-')\n",
    "        ax_love_h.plot(np.real(h2), radii/1000., c='r', ls='-')\n",
    "        ax_love_l.plot(np.real(l2), radii/1000., c='orange', ls='-')\n",
    "        \n",
    "        ax.set(ylabel='Radius [km]', xlabel='Re[$k_{2}$]', xscale='linear')\n",
    "        ax_love_h.set(xlabel='Re[$h_{2}$]', xscale='linear')\n",
    "        ax_love_l.set(xlabel='Re[$l_{2}$]', xscale='linear')\n",
    "    else:\n",
    "        ax.plot(-np.imag(k2), radii/1000., c='b', ls='-')\n",
    "        ax_love_h.plot(-np.imag(h2), radii/1000., c='r', ls='-')\n",
    "        ax_love_l.plot(-np.imag(l2), radii/1000., c='orange', ls='-')\n",
    "\n",
    "        ax.set(ylabel='Radius [km]', xlabel='-Im[$k_{2}$]', xscale='linear')\n",
    "        ax_love_h.set(xlabel='-Im[$h_{2}$]', xscale='linear')\n",
    "        ax_love_l.set(xlabel='-Im[$l_{2}$]', xscale='linear')\n",
    "\n",
    "    for ax2, color in zip([ax, ax_love_h, ax_love_l], ['b', 'r', 'orange']):\n",
    "        if ax2 is ax_visco:\n",
    "            ax2.spines['bottom'].set_color(color)\n",
    "        else:\n",
    "            ax2.spines['top'].set_color(color)\n",
    "        ax2.xaxis.label.set_color(color)\n",
    "\n",
    "fig_love.tight_layout()\n",
    "plt.show()"
   ]
  },
  {
   "cell_type": "markdown",
   "metadata": {},
   "source": [
    "## Calculate Tidal Displacement\n",
    "Utilizing the simplified tidal potential (low eccentricity, no obliquity, spin-synchronous)."
   ]
  },
  {
   "cell_type": "code",
   "execution_count": 9,
   "metadata": {},
   "outputs": [],
   "source": [
    "# Define latitude and longitude domain\n",
    "colatitude = np.linspace(0.1, 179.9, 25)\n",
    "latitude = colatitude - 90.\n",
    "longitude = np.linspace(0., 360., 30)\n",
    "longitude_r = np.radians(longitude)\n",
    "colatitude_r = np.radians(colatitude)\n",
    "time_domain = np.linspace(0., orbital_period, 50)\n",
    "\n",
    "rad_mtx, time_mtx, long_mtx, lat_mtx = \\\n",
    "    np.meshgrid(radii, time_domain, longitude_r, colatitude_r, indexing='ij')\n",
    "\n",
    "# Calculate the simplified tidal potential\n",
    "potential, potential_dtheta, potential_dphi, potential_d2theta, potential_d2phi, potential_dtheta_dphi = \\\n",
    "    tidal_potential(rad_mtx, long_mtx, lat_mtx, orbital_freq, eccentricity, time_mtx)\n",
    "\n",
    "# Scale by the tidal solutions\n",
    "u_r = radial_displacement = tidal_y[0, -1] * potential\n",
    "u_th = polar_displacement = tidal_y[2, -1] * potential_dtheta\n",
    "u_phi = azimuthal_displacement = tidal_y[2, -1] * potential_dphi / np.sin(lat_mtx)"
   ]
  },
  {
   "cell_type": "code",
   "execution_count": 10,
   "metadata": {
    "scrolled": false
   },
   "outputs": [
    {
     "data": {
      "application/vnd.jupyter.widget-view+json": {
       "model_id": "51575800901c4deebdb026f8179ffe8c",
       "version_major": 2,
       "version_minor": 0
      },
      "text/plain": [
       "Canvas(toolbar=Toolbar(toolitems=[('Home', 'Reset original view', 'home', 'home'), ('Back', 'Back to previous …"
      ]
     },
     "metadata": {},
     "output_type": "display_data"
    },
    {
     "data": {
      "application/vnd.jupyter.widget-view+json": {
       "model_id": "a53bd843c7cb47a4acc2c03eb13767a4",
       "version_major": 2,
       "version_minor": 0
      },
      "text/plain": [
       "interactive(children=(IntSlider(value=0, description='Time Index', max=49), IntSlider(value=99, description='R…"
      ]
     },
     "metadata": {},
     "output_type": "display_data"
    },
    {
     "data": {
      "text/plain": [
       "<function __main__.update_fig(time_idx=0, radius_idx=0)>"
      ]
     },
     "execution_count": 10,
     "metadata": {},
     "output_type": "execute_result"
    }
   ],
   "source": [
    "# Plot results\n",
    "fig_disp, axes_disp = plt.subplots(ncols=3, figsize=(8, 5))\n",
    "plt.subplots_adjust(wspace=.5)\n",
    "ax_disp_r = axes_disp[0]\n",
    "ax_disp_th = axes_disp[1]\n",
    "ax_disp_phi = axes_disp[2]\n",
    "\n",
    "def update_fig(time_idx=0, radius_idx=0):\n",
    "    orbital_period_now_displacement = time_domain[time_idx] / orbital_period\n",
    "    depth_now_displacement = radii[radius_idx]\n",
    "    ax_disp_r.clear()\n",
    "    ax_disp_th.clear()\n",
    "    ax_disp_phi.clear()\n",
    "    fig_disp.suptitle(f'{orbital_period_now_displacement:0.2f} Orbital Period; R={depth_now_displacement/1000:0.0f} km')\n",
    "    \n",
    "    ax_disp_r.set(ylabel='Latitude [$\\deg$]', xlabel='Longitude [$\\deg$]',\n",
    "                  title='Radial Displacement', xlim=(0, 360), ylim=(-90, 90))\n",
    "    ax_disp_th.set(ylabel='Latitude [$\\deg$]', xlabel='Longitude [$\\deg$]',\n",
    "                   title='Polar Displacement', xlim=(0, 360), ylim=(-90, 90))\n",
    "    ax_disp_phi.set(ylabel='Latitude [$\\deg$]', xlabel='Longitude [$\\deg$]',\n",
    "                    title='Azimuthal Displacement', xlim=(0, 360), ylim=(-90, 90))\n",
    "    \n",
    "    ax_disp_r.contourf(longitude, latitude, u_r[radius_idx, time_idx, :, :].T, 15)\n",
    "    ax_disp_th.contourf(longitude, latitude, u_th[radius_idx, time_idx, :, :].T, 15)\n",
    "    ax_disp_phi.contourf(longitude, latitude, u_phi[radius_idx, time_idx, :, :].T, 15)\n",
    "    fig_disp.tight_layout()\n",
    "\n",
    "interact(update_fig,\n",
    "         time_idx=widgets.IntSlider(min=0, max=len(time_domain)-1, step=1, value=0, description='Time Index'),\n",
    "         radius_idx=widgets.IntSlider(min=0, max=len(radii)-1, step=1, value=len(radii)-1, description='Radius Index')\n",
    ")"
   ]
  },
  {
   "cell_type": "markdown",
   "metadata": {},
   "source": [
    "## Strain and Stress Tensors\n",
    "Here we will calculate the strain and stress tensors using the methods described in TB05 and B13"
   ]
  },
  {
   "cell_type": "code",
   "execution_count": 11,
   "metadata": {
    "scrolled": false
   },
   "outputs": [],
   "source": [
    "# We need to recast the tidal y solution into the correct dimensions\n",
    "#    (it does not care about long/lat or time - at least in this context).\n",
    "tidal_y_higher_dim = np.zeros((6, *rad_mtx.shape), dtype=np.complex128)\n",
    "tidal_y_deriv_higher_dim = np.zeros((6, *rad_mtx.shape), dtype=np.complex128)\n",
    "\n",
    "complex_shears_higher_dim, _, _, _ = \\\n",
    "        np.meshgrid(complex_shears, time_domain, longitude_r, colatitude_r, indexing='ij')\n",
    "bulk_moduli_higher_dim, _, _, _ = \\\n",
    "        np.meshgrid(bulk_moduli, time_domain, longitude_r, colatitude_r, indexing='ij')\n",
    "radius_array_higher_dim, _, _, _ = \\\n",
    "        np.meshgrid(radii, time_domain, longitude_r, colatitude_r, indexing='ij')\n",
    "volume_array_higher_dim, _, _, _ = \\\n",
    "        np.meshgrid(volumes, time_domain, longitude_r, colatitude_r, indexing='ij')\n",
    "for i in range(6):\n",
    "    tidal_y_higher_dim[i, :, :, :, :], _, _, _ = \\\n",
    "        np.meshgrid(tidal_y[i, :], time_domain, longitude_r, colatitude_r, indexing='ij')\n",
    "    tidal_y_deriv_higher_dim[i, :, :, :, :], _, _, _ = \\\n",
    "        np.meshgrid(tidal_y_derivative[i, :], time_domain, longitude_r, colatitude_r, indexing='ij')\n",
    "\n",
    "# Calculate the simplified tidal potential\n",
    "potential_STR, potential_dtheta_STR, potential_dphi_STR, potential_d2theta_STR, potential_d2phi_STR, potential_dtheta_dphi_STR = \\\n",
    "    tidal_potential(rad_mtx, long_mtx, lat_mtx, orbital_freq, eccentricity, time_mtx)\n",
    "\n",
    "# Use the tidal solutions to scale the potential and find the strains\n",
    "#    This function is undefined for a zero shear modulus. So we need to perform the calculate for each layer seperately\n",
    "if restrict_propagation_to_mantle:\n",
    "    strains, stresses, volumetric_heating = \\\n",
    "        calculate_strain_stress_heating(\n",
    "            potential_STR, potential_dtheta_STR, potential_dphi_STR,\n",
    "            potential_d2theta_STR, potential_d2phi_STR,\n",
    "            potential_dtheta_dphi_STR, tidal_y_higher_dim, tidal_y_deriv_higher_dim,\n",
    "            colatitude=lat_mtx, radius=radius_array_higher_dim, shear_moduli=complex_shears_higher_dim,\n",
    "            bulk_moduli=bulk_moduli_higher_dim, frequency=orbital_freq)\n",
    "else:\n",
    "    volumetric_heating = np.zeros_like(radius_array_higher_dim)\n",
    "    strains_mantle, stresses_mantle, volumetric_heating[core_radius_index:, :, :, :] = \\\n",
    "        calculate_strain_stress_heating(\n",
    "            potential_STR[core_radius_index:, :, :, :],\n",
    "            potential_dtheta_STR[core_radius_index:, :, :, :],\n",
    "            potential_dphi_STR[core_radius_index:, :, :, :],\n",
    "            potential_d2theta_STR[core_radius_index:, :, :, :],\n",
    "            potential_d2phi_STR[core_radius_index:, :, :, :],\n",
    "            potential_dtheta_dphi_STR[core_radius_index:, :, :, :],\n",
    "            tidal_y_higher_dim[:, core_radius_index:, :, :, :],\n",
    "            tidal_y_deriv_higher_dim[:, core_radius_index:, :, :, :],\n",
    "            colatitude=lat_mtx[core_radius_index:, :, :, :],\n",
    "            radius=radius_array_higher_dim[core_radius_index:, :, :, :],\n",
    "            shear_moduli=complex_shears_higher_dim[core_radius_index:, :, :, :],\n",
    "            bulk_moduli=bulk_moduli_higher_dim[core_radius_index:, :, :, :],\n",
    "            frequency=orbital_freq)\n",
    "    \n",
    "    strains = list()\n",
    "    stresses = list()\n",
    "    for tensor_i in range(6):\n",
    "        strain_term = np.zeros_like(radius_array_higher_dim)\n",
    "        strain_term[core_radius_index:, :, :, :] = strains_mantle[tensor_i]\n",
    "        strains.append(strain_term)\n",
    "        \n",
    "        stress_term = np.zeros_like(radius_array_higher_dim)\n",
    "        stress_term[core_radius_index:, :, :, :] = stresses_mantle[tensor_i]\n",
    "        stresses.append(stress_term)\n",
    "    strains = tuple(strains)\n",
    "    stresses = tuple(stresses)\n",
    "\n",
    "strain_rr, strain_thth, strain_phph, strain_rth, strain_rph, strain_thph = strains\n",
    "stress_rr, stress_thth, stress_phph, stress_rth, stress_rph, stress_thph = stresses"
   ]
  },
  {
   "cell_type": "markdown",
   "metadata": {},
   "source": [
    "### Stress and Strain over time"
   ]
  },
  {
   "cell_type": "code",
   "execution_count": 12,
   "metadata": {
    "scrolled": false
   },
   "outputs": [
    {
     "data": {
      "application/vnd.jupyter.widget-view+json": {
       "model_id": "5010ce0d8ac841d398441f52284f267c",
       "version_major": 2,
       "version_minor": 0
      },
      "text/plain": [
       "Canvas(toolbar=Toolbar(toolitems=[('Home', 'Reset original view', 'home', 'home'), ('Back', 'Back to previous …"
      ]
     },
     "metadata": {},
     "output_type": "display_data"
    },
    {
     "data": {
      "application/vnd.jupyter.widget-view+json": {
       "model_id": "1fc31cdd413c4f86be7bdc120e070f18",
       "version_major": 2,
       "version_minor": 0
      },
      "text/plain": [
       "interactive(children=(IntSlider(value=0, description='Time Index', max=49), IntSlider(value=98, description='R…"
      ]
     },
     "metadata": {},
     "output_type": "display_data"
    },
    {
     "data": {
      "text/plain": [
       "<function __main__.update_fig(time_idx=0, radius_idx=0, show_imaginary=False)>"
      ]
     },
     "execution_count": 12,
     "metadata": {},
     "output_type": "execute_result"
    }
   ],
   "source": [
    "# Plot results\n",
    "fig_strain_time, axes_stress_strain_time = plt.subplots(ncols=3, nrows=4, figsize=(8, 6))\n",
    "\n",
    "def update_fig(time_idx=0, radius_idx=0, show_imaginary=False):\n",
    "    orbital_period_now_displacement = time_domain[time_idx] / orbital_period\n",
    "    depth_now_displacement = radii[radius_idx]\n",
    "    \n",
    "    str_pre = ''\n",
    "    str_post = ''\n",
    "    def scale_func(arry):\n",
    "        return arry\n",
    "    if show_imaginary:\n",
    "        str_pre = 'Im['\n",
    "        str_post = ']'\n",
    "        def scale_func(arry):\n",
    "            return np.imag(arry)\n",
    "\n",
    "    fig_strain_time.suptitle(f'{orbital_period_now_displacement:0.2f} Orbital Period; R={depth_now_displacement/1000:0.0f} km')\n",
    "    tensor_txts = {0: 'rr', 1: '\\\\theta\\\\theta}', 2: '\\\\phi\\\\phi', 3: 'r\\\\theta', 4: 'r\\\\phi', 5: '\\\\theta\\\\phi'}\n",
    "    ax_i = 0\n",
    "    ax_j = 0\n",
    "\n",
    "    for tensor_i, tensor_txt in tensor_txts.items():\n",
    "\n",
    "        strain_ax = axes_stress_strain_time[ax_i, ax_j]\n",
    "        stress_ax = axes_stress_strain_time[2 + ax_i, ax_j]\n",
    "        strain_ax.clear()\n",
    "        stress_ax.clear()\n",
    "        strain_variable = strains[tensor_i][radius_idx, time_idx, :, :]\n",
    "        stress_variable = stresses[tensor_i][radius_idx, time_idx, :, :]\n",
    "\n",
    "        if tensor_i in (3, 4, 5):\n",
    "            # Off diagonal tensor terms are only half counted in the tensor so need to be doubled.\n",
    "            strain_variable *= 2\n",
    "            stress_variable *= 2\n",
    "\n",
    "        strain_ax.contourf(longitude, latitude, scale_func(strain_variable.T), 10)\n",
    "        stress_ax.contourf(longitude, latitude, scale_func(stress_variable.T), 10)\n",
    "\n",
    "        if ax_j == 0:\n",
    "            strain_ax.set(ylabel='Latitude [$\\deg$]')\n",
    "            stress_ax.set(ylabel='Latitude [$\\deg$]')\n",
    "        if ax_i == 1:\n",
    "            stress_ax.set(xlabel='Longitude [$\\deg$]')\n",
    "        strain_ax.set(title=str_pre+'$\\\\epsilon_{'+f'{tensor_txt}'+'}$'+str_post, xlim=(0, 360), ylim=(-90, 90))\n",
    "        stress_ax.set(title=str_pre+'$\\\\sigma_{'+f'{tensor_txt}'+'}$'+str_post, xlim=(0, 360), ylim=(-90, 90))\n",
    "        \n",
    "        ax_j += 1\n",
    "        if ax_j == 3:\n",
    "            ax_j = 0\n",
    "            ax_i += 1\n",
    "    \n",
    "    fig_strain_time.tight_layout()\n",
    "    plt.subplots_adjust(wspace=.2, hspace=0.55)\n",
    "\n",
    "interact(update_fig, \n",
    "         time_idx=widgets.IntSlider(min=0, max=len(time_domain)-1, step=1, value=0, description='Time Index'),\n",
    "         radius_idx=widgets.IntSlider(min=0, max=len(radii)-1, step=1, value=len(radii)-2, description='Radius Index'),\n",
    "         show_imaginary=False)"
   ]
  },
  {
   "cell_type": "markdown",
   "metadata": {},
   "source": [
    "### Stress over depth\n",
    "**Latitude: 0, Longitude: 0**"
   ]
  },
  {
   "cell_type": "code",
   "execution_count": 13,
   "metadata": {},
   "outputs": [
    {
     "data": {
      "application/vnd.jupyter.widget-view+json": {
       "model_id": "797c4db33612421fb4c91cff711c3bf7",
       "version_major": 2,
       "version_minor": 0
      },
      "text/plain": [
       "Canvas(toolbar=Toolbar(toolitems=[('Home', 'Reset original view', 'home', 'home'), ('Back', 'Back to previous …"
      ]
     },
     "metadata": {},
     "output_type": "display_data"
    }
   ],
   "source": [
    "latitude_idx = find_nearest(latitude, 25.)\n",
    "longitude_idx = find_nearest(longitude, 120.)\n",
    "time_index = 10\n",
    "\n",
    "show_real = False\n",
    "show_imag = False\n",
    "show_abs = False\n",
    "\n",
    "# Plot results\n",
    "fig_strain_depth, axes_strain_depth = plt.subplots(ncols=3, nrows=2, figsize=(9, 5))\n",
    "plt.subplots_adjust(wspace=.6, hspace=0.5)\n",
    "\n",
    "def scale_func(arry):\n",
    "    return arry\n",
    "\n",
    "str_pre = ''\n",
    "str_post = ''\n",
    "if show_real:\n",
    "    str_pre = 'Re['\n",
    "    str_post = ']'\n",
    "    def scale_func(arry):\n",
    "        return np.real(arry)\n",
    "elif show_imag:\n",
    "    str_pre = 'Im['\n",
    "    str_post = ']'\n",
    "    def scale_func(arry):\n",
    "        return np.imag(arry)\n",
    "elif show_abs:\n",
    "    str_pre = '|'\n",
    "    str_post = '|'\n",
    "    def scale_func(arry):\n",
    "        return np.abs(arry)\n",
    "\n",
    "tensor_txts = {0: 'rr', 1: '\\\\theta\\\\theta}', 2: '\\\\phi\\\\phi', 3: 'r\\\\theta', 4: 'r\\\\phi', 5: '\\\\theta\\\\phi'}\n",
    "ax_i = 0\n",
    "ax_j = 0\n",
    "\n",
    "for tensor_i, tensor_txt in tensor_txts.items():\n",
    "\n",
    "    strain_ax = axes_strain_depth[ax_i, ax_j]\n",
    "    strain_ax.spines['bottom'].set_color('blue')\n",
    "    strain_ax.xaxis.label.set_color('blue')\n",
    "    strain_ax.tick_params(axis='x', colors='blue')\n",
    "\n",
    "    stress_ax = strain_ax.twiny()\n",
    "    stress_ax.spines['top'].set_color('red')\n",
    "    stress_ax.xaxis.label.set_color('red')\n",
    "    stress_ax.tick_params(axis='x', colors='red')\n",
    "\n",
    "    strain_variable = strains[tensor_i][:, time_index, longitude_idx, latitude_idx]\n",
    "    stress_variable = stresses[tensor_i][:, time_index, longitude_idx, latitude_idx]\n",
    "\n",
    "    if tensor_i in (3, 4, 5):\n",
    "        # Off diagonal tensor terms are only half counted in the tensor so need to be doubled.\n",
    "        strain_variable *= 2\n",
    "        stress_variable *= 2\n",
    "\n",
    "    strain_ax.set(xlabel=str_pre+'$\\\\epsilon_{'+f'{tensor_txt}'+'}$'+str_post)\n",
    "    stress_ax.set(xlabel=str_pre+'$\\\\sigma_{'+f'{tensor_txt}'+'}$'+str_post)\n",
    "    if ax_j == 0:\n",
    "        strain_ax.set(ylabel='Radius [km]')\n",
    "\n",
    "    strain_ax.plot(scale_func(strain_variable), radii / 1000., 'b-')\n",
    "    stress_ax.plot(scale_func(stress_variable), radii / 1000., 'r-')\n",
    "    \n",
    "    ax_j += 1\n",
    "    if ax_j == 3:\n",
    "        ax_j = 0\n",
    "        ax_i += 1\n",
    "    \n",
    "fig_strain_depth.tight_layout()\n",
    "plt.show()"
   ]
  },
  {
   "cell_type": "markdown",
   "metadata": {},
   "source": [
    "## Tidal Heating Rate\n"
   ]
  },
  {
   "cell_type": "code",
   "execution_count": 14,
   "metadata": {
    "scrolled": false
   },
   "outputs": [
    {
     "data": {
      "application/vnd.jupyter.widget-view+json": {
       "model_id": "2dc1e959d74c4fb2965acd2bfa433fc1",
       "version_major": 2,
       "version_minor": 0
      },
      "text/plain": [
       "Canvas(toolbar=Toolbar(toolitems=[('Home', 'Reset original view', 'home', 'home'), ('Back', 'Back to previous …"
      ]
     },
     "metadata": {},
     "output_type": "display_data"
    },
    {
     "data": {
      "application/vnd.jupyter.widget-view+json": {
       "model_id": "b1ad9251da5f46429a2992349b1ff021",
       "version_major": 2,
       "version_minor": 0
      },
      "text/plain": [
       "interactive(children=(IntSlider(value=0, description='Time Index', max=49), IntSlider(value=99, description='R…"
      ]
     },
     "metadata": {},
     "output_type": "display_data"
    },
    {
     "data": {
      "text/plain": [
       "<function __main__.update_fig(time_idx=0, radius_idx=-1, sum_depth=False, show_flux=True, fixed_long=0.0, fixed_lat=0.0, orbit_average=False)>"
      ]
     },
     "execution_count": 14,
     "metadata": {},
     "output_type": "execute_result"
    }
   ],
   "source": [
    "# Setup Figure\n",
    "fig_heat, axes_heat = plt.subplots(ncols=2, figsize=(9, 4))\n",
    "plt.subplots_adjust(wspace=4, hspace=0.3)\n",
    "\n",
    "axis_heat = axes_heat[0]\n",
    "axis_heat_depth = axes_heat[1]\n",
    "\n",
    "cb_heat = None\n",
    "\n",
    "def update_fig(time_idx=0, radius_idx=-1,\n",
    "               sum_depth = False, show_flux = True,\n",
    "               fixed_long=0., fixed_lat=0., orbit_average=False):\n",
    "    \n",
    "    global cb_heat\n",
    "\n",
    "    heating = np.copy(volumetric_heating)\n",
    "    heating_at_depth = np.copy(volumetric_heating)\n",
    "        \n",
    "    # Determine if we are summing over the depth of the world\n",
    "    if sum_depth:\n",
    "        heating = np.nansum(heating, axis=0)\n",
    "    else:\n",
    "        heating = heating[radius_idx]\n",
    "    \n",
    "    # Determine if we are averageing over the orbit\n",
    "    # FIXME: This is probably not the right way to average?\n",
    "    if orbit_average:\n",
    "        dt = time_domain[1] - time_domain[0]\n",
    "        heating = np.nansum(heating * dt, axis=0) / orbital_period\n",
    "        heating_at_depth = np.nansum(heating_at_depth * dt, axis=1) / orbital_period\n",
    "    else:\n",
    "        heating = heating[time_idx]\n",
    "        heating_at_depth = heating_at_depth[:, time_idx]\n",
    "    \n",
    "    # Plot Results\n",
    "    axis_heat.clear()\n",
    "    axis_heat_depth.clear()\n",
    "    plt.subplots_adjust(wspace=.1, hspace=0.3)\n",
    "    \n",
    "    # Set figure title\n",
    "    orbital_period_now_displacement = time_domain[time_idx] / orbital_period\n",
    "    depth_now_displacement = radii[radius_idx]\n",
    "    fig_heat.suptitle(f'{orbital_period_now_displacement:0.2f} Orbital Period; {depth_now_displacement/1000:0.0f} km')\n",
    "    \n",
    "    if cb_heat is not None:\n",
    "        cb_heat.remove()\n",
    "    axis_heat.set(title='Tidal Heating [W]')\n",
    "    if show_flux:\n",
    "        if sum_depth:\n",
    "            heating_to_plot = heating / world_surf_area\n",
    "        else:\n",
    "            heating_to_plot = heating / (4. * np.pi * radii[radius_idx]**2)\n",
    "        axis_heat.set(title='Surface Heating Flux [W m-2]')\n",
    "    else:\n",
    "        heating_to_plot = heating\n",
    "    axis_heat.set(ylabel='Latitude [$\\deg$]', xlabel='Longitude [$\\deg$]', xlim=(0, 360), ylim=(-90, 90))\n",
    "    \n",
    "    cb_data = axis_heat.contourf(longitude, latitude, heating_to_plot.T, 15)\n",
    "    cb_heat = plt.colorbar(cb_data, ax=axis_heat)\n",
    "    \n",
    "    # plot depth at sub-stellar point\n",
    "    lat_indx = find_nearest(latitude, fixed_lat)\n",
    "    long_indx = find_nearest(longitude, fixed_long)\n",
    "    axis_heat_depth.plot(heating_at_depth[:, long_indx, lat_indx] / volumes, radii/1000.)\n",
    "    axis_heat_depth.set(xlabel='Tidal Heating [W m-3]', ylabel='Radius [km]', xscale='log')\n",
    "    \n",
    "    axis_heat.plot([longitude[long_indx]], [latitude[lat_indx]], marker='x', c='r')\n",
    "    \n",
    "    fig_heat.tight_layout()\n",
    "\n",
    "interact(update_fig, \n",
    "         time_idx=widgets.IntSlider(min=0, max=len(time_domain)-1, step=1, value=0, description='Time Index'),\n",
    "         radius_idx=widgets.IntSlider(min=0, max=len(radii)-1, step=1, value=len(radii)-1, description='Radius Index'),\n",
    "         sum_depth=widgets.Checkbox(value=False, description='Sum Depths'),\n",
    "         show_flux=widgets.Checkbox(value=True, description='Heat Flux'),\n",
    "         orbit_average=widgets.Checkbox(value=False, description='Orbit Averaged'),\n",
    "         fixed_long=widgets.IntSlider(min=0, max=360, step=30, value=0, description='Fixed $\\\\phi$'),\n",
    "         fixed_lat=widgets.IntSlider(min=-90, max=90, step=30, value=0, description='Fixed $\\\\theta$')\n",
    ")"
   ]
  },
  {
   "cell_type": "markdown",
   "metadata": {},
   "source": [
    "## Compare Matrix Propagation vs. Shooting Method"
   ]
  },
  {
   "cell_type": "markdown",
   "metadata": {},
   "source": [
    "### Radial Function Results"
   ]
  },
  {
   "cell_type": "code",
   "execution_count": 15,
   "metadata": {},
   "outputs": [
    {
     "data": {
      "application/vnd.jupyter.widget-view+json": {
       "model_id": "37cc47b1ef0546d1a5800fa796c9eb89",
       "version_major": 2,
       "version_minor": 0
      },
      "text/plain": [
       "Canvas(toolbar=Toolbar(toolitems=[('Home', 'Reset original view', 'home', 'home'), ('Back', 'Back to previous …"
      ]
     },
     "metadata": {},
     "output_type": "display_data"
    }
   ],
   "source": [
    "def shooting_radial(non_dimensionalize=False, core_static=True, incompressible=False):\n",
    "    core_R = core_radius\n",
    "    radii = radius_array\n",
    "    surf_areas = surf_area_array\n",
    "    volumes = volume_array\n",
    "    depths = depth_array\n",
    "    gravitys = gravity_array\n",
    "    densitys = density_array\n",
    "    pressures = pressure_array\n",
    "    viscosities = viscosity_array\n",
    "    complex_compliances = complex_compliance_array\n",
    "    complex_shears = complex_shear_array\n",
    "    shear_moduli = shear_modulus_array\n",
    "    bulk_moduli = bulk_modulus_array\n",
    "    \n",
    "    if incompressible:\n",
    "        bulk_moduli = 1.0e100 * np.ones_like(bulk_modulus_array)\n",
    "        \n",
    "    if core_static:\n",
    "        int_rtol=1.0e-4\n",
    "        int_atol=1.0e-4\n",
    "        scipy_int_method='RK45'\n",
    "    else:\n",
    "        int_rtol=1.0e-8\n",
    "        int_atol=1.0e-7\n",
    "        scipy_int_method='RK45'\n",
    "    \n",
    "    # Use a liquid layer -> solid layer shooting function.\n",
    "    tidal_y, tidal_y_derivative = \\\n",
    "        calculate_ls(\n",
    "            radii, complex_shears, bulk_moduli,\n",
    "            densitys, gravitys, orbital_freq,\n",
    "            interface_1_radius=core_R, layer_0_static=core_static, layer_1_static=False,\n",
    "            order_l=2,\n",
    "            surface_boundary_condition=None,\n",
    "            use_kamata=True, use_julia=False, verbose=False,\n",
    "            int_rtol=int_rtol, int_atol=int_atol, scipy_int_method=scipy_int_method,\n",
    "            julia_int_method='Tsit5',\n",
    "            non_dimensionalize=non_dimensionalize, planet_bulk_density=world_bulk_density)\n",
    "\n",
    "    # Calculate parameters not found in the functions above\n",
    "    k2, h2, l2 = tidal_y[4, :] - 1., tidal_y[0, :] * gravitys, tidal_y[2, :] * gravitys\n",
    "    \n",
    "    return tidal_y, (k2, h2, l2)\n",
    "\n",
    "def prop_matrix_radial():\n",
    "    core_R = None\n",
    "    radii = radius_array[core_radius_index:]\n",
    "    surf_areas = surf_area_array[core_radius_index:]\n",
    "    volumes = volume_array[core_radius_index:]\n",
    "    depths = depth_array[core_radius_index:]\n",
    "    gravitys = gravity_array[core_radius_index:]\n",
    "    densitys = density_array[core_radius_index:]\n",
    "    pressures = pressure_array[core_radius_index:]\n",
    "    viscosities = viscosity_array[core_radius_index:]\n",
    "    complex_compliances = complex_compliance_array[core_radius_index:]\n",
    "    complex_shears = complex_shear_array[core_radius_index:]\n",
    "    shear_moduli = shear_modulus_array[core_radius_index:]\n",
    "    bulk_moduli = bulk_modulus_array[core_radius_index:]\n",
    "    \n",
    "    # Use the propagation matrix technique.\n",
    "    # Find the fundamental matrix; skip the innermost shell as that will be a boundary condition.\n",
    "    Y, Y_inv, derivative_mtx = fundamental_matrix_orderl2(radii, complex_shears, densitys, gravitys)\n",
    "\n",
    "    # Propagate the tidal solution through the world's shells\n",
    "    central_boundary_condition = np.zeros((6, 3), dtype=np.complex128)\n",
    "    # Roberts & Nimmo (2008): Liquid innermost zone.\n",
    "    central_boundary_condition[0, 0] = 0.05 + 0.0j\n",
    "    central_boundary_condition[1, 1] = 0.01 + 0.0j\n",
    "    central_boundary_condition[5, 2] = 1.0 + 0.0j\n",
    "\n",
    "    tidal_y, tidal_y_derivative = propagate(Y, Y_inv, derivative_mtx, central_boundary_condition, world_radius, order_l=2)\n",
    "\n",
    "    # Decompose the tidal solution into useful properties\n",
    "    #    There is a gradient in this function so we lose another shell. Thus the [1:] in viscoelastic properties\n",
    "    radial_sensitivity_to_shear, (k2, h2, l2) = \\\n",
    "        decompose(tidal_y, tidal_y_derivative, radii, gravitys, complex_shears, bulk_moduli, order_l=2)\n",
    "    \n",
    "    return tidal_y, (k2, h2, l2)\n",
    "\n",
    "shooting_tidal_y, shooting_loves = \\\n",
    "    shooting_radial(incompressible=False)\n",
    "shooting_tidal_y_incom, shooting_loves_incom = \\\n",
    "    shooting_radial(incompressible=True)\n",
    "shooting_tidal_y_dynamic, shooting_loves_dynamic = \\\n",
    "    shooting_radial(incompressible=False, core_static=False, non_dimensionalize=False)\n",
    "shooting_tidal_y_dynamic_incom, shooting_loves_dynamic_incom = \\\n",
    "    shooting_radial(incompressible=True, core_static=False, non_dimensionalize=False)\n",
    "propmtx_tidal_y, propmtx_loves = \\\n",
    "    prop_matrix_radial()\n",
    "\n",
    "ys = [shooting_tidal_y, shooting_tidal_y_incom, shooting_tidal_y_dynamic, shooting_tidal_y_dynamic_incom, propmtx_tidal_y]\n",
    "rs = [radius_array, radius_array, radius_array, radius_array, radius_array[core_radius_index:]]\n",
    "labels = ['Shooting', 'Shooting-Incom', 'Shooting-Dynamic', 'Shooting-Dyn-Incom', 'Prop Mtx']\n",
    "colors = ['yellow', 'olive', 'r', 'orange', 'b']\n",
    "\n",
    "fig = yplot(ys, rs, labels=labels, colors=colors)\n",
    "plt.subplots_adjust(wspace=.5, hspace=0.3)\n",
    "plt.show()"
   ]
  },
  {
   "cell_type": "markdown",
   "metadata": {},
   "source": [
    "### Radial Function Performance\n",
    "Here we will compare the perfomance of prop matrix vs. shooting method. Note this is not a purely apples to apples comparison since we are using wrapping functions and the prop matrix technique is not calculating over the full radial domain. But it will give an order of magnitude estimate"
   ]
  },
  {
   "cell_type": "code",
   "execution_count": 16,
   "metadata": {},
   "outputs": [],
   "source": [
    "run_performance = False\n",
    "\n",
    "if run_performance:\n",
    "    print('Shooting (Static Core)')\n",
    "    %timeit shooting_radial(incompressible=False)\n",
    "    print('\\nShooting (Static Core; Incompressible)')\n",
    "    %timeit shooting_radial(incompressible=True)\n",
    "    print('\\nShooting (Dynamic Core)')\n",
    "    %timeit shooting_radial(incompressible=False, core_static=False)\n",
    "    print('\\nShooting (Dynamic Core; Incompressible)')\n",
    "    %timeit shooting_radial(incompressible=True, core_static=False)\n",
    "    print(\"\\nShooting (Dynamic Core; Non-Dim'd)\")\n",
    "    %timeit shooting_radial(core_static=False, non_dimensionalize=True)\n",
    "    print(\"\\nShooting (Static Core; Non-Dim'd)\")\n",
    "    %timeit shooting_radial(core_static=True, non_dimensionalize=True)\n",
    "    print('\\nPropagation Matrix')\n",
    "    %timeit prop_matrix_radial()"
   ]
  }
 ],
 "metadata": {
  "kernelspec": {
   "display_name": "Python 3",
   "language": "python",
   "name": "python3"
  },
  "language_info": {
   "codemirror_mode": {
    "name": "ipython",
    "version": 3
   },
   "file_extension": ".py",
   "mimetype": "text/x-python",
   "name": "python",
   "nbconvert_exporter": "python",
   "pygments_lexer": "ipython3",
   "version": "3.9.4"
  }
 },
 "nbformat": 4,
 "nbformat_minor": 1
}
