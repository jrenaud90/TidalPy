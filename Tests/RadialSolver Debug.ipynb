{
 "cells": [
  {
   "cell_type": "code",
   "execution_count": 1,
   "id": "3aa09069",
   "metadata": {},
   "outputs": [
    {
     "name": "stdout",
     "output_type": "stream",
     "text": [
      "2024-01-23 15:47:33(+00:00:02::846728) - INFO     : TidalPy initializing...\n",
      "2024-01-23 15:47:33(+00:00:02::848753) - INFO     : Output directory: C:\\Users\\jrenaud\\Documents\\Software\\TidalPy\\Tests\\TidalPy-Run_20240123-1547\n",
      "2024-01-23 15:47:33(+00:00:02::848753) - INFO     : TidalPy initialization complete.\n"
     ]
    }
   ],
   "source": [
    "import warnings\n",
    "\n",
    "import pytest\n",
    "import numpy as np\n",
    "\n",
    "import TidalPy\n",
    "TidalPy.test_mode = True\n",
    "\n",
    "\n",
    "from TidalPy.radial_solver import radial_solver as rs_old\n",
    "from TidalPy.RadialSolver import radial_solver\n",
    "\n",
    "frequency = 1.0 / (86400.0 * 0.5)\n",
    "N = 100\n",
    "radius_array = np.linspace(0.1, 6000.e3, N)\n",
    "density_array = 3500. * np.ones_like(radius_array)\n",
    "bulk_modulus_array = 1.0e11 * np.ones_like(radius_array)\n",
    "viscosity_array = 1.0e20 * np.ones_like(radius_array)\n",
    "shear_array = 5.0e10 * np.ones_like(radius_array)\n",
    "\n",
    "from TidalPy.rheology.models import Maxwell\n",
    "complex_shear_modulus_array = np.empty(N, dtype=np.complex128)\n",
    "max_rho = Maxwell()\n",
    "max_rho.vectorize_modulus_viscosity(frequency, shear_array, viscosity_array, complex_shear_modulus_array)\n",
    "\n",
    "\n",
    "from TidalPy.utilities.spherical_helper import calculate_mass_gravity_arrays\n",
    "volume_array, mass_array, gravity_array = calculate_mass_gravity_arrays(radius_array, density_array)\n",
    "\n",
    "planet_bulk_density = np.sum(mass_array) / np.sum(volume_array)\n",
    "upper_radius_by_layer = (radius_array[-1],)\n",
    "\n",
    "is_solid = False\n",
    "is_static =  False\n",
    "is_incompressible= False\n",
    "method=2\n",
    "degree_l=2\n",
    "use_kamata=True\n",
    "is_solid_by_layer = (is_solid,)\n",
    "is_static_by_layer = (is_static,)\n",
    "is_incompressible_by_layer = (is_incompressible,)\n",
    "\n",
    "index_by_layer = (~np.isnan(radius_array),)\n",
    "\n",
    "integration_rtol = 1.0e-6\n",
    "integration_atol = 1.0e-10\n",
    "\n",
    "def test_RadialSolver():\n",
    "    \n",
    "    out = radial_solver(\n",
    "        radius_array, density_array, gravity_array, bulk_modulus_array, complex_shear_modulus_array,\n",
    "        frequency, planet_bulk_density, \n",
    "        is_solid_by_layer, is_static_by_layer, is_incompressible_by_layer, upper_radius_by_layer,\n",
    "        degree_l=degree_l, solve_for=None, use_kamata=use_kamata,\n",
    "        integration_method=method, integration_rtol=integration_rtol, integration_atol=integration_atol,\n",
    "        scale_rtols_by_layer_type=False,\n",
    "        max_num_steps=50_000_000, expected_size=250, max_step=0, max_ram_MB=4500,\n",
    "        limit_solution_to_radius=True, verbose=True, nondimensionalize=True)\n",
    "    \n",
    "    assert out.success\n",
    "    assert type(out.message) is str\n",
    "    assert type(out.result) is np.ndarray\n",
    "    assert out.result.shape == (6, N)\n",
    "    assert np.all(np.isnan(out.result) == False)\n",
    "\n",
    "def test_rs_old():\n",
    "    \n",
    "    out = rs_old(\n",
    "        radius_array, complex_shear_modulus_array, bulk_modulus_array,\n",
    "        density_array, gravity_array, frequency, planet_bulk_density,\n",
    "        is_solid_by_layer=is_solid_by_layer,\n",
    "        is_static_by_layer=is_static_by_layer,\n",
    "        indices_by_layer=index_by_layer,\n",
    "        order_l=2,\n",
    "        surface_boundary_condition=None, solve_load_numbers=False,\n",
    "        use_kamata=use_kamata,\n",
    "        integrator='numba', integration_method='RK45',\n",
    "        integration_rtol=integration_rtol, integration_atol=integration_atol,\n",
    "        verbose=True, nondimensionalize=True, incompressible=is_incompressible\n",
    "        )"
   ]
  },
  {
   "cell_type": "code",
   "execution_count": 2,
   "id": "e61bf6c7",
   "metadata": {},
   "outputs": [
    {
     "name": "stdout",
     "output_type": "stream",
     "text": [
      "Solving Layer 1 (using CPUDispatcher(<function nbrk_solver at 0x000001E442336480>) with 1)...\n",
      "\n",
      "Integration Done!\n",
      "Collapsing solutions...\n"
     ]
    },
    {
     "name": "stderr",
     "output_type": "stream",
     "text": [
      "C:\\Users\\jrenaud\\AppData\\Local\\anaconda3\\envs\\dev311\\Lib\\site-packages\\numba\\core\\ir_utils.py:2174: NumbaPendingDeprecationWarning: \u001b[1m\n",
      "Encountered the use of a type that is scheduled for deprecation: type 'reflected list' found for argument 'gravity_at_interfaces' of function 'collapse_solutions'.\n",
      "\n",
      "For more information visit https://numba.readthedocs.io/en/stable/reference/deprecation.html#deprecation-of-reflection-for-list-and-set-types\n",
      "\u001b[1m\n",
      "File \"..\\..\\..\\..\\AppData\\Local\\anaconda3\\envs\\dev311\\Lib\\site-packages\\TidalPy\\radial_solver\\numerical\\collapse\\generalized_collapse.py\", line 23:\u001b[0m\n",
      "\u001b[1m@njit(cacheable=True)\n",
      "\u001b[1mdef collapse_solutions(\n",
      "\u001b[0m\u001b[1m^\u001b[0m\u001b[0m\n",
      "\u001b[0m\n",
      "  warnings.warn(NumbaPendingDeprecationWarning(msg, loc=loc))\n",
      "C:\\Users\\jrenaud\\AppData\\Local\\anaconda3\\envs\\dev311\\Lib\\site-packages\\numba\\core\\ir_utils.py:2174: NumbaPendingDeprecationWarning: \u001b[1m\n",
      "Encountered the use of a type that is scheduled for deprecation: type 'reflected list' found for argument 'liquid_density_at_interfaces' of function 'collapse_solutions'.\n",
      "\n",
      "For more information visit https://numba.readthedocs.io/en/stable/reference/deprecation.html#deprecation-of-reflection-for-list-and-set-types\n",
      "\u001b[1m\n",
      "File \"..\\..\\..\\..\\AppData\\Local\\anaconda3\\envs\\dev311\\Lib\\site-packages\\TidalPy\\radial_solver\\numerical\\collapse\\generalized_collapse.py\", line 23:\u001b[0m\n",
      "\u001b[1m@njit(cacheable=True)\n",
      "\u001b[1mdef collapse_solutions(\n",
      "\u001b[0m\u001b[1m^\u001b[0m\u001b[0m\n",
      "\u001b[0m\n",
      "  warnings.warn(NumbaPendingDeprecationWarning(msg, loc=loc))\n"
     ]
    },
    {
     "name": "stdout",
     "output_type": "stream",
     "text": [
      "Re-dimensionalizing Radial Functions.\n",
      "Done!\n"
     ]
    }
   ],
   "source": [
    "test_rs_old()"
   ]
  },
  {
   "cell_type": "code",
   "execution_count": 3,
   "id": "bd3abedf",
   "metadata": {
    "scrolled": true
   },
   "outputs": [
    {
     "name": "stdout",
     "output_type": "stream",
     "text": [
      "Starting integration\n",
      "Collapsing radial solutions for \"0\" solver.\n",
      "Error encountered while applying surface boundary condition. ZGESV code: 2\n",
      "The solutions may not be valid at the surface.\n"
     ]
    },
    {
     "ename": "AssertionError",
     "evalue": "",
     "output_type": "error",
     "traceback": [
      "\u001b[1;31m---------------------------------------------------------------------------\u001b[0m",
      "\u001b[1;31mAssertionError\u001b[0m                            Traceback (most recent call last)",
      "Cell \u001b[1;32mIn[3], line 1\u001b[0m\n\u001b[1;32m----> 1\u001b[0m test_RadialSolver()\n",
      "Cell \u001b[1;32mIn[1], line 60\u001b[0m, in \u001b[0;36mtest_RadialSolver\u001b[1;34m()\u001b[0m\n\u001b[0;32m     48\u001b[0m \u001b[38;5;28;01mdef\u001b[39;00m \u001b[38;5;21mtest_RadialSolver\u001b[39m():\n\u001b[0;32m     50\u001b[0m     out \u001b[38;5;241m=\u001b[39m radial_solver(\n\u001b[0;32m     51\u001b[0m         radius_array, density_array, gravity_array, bulk_modulus_array, complex_shear_modulus_array,\n\u001b[0;32m     52\u001b[0m         frequency, planet_bulk_density, \n\u001b[1;32m   (...)\u001b[0m\n\u001b[0;32m     57\u001b[0m         max_num_steps\u001b[38;5;241m=\u001b[39m\u001b[38;5;241m50_000_000\u001b[39m, expected_size\u001b[38;5;241m=\u001b[39m\u001b[38;5;241m250\u001b[39m, max_step\u001b[38;5;241m=\u001b[39m\u001b[38;5;241m0\u001b[39m, max_ram_MB\u001b[38;5;241m=\u001b[39m\u001b[38;5;241m4500\u001b[39m,\n\u001b[0;32m     58\u001b[0m         limit_solution_to_radius\u001b[38;5;241m=\u001b[39m\u001b[38;5;28;01mTrue\u001b[39;00m, verbose\u001b[38;5;241m=\u001b[39m\u001b[38;5;28;01mTrue\u001b[39;00m, nondimensionalize\u001b[38;5;241m=\u001b[39m\u001b[38;5;28;01mTrue\u001b[39;00m)\n\u001b[1;32m---> 60\u001b[0m     \u001b[38;5;28;01massert\u001b[39;00m out\u001b[38;5;241m.\u001b[39msuccess\n\u001b[0;32m     61\u001b[0m     \u001b[38;5;28;01massert\u001b[39;00m \u001b[38;5;28mtype\u001b[39m(out\u001b[38;5;241m.\u001b[39mmessage) \u001b[38;5;129;01mis\u001b[39;00m \u001b[38;5;28mstr\u001b[39m\n\u001b[0;32m     62\u001b[0m     \u001b[38;5;28;01massert\u001b[39;00m \u001b[38;5;28mtype\u001b[39m(out\u001b[38;5;241m.\u001b[39mresult) \u001b[38;5;129;01mis\u001b[39;00m np\u001b[38;5;241m.\u001b[39mndarray\n",
      "\u001b[1;31mAssertionError\u001b[0m: "
     ]
    }
   ],
   "source": [
    "test_RadialSolver()"
   ]
  }
 ],
 "metadata": {
  "kernelspec": {
   "display_name": "Python 3 (ipykernel)",
   "language": "python",
   "name": "python3"
  },
  "language_info": {
   "codemirror_mode": {
    "name": "ipython",
    "version": 3
   },
   "file_extension": ".py",
   "mimetype": "text/x-python",
   "name": "python",
   "nbconvert_exporter": "python",
   "pygments_lexer": "ipython3",
   "version": "3.11.5"
  }
 },
 "nbformat": 4,
 "nbformat_minor": 5
}
