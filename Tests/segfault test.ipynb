{
 "cells": [
  {
   "cell_type": "code",
   "execution_count": 1,
   "id": "b4bb8ba1-f394-4a53-8ff6-9844c27b80d4",
   "metadata": {},
   "outputs": [
    {
     "name": "stdout",
     "output_type": "stream",
     "text": [
      "716859.9988000001\n"
     ]
    }
   ],
   "source": [
    "print(4.124626e-01 * 1738E3)"
   ]
  },
  {
   "cell_type": "code",
   "execution_count": 2,
   "id": "3af8b306-deb8-4a2f-9f0d-4f789b824c55",
   "metadata": {},
   "outputs": [
    {
     "name": "stdout",
     "output_type": "stream",
     "text": [
      "0.6.5a1.dev6\n",
      "114\n"
     ]
    }
   ],
   "source": [
    "import numpy as np\n",
    "import matplotlib.pyplot as plt\n",
    "import os\n",
    "from TidalPy import version\n",
    "print(version)\n",
    "from TidalPy.RadialSolver import radial_solver,build_rs_input_from_data\n",
    "from TidalPy.rheology import Elastic, Maxwell, Andrade\n",
    "\n",
    "weber2011_model = 'model.md'\n",
    "lmax = 30\n",
    "\n",
    "# define arrays of interior structure macro layers for integration for each model\n",
    "layer_types=(\"solid\",\"liquid\", \"solid\")\n",
    "is_static_by_layer=(False,True,False)\n",
    "comp=(False, False, False)\n",
    "upper_radius_by_layer=(240E3, 331E3, 1738E3)\n",
    "visc = 1E30\n",
    "LNs_hp = np.zeros((lmax-1))\n",
    "LNs_kp = np.zeros((lmax-1))\n",
    "LNs_lp = np.zeros((lmax-1))\n",
    "rtol = 1e-8\n",
    "atol = 1e-8\n",
    "intmethod = 'RK45'\n",
    "# Precompute orbital frequency constants\n",
    "seconds_in_month = 27 * 24 * 60 * 60.\n",
    "pi_2 = 2 * np.pi\n",
    "RR = 1738E3\n",
    "\n",
    "r,rho,vp,vs = np.loadtxt(weber2011_model,usecols=(0,1,2,3),delimiter=None,unpack=True,skiprows=3)\n",
    "    \n",
    "# Convert Seismic Velocities to Elastic Moduli\n",
    "mu = np.ascontiguousarray(np.multiply(np.square(vs),rho))\n",
    "K  = np.ascontiguousarray(np.subtract(np.multiply(np.square(vp),rho),mu*(4./3.)))\n",
    "lam = np.ascontiguousarray(np.subtract(K, mu*(2./3.)))\n",
    "\n",
    "eta   = np.ascontiguousarray(np.full(len(mu),visc))\n",
    "\n",
    "print(len(mu))\n",
    "\n",
    "# Precompute forcing frequencies\n",
    "forcing_frequency = pi_2 / seconds_in_month\n",
    "\n",
    "\n",
    "shear_rheology_model_tuple = (Elastic(),Elastic(),Elastic())\n",
    "bulk_rheology_model_tuple = (Elastic(),Elastic(),Elastic())"
   ]
  },
  {
   "cell_type": "code",
   "execution_count": 3,
   "id": "d0000dd0-baf9-4151-9859-6604459e5e1f",
   "metadata": {},
   "outputs": [
    {
     "name": "stderr",
     "output_type": "stream",
     "text": [
      "Layer 0 does not have its upper radius in the radius array which is required. It will be added; other parameters will be set to their values at the slice just before this upper radius value.\n",
      "Layer 1 starts at a different radius value than the previous layer's upper radius. Interface radius values must be provided twice, once for each layer above and below the interface. This radius value will be added; other parameters will be set to their values at the slice just after this upper radius value.\n",
      "Layer 1 does not have its upper radius in the radius array which is required. It will be added; other parameters will be set to their values at the slice just before this upper radius value.\n",
      "Layer 2 starts at a different radius value than the previous layer's upper radius. Interface radius values must be provided twice, once for each layer above and below the interface. This radius value will be added; other parameters will be set to their values at the slice just after this upper radius value.\n"
     ]
    }
   ],
   "source": [
    "# leave for debugging purposes\n",
    "rs_inputs = build_rs_input_from_data(\n",
    "    forcing_frequency,               # Forcing frequency, used to solve for the complex shear / bulk modulus (float64) [rad s-1]\n",
    "    np.ascontiguousarray(r),                    # np.ndarray for radius values throughout the planet. Must end at the planet's surface (last value = planet radius) [m]. (np.ndarray[double]; len = total_slices)\n",
    "    np.ascontiguousarray(rho),                   # np.ndarray for density values defined at each radius value [kg m-3]. (np.ndarray[double]; len = total_slices)\n",
    "    K,       # np.ndarray for static bulk modulus values defined at each radius value [Pa]. (np.ndarray[double]; len = total_slices)\n",
    "    mu,      # np.ndarray for static shear modulus values defined at each radius value [Pa]. (np.ndarray[double]; len = total_slices)\n",
    "    eta,            # np.ndarray for bulk viscosity values defined at each radius value [Pa s]. (np.ndarray[double]; len = total_slices)\n",
    "    eta,           # np.ndarray for shear viscosity values defined at each radius value [Pa s]. (np.ndarray[double]; len = total_slices)\n",
    "    upper_radius_by_layer,        # Tuple of floats for each layer defining its upper radius value [m]. (Tuple[double]; len = num_layers)\n",
    "    layer_types,                # Tuple of strings for each layer type. (Tuple[str]; len = num_layers)\n",
    "    is_static_by_layer,           # Tuple of booleans for if each layer should use the static assumption. (Tuple[bool]; len = num_layers)\n",
    "    comp,   # Tuple of booleans for if each layer should use the incompressible assumption. (Tuple[bool]; len = num_layers)\n",
    "    shear_rheology_model_tuple,      # Tuple of rheology instances for each layer's complex shear calculation. (Tuple[RheologyModelBase]; len = num_layers)\n",
    "    bulk_rheology_model_tuple,       # Tuple of rheology instances for each layer's complex bulk calculation. (Tuple[RheologyModelBase]; len = num_layers)\n",
    "    perform_checks = True,           # (optional, default=True) Flag to tell function to perform additional checks on inputs. There is a small performance hit, but recommended unless you are sure your input is valid. (boolean)\n",
    "    warnings = True                  # (optional, default=True) Flag to tell function to raise warnings if it has to make corrections to input arrays. (boolean)\n",
    ")"
   ]
  },
  {
   "cell_type": "code",
   "execution_count": null,
   "id": "2cffa838-28b7-4d1b-b1cb-56eee380ee17",
   "metadata": {},
   "outputs": [],
   "source": [
    "for i in range(2,lmax+1):\n",
    "    print(i)\n",
    "    radial_solution = radial_solver(\n",
    "        *rs_inputs,\n",
    "        degree_l=i,\n",
    "        solve_for=('tidal',),\n",
    "        starting_radius = 680859.9988000001,\n",
    "        start_radius_tolerance = 1.0e-5,\n",
    "        use_kamata=True,\n",
    "        integration_method=intmethod,\n",
    "        integration_rtol = rtol,\n",
    "        integration_atol = atol,\n",
    "        max_num_steps = 100_000_000,\n",
    "        expected_size = 500,\n",
    "        max_ram_MB = 1000,\n",
    "        max_step = 1000,\n",
    "        nondimensionalize = True,\n",
    "        verbose = True,\n",
    "        raise_on_fail = True\n",
    "        )\n",
    "\n",
    "    # Extract radial solution components\n",
    "    \n",
    "    if i==1:\n",
    "        kp = radial_solution.k-radial_solution.k\n",
    "        hp = radial_solution.h-radial_solution.k\n",
    "        lp = radial_solution.l-radial_solution.k\n",
    "    else:\n",
    "        kp = radial_solution.k\n",
    "        hp = radial_solution.h\n",
    "        lp = radial_solution.l\n",
    "    \n",
    "    LNs_hp[i-2] = hp\n",
    "    LNs_kp[i-2] = kp\n",
    "    LNs_lp[i-2] = lp\n",
    "       "
   ]
  },
  {
   "cell_type": "code",
   "execution_count": 3,
   "id": "2237c996-d62f-4c7f-b0b0-797a07e5dd7c",
   "metadata": {},
   "outputs": [
    {
     "data": {
      "text/plain": [
       "[<matplotlib.lines.Line2D at 0x2abff9b8500>]"
      ]
     },
     "execution_count": 3,
     "metadata": {},
     "output_type": "execute_result"
    },
    {
     "data": {
      "text/plain": [
       "<Figure size 640x480 with 0 Axes>"
      ]
     },
     "metadata": {},
     "output_type": "display_data"
    },
    {
     "data": {
      "image/png": "[encoded data removed]",
      "text/plain": [
       "<Figure size 1200x400 with 3 Axes>"
      ]
     },
     "metadata": {},
     "output_type": "display_data"
    }
   ],
   "source": [
    "# radial_solution.plot_interior()\n",
    "\n",
    "plt.clf()\n",
    "fig, axes = plt.subplots(1, 3, sharex=True, figsize=(12, 4))\n",
    "\n",
    "axes[0].plot(np.arange(2,lmax+1),LNs_kp, color=\"k\")\n",
    "\n",
    "\n",
    "axes[1].plot(np.arange(2,lmax+1),LNs_hp, color=\"k\")\n",
    "\n",
    "\n",
    "axes[2].plot(np.arange(2,lmax+1),LNs_lp, color=\"k\")"
   ]
  }
 ],
 "metadata": {
  "kernelspec": {
   "display_name": "Python 3 (ipykernel)",
   "language": "python",
   "name": "python3"
  },
  "language_info": {
   "codemirror_mode": {
    "name": "ipython",
    "version": 3
   },
   "file_extension": ".py",
   "mimetype": "text/x-python",
   "name": "python",
   "nbconvert_exporter": "python",
   "pygments_lexer": "ipython3",
   "version": "3.12.11"
  }
 },
 "nbformat": 4,
 "nbformat_minor": 5
}
