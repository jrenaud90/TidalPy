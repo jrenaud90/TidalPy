{
 "cells": [
  {
   "cell_type": "markdown",
   "metadata": {
    "collapsed": true,
    "pycharm": {
     "name": "#%% md\n"
    }
   },
   "source": [
    "# Multilayer Tidal Calculations\n",
    "In this cookbook we will explore how we can use TidalPy's multilayer tidal functions to calculate tidal heating as a function of radius.\n",
    "Here we are using a propagation matrix technique (SVC16) that is only valid in the incompressible limit.\n",
    "\n",
    "**References**:\n",
    "- SVC16 : Sabadini, Vermeerson, & Cambiotti (2016, DOI: [10.1007/978-94-017-7552-6](https://doi.org/10.1007/978-94-017-7552-6).\n",
    "- HH14  : Henning & Hurford (2014, DOI: [10.1088/0004-637X/789/1/30](https://doi.org/10.1088/0004-637X/789/1/30)).\n",
    "- TB05  : Tobie et al. (2005), DOI: [10.1016/j.icarus.2005.04.006](https://doi.org/10.1016/j.icarus.2005.04.006).\n",
    "- ID    : [IcyDwarf Code](https://github.com/MarcNeveu/IcyDwarf/blob/master/IcyDwarf/Thermal.h) written by Marc Neveu\n",
    "\n",
    "## Build the planet"
   ]
  },
  {
   "cell_type": "code",
   "execution_count": 1,
   "metadata": {
    "pycharm": {
     "name": "#%%\n"
    }
   },
   "outputs": [],
   "source": [
    "import numpy as np\n",
    "import matplotlib.pyplot as plt\n",
    "from ipywidgets import interact, widgets\n",
    "%matplotlib ipympl\n",
    "np.seterr(divide='raise')\n",
    "\n",
    "from TidalPy import build_world\n",
    "from TidalPy.constants import G\n",
    "from TidalPy.tools.conversions import orbital_motion2semi_a\n",
    "from TidalPy.utilities.numpy_helper import find_nearest\n",
    "from TidalPy.rheology.complex_compliance.compliance_models import maxwell_array, sundberg_array\n",
    "# Load TidalPy's multilayer functions\n",
    "from TidalPy.tides.multilayer import fundamental_matrix_orderl2, propagate, decompose\n",
    "from TidalPy.tides.potential.synchronous_low_e import tidal_potential\n",
    "from TidalPy.tides.multilayer.heating import calc_radial_tidal_heating\n",
    "from TidalPy.tides.multilayer.stress_strain import calculate_strain"
   ]
  },
  {
   "cell_type": "code",
   "execution_count": 2,
   "metadata": {
    "pycharm": {
     "name": "#%%\n"
    }
   },
   "outputs": [
    {
     "data": {
      "application/vnd.jupyter.widget-view+json": {
       "model_id": "b5e7111d69c244839a1b497a2b02160c",
       "version_major": 2,
       "version_minor": 0
      },
      "text/plain": [
       "Canvas(toolbar=Toolbar(toolitems=[('Home', 'Reset original view', 'home', 'home'), ('Back', 'Back to previous …"
      ]
     },
     "metadata": {},
     "output_type": "display_data"
    }
   ],
   "source": [
    "# For this example we will use the Io-Jupiter system\n",
    "io = build_world('Io')\n",
    "io.paint()\n",
    "jupiter = build_world('Jupiter')\n",
    "tidal_host_mass = jupiter.mass\n",
    "eccentricity = 0.0041\n",
    "orbital_freq = 2. * np.pi / (86400. * 1.76914)\n",
    "orbital_period = 2. * np.pi / orbital_freq\n",
    "semi_major_axis = orbital_motion2semi_a(orbital_freq, tidal_host_mass, io.mass)\n",
    "\n",
    "# We won't be using TidalPy's OOP approach (which currently does not use the multi-layer approach,\n",
    "#    instead relying on a homogenous model broken up by layers), instead we will pull out a few parameters needed\n",
    "#    for the multilayer calculations.\n",
    "radius_array = io.radii\n",
    "volume_array = io.volume_slices\n",
    "# Depth array skips the first shell since most viscoelastic properties are not defined there.\n",
    "depth_array = (io.radius - radius_array)[1:]\n",
    "gravity_array = io.gravities\n",
    "density_array = io.densities\n",
    "pressure_array = io.pressures\n",
    "\n",
    "# We will give the core and mantle a different viscoelastic state, but to do that we need to know what index\n",
    "#   corresponds to the top of the core.\n",
    "core_radius_cutoff = find_nearest(radius_array, io.core.radius)\n",
    "core_radius_cutoff_real = core_radius_cutoff - 1\n",
    "mantle_N = len(radius_array[core_radius_cutoff:])\n",
    "core_N = len(radius_array[:core_radius_cutoff])\n",
    "core_N_real = core_N - 1\n",
    "total_N = len(radius_array)\n",
    "total_N_real = total_N - 1\n",
    "\n",
    "# Determine some global properties\n",
    "world_radius = radius_array[-1]\n",
    "world_surf_area = 4. * np.pi * world_radius**2\n",
    "surface_gravity = gravity_array[-1]\n",
    "mantle_bulk_density = np.average(density_array[core_radius_cutoff:])\n",
    "\n",
    "# Setup Io's viscoelastic state - this is not particularly accurate, just meant for demonstration purposes\n",
    "\n",
    "# All of the viscoelastic properties are not defined at r=0, so we are skipping the inner-most shell. This is done through\n",
    "#    the \"len(radius_array) - 1\"\n",
    "\n",
    "# Tidal dissipation is not too sensitive to bulk modulus so we will keep it constant\n",
    "bulk_moduli = 200.0e9 * np.ones(len(radius_array) - 1)\n",
    "bulk_moduli[:core_radius_cutoff_real] = 800.0e9\n",
    "\n",
    "# Shear modulus and viscosity is much more important, but to keep this example simple we will assume a\n",
    "#   constant shear and an increasing viscosity towards the surface\n",
    "shear_moduli = 50.0e9 * np.ones(len(radius_array) - 1)\n",
    "shear_moduli[:core_radius_cutoff_real] = 80.0e9\n",
    "\n",
    "viscosities = 1.e50 * np.ones(len(radius_array) - 1)\n",
    "viscosities[core_radius_cutoff_real:] = np.logspace(23, 14, mantle_N)\n",
    "\n",
    "# Now we can calculate the complex_compliance of the world. We will just use a Maxwell model here but several\n",
    "#    others are available.\n",
    "complex_compliances = sundberg_array(orbital_freq, shear_moduli**(-1), viscosities)\n",
    "# We will specifically turn off tidal dissipation in the core by setting the imaginary portion of\n",
    "#    complex compliance = 0\n",
    "complex_compliances[:core_radius_cutoff_real] = \\\n",
    "    np.real(complex_compliances[:core_radius_cutoff_real]) + 1.e-50j * np.ones(core_N_real)\n",
    "complex_shears = complex_compliances**(-1)"
   ]
  },
  {
   "cell_type": "raw",
   "metadata": {},
   "source": [
    "#### BENCHMARK AGAINST HENNING RESULTS\n",
    "radius_array = np.linspace(0,6300e3, 20)\n",
    "depth_array = (6300e3 - radius_array)[1:]\n",
    "\n",
    "bulk_moduli = 200.0e9 * np.ones_like(depth_array)\n",
    "shear_moduli = 2.2e11 * np.ones_like(depth_array)\n",
    "viscosities = 1.0e20 * np.ones_like(depth_array)\n",
    "\n",
    "volume_array = (4. / 3.) * np.pi * (radius_array[1:]**3 - radius_array[:-1]**3)\n",
    "volume_array = np.concatenate(([0], volume_array))\n",
    "density_array = 5500. * np.ones_like(radius_array)\n",
    "mass_array = density_array * volume_array\n",
    "mass_below = np.asarray([sum(mass_array[:i+1]) for i in range(0, len(radius_array))])\n",
    "\n",
    "gravity_array = G * mass_below / radius_array**2\n",
    "obj_mass = sum(mass_array)\n",
    "\n",
    "\n",
    "tidal_host_mass = 1.988435e30\n",
    "eccentricity = 0.1\n",
    "orbital_freq = 2. * np.pi / (86400. * 6.)\n",
    "orbital_period = 2. * np.pi / orbital_freq\n",
    "semi_major_axis = orbital_motion2semi_a(orbital_freq, tidal_host_mass, obj_mass)\n",
    "\n",
    "complex_compliances = maxwell_array(orbital_freq, shear_moduli**(-1), viscosities)\n",
    "complex_shears = complex_compliances**(-1)\n",
    "\n",
    "fig_grav, ax_grav = plt.subplots()\n",
    "ax_grav.plot(gravity_array[1:], depth_array/1000., c='k', ls='-')\n",
    "ax_grav.set_ylim(ax_grav.get_ylim()[::-1])\n",
    "ax_grav.set(xlabel='Gravity [m/s/s]', ylabel='Depth [km]')\n",
    "\n",
    "# Determine some global properties\n",
    "world_radius = radius_array[-1]\n",
    "world_surf_area = 4. * np.pi * world_radius**2\n",
    "surface_gravity = gravity_array[-1]\n",
    "mantle_bulk_density = np.average(density_array)"
   ]
  },
  {
   "cell_type": "code",
   "execution_count": 3,
   "metadata": {
    "pycharm": {
     "name": "#%%\n"
    }
   },
   "outputs": [
    {
     "data": {
      "application/vnd.jupyter.widget-view+json": {
       "model_id": "8073c7a2cb6448c284da9da3fed925df",
       "version_major": 2,
       "version_minor": 0
      },
      "text/plain": [
       "Canvas(toolbar=Toolbar(toolitems=[('Home', 'Reset original view', 'home', 'home'), ('Back', 'Back to previous …"
      ]
     },
     "metadata": {},
     "output_type": "display_data"
    }
   ],
   "source": [
    "# Now let's see what this looks like\n",
    "fig_visco, ax_visco = plt.subplots()\n",
    "ax_shear = ax_visco.twiny()\n",
    "ax_comp = ax_visco.twiny()\n",
    "ax_comp.spines[\"top\"].set_position((\"axes\", 1.2))\n",
    "\n",
    "ax_visco.plot(viscosities, depth_array/1000., c='b', ls=':')\n",
    "ax_shear.plot(shear_moduli, depth_array/1000., c='r', ls='-.')\n",
    "ax_comp.plot(np.real(complex_shears), depth_array/1000., c='orange', ls='-')\n",
    "ax_comp.plot(np.imag(complex_shears), depth_array/1000., c='orange', ls='--')\n",
    "ax_visco.set_ylim(ax_visco.get_ylim()[::-1])\n",
    "ax_comp.set_ylim(ax_comp.get_ylim()[::-1])\n",
    "ax_shear.set_ylim(ax_shear.get_ylim()[::-1])\n",
    "\n",
    "ax_visco.set(ylabel='Depth [km]', xlabel='Viscosity [Pa s]', xscale='log')\n",
    "ax_shear.set(xlabel='Shear Modulus [Pa]', xscale='linear')\n",
    "ax_comp.set(xlabel='Complex Shear (Solid=Real, Dash=Imag) [Pa$^{-1}$]', xscale='log')\n",
    "for ax, color in zip([ax_visco, ax_shear, ax_comp], ['b', 'r', 'orange']):\n",
    "    if ax is ax_visco:\n",
    "        ax.spines['bottom'].set_color(color)\n",
    "    else:\n",
    "        ax.spines['top'].set_color(color)\n",
    "    ax.xaxis.label.set_color(color)\n",
    "\n",
    "fig_visco.tight_layout()\n",
    "plt.show()"
   ]
  },
  {
   "cell_type": "code",
   "execution_count": 4,
   "metadata": {
    "pycharm": {
     "name": "#%%\n"
    }
   },
   "outputs": [],
   "source": [
    "# Find the fundamental matrix; skip the innermost shell as that will be a boundary condition.\n",
    "Y, Y_inv, derivative_mtx = fundamental_matrix_orderl2(radius_array[1:], complex_shears, density_array[1:], gravity_array[1:])"
   ]
  },
  {
   "cell_type": "code",
   "execution_count": 5,
   "metadata": {
    "pycharm": {
     "name": "#%%\n"
    },
    "scrolled": false
   },
   "outputs": [],
   "source": [
    "# Propagate the tidal solution through the world's shells\n",
    "central_boundary_condition = np.zeros((6, 3), dtype=np.complex128)\n",
    "# Roberts & Nimmo (2000): Liquid innermost zone.\n",
    "central_boundary_condition[2, 0] = 1.0 + 0.0j\n",
    "central_boundary_condition[3, 1] = 1.0 + 0.0j\n",
    "central_boundary_condition[5, 2] = 1.0 + 0.0j\n",
    "\n",
    "tidal_y, tidal_y_deriv = propagate(Y, Y_inv, derivative_mtx, central_boundary_condition, world_radius, order_l=2)"
   ]
  },
  {
   "cell_type": "code",
   "execution_count": 6,
   "metadata": {
    "pycharm": {
     "name": "#%%\n"
    }
   },
   "outputs": [
    {
     "name": "stdout",
     "output_type": "stream",
     "text": [
      "Surface Love & Shida Numbers\n",
      "k_2 = 1.82e-01-3.21e-01j; h_2 = 3.31e-01-5.82e-01j; l_2 = 9.92e-02-1.75e-01j\n"
     ]
    },
    {
     "data": {
      "application/vnd.jupyter.widget-view+json": {
       "model_id": "268e7af000604593a3f6545d768a43e2",
       "version_major": 2,
       "version_minor": 0
      },
      "text/plain": [
       "Canvas(toolbar=Toolbar(toolitems=[('Home', 'Reset original view', 'home', 'home'), ('Back', 'Back to previous …"
      ]
     },
     "metadata": {},
     "output_type": "display_data"
    }
   ],
   "source": [
    "# Decompose the tidal solution into useful properties\n",
    "#    There is a gradient in this function so we lose another shell. Thus the [1:] in viscoelastic properties\n",
    "radial_sensitivity_to_shear, (k2, h2, l2) = \\\n",
    "    decompose(tidal_y, tidal_y_deriv, radius_array[1:], gravity_array[1:], complex_shears, bulk_moduli, order_l=2)\n",
    "\n",
    "print('Surface Love & Shida Numbers')\n",
    "print(f'k_2 = {k2[-1]:.2e}; h_2 = {h2[-1]:.2e}; l_2 = {l2[-1]:.2e}')\n",
    "\n",
    "# Let's plot these as a function of depth.\n",
    "fig_love, love_axes = plt.subplots(ncols=2)\n",
    "fig_love.suptitle('Love and Shida Numbers')\n",
    "\n",
    "for ax_i, ax in enumerate(love_axes):\n",
    "    ax_love_h = ax.twiny()\n",
    "    ax_love_l = ax.twiny()\n",
    "    ax_love_l.spines[\"top\"].set_position((\"axes\", 1.2))\n",
    "    \n",
    "    if ax_i == 0:\n",
    "        ax.plot(np.real(k2), depth_array/1000., c='b', ls='-')\n",
    "        ax_love_h.plot(np.real(h2), depth_array/1000., c='r', ls='-')\n",
    "        ax_love_l.plot(np.real(l2), depth_array/1000., c='orange', ls='-')\n",
    "        \n",
    "        ax.set(ylabel='Depth [km]', xlabel='Re[$k_{2}$]', xscale='linear')\n",
    "        ax_love_h.set(xlabel='Re[$h_{2}$]', xscale='linear')\n",
    "        ax_love_l.set(xlabel='Re[$l_{2}$]', xscale='linear')\n",
    "        ax.set_ylim(ax.get_ylim()[::-1])\n",
    "        ax_love_h.set_ylim(ax_love_h.get_ylim()[::-1])\n",
    "        ax_love_l.set_ylim(ax_love_l.get_ylim()[::-1])\n",
    "    else:\n",
    "        ax.plot(-np.imag(k2), depth_array/1000., c='b', ls='-')\n",
    "        ax_love_h.plot(-np.imag(h2), depth_array/1000., c='r', ls='-')\n",
    "        ax_love_l.plot(-np.imag(l2), depth_array/1000., c='orange', ls='-')\n",
    "\n",
    "        ax.set(ylabel='Depth [km]', xlabel='-Im[$k_{2}$]', xscale='log')\n",
    "        ax_love_h.set(xlabel='-Im[$h_{2}$]', xscale='log')\n",
    "        ax_love_l.set(xlabel='-Im[$l_{2}$]', xscale='log')\n",
    "        ax.set_ylim(ax.get_ylim()[::-1])\n",
    "        ax_love_h.set_ylim(ax_love_h.get_ylim()[::-1])\n",
    "        ax_love_l.set_ylim(ax_love_l.get_ylim()[::-1])\n",
    "\n",
    "    for ax2, color in zip([ax, ax_love_h, ax_love_l], ['b', 'r', 'orange']):\n",
    "        if ax2 is ax_visco:\n",
    "            ax2.spines['bottom'].set_color(color)\n",
    "        else:\n",
    "            ax2.spines['top'].set_color(color)\n",
    "        ax2.xaxis.label.set_color(color)\n",
    "\n",
    "fig_love.tight_layout()\n",
    "plt.show()"
   ]
  },
  {
   "cell_type": "markdown",
   "metadata": {},
   "source": [
    "## Calculate Tidal Displacement\n",
    "Utilizing the simplified tidal potential (low eccentricity, no obliquity, spin-synchronous)."
   ]
  },
  {
   "cell_type": "code",
   "execution_count": 7,
   "metadata": {},
   "outputs": [],
   "source": [
    "# Define latitude and longitude domain\n",
    "colatitude = np.linspace(0.1, 179.9, 25)\n",
    "latitude = colatitude - 90.\n",
    "longitude = np.linspace(0., 360., 30)\n",
    "long_mtx, lat_mtx, rad_mtx = np.meshgrid(np.radians(longitude), np.radians(colatitude), radius_array[1:])\n",
    "\n",
    "displacements_over_time = []\n",
    "\n",
    "time_domain = np.linspace(0., orbital_period, 50)\n",
    "\n",
    "for time in time_domain:\n",
    "    # Calculate the simplified tidal potential\n",
    "    potential, potential_dtheta, potential_dphi, potential_d2theta, potential_d2phi, potential_dtheta_dphi = \\\n",
    "        tidal_potential(rad_mtx, long_mtx, lat_mtx, orbital_freq, eccentricity, time)\n",
    "\n",
    "    # Scale by the tidal solutions\n",
    "    radial_displacement = tidal_y[0, -1] * potential\n",
    "    polar_displacement = tidal_y[2, -1] * potential_dtheta\n",
    "    azimuthal_displacement = tidal_y[2, -1] * potential_dphi / np.sin(lat_mtx)\n",
    "    \n",
    "    displacements_over_time.append((time / orbital_period, radial_displacement, polar_displacement, azimuthal_displacement))"
   ]
  },
  {
   "cell_type": "code",
   "execution_count": 8,
   "metadata": {
    "scrolled": false
   },
   "outputs": [
    {
     "data": {
      "application/vnd.jupyter.widget-view+json": {
       "model_id": "a5061916c14b43eba963cdea35142baa",
       "version_major": 2,
       "version_minor": 0
      },
      "text/plain": [
       "Canvas(toolbar=Toolbar(toolitems=[('Home', 'Reset original view', 'home', 'home'), ('Back', 'Back to previous …"
      ]
     },
     "metadata": {},
     "output_type": "display_data"
    },
    {
     "data": {
      "application/vnd.jupyter.widget-view+json": {
       "model_id": "cd3933de1e89498f8a3ed3244c49e0d2",
       "version_major": 2,
       "version_minor": 0
      },
      "text/plain": [
       "interactive(children=(IntSlider(value=0, description='time_i', max=49), IntSlider(value=97, description='radiu…"
      ]
     },
     "metadata": {},
     "output_type": "display_data"
    },
    {
     "data": {
      "text/plain": [
       "<function __main__.update_fig(time_i=0, radius_idx=0)>"
      ]
     },
     "execution_count": 8,
     "metadata": {},
     "output_type": "execute_result"
    }
   ],
   "source": [
    "# Plot results\n",
    "fig_disp, axes_disp = plt.subplots(ncols=3, figsize=(8, 5))\n",
    "plt.subplots_adjust(wspace=.5)\n",
    "ax_disp_r = axes_disp[0]\n",
    "ax_disp_th = axes_disp[1]\n",
    "ax_disp_phi = axes_disp[2]\n",
    "\n",
    "def update_fig(time_i=0, radius_idx=0):\n",
    "    time_orb_per, u_r, u_th, u_phi = displacements_over_time[time_i]\n",
    "    ax_disp_r.clear()\n",
    "    ax_disp_th.clear()\n",
    "    ax_disp_phi.clear()\n",
    "    fig_disp.suptitle(f'{time_orb_per:0.2f} Orbital Period')\n",
    "    ax_disp_r.set(ylabel='Latitude [$\\deg$]', xlabel='Longitude [$\\deg$]', title='Radial Displacement', xlim=(0, 360), ylim=(-90, 90))\n",
    "    ax_disp_th.set(ylabel='Latitude [$\\deg$]', xlabel='Longitude [$\\deg$]', title='Polar Displacement', xlim=(0, 360), ylim=(-90, 90))\n",
    "    ax_disp_phi.set(ylabel='Latitude [$\\deg$]', xlabel='Longitude [$\\deg$]', title='Azimuthal Displacement', xlim=(0, 360), ylim=(-90, 90))\n",
    "    ax_disp_r.contourf(longitude, latitude, u_r[:, :, radius_idx], 20)\n",
    "    ax_disp_th.contourf(longitude, latitude, u_th[:, :, radius_idx], 20)\n",
    "    ax_disp_phi.contourf(longitude, latitude, u_phi[:, :, radius_idx], 20)\n",
    "    fig_disp.tight_layout()\n",
    "\n",
    "interact(update_fig, time_i=(0, len(displacements_over_time)-1, 1),\n",
    "         radius_idx=widgets.IntSlider(min=0, max=len(radius_array[1:])-1, step=1, value=len(radius_array[1:])-1))"
   ]
  },
  {
   "cell_type": "markdown",
   "metadata": {},
   "source": [
    "## Orbit-Averaged, Tidal Heating as Function of Depth\n",
    "Here we will use a modified version of the heating(radius) equations found in TB05. "
   ]
  },
  {
   "cell_type": "code",
   "execution_count": 9,
   "metadata": {},
   "outputs": [
    {
     "name": "stdout",
     "output_type": "stream",
     "text": [
      "Total Heating 1.23e+15 W\n"
     ]
    },
    {
     "data": {
      "application/vnd.jupyter.widget-view+json": {
       "model_id": "bbdb4e75283449598eb91e362960daa9",
       "version_major": 2,
       "version_minor": 0
      },
      "text/plain": [
       "Canvas(toolbar=Toolbar(toolitems=[('Home', 'Reset original view', 'home', 'home'), ('Back', 'Back to previous …"
      ]
     },
     "metadata": {},
     "output_type": "display_data"
    }
   ],
   "source": [
    "# We will use the radial sensitivity to shear calculated in a previous step.\n",
    "vol_heating_as_func_radius = \\\n",
    "    calc_radial_tidal_heating(eccentricity, orbital_freq, semi_major_axis,\n",
    "                              tidal_host_mass,\n",
    "                              radius_array[1:], radial_sensitivity_to_shear,\n",
    "                              complex_shears, order_l=2)\n",
    "\n",
    "print(f'Total Heating {sum(vol_heating_as_func_radius * volume_array[1:] ):0.2e} W')\n",
    "# Plot result\n",
    "fig_heat_depth_mu, ax_heat_depth_mu = plt.subplots()\n",
    "ax_heat_depth_mu.set(ylabel='Depth [km]', xlabel='Volumetric Heating Rate [W m$^{-3}$]', xscale='log')\n",
    "ax_heat_depth_mu.plot(vol_heating_as_func_radius, depth_array / 1000.)\n",
    "ax_heat_depth_mu.set_ylim(ax_heat_depth_mu.get_ylim()[::-1])\n",
    "fig_heat_depth_mu.tight_layout()\n",
    "plt.show()"
   ]
  },
  {
   "cell_type": "markdown",
   "metadata": {},
   "source": [
    "## Strain and Stress Tensors\n",
    "Here we will calculate the strain and stress tensors using the methods described in TB05 and B13"
   ]
  },
  {
   "cell_type": "code",
   "execution_count": 10,
   "metadata": {},
   "outputs": [],
   "source": [
    "# Use the co-lat. and long. domain as setup in the displacements step\n",
    "\n",
    "strain_tensor_over_time = list()\n",
    "\n",
    "for time in time_domain:\n",
    "    # Calculate the simplified tidal potential\n",
    "    potential_STR, potential_dtheta_STR, potential_dphi_STR, potential_d2theta_STR, potential_d2phi_STR, potential_dtheta_dphi_STR = \\\n",
    "        tidal_potential(rad_mtx, long_mtx, lat_mtx, orbital_freq, eccentricity, time)\n",
    "    \n",
    "    potential_STR = [potential_STR[:, :, i] for i in range(len(radius_array[1:]))]\n",
    "    potential_dtheta_STR = [potential_dtheta_STR[:, :, i] for i in range(len(radius_array[1:]))]\n",
    "    potential_dphi_STR = [potential_dphi_STR[:, :, i] for i in range(len(radius_array[1:]))]\n",
    "    potential_d2theta_STR = [potential_d2theta_STR[:, :, i] for i in range(len(radius_array[1:]))]\n",
    "    potential_d2phi_STR = [potential_d2phi_STR[:, :, i] for i in range(len(radius_array[1:]))]\n",
    "    potential_dtheta_dphi_STR = [potential_dtheta_dphi_STR[:, :, i] for i in range(len(radius_array[1:]))]\n",
    "\n",
    "    # Use the tidal solutions to scale the potential and find the strains\n",
    "    strain_tensor = \\\n",
    "        calculate_strain(potential_STR, potential_dtheta_STR, potential_dphi_STR,\n",
    "                         potential_d2theta_STR, potential_d2phi_STR,\n",
    "                         potential_dtheta_dphi_STR, tidal_y, tidal_y_deriv,\n",
    "                         colatitude=lat_mtx[:, :, 0], radius_array=radius_array[1:], shear_moduli=complex_shears)\n",
    "    \n",
    "    strain_tensor_over_time.append((time / (60. * 60), strain_tensor))\n",
    "    # Note, strain tensor flips the radius position (radius comes first)"
   ]
  },
  {
   "cell_type": "markdown",
   "metadata": {},
   "source": [
    "### Strain over time"
   ]
  },
  {
   "cell_type": "code",
   "execution_count": 11,
   "metadata": {
    "scrolled": false
   },
   "outputs": [
    {
     "data": {
      "application/vnd.jupyter.widget-view+json": {
       "model_id": "e81ba609a2ec46ea9ac0661f734bc330",
       "version_major": 2,
       "version_minor": 0
      },
      "text/plain": [
       "Canvas(toolbar=Toolbar(toolitems=[('Home', 'Reset original view', 'home', 'home'), ('Back', 'Back to previous …"
      ]
     },
     "metadata": {},
     "output_type": "display_data"
    },
    {
     "data": {
      "application/vnd.jupyter.widget-view+json": {
       "model_id": "82dfa9934f4c4b6691d697919aa90f7c",
       "version_major": 2,
       "version_minor": 0
      },
      "text/plain": [
       "interactive(children=(IntSlider(value=0, description='time_i', max=49), IntSlider(value=97, description='radiu…"
      ]
     },
     "metadata": {},
     "output_type": "display_data"
    },
    {
     "data": {
      "text/plain": [
       "<function __main__.update_fig(time_i=0, radius_idx=0)>"
      ]
     },
     "execution_count": 11,
     "metadata": {},
     "output_type": "execute_result"
    }
   ],
   "source": [
    "# Plot results\n",
    "fig_strain_time, axes_strain_time = plt.subplots(ncols=3, nrows=2, figsize=(8, 5))\n",
    "plt.subplots_adjust(wspace=.5, hspace=0.3)\n",
    "ax_strain_r = axes_strain_time[0, 0]\n",
    "ax_strain_th = axes_strain_time[0, 1]\n",
    "ax_strain_phi = axes_strain_time[0, 2]\n",
    "ax_strain_rth = axes_strain_time[1, 0]\n",
    "ax_strain_rphi = axes_strain_time[1, 1]\n",
    "ax_strain_thphi = axes_strain_time[1, 2]\n",
    "\n",
    "\n",
    "def update_fig(time_i=0, radius_idx=0):\n",
    "    time_orb_per, strains_by_r = strain_tensor_over_time[time_i]\n",
    "    strains_at_surf = strains_by_r[radius_idx, :, :, :, :]\n",
    "    e_rr = strains_at_surf[0, 0, :, :]\n",
    "    e_thth = strains_at_surf[1, 1, :, :]\n",
    "    e_phph = strains_at_surf[2, 2, :, :]\n",
    "    e_rth = 2. * strains_at_surf[0, 1, :, :]\n",
    "    e_rph = 2. * strains_at_surf[0, 2, :, :]\n",
    "    e_thph = 2. * strains_at_surf[1, 2, :, :]\n",
    "    \n",
    "    ax_strain_r.clear()\n",
    "    ax_strain_th.clear()\n",
    "    ax_strain_phi.clear()\n",
    "    ax_strain_rth.clear()\n",
    "    ax_strain_rphi.clear()\n",
    "    ax_strain_thphi.clear()\n",
    "    fig_strain_time.suptitle(f'Surface Strains; {time_orb_per:0.2f} Orbital Period')\n",
    "    ax_strain_r.set(ylabel='Latitude [$\\deg$]', xlabel='Longitude [$\\deg$]',\n",
    "                    title='$\\\\epsilon_{rr}$', xlim=(0, 360), ylim=(-90, 90))\n",
    "    ax_strain_th.set(ylabel='Latitude [$\\deg$]', xlabel='Longitude [$\\deg$]',\n",
    "                     title='$\\\\epsilon_{\\\\theta\\\\theta}$', xlim=(0, 360), ylim=(-90, 90))\n",
    "    ax_strain_phi.set(ylabel='Latitude [$\\deg$]', xlabel='Longitude [$\\deg$]',\n",
    "                      title='$\\\\epsilon_{\\\\phi\\\\phi}$', xlim=(0, 360), ylim=(-90, 90))\n",
    "    ax_strain_rth.set(ylabel='Latitude [$\\deg$]', xlabel='Longitude [$\\deg$]',\n",
    "                      title='$\\\\epsilon_{r\\\\theta}$', xlim=(0, 360), ylim=(-90, 90))\n",
    "    ax_strain_rphi.set(ylabel='Latitude [$\\deg$]', xlabel='Longitude [$\\deg$]',\n",
    "                       title='$\\\\epsilon_{r\\\\phi}$', xlim=(0, 360), ylim=(-90, 90))\n",
    "    ax_strain_thphi.set(ylabel='Latitude [$\\deg$]', xlabel='Longitude [$\\deg$]',\n",
    "                        title='$\\\\epsilon_{\\\\theta\\\\phi}$', xlim=(0, 360), ylim=(-90, 90))\n",
    "    ax_strain_r.contourf(longitude, latitude, e_rr, 10)\n",
    "    ax_strain_th.contourf(longitude, latitude, e_thth, 10)\n",
    "    ax_strain_phi.contourf(longitude, latitude, e_phph, 10)\n",
    "    ax_strain_rth.contourf(longitude, latitude, e_rth, 10)\n",
    "    ax_strain_rphi.contourf(longitude, latitude, e_rph, 10)\n",
    "    ax_strain_thphi.contourf(longitude, latitude, e_thph, 10)\n",
    "    \n",
    "    fig_strain_time.tight_layout()\n",
    "\n",
    "interact(update_fig, time_i=(0, len(strain_tensor_over_time)-1, 1),\n",
    "         radius_idx=widgets.IntSlider(min=0, max=len(radius_array[1:])-1, step=1, value=len(radius_array[1:])-1))"
   ]
  },
  {
   "cell_type": "markdown",
   "metadata": {},
   "source": [
    "### Stress over depth\n",
    "**Latitude: 0, Longitude: 0**"
   ]
  },
  {
   "cell_type": "code",
   "execution_count": 18,
   "metadata": {},
   "outputs": [
    {
     "data": {
      "application/vnd.jupyter.widget-view+json": {
       "model_id": "08f57f1412424ab291004c7637082c63",
       "version_major": 2,
       "version_minor": 0
      },
      "text/plain": [
       "Canvas(toolbar=Toolbar(toolitems=[('Home', 'Reset original view', 'home', 'home'), ('Back', 'Back to previous …"
      ]
     },
     "metadata": {},
     "output_type": "display_data"
    }
   ],
   "source": [
    "latitude_idx = find_nearest(latitude, 0.)\n",
    "longitude_idx = find_nearest(longitude, 0.)\n",
    "\n",
    "# Pull out data at t=0 and the desired lat/long\n",
    "time_orbital_period, strains_by_r = strain_tensor_over_time[0]\n",
    "\n",
    "\n",
    "\n",
    "# Plot results\n",
    "fig_strain_depth, axes_strain_depth = plt.subplots(ncols=3, nrows=2, figsize=(8, 5))\n",
    "plt.subplots_adjust(wspace=.6, hspace=0.3)\n",
    "ax_strain_depth_r = axes_strain_depth[0, 0]\n",
    "ax_strain_depth_th = axes_strain_depth[0, 1]\n",
    "ax_strain_depth_phi = axes_strain_depth[0, 2]\n",
    "ax_strain_depth_rth = axes_strain_depth[1, 0]\n",
    "ax_strain_depth_rphi = axes_strain_depth[1, 1]\n",
    "ax_strain_depth_thphi = axes_strain_depth[1, 2]\n",
    "ax_strain_depth_r.set(ylabel='Depth [km]', title='$\\\\epsilon_{rr}$')\n",
    "ax_strain_depth_th.set(title='$\\\\epsilon_{\\\\theta\\\\theta}$')\n",
    "ax_strain_depth_phi.set(title='$\\\\epsilon_{\\\\phi\\\\phi}$')\n",
    "ax_strain_depth_rth.set(ylabel='Depth [km]', title='$\\\\epsilon_{r\\\\theta}$')\n",
    "ax_strain_depth_rphi.set(title='$\\\\epsilon_{r\\\\phi}$')\n",
    "ax_strain_depth_thphi.set(title='$\\\\epsilon_{\\\\theta\\\\phi}$')\n",
    "\n",
    "strains_as_radius = strains_by_r[:, :, :, longitude_idx, latitude_idx]\n",
    "\n",
    "e_rr_depth = strains_as_radius[:, 0, 0]\n",
    "e_thth_depth = strains_as_radius[:, 1, 1]\n",
    "e_phph_depth = strains_as_radius[:, 2, 2]\n",
    "e_rth_depth = 2. * strains_as_radius[:, 0, 1]\n",
    "e_rph_depth = 2. * strains_as_radius[:, 0, 2]\n",
    "e_thph_depth = 2. * strains_as_radius[:, 1, 2]\n",
    "\n",
    "ax_strain_depth_r.plot(e_rr_depth, depth_array / 1000., 'k-')\n",
    "ax_strain_depth_th.plot(e_thth_depth, depth_array / 1000., 'k-')\n",
    "ax_strain_depth_phi.plot(e_phph_depth, depth_array / 1000., 'k-')\n",
    "ax_strain_depth_rth.plot(e_rth_depth, depth_array / 1000., 'k-')\n",
    "ax_strain_depth_rphi.plot(e_rph_depth, depth_array / 1000., 'k-')\n",
    "ax_strain_depth_thphi.plot(e_thph_depth, depth_array / 1000., 'k-')\n",
    "\n",
    "ax_strain_depth_r.set_ylim(ax_strain_depth_r.get_ylim()[::-1])\n",
    "ax_strain_depth_th.set_ylim(ax_strain_depth_th.get_ylim()[::-1])\n",
    "ax_strain_depth_phi.set_ylim(ax_strain_depth_phi.get_ylim()[::-1])\n",
    "ax_strain_depth_rth.set_ylim(ax_strain_depth_rth.get_ylim()[::-1])\n",
    "ax_strain_depth_rphi.set_ylim(ax_strain_depth_rphi.get_ylim()[::-1])\n",
    "ax_strain_depth_thphi.set_ylim(ax_strain_depth_thphi.get_ylim()[::-1])\n",
    "\n",
    "fig_strain_depth.tight_layout()\n",
    "plt.show()"
   ]
  },
  {
   "cell_type": "markdown",
   "metadata": {},
   "source": [
    "## Tidal Heating Rate"
   ]
  },
  {
   "cell_type": "code",
   "execution_count": 13,
   "metadata": {},
   "outputs": [
    {
     "data": {
      "application/vnd.jupyter.widget-view+json": {
       "model_id": "b5a0d6cbfbbf40c3bb3dad687b0e8087",
       "version_major": 2,
       "version_minor": 0
      },
      "text/plain": [
       "Canvas(toolbar=Toolbar(toolitems=[('Home', 'Reset original view', 'home', 'home'), ('Back', 'Back to previous …"
      ]
     },
     "metadata": {},
     "output_type": "display_data"
    },
    {
     "data": {
      "application/vnd.jupyter.widget-view+json": {
       "model_id": "3a2751f164c843a0bad1b16b2f0bd76d",
       "version_major": 2,
       "version_minor": 0
      },
      "text/plain": [
       "interactive(children=(IntSlider(value=0, description='time_i', max=49), IntSlider(value=97, description='r_ind…"
      ]
     },
     "metadata": {},
     "output_type": "display_data"
    },
    {
     "data": {
      "text/plain": [
       "<function __main__.update_fig(time_i=0, r_index=-1, sum_depth=False, fix_negatives=False, show_flux=True, heat_method_2=True, fixed_long=0.0, fixed_lat=0.0, orbit_average=False)>"
      ]
     },
     "execution_count": 13,
     "metadata": {},
     "output_type": "execute_result"
    }
   ],
   "source": [
    "fig_heat, axes_heat = plt.subplots(ncols=2, figsize=(8, 4))\n",
    "plt.subplots_adjust(wspace=4, hspace=0.3)\n",
    "\n",
    "axis_heat = axes_heat[0]\n",
    "axis_heat_depth = axes_heat[1]\n",
    "\n",
    "cb_heat = None\n",
    "\n",
    "\n",
    "heating1_over_time = list()\n",
    "heating2_over_time = list()\n",
    "\n",
    "def calc_heating_at_depth(r_index_to_use, time_i_to_use):\n",
    "\n",
    "    time_orbital_period, strains_by_r = strain_tensor_over_time[time_i_to_use]\n",
    "    strains_at_r = strains_by_r[r_index_to_use, :, :, :, :]\n",
    "    # Per Appendix A of Beuthe (2013), the heating rate can be found from the strain as:\n",
    "    averaged_strain_sqrd = np.zeros_like(strains_at_r[0, 0, :, :])\n",
    "    stress = np.zeros_like(strains_at_r)\n",
    "    heating_opt2 = np.zeros_like(strains_at_r[0, 0, :, :])\n",
    "\n",
    "    trace = strains_at_r[0, 0, :, :] + strains_at_r[1, 1, :, :] + strains_at_r[2, 2, :, :]\n",
    "\n",
    "    for i in range(3):\n",
    "        for j in range(3):\n",
    "            averaged_strain_sqrd += strains_at_r[i, j, :, :] * np.conj(strains_at_r[i, j, :, :])\n",
    "\n",
    "            stress[i, j, :, :] = 2. * complex_shears[r_index_to_use] * strains_at_r[i, j, :, :]\n",
    "\n",
    "            if i == j:\n",
    "                stress[i, j, :, :] += (bulk_moduli[r_index_to_use] - (2. / 3.) * complex_shears[r_index_to_use]) * trace\n",
    "\n",
    "            heating_opt2 = (orbital_freq / 2.) * (np.imag(stress[i, j, :, :]) * np.real(strains_at_r[i, j, :, :]) -\n",
    "                                               np.real(stress[i, j, :, :]) * np.imag(strains_at_r[i, j, :, :])) \n",
    "\n",
    "    heating_opt1 = orbital_freq * np.imag(complex_shears[r_index_to_use]) * \\\n",
    "        (averaged_strain_sqrd - (1. / 3.) * np.abs(trace)**2) * volume_array[1:][r_index_to_use]\n",
    "\n",
    "    heating_opt2 *= volume_array[1:][r_index_to_use]\n",
    "\n",
    "    return heating_opt1, heating_opt2\n",
    "\n",
    "for ti, t in enumerate(time_domain):    \n",
    "    heating1_at_depth = list()\n",
    "    heating2_at_depth = list()\n",
    "    for ri, r in enumerate(radius_array[1:]):\n",
    "        heating, heating_2 = calc_heating_at_depth(ri, ti)\n",
    "        heating1_at_depth.append(heating)\n",
    "        heating2_at_depth.append(heating_2)\n",
    "\n",
    "    heating1_at_depth = np.asarray(heating1_at_depth)\n",
    "    heating2_at_depth = np.asarray(heating2_at_depth)\n",
    "\n",
    "    heating1_over_time.append(heating1_at_depth)\n",
    "    heating2_over_time.append(heating2_at_depth)\n",
    "\n",
    "heating1_over_time = np.asarray(heating1_over_time)\n",
    "heating2_over_time = np.asarray(heating2_over_time)\n",
    "\n",
    "def update_fig(time_i=0, r_index =-1, sum_depth=False, fix_negatives = False, show_flux = True, heat_method_2 = True,\n",
    "               fixed_long=0., fixed_lat=0., orbit_average=False):\n",
    "    \n",
    "    global cb_heat\n",
    "    \n",
    "    if orbit_average:\n",
    "        heating = np.sum(heating1_over_time, axis=0)\n",
    "        heating_2 = np.sum(heating2_over_time, axis=0)\n",
    "        \n",
    "        heating1_at_depth = np.sum(heating1_over_time, axis=0)\n",
    "        heating2_at_depth = np.sum(heating2_over_time, axis=0)\n",
    "    else:\n",
    "        heating = heating1_over_time[time_i, :, :, :]\n",
    "        heating_2 = heating2_over_time[time_i, :, :, :]\n",
    "        \n",
    "        heating1_at_depth = heating1_over_time[time_i, :, :, :]\n",
    "        heating2_at_depth = heating2_over_time[time_i, :, :, :]\n",
    "\n",
    "    if sum_depth:\n",
    "        heating = np.sum(heating1_at_depth, axis=0)\n",
    "        heating_2 = np.sum(heating2_at_depth, axis=0)\n",
    "    else:\n",
    "        heating = heating1_at_depth[r_index, :, :]\n",
    "        heating_2 = heating2_at_depth[r_index, :, :]\n",
    "    \n",
    "    if heat_method_2:\n",
    "        heating_to_use = heating_2\n",
    "        heating_depth = heating2_at_depth\n",
    "    else:\n",
    "        heating_to_use = heating\n",
    "        heating_depth = heating1_at_depth\n",
    "    \n",
    "    if fix_negatives:\n",
    "        # Check for negatives\n",
    "        heating_to_use[heating_to_use < 0.] = 0.\n",
    "        heating_depth[heating_depth < 0.] = 0.\n",
    "    \n",
    "    axis_heat.clear()\n",
    "    axis_heat_depth.clear()\n",
    "    \n",
    "    plt.subplots_adjust(wspace=4, hspace=0.3)\n",
    "    if cb_heat is not None:\n",
    "        cb_heat.remove()\n",
    "    axis_heat.set(title='Tidal Heating [W]')\n",
    "    if show_flux:\n",
    "        if sum_depth:\n",
    "            heating_to_use /= world_surf_area\n",
    "        else:\n",
    "            heating_to_use /= 2. * np.pi * radius_array[1:][r_index]**2\n",
    "        axis_heat.set(title='Surface Heating Flux [W m-2]')\n",
    "    axis_heat.set(ylabel='Latitude [$\\deg$]', xlabel='Longitude [$\\deg$]', xlim=(0, 360), ylim=(-90, 90))\n",
    "    cb_data = axis_heat.contourf(longitude, latitude, heating_to_use, 5)\n",
    "    cb_heat = plt.colorbar(cb_data, ax=axis_heat)\n",
    "    \n",
    "    fig_heat.tight_layout()\n",
    "    \n",
    "    # plot depth at sub-stellar point\n",
    "    lat_indx = find_nearest(latitude, fixed_lat)    \n",
    "    long_indx = find_nearest(longitude, fixed_long)\n",
    "    print(long_indx, lat_indx)\n",
    "    print(heating_depth.shape)\n",
    "    axis_heat_depth.plot(heating_depth[:, lat_indx, long_indx] / volume_array[1:], depth_array/1000.)\n",
    "    axis_heat_depth.set(xlabel='Tidal Heating [W m-3]', ylabel='Depth [km]')\n",
    "    axis_heat_depth.set_ylim(axis_heat_depth.get_ylim()[::-1])\n",
    "    \n",
    "    axis_heat.plot([longitude[long_indx]], [latitude[lat_indx]], marker='x', c='r')\n",
    "\n",
    "interact(update_fig, time_i=(0, len(strain_tensor_over_time)-1, 1),\n",
    "         r_index=widgets.IntSlider(min=0, max=len(radius_array[1:])-1, step=1, value=len(radius_array[1:])-1),\n",
    "         sum_depth=False, show_flux=True, heat_method_2=True,\n",
    "         fixed_long=widgets.IntSlider(min=0, max=360, step=30, value=0),\n",
    "         fixed_lat=widgets.IntSlider(min=-90, max=90, step=30, value=0))"
   ]
  },
  {
   "cell_type": "markdown",
   "metadata": {},
   "source": [
    "## Performance\n",
    "Here we are just doing a simple check on how the propagation functions perform"
   ]
  },
  {
   "cell_type": "code",
   "execution_count": 14,
   "metadata": {},
   "outputs": [],
   "source": [
    "run_performance = False\n",
    "\n",
    "if run_performance:\n",
    "    print('Building Matricies')\n",
    "    %timeit fundamental_matrix_orderl2(radius_array[1:], complex_shears[1:], density_array[1:], gravity_array[1:])\n",
    "\n",
    "    print('Propagating Solutions')\n",
    "    %timeit propagate(Y, Y_inv, central_boundary_condition, world_radius, order_l=2)\n",
    "\n",
    "    print('Decomposition')\n",
    "    %timeit decompose(tidal_y, radius_array[1:], gravity_array[1:], complex_shears[2:], bulk_moduli[2:], order_l=2)"
   ]
  }
 ],
 "metadata": {
  "kernelspec": {
   "display_name": "Python 3",
   "language": "python",
   "name": "python3"
  },
  "language_info": {
   "codemirror_mode": {
    "name": "ipython",
    "version": 3
   },
   "file_extension": ".py",
   "mimetype": "text/x-python",
   "name": "python",
   "nbconvert_exporter": "python",
   "pygments_lexer": "ipython3",
   "version": "3.8.5"
  }
 },
 "nbformat": 4,
 "nbformat_minor": 1
}
