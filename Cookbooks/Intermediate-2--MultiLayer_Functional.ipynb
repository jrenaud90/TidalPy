{
 "cells": [
  {
   "cell_type": "markdown",
   "metadata": {
    "collapsed": true,
    "pycharm": {
     "name": "#%% md\n"
    }
   },
   "source": [
    "# Multilayer Tidal Calculations\n",
    "In this cookbook we will explore how we can use TidalPy's multilayer tidal functions to calculate tidal heating as a function of radius.\n",
    "Here we are using a propagation matrix technique (SVC16) that is only valid in the incompressible limit.\n",
    "\n",
    "**References**:\n",
    "- SVC16 : Sabadini, Vermeerson, & Cambiotti (2016, DOI: [10.1007/978-94-017-7552-6](https://doi.org/10.1007/978-94-017-7552-6).\n",
    "- HH14  : Henning & Hurford (2014, DOI: [10.1088/0004-637X/789/1/30](https://doi.org/10.1088/0004-637X/789/1/30)).\n",
    "- TB05  : Tobie et al. (2005), DOI: [10.1016/j.icarus.2005.04.006](https://doi.org/10.1016/j.icarus.2005.04.006).\n",
    "- ID    : [IcyDwarf Code](https://github.com/MarcNeveu/IcyDwarf/blob/master/IcyDwarf/Thermal.h) written by Marc Neveu\n",
    "\n",
    "## Build the planet"
   ]
  },
  {
   "cell_type": "code",
   "execution_count": 1,
   "metadata": {
    "pycharm": {
     "name": "#%%\n"
    }
   },
   "outputs": [
    {
     "data": {
      "application/vnd.jupyter.widget-view+json": {
       "model_id": "4a80cf3d5043471bb2a369b0b1371495",
       "version_major": 2,
       "version_minor": 0
      },
      "text/plain": [
       "Canvas(toolbar=Toolbar(toolitems=[('Home', 'Reset original view', 'home', 'home'), ('Back', 'Back to previous …"
      ]
     },
     "metadata": {},
     "output_type": "display_data"
    }
   ],
   "source": [
    "import numpy as np\n",
    "import matplotlib.pyplot as plt\n",
    "%matplotlib ipympl\n",
    "\n",
    "from TidalPy import build_world\n",
    "from TidalPy.tools.conversions import orbital_motion2semi_a\n",
    "from TidalPy.utilities.numpy_helper import find_nearest\n",
    "# For this example we will use the Io-Jupiter system\n",
    "io = build_world('Io')\n",
    "io.paint()\n",
    "jupiter = build_world('Jupiter')\n",
    "eccentricity = 0.0041\n",
    "orbital_freq = 2. * np.pi / (86400. * 1.76914)\n",
    "semi_major_axis = orbital_motion2semi_a(orbital_freq, jupiter.mass, io.mass)\n",
    "\n",
    "# We won't be using TidalPy's OOP approach (which currently does not use the multi-layer approach,\n",
    "#    instead relying on a homogenous model broken up by layers), instead we will pull out a few parameters needed\n",
    "#    for the multilayer calculations.\n",
    "radius_array = io.radii\n",
    "volume_array = io.volume_slices\n",
    "# Depth array skips the first shell since most viscoelastic properties are not defined there.\n",
    "depth_array = (io.radius - radius_array)[1:]\n",
    "gravity_array = io.gravities\n",
    "density_array = io.densities\n",
    "pressure_array = io.pressures\n",
    "\n",
    "# We will give the core and mantle a different viscoelastic state, but to do that we need to know what index\n",
    "#   corresponds to the top of the core.\n",
    "core_radius_cutoff = find_nearest(radius_array, io.core.radius)\n",
    "core_radius_cutoff_real = core_radius_cutoff - 1\n",
    "mantle_N = len(radius_array[core_radius_cutoff:])\n",
    "core_N = len(radius_array[:core_radius_cutoff])\n",
    "core_N_real = core_N - 1\n",
    "total_N = len(radius_array)\n",
    "total_N_real = total_N - 1\n",
    "\n",
    "# Determine some global properties\n",
    "world_radius = radius_array[-1]\n",
    "surface_gravity = gravity_array[-1]\n",
    "mantle_bulk_density = np.average(density_array[core_radius_cutoff:])"
   ]
  },
  {
   "cell_type": "code",
   "execution_count": 2,
   "metadata": {
    "pycharm": {
     "name": "#%%\n"
    }
   },
   "outputs": [
    {
     "data": {
      "application/vnd.jupyter.widget-view+json": {
       "model_id": "cff59236389e4bd296a7aee39d7ce397",
       "version_major": 2,
       "version_minor": 0
      },
      "text/plain": [
       "Canvas(toolbar=Toolbar(toolitems=[('Home', 'Reset original view', 'home', 'home'), ('Back', 'Back to previous …"
      ]
     },
     "metadata": {},
     "output_type": "display_data"
    }
   ],
   "source": [
    "# Setup Io's viscoelastic state - this is not particularly accurate, just meant for demonstration purposes\n",
    "\n",
    "# All of the viscoelastic properties are not defined at r=0, so we are skipping the inner-most shell. This is done through\n",
    "#    the \"len(radius_array) - 1\"\n",
    "\n",
    "# Tidal dissipation is not too sensitive to bulk modulus so we will keep it constant\n",
    "bulk_moduli = 200.0e9 * np.ones(len(radius_array) - 1)\n",
    "bulk_moduli[:core_radius_cutoff_real] = 800.0e9\n",
    "\n",
    "# Shear modulus and viscosity is much more important, but to keep this example simple we will assume a\n",
    "#   constant shear and an increasing viscosity towards the surface\n",
    "shear_moduli = 50.0e9 * np.ones(len(radius_array) - 1)\n",
    "shear_moduli[:core_radius_cutoff_real] = 80.0e9\n",
    "\n",
    "viscosities = 1.e30 * np.ones(len(radius_array) - 1)\n",
    "viscosities[core_radius_cutoff_real:] = np.logspace(23, 16, mantle_N)\n",
    "\n",
    "# Now we can calculate the complex_compliance of the world. We will just use a Maxwell model here but several\n",
    "#    others are available.\n",
    "from TidalPy.rheology.complex_compliance.compliance_models import maxwell_array, sundberg_array\n",
    "complex_compliances = sundberg_array(orbital_freq, shear_moduli**(-1), viscosities)\n",
    "# We will specifically turn off tidal dissipation in the core by setting the imaginary portion of\n",
    "#    complex compliance = 0\n",
    "complex_compliances[:core_radius_cutoff_real] = \\\n",
    "    np.real(complex_compliances[:core_radius_cutoff_real]) + 1.e-50j * np.ones(core_N_real)\n",
    "complex_shears = complex_compliances**(-1)\n",
    "\n",
    "# Now let's see what this looks like\n",
    "fig_visco, ax_visco = plt.subplots()\n",
    "ax_shear = ax_visco.twiny()\n",
    "ax_comp = ax_visco.twiny()\n",
    "ax_comp.spines[\"top\"].set_position((\"axes\", 1.2))\n",
    "\n",
    "ax_visco.plot(viscosities, depth_array/1000., c='b', ls=':')\n",
    "ax_shear.plot(shear_moduli, depth_array/1000., c='r', ls=':')\n",
    "ax_comp.plot(np.real(complex_shears), depth_array/1000., c='orange', ls='-')\n",
    "ax_comp.plot(np.imag(complex_shears), depth_array/1000., c='orange', ls='--')\n",
    "ax_visco.set_ylim(ax_visco.get_ylim()[::-1])\n",
    "ax_comp.set_ylim(ax_comp.get_ylim()[::-1])\n",
    "ax_shear.set_ylim(ax_shear.get_ylim()[::-1])\n",
    "\n",
    "ax_visco.set(ylabel='Depth [km]', xlabel='Viscosity [Pa s]', xscale='log')\n",
    "ax_shear.set(xlabel='Shear Modulus [Pa]', xscale='linear')\n",
    "ax_comp.set(xlabel='Complex Shear (Solid=Real, Dash=Imag) [Pa$^{-1}$]', xscale='log')\n",
    "for ax, color in zip([ax_visco, ax_shear, ax_comp], ['b', 'r', 'orange']):\n",
    "    if ax is ax_visco:\n",
    "        ax.spines['bottom'].set_color(color)\n",
    "    else:\n",
    "        ax.spines['top'].set_color(color)\n",
    "    ax.xaxis.label.set_color(color)\n",
    "\n",
    "fig_visco.tight_layout()\n",
    "plt.show()"
   ]
  },
  {
   "cell_type": "code",
   "execution_count": 3,
   "metadata": {
    "pycharm": {
     "name": "#%%\n"
    }
   },
   "outputs": [],
   "source": [
    "np.seterr(divide='raise')\n",
    "# Load TidalPy's multilayer functions\n",
    "from TidalPy.tides.multilayer import fundamental_matrix_orderl2, propagate, decompose\n",
    "\n",
    "# Find the fundamental matrix; skip the innermost shell as that will be a boundary condition.\n",
    "Y, Y_inv, derivative_mtx = fundamental_matrix_orderl2(radius_array[1:], complex_shears, density_array[1:], gravity_array[1:])"
   ]
  },
  {
   "cell_type": "code",
   "execution_count": 4,
   "metadata": {
    "pycharm": {
     "name": "#%%\n"
    },
    "scrolled": false
   },
   "outputs": [],
   "source": [
    "# Propagate the tidal solution through the world's shells\n",
    "central_boundary_condition = np.zeros((6, 3), dtype=np.complex128)\n",
    "# Roberts & Nimmo (2000): Liquid innermost zone.\n",
    "central_boundary_condition[2, 0] = 1.0\n",
    "central_boundary_condition[3, 1] = 1.0\n",
    "central_boundary_condition[5, 2] = 1.0\n",
    "\n",
    "tidal_y, tidal_y_deriv = propagate(Y, Y_inv, derivative_mtx, central_boundary_condition, world_radius, order_l=2)"
   ]
  },
  {
   "cell_type": "code",
   "execution_count": 5,
   "metadata": {
    "pycharm": {
     "name": "#%%\n"
    }
   },
   "outputs": [
    {
     "name": "stdout",
     "output_type": "stream",
     "text": [
      "Surface Love & Shida Numbers\n",
      "k_2 = -2.05e+00+9.88e-03j; h_2 = 8.81e-02-1.79e-02j; l_2 = 2.64e-02-5.38e-03j\n"
     ]
    },
    {
     "data": {
      "application/vnd.jupyter.widget-view+json": {
       "model_id": "976bfa1917724fe29b7fab62132a0596",
       "version_major": 2,
       "version_minor": 0
      },
      "text/plain": [
       "Canvas(toolbar=Toolbar(toolitems=[('Home', 'Reset original view', 'home', 'home'), ('Back', 'Back to previous …"
      ]
     },
     "metadata": {},
     "output_type": "display_data"
    }
   ],
   "source": [
    "# Decompose the tidal solution into useful properties\n",
    "#    There is a gradient in this function so we lose another shell. Thus the [1:] in viscoelastic properties\n",
    "radial_sensitivity_to_shear, (k2, h2, l2) = \\\n",
    "    decompose(tidal_y, tidal_y_deriv, radius_array[1:], gravity_array[1:], complex_shears, bulk_moduli, order_l=2)\n",
    "\n",
    "print('Surface Love & Shida Numbers')\n",
    "print(f'k_2 = {k2[-1]:.2e}; h_2 = {h2[-1]:.2e}; l_2 = {l2[-1]:.2e}')\n",
    "\n",
    "# Let's plot these as a function of depth.\n",
    "fig_love, love_axes = plt.subplots(ncols=2)\n",
    "fig_love.suptitle('Love and Shida Numbers')\n",
    "\n",
    "for ax_i, ax in enumerate(love_axes):\n",
    "    ax_love_h = ax.twiny()\n",
    "    ax_love_l = ax.twiny()\n",
    "    ax_love_l.spines[\"top\"].set_position((\"axes\", 1.2))\n",
    "    \n",
    "    if ax_i == 0:\n",
    "        ax.plot(np.real(k2), depth_array/1000., c='b', ls='-')\n",
    "        ax_love_h.plot(np.real(h2), depth_array/1000., c='r', ls='-')\n",
    "        ax_love_l.plot(np.real(l2), depth_array/1000., c='orange', ls='-')\n",
    "        \n",
    "        ax.set(ylabel='Depth [km]', xlabel='Re[$k_{2}$]', xscale='linear')\n",
    "        ax_love_h.set(xlabel='Re[$h_{2}$]', xscale='linear')\n",
    "        ax_love_l.set(xlabel='Re[$l_{2}$]', xscale='linear')\n",
    "        ax.set_ylim(ax.get_ylim()[::-1])\n",
    "        ax_love_h.set_ylim(ax_love_h.get_ylim()[::-1])\n",
    "        ax_love_l.set_ylim(ax_love_l.get_ylim()[::-1])\n",
    "    else:\n",
    "        ax.plot(-np.imag(k2), depth_array/1000., c='b', ls='-')\n",
    "        ax_love_h.plot(-np.imag(h2), depth_array/1000., c='r', ls='-')\n",
    "        ax_love_l.plot(-np.imag(l2), depth_array/1000., c='orange', ls='-')\n",
    "\n",
    "        ax.set(ylabel='Depth [km]', xlabel='-Im[$k_{2}$]', xscale='log')\n",
    "        ax_love_h.set(xlabel='-Im[$h_{2}$]', xscale='log')\n",
    "        ax_love_l.set(xlabel='-Im[$l_{2}$]', xscale='log')\n",
    "        ax.set_ylim(ax.get_ylim()[::-1])\n",
    "        ax_love_h.set_ylim(ax_love_h.get_ylim()[::-1])\n",
    "        ax_love_l.set_ylim(ax_love_l.get_ylim()[::-1])\n",
    "\n",
    "    for ax2, color in zip([ax, ax_love_h, ax_love_l], ['b', 'r', 'orange']):\n",
    "        if ax2 is ax_visco:\n",
    "            ax2.spines['bottom'].set_color(color)\n",
    "        else:\n",
    "            ax2.spines['top'].set_color(color)\n",
    "        ax2.xaxis.label.set_color(color)\n",
    "\n",
    "fig_love.tight_layout()\n",
    "plt.show()"
   ]
  },
  {
   "cell_type": "markdown",
   "metadata": {},
   "source": [
    "## Calculate Tidal Displacement\n",
    "Utilizing the simplified tidal potential (low eccentricity, no obliquity, spin-synchronous)."
   ]
  },
  {
   "cell_type": "code",
   "execution_count": 6,
   "metadata": {},
   "outputs": [],
   "source": [
    "from TidalPy.tides.potential.synchronous_low_e import tidal_potential\n",
    "\n",
    "# Define latitude and longitude domain\n",
    "colatitude = np.linspace(0.1, 179.9, 70)\n",
    "latitude = colatitude - 90.\n",
    "longitude = np.linspace(0., 360., 75)\n",
    "long_mtx, lat_mtx = np.meshgrid(np.radians(longitude), np.radians(colatitude))\n",
    "\n",
    "displacements_over_time = []\n",
    "\n",
    "for time in np.linspace(0., 86400. * 2., 20):\n",
    "    # Calculate the simplified tidal potential\n",
    "    potential, potential_dtheta, potential_dphi, potential_d2theta, potential_d2phi, potential_dtheta_dphi = \\\n",
    "        tidal_potential(world_radius, long_mtx, lat_mtx, orbital_freq, eccentricity, time)\n",
    "\n",
    "    # Scale by the tidal solutions\n",
    "    radial_displacement = tidal_y[0, -1] * potential\n",
    "    polar_displacement = tidal_y[2, -1] * potential_dtheta\n",
    "    azimuthal_displacement = tidal_y[2, -1] * potential_dphi / np.sin(lat_mtx)\n",
    "    \n",
    "    displacements_over_time.append((time / (60. * 60), radial_displacement, polar_displacement, azimuthal_displacement))"
   ]
  },
  {
   "cell_type": "code",
   "execution_count": 7,
   "metadata": {
    "scrolled": false
   },
   "outputs": [
    {
     "data": {
      "application/vnd.jupyter.widget-view+json": {
       "model_id": "e46bf3fbb3f24a6bbdd067dc2e128c3d",
       "version_major": 2,
       "version_minor": 0
      },
      "text/plain": [
       "Canvas(toolbar=Toolbar(toolitems=[('Home', 'Reset original view', 'home', 'home'), ('Back', 'Back to previous …"
      ]
     },
     "metadata": {},
     "output_type": "display_data"
    },
    {
     "data": {
      "application/vnd.jupyter.widget-view+json": {
       "model_id": "ba698d482af048cca0bf1832e309c340",
       "version_major": 2,
       "version_minor": 0
      },
      "text/plain": [
       "interactive(children=(IntSlider(value=0, description='time_i', max=19), Output()), _dom_classes=('widget-inter…"
      ]
     },
     "metadata": {},
     "output_type": "display_data"
    },
    {
     "data": {
      "text/plain": [
       "<function __main__.update_fig(time_i=0)>"
      ]
     },
     "execution_count": 7,
     "metadata": {},
     "output_type": "execute_result"
    }
   ],
   "source": [
    "# Plot results\n",
    "from ipywidgets import interact\n",
    "fig_disp, axes_disp = plt.subplots(ncols=3, figsize=(8, 4))\n",
    "plt.subplots_adjust(wspace=.5)\n",
    "ax_r = axes_disp[0]\n",
    "ax_r.set(ylabel='Latitude [$\\deg$]', xlabel='Longitude [$\\deg$]', title='Radial Displacement', xlim=(0, 360), ylim=(-90, 90))\n",
    "ax_th = axes_disp[1]\n",
    "ax_th.set(ylabel='Latitude [$\\deg$]', xlabel='Longitude [$\\deg$]', title='Polar Displacement', xlim=(0, 360), ylim=(-90, 90))\n",
    "ax_phi = axes_disp[2]\n",
    "ax_phi.set(ylabel='Latitude [$\\deg$]', xlabel='Longitude [$\\deg$]', title='Azimuthal Displacement', xlim=(0, 360), ylim=(-90, 90))\n",
    "fig_disp.suptitle(f'0.00 Hour')\n",
    "\n",
    "time_hr, u_r, u_th, u_phi = displacements_over_time[0]\n",
    "ax_r.contourf(longitude, latitude, u_r, 40)\n",
    "ax_th.contourf(longitude, latitude, u_th, 40)\n",
    "ax_phi.contourf(longitude, latitude, u_phi, 40)\n",
    "\n",
    "def update_fig(time_i=0):\n",
    "    time_hr, u_r, u_th, u_phi = displacements_over_time[time_i]\n",
    "    ax_r.clear()\n",
    "    ax_th.clear()\n",
    "    ax_phi.clear()\n",
    "    fig_disp.suptitle(f'{time_hr:0.2f} Hour')\n",
    "    ax_r.set(ylabel='Latitude [$\\deg$]', xlabel='Longitude [$\\deg$]', title='Radial Displacement', xlim=(0, 360), ylim=(-90, 90))\n",
    "    ax_th.set(ylabel='Latitude [$\\deg$]', xlabel='Longitude [$\\deg$]', title='Polar Displacement', xlim=(0, 360), ylim=(-90, 90))\n",
    "    ax_phi.set(ylabel='Latitude [$\\deg$]', xlabel='Longitude [$\\deg$]', title='Azimuthal Displacement', xlim=(0, 360), ylim=(-90, 90))\n",
    "    ax_r.contourf(longitude, latitude, u_r, 20)\n",
    "    ax_th.contourf(longitude, latitude, u_th, 20)\n",
    "    ax_phi.contourf(longitude, latitude, u_phi, 20)\n",
    "    fig_disp.tight_layout()\n",
    "\n",
    "interact(update_fig, time_i=(0, len(displacements_over_time)-1, 1))"
   ]
  },
  {
   "cell_type": "markdown",
   "metadata": {},
   "source": [
    "## Orbit-Averaged, Tidal Heating as Function of Depth\n",
    "Here we will use a modified version of the heating(radius) equations found in TB05. "
   ]
  },
  {
   "cell_type": "code",
   "execution_count": 8,
   "metadata": {},
   "outputs": [
    {
     "name": "stdout",
     "output_type": "stream",
     "text": [
      "Total Heating 1.22e+13 W\n"
     ]
    },
    {
     "data": {
      "application/vnd.jupyter.widget-view+json": {
       "model_id": "400f30e5af7e4de8abcdfc66e6cfb77b",
       "version_major": 2,
       "version_minor": 0
      },
      "text/plain": [
       "Canvas(toolbar=Toolbar(toolitems=[('Home', 'Reset original view', 'home', 'home'), ('Back', 'Back to previous …"
      ]
     },
     "metadata": {},
     "output_type": "display_data"
    }
   ],
   "source": [
    "from TidalPy.tides.multilayer.heating import calc_radial_tidal_heating\n",
    "\n",
    "# We will use the radial sensitivity to shear calculated in a previous step.\n",
    "vol_heating_as_func_radius = \\\n",
    "    calc_radial_tidal_heating(eccentricity, orbital_freq, semi_major_axis,\n",
    "                              jupiter.mass,\n",
    "                              radius_array[1:], radial_sensitivity_to_shear,\n",
    "                              complex_shears, order_l=2)\n",
    "\n",
    "print(f'Total Heating {sum(vol_heating_as_func_radius * volume_array[1:] ):0.2e} W')\n",
    "# Plot result\n",
    "fig_heat, ax_heat = plt.subplots()\n",
    "ax_heat.set(ylabel='Depth [km]', xlabel='Volumetric Heating Rate [W m$^{-3}$]', xscale='log')\n",
    "ax_heat.plot(vol_heating_as_func_radius, depth_array / 1000.)\n",
    "ax_heat.set_ylim(ax_heat.get_ylim()[::-1])\n",
    "plt.show()"
   ]
  },
  {
   "cell_type": "markdown",
   "metadata": {},
   "source": [
    "## Strain and Stress Tensors\n",
    "Here we will calculate the strain and stress tensors using the methods described in TB05 and B13"
   ]
  },
  {
   "cell_type": "code",
   "execution_count": 9,
   "metadata": {},
   "outputs": [],
   "source": [
    "from TidalPy.tides.multilayer.stress_strain import calculate_strain\n",
    "\n",
    "# Use the co-lat. and long. domain as setup in the displacements step\n",
    "\n",
    "strain_tensor_over_time = list()\n",
    "\n",
    "for time in np.linspace(0., 86400. * 2., 20):\n",
    "    # Calculate the simplified tidal potential\n",
    "    potential, potential_dtheta, potential_dphi, potential_d2theta, potential_d2phi, potential_dtheta_dphi = \\\n",
    "        tidal_potential(world_radius, long_mtx, lat_mtx, orbital_freq, eccentricity, time)\n",
    "\n",
    "    # Use the tidal solutions to scale the potential and find the strains\n",
    "    strain_tensor = \\\n",
    "        calculate_strain(potential, potential_dtheta, potential_dphi,\n",
    "                         potential_d2theta, potential_d2phi,\n",
    "                         potential_dtheta_dphi, tidal_y, tidal_y_deriv,\n",
    "                         colatitude=lat_mtx, radius_array=radius_array[1:], shear_moduli=complex_shears)\n",
    "    \n",
    "    strain_tensor_over_time.append((time / (60. * 60), strain_tensor))\n",
    "    # Note, strain tensor flips the radius position (radius comes first)"
   ]
  },
  {
   "cell_type": "markdown",
   "metadata": {},
   "source": [
    "### Stress over time"
   ]
  },
  {
   "cell_type": "code",
   "execution_count": 12,
   "metadata": {},
   "outputs": [
    {
     "data": {
      "application/vnd.jupyter.widget-view+json": {
       "model_id": "57a277e1dad64a3e89498b18cb5b0f94",
       "version_major": 2,
       "version_minor": 0
      },
      "text/plain": [
       "Canvas(toolbar=Toolbar(toolitems=[('Home', 'Reset original view', 'home', 'home'), ('Back', 'Back to previous …"
      ]
     },
     "metadata": {},
     "output_type": "display_data"
    },
    {
     "data": {
      "application/vnd.jupyter.widget-view+json": {
       "model_id": "887a816deb2842af96d2a549bca33786",
       "version_major": 2,
       "version_minor": 0
      },
      "text/plain": [
       "interactive(children=(IntSlider(value=0, description='time_i', max=19), Output()), _dom_classes=('widget-inter…"
      ]
     },
     "metadata": {},
     "output_type": "display_data"
    },
    {
     "data": {
      "text/plain": [
       "<function __main__.update_fig(time_i=0)>"
      ]
     },
     "execution_count": 12,
     "metadata": {},
     "output_type": "execute_result"
    }
   ],
   "source": [
    "# Plot results\n",
    "from ipywidgets import interact\n",
    "fig_strain, axes_strain = plt.subplots(ncols=3, nrows=2, figsize=(8, 8))\n",
    "plt.subplots_adjust(wspace=.5, hspace=0.3)\n",
    "ax_r = axes_strain[0, 0]\n",
    "ax_r.set(ylabel='Latitude [$\\deg$]', xlabel='Longitude [$\\deg$]', title='$\\\\epsilon_{rr}$', xlim=(0, 360), ylim=(-90, 90))\n",
    "ax_th = axes_strain[0, 1]\n",
    "ax_th.set(ylabel='Latitude [$\\deg$]', xlabel='Longitude [$\\deg$]', title='$\\\\epsilon_{\\\\theta\\\\theta}$', xlim=(0, 360), ylim=(-90, 90))\n",
    "ax_phi = axes_strain[0, 2]\n",
    "ax_phi.set(ylabel='Latitude [$\\deg$]', xlabel='Longitude [$\\deg$]', title='$\\\\epsilon_{\\\\phi\\\\phi}$', xlim=(0, 360), ylim=(-90, 90))\n",
    "ax_rth = axes_strain[1, 0]\n",
    "ax_rth.set(ylabel='Latitude [$\\deg$]', xlabel='Longitude [$\\deg$]', title='$\\\\epsilon_{r\\\\theta}$', xlim=(0, 360), ylim=(-90, 90))\n",
    "ax_rphi = axes_strain[1, 1]\n",
    "ax_rphi.set(ylabel='Latitude [$\\deg$]', xlabel='Longitude [$\\deg$]', title='$\\\\epsilon_{r\\\\phi}$', xlim=(0, 360), ylim=(-90, 90))\n",
    "ax_thphi = axes_strain[1, 2]\n",
    "ax_thphi.set(ylabel='Latitude [$\\deg$]', xlabel='Longitude [$\\deg$]', title='$\\\\epsilon_{\\\\theta\\\\phi}$', xlim=(0, 360), ylim=(-90, 90))\n",
    "\n",
    "\n",
    "fig_strain.suptitle(f'Surface Strains; 0.00 Hour')\n",
    "time_hr, strains_by_r = strain_tensor_over_time[0]\n",
    "strains_at_surf = strains_by_r[-1, :, :, :, :]\n",
    "e_rr = strains_at_surf[0, 0, :, :]\n",
    "e_thth = strains_at_surf[1, 1, :, :]\n",
    "e_phph = strains_at_surf[2, 2, :, :]\n",
    "e_rth = 2. * strains_at_surf[0, 1, :, :]\n",
    "e_rph = 2. * strains_at_surf[0, 2, :, :]\n",
    "e_thph = 2. * strains_at_surf[1, 2, :, :]\n",
    "ax_r.contourf(longitude, latitude, e_rr, 40)\n",
    "ax_th.contourf(longitude, latitude, e_thth, 40)\n",
    "ax_phi.contourf(longitude, latitude, e_phph, 40)\n",
    "ax_rth.contourf(longitude, latitude, e_rr, 40)\n",
    "ax_rphi.contourf(longitude, latitude, e_thth, 40)\n",
    "ax_thphi.contourf(longitude, latitude, e_phph, 40)\n",
    "\n",
    "def update_fig(time_i=0):\n",
    "    time_hr, strains_by_r = strain_tensor_over_time[time_i]\n",
    "    strains_at_surf = strains_by_r[-1, :, :, :, :]\n",
    "    e_rr = strains_at_surf[0, 0, :, :]\n",
    "    e_thth = strains_at_surf[1, 1, :, :]\n",
    "    e_phph = strains_at_surf[2, 2, :, :]\n",
    "    e_rth = 2. * strains_at_surf[0, 1, :, :]\n",
    "    e_rph = 2. * strains_at_surf[0, 2, :, :]\n",
    "    e_thph = 2. * strains_at_surf[1, 2, :, :]\n",
    "    \n",
    "    ax_r.clear()\n",
    "    ax_th.clear()\n",
    "    ax_phi.clear()\n",
    "    fig_strain.suptitle(f'Surface Strains; {time_hr:0.2f} Hour')\n",
    "    ax_r.set(ylabel='Latitude [$\\deg$]', xlabel='Longitude [$\\deg$]', title='$\\\\epsilon_{rr}$', xlim=(0, 360), ylim=(-90, 90))\n",
    "    ax_th.set(ylabel='Latitude [$\\deg$]', xlabel='Longitude [$\\deg$]', title='$\\\\epsilon_{\\\\theta\\\\theta}$', xlim=(0, 360), ylim=(-90, 90))\n",
    "    ax_phi.set(ylabel='Latitude [$\\deg$]', xlabel='Longitude [$\\deg$]', title='$\\\\epsilon_{\\\\phi\\\\phi}$', xlim=(0, 360), ylim=(-90, 90))\n",
    "    ax_rth.set(ylabel='Latitude [$\\deg$]', xlabel='Longitude [$\\deg$]', title='$\\\\epsilon_{r\\\\theta}$', xlim=(0, 360), ylim=(-90, 90))\n",
    "    ax_rphi.set(ylabel='Latitude [$\\deg$]', xlabel='Longitude [$\\deg$]', title='$\\\\epsilon_{r\\\\phi}$', xlim=(0, 360), ylim=(-90, 90))\n",
    "    ax_thphi.set(ylabel='Latitude [$\\deg$]', xlabel='Longitude [$\\deg$]', title='$\\\\epsilon_{\\\\theta\\\\phi}$', xlim=(0, 360), ylim=(-90, 90))\n",
    "    ax_r.contourf(longitude, latitude, e_rr, 20)\n",
    "    ax_th.contourf(longitude, latitude, e_thth, 20)\n",
    "    ax_phi.contourf(longitude, latitude, e_phph, 20)\n",
    "    ax_rth.contourf(longitude, latitude, e_rth, 20)\n",
    "    ax_rphi.contourf(longitude, latitude, e_rph, 20)\n",
    "    ax_thphi.contourf(longitude, latitude, e_thph, 20)\n",
    "    \n",
    "    fig_strain.tight_layout()\n",
    "\n",
    "interact(update_fig, time_i=(0, len(strain_tensor_over_time)-1, 1))"
   ]
  },
  {
   "cell_type": "markdown",
   "metadata": {},
   "source": [
    "### Stress over depth\n",
    "**(colat = 90, long = 0)**"
   ]
  },
  {
   "cell_type": "code",
   "execution_count": 18,
   "metadata": {},
   "outputs": [
    {
     "data": {
      "application/vnd.jupyter.widget-view+json": {
       "model_id": "067627b005694a61baae895450a25a0e",
       "version_major": 2,
       "version_minor": 0
      },
      "text/plain": [
       "Canvas(toolbar=Toolbar(toolitems=[('Home', 'Reset original view', 'home', 'home'), ('Back', 'Back to previous …"
      ]
     },
     "metadata": {},
     "output_type": "display_data"
    }
   ],
   "source": [
    "colatitude = 90.\n",
    "longitude = 0.\n",
    "\n",
    "\n",
    "# Calculate the simplified tidal potential\n",
    "potential, potential_dtheta, potential_dphi, potential_d2theta, potential_d2phi, potential_dtheta_dphi = \\\n",
    "    tidal_potential(world_radius, np.radians(longitude), np.radians(colatitude), orbital_freq, eccentricity, time=0.0)\n",
    "\n",
    "# Use the tidal solutions to scale the potential and find the strains\n",
    "strain_tensor_by_r = \\\n",
    "    calculate_strain(potential, potential_dtheta, potential_dphi,\n",
    "                     potential_d2theta, potential_d2phi,\n",
    "                     potential_dtheta_dphi, tidal_y, tidal_y_deriv,\n",
    "                     colatitude=np.radians(colatitude), radius_array=radius_array[1:], shear_moduli=complex_shears)\n",
    "\n",
    "# Plot results\n",
    "fig_strain, axes_strain = plt.subplots(ncols=3, nrows=2, figsize=(8, 8))\n",
    "plt.subplots_adjust(wspace=.5, hspace=0.3)\n",
    "ax_r = axes_strain[0, 0]\n",
    "ax_r.set(ylabel='Depth [km]', title='$\\\\epsilon_{rr}$')\n",
    "ax_th = axes_strain[0, 1]\n",
    "ax_th.set(title='$\\\\epsilon_{\\\\theta\\\\theta}$')\n",
    "ax_phi = axes_strain[0, 2]\n",
    "ax_phi.set(title='$\\\\epsilon_{\\\\phi\\\\phi}$')\n",
    "ax_rth = axes_strain[1, 0]\n",
    "ax_rth.set(ylabel='Depth [km]', title='$\\\\epsilon_{r\\\\theta}$')\n",
    "ax_rphi = axes_strain[1, 1]\n",
    "ax_rphi.set(title='$\\\\epsilon_{r\\\\phi}$')\n",
    "ax_thphi = axes_strain[1, 2]\n",
    "ax_thphi.set(title='$\\\\epsilon_{\\\\theta\\\\phi}$')\n",
    "\n",
    "e_rr = strain_tensor_by_r[:, 0, 0]\n",
    "e_thth = strain_tensor_by_r[:, 1, 1]\n",
    "e_phph = strain_tensor_by_r[:, 2, 2]\n",
    "e_rth = 2. * strain_tensor_by_r[:, 0, 1]\n",
    "e_rph = 2. * strain_tensor_by_r[:, 0, 2]\n",
    "e_thph = 2. * strain_tensor_by_r[:, 1, 2]\n",
    "\n",
    "ax_r.plot(e_rr, depth_array / 1000., 'k-')\n",
    "ax_r.set_ylim(ax_r.get_ylim()[::-1])\n",
    "ax_th.plot(e_thth, depth_array / 1000., 'k-')\n",
    "ax_th.set_ylim(ax_th.get_ylim()[::-1])\n",
    "ax_phi.plot(e_phph, depth_array / 1000., 'k-')\n",
    "ax_phi.set_ylim(ax_phi.get_ylim()[::-1])\n",
    "ax_rth.plot(e_rth, depth_array / 1000., 'k-')\n",
    "ax_rth.set_ylim(ax_rth.get_ylim()[::-1])\n",
    "ax_rphi.plot(e_rph, depth_array / 1000., 'k-')\n",
    "ax_rphi.set_ylim(ax_rphi.get_ylim()[::-1])\n",
    "ax_thphi.plot(e_thph, depth_array / 1000., 'k-')\n",
    "ax_thphi.set_ylim(ax_thphi.get_ylim()[::-1])\n",
    "\n",
    "fig_strain.tight_layout()\n",
    "plt.show()"
   ]
  },
  {
   "cell_type": "markdown",
   "metadata": {},
   "source": [
    "## Performance\n",
    "Here we are just doing a simple check on how the propagation functions perform"
   ]
  },
  {
   "cell_type": "code",
   "execution_count": 11,
   "metadata": {},
   "outputs": [],
   "source": [
    "run_performance = False\n",
    "\n",
    "if run_performance:\n",
    "    print('Building Matricies')\n",
    "    %timeit fundamental_matrix_orderl2(radius_array[1:], complex_shears[1:], density_array[1:], gravity_array[1:])\n",
    "\n",
    "    print('Propagating Solutions')\n",
    "    %timeit propagate(Y, Y_inv, central_boundary_condition, world_radius, order_l=2)\n",
    "\n",
    "    print('Decomposition')\n",
    "    %timeit decompose(tidal_y, radius_array[1:], gravity_array[1:], complex_shears[2:], bulk_moduli[2:], order_l=2)"
   ]
  }
 ],
 "metadata": {
  "kernelspec": {
   "display_name": "Python 3",
   "language": "python",
   "name": "python3"
  },
  "language_info": {
   "codemirror_mode": {
    "name": "ipython",
    "version": 3
   },
   "file_extension": ".py",
   "mimetype": "text/x-python",
   "name": "python",
   "nbconvert_exporter": "python",
   "pygments_lexer": "ipython3",
   "version": "3.8.5"
  }
 },
 "nbformat": 4,
 "nbformat_minor": 1
}
