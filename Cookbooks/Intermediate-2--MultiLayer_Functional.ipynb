{
 "cells": [
  {
   "cell_type": "markdown",
   "metadata": {
    "collapsed": true,
    "pycharm": {
     "name": "#%% md\n"
    }
   },
   "source": [
    "# Multilayer Tidal Calculations\n",
    "In this cookbook we will explore how we can use TidalPy's multilayer tidal functions to calculate tidal heating as a function of radius.\n",
    "Here we are using a propagation matrix technique (SVC16) that is only valid in the incompressible limit.\n",
    "\n",
    "**References**:\n",
    "- SVC16 : Sabadini, Vermeerson, & Cambiotti (2016, DOI: [10.1007/978-94-017-7552-6](https://doi.org/10.1007/978-94-017-7552-6).\n",
    "- HH14  : Henning & Hurford (2014, DOI: [10.1088/0004-637X/789/1/30](https://doi.org/10.1088/0004-637X/789/1/30)).\n",
    "- TB05  : Tobie et al. (2005), DOI: [10.1016/j.icarus.2005.04.006](https://doi.org/10.1016/j.icarus.2005.04.006).\n",
    "- ID    : [IcyDwarf Code](https://github.com/MarcNeveu/IcyDwarf/blob/master/IcyDwarf/Thermal.h) written by Marc Neveu\n",
    "\n",
    "## Build the planet"
   ]
  },
  {
   "cell_type": "code",
   "execution_count": 1,
   "metadata": {
    "pycharm": {
     "name": "#%%\n"
    }
   },
   "outputs": [],
   "source": [
    "import numpy as np\n",
    "import matplotlib.pyplot as plt\n",
    "from ipywidgets import interact, widgets\n",
    "%matplotlib ipympl\n",
    "np.seterr(divide='raise')\n",
    "\n",
    "from TidalPy import build_world\n",
    "from TidalPy.constants import G\n",
    "from TidalPy.tools.conversions import orbital_motion2semi_a\n",
    "from TidalPy.utilities.numpy_helper import find_nearest\n",
    "from TidalPy.rheology.complex_compliance.compliance_models import maxwell_array, sundberg_array\n",
    "# Load TidalPy's multilayer functions\n",
    "from TidalPy.tides.multilayer import fundamental_matrix_orderl2, propagate, decompose\n",
    "from TidalPy.tides.potential.synchronous_low_e import tidal_potential\n",
    "from TidalPy.tides.multilayer.heating import calc_radial_tidal_heating\n",
    "from TidalPy.tides.multilayer.stress_strain import calculate_strain"
   ]
  },
  {
   "cell_type": "code",
   "execution_count": 2,
   "metadata": {
    "pycharm": {
     "name": "#%%\n"
    }
   },
   "outputs": [
    {
     "data": {
      "application/vnd.jupyter.widget-view+json": {
       "model_id": "238dd622893541babe5646ad017315db",
       "version_major": 2,
       "version_minor": 0
      },
      "text/plain": [
       "Canvas(toolbar=Toolbar(toolitems=[('Home', 'Reset original view', 'home', 'home'), ('Back', 'Back to previous …"
      ]
     },
     "metadata": {},
     "output_type": "display_data"
    }
   ],
   "source": [
    "# For this example we will use the Io-Jupiter system\n",
    "io = build_world('Io')\n",
    "io.paint()\n",
    "jupiter = build_world('Jupiter')\n",
    "tidal_host_mass = jupiter.mass\n",
    "eccentricity = 0.0041\n",
    "orbital_freq = 2. * np.pi / (86400. * 1.76914)\n",
    "orbital_period = 2. * np.pi / orbital_freq\n",
    "semi_major_axis = orbital_motion2semi_a(orbital_freq, tidal_host_mass, io.mass)\n",
    "\n",
    "# We won't be using TidalPy's OOP approach (which currently does not use the multi-layer approach,\n",
    "#    instead relying on a homogenous model broken up by layers), instead we will pull out a few parameters needed\n",
    "#    for the multilayer calculations.\n",
    "radius_array = io.radii\n",
    "surf_area_array = 4. * np.pi * radius_array[1:]**2\n",
    "volume_array = io.volume_slices\n",
    "# Depth array skips the first shell since most viscoelastic properties are not defined there.\n",
    "depth_array = (io.radius - radius_array)[1:]\n",
    "gravity_array = io.gravities\n",
    "density_array = io.densities\n",
    "pressure_array = io.pressures\n",
    "\n",
    "# We will give the core and mantle a different viscoelastic state, but to do that we need to know what index\n",
    "#   corresponds to the top of the core.\n",
    "core_radius_cutoff = find_nearest(radius_array, io.core.radius)\n",
    "core_radius_cutoff_real = core_radius_cutoff - 1\n",
    "mantle_N = len(radius_array[core_radius_cutoff:])\n",
    "core_N = len(radius_array[:core_radius_cutoff])\n",
    "core_N_real = core_N - 1\n",
    "total_N = len(radius_array)\n",
    "total_N_real = total_N - 1\n",
    "\n",
    "# Determine some global properties\n",
    "world_radius = radius_array[-1]\n",
    "world_surf_area = 4. * np.pi * world_radius**2\n",
    "surface_gravity = gravity_array[-1]\n",
    "mantle_bulk_density = np.average(density_array[core_radius_cutoff:])\n",
    "\n",
    "# Setup Io's viscoelastic state - this is not particularly accurate, just meant for demonstration purposes\n",
    "\n",
    "# All of the viscoelastic properties are not defined at r=0, so we are skipping the inner-most shell. This is done through\n",
    "#    the \"len(radius_array) - 1\"\n",
    "\n",
    "# Tidal dissipation is not too sensitive to bulk modulus so we will keep it constant\n",
    "bulk_moduli = 200.0e9 * np.ones(len(radius_array) - 1)\n",
    "bulk_moduli[:core_radius_cutoff_real] = 800.0e9\n",
    "\n",
    "# Shear modulus and viscosity is much more important, but to keep this example simple we will assume a\n",
    "#   constant shear and an increasing viscosity towards the surface\n",
    "shear_moduli = 50.0e9 * np.ones(len(radius_array) - 1)\n",
    "shear_moduli[:core_radius_cutoff_real] = 80.0e9\n",
    "\n",
    "viscosities = 1.e50 * np.ones(len(radius_array) - 1)\n",
    "viscosities[core_radius_cutoff_real:] = np.logspace(23, 14, mantle_N)\n",
    "\n",
    "# Now we can calculate the complex_compliance of the world. We will just use a Maxwell model here but several\n",
    "#    others are available.\n",
    "complex_compliances = sundberg_array(orbital_freq, shear_moduli**(-1), viscosities)\n",
    "# We will specifically turn off tidal dissipation in the core by setting the imaginary portion of\n",
    "#    complex compliance = 0\n",
    "complex_compliances[:core_radius_cutoff_real] = \\\n",
    "    np.real(complex_compliances[:core_radius_cutoff_real]) + 1.e-50j * np.ones(core_N_real)\n",
    "complex_shears = complex_compliances**(-1)\n",
    "\n",
    "restrict_propagation_to_mantle = True\n",
    "if restrict_propagation_to_mantle:\n",
    "    radius_array = io.radii[core_radius_cutoff:]\n",
    "    surf_area_array = 4. * np.pi * radius_array**2\n",
    "    volume_array = io.volume_slices[core_radius_cutoff:]\n",
    "    # Depth array skips the first shell since most viscoelastic properties are not defined there.\n",
    "    depth_array = (io.radius - radius_array)\n",
    "    gravity_array = io.gravities[core_radius_cutoff:]\n",
    "    density_array = io.densities[core_radius_cutoff:]\n",
    "    pressure_array = io.pressures[core_radius_cutoff:]\n",
    "    viscosities = viscosities[core_radius_cutoff_real:]\n",
    "    complex_compliances = complex_compliances[core_radius_cutoff_real:]\n",
    "    complex_shears = complex_compliances**(-1)\n",
    "    shear_moduli = shear_moduli[core_radius_cutoff_real:]\n",
    "    bulk_moduli = bulk_moduli[core_radius_cutoff_real:]"
   ]
  },
  {
   "cell_type": "raw",
   "metadata": {},
   "source": [
    "#### BENCHMARK AGAINST HENNING RESULTS\n",
    "radius_array = np.linspace(0,6300e3, 70)\n",
    "depth_array = (6300e3 - radius_array)[1:]\n",
    "\n",
    "bulk_moduli = 200.0e9 * np.ones_like(depth_array)\n",
    "shear_moduli = 2.2e11 * np.ones_like(depth_array)\n",
    "viscosities = 1.0e20 * np.ones_like(depth_array)\n",
    "\n",
    "volume_array = (4. / 3.) * np.pi * (radius_array[1:]**3 - radius_array[:-1]**3)\n",
    "volume_array = np.concatenate(([0], volume_array))\n",
    "surf_area_array = 4. * np.pi * radius_array[1:]**2\n",
    "density_array = 5500. * np.ones_like(radius_array)\n",
    "\n",
    "mass_array = density_array * volume_array\n",
    "mass_below = np.asarray([sum(mass_array[:i+1]) for i in range(0, len(radius_array))])\n",
    "\n",
    "gravity_array = G * mass_below / radius_array**2\n",
    "obj_mass = sum(mass_array)\n",
    "\n",
    "\n",
    "tidal_host_mass = 1.988435e30\n",
    "eccentricity = 0.1\n",
    "orbital_freq = 2. * np.pi / (86400. * 6.)\n",
    "orbital_period = 2. * np.pi / orbital_freq\n",
    "semi_major_axis = orbital_motion2semi_a(orbital_freq, tidal_host_mass, obj_mass)\n",
    "\n",
    "complex_compliances = maxwell_array(orbital_freq, shear_moduli**(-1), viscosities)\n",
    "complex_shears = complex_compliances**(-1)\n",
    "\n",
    "fig_grav, ax_grav = plt.subplots()\n",
    "ax_grav.plot(gravity_array[1:], depth_array/1000., c='k', ls='-')\n",
    "ax_grav.set_ylim(ax_grav.get_ylim()[::-1])\n",
    "ax_grav.set(xlabel='Gravity [m/s/s]', ylabel='Depth [km]')\n",
    "\n",
    "# Determine some global properties\n",
    "world_radius = radius_array[-1]\n",
    "world_surf_area = 4. * np.pi * world_radius**2\n",
    "surface_gravity = gravity_array[-1]\n",
    "mantle_bulk_density = np.average(density_array)"
   ]
  },
  {
   "cell_type": "code",
   "execution_count": 3,
   "metadata": {
    "pycharm": {
     "name": "#%%\n"
    }
   },
   "outputs": [
    {
     "data": {
      "application/vnd.jupyter.widget-view+json": {
       "model_id": "40f4aec9d8ff4bbb8c552085151a5c57",
       "version_major": 2,
       "version_minor": 0
      },
      "text/plain": [
       "Canvas(toolbar=Toolbar(toolitems=[('Home', 'Reset original view', 'home', 'home'), ('Back', 'Back to previous …"
      ]
     },
     "metadata": {},
     "output_type": "display_data"
    }
   ],
   "source": [
    "# Now let's see what this looks like\n",
    "fig_visco, ax_visco = plt.subplots()\n",
    "ax_shear = ax_visco.twiny()\n",
    "ax_comp = ax_visco.twiny()\n",
    "ax_comp.spines[\"top\"].set_position((\"axes\", 1.2))\n",
    "\n",
    "ax_visco.plot(viscosities, depth_array/1000., c='b', ls=':')\n",
    "ax_shear.plot(shear_moduli, depth_array/1000., c='r', ls='-.')\n",
    "ax_comp.plot(np.real(complex_shears), depth_array/1000., c='orange', ls='-')\n",
    "ax_comp.plot(np.imag(complex_shears), depth_array/1000., c='orange', ls='--')\n",
    "ax_visco.set_ylim(ax_visco.get_ylim()[::-1])\n",
    "ax_comp.set_ylim(ax_comp.get_ylim()[::-1])\n",
    "ax_shear.set_ylim(ax_shear.get_ylim()[::-1])\n",
    "\n",
    "ax_visco.set(ylabel='Depth [km]', xlabel='Viscosity [Pa s]', xscale='log')\n",
    "ax_shear.set(xlabel='Shear Modulus [Pa]', xscale='linear')\n",
    "ax_comp.set(xlabel='Complex Shear (Solid=Real, Dash=Imag) [Pa$^{-1}$]', xscale='log')\n",
    "for ax, color in zip([ax_visco, ax_shear, ax_comp], ['b', 'r', 'orange']):\n",
    "    if ax is ax_visco:\n",
    "        ax.spines['bottom'].set_color(color)\n",
    "    else:\n",
    "        ax.spines['top'].set_color(color)\n",
    "    ax.xaxis.label.set_color(color)\n",
    "\n",
    "fig_visco.tight_layout()\n",
    "plt.show()"
   ]
  },
  {
   "cell_type": "code",
   "execution_count": 4,
   "metadata": {
    "pycharm": {
     "name": "#%%\n"
    }
   },
   "outputs": [],
   "source": [
    "# Find the fundamental matrix; skip the innermost shell as that will be a boundary condition.\n",
    "Y, Y_inv, derivative_mtx = fundamental_matrix_orderl2(radius_array, complex_shears, density_array, gravity_array)"
   ]
  },
  {
   "cell_type": "code",
   "execution_count": 5,
   "metadata": {
    "pycharm": {
     "name": "#%%\n"
    },
    "scrolled": false
   },
   "outputs": [],
   "source": [
    "# Propagate the tidal solution through the world's shells\n",
    "central_boundary_condition = np.zeros((6, 3), dtype=np.complex128)\n",
    "# Roberts & Nimmo (2008): Liquid innermost zone.\n",
    "central_boundary_condition[0, 0] = 0.05 + 0.0j\n",
    "central_boundary_condition[1, 1] = 0.01 + 0.0j\n",
    "central_boundary_condition[5, 2] = 1.0 + 0.0j\n",
    "\n",
    "tidal_y, tidal_y_deriv = propagate(Y, Y_inv, derivative_mtx, central_boundary_condition, world_radius, order_l=2)"
   ]
  },
  {
   "cell_type": "code",
   "execution_count": 6,
   "metadata": {
    "pycharm": {
     "name": "#%%\n"
    }
   },
   "outputs": [
    {
     "name": "stdout",
     "output_type": "stream",
     "text": [
      "Surface Love & Shida Numbers\n",
      "k_2 = 2.95e-01-4.02e-01j; h_2 = 5.76e-01-7.42e-01j; l_2 = 1.32e-01-1.70e-01j\n"
     ]
    },
    {
     "data": {
      "application/vnd.jupyter.widget-view+json": {
       "model_id": "390b8d4a48bc426884640f13c748f0f3",
       "version_major": 2,
       "version_minor": 0
      },
      "text/plain": [
       "Canvas(toolbar=Toolbar(toolitems=[('Home', 'Reset original view', 'home', 'home'), ('Back', 'Back to previous …"
      ]
     },
     "metadata": {},
     "output_type": "display_data"
    }
   ],
   "source": [
    "# Decompose the tidal solution into useful properties\n",
    "#    There is a gradient in this function so we lose another shell. Thus the [1:] in viscoelastic properties\n",
    "radial_sensitivity_to_shear, (k2, h2, l2) = \\\n",
    "    decompose(tidal_y, tidal_y_deriv, radius_array, gravity_array, complex_shears, bulk_moduli, order_l=2)\n",
    "\n",
    "print('Surface Love & Shida Numbers')\n",
    "print(f'k_2 = {k2[-1]:.2e}; h_2 = {h2[-1]:.2e}; l_2 = {l2[-1]:.2e}')\n",
    "\n",
    "# Let's plot these as a function of depth.\n",
    "fig_love, love_axes = plt.subplots(ncols=2)\n",
    "fig_love.suptitle('Love and Shida Numbers')\n",
    "\n",
    "for ax_i, ax in enumerate(love_axes):\n",
    "    ax_love_h = ax.twiny()\n",
    "    ax_love_l = ax.twiny()\n",
    "    ax_love_l.spines[\"top\"].set_position((\"axes\", 1.2))\n",
    "    \n",
    "    if ax_i == 0:\n",
    "        ax.plot(np.real(k2), depth_array/1000., c='b', ls='-')\n",
    "        ax_love_h.plot(np.real(h2), depth_array/1000., c='r', ls='-')\n",
    "        ax_love_l.plot(np.real(l2), depth_array/1000., c='orange', ls='-')\n",
    "        \n",
    "        ax.set(ylabel='Depth [km]', xlabel='Re[$k_{2}$]', xscale='linear')\n",
    "        ax_love_h.set(xlabel='Re[$h_{2}$]', xscale='linear')\n",
    "        ax_love_l.set(xlabel='Re[$l_{2}$]', xscale='linear')\n",
    "        ax.set_ylim(ax.get_ylim()[::-1])\n",
    "        ax_love_h.set_ylim(ax_love_h.get_ylim()[::-1])\n",
    "        ax_love_l.set_ylim(ax_love_l.get_ylim()[::-1])\n",
    "    else:\n",
    "        ax.plot(-np.imag(k2), depth_array/1000., c='b', ls='-')\n",
    "        ax_love_h.plot(-np.imag(h2), depth_array/1000., c='r', ls='-')\n",
    "        ax_love_l.plot(-np.imag(l2), depth_array/1000., c='orange', ls='-')\n",
    "\n",
    "        ax.set(ylabel='Depth [km]', xlabel='-Im[$k_{2}$]', xscale='log')\n",
    "        ax_love_h.set(xlabel='-Im[$h_{2}$]', xscale='log')\n",
    "        ax_love_l.set(xlabel='-Im[$l_{2}$]', xscale='log')\n",
    "        ax.set_ylim(ax.get_ylim()[::-1])\n",
    "        ax_love_h.set_ylim(ax_love_h.get_ylim()[::-1])\n",
    "        ax_love_l.set_ylim(ax_love_l.get_ylim()[::-1])\n",
    "\n",
    "    for ax2, color in zip([ax, ax_love_h, ax_love_l], ['b', 'r', 'orange']):\n",
    "        if ax2 is ax_visco:\n",
    "            ax2.spines['bottom'].set_color(color)\n",
    "        else:\n",
    "            ax2.spines['top'].set_color(color)\n",
    "        ax2.xaxis.label.set_color(color)\n",
    "\n",
    "fig_love.tight_layout()\n",
    "plt.show()"
   ]
  },
  {
   "cell_type": "markdown",
   "metadata": {},
   "source": [
    "## Calculate Tidal Displacement\n",
    "Utilizing the simplified tidal potential (low eccentricity, no obliquity, spin-synchronous)."
   ]
  },
  {
   "cell_type": "code",
   "execution_count": 7,
   "metadata": {},
   "outputs": [],
   "source": [
    "# Define latitude and longitude domain\n",
    "colatitude = np.linspace(0.1, 179.9, 25)\n",
    "latitude = colatitude - 90.\n",
    "longitude = np.linspace(0., 360., 30)\n",
    "longitude_r = np.radians(longitude)\n",
    "colatitude_r = np.radians(colatitude)\n",
    "time_domain = np.linspace(0., orbital_period, 50)\n",
    "\n",
    "rad_mtx, time_mtx, long_mtx, lat_mtx = \\\n",
    "    np.meshgrid(radius_array, time_domain, longitude_r, colatitude_r, indexing='ij')"
   ]
  },
  {
   "cell_type": "code",
   "execution_count": 8,
   "metadata": {},
   "outputs": [],
   "source": [
    "# Calculate the simplified tidal potential\n",
    "potential, potential_dtheta, potential_dphi, potential_d2theta, potential_d2phi, potential_dtheta_dphi = \\\n",
    "    tidal_potential(rad_mtx, long_mtx, lat_mtx, orbital_freq, eccentricity, time_mtx)\n",
    "\n",
    "# Scale by the tidal solutions\n",
    "u_r = radial_displacement = tidal_y[0, -1] * potential\n",
    "u_th = polar_displacement = tidal_y[2, -1] * potential_dtheta\n",
    "u_phi = azimuthal_displacement = tidal_y[2, -1] * potential_dphi / np.sin(lat_mtx)"
   ]
  },
  {
   "cell_type": "code",
   "execution_count": 9,
   "metadata": {
    "scrolled": false
   },
   "outputs": [
    {
     "data": {
      "application/vnd.jupyter.widget-view+json": {
       "model_id": "cc8a4ce9954541558f6ef61b35085fa3",
       "version_major": 2,
       "version_minor": 0
      },
      "text/plain": [
       "Canvas(toolbar=Toolbar(toolitems=[('Home', 'Reset original view', 'home', 'home'), ('Back', 'Back to previous …"
      ]
     },
     "metadata": {},
     "output_type": "display_data"
    },
    {
     "data": {
      "application/vnd.jupyter.widget-view+json": {
       "model_id": "5287e08176054f9facbe43c4c3855e35",
       "version_major": 2,
       "version_minor": 0
      },
      "text/plain": [
       "interactive(children=(IntSlider(value=0, description='time_i', max=49), IntSlider(value=48, description='radiu…"
      ]
     },
     "metadata": {},
     "output_type": "display_data"
    },
    {
     "data": {
      "text/plain": [
       "<function __main__.update_fig(time_i=0, radius_idx=0)>"
      ]
     },
     "execution_count": 9,
     "metadata": {},
     "output_type": "execute_result"
    }
   ],
   "source": [
    "# Plot results\n",
    "fig_disp, axes_disp = plt.subplots(ncols=3, figsize=(8, 5))\n",
    "plt.subplots_adjust(wspace=.5)\n",
    "ax_disp_r = axes_disp[0]\n",
    "ax_disp_th = axes_disp[1]\n",
    "ax_disp_phi = axes_disp[2]\n",
    "\n",
    "def update_fig(time_i=0, radius_idx=0):\n",
    "    orbital_period_now_displacement = time_domain[time_i] / orbital_period\n",
    "    depth_now_displacement = radius_array[1:][radius_idx]\n",
    "    ax_disp_r.clear()\n",
    "    ax_disp_th.clear()\n",
    "    ax_disp_phi.clear()\n",
    "    fig_disp.suptitle(f'{orbital_period_now_displacement:0.2f} Orbital Period; {depth_now_displacement/1000:0.0f} km')\n",
    "    \n",
    "    ax_disp_r.set(ylabel='Latitude [$\\deg$]', xlabel='Longitude [$\\deg$]',\n",
    "                  title='Radial Displacement', xlim=(0, 360), ylim=(-90, 90))\n",
    "    ax_disp_th.set(ylabel='Latitude [$\\deg$]', xlabel='Longitude [$\\deg$]',\n",
    "                   title='Polar Displacement', xlim=(0, 360), ylim=(-90, 90))\n",
    "    ax_disp_phi.set(ylabel='Latitude [$\\deg$]', xlabel='Longitude [$\\deg$]',\n",
    "                    title='Azimuthal Displacement', xlim=(0, 360), ylim=(-90, 90))\n",
    "    \n",
    "    ax_disp_r.contourf(longitude, latitude, u_r[radius_idx, time_i, :, :].T, 15)\n",
    "    ax_disp_th.contourf(longitude, latitude, u_th[radius_idx, time_i, :, :].T, 15)\n",
    "    ax_disp_phi.contourf(longitude, latitude, u_phi[radius_idx, time_i, :, :].T, 15)\n",
    "    fig_disp.tight_layout()\n",
    "\n",
    "interact(update_fig, time_i=(0, len(time_domain)-1, 1),\n",
    "         radius_idx=widgets.IntSlider(min=0, max=len(radius_array[1:])-1, step=1, value=len(radius_array[1:])-1))"
   ]
  },
  {
   "cell_type": "markdown",
   "metadata": {},
   "source": [
    "## Orbit-Averaged, Tidal Heating as Function of Depth\n",
    "Here we will use a modified version of the heating(radius) equations found in TB05. "
   ]
  },
  {
   "cell_type": "code",
   "execution_count": 10,
   "metadata": {},
   "outputs": [
    {
     "name": "stdout",
     "output_type": "stream",
     "text": [
      "Total Heating 1.88e+15 W\n"
     ]
    },
    {
     "data": {
      "application/vnd.jupyter.widget-view+json": {
       "model_id": "845e555aeb2b49f4b33ff66ad60f4a89",
       "version_major": 2,
       "version_minor": 0
      },
      "text/plain": [
       "Canvas(toolbar=Toolbar(toolitems=[('Home', 'Reset original view', 'home', 'home'), ('Back', 'Back to previous …"
      ]
     },
     "metadata": {},
     "output_type": "display_data"
    }
   ],
   "source": [
    "# We will use the radial sensitivity to shear calculated in a previous step.\n",
    "vol_heating_as_func_radius = \\\n",
    "    calc_radial_tidal_heating(eccentricity, orbital_freq, semi_major_axis,\n",
    "                              tidal_host_mass,\n",
    "                              radius_array, radial_sensitivity_to_shear,\n",
    "                              complex_shears, order_l=2)\n",
    "\n",
    "print(f'Total Heating {sum(vol_heating_as_func_radius * volume_array ):0.2e} W')\n",
    "# Plot result\n",
    "fig_heat_depth_mu, ax_heat_depth_mu = plt.subplots()\n",
    "ax_heat_depth_mu.set(ylabel='Depth [km]', xlabel='Volumetric Heating Rate [W m$^{-3}$]', xscale='log')\n",
    "ax_heat_depth_mu.plot(vol_heating_as_func_radius, depth_array / 1000.)\n",
    "ax_heat_depth_mu.set_ylim(ax_heat_depth_mu.get_ylim()[::-1])\n",
    "fig_heat_depth_mu.tight_layout()\n",
    "plt.show()"
   ]
  },
  {
   "cell_type": "markdown",
   "metadata": {},
   "source": [
    "## Strain and Stress Tensors\n",
    "Here we will calculate the strain and stress tensors using the methods described in TB05 and B13"
   ]
  },
  {
   "cell_type": "code",
   "execution_count": 11,
   "metadata": {
    "scrolled": false
   },
   "outputs": [],
   "source": [
    "# We need to recast the tidal y solution into the correct dimensions\n",
    "#    (it does not care about long/lat or time - at least in this context).\n",
    "tidal_y_higher_dim = np.zeros((6, *rad_mtx.shape), dtype=np.complex128)\n",
    "tidal_y_deriv_higher_dim = np.zeros((6, *rad_mtx.shape), dtype=np.complex128)\n",
    "\n",
    "complex_shears_higher_dim, _, _, _ = \\\n",
    "        np.meshgrid(complex_shears, time_domain, longitude_r, colatitude_r, indexing='ij')\n",
    "bulk_moduli_higher_dim, _, _, _ = \\\n",
    "        np.meshgrid(bulk_moduli, time_domain, longitude_r, colatitude_r, indexing='ij')\n",
    "radius_array_higher_dim, _, _, _ = \\\n",
    "        np.meshgrid(radius_array, time_domain, longitude_r, colatitude_r, indexing='ij')\n",
    "volume_array_higher_dim, _, _, _ = \\\n",
    "        np.meshgrid(volume_array, time_domain, longitude_r, colatitude_r, indexing='ij')\n",
    "for i in range(6):\n",
    "    tidal_y_higher_dim[i, :, :, :, :], _, _, _ = \\\n",
    "        np.meshgrid(tidal_y[i, :], time_domain, longitude_r, colatitude_r, indexing='ij')\n",
    "    tidal_y_deriv_higher_dim[i, :, :, :, :], _, _, _ = \\\n",
    "        np.meshgrid(tidal_y_deriv[i, :], time_domain, longitude_r, colatitude_r, indexing='ij')\n",
    "\n",
    "# Calculate the simplified tidal potential\n",
    "potential_STR, potential_dtheta_STR, potential_dphi_STR, potential_d2theta_STR, potential_d2phi_STR, potential_dtheta_dphi_STR = \\\n",
    "    tidal_potential(rad_mtx, long_mtx, lat_mtx, orbital_freq, eccentricity, time_mtx)\n",
    "\n",
    "# Use the tidal solutions to scale the potential and find the strains\n",
    "strain_rr, strain_thth, strain_phph, strain_rth, strain_rph, strain_thph = \\\n",
    "    calculate_strain(potential_STR, potential_dtheta_STR, potential_dphi_STR,\n",
    "                     potential_d2theta_STR, potential_d2phi_STR,\n",
    "                     potential_dtheta_dphi_STR, tidal_y_higher_dim, tidal_y_deriv_higher_dim,\n",
    "                     colatitude=lat_mtx, radius=radius_array_higher_dim, shear_moduli=complex_shears_higher_dim)\n",
    "\n",
    "# Use strains to calculate stress\n",
    "trace = strain_rr + strain_thth + strain_phph\n",
    "kk_term = (bulk_moduli_higher_dim - (2. / 3.) * complex_shears_higher_dim) * trace\n",
    "\n",
    "# Find Stresses\n",
    "stress_rr = (2. * complex_shears_higher_dim * strain_rr) + kk_term\n",
    "stress_thth = (2. * complex_shears_higher_dim * strain_thth) + kk_term\n",
    "stress_phph = (2. * complex_shears_higher_dim * strain_phph) + kk_term\n",
    "stress_rth = 2. * complex_shears_higher_dim * strain_rth \n",
    "stress_rph = 2. * complex_shears_higher_dim * strain_rph\n",
    "stress_thph = 2. * complex_shears_higher_dim * strain_thph"
   ]
  },
  {
   "cell_type": "markdown",
   "metadata": {},
   "source": [
    "### Stress and Strain over time"
   ]
  },
  {
   "cell_type": "code",
   "execution_count": 12,
   "metadata": {
    "scrolled": false
   },
   "outputs": [
    {
     "data": {
      "application/vnd.jupyter.widget-view+json": {
       "model_id": "aad12c70b7db4a78a671f8458a6cfa73",
       "version_major": 2,
       "version_minor": 0
      },
      "text/plain": [
       "Canvas(toolbar=Toolbar(toolitems=[('Home', 'Reset original view', 'home', 'home'), ('Back', 'Back to previous …"
      ]
     },
     "metadata": {},
     "output_type": "display_data"
    },
    {
     "data": {
      "application/vnd.jupyter.widget-view+json": {
       "model_id": "65bd19e52d4a47fc9addff285d97fae1",
       "version_major": 2,
       "version_minor": 0
      },
      "text/plain": [
       "interactive(children=(IntSlider(value=0, description='time_i', max=49), IntSlider(value=48, description='radiu…"
      ]
     },
     "metadata": {},
     "output_type": "display_data"
    },
    {
     "data": {
      "text/plain": [
       "<function __main__.update_fig(time_i=0, radius_idx=0, show_imaginary=False)>"
      ]
     },
     "execution_count": 12,
     "metadata": {},
     "output_type": "execute_result"
    }
   ],
   "source": [
    "# Plot results\n",
    "fig_strain_time, axes_stress_strain_time = plt.subplots(ncols=3, nrows=4, figsize=(8, 6))\n",
    "ax_strain_r = axes_stress_strain_time[0, 0]\n",
    "ax_strain_th = axes_stress_strain_time[0, 1]\n",
    "ax_strain_phi = axes_stress_strain_time[0, 2]\n",
    "ax_strain_rth = axes_stress_strain_time[1, 0]\n",
    "ax_strain_rphi = axes_stress_strain_time[1, 1]\n",
    "ax_strain_thphi = axes_stress_strain_time[1, 2]\n",
    "ax_stress_r = axes_stress_strain_time[2, 0]\n",
    "ax_stress_th = axes_stress_strain_time[2, 1]\n",
    "ax_stress_phi = axes_stress_strain_time[2, 2]\n",
    "ax_stress_rth = axes_stress_strain_time[3, 0]\n",
    "ax_stress_rphi = axes_stress_strain_time[3, 1]\n",
    "ax_stress_thphi = axes_stress_strain_time[3, 2]\n",
    "\n",
    "def update_fig(time_i=0, radius_idx=0, show_imaginary=False):\n",
    "    orbital_period_now_displacement = time_domain[time_i] / orbital_period\n",
    "    depth_now_displacement = radius_array[1:][radius_idx]\n",
    "    \n",
    "    str_pre = ''\n",
    "    str_post = ''\n",
    "    def scale_func(arry):\n",
    "        return arry\n",
    "    if show_imaginary:\n",
    "        str_pre = 'Im['\n",
    "        str_post = ']'\n",
    "        def scale_func(arry):\n",
    "            return np.imag(arry)\n",
    "    \n",
    "    e_rr = strain_rr[radius_idx, time_i, :, :]\n",
    "    e_thth = strain_thth[radius_idx, time_i, :, :]\n",
    "    e_phph = strain_phph[radius_idx, time_i, :, :]\n",
    "    e_rth = 2. * strain_rth[radius_idx, time_i, :, :]\n",
    "    e_rph = 2. * strain_rph[radius_idx, time_i, :, :]\n",
    "    e_thph = 2. * strain_thph[radius_idx, time_i, :, :]\n",
    "    o_rr = stress_rr[radius_idx, time_i, :, :]\n",
    "    o_thth = stress_thth[radius_idx, time_i, :, :]\n",
    "    o_phph = stress_phph[radius_idx, time_i, :, :]\n",
    "    o_rth = 2. * stress_rth[radius_idx, time_i, :, :]\n",
    "    o_rph = 2. * stress_rph[radius_idx, time_i, :, :]\n",
    "    o_thph = 2. * stress_thph[radius_idx, time_i, :, :]\n",
    "    \n",
    "    ax_strain_r.clear()\n",
    "    ax_strain_th.clear()\n",
    "    ax_strain_phi.clear()\n",
    "    ax_strain_rth.clear()\n",
    "    ax_strain_rphi.clear()\n",
    "    ax_strain_thphi.clear()\n",
    "    ax_stress_r.clear()\n",
    "    ax_stress_th.clear()\n",
    "    ax_stress_phi.clear()\n",
    "    ax_stress_rth.clear()\n",
    "    ax_stress_rphi.clear()\n",
    "    ax_stress_thphi.clear()\n",
    "    \n",
    "    fig_strain_time.suptitle(f'{orbital_period_now_displacement:0.2f} Orbital Period; {depth_now_displacement/1000:0.0f} km')\n",
    "    \n",
    "    ax_strain_r.set(ylabel='Latitude [$\\deg$]',\n",
    "                    title=str_pre+'$\\\\epsilon_{rr}$'+str_post, xlim=(0, 360), ylim=(-90, 90))\n",
    "    ax_strain_th.set(title=str_pre+'$\\\\epsilon_{\\\\theta\\\\theta}$'+str_post, xlim=(0, 360), ylim=(-90, 90))\n",
    "    ax_strain_phi.set(title=str_pre+'$\\\\epsilon_{\\\\phi\\\\phi}$'+str_post, xlim=(0, 360), ylim=(-90, 90))\n",
    "    ax_strain_rth.set(ylabel='Latitude [$\\deg$]',\n",
    "                      title=str_pre+'$\\\\epsilon_{r\\\\theta}$'+str_post, xlim=(0, 360), ylim=(-90, 90))\n",
    "    ax_strain_rphi.set(title=str_pre+'$\\\\epsilon_{r\\\\phi}$'+str_post, xlim=(0, 360), ylim=(-90, 90))\n",
    "    ax_strain_thphi.set(title=str_pre+'$\\\\epsilon_{\\\\theta\\\\phi}$'+str_post, xlim=(0, 360), ylim=(-90, 90))\n",
    "    \n",
    "    ax_stress_r.set(ylabel='Latitude [$\\deg$]',\n",
    "                      title=str_pre+'$\\\\sigma_{rr}$'+str_post, xlim=(0, 360), ylim=(-90, 90))\n",
    "    ax_stress_th.set(title=str_pre+'$\\\\sigma_{\\\\theta\\\\theta}$'+str_post, xlim=(0, 360), ylim=(-90, 90))\n",
    "    ax_stress_phi.set(title=str_pre+'$\\\\sigma_{\\\\phi\\\\phi}$'+str_post, xlim=(0, 360), ylim=(-90, 90))\n",
    "    ax_stress_rth.set(ylabel='Latitude [$\\deg$]', xlabel='Longitude [$\\deg$]',\n",
    "                      title=str_pre+'$\\\\sigma_{r\\\\theta}$'+str_post, xlim=(0, 360), ylim=(-90, 90))\n",
    "    ax_stress_rphi.set(xlabel='Longitude [$\\deg$]',\n",
    "                       title=str_pre+'$\\\\sigma_{r\\\\phi}$'+str_post, xlim=(0, 360), ylim=(-90, 90))\n",
    "    ax_stress_thphi.set(xlabel='Longitude [$\\deg$]',\n",
    "                        title=str_pre+'$\\\\sigma_{\\\\theta\\\\phi}$'+str_post, xlim=(0, 360), ylim=(-90, 90))\n",
    "    \n",
    "    ax_strain_r.contourf(longitude, latitude, scale_func(e_rr.T), 10)\n",
    "    ax_strain_th.contourf(longitude, latitude, scale_func(e_thth.T), 10)\n",
    "    ax_strain_phi.contourf(longitude, latitude, scale_func(e_phph.T), 10)\n",
    "    ax_strain_rth.contourf(longitude, latitude, scale_func(e_rth.T), 10)\n",
    "    ax_strain_rphi.contourf(longitude, latitude, scale_func(e_rph.T), 10)\n",
    "    ax_strain_thphi.contourf(longitude, latitude, scale_func(e_thph.T), 10)\n",
    "    ax_stress_r.contourf(longitude, latitude, scale_func(o_rr.T), 10)\n",
    "    ax_stress_th.contourf(longitude, latitude, scale_func(o_thth.T), 10)\n",
    "    ax_stress_phi.contourf(longitude, latitude, scale_func(o_phph.T), 10)\n",
    "    ax_stress_rth.contourf(longitude, latitude, scale_func(o_rth.T), 10)\n",
    "    ax_stress_rphi.contourf(longitude, latitude, scale_func(o_rph.T), 10)\n",
    "    ax_stress_thphi.contourf(longitude, latitude, scale_func(o_thph.T), 10)\n",
    "    \n",
    "    fig_strain_time.tight_layout()\n",
    "    plt.subplots_adjust(wspace=.2, hspace=0.55)\n",
    "\n",
    "interact(update_fig, time_i=(0, len(time_domain)-1, 1),\n",
    "         radius_idx=widgets.IntSlider(min=0, max=len(radius_array[1:])-1, step=1, value=len(radius_array[1:])-1),\n",
    "         show_imaginary=False)"
   ]
  },
  {
   "cell_type": "markdown",
   "metadata": {},
   "source": [
    "### Stress over depth\n",
    "**Latitude: 0, Longitude: 0**"
   ]
  },
  {
   "cell_type": "code",
   "execution_count": 13,
   "metadata": {},
   "outputs": [
    {
     "data": {
      "application/vnd.jupyter.widget-view+json": {
       "model_id": "bb007c87536a4431befee6105287604e",
       "version_major": 2,
       "version_minor": 0
      },
      "text/plain": [
       "Canvas(toolbar=Toolbar(toolitems=[('Home', 'Reset original view', 'home', 'home'), ('Back', 'Back to previous …"
      ]
     },
     "metadata": {},
     "output_type": "display_data"
    }
   ],
   "source": [
    "latitude_idx = find_nearest(latitude, 25.)\n",
    "longitude_idx = find_nearest(longitude, 120.)\n",
    "time_index = 10\n",
    "\n",
    "show_real = False\n",
    "show_imag = False\n",
    "show_abs = False\n",
    "\n",
    "def scale_func(arry):\n",
    "    return arry\n",
    "\n",
    "str_pre = ''\n",
    "str_post = ''\n",
    "if show_real:\n",
    "    str_pre = 'Re['\n",
    "    str_post = ']'\n",
    "    def scale_func(arry):\n",
    "        return np.real(arry)\n",
    "elif show_imag:\n",
    "    str_pre = 'Im['\n",
    "    str_post = ']'\n",
    "    def scale_func(arry):\n",
    "        return np.imag(arry)\n",
    "elif show_abs:\n",
    "    str_pre = '|'\n",
    "    str_post = '|'\n",
    "    def scale_func(arry):\n",
    "        return np.abs(arry)\n",
    "    \n",
    "\n",
    "# Plot results\n",
    "fig_strain_depth, axes_strain_depth = plt.subplots(ncols=3, nrows=2, figsize=(9, 5))\n",
    "plt.subplots_adjust(wspace=.6, hspace=0.5)\n",
    "ax_strain_depth_r = axes_strain_depth[0, 0]\n",
    "ax_strain_depth_th = axes_strain_depth[0, 1]\n",
    "ax_strain_depth_phi = axes_strain_depth[0, 2]\n",
    "ax_strain_depth_rth = axes_strain_depth[1, 0]\n",
    "ax_strain_depth_rphi = axes_strain_depth[1, 1]\n",
    "ax_strain_depth_thphi = axes_strain_depth[1, 2]\n",
    "ax_stress_depth_r = ax_strain_depth_r.twiny()\n",
    "ax_stress_depth_th = ax_strain_depth_th.twiny()\n",
    "ax_stress_depth_phi = ax_strain_depth_phi.twiny()\n",
    "ax_stress_depth_rth = ax_strain_depth_rth.twiny()\n",
    "ax_stress_depth_rphi = ax_strain_depth_rphi.twiny()\n",
    "ax_stress_depth_thphi = ax_strain_depth_thphi.twiny()\n",
    "\n",
    "ax_strain_depth_r.set(ylabel='Depth [km]', xlabel=str_pre+'$\\\\epsilon_{rr}$'+str_post)\n",
    "ax_strain_depth_th.set(xlabel=str_pre+'$\\\\epsilon_{\\\\theta\\\\theta}$'+str_post)\n",
    "ax_strain_depth_phi.set(xlabel=str_pre+'$\\\\epsilon_{\\\\phi\\\\phi}$'+str_post)\n",
    "ax_strain_depth_rth.set(ylabel='Depth [km]', xlabel=str_pre+'$\\\\epsilon_{r\\\\theta}$'+str_post)\n",
    "ax_strain_depth_rphi.set(xlabel=str_pre+'$\\\\epsilon_{r\\\\phi}$'+str_post)\n",
    "ax_strain_depth_thphi.set(xlabel=str_pre+'$\\\\epsilon_{\\\\theta\\\\phi}$'+str_post)\n",
    "ax_stress_depth_r.set(xlabel=str_pre+'$\\\\sigma_{rr}$'+str_post)\n",
    "ax_stress_depth_th.set(xlabel=str_pre+'$\\\\sigma_{\\\\theta\\\\theta}$'+str_post)\n",
    "ax_stress_depth_phi.set(xlabel=str_pre+'$\\\\sigma_{\\\\phi\\\\phi}$'+str_post)\n",
    "ax_stress_depth_rth.set(xlabel=str_pre+'$\\\\sigma_{r\\\\theta}$'+str_post)\n",
    "ax_stress_depth_rphi.set(xlabel=str_pre+'$\\\\sigma_{r\\\\phi}$'+str_post)\n",
    "ax_stress_depth_thphi.set(xlabel=str_pre+'$\\\\sigma_{\\\\theta\\\\phi}$'+str_post)\n",
    "\n",
    "e_rr_depth = strain_rr[:, time_index, longitude_idx, latitude_idx]\n",
    "e_thth_depth = strain_thth[:, time_index, longitude_idx, latitude_idx]\n",
    "e_phph_depth = strain_phph[:, time_index, longitude_idx, latitude_idx]\n",
    "e_rth_depth = 2. * strain_rth[:, time_index, longitude_idx, latitude_idx]\n",
    "e_rph_depth = 2. * strain_rph[:, time_index, longitude_idx, latitude_idx]\n",
    "e_thph_depth = 2. * strain_thph[:, time_index, longitude_idx, latitude_idx]\n",
    "o_rr_depth = stress_rr[:, time_index, longitude_idx, latitude_idx]\n",
    "o_thth_depth = stress_thth[:, time_index, longitude_idx, latitude_idx]\n",
    "o_phph_depth = stress_phph[:, time_index, longitude_idx, latitude_idx]\n",
    "o_rth_depth = 2. * stress_rth[:, time_index, longitude_idx, latitude_idx]\n",
    "o_rph_depth = 2. * stress_rph[:, time_index, longitude_idx, latitude_idx]\n",
    "o_thph_depth = 2. * stress_thph[:, time_index, longitude_idx, latitude_idx]\n",
    "\n",
    "ax_strain_depth_r.plot(scale_func(e_rr_depth), depth_array / 1000., 'b-')\n",
    "ax_strain_depth_th.plot(scale_func(e_thth_depth), depth_array / 1000., 'b-')\n",
    "ax_strain_depth_phi.plot(scale_func(e_phph_depth), depth_array / 1000., 'b-')\n",
    "ax_strain_depth_rth.plot(scale_func(e_rth_depth), depth_array / 1000., 'b-')\n",
    "ax_strain_depth_rphi.plot(scale_func(e_rph_depth), depth_array / 1000., 'b-')\n",
    "ax_strain_depth_thphi.plot(scale_func(e_thph_depth), depth_array / 1000., 'b-')\n",
    "ax_stress_depth_r.plot(scale_func(o_rr_depth), depth_array / 1000., 'r-')\n",
    "ax_stress_depth_th.plot(scale_func(o_thth_depth), depth_array / 1000., 'r-')\n",
    "ax_stress_depth_phi.plot(scale_func(o_phph_depth), depth_array / 1000., 'r-')\n",
    "ax_stress_depth_rth.plot(scale_func(o_rth_depth), depth_array / 1000., 'r-')\n",
    "ax_stress_depth_rphi.plot(scale_func(o_rph_depth), depth_array / 1000., 'r-')\n",
    "ax_stress_depth_thphi.plot(scale_func(o_thph_depth), depth_array / 1000., 'r-')\n",
    "\n",
    "for ax in [ax_strain_depth_r, ax_strain_depth_th, ax_strain_depth_phi,\n",
    "           ax_strain_depth_rth, ax_strain_depth_rphi, ax_strain_depth_thphi]:\n",
    "    \n",
    "    ax.set_ylim(ax.get_ylim()[::-1])\n",
    "    ax.spines['bottom'].set_color('blue')\n",
    "    ax.xaxis.label.set_color('blue')\n",
    "    ax.tick_params(axis='x', colors='blue')\n",
    "\n",
    "for ax in [ax_stress_depth_r, ax_stress_depth_th, ax_stress_depth_phi,\n",
    "           ax_stress_depth_rth, ax_stress_depth_rphi, ax_stress_depth_thphi]:\n",
    "    \n",
    "#     ax.set_ylim(ax.get_ylim()[::-1])\n",
    "    ax.spines['top'].set_color('red')\n",
    "    ax.xaxis.label.set_color('red')\n",
    "    ax.tick_params(axis='x', colors='red')\n",
    "    \n",
    "fig_strain_depth.tight_layout()\n",
    "plt.show()"
   ]
  },
  {
   "cell_type": "markdown",
   "metadata": {},
   "source": [
    "## Tidal Heating Rate"
   ]
  },
  {
   "cell_type": "code",
   "execution_count": 14,
   "metadata": {},
   "outputs": [],
   "source": [
    "# Calculate Tidal Heating, using two methods\n",
    "strain_trace = strain_rr + strain_thth + strain_phph\n",
    "\n",
    "averaged_strain_sqrd = \\\n",
    "    strain_rr * np.conj(strain_rr) + \\\n",
    "    strain_thth * np.conj(strain_thth) + \\\n",
    "    strain_phph * np.conj(strain_phph) + \\\n",
    "    2. * strain_rth * np.conj(strain_rth) + \\\n",
    "    2. * strain_rph * np.conj(strain_rph) + \\\n",
    "    2. * strain_thph * np.conj(strain_thph)\n",
    "\n",
    "heating_method_2 = (orbital_freq / 2.) * (\n",
    "    np.imag(stress_rr) * np.real(strain_rr) - np.real(stress_rr) * np.imag(strain_rr) +\n",
    "    np.imag(stress_thth) * np.real(strain_thth) - np.real(stress_thth) * np.imag(strain_thth) +\n",
    "    np.imag(stress_phph) * np.real(strain_phph) - np.real(stress_phph) * np.imag(strain_phph) + \n",
    "    2. * (np.imag(stress_rth) * np.real(strain_rth) - np.real(stress_rth) * np.imag(strain_rth)) + \n",
    "    2. * (np.imag(stress_rph) * np.real(strain_rph) - np.real(stress_rph) * np.imag(strain_rph)) + \n",
    "    2. * (np.imag(stress_thph) * np.real(strain_thph) - np.real(stress_thph) * np.imag(strain_thph)))\n",
    "\n",
    "heating_method_1 = orbital_freq * np.imag(complex_shears_higher_dim) * \\\n",
    "    (averaged_strain_sqrd - (1. / 3.) * np.abs(trace)**2) * volume_array_higher_dim\n",
    "heating_method_2 *= volume_array_higher_dim"
   ]
  },
  {
   "cell_type": "code",
   "execution_count": 15,
   "metadata": {
    "scrolled": false
   },
   "outputs": [
    {
     "data": {
      "application/vnd.jupyter.widget-view+json": {
       "model_id": "b6d6498aad4741e385b969557cc9b4a7",
       "version_major": 2,
       "version_minor": 0
      },
      "text/plain": [
       "Canvas(toolbar=Toolbar(toolitems=[('Home', 'Reset original view', 'home', 'home'), ('Back', 'Back to previous …"
      ]
     },
     "metadata": {},
     "output_type": "display_data"
    },
    {
     "data": {
      "application/vnd.jupyter.widget-view+json": {
       "model_id": "adde0d9ca7284036981a0a8f1149dfa2",
       "version_major": 2,
       "version_minor": 0
      },
      "text/plain": [
       "interactive(children=(IntSlider(value=0, description='time_i', max=49), IntSlider(value=48, description='r_ind…"
      ]
     },
     "metadata": {},
     "output_type": "display_data"
    },
    {
     "data": {
      "text/plain": [
       "<function __main__.update_fig(time_i=0, r_index=-1, sum_depth=False, fix_negatives=False, show_flux=True, heat_method_1=True, fixed_long=0.0, fixed_lat=0.0, orbit_average=False)>"
      ]
     },
     "execution_count": 15,
     "metadata": {},
     "output_type": "execute_result"
    }
   ],
   "source": [
    "# Setup Figure\n",
    "fig_heat, axes_heat = plt.subplots(ncols=2, figsize=(9, 4))\n",
    "plt.subplots_adjust(wspace=4, hspace=0.3)\n",
    "\n",
    "axis_heat = axes_heat[0]\n",
    "axis_heat_depth = axes_heat[1]\n",
    "\n",
    "cb_heat = None\n",
    "\n",
    "def update_fig(time_i=0, r_index =-1,\n",
    "               sum_depth = False, fix_negatives = False, show_flux = True, heat_method_1 = True,\n",
    "               fixed_long=0., fixed_lat=0., orbit_average=False):\n",
    "    \n",
    "    global cb_heat\n",
    "    \n",
    "    # Determine heating method to use\n",
    "    if heat_method_1: \n",
    "        heating = np.copy(heating_method_1)\n",
    "        heating_at_depth = np.copy(heating_method_1)\n",
    "    else:\n",
    "        heating = np.copy(heating_method_2)\n",
    "        heating_at_depth = np.copy(heating_method_2)\n",
    "        \n",
    "    if fix_negatives:\n",
    "        # Check for negatives\n",
    "        heating[heating < 0.] = 0.\n",
    "        heating_at_depth[heating_at_depth < 0.] = 0.\n",
    "        \n",
    "    # Determine if we are summing over the depth of the world\n",
    "    if sum_depth:\n",
    "        heating = np.sum(heating, axis=0)\n",
    "    else:\n",
    "        heating = heating[r_index]\n",
    "    \n",
    "    # Determine if we are averageing over the orbit\n",
    "    # FIXME: This is probably not the right way to average?\n",
    "    if orbit_average:\n",
    "        heating = np.average(heating, axis=0)\n",
    "        heating_at_depth = np.average(heating_at_depth, axis=1)\n",
    "    else:\n",
    "        heating = heating[time_i]\n",
    "        heating_at_depth = heating_at_depth[:, time_i]\n",
    "    \n",
    "    # Plot Results\n",
    "    axis_heat.clear()\n",
    "    axis_heat_depth.clear()\n",
    "    plt.subplots_adjust(wspace=.1, hspace=0.3)\n",
    "    \n",
    "    # Set figure title\n",
    "    orbital_period_now_displacement = time_domain[time_i] / orbital_period\n",
    "    depth_now_displacement = radius_array[1:][r_index]\n",
    "    fig_heat.suptitle(f'{orbital_period_now_displacement:0.2f} Orbital Period; {depth_now_displacement/1000:0.0f} km')\n",
    "    \n",
    "    if cb_heat is not None:\n",
    "        cb_heat.remove()\n",
    "    axis_heat.set(title='Tidal Heating [W]')\n",
    "    if show_flux:\n",
    "        if sum_depth:\n",
    "            heating_to_plot = heating / world_surf_area\n",
    "        else:\n",
    "            heating_to_plot = heating / (4. * np.pi * radius_array[1:][r_index]**2)\n",
    "        axis_heat.set(title='Surface Heating Flux [W m-2]')\n",
    "    else:\n",
    "        heating_to_plot = heating\n",
    "    axis_heat.set(ylabel='Latitude [$\\deg$]', xlabel='Longitude [$\\deg$]', xlim=(0, 360), ylim=(-90, 90))\n",
    "    \n",
    "    cb_data = axis_heat.contourf(longitude, latitude, heating_to_plot.T, 15)\n",
    "    cb_heat = plt.colorbar(cb_data, ax=axis_heat)\n",
    "    \n",
    "    # plot depth at sub-stellar point\n",
    "    lat_indx = find_nearest(latitude, fixed_lat)\n",
    "    long_indx = find_nearest(longitude, fixed_long)\n",
    "    axis_heat_depth.plot(heating_at_depth[:, long_indx, lat_indx] / volume_array, depth_array/1000.)\n",
    "    axis_heat_depth.set(xlabel='Tidal Heating [W m-3]', ylabel='Depth [km]', xscale='log')\n",
    "    axis_heat_depth.set_ylim(axis_heat_depth.get_ylim()[::-1])\n",
    "    \n",
    "    axis_heat.plot([longitude[long_indx]], [latitude[lat_indx]], marker='x', c='r')\n",
    "    \n",
    "    fig_heat.tight_layout()\n",
    "\n",
    "interact(update_fig, time_i=(0, len(time_domain)-1, 1),\n",
    "         r_index=widgets.IntSlider(min=0, max=len(radius_array[1:])-1, step=1, value=len(radius_array[1:])-1),\n",
    "         sum_depth=False, show_flux=True, heat_method_1=True, orbit_average=False,\n",
    "         fixed_long=widgets.IntSlider(min=0, max=360, step=30, value=0),\n",
    "         fixed_lat=widgets.IntSlider(min=-90, max=90, step=30, value=0))"
   ]
  },
  {
   "cell_type": "markdown",
   "metadata": {},
   "source": [
    "## Performance\n",
    "Here we are just doing a simple check on how the propagation functions perform"
   ]
  },
  {
   "cell_type": "code",
   "execution_count": 16,
   "metadata": {},
   "outputs": [],
   "source": [
    "run_performance = False\n",
    "\n",
    "if run_performance:\n",
    "    print('Building Matricies')\n",
    "    %timeit fundamental_matrix_orderl2(radius_array[1:], complex_shears[1:], density_array[1:], gravity_array[1:])\n",
    "\n",
    "    print('Propagating Solutions')\n",
    "    %timeit propagate(Y, Y_inv, central_boundary_condition, world_radius, order_l=2)\n",
    "\n",
    "    print('Decomposition')\n",
    "    %timeit decompose(tidal_y, radius_array[1:], gravity_array[1:], complex_shears[2:], bulk_moduli[2:], order_l=2)"
   ]
  }
 ],
 "metadata": {
  "kernelspec": {
   "display_name": "Python 3",
   "language": "python",
   "name": "python3"
  },
  "language_info": {
   "codemirror_mode": {
    "name": "ipython",
    "version": 3
   },
   "file_extension": ".py",
   "mimetype": "text/x-python",
   "name": "python",
   "nbconvert_exporter": "python",
   "pygments_lexer": "ipython3",
   "version": "3.8.5"
  }
 },
 "nbformat": 4,
 "nbformat_minor": 1
}