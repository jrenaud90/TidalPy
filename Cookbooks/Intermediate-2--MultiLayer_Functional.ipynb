{
 "cells": [
  {
   "cell_type": "markdown",
   "metadata": {
    "collapsed": true,
    "pycharm": {
     "name": "#%% md\n"
    }
   },
   "source": [
    "# Multilayer Tidal Calculations\n",
    "In this cookbook we will explore how we can use TidalPy's multilayer tidal functions to calculate tidal heating as a function of radius.\n",
    "Here we are using a propagation matrix technique (SVC16) that is only valid in the incompressible limit.\n",
    "\n",
    "**References**:\n",
    "- SVC16 : Sabadini, Vermeerson, & Cambiotti (2016, DOI: [10.1007/978-94-017-7552-6](https://doi.org/10.1007/978-94-017-7552-6).\n",
    "- HH14  : Henning & Hurford (2014, DOI: [10.1088/0004-637X/789/1/30](https://doi.org/10.1088/0004-637X/789/1/30)).\n",
    "- TB05  : Tobie et al. (2005), DOI: [10.1016/j.icarus.2005.04.006](https://doi.org/10.1016/j.icarus.2005.04.006).\n",
    "- ID    : [IcyDwarf Code](https://github.com/MarcNeveu/IcyDwarf/blob/master/IcyDwarf/Thermal.h) written by Marc Neveu\n",
    "\n",
    "## Build the planet"
   ]
  },
  {
   "cell_type": "code",
   "execution_count": 1,
   "metadata": {
    "pycharm": {
     "name": "#%%\n"
    }
   },
   "outputs": [
    {
     "data": {
      "application/vnd.jupyter.widget-view+json": {
       "model_id": "0f11116f114b4f15ae4df1d0eea9e99d",
       "version_major": 2,
       "version_minor": 0
      },
      "text/plain": [
       "Canvas(toolbar=Toolbar(toolitems=[('Home', 'Reset original view', 'home', 'home'), ('Back', 'Back to previous …"
      ]
     },
     "metadata": {},
     "output_type": "display_data"
    }
   ],
   "source": [
    "import numpy as np\n",
    "import matplotlib.pyplot as plt\n",
    "%matplotlib ipympl\n",
    "\n",
    "from TidalPy import build_world\n",
    "from TidalPy.utilities.numpy_helper import find_nearest\n",
    "# For this example we will use the Io-Jupiter system\n",
    "io = build_world('Io')\n",
    "io.paint()\n",
    "jupiter = build_world('Jupiter')\n",
    "eccentricity = 0.0041\n",
    "orbital_freq = 2. * np.pi / (86400. * 1.76914)\n",
    "\n",
    "# We won't be using TidalPy's OOP approach (which currently does not use the multi-layer approach,\n",
    "#    instead relying on a homogenous model broken up by layers), instead we will pull out a few parameters needed\n",
    "#    for the multilayer calculations.\n",
    "radius_array = io.radii\n",
    "depth_array = (io.radius - radius_array)[::-1]\n",
    "gravity_array = io.gravities\n",
    "density_array = io.densities\n",
    "pressure_array = io.pressures\n",
    "\n",
    "# We will give the core and mantle a different viscoelastic state, but to do that we need to know what index\n",
    "#   corresponds to the top of the core.\n",
    "core_radius_cutoff = find_nearest(radius_array, io.core.radius)\n",
    "mantle_N = len(radius_array[core_radius_cutoff:])\n",
    "core_N = len(radius_array[:core_radius_cutoff])\n",
    "total_N = len(radius_array)\n",
    "\n",
    "# Determine some global properties\n",
    "world_radius = radius_array[-1]\n",
    "surface_gravity = gravity_array[-1]\n",
    "mantle_bulk_density = np.average(density_array[core_radius_cutoff:])"
   ]
  },
  {
   "cell_type": "code",
   "execution_count": 2,
   "metadata": {
    "pycharm": {
     "name": "#%%\n"
    }
   },
   "outputs": [
    {
     "data": {
      "application/vnd.jupyter.widget-view+json": {
       "model_id": "6ab9630946204d4c892df1a6822b215b",
       "version_major": 2,
       "version_minor": 0
      },
      "text/plain": [
       "Canvas(toolbar=Toolbar(toolitems=[('Home', 'Reset original view', 'home', 'home'), ('Back', 'Back to previous …"
      ]
     },
     "metadata": {},
     "output_type": "display_data"
    }
   ],
   "source": [
    "# Setup Io's viscoelastic state - this is not particularly accurate, just meant for demonstration purposes\n",
    "\n",
    "# Tidal dissipation is not too sensitive to bulk modulus so we will keep it constant\n",
    "bulk_moduli = 200.0e9 * np.ones_like(radius_array)\n",
    "bulk_moduli[:core_radius_cutoff] = 800.0e9\n",
    "\n",
    "# Shear modulus and viscosity is much more important, but to keep this example simple we will assume a\n",
    "#   constant shear and an increasing viscosity towards the surface\n",
    "shear_moduli = 50.0e9 * np.ones_like(radius_array)\n",
    "shear_moduli[:core_radius_cutoff] = 80.0e9\n",
    "\n",
    "viscosities = 1.e24 * np.ones_like(radius_array)\n",
    "viscosities[core_radius_cutoff:] = np.logspace(23, 16, mantle_N)\n",
    "\n",
    "# Now we can calculate the complex_compliance of the world. We will just use a Maxwell model here but several\n",
    "#    others are available.\n",
    "from TidalPy.rheology.complex_compliance.compliance_models import maxwell_array\n",
    "complex_compliances = maxwell_array(orbital_freq, shear_moduli**(-1), viscosities)\n",
    "# We will specifically turn off tidal dissipation in the core by setting the imaginary portion of\n",
    "#    complex compliance = 0\n",
    "complex_compliances[:core_radius_cutoff] = np.real(complex_compliances[:core_radius_cutoff]) + 1.e-12j * np.ones(core_N)\n",
    "complex_shears = complex_compliances**(-1)\n",
    "\n",
    "# Now let's see what this looks like\n",
    "fig_visco, ax_visco = plt.subplots()\n",
    "ax_shear = ax_visco.twiny()\n",
    "ax_comp = ax_visco.twiny()\n",
    "ax_comp.spines[\"top\"].set_position((\"axes\", 1.2))\n",
    "\n",
    "ax_visco.plot(viscosities, depth_array/1000., c='b', ls=':')\n",
    "ax_shear.plot(shear_moduli, depth_array/1000., c='r', ls=':')\n",
    "ax_comp.plot(np.real(complex_shears), depth_array/1000., c='orange', ls='-')\n",
    "ax_comp.plot(np.imag(complex_shears), depth_array/1000., c='orange', ls='--')\n",
    "\n",
    "ax_visco.set(ylabel='Depth [km]', xlabel='Viscosity [Pa s]', xscale='log')\n",
    "ax_shear.set(xlabel='Shear Modulus [Pa]', xscale='linear')\n",
    "ax_comp.set(xlabel='Complex Shear (Solid=Real, Dash=Imag) [Pa$^{-1}$]', xscale='log')\n",
    "for ax, color in zip([ax_visco, ax_shear, ax_comp], ['b', 'r', 'orange']):\n",
    "    if ax is ax_visco:\n",
    "        ax.spines['bottom'].set_color(color)\n",
    "    else:\n",
    "        ax.spines['top'].set_color(color)\n",
    "    ax.xaxis.label.set_color(color)\n",
    "\n",
    "plt.show()"
   ]
  },
  {
   "cell_type": "code",
   "execution_count": 3,
   "metadata": {
    "pycharm": {
     "name": "#%%\n"
    }
   },
   "outputs": [],
   "source": [
    "np.seterr(divide='raise')\n",
    "# Load TidalPy's multilayer functions\n",
    "from TidalPy.tides.multilayer import fundamental_matrix_orderl2, propagate, decompose\n",
    "\n",
    "# Find the fundamental matrix; skip the innermost shell as that will be a boundary condition.\n",
    "Y, Y_inv = fundamental_matrix_orderl2(radius_array[1:], complex_shears[1:], density_array[1:], gravity_array[1:])"
   ]
  },
  {
   "cell_type": "code",
   "execution_count": 4,
   "metadata": {
    "pycharm": {
     "name": "#%%\n"
    },
    "scrolled": false
   },
   "outputs": [],
   "source": [
    "# Propagate the tidal solution through the world's shells\n",
    "central_boundary_condition = np.zeros((6, 3), dtype=np.complex128)\n",
    "# Roberts & Nimmo (2000): Liquid innermost zone.\n",
    "central_boundary_condition[2, 0] = 1.0\n",
    "central_boundary_condition[3, 1] = 1.0\n",
    "central_boundary_condition[5, 2] = 1.0\n",
    "\n",
    "tidal_y = propagate(Y, Y_inv, central_boundary_condition, world_radius, order_l=2)"
   ]
  },
  {
   "cell_type": "code",
   "execution_count": 5,
   "metadata": {
    "pycharm": {
     "name": "#%%\n"
    }
   },
   "outputs": [
    {
     "name": "stdout",
     "output_type": "stream",
     "text": [
      "Surface Love & Shida Numbers\n",
      "k_2 = 3.03e-02-3.59e-03j; h_2 = 1.65e-02-1.96e-03j; l_2 = 2.20e-10-1.46e-11j\n"
     ]
    },
    {
     "data": {
      "application/vnd.jupyter.widget-view+json": {
       "model_id": "ce2dc56ae3854fc8a89f60aac2339d08",
       "version_major": 2,
       "version_minor": 0
      },
      "text/plain": [
       "Canvas(toolbar=Toolbar(toolitems=[('Home', 'Reset original view', 'home', 'home'), ('Back', 'Back to previous …"
      ]
     },
     "metadata": {},
     "output_type": "display_data"
    }
   ],
   "source": [
    "# Decompose the tidal solution into useful properties\n",
    "radial_sensitivity_to_shear, (k2, h2, l2) = \\\n",
    "    decompose(tidal_y, radius_array[1:], gravity_array[1:], complex_shears[2:], bulk_moduli[2:], order_l=2)\n",
    "\n",
    "print('Surface Love & Shida Numbers')\n",
    "print(f'k_2 = {k2[-1]:.2e}; h_2 = {h2[-1]:.2e}; l_2 = {l2[-1]:.2e}')\n",
    "\n",
    "# Let's plot these as a function of depth.\n",
    "fig_love, ax_love_k = plt.subplots()\n",
    "ax_love_h = ax_love_k.twiny()\n",
    "ax_love_l = ax_love_k.twiny()\n",
    "ax_love_l.spines[\"top\"].set_position((\"axes\", 1.2))\n",
    "\n",
    "ax_love_k.plot(np.real(k2), depth_array[1:]/1000., c='b', ls='-')\n",
    "ax_love_k.plot(np.imag(k2), depth_array[1:]/1000., c='b', ls='--')\n",
    "ax_love_h.plot(np.real(h2), depth_array[1:]/1000., c='r', ls='-')\n",
    "ax_love_h.plot(np.imag(h2), depth_array[1:]/1000., c='r', ls='--')\n",
    "ax_love_l.plot(np.real(l2), depth_array[1:]/1000., c='orange', ls='-')\n",
    "ax_love_l.plot(np.imag(l2), depth_array[1:]/1000., c='orange', ls='--')\n",
    "\n",
    "ax_love_k.set(title='Love Numbers (Solid=Real, Dash=Imag)')\n",
    "ax_love_k.set(ylabel='Depth [km]', xlabel='$k_{2}$', xscale='linear')\n",
    "ax_love_h.set(xlabel='$h_{2}$', xscale='linear')\n",
    "ax_love_l.set(xlabel='$l_{2}$', xscale='linear')\n",
    "\n",
    "for ax, color in zip([ax_love_k, ax_love_h, ax_love_l], ['b', 'r', 'orange']):\n",
    "    if ax is ax_visco:\n",
    "        ax.spines['bottom'].set_color(color)\n",
    "    else:\n",
    "        ax.spines['top'].set_color(color)\n",
    "    ax.xaxis.label.set_color(color)\n",
    "\n",
    "plt.show()"
   ]
  },
  {
   "cell_type": "markdown",
   "metadata": {},
   "source": [
    "## Calculate Tidal Displacement\n",
    "Utilizing the simplified tidal potential (low eccentricity, no obliquity, spin-synchronous)."
   ]
  },
  {
   "cell_type": "code",
   "execution_count": 6,
   "metadata": {},
   "outputs": [],
   "source": [
    "from TidalPy.tides.potential.synchronous_low_e import tidal_potential\n",
    "\n",
    "# Define latitude and longitude domain\n",
    "latitude = np.linspace(-89.9, 89.9, 100)\n",
    "colatitude = np.linspace(0.1, 179.9, 100)\n",
    "longitude = np.linspace(0., 360., 100)\n",
    "long_mtx, lat_mtx = np.meshgrid(np.radians(longitude), np.radians(colatitude))\n",
    "\n",
    "result_over_time = []\n",
    "\n",
    "for time in np.linspace(0., 86400. * 2., 20):\n",
    "    # Calculate the simplified tidal potential\n",
    "    potenital, potential_dtheta, potential_dphi = \\\n",
    "        tidal_potential(world_radius, long_mtx, lat_mtx, orbital_freq, eccentricity, time)\n",
    "\n",
    "    # Scale by the tidal solutions\n",
    "    radial_displacement = tidal_y[0, -1] * potenital\n",
    "    polar_displacement = tidal_y[2, -1] * potential_dtheta\n",
    "    azimuthal_displacement = tidal_y[2, -1] * potential_dphi\n",
    "    \n",
    "    result_over_time.append((time / (60. * 60), radial_displacement, polar_displacement, azimuthal_displacement))"
   ]
  },
  {
   "cell_type": "code",
   "execution_count": 17,
   "metadata": {
    "scrolled": false
   },
   "outputs": [
    {
     "data": {
      "application/vnd.jupyter.widget-view+json": {
       "model_id": "4cfddde9586e47d4bc27d321b4fd95b2",
       "version_major": 2,
       "version_minor": 0
      },
      "text/plain": [
       "Canvas(toolbar=Toolbar(toolitems=[('Home', 'Reset original view', 'home', 'home'), ('Back', 'Back to previous …"
      ]
     },
     "metadata": {},
     "output_type": "display_data"
    },
    {
     "name": "stdout",
     "output_type": "stream",
     "text": [
      "(2.09950888427305-0.24899222342391092j) (-1.050150088653856+0.12454303359296205j)\n",
      "(1.2603627209555644e-08-8.342040455718309e-10j) (-1.2603627209555647e-08+8.342040455718312e-10j)\n",
      "(1.4702018924269187e-08-9.730915918713035e-10j) (-2.4075003273885173e-06+1.593467086443455e-07j)\n"
     ]
    },
    {
     "data": {
      "application/vnd.jupyter.widget-view+json": {
       "model_id": "e3a977fcb8b04202a7323a8227085c88",
       "version_major": 2,
       "version_minor": 0
      },
      "text/plain": [
       "interactive(children=(IntSlider(value=0, description='time_i', max=19), Output()), _dom_classes=('widget-inter…"
      ]
     },
     "metadata": {},
     "output_type": "display_data"
    },
    {
     "data": {
      "text/plain": [
       "<function __main__.update_fig(time_i=0)>"
      ]
     },
     "execution_count": 17,
     "metadata": {},
     "output_type": "execute_result"
    }
   ],
   "source": [
    "# Plot results\n",
    "from ipywidgets import interact\n",
    "fig_disp, axes_disp = plt.subplots(ncols=3, figsize=(8, 4))\n",
    "plt.subplots_adjust(wspace=.5)\n",
    "ax_r = axes_disp[0]\n",
    "ax_r.set(ylabel='Latitude [$\\deg$]', xlabel='Longitude [$\\deg$]', title='Radial Displacement', xlim=(0, 360), ylim=(-90, 90))\n",
    "ax_th = axes_disp[1]\n",
    "ax_th.set(ylabel='Latitude [$\\deg$]', xlabel='Longitude [$\\deg$]', title='Polar Displacement', xlim=(0, 360), ylim=(-90, 90))\n",
    "ax_phi = axes_disp[2]\n",
    "ax_phi.set(ylabel='Latitude [$\\deg$]', xlabel='Longitude [$\\deg$]', title='Azimuthal Displacement', xlim=(0, 360), ylim=(-90, 90))\n",
    "fig_disp.suptitle(f'0.00 Hour')\n",
    "\n",
    "time_hr, u_r, u_th, u_phi = result_over_time[0]\n",
    "ax_r.contourf(longitude, latitude, u_r, 40)\n",
    "ax_th.contourf(longitude, latitude, u_th, 40)\n",
    "ax_phi.contourf(longitude, latitude, np.log10(u_phi), 40)\n",
    "\n",
    "print(np.max(u_r), np.min(u_r))\n",
    "print(np.max(u_th), np.min(u_th))\n",
    "print(np.max(u_phi), np.min(u_phi))\n",
    "\n",
    "def update_fig(time_i=0):\n",
    "    time_hr, u_r, u_th, u_phi = result_over_time[time_i]\n",
    "    ax_r.clear()\n",
    "    ax_th.clear()\n",
    "    ax_phi.clear()\n",
    "    fig_disp.suptitle(f'{time_hr:0.2f} Hour')\n",
    "    ax_r.set(ylabel='Latitude [$\\deg$]', xlabel='Longitude [$\\deg$]', title='Radial Displacement', xlim=(0, 360), ylim=(-90, 90))\n",
    "    ax_th.set(ylabel='Latitude [$\\deg$]', xlabel='Longitude [$\\deg$]', title='Polar Displacement', xlim=(0, 360), ylim=(-90, 90))\n",
    "    ax_phi.set(ylabel='Latitude [$\\deg$]', xlabel='Longitude [$\\deg$]', title='Azimuthal Displacement', xlim=(0, 360), ylim=(-90, 90))\n",
    "    ax_r.contourf(longitude, latitude, u_r, 40)\n",
    "    ax_th.contourf(longitude, latitude, u_th, 40)\n",
    "    ax_phi.contourf(longitude, latitude, np.log10(u_phi), 40)\n",
    "    fig_disp.tight_layout()\n",
    "\n",
    "interact(update_fig, time_i=(0, len(result_over_time)-1, 1))"
   ]
  },
  {
   "cell_type": "markdown",
   "metadata": {},
   "source": [
    "## Performance\n",
    "Here we are just doing a simple check on how the propagation functions perform"
   ]
  },
  {
   "cell_type": "raw",
   "metadata": {},
   "source": [
    "print('Building Matricies')\n",
    "%timeit fundamental_matrix_orderl2(radius_array[1:], complex_shears[1:], density_array[1:], gravity_array[1:])\n",
    "\n",
    "print('Propagating Solutions')\n",
    "%timeit propagate(Y, Y_inv, central_boundary_condition, world_radius, order_l=2)\n",
    "\n",
    "print('Decomposition')\n",
    "%timeit decompose(tidal_y, radius_array[1:], gravity_array[1:], complex_shears[2:], bulk_moduli[2:], order_l=2)"
   ]
  }
 ],
 "metadata": {
  "kernelspec": {
   "display_name": "Python 3",
   "language": "python",
   "name": "python3"
  },
  "language_info": {
   "codemirror_mode": {
    "name": "ipython",
    "version": 3
   },
   "file_extension": ".py",
   "mimetype": "text/x-python",
   "name": "python",
   "nbconvert_exporter": "python",
   "pygments_lexer": "ipython3",
   "version": "3.8.5"
  }
 },
 "nbformat": 4,
 "nbformat_minor": 1
}
