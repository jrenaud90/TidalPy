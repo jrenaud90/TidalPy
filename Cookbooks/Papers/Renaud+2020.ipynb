{
 "cells": [
  {
   "cell_type": "markdown",
   "metadata": {
    "collapsed": true,
    "pycharm": {
     "name": "#%% md\n"
    }
   },
   "source": [
    "# Dual-Body Dissipation\n",
    "Joe P. Renaud<sup>1,2,3</sup>, Wade G. Henning<sup>4,2,3</sup>, Prabal Saxena<sup>4,2,3</sup>, Marc Neveu<sup>4,2</sup>, Avi Mandell<sup>2,3</sup>, Terry Hurford<sup>2</sup>\n",
    "\n",
    "<sub><sup>1: Universities Space Research Association</sub></sup>\n",
    "<sub><sup>2: NASA Goddard Space Flight Center</sub></sup>\n",
    "<sub><sup>3: Sellers Exoplanet Environments Collaboration</sub></sup>\n",
    "<sub><sup>4: University of Maryland, College Park</sub></sup>\n",
    "\n",
    "This notebook contains additional figures and calculations related to the manuscript: TBD"
   ]
  },
  {
   "cell_type": "code",
   "execution_count": null,
   "outputs": [],
   "source": [
    "# Third Party Package Import\n",
    "import numpy as np\n",
    "import matplotlib.pyplot as plt"
   ],
   "metadata": {
    "collapsed": false,
    "pycharm": {
     "name": "#%%\n"
    }
   }
  },
  {
   "cell_type": "code",
   "execution_count": null,
   "outputs": [],
   "source": [
    "# TidalPy Import\n",
    "from TidalPy.tools.conversions import semi_a2orbital_motion\n",
    "from TidalPy.tides.dissipation import calc_tidal_susceptibility, mode_collapse"
   ],
   "metadata": {
    "collapsed": false,
    "pycharm": {
     "name": "#%%\n"
    }
   }
  },
  {
   "cell_type": "markdown",
   "source": [
    "## Define object parameters"
   ],
   "metadata": {
    "collapsed": false,
    "pycharm": {
     "name": "#%% md\n"
    }
   }
  },
  {
   "cell_type": "code",
   "execution_count": null,
   "outputs": [],
   "source": [
    "objects = dict()\n",
    "\n",
    "pluto = {\n",
    "    'mass': 1.309e22,\n",
    "    'radius': 1.1899e6,\n",
    "    'semi_a': 1.9599e7,  # Charon's Semi-Major Axis\n",
    "    'host': None\n",
    "}\n",
    "objects['Pluto'] = pluto\n",
    "\n",
    "charon = {\n",
    "    'mass': 1.62e21,\n",
    "    'radius': 6.06e5,\n",
    "    'semi_a': 1.9599e7,\n",
    "    'host': pluto\n",
    "}\n",
    "objects['Charon'] = charon\n",
    "\n",
    "TRAPPIST1 = {\n",
    "    'mass': 2.0e29,\n",
    "    'radius': 8.3e7,\n",
    "    'host': None\n",
    "}\n",
    "objects['TRAPPIST-1'] = TRAPPIST1\n",
    "\n",
    "TRAPPIST1_e = {\n",
    "    'mass': 3.7e24,\n",
    "    'radius': 5.86e6,\n",
    "    'semi_a': 4.2142e6,\n",
    "    'host': TRAPPIST1\n",
    "}\n",
    "objects['TRAPPIST-1 e'] = TRAPPIST1_e\n",
    "\n",
    "for object_name, object_data in objects.items():\n",
    "\n",
    "    # Calculate basic geometry\n",
    "    object_data['volume'] = (4. / 3.) * np.pi * object_data['radius']**3\n",
    "    object_data['bulk_density'] = object_data['mass'] / object_data['volume']\n",
    "\n",
    "    # If satellite, calculate orbital frequency\n",
    "    if object_data['host'] is not None:\n",
    "        host = object_data['host']\n",
    "        object_data['orbital_freq'] = semi_a2orbital_motion(object_data['semi_a'], host['mass'], object_data['mass'])"
   ],
   "metadata": {
    "collapsed": false,
    "pycharm": {
     "name": "#%%\n"
    }
   }
  },
  {
   "cell_type": "code",
   "execution_count": null,
   "outputs": [],
   "source": [
    "# TidalPy Import\n",
    "from TidalPy.tides.dissipation import calc_tidal_susceptibility, mode_collapse"
   ],
   "metadata": {
    "collapsed": false,
    "pycharm": {
     "name": "#%%\n"
    }
   }
  },
  {
   "cell_type": "markdown",
   "source": [
    "## Figure 2: Tidal Dissipation with Higher Eccentricity Terms"
   ],
   "metadata": {
    "collapsed": false
   }
  },
  {
   "cell_type": "code",
   "execution_count": null,
   "outputs": [],
   "source": [],
   "metadata": {
    "collapsed": false,
    "pycharm": {
     "name": "#%%\n"
    }
   }
  }
 ],
 "metadata": {
  "kernelspec": {
   "display_name": "Python 3",
   "language": "python",
   "name": "python3"
  },
  "language_info": {
   "codemirror_mode": {
    "name": "ipython",
    "version": 2
   },
   "file_extension": ".py",
   "mimetype": "text/x-python",
   "name": "python",
   "nbconvert_exporter": "python",
   "pygments_lexer": "ipython2",
   "version": "2.7.6"
  }
 },
 "nbformat": 4,
 "nbformat_minor": 0
}