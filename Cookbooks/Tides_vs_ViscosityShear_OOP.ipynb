{
 "cells": [
  {
   "cell_type": "markdown",
   "metadata": {
    "collapsed": true,
    "pycharm": {
     "name": "#%% md\n"
    }
   },
   "source": [
    "# Tidal Heating and Torque versus Strength (Viscosity and Shear Modulus)\n",
    "An example of using TidalPy as Object Oriented Programming\n"
   ]
  },
  {
   "cell_type": "code",
   "execution_count": 1,
   "metadata": {
    "pycharm": {
     "name": "#%%\n"
    }
   },
   "outputs": [],
   "source": [
    "# Setup Jupyter environment and load in useful packages \n",
    "%matplotlib inline \n",
    "import numpy as np\n",
    "import matplotlib.pyplot as plt\n",
    "from scipy.constants import G"
   ]
  },
  {
   "cell_type": "code",
   "execution_count": 2,
   "metadata": {
    "pycharm": {
     "name": "#%%\n"
    }
   },
   "outputs": [],
   "source": [
    "# Delete me!\n",
    "try:\n",
    "    import TidalPy\n",
    "except ModuleNotFoundError:\n",
    "    import sys, os\n",
    "    cwd = os.getcwd()\n",
    "    tpy = os.path.join(cwd, os.pardir)\n",
    "    if tpy not in sys.path:\n",
    "        sys.path.append(tpy)"
   ]
  },
  {
   "cell_type": "code",
   "execution_count": 3,
   "metadata": {
    "pycharm": {
     "name": "#%%\n"
    }
   },
   "outputs": [],
   "source": [
    "import TidalPy\n"
   ]
  },
  {
   "cell_type": "code",
   "execution_count": 4,
   "metadata": {
    "pycharm": {
     "name": "#%%\n"
    }
   },
   "outputs": [
    {
     "name": "stdout",
     "output_type": "stream",
     "text": [
      "Iteration 1 maximum relative pressure error: 6.9e-01\n",
      "Iteration 2 maximum relative pressure error: 3.6e-02\n",
      "Iteration 3 maximum relative pressure error: 1.5e-03\n",
      "Iteration 4 maximum relative pressure error: 5.5e-05\n",
      "Iteration 5 maximum relative pressure error: 2.0e-06\n"
     ]
    }
   ],
   "source": [
    "# Build the planet, let's choose Jupiter's moon Io\n",
    "io = TidalPy.build_planet('Io', force_build=True)\n"
   ]
  },
  {
   "cell_type": "code",
   "execution_count": 5,
   "metadata": {
    "pycharm": {
     "name": "#%%\n"
    }
   },
   "outputs": [
    {
     "name": "stdout",
     "output_type": "stream",
     "text": [
      "8.301402495280145e+22\n",
      "1.076262301519366e+35\n",
      "0.056547555205874095\n"
     ]
    }
   ],
   "source": [
    "print(io.mass)\n",
    "print(io.moi)\n",
    "print(io.core.mass / io.mass)\n",
    "\n",
    "\n",
    "\n"
   ]
  },
  {
   "cell_type": "code",
   "execution_count": null,
   "metadata": {},
   "outputs": [],
   "source": []
  }
 ],
 "metadata": {
  "kernelspec": {
   "display_name": "Python 3",
   "language": "python",
   "name": "python3"
  },
  "language_info": {
   "codemirror_mode": {
    "name": "ipython",
    "version": 3
   },
   "file_extension": ".py",
   "mimetype": "text/x-python",
   "name": "python",
   "nbconvert_exporter": "python",
   "pygments_lexer": "ipython3",
   "version": "3.7.3"
  },
  "pycharm": {
   "stem_cell": {
    "cell_type": "raw",
    "metadata": {
     "collapsed": false
    },
    "source": []
   }
  }
 },
 "nbformat": 4,
 "nbformat_minor": 1
}
