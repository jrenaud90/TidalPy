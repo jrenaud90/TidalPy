{
 "cells": [
  {
   "cell_type": "markdown",
   "metadata": {},
   "source": [
    "# Rheological Parameter Exploration\n",
    "Using TidalPy's high-level functional programming, we will see how different rheological parameters affect tidal dissipation"
   ]
  },
  {
   "cell_type": "code",
   "execution_count": 6,
   "metadata": {},
   "outputs": [],
   "source": [
    "import numpy as np\n",
    "import matplotlib.pyplot as plt\n",
    "# plt.style.use('dark_background')\n",
    "from matplotlib.gridspec import GridSpec\n",
    "import ipywidgets as widgets\n",
    "from ipywidgets import interact, interact_manual, IntSlider, FloatSlider\n",
    "from IPython.display import set_matplotlib_formats\n",
    "set_matplotlib_formats('pdf')\n",
    "\n",
    "from TidalPy.constants import mass_solar, radius_solar, luminosity_solar, mass_earth, radius_earth, au, G\n",
    "from TidalPy.tools.toolbox import quick_tidal_dissipation\n",
    "from TidalPy.tools.conversions import days2rads\n",
    "from TidalPy.utilities.numpy_helper.array_other import neg_array_for_log_plot\n",
    "from TidalPy.utilities.graphics.cmaps import vik_map\n",
    "from TidalPy.stellar import equilibrium_insolation_williams\n",
    "\n",
    "plt.rcParams['figure.figsize'] = [9.5 * .75, 6 * .75]\n",
    "plt.rcParams.update({'font.size': 14})\n",
    "%matplotlib ipympl"
   ]
  },
  {
   "cell_type": "markdown",
   "metadata": {},
   "source": [
    "### Planetary Properties\n",
    "We will use planetary properties approximately based on the exoplanet: TRAPPIST 1e"
   ]
  },
  {
   "cell_type": "code",
   "execution_count": 21,
   "metadata": {},
   "outputs": [],
   "source": [
    "# TRAPPIST-1 (the star) Parameters [Stassun+2019, Gillon+2017]\n",
    "star_lumonsity = 10**(-3.28) * luminosity_solar\n",
    "star_radius = 0.1148270 * radius_solar\n",
    "star_mass = 0.09077820 * mass_solar\n",
    "\n",
    "# TRAPPIST-1e Parameters [Grimm+2018]\n",
    "planet_radius = 0.910 * radius_earth\n",
    "planet_mass = 0.772 * mass_earth\n",
    "planet_semi_major_axis = 0.02928285 * au\n",
    "planet_orbital_period = 6.099615\n",
    "planet_orbital_frequency = days2rads(planet_orbital_period)\n",
    "planet_eccentricity = 0.00510\n",
    "planet_obliquity = 0.\n",
    "planet_moi = (2. / 5.) * planet_mass * planet_radius**2\n",
    "# We will assume that only 50% of the world's volume is participating in tidal dissipation\n",
    "tidal_scale = 0.5\n",
    "# Calculate other properties\n",
    "planet_density = planet_mass / ((4. / 3.) * np.pi * planet_radius**3)\n",
    "planet_gravity = G * planet_mass / (planet_radius**2)\n",
    "\n",
    "# Conversions\n",
    "sec2_2_yr2 = (3.154e7)**2"
   ]
  },
  {
   "cell_type": "markdown",
   "metadata": {},
   "source": [
    "## Viscosity Domain\n",
    "Here we calculate tidal heating versus insolation temperature in over a domain of mantle viscosity"
   ]
  },
  {
   "cell_type": "code",
   "execution_count": 32,
   "metadata": {
    "scrolled": false
   },
   "outputs": [
    {
     "data": {
      "application/vnd.jupyter.widget-view+json": {
       "model_id": "5dcfb196f2c74885b42d7cd3976a55b6",
       "version_major": 2,
       "version_minor": 0
      },
      "text/plain": [
       "Canvas(toolbar=Toolbar(toolitems=[('Home', 'Reset original view', 'home', 'home'), ('Back', 'Back to previous …"
      ]
     },
     "metadata": {},
     "output_type": "display_data"
    },
    {
     "data": {
      "application/vnd.jupyter.widget-view+json": {
       "model_id": "0582729ba7594b14b9a75cf0ab8d77ce",
       "version_major": 2,
       "version_minor": 0
      },
      "text/plain": [
       "interactive(children=(FloatSlider(value=0.2, description='$\\\\delta{}J$', max=1.0, min=0.01, step=0.05), FloatS…"
      ]
     },
     "metadata": {},
     "output_type": "display_data"
    }
   ],
   "source": [
    "# Setup domain\n",
    "viscosity_domain = np.logspace(14., 24., 100)\n",
    "shear_domain = 50.e9 * np.ones_like(viscosity_domain)\n",
    "\n",
    "# Setup figure\n",
    "fig_sync, axes_sync = plt.subplots(ncols=2, nrows=1, figsize=(9, 5))\n",
    "fig_sync.tight_layout(pad=4.0)\n",
    "ax_sync_heating = axes_sync[0]\n",
    "ax_sync_torque = axes_sync[1]\n",
    "ax_sync_heating.set(xlabel='Mantle Viscosity [Pa s]', ylabel='Tidal Heating / Insolation', yscale='log',\n",
    "                    xscale='log', ylim=(1e-3, 1e3))\n",
    "ax_sync_torque.set(xlabel='Mantle Viscosity [Pa s]', ylabel='Spin Rate Derivative [rad yr$^{-2}$]\\nDashed = Negative',\n",
    "                   yscale='log', xscale='log')\n",
    "\n",
    "# Plot lines\n",
    "ax_sync_heating.axhline(y=1e0, color='k', ls=':')\n",
    "rheo_lines_heating = [ax_sync_heating.plot(viscosity_domain, viscosity_domain, 'k', label='Maxwell')[0],\n",
    "                      ax_sync_heating.plot(viscosity_domain, viscosity_domain, 'b', label='Andrade')[0],\n",
    "                      ax_sync_heating.plot(viscosity_domain, viscosity_domain, 'm', label='Sundberg')[0]]\n",
    "rheo_lines_torque = [ax_sync_torque.plot(viscosity_domain, viscosity_domain, 'k', label='Maxwell')[0],\n",
    "                     ax_sync_torque.plot(viscosity_domain, viscosity_domain, 'b', label='Andrade')[0],\n",
    "                     ax_sync_torque.plot(viscosity_domain, viscosity_domain, 'm', label='Sundberg-Cooper')[0]]\n",
    "rheo_lines_torque_neg = [ax_sync_torque.plot(viscosity_domain, viscosity_domain, '--k', label='Maxwell')[0],\n",
    "                         ax_sync_torque.plot(viscosity_domain, viscosity_domain, '--b', label='Andrade')[0],\n",
    "                         ax_sync_torque.plot(viscosity_domain, viscosity_domain, '--m', label='Sundberg')[0]]\n",
    "plt.show()\n",
    "\n",
    "def sync_rotation(voigt_compliance_offset=.2,\n",
    "                  voigt_viscosity_offset=.02,\n",
    "                  alpha=.333,\n",
    "                  zeta_power=0.,\n",
    "                  albedo=0.3,\n",
    "                  eccentricity_pow=np.log10(planet_eccentricity),\n",
    "                  obliquity_deg=0.,\n",
    "                  force_spin_sync=True,\n",
    "                  spin_orbit_ratio=1.,\n",
    "                  eccentricity_truncation_lvl=2,\n",
    "                  max_tidal_order_l=2):\n",
    "    \n",
    "    eccentricity = 10.**eccentricity_pow\n",
    "    zeta = 10.**(zeta_power)\n",
    "    obliquity = np.radians(obliquity_deg)\n",
    "    dissipation_data = dict()\n",
    "    rheology_data = {\n",
    "        'maxwell': (rheo_lines_heating[0], rheo_lines_torque[0], rheo_lines_torque_neg[0],\n",
    "                    tuple()),\n",
    "        'andrade': (rheo_lines_heating[1], rheo_lines_torque[1], rheo_lines_torque_neg[1],\n",
    "                    (alpha, zeta)),\n",
    "        'sundberg': (rheo_lines_heating[2], rheo_lines_torque[2], rheo_lines_torque_neg[2],\n",
    "                     (voigt_compliance_offset, voigt_viscosity_offset, alpha, zeta)),\n",
    "    }\n",
    "    \n",
    "    if force_spin_sync:\n",
    "        spin_period = None\n",
    "    else:\n",
    "        # The ratio is in the denominator since it is a frequency ratio.\n",
    "        spin_period = planet_orbital_period / spin_orbit_ratio\n",
    "        \n",
    "    # Calculate insolation based on distance and eccentricity\n",
    "    insolation = \\\n",
    "        equilibrium_insolation_williams(star_lumonsity, planet_semi_major_axis, albedo, planet_radius, eccentricity)\n",
    "    \n",
    "    for rheo_name, (heating_line, torque_line, torque_neg_line, rheo_input) in rheology_data.items():\n",
    "        # Perform main tidal calculation\n",
    "        dissipation_data[rheo_name] = \\\n",
    "            quick_tidal_dissipation(star_mass, planet_radius, planet_mass, planet_gravity, planet_density, planet_moi,\n",
    "                                    viscosity=viscosity_domain, shear_modulus=shear_domain, rheology=rheo_name,\n",
    "                                    complex_compliance_inputs=rheo_input, eccentricity=eccentricity, obliquity=obliquity,\n",
    "                                    orbital_period=planet_orbital_period, spin_period=spin_period,\n",
    "                                    max_tidal_order_l=max_tidal_order_l,\n",
    "                                    eccentricity_truncation_lvl=eccentricity_truncation_lvl)\n",
    "        \n",
    "        spin_derivative = dissipation_data[rheo_name]['dUdO'] * (star_mass / planet_moi)\n",
    "        heating_line.set_ydata(dissipation_data[rheo_name]['tidal_heating'] / insolation)\n",
    "        # Convert spin_derivative from rad s-2 to hour per year\n",
    "        spin_derivative = sec2_2_yr2 * spin_derivative\n",
    "        spin_derivative_pos = np.copy(spin_derivative)\n",
    "        spin_derivative_pos[spin_derivative_pos<=0.] = np.nan\n",
    "        spin_derivative_neg = np.copy(spin_derivative)\n",
    "        spin_derivative_neg[spin_derivative_neg>0.] = np.nan\n",
    "    \n",
    "        torque_line.set_ydata(np.abs(spin_derivative_pos))\n",
    "        torque_neg_line.set_ydata(np.abs(spin_derivative_neg))\n",
    "        \n",
    "    \n",
    "    ax_sync_heating.legend(loc='lower left', fontsize=12)\n",
    "    ax_sync_heating.relim()\n",
    "    ax_sync_heating.autoscale_view()\n",
    "    ax_sync_heating.set_title('$e = ' + f'{eccentricity:0.3f}' +'$')\n",
    "    ax_sync_torque.relim()\n",
    "    ax_sync_torque.autoscale_view()\n",
    "    ax_sync_torque.set_title('Spin / n = ' + f'${spin_orbit_ratio:0.1f}$')\n",
    "    fig_sync.canvas.draw_idle()\n",
    "\n",
    "run_interactive_sync = interact(\n",
    "    sync_rotation,\n",
    "    voigt_compliance_offset=FloatSlider(value=0.2, min=0.01, max=1., step=0.05, description='$\\\\delta{}J$'),\n",
    "    voigt_viscosity_offset=FloatSlider(value=0.02, min=0.01, max=0.1, step=0.01, description='$\\\\delta{}\\\\eta$'),\n",
    "    alpha=FloatSlider(value=0.33, min=0.05, max=0.8, step=0.02, description='$\\\\alpha_{\\\\text{And}}$'),\n",
    "    zeta_power=FloatSlider(value=0., min=-5., max=5., step=0.5, description='$\\\\zeta_{\\\\text{And}}^{X}$'),\n",
    "    albedo=FloatSlider(value=0.3, min=0.1, max=0.9, step=0.1, description='Albedo'),\n",
    "    eccentricity_pow=FloatSlider(value=-0.522879, min=-4, max=-0.09, step=0.05, description='$e^{X}$'),\n",
    "    obliquity_deg=FloatSlider(value=0, min=0., max=90., step=1., description='Obliquity'),\n",
    "    force_spin_sync=False,\n",
    "    spin_orbit_ratio=FloatSlider(value=1., min=0.5, max=9., step=.1, description='$\\\\dot{\\\\theta} / n$'),\n",
    "    eccentricity_truncation_lvl=IntSlider(value=8, min=2, max=20, step=2, description='$e$ Truncation'),\n",
    "    max_tidal_order_l=IntSlider(value=2, min=2, max=3, step=1, description='Max Tidal Order $l$')\n",
    ")"
   ]
  },
  {
   "cell_type": "markdown",
   "metadata": {},
   "source": [
    "## Resonance Trapping\n",
    "Here we look at how material properties change how a planet can become trapped at a higher-order spin-orbit resonance"
   ]
  },
  {
   "cell_type": "code",
   "execution_count": 4,
   "metadata": {
    "scrolled": false
   },
   "outputs": [
    {
     "data": {
      "application/vnd.jupyter.widget-view+json": {
       "model_id": "704c3ff2cb6841d68a3faf87db31a394",
       "version_major": 2,
       "version_minor": 0
      },
      "text/plain": [
       "Canvas(toolbar=Toolbar(toolitems=[('Home', 'Reset original view', 'home', 'home'), ('Back', 'Back to previous …"
      ]
     },
     "metadata": {},
     "output_type": "display_data"
    },
    {
     "data": {
      "application/vnd.jupyter.widget-view+json": {
       "model_id": "2687a43dbfdf47dbb7ccdf90f324e73c",
       "version_major": 2,
       "version_minor": 0
      },
      "text/plain": [
       "interactive(children=(Dropdown(description='cbar_scale_set', index=2, options=(0, 1, 2, 3, 4, 5), value=2), Fl…"
      ]
     },
     "metadata": {},
     "output_type": "display_data"
    }
   ],
   "source": [
    "# Setup scales\n",
    "scale_info_list = [\n",
    "((86400.)**2 * (360. / (2. * np.pi)), '[deg day$^{-2}$]'),\n",
    "((2.628e+6)**2 * (360. / (2. * np.pi)), '[deg month$^{-2}$]'),\n",
    "((3.154e7)**2 * (360. / (2. * np.pi)), '[deg yr$^{-2}$]'),\n",
    "((3.154e7 * 10)**2 * (360. / (2. * np.pi)),'[deg dyr$^{-2}$]'),\n",
    "((3.154e7 * 100)**2 * (360. / (2. * np.pi)), '[deg cyr$^{-2}$]'),\n",
    "((3.154e7 * 1000)**2 * (360. / (2. * np.pi)), '[deg kyr$^{-2}$]')\n",
    "]\n",
    "\n",
    "cpoints = np.linspace(-3, 3, 45)\n",
    "zticks = [-3, -2, -1, 0, 1, 2, 3]\n",
    "zlabels = ['$-10^{3}$', '$-10^{2}$', '$-10^{1}$',\n",
    "           '$\\\\;\\\\;\\\\;10^{0}$', '$\\\\;\\\\;\\\\;10^{1}$', '$\\\\;\\\\;\\\\;10^{2}$', '$\\\\;\\\\;\\\\;10^{3}$']\n",
    "\n",
    "# Setup domain\n",
    "x = eccentricity_domain = np.logspace(-2., 0., 80)\n",
    "y = spin_ratio_domain = np.linspace(0.5, 6., 70)\n",
    "eccen_mtx, spin_ratio_mtx = np.meshgrid(eccentricity_domain, spin_ratio_domain)\n",
    "shape = eccen_mtx.shape\n",
    "eccen_mtx = eccen_mtx.flatten()\n",
    "spin_ratio_mtx = spin_ratio_mtx.flatten()\n",
    "spin_frequency = spin_ratio_mtx * planet_orbital_frequency\n",
    "\n",
    "# Setup figure\n",
    "fig_trap = plt.figure()\n",
    "gs = GridSpec(1, 2, figure=fig_trap, wspace=None, hspace=None, width_ratios=[.98, .02])\n",
    "ax_trap = fig_trap.add_subplot(gs[0, 0])\n",
    "ax_cb = fig_trap.add_subplot(gs[0, 1])\n",
    "fig_sync.tight_layout()\n",
    "ax_cb.set(ylabel='Spin Rate Derivative [rad s-2]')\n",
    "\n",
    "plt.show()\n",
    "\n",
    "def sync_rotation(cbar_scale_set=2,\n",
    "                  voigt_compliance_offset=.2,\n",
    "                  voigt_viscosity_offset=.02,\n",
    "                  alpha=.333,\n",
    "                  zeta_power=0.,\n",
    "                  viscosity_power=22.,\n",
    "                  shear_power=10.69897,\n",
    "                  obliquity_deg=0.,\n",
    "                  eccentricity_truncation_lvl=2,\n",
    "                  max_tidal_order_l=2):\n",
    "    \n",
    "    viscosity = 10.**viscosity_power\n",
    "    shear = 10.**shear_power\n",
    "    zeta = 10.**zeta_power\n",
    "    obliquity = np.radians(obliquity_deg)\n",
    "    rheo_input = (voigt_compliance_offset, voigt_viscosity_offset, alpha, zeta)\n",
    "    \n",
    "    if max_tidal_order_l > 2 and eccentricity_truncation_lvl == 22:\n",
    "        raise NotImplemented\n",
    "    \n",
    "    dissipation_data = \\\n",
    "        quick_tidal_dissipation(star_mass, planet_radius, planet_mass, planet_gravity, planet_density, planet_moi,\n",
    "                                viscosity=viscosity, shear_modulus=shear, rheology='sundberg',\n",
    "                                complex_compliance_inputs=rheo_input, eccentricity=eccen_mtx, obliquity=obliquity,\n",
    "                                orbital_frequency=planet_orbital_frequency, spin_frequency=spin_frequency,\n",
    "                                max_tidal_order_l=max_tidal_order_l,\n",
    "                                eccentricity_truncation_lvl=eccentricity_truncation_lvl)\n",
    "        \n",
    "    spin_derivative = dissipation_data['dUdO'] * (star_mass / planet_moi)\n",
    "            \n",
    "    scale, unit_label = scale_info_list[cbar_scale_set]\n",
    "    \n",
    "    spin_derivative = spin_derivative * scale\n",
    "    spin_derivative = spin_derivative.reshape(shape)\n",
    "    dspin_dt_targ_pos, dspin_dt_targ_neg = neg_array_for_log_plot(spin_derivative)\n",
    "    \n",
    "    # Make data Symmetric Log (for negative logscale plotting)\n",
    "    logpos = np.log10(np.copy(dspin_dt_targ_pos))\n",
    "    logpos[logpos < 0.] = 0.\n",
    "    negative_index = ~np.isnan(dspin_dt_targ_neg)\n",
    "    logneg = np.log10(dspin_dt_targ_neg[negative_index])\n",
    "    logneg[logneg < 0.] = 0.\n",
    "    dspin_dt_targ_combo = logpos\n",
    "    dspin_dt_targ_combo[negative_index] = -logneg\n",
    "\n",
    "    ax_trap.clear()\n",
    "    cb_data = ax_trap.contourf(x, y, dspin_dt_targ_combo, cpoints, cmap=vik_map)\n",
    "    \n",
    "    ax_cb.clear()\n",
    "    cb = plt.colorbar(cb_data, cax=ax_cb, ticks=zticks)\n",
    "    \n",
    "    ax_trap.set(xlabel='Eccentricity', ylabel='Spin Rate / Orbital Motion', yscale='linear',\n",
    "                xscale='log')\n",
    "    cb.set_label('Spin Rate Derivative ' + unit_label)\n",
    "    cb.ax.set_yticklabels(zlabels)\n",
    "    fig_trap.canvas.draw_idle()\n",
    "    plt.tight_layout()\n",
    "\n",
    "run_interactive_sync = interact(\n",
    "    sync_rotation,\n",
    "    cbar_scale_set = [0, 1, 2, 3, 4, 5],\n",
    "    voigt_compliance_offset=(0.01, 1., 0.05),\n",
    "    voigt_viscosity_offset=(0.01, 0.1, 0.01),\n",
    "    alpha=(0.05, 0.5, 0.02),\n",
    "    zeta_power=(-3, 3, 0.5),\n",
    "    viscosity_power=(14., 28., 1),\n",
    "    shear_power=(7., 11., .5),\n",
    "    obliquity_deg=(0., 90., 5),\n",
    "    eccentricity_truncation_lvl=[2, 4, 6, 8, 10, 12, 14, 16, 18, 20, 22],\n",
    "    max_tidal_order_l=[2, 3]\n",
    ")"
   ]
  }
 ],
 "metadata": {
  "kernelspec": {
   "display_name": "Python 3",
   "language": "python",
   "name": "python3"
  },
  "language_info": {
   "codemirror_mode": {
    "name": "ipython",
    "version": 3
   },
   "file_extension": ".py",
   "mimetype": "text/x-python",
   "name": "python",
   "nbconvert_exporter": "python",
   "pygments_lexer": "ipython3",
   "version": "3.8.5"
  }
 },
 "nbformat": 4,
 "nbformat_minor": 4
}
