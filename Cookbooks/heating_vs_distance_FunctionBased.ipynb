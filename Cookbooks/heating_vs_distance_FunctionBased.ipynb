{
 "cells": [
  {
   "cell_type": "markdown",
   "source": [
    "# Tidal Heating versus Semi-major Axis\n",
    "An example of using TidalPy functions\n"
   ],
   "metadata": {
    "collapsed": false,
    "pycharm": {
     "name": "#%% md\n"
    }
   }
  },
  {
   "cell_type": "code",
   "execution_count": null,
   "outputs": [],
   "source": [
    "% matplotlib inline\n",
    "import numpy as np\n",
    "import matplotlib.pyplot as plt\n",
    "from scipy.constants import G"
   ],
   "metadata": {
    "collapsed": false,
    "pycharm": {
     "name": "#%%\n"
    }
   }
  },
  {
   "cell_type": "code",
   "execution_count": null,
   "outputs": [],
   "source": [
    "# Import TidalPy \n",
    "import TidalPy\n",
    "from TidalPy.constants import solar_mass, earth_mass, earth_radius\n",
    "from TidalPy.conversions import days2rads\n",
    "from TidalPy.tides import effective_rigidity, complex_love\n",
    "from TidalPy.rheology import find_complex_compliance, complex_compliances\n",
    "\n",
    "import TidalPy"
   ],
   "metadata": {
    "collapsed": false,
    "pycharm": {
     "name": "#%%\n"
    }
   }
  },
  {
   "cell_type": "code",
   "execution_count": null,
   "outputs": [],
   "source": [
    "# Star and Planet Properties\n",
    "star_mass = solar_mass\n",
    "planet_mass = earth_mass\n",
    "planet_radius = earth_radius\n",
    "bulk_density = planet_mass / ((4/3) * np.pi * planet_radius**3)\n",
    "surface_gravity = G * planet_mass / planet_radius**2\n",
    "\n",
    "# Material Properties\n",
    "shear = 5.0e10\n",
    "viscosity = 1.0e22\n",
    "compliance = shear**-1\n",
    "\n",
    "# Self-Gravity\n",
    "effective_rigidity = effective_rigidity(shear, surface_gravity, planet_radius, bulk_density)"
   ],
   "metadata": {
    "collapsed": false,
    "pycharm": {
     "name": "#%%\n"
    }
   }
  },
  {
   "cell_type": "code",
   "execution_count": null,
   "outputs": [],
   "source": [
    "# Rheological Constants\n",
    "zeta = 1.0\n",
    "alpha = 0.3\n",
    "fixed_q = 50\n",
    "\n",
    "# Get Rheological Functions by Searching...\n",
    "maxwell_comp = find_complex_compliance('Maxwell')\n",
    "# or by direct import...\n",
    "andrade_comp = complex_compliances.andrade\n",
    "fixed_q_comp = complex_compliances.fixed_q\n",
    "\n",
    "# Create Helper Functions\n",
    "maxwell_neg_imk = lambda tidal_mode: -np.imag(complex_love(maxwell_comp(compliance, viscosity, tidal_mode),\n",
    "                                                           shear, effective_rigidity))\n",
    "andrade_neg_imk = lambda tidal_mode: -np.imag(complex_love(andrade_comp(compliance, viscosity, tidal_mode),\n",
    "                                                           shear, effective_rigidity))\n",
    "fixed_q_neg_imk = lambda tidal_mode: -np.imag(complex_love(fixed_q_comp(compliance, viscosity, tidal_mode),\n",
    "                                                           shear, effective_rigidity))"
   ],
   "metadata": {
    "collapsed": false,
    "pycharm": {
     "name": "#%%\n"
    }
   }
  },
  {
   "cell_type": "code",
   "execution_count": null,
   "outputs": [],
   "source": [
    "# Setup Domain of Study\n",
    "spin_frequency = days2rads(2.)\n",
    "orbital_frequency = days2rads(np.linspace(1, 50, 200))"
   ],
   "metadata": {
    "collapsed": false,
    "pycharm": {
     "name": "#%%\n"
    }
   }
  },
  {
   "cell_type": "code",
   "execution_count": null,
   "outputs": [],
   "source": [
    "# Find NSR Tidal Modes\n",
    "\n"
   ],
   "metadata": {
    "collapsed": false,
    "pycharm": {
     "name": "#%%\n"
    }
   }
  }
 ],
 "metadata": {
  "language_info": {
   "codemirror_mode": {
    "name": "ipython",
    "version": 2
   },
   "file_extension": ".py",
   "mimetype": "text/x-python",
   "name": "python",
   "nbconvert_exporter": "python",
   "pygments_lexer": "ipython2",
   "version": "2.7.6"
  },
  "kernelspec": {
   "name": "python3",
   "language": "python",
   "display_name": "Python 3"
  },
  "pycharm": {
   "stem_cell": {
    "cell_type": "raw",
    "source": [],
    "metadata": {
     "collapsed": false
    }
   }
  }
 },
 "nbformat": 4,
 "nbformat_minor": 0
}