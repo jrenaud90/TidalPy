{
 "cells": [
  {
   "cell_type": "markdown",
   "metadata": {
    "collapsed": true,
    "pycharm": {
     "name": "#%% md\n"
    }
   },
   "source": [
    "# Dual-Body Dissipation\n",
    "Joe P. Renaud<sup>1,2,3</sup>, Wade G. Henning<sup>4,2,3</sup>, Prabal Saxena<sup>4,2,3</sup>, Marc Neveu<sup>4,2</sup>, Amirhossein Bagheri<sup>5</sup>, Avi Mandell<sup>2,3</sup>, Terry Hurford<sup>2</sup>\n",
    "\n",
    "<sub><sup>1: Universities Space Research Association</sub></sup>\n",
    "<sub><sup>2: NASA Goddard Space Flight Center</sub></sup>\n",
    "<sub><sup>3: Sellers Exoplanet Environments Collaboration</sub></sup>\n",
    "<sub><sup>4: University of Maryland, College Park</sub></sup>\n",
    "<sub><sup>5: Institute of Geophysics, ETH Z¨urich, Switzerland</sub></sup>\n",
    "\n",
    "This notebook contains figures and calculations related to the manuscript: [Tidal Dissipation in Dual-Body, Highly Eccentric, and Non-synchronously Rotating Systems: Applications to Pluto-Charon and the Exoplanet TRAPPIST-1e](https://ui.adsabs.harvard.edu/abs/2020arXiv201011801R/abstract).\n",
    "\n",
    "*Some values may be different from the ones used in the original manuscript so figures may not match exactly. All models and equations are, however, identical.*"
   ]
  },
  {
   "cell_type": "markdown",
   "metadata": {
    "pycharm": {
     "name": "#%% md\n"
    }
   },
   "source": [
    "# Pre-Analysis Setup"
   ]
  },
  {
   "cell_type": "code",
   "execution_count": 1,
   "metadata": {
    "pycharm": {
     "name": "#%%\n"
    }
   },
   "outputs": [],
   "source": [
    "analysis_version = '3.0'\n",
    "analysis_version_save = analysis_version\n",
    "\n",
    "import os\n",
    "import math\n",
    "import time\n",
    "import warnings\n",
    "from typing import List, Tuple\n",
    "\n",
    "# Third Party Package Import\n",
    "import numpy as np\n",
    "from scipy.constants import G\n",
    "from scipy.ndimage.filters import gaussian_filter\n",
    "import matplotlib.pyplot as plt\n",
    "from matplotlib.gridspec import GridSpec\n",
    "from matplotlib.lines import Line2D\n",
    "import matplotlib.colors as mcolors\n",
    "from mpl_toolkits.axes_grid1.inset_locator import zoomed_inset_axes, mark_inset, inset_axes\n",
    "from mpl_toolkits.axes_grid1 import make_axes_locatable\n",
    "\n",
    "from ipywidgets import interact\n",
    "from IPython.display import display, Markdown, clear_output\n",
    "# widget packages\n",
    "import ipywidgets as widgets\n",
    "\n",
    "# NaNs will pop up in some analysis. Ignore those warnings\n",
    "_ = np.seterr(invalid='ignore')\n",
    "\n",
    "%matplotlib ipympl"
   ]
  },
  {
   "cell_type": "code",
   "execution_count": 2,
   "metadata": {
    "pycharm": {
     "name": "#%%\n"
    }
   },
   "outputs": [],
   "source": [
    "# TidalPy Import\n",
    "from TidalPy.utilities.types import NoneType, FloatArray\n",
    "from TidalPy.toolbox.conversions import semi_a2orbital_motion, orbital_motion2semi_a, rads2days, days2rads\n",
    "from TidalPy.utilities.numpy_helper.array_other import neg_array_for_log_plot, find_nearest\n",
    "from TidalPy.utilities.graphics.cmaps import vik_map, tofino_map, lajolla_map, lajolla_map_r, cork_map\n",
    "from TidalPy.constants import radius_earth, mass_earth, mass_solar, radius_solar, au \n",
    "from TidalPy.toolbox import quick_tidal_dissipation\n",
    "\n",
    "# combine them and build a new colormap\n",
    "_colors = np.vstack((lajolla_map_r(np.linspace(0., 1, 128)), lajolla_map(np.linspace(0., 1, 128))))\n",
    "divergence_lajolla = mcolors.LinearSegmentedColormap.from_list('divergence_lajolla', _colors)"
   ]
  },
  {
   "cell_type": "markdown",
   "metadata": {},
   "source": [
    "### Analysis Input Area"
   ]
  },
  {
   "cell_type": "code",
   "execution_count": 3,
   "metadata": {
    "scrolled": true
   },
   "outputs": [
    {
     "data": {
      "application/vnd.jupyter.widget-view+json": {
       "model_id": "78ffbc2648a94698b2caf3375bb8e5df",
       "version_major": 2,
       "version_minor": 0
      },
      "text/plain": [
       "VBox(children=(Checkbox(value=False, description='Auto Save Plots'), Label(value='Calculation Resolution:'), R…"
      ]
     },
     "metadata": {},
     "output_type": "display_data"
    }
   ],
   "source": [
    "auto_save_plots_ck = \\\n",
    "    widgets.Checkbox(value=False, description='Auto Save Plots')\n",
    "\n",
    "resolution_text = widgets.Label(value='Calculation Resolution:')\n",
    "resolution_selection = \\\n",
    "    widgets.RadioButtons(\n",
    "        options=['LowRes-Interactive Mode', 'MedRes', 'HighRes', 'HighRes - Publication Mode - Warning Can Lead to Memory Issues!'],\n",
    "        value='MedRes',\n",
    "        description='',\n",
    "        style={'description_width': 'initial'},\n",
    "        layout=widgets.Layout(width='80%', height='80px'))\n",
    "\n",
    "input_area = widgets.VBox([auto_save_plots_ck, resolution_text, resolution_selection])\n",
    "input_area"
   ]
  },
  {
   "cell_type": "markdown",
   "metadata": {
    "pycharm": {
     "name": "#%% md\n"
    }
   },
   "source": [
    "### Define Plot Styles"
   ]
  },
  {
   "cell_type": "code",
   "execution_count": 4,
   "metadata": {
    "pycharm": {
     "name": "#%%\n"
    }
   },
   "outputs": [],
   "source": [
    "plt.rcParams.update({'font.size': 14})\n",
    "\n",
    "satur_perc = .8\n",
    "vik_N = vik_map.N\n",
    "\n",
    "# Colorblind safe reds and blues\n",
    "red = vik_map(math.floor(vik_N * satur_perc))\n",
    "blue = vik_map(math.floor(vik_N * (1 - satur_perc)))"
   ]
  },
  {
   "cell_type": "markdown",
   "metadata": {
    "pycharm": {
     "name": "#%% md\n"
    }
   },
   "source": [
    "## Define Constant Parameters and Properties\n",
    "We will not use the planetary properties pre-defined in TidalPy to ensure that the paper's figures can be reproduced in the future if any changes are made the pre-defined TidalPy values. For the same reason, we will not be using TidalPy's OOP or build_world methods."
   ]
  },
  {
   "cell_type": "markdown",
   "metadata": {
    "pycharm": {
     "name": "#%% md\n"
    }
   },
   "source": [
    "### Material Properties & Complex Compliance Functions"
   ]
  },
  {
   "cell_type": "code",
   "execution_count": 5,
   "metadata": {
    "pycharm": {
     "name": "#%%\n"
    }
   },
   "outputs": [],
   "source": [
    "rock_viscosity = 1.0e22\n",
    "rock_shear = 5.0e10\n",
    "ice_viscosity = 1.0e14\n",
    "ice_shear = 1.e9 # 3.3e9\n",
    "\n",
    "# Store line color and complex compliance inputs for each rheology.\n",
    "rheologies = {\n",
    "    'Andrade': ('b', 'andrade', (0.3, 1.0)),\n",
    "    'Maxwell': ('k', 'maxwell', tuple()),\n",
    "    'Sundberg': ('m', 'sundberg', (0.2, 0.02, 0.3, 1.0)),\n",
    "    'Sundberg-Cooper': ('m', 'sundberg', (0.2, 0.02, 0.3, 1.0)),\n",
    "    'CPL': ('g', 'cpl', tuple()),\n",
    "    'CTL': ('c', 'ctl', tuple()),\n",
    "    'Off': ('gray', 'Off', tuple())\n",
    "}"
   ]
  },
  {
   "cell_type": "markdown",
   "metadata": {},
   "source": [
    "### Planetary Properties"
   ]
  },
  {
   "cell_type": "code",
   "execution_count": 6,
   "metadata": {
    "pycharm": {
     "name": "#%%\n"
    }
   },
   "outputs": [],
   "source": [
    "objects = dict()\n",
    "\n",
    "pluto = {\n",
    "    'name': 'Pluto',\n",
    "    'type': 'ice',\n",
    "    'mass': 0.01328e24,\n",
    "    'radius': 1.1883e6,\n",
    "    'semi_a': 19.596e6,  # Charon's Semi-Major Axis\n",
    "    'spin_rate': 2. * np.pi / (86400. * 6.387229),\n",
    "    'tidal_scale': .1,\n",
    "    'fixed_q': 100.,\n",
    "    'fixed_dt': (1. / 100.) * (2. * np.pi / (86400. * 6.387229))**(-1),\n",
    "    'k2': None,\n",
    "    'host': None\n",
    "}\n",
    "objects['Pluto'] = pluto\n",
    "\n",
    "charon = {\n",
    "    'name': 'Charon',\n",
    "    'type': 'ice',\n",
    "    'mass': 0.001603e24,\n",
    "    'radius': 0.606e6,\n",
    "    'semi_a': 19.596e6,\n",
    "    'spin_rate': 2. * np.pi / (86400. * 6.387229),\n",
    "    'tidal_scale': .1,\n",
    "    'fixed_q': 100.,\n",
    "    'fixed_dt': (1. / 100.) * (2. * np.pi / (86400. * 6.387229))**(-1),\n",
    "    'k2': None,\n",
    "    'host': pluto\n",
    "}\n",
    "objects['Charon'] = charon\n",
    "pluto['host'] = charon\n",
    "\n",
    "TRAPPIST1 = {\n",
    "    'name': 'TRAPPIST-1',\n",
    "    'type': 'star',\n",
    "    'mass': 1.6e29,\n",
    "    'radius': 81.4e6,\n",
    "    'tidal_scale': 1.,\n",
    "    'fixed_q': 8000.,\n",
    "    'fixed_dt': (1. / 8000.) * (2. * np.pi / (86400. * 6.099))**(-1),\n",
    "    'k2': 0.33,\n",
    "    'host': None\n",
    "}\n",
    "objects['TRAPPIST-1'] = TRAPPIST1\n",
    "\n",
    "TRAPPIST1_e = {\n",
    "    'name': 'TRAPPIST1-e',\n",
    "    'type': 'rock',\n",
    "    'mass': 4.6e24,      # Nearly 94% error in this measurement\n",
    "    'radius': 5.995e6, # About a 5% error in this measurement\n",
    "    'semi_a': 4.3807e9,         # 3% error\n",
    "    'tidal_scale': 1.,\n",
    "    'fixed_q': 900.,\n",
    "    'fixed_dt': (1. / 900.) * (2. * np.pi / (86400. * 6.099))**(-1),\n",
    "    'k2': None,\n",
    "    'host': TRAPPIST1\n",
    "}\n",
    "objects['TRAPPIST-1 e'] = TRAPPIST1_e\n",
    "\n",
    "# Proxima data from Suarez Mascareno 2020\n",
    "Proxima = {\n",
    "    'name': 'Proxima',\n",
    "    'type': 'star',\n",
    "    'mass': 0.1221 * mass_solar, # Mann+2015 via SM2020\n",
    "    'radius': 0.141 * radius_solar,\n",
    "    'tidal_scale': 1.,\n",
    "    'fixed_q': 100.,\n",
    "    'fixed_dt': (1. / 8000.) * (2. * np.pi / (86400. * 11.186))**(-1),\n",
    "    'k2': 0.33,\n",
    "    'host': None\n",
    "}\n",
    "objects['Proxima'] = Proxima\n",
    "\n",
    "Proxima_b = {\n",
    "    'name': 'Proxima',\n",
    "    'type': 'rock',\n",
    "    'mass': 1.25 * mass_earth, # Mann+2015 via SM2020 GP+2 column\n",
    "    'radius': 1.1 * radius_earth, # Total guess. Should be treated as a semi-free parameter based on mass.\n",
    "    'semi_a': orbital_motion2semi_a(2. * np.pi / (86400. * 5.152), 0.1221 * mass_solar, 1.25 * mass_earth),\n",
    "    'tidal_scale': 1.,\n",
    "    'fixed_q': 100.,\n",
    "    'fixed_dt': (1. / 100.) * (2. * np.pi / (86400. * 11.186))**(-1),\n",
    "    'k2': None,\n",
    "    'host': Proxima\n",
    "}\n",
    "objects['Proxima b'] = Proxima_b\n",
    "\n",
    "for object_name, object_data in objects.items():\n",
    "\n",
    "    # Calculate basic geometry\n",
    "    object_data['volume'] = (4. / 3.) * np.pi * object_data['radius']**3\n",
    "    object_data['density_bulk'] = object_data['mass'] / object_data['volume']\n",
    "    object_data['gravity_surface'] = G * object_data['mass'] / object_data['radius']**2\n",
    "    object_data['beta'] = object_data['radius'] * object_data['gravity_surface'] * object_data['density_bulk']\n",
    "    object_data['moi'] = (2. / 5.) * object_data['mass'] * object_data['radius']**2\n",
    "    if 'moi_scale' in object_data:\n",
    "        object_data['moi'] *= object_data['moi_scale']\n",
    "    \n",
    "    if object_data['type'] == 'ice':\n",
    "        object_data['k2'] = (3. / 19.) * (object_data['beta'] / ice_shear)\n",
    "    elif object_data['type'] == 'rock':\n",
    "        object_data['k2'] = (3. / 19.) * (object_data['beta'] / rock_shear)\n",
    "\n",
    "    # If satellite, calculate orbital frequency\n",
    "    if object_data['host'] is not None:\n",
    "        host = object_data['host']\n",
    "        object_data['orbital_freq'] = semi_a2orbital_motion(object_data['semi_a'], host['mass'], object_data['mass'])"
   ]
  },
  {
   "cell_type": "markdown",
   "metadata": {
    "pycharm": {
     "name": "#%% md\n"
    }
   },
   "source": [
    "## Load Tidal Calculation Functions\n"
   ]
  },
  {
   "cell_type": "code",
   "execution_count": 7,
   "metadata": {},
   "outputs": [],
   "source": [
    "from TidalPy.toolbox.quick_tides import (dual_dissipation_from_dict_or_world_instance,\n",
    "    single_dissipation_from_dict_or_world_instance)"
   ]
  },
  {
   "cell_type": "code",
   "execution_count": 8,
   "metadata": {},
   "outputs": [],
   "source": [
    "def get_resolution():\n",
    "    \n",
    "    if resolution_selection.value == 'LowRes-Interactive Mode':\n",
    "        one_d_res = 5000\n",
    "    elif resolution_selection.value == 'MedRes':\n",
    "        one_d_res = 50000\n",
    "    elif resolution_selection.value == 'HighRes':\n",
    "        one_d_res = 350000\n",
    "    elif resolution_selection.value == 'HighRes - Publication Mode - Warning Can Lead to Memory Issues!':\n",
    "        one_d_res = 722500\n",
    "    else:\n",
    "        one_d_res = 10\n",
    "    \n",
    "    two_d_res = int(math.floor(one_d_res**(1/2)))\n",
    "    \n",
    "    return one_d_res, two_d_res"
   ]
  },
  {
   "cell_type": "markdown",
   "metadata": {
    "pycharm": {
     "name": "#%% md\n"
    }
   },
   "source": [
    "# Main Analysis & Plotting"
   ]
  },
  {
   "cell_type": "markdown",
   "metadata": {},
   "source": [
    "## Rheological Method Compated to CPL and CTL"
   ]
  },
  {
   "cell_type": "code",
   "execution_count": 9,
   "metadata": {
    "pycharm": {
     "name": "#%%\n"
    }
   },
   "outputs": [],
   "source": [
    "def cpl_ctl_compare(target_object, host_object, obliquity: float = 0., eccentricity: float = 0.1,\n",
    "                    target_viscosity=rock_viscosity, target_shear=rock_shear, target_rheo='Sundberg-Cooper',\n",
    "                    use_nsr = True, tidal_order_l: int = 2, eccentricity_truncation: int = 6,\n",
    "                    add_save_name: str = None,\n",
    "                    save_fig=auto_save_plots_ck.value):\n",
    "    \n",
    "    # Setup Domain\n",
    "    oned_n, twod_n = get_resolution()\n",
    "    orbital_motion = target_object['orbital_freq']\n",
    "    spin_scale_domain = np.linspace(0.5, 10, oned_n)\n",
    "    spin_scale_domain_res = np.asarray([0.5, 1., 1.5, 2., 2.5, 3., 3.5, 4., 4.5, 5., 5.5, 6.])\n",
    "    spin_scale_domain = np.concatenate((spin_scale_domain, spin_scale_domain_res))\n",
    "    spin_scale_domain = np.sort(spin_scale_domain)\n",
    "    spin_frequency = spin_scale_domain * orbital_motion\n",
    "    spin_period = rads2days(spin_frequency)\n",
    "    if use_nsr:\n",
    "        # Contant orbital motion at its original value. But, make it an array for calculations\n",
    "        orbital_freq = orbital_motion * np.ones_like(spin_frequency) \n",
    "    else:\n",
    "        # Set the orbital motion equal to the spin-rate\n",
    "        orbital_freq = spin_frequency\n",
    "    \n",
    "    # Setup Figure\n",
    "    fig, axes = plt.subplots(ncols=2, figsize=(1.5 * 6.4, 4.8))\n",
    "    fig.subplots_adjust(wspace=0.4)\n",
    "    heating_ax = axes[0]\n",
    "    eccen_ax = axes[1]\n",
    "    heating_ax.set(xlabel='Spin Period [day]', ylabel='Tidal Heating [W]', yscale='log')\n",
    "    eccen_ax.set(xlabel='Spin Period [day]', ylabel='$\\\\dot{e}$ [yr$^{-1}$]', yscale='log')\n",
    "    if use_nsr:\n",
    "        fig.suptitle(f'Orbital Period = {rads2days(orbital_motion):.1f} Days', fontsize=12)\n",
    "    else:\n",
    "        fig.suptitle('Orbital Period = Spin Period', fontsize=12)\n",
    "\n",
    "    # Build rheology models\n",
    "    rheo_color, rheo_model_name, rheo_input = rheologies[target_rheo]\n",
    "    cases = {\n",
    "        'CTL': ('--', 'ctl', tuple()),\n",
    "        'CPL': (':', 'cpl', tuple()),\n",
    "        target_rheo: ('-', rheo_model_name, rheo_input)\n",
    "    }\n",
    "    \n",
    "    for rheo_nice_name, (line_style, rheo_name_, rheo_input_) in cases.items():\n",
    "        # Calculate Derivatives\n",
    "        dissipation_results = \\\n",
    "            single_dissipation_from_dict_or_world_instance(\n",
    "                host_object, target_object,\n",
    "                rock_viscosity, rock_shear, rheology=rheo_name_,\n",
    "                complex_compliance_inputs=rheo_input_,\n",
    "                eccentricity=eccentricity, obliquity=obliquity,\n",
    "                orbital_frequency=orbital_freq, \n",
    "                spin_frequency=spin_frequency,\n",
    "                max_tidal_order_l=tidal_order_l, eccentricity_truncation_lvl=eccentricity_truncation,\n",
    "                use_obliquity=True, tidal_scale=target_object['tidal_scale'],\n",
    "                fixed_k2=target_object['k2'], fixed_q=target_object['fixed_q'],\n",
    "                fixed_dt=target_object['fixed_dt'],\n",
    "                da_dt_scale=(3.154e7 / 1000.), de_dt_scale=3.154e7,\n",
    "                dspin_dt_scale=((360. / (2. * np.pi)) * 3.154e7**2))\n",
    "\n",
    "        tidal_heating_targ = dissipation_results['tidal_heating']\n",
    "        dspin_dt_targ = dissipation_results['spin_rate_derivative']\n",
    "        de_dt = dissipation_results['eccentricity_derivative']\n",
    "        da_dt = dissipation_results['semi_major_axis_derivative']\n",
    "\n",
    "        # Prep for log plotting\n",
    "        dspin_dt_targ_pos, dspin_dt_targ_neg = neg_array_for_log_plot(dspin_dt_targ)\n",
    "        de_dt_pos, de_dt_neg = neg_array_for_log_plot(de_dt)\n",
    "\n",
    "        # Plot results\n",
    "        eccen_ax.plot(spin_period, de_dt_neg, c=blue, ls=line_style)\n",
    "        eccen_ax.plot(spin_period, de_dt_pos, c=red, ls=line_style)\n",
    "        heating_ax.plot(spin_period, tidal_heating_targ, c=red, ls=line_style, label=rheo_nice_name)\n",
    "    \n",
    "    # Add Legend\n",
    "    heating_ax.legend(loc='best')\n",
    "    \n",
    "    plt.show()\n",
    "    "
   ]
  },
  {
   "cell_type": "code",
   "execution_count": 10,
   "metadata": {},
   "outputs": [
    {
     "data": {
      "application/vnd.jupyter.widget-view+json": {
       "model_id": "9d093f86ec9e4fa4b3cdce22658e0a41",
       "version_major": 2,
       "version_minor": 0
      },
      "text/plain": [
       "Canvas(toolbar=Toolbar(toolitems=[('Home', 'Reset original view', 'home', 'home'), ('Back', 'Back to previous …"
      ]
     },
     "metadata": {},
     "output_type": "display_data"
    }
   ],
   "source": [
    "cpl_ctl_compare(TRAPPIST1_e, TRAPPIST1, obliquity=0., eccentricity=0.4,\n",
    "                target_viscosity=rock_viscosity, target_shear=rock_shear, target_rheo='Sundberg-Cooper',\n",
    "                use_nsr=True, eccentricity_truncation=10,\n",
    "                add_save_name=None)"
   ]
  },
  {
   "cell_type": "code",
   "execution_count": 11,
   "metadata": {},
   "outputs": [
    {
     "data": {
      "application/vnd.jupyter.widget-view+json": {
       "model_id": "76df92e6f5c34b8fbeba2b008acac01a",
       "version_major": 2,
       "version_minor": 0
      },
      "text/plain": [
       "Canvas(toolbar=Toolbar(toolitems=[('Home', 'Reset original view', 'home', 'home'), ('Back', 'Back to previous …"
      ]
     },
     "metadata": {},
     "output_type": "display_data"
    }
   ],
   "source": [
    "cpl_ctl_compare(TRAPPIST1_e, TRAPPIST1, obliquity=0., eccentricity=0.1,\n",
    "                target_viscosity=rock_viscosity, target_shear=rock_shear, target_rheo='Sundberg-Cooper',\n",
    "                use_nsr=False,\n",
    "                add_save_name=None)"
   ]
  },
  {
   "cell_type": "markdown",
   "metadata": {},
   "source": [
    "## NSR Plots"
   ]
  },
  {
   "cell_type": "markdown",
   "metadata": {},
   "source": [
    "### Truncation Level Differences"
   ]
  },
  {
   "cell_type": "code",
   "execution_count": 12,
   "metadata": {
    "pycharm": {
     "name": "#%%\n"
    },
    "scrolled": false
   },
   "outputs": [],
   "source": [
    "def truncation_level_plots(target_object, host_object, obliquity=0.,\n",
    "                           host_k2=0.33, host_q=5000.,\n",
    "                           target_viscosity=rock_viscosity, target_shear=rock_shear, target_rheo='Sundberg-Cooper',\n",
    "                           zpoints=np.linspace(-4, 4, 60), zticks=(-4, -2, 0, 2, 4),\n",
    "                           ztick_names = ('$-10^{4}$', '$-10^{2}$', '$0$', '$10^{2}$', '$10^{4}$'),\n",
    "                           eccentricity_truncations=((2, 4), (2, 14), (2, 18), (2, 22)),\n",
    "                           truncation_names=(None, None, None, None),\n",
    "                           add_save_name: str = None, slice_spin_to_orb: float = 1.,\n",
    "                           save_fig=auto_save_plots_ck.value):\n",
    "    \n",
    "    print('This plot can take a while the first time it is run after a restart (functions are compiling).')\n",
    "    time_i = time.time()\n",
    "    # Pull out data\n",
    "    constant_orbital_freq = target_object['orbital_freq']\n",
    "    constant_host_spin_rate = constant_orbital_freq\n",
    "    host_obliquity = 0.\n",
    "    constant_semi_major_axis = orbital_motion2semi_a(constant_orbital_freq, host_object['mass'], target_object['mass'])\n",
    "\n",
    "    # Domains\n",
    "    oned_n, twod_n = get_resolution()\n",
    "    eccentricity_domain = np.logspace(-2, 0., twod_n)\n",
    "    spin_scale_domain = np.linspace(0., 3., twod_n)\n",
    "    #    Make sure to hit resonances\n",
    "    spin_scale_domain_res = np.asarray([0.5, 1., 1.5, 2., 2.5, 3.])\n",
    "    spin_scale_domain = np.concatenate((spin_scale_domain, spin_scale_domain_res))\n",
    "    spin_scale_domain = np.sort(spin_scale_domain)\n",
    "    spin_domain = spin_scale_domain * constant_orbital_freq\n",
    "    eccentricity, spin_rate = np.meshgrid(eccentricity_domain, spin_domain)\n",
    "    shape = eccentricity.shape\n",
    "    eccentricity = eccentricity.flatten()\n",
    "    spin_rate = spin_rate.flatten()\n",
    "\n",
    "    # Make sure that all input arrays have the correct shape\n",
    "    x = eccentricity_domain\n",
    "    y = spin_scale_domain\n",
    "    obliquity *= np.ones_like(eccentricity)\n",
    "    host_obliquity *= np.ones_like(eccentricity)\n",
    "    constant_orbital_freq *= np.ones_like(spin_rate)\n",
    "    constant_semi_major_axis *= np.ones_like(spin_rate)\n",
    "    constant_host_spin_rate *= np.ones_like(constant_orbital_freq)\n",
    "    #   Find spin_sync index\n",
    "    sync_index = find_nearest(spin_scale_domain, slice_spin_to_orb)\n",
    "\n",
    "    # Cases that are plotted (must be equal to 4, must have the format (order-l, eccentricity_trunc)\n",
    "    case_line_styles = ['-', '--', '-.', ':']\n",
    "    case_names = list()\n",
    "    for case, provided_name in zip(eccentricity_truncations, truncation_names):\n",
    "        if provided_name is not None:\n",
    "            case_names.append(provided_name)\n",
    "        else:\n",
    "            # Use the truncation information to make a case name.\n",
    "            order_l, trunc_level = case\n",
    "            if order_l == 2:\n",
    "                case_names.append('$\\\\mathcal{O}(e^{' + f'{trunc_level}' + '}$)')\n",
    "            else:\n",
    "                case_names.append('$l = ' + order_l + '\\\\mathcal{O}(e^{' + f'{trunc_level}' + '}$)')\n",
    "\n",
    "    # Setup plots\n",
    "    #    Contour Figure\n",
    "    fig_contours = plt.figure(figsize=(6.75*1.75, 4.8), constrained_layout=True)\n",
    "    ratios = (.249, .249, .249, .249, .02)\n",
    "    gs_contours = GridSpec(1, 5, figure=fig_contours, width_ratios=ratios)\n",
    "    case_contour_axes = [fig_contours.add_subplot(gs_contours[0, i]) for i in range(4)]\n",
    "    colorbar_ax = fig_contours.add_subplot(gs_contours[0, 4])\n",
    "\n",
    "    #    Spin-sync Figure\n",
    "    fig_sync, sync_axes = plt.subplots(ncols=2, figsize=(1.5 * 6.4, 4.8))\n",
    "    fig_sync.subplots_adjust(wspace=0.3)\n",
    "    fig_sync.suptitle('$\\\\dot{\\\\theta} / n =' + f'{slice_spin_to_orb:0.1f}$', fontsize=16)\n",
    "    sync_heating_ax = sync_axes[0]\n",
    "    sync_eccen_ax = sync_axes[1]\n",
    "\n",
    "    # Labels\n",
    "    for ax in [sync_heating_ax, sync_eccen_ax] + case_contour_axes:\n",
    "        if ax in [sync_heating_ax, sync_eccen_ax]:\n",
    "            ax.set(xlabel='Eccentricity', xscale='linear')\n",
    "        else:\n",
    "            ax.set(xlabel='Eccentricity', xscale='log')\n",
    "        \n",
    "    for ax in fig_contours.get_axes():\n",
    "        ax.label_outer()\n",
    "\n",
    "    case_contour_axes[0].set(ylabel='$\\\\dot{\\\\theta} \\\\; / \\\\; n$')\n",
    "    sync_heating_ax.set(ylabel='Tidal Heating [W]', yscale='log')\n",
    "    sync_eccen_ax.set(ylabel='$\\\\dot{e}$ [yr$^{-1}$]', yscale='log')\n",
    "\n",
    "    for case_i, (order_l, eccentricity_trunc) in enumerate(eccentricity_truncations):\n",
    "        \n",
    "        # User may provide 'CPL' or 'CTL' in the \"order_l\" variable. Check for that here.\n",
    "        if type(order_l) == str:\n",
    "            if order_l.lower() == 'cpl':\n",
    "                rheo_color, rheo_model_name, rheo_input = rheologies['CPL']\n",
    "            elif order_l.lower() == 'ctl':\n",
    "                rheo_color, rheo_model_name, rheo_input = rheologies['CTL']\n",
    "            else:\n",
    "                raise KeyError('Unknown Model')\n",
    "                \n",
    "            # CPL and CTL use tidal order 2 only\n",
    "            order_l = 2\n",
    "        else:\n",
    "            rheo_color, rheo_model_name, rheo_input = rheologies[target_rheo]\n",
    "        \n",
    "        # Calculate Derivatives\n",
    "        dissipation_results = \\\n",
    "            single_dissipation_from_dict_or_world_instance(\n",
    "                host_object, target_object,\n",
    "                target_viscosity, target_shear, rheology=rheo_model_name,\n",
    "                complex_compliance_inputs=rheo_input,\n",
    "                eccentricity=eccentricity, obliquity=obliquity,\n",
    "                orbital_frequency=constant_orbital_freq, \n",
    "                spin_frequency=spin_rate,\n",
    "                max_tidal_order_l=order_l, eccentricity_truncation_lvl=eccentricity_trunc,\n",
    "                use_obliquity=True, tidal_scale=target_object['tidal_scale'],\n",
    "                fixed_k2=target_object['k2'], fixed_q=target_object['fixed_q'],\n",
    "                fixed_dt=target_object['fixed_dt'],\n",
    "                da_dt_scale=(3.154e7 / 1000.), de_dt_scale=3.154e7,\n",
    "                dspin_dt_scale=((360. / (2. * np.pi)) * 3.154e7**2))\n",
    "        \n",
    "        tidal_heating_targ = dissipation_results['tidal_heating']\n",
    "        dspin_dt_targ = dissipation_results['spin_rate_derivative']\n",
    "        de_dt = dissipation_results['eccentricity_derivative']\n",
    "        da_dt = dissipation_results['semi_major_axis_derivative']\n",
    "\n",
    "        # Prep for log plotting\n",
    "        dspin_dt_targ_pos, dspin_dt_targ_neg = neg_array_for_log_plot(dspin_dt_targ)\n",
    "        de_dt_pos, de_dt_neg = neg_array_for_log_plot(de_dt)\n",
    "\n",
    "        # Make data Symmetric Log (for negative logscale plotting)\n",
    "        logpos = np.log10(np.copy(dspin_dt_targ_pos))\n",
    "        logpos[logpos < 0.] = 0.\n",
    "        negative_index = ~np.isnan(dspin_dt_targ_neg)\n",
    "        logneg = np.log10(dspin_dt_targ_neg[negative_index])\n",
    "        logneg[logneg < 0.] = 0.\n",
    "        dspin_dt_targ_combo = logpos\n",
    "        dspin_dt_targ_combo[negative_index] = -logneg\n",
    "        \n",
    "        # Reshape\n",
    "        dspin_dt_targ_combo = dspin_dt_targ_combo.reshape(shape)\n",
    "        tidal_heating_targ = tidal_heating_targ.reshape(shape)\n",
    "        dspin_dt_targ = dspin_dt_targ.reshape(shape)\n",
    "        de_dt = de_dt.reshape(shape)\n",
    "        de_dt_neg = de_dt_neg.reshape(shape)\n",
    "        de_dt_pos = de_dt_pos.reshape(shape)\n",
    "\n",
    "        # Plot Contours\n",
    "        case_name = case_names[case_i]\n",
    "        contour_ax = case_contour_axes[case_i]\n",
    "        contour_ax.set(title=case_name)\n",
    "        cb_data = contour_ax.contourf(x, y, dspin_dt_targ_combo, zpoints, cmap=vik_map)\n",
    "    \n",
    "        for c in cb_data.collections:\n",
    "            c.set_edgecolor(\"face\")\n",
    "        \n",
    "        # Plot Spin Sync\n",
    "        case_style = case_line_styles[case_i]\n",
    "        #    Find sync data\n",
    "        tidal_heating_sync = tidal_heating_targ[sync_index, :]\n",
    "        de_dt_neg_sync = de_dt_neg[sync_index, :]\n",
    "        de_dt_pos_sync = de_dt_pos[sync_index, :]\n",
    "        #    Plot\n",
    "        sync_heating_ax.plot(x, tidal_heating_sync, c=red, ls=case_style, label=case_name)\n",
    "        sync_eccen_ax.plot(x, de_dt_neg_sync, c=blue, ls=case_style, label=case_name)\n",
    "        sync_eccen_ax.plot(x, de_dt_pos_sync, c=red, ls=case_style)\n",
    "        \n",
    "        print(f'Case {case_i} completed.')\n",
    "\n",
    "    # Add Colorbar\n",
    "    cb = plt.colorbar(cb_data, pad=0.03, cax=colorbar_ax, ticks=zticks)\n",
    "    spaces = '$' + '\\\\; '*14 + '$'\n",
    "    cb.set_label('Decelerating ' + spaces + 'Accelerating\\n$\\\\ddot{\\\\theta}$ [deg yr$^{-2}$]')\n",
    "    cb.ax.set_yticklabels(ztick_names)\n",
    "    \n",
    "    # Add Spin-Sync Legend\n",
    "    custom_lines = [Line2D([0], [0], color='k', lw=2, ls=style) for style in case_line_styles]\n",
    "    sync_heating_ax.legend(custom_lines, case_names, loc='upper left')\n",
    "    \n",
    "    # Add Grid lines\n",
    "    sync_heating_ax.grid(axis='x', which='major', alpha=0.5, ls='--')\n",
    "    sync_heating_ax.grid(axis='x', which='minor', alpha=0.45, ls='-.')\n",
    "    sync_heating_ax.set(ylim=(1e14, 1e21))\n",
    "    sync_eccen_ax.grid(axis='x', which='major', alpha=0.5, ls='--')\n",
    "    sync_eccen_ax.grid(axis='x', which='minor', alpha=0.45, ls='-.')\n",
    "    sync_eccen_ax.set(ylim=(1e-11, 2e-7))\n",
    "\n",
    "    # Add Annotations\n",
    "    #    3:2 Arrows\n",
    "    arrow_ax = case_contour_axes[0]\n",
    "    arrow_ax.annotate(\n",
    "            '', xy=(.9, .75), xytext=(.9, .51), xycoords='axes fraction', textcoords='axes fraction',\n",
    "            arrowprops={'arrowstyle': '<-', 'lw': 2})\n",
    "    arrow_ax.annotate(\n",
    "            '', xy=(.9, .15), xytext=(.9, .49), xycoords='axes fraction', textcoords='axes fraction',\n",
    "            arrowprops={'arrowstyle': '<-', 'lw': 2})\n",
    "    arrow_ax.text(.27, .23, 'Accelerating\\nSpin-Rate', fontsize=12, ha='center')\n",
    "    arrow_ax.text(.27, 2.35, 'Decelerating\\nSpin-Rate', fontsize=12, ha='center')\n",
    "    arrow_ax.text(.07, 1.65, 'Circularization &\\nResonance Fall-Off', fontsize=12, ha='center')\n",
    "\n",
    "    #    3:2 R to L\n",
    "    arrow_ax.annotate(\n",
    "            '', xy=(.85, .53), xytext=(.5, .53), xycoords='axes fraction', textcoords='axes fraction',\n",
    "            arrowprops={'arrowstyle': '<-', 'lw': 2})\n",
    "    arrow_ax.annotate(\n",
    "            '', xy=(.4, .53), xytext=(.25, .34), xycoords='axes fraction', textcoords='axes fraction',\n",
    "            arrowprops={'arrowstyle': '<-', 'lw': 2})\n",
    "\n",
    "    #    Add Mercury Marker\n",
    "    merc_ax = case_contour_axes[2]\n",
    "    merc_x = 0.205630\n",
    "    merc_y = 1.5\n",
    "    merc_ax.text(.055, merc_y * 1.05, 'Mercury', fontsize=12)\n",
    "    merc_ax.plot([merc_x], [merc_y], 'kx')\n",
    "    \n",
    "    time_f = time.time() - time_i\n",
    "    print(f'Calculations and plot reinit took {time_f:0.1f} seconds.')\n",
    "\n",
    "    if save_fig:\n",
    "        save_name = analysis_version_save + 'TruncationPlot_' + target_object['name'] + '_' + host_object['name']\n",
    "        if add_save_name is not None:\n",
    "            save_name = save_name + '_' + add_save_name\n",
    "\n",
    "        fig_contours.savefig(save_name + '_Contours.pdf')\n",
    "        fig_sync.tight_layout(rect=[0, 0, 1, 0.95])\n",
    "        fig_sync.savefig(save_name + '_SpinSync.pdf')\n",
    "    \n",
    "    plt.show()\n",
    "    return fig_contours, fig_sync"
   ]
  },
  {
   "cell_type": "markdown",
   "metadata": {},
   "source": [
    "#### Basic Truncation Comparison - No Obliquity"
   ]
  },
  {
   "cell_type": "code",
   "execution_count": 13,
   "metadata": {
    "pycharm": {
     "is_executing": true
    },
    "scrolled": false
   },
   "outputs": [
    {
     "name": "stdout",
     "output_type": "stream",
     "text": [
      "This plot can take a while the first time it is run after a restart (functions are compiling).\n"
     ]
    },
    {
     "data": {
      "application/vnd.jupyter.widget-view+json": {
       "model_id": "379ad7987b484ed19679748ce01f9751",
       "version_major": 2,
       "version_minor": 0
      },
      "text/plain": [
       "Canvas(toolbar=Toolbar(toolitems=[('Home', 'Reset original view', 'home', 'home'), ('Back', 'Back to previous …"
      ]
     },
     "metadata": {},
     "output_type": "display_data"
    },
    {
     "data": {
      "application/vnd.jupyter.widget-view+json": {
       "model_id": "569cd04df63b4860a858251e5c728ee3",
       "version_major": 2,
       "version_minor": 0
      },
      "text/plain": [
       "Canvas(toolbar=Toolbar(toolitems=[('Home', 'Reset original view', 'home', 'home'), ('Back', 'Back to previous …"
      ]
     },
     "metadata": {},
     "output_type": "display_data"
    },
    {
     "name": "stdout",
     "output_type": "stream",
     "text": [
      "Case 0 completed.\n",
      "Case 1 completed.\n",
      "Case 2 completed.\n",
      "Case 3 completed.\n",
      "Calculations and plot reinit took 2.0 seconds.\n"
     ]
    },
    {
     "data": {
      "text/plain": [
       "(<Figure size 1181.25x480 with 5 Axes>, <Figure size 960x480 with 2 Axes>)"
      ]
     },
     "execution_count": 13,
     "metadata": {},
     "output_type": "execute_result"
    }
   ],
   "source": [
    "truncation_level_plots(TRAPPIST1_e, TRAPPIST1, obliquity=0.,\n",
    "                       target_viscosity=rock_viscosity, target_shear=rock_shear, target_rheo='Sundberg-Cooper',\n",
    "                       add_save_name=None)"
   ]
  },
  {
   "cell_type": "code",
   "execution_count": 14,
   "metadata": {
    "scrolled": false
   },
   "outputs": [
    {
     "name": "stdout",
     "output_type": "stream",
     "text": [
      "This plot can take a while the first time it is run after a restart (functions are compiling).\n"
     ]
    },
    {
     "data": {
      "application/vnd.jupyter.widget-view+json": {
       "model_id": "5e4a730e75c74b3f84debdf5c31f379b",
       "version_major": 2,
       "version_minor": 0
      },
      "text/plain": [
       "Canvas(toolbar=Toolbar(toolitems=[('Home', 'Reset original view', 'home', 'home'), ('Back', 'Back to previous …"
      ]
     },
     "metadata": {},
     "output_type": "display_data"
    },
    {
     "data": {
      "application/vnd.jupyter.widget-view+json": {
       "model_id": "814682d4a6c14c02a660a77ec5113acf",
       "version_major": 2,
       "version_minor": 0
      },
      "text/plain": [
       "Canvas(toolbar=Toolbar(toolitems=[('Home', 'Reset original view', 'home', 'home'), ('Back', 'Back to previous …"
      ]
     },
     "metadata": {},
     "output_type": "display_data"
    },
    {
     "name": "stdout",
     "output_type": "stream",
     "text": [
      "Case 0 completed.\n",
      "Case 1 completed.\n",
      "Case 2 completed.\n",
      "Case 3 completed.\n",
      "Calculations and plot reinit took 1.4 seconds.\n"
     ]
    },
    {
     "data": {
      "text/plain": [
       "(<Figure size 1181.25x480 with 5 Axes>, <Figure size 960x480 with 2 Axes>)"
      ]
     },
     "execution_count": 14,
     "metadata": {},
     "output_type": "execute_result"
    }
   ],
   "source": [
    "truncation_level_plots(TRAPPIST1_e, TRAPPIST1, obliquity=0.,\n",
    "                       target_viscosity=rock_viscosity, target_shear=rock_shear, target_rheo='CTL',\n",
    "                       add_save_name=None)"
   ]
  },
  {
   "cell_type": "code",
   "execution_count": 15,
   "metadata": {},
   "outputs": [
    {
     "name": "stdout",
     "output_type": "stream",
     "text": [
      "This plot can take a while the first time it is run after a restart (functions are compiling).\n"
     ]
    },
    {
     "data": {
      "application/vnd.jupyter.widget-view+json": {
       "model_id": "c31b4fd218064d6e951e4116450d81b9",
       "version_major": 2,
       "version_minor": 0
      },
      "text/plain": [
       "Canvas(toolbar=Toolbar(toolitems=[('Home', 'Reset original view', 'home', 'home'), ('Back', 'Back to previous …"
      ]
     },
     "metadata": {},
     "output_type": "display_data"
    },
    {
     "data": {
      "application/vnd.jupyter.widget-view+json": {
       "model_id": "4c8cbe2958d743fc93438dcd779a5716",
       "version_major": 2,
       "version_minor": 0
      },
      "text/plain": [
       "Canvas(toolbar=Toolbar(toolitems=[('Home', 'Reset original view', 'home', 'home'), ('Back', 'Back to previous …"
      ]
     },
     "metadata": {},
     "output_type": "display_data"
    },
    {
     "name": "stdout",
     "output_type": "stream",
     "text": [
      "Case 0 completed.\n",
      "Case 1 completed.\n",
      "Case 2 completed.\n",
      "Case 3 completed.\n",
      "Calculations and plot reinit took 1.3 seconds.\n"
     ]
    },
    {
     "data": {
      "text/plain": [
       "(<Figure size 1181.25x480 with 5 Axes>, <Figure size 960x480 with 2 Axes>)"
      ]
     },
     "execution_count": 15,
     "metadata": {},
     "output_type": "execute_result"
    }
   ],
   "source": [
    "truncation_level_plots(TRAPPIST1_e, TRAPPIST1, obliquity=0.,\n",
    "                       target_viscosity=rock_viscosity/100, target_shear=rock_shear, target_rheo='CPL',\n",
    "                       add_save_name=None)"
   ]
  },
  {
   "cell_type": "markdown",
   "metadata": {},
   "source": [
    "#### Basic Truncation Comparison - 20 deg Obliquity"
   ]
  },
  {
   "cell_type": "code",
   "execution_count": 16,
   "metadata": {},
   "outputs": [
    {
     "name": "stdout",
     "output_type": "stream",
     "text": [
      "This plot can take a while the first time it is run after a restart (functions are compiling).\n"
     ]
    },
    {
     "data": {
      "application/vnd.jupyter.widget-view+json": {
       "model_id": "24c2e807331b48ac91f4cc08382decde",
       "version_major": 2,
       "version_minor": 0
      },
      "text/plain": [
       "Canvas(toolbar=Toolbar(toolitems=[('Home', 'Reset original view', 'home', 'home'), ('Back', 'Back to previous …"
      ]
     },
     "metadata": {},
     "output_type": "display_data"
    },
    {
     "data": {
      "application/vnd.jupyter.widget-view+json": {
       "model_id": "91da388317394d858643a556b44cee5a",
       "version_major": 2,
       "version_minor": 0
      },
      "text/plain": [
       "Canvas(toolbar=Toolbar(toolitems=[('Home', 'Reset original view', 'home', 'home'), ('Back', 'Back to previous …"
      ]
     },
     "metadata": {},
     "output_type": "display_data"
    },
    {
     "name": "stdout",
     "output_type": "stream",
     "text": [
      "Case 0 completed.\n",
      "Case 1 completed.\n",
      "Case 2 completed.\n",
      "Case 3 completed.\n",
      "Calculations and plot reinit took 1.9 seconds.\n"
     ]
    },
    {
     "data": {
      "text/plain": [
       "(<Figure size 1181.25x480 with 5 Axes>, <Figure size 960x480 with 2 Axes>)"
      ]
     },
     "execution_count": 16,
     "metadata": {},
     "output_type": "execute_result"
    }
   ],
   "source": [
    "truncation_level_plots(TRAPPIST1_e, TRAPPIST1, obliquity=np.radians(35.),\n",
    "                       target_viscosity=rock_viscosity, target_shear=rock_shear, target_rheo='Sundberg-Cooper',\n",
    "                       add_save_name='Oblquity35')"
   ]
  },
  {
   "cell_type": "markdown",
   "metadata": {},
   "source": [
    "#### Comparison to CPL/CTL"
   ]
  },
  {
   "cell_type": "code",
   "execution_count": 17,
   "metadata": {},
   "outputs": [
    {
     "name": "stdout",
     "output_type": "stream",
     "text": [
      "This plot can take a while the first time it is run after a restart (functions are compiling).\n"
     ]
    },
    {
     "data": {
      "application/vnd.jupyter.widget-view+json": {
       "model_id": "803fd26a8e80403c865f0d836a444365",
       "version_major": 2,
       "version_minor": 0
      },
      "text/plain": [
       "Canvas(toolbar=Toolbar(toolitems=[('Home', 'Reset original view', 'home', 'home'), ('Back', 'Back to previous …"
      ]
     },
     "metadata": {},
     "output_type": "display_data"
    },
    {
     "data": {
      "application/vnd.jupyter.widget-view+json": {
       "model_id": "bf5ef6fbb69b4c8c9b5b6441f7ab9183",
       "version_major": 2,
       "version_minor": 0
      },
      "text/plain": [
       "Canvas(toolbar=Toolbar(toolitems=[('Home', 'Reset original view', 'home', 'home'), ('Back', 'Back to previous …"
      ]
     },
     "metadata": {},
     "output_type": "display_data"
    },
    {
     "name": "stdout",
     "output_type": "stream",
     "text": [
      "Case 0 completed.\n",
      "Case 1 completed.\n",
      "Case 2 completed.\n",
      "Case 3 completed.\n",
      "Calculations and plot reinit took 1.2 seconds.\n"
     ]
    },
    {
     "data": {
      "text/plain": [
       "(<Figure size 1181.25x480 with 5 Axes>, <Figure size 960x480 with 2 Axes>)"
      ]
     },
     "execution_count": 17,
     "metadata": {},
     "output_type": "execute_result"
    }
   ],
   "source": [
    "truncation_level_plots(TRAPPIST1_e, TRAPPIST1, obliquity=0.,\n",
    "                       host_k2=0.33, host_q=5000.,\n",
    "                       target_viscosity=rock_viscosity, target_shear=rock_shear, target_rheo='Sundberg-Cooper',\n",
    "                       zpoints=np.linspace(-4, 4, 60), zticks=(-4, -2, 0, 2, 4),\n",
    "                       ztick_names = ('$-10^{4}$', '$-10^{2}$', '$0$', '$10^{2}$', '$10^{4}$'),\n",
    "                       eccentricity_truncations=((2, 6), (2, 20), ('CPL', 6), ('CTL', 6)),\n",
    "                       truncation_names=(None, None, 'CPL', 'CTL'),\n",
    "                       add_save_name=None, slice_spin_to_orb=1.5,\n",
    "                       save_fig=auto_save_plots_ck.value)"
   ]
  },
  {
   "cell_type": "markdown",
   "metadata": {
    "pycharm": {
     "name": "#%% md\n"
    }
   },
   "source": [
    "### Single Truncation Contours"
   ]
  },
  {
   "cell_type": "code",
   "execution_count": 18,
   "metadata": {},
   "outputs": [],
   "source": [
    "def single_contour_plot(target_object, host_object, obliquity=0.,\n",
    "                        target_viscosity=rock_viscosity, target_shear=rock_shear, target_rheo='Sundberg-Cooper',\n",
    "                        host_k2=0.33, host_q=5000.,\n",
    "                        order_l: int = 2, eccentricity_truncation: int = 10,\n",
    "                        zpoints=np.linspace(-5, 5, 60), zticks=(-5, -3, -1, 0, 1, 3, 5),\n",
    "                        ztick_names = ('$-10^{5}$', '$-10^{3}$', '$-10^{1}$', '$0$', '$10^{1}$', '$10^{3}$', '$10^{5}$'),   \n",
    "                        draw_resonance_lines: bool = True,\n",
    "                        title = None, add_save_name: str = None, save_fig=auto_save_plots_ck.value):\n",
    "    \n",
    "    print('This plot can take a while the first time it is run after a restart (functions are compiling).')\n",
    "    # Pull out data\n",
    "    constant_orbital_freq = target_object['orbital_freq']\n",
    "    constant_host_spin_rate = constant_orbital_freq\n",
    "    host_obliquity = 0.\n",
    "    constant_semi_major_axis = orbital_motion2semi_a(constant_orbital_freq, host_object['mass'], target_object['mass'])\n",
    "\n",
    "    # Domains\n",
    "    oned_n, twod_n = get_resolution()\n",
    "    eccentricity_domain = np.logspace(-2, 0., twod_n)\n",
    "    spin_scale_domain = np.linspace(0., 3., twod_n+1)\n",
    "    #    Make sure to hit resonances\n",
    "    spin_scale_domain_res = np.asarray([0.5, 1., 1.5, 2., 2.5, 3.])\n",
    "    spin_scale_domain = np.concatenate((spin_scale_domain, spin_scale_domain_res))\n",
    "    spin_scale_domain = np.sort(spin_scale_domain)\n",
    "    spin_domain = spin_scale_domain * constant_orbital_freq\n",
    "    eccentricity, spin_rate = np.meshgrid(eccentricity_domain, spin_domain)\n",
    "    shape = eccentricity.shape\n",
    "    eccentricity = eccentricity.flatten()\n",
    "    spin_rate = spin_rate.flatten()\n",
    "\n",
    "    # Make sure that all input arrays have the correct shape\n",
    "    x = eccentricity_domain\n",
    "    y = spin_scale_domain\n",
    "    min_y = np.min(y)\n",
    "    obliquity *= np.ones_like(eccentricity)\n",
    "    host_obliquity *= np.ones_like(eccentricity)\n",
    "    constant_orbital_freq *= np.ones_like(spin_rate)\n",
    "    constant_semi_major_axis *= np.ones_like(spin_rate)\n",
    "    constant_host_spin_rate *= np.ones_like(constant_orbital_freq)\n",
    "    #   Find spin_sync index\n",
    "    sync_index = find_nearest(spin_scale_domain, 1.)\n",
    "    \n",
    "    # Single plot to compare resonance heating rates\n",
    "    fig_single, ax_sig = plt.subplots(figsize=(6.4, 4.8), constrained_layout=True)\n",
    "    ax_sig.set(xlabel='Eccentricity', xscale='log', ylabel='Tidal Heating [W]', yscale='log')\n",
    "\n",
    "    # Setup plots\n",
    "    #    Contour Figure\n",
    "    fig_contour, ax = plt.subplots(figsize=(6.4, 4.8), constrained_layout=True)\n",
    "\n",
    "    # Labels\n",
    "    ax.set(xlabel='Eccentricity', xscale='log', ylabel='$\\\\dot{\\\\theta} \\\\; / \\\\; n$')\n",
    "\n",
    "    # For this analysis we always assume the host body is dissipating like a constant fixed q.    \n",
    "    # Need to build a new tidal calculation function based on this truncation level\n",
    "    rheo_color, rheo_model_name, rheo_input = rheologies[target_rheo]\n",
    "        \n",
    "    # Calculate Derivatives\n",
    "    dissipation_results = \\\n",
    "        single_dissipation_from_dict_or_world_instance(\n",
    "            host_object, target_object,\n",
    "            target_viscosity, target_shear, rheology=rheo_model_name,\n",
    "            complex_compliance_inputs=rheo_input,\n",
    "            eccentricity=eccentricity, obliquity=obliquity,\n",
    "            orbital_frequency=constant_orbital_freq, \n",
    "            spin_frequency=spin_rate,\n",
    "            max_tidal_order_l=order_l, eccentricity_truncation_lvl=eccentricity_truncation,\n",
    "            use_obliquity=True, tidal_scale=target_object['tidal_scale'],\n",
    "            fixed_k2=target_object['k2'], fixed_q=target_object['fixed_q'],\n",
    "            fixed_dt=target_object['fixed_dt'],\n",
    "            da_dt_scale=(3.154e7 / 1000.), de_dt_scale=3.154e7,\n",
    "            dspin_dt_scale=((360. / (2. * np.pi)) * 3.154e7**2))\n",
    "\n",
    "    tidal_heating_targ = dissipation_results['tidal_heating']\n",
    "    dspin_dt_targ = dissipation_results['spin_rate_derivative']\n",
    "    de_dt = dissipation_results['eccentricity_derivative']\n",
    "    da_dt = dissipation_results['semi_major_axis_derivative']\n",
    "\n",
    "    # Prep for log plotting\n",
    "    dspin_dt_targ_pos, dspin_dt_targ_neg = neg_array_for_log_plot(dspin_dt_targ)\n",
    "    \n",
    "    tidal_heating_targ_log = np.log10(tidal_heating_targ)\n",
    "    de_dt_pos, de_dt_neg = neg_array_for_log_plot(de_dt)\n",
    "\n",
    "    # Make data Symmetric Log (for negative logscale plotting)\n",
    "    logpos = np.log10(np.copy(dspin_dt_targ_pos))\n",
    "    logpos[logpos < 0.] = 0.\n",
    "    negative_index = ~np.isnan(dspin_dt_targ_neg)\n",
    "    logneg = np.log10(dspin_dt_targ_neg[negative_index])\n",
    "    logneg[logneg < 0.] = 0.\n",
    "    dspin_dt_targ_combo = logpos\n",
    "    dspin_dt_targ_combo[negative_index] = -logneg\n",
    "    \n",
    "    # Reshape\n",
    "    dspin_dt_targ_combo = dspin_dt_targ_combo.reshape(shape)\n",
    "    de_dt_pos = de_dt_pos.reshape(shape)\n",
    "    de_dt_neg = de_dt_neg.reshape(shape)\n",
    "    tidal_heating_targ = tidal_heating_targ.reshape(shape)\n",
    "    dspin_dt_targ = dspin_dt_targ.reshape(shape)\n",
    "    de_dt = de_dt.reshape(shape)\n",
    "\n",
    "    # Plot Contours\n",
    "    cb_data = ax.contourf(x, y, dspin_dt_targ_combo, zpoints, cmap=vik_map)\n",
    "    \n",
    "    for c in cb_data.collections:\n",
    "        c.set_edgecolor(\"face\")\n",
    "    \n",
    "    # Add Resonances to Signle Plot\n",
    "    resonances = {'-': 1., '--': 1.5, '-.': 2., ':': 2.5}\n",
    "    for res_ls, res in resonances.items():\n",
    "        y_index = find_nearest(y, res)\n",
    "        heating = tidal_heating_targ[y_index, :]\n",
    "        res_label = '$\\\\dot{\\\\theta}/n=' + f'{res}' + '$'\n",
    "        ax_sig.plot(x, heating, ls=res_ls, label=res_label)\n",
    "    ax_sig.legend(loc='best')\n",
    "\n",
    "    # Print minimum eccentricity for a higher order lock\n",
    "    print('Minimum Eccentricities for Resonance Locks:')\n",
    "    for resonance in spin_scale_domain_res:\n",
    "        y_coord = find_nearest(y, resonance-0.006)\n",
    "        y_value = y[y_coord]\n",
    "        dspin_dt_at_res = dspin_dt_targ_combo[y_coord, :]\n",
    "        cross_coord = find_nearest(dspin_dt_at_res, 0.)\n",
    "        deriv_value = dspin_dt_targ_combo[y_coord, cross_coord]\n",
    "        print(f'\\tO/n = {resonance}')\n",
    "        print(f'\\tO/n real = {y_value:0.3f}')\n",
    "        if abs(deriv_value) > 0.5:\n",
    "            print('\\tNo Lock')\n",
    "        else:\n",
    "            min_e = eccentricity_domain[cross_coord]\n",
    "            if draw_resonance_lines:\n",
    "                ax.plot([min_e, min_e], [min_y, y_value + 0.01], ls=':', c='k')\n",
    "                ax_sig.axvline(x=min_e, ls=':', c='k')\n",
    "            print(f'\\tdO/dt = {deriv_value:0.3f}')\n",
    "            print(f'\\te_min = {min_e:0.5f}')\n",
    "        print('-------')\n",
    "\n",
    "    # Add Colorbar\n",
    "    cb = plt.colorbar(cb_data, pad=0.03, ticks=zticks)\n",
    "    spaces = '$' + '\\\\; '*19 + '$'\n",
    "    cb.set_label('Decelerating ' + spaces + 'Accelerating\\n$\\\\ddot{\\\\theta}$ [deg yr$^{-2}$]')\n",
    "    cb.ax.set_yticklabels(ztick_names)\n",
    "    \n",
    "    # Add title\n",
    "    if title is not None:\n",
    "        ax.set(title=title)\n",
    "    \n",
    "    if save_fig:\n",
    "        save_name = analysis_version_save + '_SingleContourPlot_' + target_object['name'] + '_' + host_object['name']\n",
    "        if add_save_name is not None:\n",
    "            save_name = save_name + '_' + add_save_name\n",
    "\n",
    "        fig_contour.savefig(save_name + 'Contour.pdf')\n",
    "        fig_single.savefig(save_name + 'SingleHeating.pdf')"
   ]
  },
  {
   "cell_type": "markdown",
   "metadata": {
    "pycharm": {
     "name": "#%% md\n"
    }
   },
   "source": [
    "#### Regular"
   ]
  },
  {
   "cell_type": "code",
   "execution_count": 57,
   "metadata": {
    "scrolled": false
   },
   "outputs": [
    {
     "name": "stdout",
     "output_type": "stream",
     "text": [
      "This plot can take a while the first time it is run after a restart (functions are compiling).\n"
     ]
    },
    {
     "data": {
      "application/vnd.jupyter.widget-view+json": {
       "model_id": "9701590ce5be4f2c891a19edad7adbbf",
       "version_major": 2,
       "version_minor": 0
      },
      "text/plain": [
       "Canvas(toolbar=Toolbar(toolitems=[('Home', 'Reset original view', 'home', 'home'), ('Back', 'Back to previous …"
      ]
     },
     "metadata": {},
     "output_type": "display_data"
    },
    {
     "data": {
      "application/vnd.jupyter.widget-view+json": {
       "model_id": "851d3763a3db41cf8fe4ccd40859c6af",
       "version_major": 2,
       "version_minor": 0
      },
      "text/plain": [
       "Canvas(toolbar=Toolbar(toolitems=[('Home', 'Reset original view', 'home', 'home'), ('Back', 'Back to previous …"
      ]
     },
     "metadata": {},
     "output_type": "display_data"
    },
    {
     "name": "stdout",
     "output_type": "stream",
     "text": [
      "Minimum Eccentricities for Resonance Locks:\n",
      "\tO/n = 0.5\n",
      "\tO/n real = 0.498\n",
      "\tdO/dt = nan\n",
      "\te_min = 1.00000\n",
      "-------\n",
      "\tO/n = 1.0\n",
      "\tO/n real = 0.996\n",
      "\tdO/dt = nan\n",
      "\te_min = 1.00000\n",
      "-------\n",
      "\tO/n = 1.5\n",
      "\tO/n real = 1.493\n",
      "\tdO/dt = nan\n",
      "\te_min = 1.00000\n",
      "-------\n",
      "\tO/n = 2.0\n",
      "\tO/n real = 1.991\n",
      "\tdO/dt = nan\n",
      "\te_min = 1.00000\n",
      "-------\n",
      "\tO/n = 2.5\n",
      "\tO/n real = 2.489\n",
      "\tdO/dt = nan\n",
      "\te_min = 1.00000\n",
      "-------\n",
      "\tO/n = 3.0\n",
      "\tO/n real = 3.000\n",
      "\tdO/dt = nan\n",
      "\te_min = 1.00000\n",
      "-------\n"
     ]
    }
   ],
   "source": [
    "single_contour_plot(TRAPPIST1_e, TRAPPIST1, obliquity=0.,\n",
    "                    target_viscosity=rock_viscosity/100, target_shear=rock_shear, target_rheo='Sundberg-Cooper',\n",
    "                    host_k2=0.33, host_q=5000.,\n",
    "                    order_l=2, eccentricity_truncation=20,\n",
    "                    zpoints=np.linspace(-5, 5, 40), zticks=(-5, -3, -1, 0, 1, 3, 5),\n",
    "                    title=None, add_save_name='Regular')"
   ]
  },
  {
   "cell_type": "markdown",
   "metadata": {},
   "source": [
    "#### Low Viscosity"
   ]
  },
  {
   "cell_type": "code",
   "execution_count": 56,
   "metadata": {},
   "outputs": [
    {
     "name": "stdout",
     "output_type": "stream",
     "text": [
      "This plot can take a while the first time it is run after a restart (functions are compiling).\n"
     ]
    },
    {
     "data": {
      "application/vnd.jupyter.widget-view+json": {
       "model_id": "f5e59ef8773d44769ca4f519b3d144b3",
       "version_major": 2,
       "version_minor": 0
      },
      "text/plain": [
       "Canvas(toolbar=Toolbar(toolitems=[('Home', 'Reset original view', 'home', 'home'), ('Back', 'Back to previous …"
      ]
     },
     "metadata": {},
     "output_type": "display_data"
    },
    {
     "data": {
      "application/vnd.jupyter.widget-view+json": {
       "model_id": "42064717bbc144ad9f18ecacf01e424c",
       "version_major": 2,
       "version_minor": 0
      },
      "text/plain": [
       "Canvas(toolbar=Toolbar(toolitems=[('Home', 'Reset original view', 'home', 'home'), ('Back', 'Back to previous …"
      ]
     },
     "metadata": {},
     "output_type": "display_data"
    },
    {
     "name": "stdout",
     "output_type": "stream",
     "text": [
      "Minimum Eccentricities for Resonance Locks:\n",
      "\tO/n = 0.5\n",
      "\tO/n real = 0.498\n",
      "\tdO/dt = nan\n",
      "\te_min = 1.00000\n",
      "-------\n",
      "\tO/n = 1.0\n",
      "\tO/n real = 0.996\n",
      "\tdO/dt = nan\n",
      "\te_min = 1.00000\n",
      "-------\n",
      "\tO/n = 1.5\n",
      "\tO/n real = 1.493\n",
      "\tdO/dt = nan\n",
      "\te_min = 1.00000\n",
      "-------\n",
      "\tO/n = 2.0\n",
      "\tO/n real = 1.991\n",
      "\tdO/dt = nan\n",
      "\te_min = 1.00000\n",
      "-------\n",
      "\tO/n = 2.5\n",
      "\tO/n real = 2.489\n",
      "\tdO/dt = nan\n",
      "\te_min = 1.00000\n",
      "-------\n",
      "\tO/n = 3.0\n",
      "\tO/n real = 3.000\n",
      "\tdO/dt = nan\n",
      "\te_min = 1.00000\n",
      "-------\n"
     ]
    }
   ],
   "source": [
    "single_contour_plot(TRAPPIST1_e, TRAPPIST1, obliquity=0.,\n",
    "                    target_viscosity=ice_viscosity, target_shear=ice_shear, target_rheo='Sundberg-Cooper',\n",
    "                    host_k2=0.33, host_q=5000.,\n",
    "                    order_l=2, eccentricity_truncation=20,\n",
    "                    zpoints=np.linspace(-5, 5, 60), zticks=(-5, -3, -1, 0, 1, 3, 5),\n",
    "                    draw_resonance_lines=False,\n",
    "                    title='Low Viscosity', add_save_name='Viscosity1e14')"
   ]
  },
  {
   "cell_type": "markdown",
   "metadata": {},
   "source": [
    "#### Proxima"
   ]
  },
  {
   "cell_type": "code",
   "execution_count": 55,
   "metadata": {},
   "outputs": [
    {
     "name": "stdout",
     "output_type": "stream",
     "text": [
      "This plot can take a while the first time it is run after a restart (functions are compiling).\n"
     ]
    },
    {
     "data": {
      "application/vnd.jupyter.widget-view+json": {
       "model_id": "4aef2c535e2f4041b2a7ae7284fb5db3",
       "version_major": 2,
       "version_minor": 0
      },
      "text/plain": [
       "Canvas(toolbar=Toolbar(toolitems=[('Home', 'Reset original view', 'home', 'home'), ('Back', 'Back to previous …"
      ]
     },
     "metadata": {},
     "output_type": "display_data"
    },
    {
     "data": {
      "application/vnd.jupyter.widget-view+json": {
       "model_id": "35241f7ca2aa4f58ba9b6a83180daea7",
       "version_major": 2,
       "version_minor": 0
      },
      "text/plain": [
       "Canvas(toolbar=Toolbar(toolitems=[('Home', 'Reset original view', 'home', 'home'), ('Back', 'Back to previous …"
      ]
     },
     "metadata": {},
     "output_type": "display_data"
    },
    {
     "name": "stdout",
     "output_type": "stream",
     "text": [
      "Minimum Eccentricities for Resonance Locks:\n",
      "\tO/n = 0.5\n",
      "\tO/n real = 0.498\n",
      "\tdO/dt = nan\n",
      "\te_min = 1.00000\n",
      "-------\n",
      "\tO/n = 1.0\n",
      "\tO/n real = 0.996\n",
      "\tdO/dt = nan\n",
      "\te_min = 1.00000\n",
      "-------\n",
      "\tO/n = 1.5\n",
      "\tO/n real = 1.493\n",
      "\tdO/dt = nan\n",
      "\te_min = 1.00000\n",
      "-------\n",
      "\tO/n = 2.0\n",
      "\tO/n real = 1.991\n",
      "\tdO/dt = nan\n",
      "\te_min = 1.00000\n",
      "-------\n",
      "\tO/n = 2.5\n",
      "\tO/n real = 2.489\n",
      "\tdO/dt = nan\n",
      "\te_min = 1.00000\n",
      "-------\n",
      "\tO/n = 3.0\n",
      "\tO/n real = 3.000\n",
      "\tdO/dt = nan\n",
      "\te_min = 1.00000\n",
      "-------\n"
     ]
    }
   ],
   "source": [
    "single_contour_plot(Proxima_b, Proxima, obliquity=0.,\n",
    "                    target_viscosity=rock_viscosity, target_shear=rock_shear, target_rheo='Sundberg-Cooper',\n",
    "                    host_k2=0.33, host_q=5000.,\n",
    "                    order_l=2, eccentricity_truncation=20,\n",
    "                    zpoints=np.linspace(-5, 5, 40), zticks=(-5, -3, -1, 0, 1, 3, 5),\n",
    "                    title='Proxima b', add_save_name='Regular')"
   ]
  },
  {
   "cell_type": "markdown",
   "metadata": {
    "pycharm": {
     "name": "#%% md\n"
    }
   },
   "source": [
    "### Double Contour Plots"
   ]
  },
  {
   "cell_type": "code",
   "execution_count": 22,
   "metadata": {},
   "outputs": [],
   "source": [
    "def double_contour_plot(target_object, host_object, obliquity=0.,\n",
    "                        target_viscosity=rock_viscosity, target_shear=rock_shear, target_rheo='Sundberg-Cooper',\n",
    "                        host_k2=0.33, host_q=5000., host_obliquity=0.,\n",
    "                        order_l: int = 2, eccentricity_truncation: int = 10,\n",
    "                        zpoints=np.linspace(-5, 5, 60), zticks=(-5, -3, -1, 0, 1, 3, 5),\n",
    "                        ztick_names = ('$-10^{5}$', '$-10^{3}$', '$-10^{1}$', '$0$', '$10^{1}$', '$10^{3}$', '$10^{5}$'), \n",
    "                        draw_resonance_lines: bool = True,\n",
    "                        text_2x: float = None, text_2y: float = None, text_2: str = None,\n",
    "                        orbital_period_replacement: float = None,\n",
    "                        title_1 = None, title_2 = None, add_save_name: str = None, save_fig=auto_save_plots_ck.value):\n",
    "\n",
    "    # Pull out data\n",
    "    constant_orbital_freq = target_object['orbital_freq']\n",
    "    if orbital_period_replacement is not None:\n",
    "        old_orbital_period = rads2days(constant_orbital_freq)\n",
    "        old_semi_major_axis = orbital_motion2semi_a(constant_orbital_freq, host_object['mass'], target_object['mass'])\n",
    "        print(f'Old Orbital Period: {old_orbital_period:0.2f} Days')\n",
    "        print(f'Old Semi-Major Axis: {old_semi_major_axis/1000:0.1f} km')\n",
    "        constant_orbital_freq = days2rads(orbital_period_replacement)\n",
    "        constant_semi_major_axis = orbital_motion2semi_a(constant_orbital_freq, host_object['mass'], target_object['mass'])\n",
    "    else:\n",
    "        constant_semi_major_axis = orbital_motion2semi_a(constant_orbital_freq, host_object['mass'], target_object['mass'])\n",
    "    constant_host_spin_rate = constant_orbital_freq\n",
    "\n",
    "    print(f'Orbital Period: {rads2days(constant_orbital_freq):0.2f} Days')\n",
    "    print(f'Semi-Major Axis: {constant_semi_major_axis/1000:0.1f} km')\n",
    "\n",
    "    # Domains\n",
    "    oned_n, twod_n = get_resolution()\n",
    "    eccentricity_domain = np.logspace(-2, 0., twod_n)\n",
    "    spin_scale_domain = np.linspace(0., 3., twod_n)\n",
    "    #    Make sure to hit resonances\n",
    "    spin_scale_domain_res = np.asarray([0.5, 1., 1.5, 2., 2.5, 3.])\n",
    "    spin_scale_domain = np.concatenate((spin_scale_domain, spin_scale_domain_res))\n",
    "    spin_scale_domain = np.sort(spin_scale_domain)\n",
    "    spin_domain = spin_scale_domain * constant_orbital_freq\n",
    "    eccentricity, spin_rate = np.meshgrid(eccentricity_domain, spin_domain)\n",
    "    shape = eccentricity.shape\n",
    "    eccentricity = eccentricity.flatten()\n",
    "    spin_rate = spin_rate.flatten()\n",
    "\n",
    "    # Make sure that all input arrays have the correct shape\n",
    "    x = eccentricity_domain\n",
    "    y = spin_scale_domain\n",
    "    min_y = np.min(y)\n",
    "    obliquity *= np.ones_like(eccentricity)\n",
    "    host_obliquity *= np.ones_like(eccentricity)\n",
    "    constant_orbital_freq *= np.ones_like(spin_rate)\n",
    "    constant_semi_major_axis *= np.ones_like(spin_rate)\n",
    "    constant_host_spin_rate *= np.ones_like(constant_orbital_freq)\n",
    "    #   Find spin_sync index\n",
    "    sync_index = find_nearest(spin_scale_domain, 1.)\n",
    "    \n",
    "    # Find rheology information\n",
    "    rheo_color, rheo_model_name, rheo_input = rheologies[target_rheo]\n",
    "\n",
    "    # Setup plots\n",
    "    #    Contour Figure\n",
    "    fig_contour = plt.figure(figsize=(6.4*1.75, 4.8), constrained_layout=True)\n",
    "    ratios = (0.49, 0.49, 0.02)\n",
    "    gs = GridSpec(1, 3, figure=fig_contour, width_ratios=ratios, wspace=0.2)\n",
    "    axes = [fig_contour.add_subplot(gs[0, i]) for i in range(2)]\n",
    "    colorbar_ax = fig_contour.add_subplot(gs[0, 2])\n",
    "    \n",
    "    for ax in fig_contour.get_axes():\n",
    "        ax.label_outer()\n",
    "    \n",
    "    for ax_i, ax in enumerate(axes):\n",
    "        \n",
    "         # Labels\n",
    "        ax.set(xlabel='Eccentricity', xscale='log', ylim=(0., spin_scale_domain_res[-1]))\n",
    "        \n",
    "        if ax_i == 0:    \n",
    "            # Regular Plot\n",
    "            ax.set(ylabel='$\\\\dot{\\\\theta} \\\\; / \\\\; n$')\n",
    "            # Add title\n",
    "            if title_1 is not None:\n",
    "                ax.set(title=title_1)\n",
    "        \n",
    "            # Calculate Derivatives\n",
    "            dissipation_results = \\\n",
    "                single_dissipation_from_dict_or_world_instance(\n",
    "                    host_object, target_object,\n",
    "                    target_viscosity, target_shear, rheology=rheo_model_name,\n",
    "                    complex_compliance_inputs=rheo_input,\n",
    "                    eccentricity=eccentricity, obliquity=0.,\n",
    "                    orbital_frequency=constant_orbital_freq, \n",
    "                    spin_frequency=spin_rate,\n",
    "                    max_tidal_order_l=order_l, eccentricity_truncation_lvl=eccentricity_truncation,\n",
    "                    use_obliquity=True, tidal_scale=target_object['tidal_scale'],\n",
    "                    fixed_k2=target_object['k2'], fixed_q=target_object['fixed_q'],\n",
    "                    fixed_dt=target_object['fixed_dt'],\n",
    "                    da_dt_scale=(3.154e7 / 1000.), de_dt_scale=3.154e7,\n",
    "                    dspin_dt_scale=((360. / (2. * np.pi)) * 3.154e7**2))\n",
    "\n",
    "            tidal_heating_targ = dissipation_results['tidal_heating']\n",
    "            dspin_dt_targ = dissipation_results['spin_rate_derivative']\n",
    "            de_dt = dissipation_results['eccentricity_derivative']\n",
    "            da_dt = dissipation_results['semi_major_axis_derivative']\n",
    "            \n",
    "        else:\n",
    "            # Add title\n",
    "            if title_2 is not None:\n",
    "                ax.set(title=title_2)\n",
    "            # Add Text\n",
    "            if text_2 is not None:\n",
    "                ax.text(text_2x, text_2y, text_2, fontsize=14, ha='center')\n",
    "            \n",
    "            # Calculate Derivatives\n",
    "            dissipation_results = \\\n",
    "                single_dissipation_from_dict_or_world_instance(\n",
    "                    host_object, target_object,\n",
    "                    target_viscosity, target_shear, rheology=rheo_model_name,\n",
    "                    complex_compliance_inputs=rheo_input,\n",
    "                    eccentricity=eccentricity, obliquity=obliquity,\n",
    "                    orbital_frequency=constant_orbital_freq, \n",
    "                    spin_frequency=spin_rate,\n",
    "                    max_tidal_order_l=order_l, eccentricity_truncation_lvl=eccentricity_truncation,\n",
    "                    use_obliquity=True, tidal_scale=target_object['tidal_scale'],\n",
    "                    fixed_k2=target_object['k2'], fixed_q=target_object['fixed_q'],\n",
    "                    fixed_dt=target_object['fixed_dt'],\n",
    "                    da_dt_scale=(3.154e7 / 1000.), de_dt_scale=3.154e7,\n",
    "                    dspin_dt_scale=((360. / (2. * np.pi)) * 3.154e7**2))\n",
    "\n",
    "            tidal_heating_targ = dissipation_results['tidal_heating']\n",
    "            dspin_dt_targ = dissipation_results['spin_rate_derivative']\n",
    "            de_dt = dissipation_results['eccentricity_derivative']\n",
    "            da_dt = dissipation_results['semi_major_axis_derivative']\n",
    "            \n",
    "        # Prep for log plotting\n",
    "        dspin_dt_targ_pos, dspin_dt_targ_neg = neg_array_for_log_plot(dspin_dt_targ)\n",
    "        de_dt_pos, de_dt_neg = neg_array_for_log_plot(de_dt)\n",
    "\n",
    "        # Make data Symmetric Log (for negative logscale plotting)\n",
    "        logpos = np.log10(np.copy(dspin_dt_targ_pos))\n",
    "        logpos[logpos < 0.] = 0.\n",
    "        negative_index = ~np.isnan(dspin_dt_targ_neg)\n",
    "        logneg = np.log10(dspin_dt_targ_neg[negative_index])\n",
    "        logneg[logneg < 0.] = 0.\n",
    "        dspin_dt_targ_combo = logpos\n",
    "        dspin_dt_targ_combo[negative_index] = -logneg\n",
    "        \n",
    "        # Reshape\n",
    "        dspin_dt_targ_combo = dspin_dt_targ_combo.reshape(shape)\n",
    "        de_dt_pos = de_dt_pos.reshape(shape)\n",
    "        de_dt_neg = de_dt_neg.reshape(shape)\n",
    "        tidal_heating_targ = tidal_heating_targ.reshape(shape)\n",
    "        dspin_dt_targ = dspin_dt_targ.reshape(shape)\n",
    "        de_dt = de_dt.reshape(shape)\n",
    "\n",
    "        # Plot Contours\n",
    "        cb_data = ax.contourf(x, y, dspin_dt_targ_combo, zpoints, cmap=vik_map)\n",
    "        for c in cb_data.collections:\n",
    "            c.set_edgecolor(\"face\")\n",
    "\n",
    "        # Print minimum eccentricity for a higher order lock\n",
    "        print(f'Minimum Eccentricities for Resonance Locks for subplot {ax_i}:')\n",
    "        for resonance in spin_scale_domain_res:\n",
    "            y_coord = find_nearest(y, resonance-0.003)\n",
    "            y_value = y[y_coord]\n",
    "            dspin_dt_at_res = dspin_dt_targ_combo[y_coord, :]\n",
    "            cross_coord = find_nearest(dspin_dt_at_res, 0.)\n",
    "            deriv_value = dspin_dt_targ_combo[y_coord, cross_coord]\n",
    "            print(f'\\tO/n = {resonance}')\n",
    "            print(f'\\tO/n real = {y_value:0.3f}')\n",
    "            if abs(deriv_value) > 0.5:\n",
    "                print('\\tNo Lock')\n",
    "            else:\n",
    "                min_e = eccentricity_domain[cross_coord]\n",
    "                if draw_resonance_lines:\n",
    "                    ax.plot([min_e, min_e], [min_y, y_value + 0.01], ls=':', c='k')\n",
    "                print(f'\\tdO/dt = {deriv_value:0.3f}')\n",
    "                print(f'\\te_min = {min_e:0.5f}')\n",
    "            print('-------')\n",
    "\n",
    "    # Add Colorbar    \n",
    "    cb = plt.colorbar(cb_data, cax=colorbar_ax, pad=0.03, ticks=zticks)\n",
    "    spaces = '$' + '\\\\; '*19 + '$'\n",
    "    cb.set_label('Decelerating ' + spaces + 'Accelerating\\n$\\\\ddot{\\\\theta}$ [deg yr$^{-2}$]')\n",
    "    cb.ax.set_yticklabels(ztick_names)\n",
    "    \n",
    "    if save_fig:\n",
    "        save_name = analysis_version_save + '_DoubleContourPlot_' + target_object['name'] + '_' + host_object['name']\n",
    "        if add_save_name is not None:\n",
    "            save_name = save_name + '_' + add_save_name\n",
    "\n",
    "        fig_contour.savefig(save_name + '.pdf')"
   ]
  },
  {
   "cell_type": "markdown",
   "metadata": {
    "pycharm": {
     "name": "#%% md\n"
    }
   },
   "source": [
    "#### Obliquity Impact on NSR"
   ]
  },
  {
   "cell_type": "code",
   "execution_count": 54,
   "metadata": {
    "pycharm": {
     "name": "#%%\n"
    },
    "scrolled": false
   },
   "outputs": [
    {
     "name": "stdout",
     "output_type": "stream",
     "text": [
      "Orbital Period: 6.45 Days\n",
      "Semi-Major Axis: 4380700.0 km\n"
     ]
    },
    {
     "data": {
      "application/vnd.jupyter.widget-view+json": {
       "model_id": "92feedaf27174e4092e73c4d241b4e02",
       "version_major": 2,
       "version_minor": 0
      },
      "text/plain": [
       "Canvas(toolbar=Toolbar(toolitems=[('Home', 'Reset original view', 'home', 'home'), ('Back', 'Back to previous …"
      ]
     },
     "metadata": {},
     "output_type": "display_data"
    },
    {
     "name": "stdout",
     "output_type": "stream",
     "text": [
      "Minimum Eccentricities for Resonance Locks for subplot 0:\n",
      "\tO/n = 0.5\n",
      "\tO/n real = 0.500\n",
      "\tdO/dt = nan\n",
      "\te_min = 1.00000\n",
      "-------\n",
      "\tO/n = 1.0\n",
      "\tO/n real = 1.000\n",
      "\tdO/dt = nan\n",
      "\te_min = 1.00000\n",
      "-------\n",
      "\tO/n = 1.5\n",
      "\tO/n real = 1.500\n",
      "\tdO/dt = nan\n",
      "\te_min = 1.00000\n",
      "-------\n",
      "\tO/n = 2.0\n",
      "\tO/n real = 2.000\n",
      "\tdO/dt = nan\n",
      "\te_min = 1.00000\n",
      "-------\n",
      "\tO/n = 2.5\n",
      "\tO/n real = 2.500\n",
      "\tdO/dt = nan\n",
      "\te_min = 1.00000\n",
      "-------\n",
      "\tO/n = 3.0\n",
      "\tO/n real = 3.000\n",
      "\tdO/dt = nan\n",
      "\te_min = 1.00000\n",
      "-------\n",
      "Minimum Eccentricities for Resonance Locks for subplot 1:\n",
      "\tO/n = 0.5\n",
      "\tO/n real = 0.500\n",
      "\tdO/dt = 0.319\n",
      "\te_min = 0.01000\n",
      "-------\n",
      "\tO/n = 1.0\n",
      "\tO/n real = 1.000\n",
      "\tdO/dt = 0.000\n",
      "\te_min = 0.01000\n",
      "-------\n",
      "\tO/n = 1.5\n",
      "\tO/n real = 1.500\n",
      "\tdO/dt = -0.000\n",
      "\te_min = 0.24911\n",
      "-------\n",
      "\tO/n = 2.0\n",
      "\tO/n real = 2.000\n",
      "\tdO/dt = -0.000\n",
      "\te_min = 0.39318\n",
      "-------\n",
      "\tO/n = 2.5\n",
      "\tO/n real = 2.500\n",
      "\tdO/dt = -0.000\n",
      "\te_min = 0.47389\n",
      "-------\n",
      "\tO/n = 3.0\n",
      "\tO/n real = 3.000\n",
      "\tdO/dt = -0.000\n",
      "\te_min = 0.53670\n",
      "-------\n"
     ]
    }
   ],
   "source": [
    "double_contour_plot(TRAPPIST1_e, TRAPPIST1, obliquity=np.radians(35.),\n",
    "                    target_viscosity=rock_viscosity, target_shear=rock_shear, target_rheo='Sundberg-Cooper',\n",
    "                    host_k2=0.33, host_q=5000.,\n",
    "                    order_l=2, eccentricity_truncation=20,\n",
    "                        zpoints=np.linspace(-4, 4, 60), zticks=(-4, -2, 0, 2, 4),\n",
    "                        ztick_names = ('$-10^{4}$', '$-10^{2}$', '$0$', '$10^{2}$', '$10^{4}$'),\n",
    "                    title_1='0$^{\\\\degree}$ Obliquity',\n",
    "                    title_2='35$^{\\\\degree}$ Obliquity',\n",
    "                    text_2x=5e-2, text_2y=2.1, text_2='2:1 Resonance at Low-$e$',\n",
    "                    add_save_name='Obliquity35')"
   ]
  },
  {
   "cell_type": "markdown",
   "metadata": {},
   "source": [
    "### Obliquity Contour Plots"
   ]
  },
  {
   "cell_type": "code",
   "execution_count": 24,
   "metadata": {},
   "outputs": [],
   "source": [
    "def double_contour_obliquity_plot(target_object, host_object, eccentricity=0.,\n",
    "                                  target_viscosity=rock_viscosity, target_shear=rock_shear, target_rheo='Sundberg-Cooper',\n",
    "                                  host_k2=0.33, host_q=5000.,\n",
    "                                  order_l: int = 2, eccentricity_truncation: int = 20,\n",
    "                                  zpoints=np.linspace(-5, 5, 60),\n",
    "                                  zticks=(-5, -3, -1, 0, 1, 3, 5),\n",
    "                                  ztick_names = ('$-10^{5}$', '$-10^{3}$', '$-10^{1}$', '$0$', '$10^{1}$', '$10^{3}$', '$10^{5}$'),\n",
    "                                  text_2x: float = None, text_2y: float = None, text_2: str = None,\n",
    "                                  orbital_period_replacement: float = None,\n",
    "                                  title_1 = None, title_2 = None, add_save_name: str = None, save_fig=auto_save_plots_ck.value):\n",
    "    \n",
    "    print('This plot can take a while the first time it is run after a restart (functions are compiling).')\n",
    "    # Pull out data\n",
    "    constant_orbital_freq = target_object['orbital_freq']\n",
    "    if orbital_period_replacement is not None:\n",
    "        old_orbital_period = rads2days(constant_orbital_freq)\n",
    "        old_semi_major_axis = orbital_motion2semi_a(constant_orbital_freq, host_object['mass'], target_object['mass'])\n",
    "        print(f'Old Orbital Period: {old_orbital_period:0.2f} Days')\n",
    "        print(f'Old Semi-Major Axis: {old_semi_major_axis/1000:0.1f} km')\n",
    "        constant_orbital_freq = days2rads(orbital_period_replacement)\n",
    "        constant_semi_major_axis = orbital_motion2semi_a(constant_orbital_freq, host_object['mass'], target_object['mass'])\n",
    "    else:\n",
    "        constant_semi_major_axis = orbital_motion2semi_a(constant_orbital_freq, host_object['mass'], target_object['mass'])\n",
    "    \n",
    "    print(f'Orbital Period: {rads2days(constant_orbital_freq):0.2f} Days')\n",
    "    print(f'Semi-Major Axis: {constant_semi_major_axis/1000:0.1f} km')\n",
    "\n",
    "    # Domains\n",
    "    oned_n, twod_n = get_resolution()\n",
    "    obliquity_domain_deg = np.linspace(0., 180., twod_n)\n",
    "    obliquity_domain = np.radians(obliquity_domain_deg)\n",
    "    spin_scale_domain = np.linspace(0., 3., twod_n)\n",
    "    #    Make sure to hit resonances\n",
    "    spin_scale_domain_res = np.asarray([0.5, 1., 1.5, 2., 2.5, 3.])\n",
    "    spin_scale_domain = np.concatenate((spin_scale_domain, spin_scale_domain_res))\n",
    "    spin_scale_domain = np.sort(spin_scale_domain)\n",
    "    spin_domain = spin_scale_domain * constant_orbital_freq\n",
    "    obliquity, spin_rate = np.meshgrid(obliquity_domain, spin_domain)\n",
    "    shape = obliquity.shape\n",
    "    obliquity = obliquity.flatten()\n",
    "    spin_rate = spin_rate.flatten()\n",
    "\n",
    "    # Make sure that all input arrays have the correct shape\n",
    "    x = obliquity_domain_deg\n",
    "    y = spin_scale_domain\n",
    "    min_y = np.min(y)\n",
    "    constant_orbital_freq *= np.ones_like(spin_rate)\n",
    "    constant_semi_major_axis *= np.ones_like(spin_rate)\n",
    "    #   Find spin_sync index\n",
    "    sync_index = find_nearest(spin_scale_domain, 1.)\n",
    "    \n",
    "    # Find rheology information\n",
    "    rheo_color, rheo_model_name, rheo_input = rheologies[target_rheo]\n",
    "\n",
    "    # Setup plots\n",
    "    #    Contour Figure\n",
    "    fig_contour = plt.figure(figsize=(6.4*1.75, 4.8), constrained_layout=True)\n",
    "    ratios = (0.49, 0.49, 0.02)\n",
    "    gs = GridSpec(1, 3, figure=fig_contour, width_ratios=ratios, wspace=0.2)\n",
    "    axes = [fig_contour.add_subplot(gs[0, i]) for i in range(2)]\n",
    "    colorbar_ax = fig_contour.add_subplot(gs[0, 2])\n",
    "    \n",
    "    for ax in fig_contour.get_axes():\n",
    "        ax.label_outer()\n",
    "    \n",
    "    for ax_i, ax in enumerate(axes):\n",
    "        \n",
    "         # Labels\n",
    "        ax.set(xlabel='Obliquity [deg.]', xscale='linear', ylim=(spin_scale_domain_res[0], spin_scale_domain_res[-1]))\n",
    "        \n",
    "        if ax_i == 0:\n",
    "            # Add title\n",
    "            if title_1 is not None:\n",
    "                ax.set(title=title_1) \n",
    "            # Add Text\n",
    "            if text_2 is not None:\n",
    "                ax.text(text_2x, text_2y, text_2, fontsize=14, ha='center')\n",
    "            \n",
    "            # Calculate Derivatives\n",
    "            dissipation_results = \\\n",
    "                single_dissipation_from_dict_or_world_instance(\n",
    "                    host_object, target_object,\n",
    "                    target_viscosity, target_shear, rheology=rheo_model_name,\n",
    "                    complex_compliance_inputs=rheo_input,\n",
    "                    eccentricity=np.zeros_like(obliquity), obliquity=obliquity,\n",
    "                    orbital_frequency=constant_orbital_freq, \n",
    "                    spin_frequency=spin_rate,\n",
    "                    max_tidal_order_l=order_l, eccentricity_truncation_lvl=eccentricity_truncation,\n",
    "                    use_obliquity=True, tidal_scale=target_object['tidal_scale'],\n",
    "                    fixed_k2=target_object['k2'], fixed_q=target_object['fixed_q'],\n",
    "                    fixed_dt=target_object['fixed_dt'],\n",
    "                    da_dt_scale=(3.154e7 / 1000.), de_dt_scale=3.154e7,\n",
    "                    dspin_dt_scale=((360. / (2. * np.pi)) * 3.154e7**2))\n",
    "\n",
    "            tidal_heating_targ = dissipation_results['tidal_heating']\n",
    "            dspin_dt_targ = dissipation_results['spin_rate_derivative']\n",
    "            de_dt = dissipation_results['eccentricity_derivative']\n",
    "            da_dt = dissipation_results['semi_major_axis_derivative']\n",
    "            \n",
    "        else:\n",
    "            # Add title\n",
    "            if title_2 is not None:\n",
    "                ax.set(title=title_2)\n",
    "            \n",
    "            # Calculate Derivatives\n",
    "            dissipation_results = \\\n",
    "                single_dissipation_from_dict_or_world_instance(\n",
    "                    host_object, target_object,\n",
    "                    target_viscosity, target_shear, rheology=rheo_model_name,\n",
    "                    complex_compliance_inputs=rheo_input,\n",
    "                    eccentricity=eccentricity * np.ones_like(obliquity), obliquity=obliquity,\n",
    "                    orbital_frequency=constant_orbital_freq, \n",
    "                    spin_frequency=spin_rate,\n",
    "                    max_tidal_order_l=order_l, eccentricity_truncation_lvl=eccentricity_truncation,\n",
    "                    use_obliquity=True, tidal_scale=target_object['tidal_scale'],\n",
    "                    fixed_k2=target_object['k2'], fixed_q=target_object['fixed_q'],\n",
    "                    fixed_dt=target_object['fixed_dt'],\n",
    "                    da_dt_scale=(3.154e7 / 1000.), de_dt_scale=3.154e7,\n",
    "                    dspin_dt_scale=((360. / (2. * np.pi)) * 3.154e7**2))\n",
    "\n",
    "            tidal_heating_targ = dissipation_results['tidal_heating']\n",
    "            dspin_dt_targ = dissipation_results['spin_rate_derivative']\n",
    "            de_dt = dissipation_results['eccentricity_derivative']\n",
    "            da_dt = dissipation_results['semi_major_axis_derivative']\n",
    "\n",
    "        # Prep for log plotting\n",
    "        dspin_dt_targ_pos, dspin_dt_targ_neg = neg_array_for_log_plot(dspin_dt_targ)\n",
    "        de_dt_pos, de_dt_neg = neg_array_for_log_plot(de_dt)\n",
    "        \n",
    "        # Make data Symmetric Log (for negative logscale plotting)\n",
    "        logpos = np.log10(np.copy(dspin_dt_targ_pos))\n",
    "        logpos[logpos < 0.] = 0.\n",
    "        negative_index = ~np.isnan(dspin_dt_targ_neg)\n",
    "        logneg = np.log10(dspin_dt_targ_neg[negative_index])\n",
    "        logneg[logneg < 0.] = 0.\n",
    "        dspin_dt_targ_combo = logpos\n",
    "        dspin_dt_targ_combo[negative_index] = -logneg\n",
    "        \n",
    "        # Reshape\n",
    "        dspin_dt_targ_combo = dspin_dt_targ_combo.reshape(shape)\n",
    "        de_dt_pos = de_dt_pos.reshape(shape)\n",
    "        de_dt_neg = de_dt_neg.reshape(shape)\n",
    "        tidal_heating_targ = tidal_heating_targ.reshape(shape)\n",
    "        dspin_dt_targ = dspin_dt_targ.reshape(shape)\n",
    "        de_dt = de_dt.reshape(shape)\n",
    "\n",
    "        # Plot Contours\n",
    "        cb_data = ax.contourf(x, y, dspin_dt_targ_combo, zpoints, cmap=vik_map)\n",
    "        for c in cb_data.collections:\n",
    "            c.set_edgecolor(\"face\")\n",
    "\n",
    "    # Add Colorbar\n",
    "    cb = plt.colorbar(cb_data, cax=colorbar_ax, pad=0.03, ticks=zticks)\n",
    "    spaces = '$' + '\\\\; '*19 + '$'\n",
    "    cb.set_label('Decelerating ' + spaces + 'Accelerating\\n$\\\\ddot{\\\\theta}$ [deg yr$^{-2}$]')\n",
    "    cb.ax.set_yticklabels(ztick_names)\n",
    "        \n",
    "    for ax in axes:\n",
    "        ax.set_xticks([0, 45, 90, 135, 180])\n",
    "    \n",
    "    if save_fig:\n",
    "        save_name = analysis_version_save + '_DoubleContourObliquityPlot_' + target_object['name'] + '_' + host_object['name']\n",
    "        if add_save_name is not None:\n",
    "            save_name = save_name + '_' + add_save_name\n",
    "\n",
    "        fig_contour.savefig(save_name + '.pdf')"
   ]
  },
  {
   "cell_type": "markdown",
   "metadata": {},
   "source": [
    "#### Obliquity Contour for e=0 (left) and e=0.1 (right)"
   ]
  },
  {
   "cell_type": "code",
   "execution_count": 53,
   "metadata": {},
   "outputs": [
    {
     "name": "stdout",
     "output_type": "stream",
     "text": [
      "This plot can take a while the first time it is run after a restart (functions are compiling).\n",
      "Orbital Period: 6.45 Days\n",
      "Semi-Major Axis: 4380700.0 km\n"
     ]
    },
    {
     "data": {
      "application/vnd.jupyter.widget-view+json": {
       "model_id": "16a1ea65208f4bb5bfebe92eef8de036",
       "version_major": 2,
       "version_minor": 0
      },
      "text/plain": [
       "Canvas(toolbar=Toolbar(toolitems=[('Home', 'Reset original view', 'home', 'home'), ('Back', 'Back to previous …"
      ]
     },
     "metadata": {},
     "output_type": "display_data"
    }
   ],
   "source": [
    "double_contour_obliquity_plot(TRAPPIST1_e, TRAPPIST1, eccentricity=0.1,\n",
    "                    target_viscosity=rock_viscosity, target_shear=rock_shear, target_rheo='Sundberg-Cooper',\n",
    "                    host_k2=0.33, host_q=5000.,\n",
    "                    order_l=2, eccentricity_truncation=20,\n",
    "                    zpoints=np.linspace(-5, 5, 40), zticks=(-5, -3, -1, 0, 1, 3, 5),\n",
    "                    title_1='$e\\\\;=\\\\;0$',\n",
    "                    title_2='$e\\\\;=\\\\;0.1$',\n",
    "                    text_2='2:1 Resonance Independent of $e$', text_2x=75, text_2y=2.1,\n",
    "                    add_save_name='Eccentricity0.1')"
   ]
  },
  {
   "cell_type": "markdown",
   "metadata": {},
   "source": [
    "#### Obliquity Contour for e=0 (left) and e=0.3 (right)"
   ]
  },
  {
   "cell_type": "code",
   "execution_count": 52,
   "metadata": {},
   "outputs": [
    {
     "name": "stdout",
     "output_type": "stream",
     "text": [
      "This plot can take a while the first time it is run after a restart (functions are compiling).\n",
      "Orbital Period: 6.45 Days\n",
      "Semi-Major Axis: 4380700.0 km\n"
     ]
    },
    {
     "data": {
      "application/vnd.jupyter.widget-view+json": {
       "model_id": "dc0f5e69f95e4f469458b83f60aa81f0",
       "version_major": 2,
       "version_minor": 0
      },
      "text/plain": [
       "Canvas(toolbar=Toolbar(toolitems=[('Home', 'Reset original view', 'home', 'home'), ('Back', 'Back to previous …"
      ]
     },
     "metadata": {},
     "output_type": "display_data"
    }
   ],
   "source": [
    "double_contour_obliquity_plot(TRAPPIST1_e, TRAPPIST1, eccentricity=0.3,\n",
    "                    target_viscosity=rock_viscosity, target_shear=rock_shear, target_rheo='Sundberg-Cooper',\n",
    "                    host_k2=0.33, host_q=5000.,\n",
    "                    order_l=2, eccentricity_truncation=20,\n",
    "                        zpoints=np.linspace(-4, 4, 100), zticks=(-4, -2, 0, 2, 4),\n",
    "                        ztick_names = ('$-10^{4}$', '$-10^{2}$', '$0$', '$10^{2}$', '$10^{4}$'),\n",
    "                    title_1='$e\\\\;=\\\\;0$',\n",
    "                    title_2='$e\\\\;=\\\\;0.3$',\n",
    "                    text_2='2:1 Resonance Independent of $e$', text_2x=75, text_2y=2.1,\n",
    "                    add_save_name='Eccentricity0p3')"
   ]
  },
  {
   "cell_type": "markdown",
   "metadata": {},
   "source": [
    "#### Obliquity Contour for e=0 (left) and e=0.6 (right)"
   ]
  },
  {
   "cell_type": "code",
   "execution_count": 51,
   "metadata": {},
   "outputs": [
    {
     "name": "stdout",
     "output_type": "stream",
     "text": [
      "This plot can take a while the first time it is run after a restart (functions are compiling).\n",
      "Orbital Period: 6.45 Days\n",
      "Semi-Major Axis: 4380700.0 km\n"
     ]
    },
    {
     "data": {
      "application/vnd.jupyter.widget-view+json": {
       "model_id": "30c767009d0f4914ba6db54872b10da3",
       "version_major": 2,
       "version_minor": 0
      },
      "text/plain": [
       "Canvas(toolbar=Toolbar(toolitems=[('Home', 'Reset original view', 'home', 'home'), ('Back', 'Back to previous …"
      ]
     },
     "metadata": {},
     "output_type": "display_data"
    }
   ],
   "source": [
    "double_contour_obliquity_plot(TRAPPIST1_e, TRAPPIST1, eccentricity=0.6,\n",
    "                    target_viscosity=rock_viscosity, target_shear=rock_shear, target_rheo='Sundberg-Cooper',\n",
    "                    host_k2=0.33, host_q=5000.,\n",
    "                    order_l=2, eccentricity_truncation=20,\n",
    "                    zpoints=np.linspace(-5, 5, 40), zticks=(-5, -3, -1, 0, 1, 3, 5),\n",
    "                    title_1='$e\\\\;=\\\\;0$',\n",
    "                    title_2='$e\\\\;=\\\\;0.6$',\n",
    "                    text_2='2:1 Resonance Independent of $e$', text_2x=75, text_2y=2.1,\n",
    "                    add_save_name='Eccentricity0.6')"
   ]
  },
  {
   "cell_type": "markdown",
   "metadata": {},
   "source": [
    "### Obliquity Domain - Eccentricity Levels"
   ]
  },
  {
   "cell_type": "code",
   "execution_count": 28,
   "metadata": {
    "pycharm": {
     "name": "#%%\n"
    }
   },
   "outputs": [],
   "source": [
    "def obliquity_variation_eccentricity_truncation_1(target_object, host_object,\n",
    "                        target_viscosity=5.0e14, target_shear=3.3e9, target_rheo='Sundberg-Cooper',\n",
    "                        double_plot=True,\n",
    "                        eccentricity=.3, add_save_name: str = None, save_fig=auto_save_plots_ck.value, different_e=False):\n",
    "    \n",
    "    # Find rheology information\n",
    "    rheo_color, rheo_model_name, rheo_input = rheologies[target_rheo]\n",
    "\n",
    "    # Setup Domain and Cases\n",
    "    if different_e:\n",
    "        cases = [(2, .0), (2, .1), (2, .3), (2, .6)]\n",
    "        case_line_styles = ['-', '--', '-.', ':']\n",
    "        case_names = ['$e=' + f'{trunc_level}' + '}$' if order_l == 2 \n",
    "                      else '$l = ' + str(order_l) + 'e=' + f'{trunc_level}' + '}$'\n",
    "                      for order_l, trunc_level in cases]\n",
    "    else:\n",
    "        cases = [(2, 2), (2, 6), (2, 10), (2, 20)]\n",
    "        case_line_styles = ['-', '--', '-.', ':']\n",
    "        case_names = ['$\\\\mathcal{O}(e^{' + f'{trunc_level}' + '}$)' if order_l == 2 \n",
    "                      else '$l = ' + str(order_l) + '\\\\mathcal{O}(e^{' + f'{trunc_level}' + '}$)'\n",
    "                      for order_l, trunc_level in cases]\n",
    "    \n",
    "    # Setup Domains\n",
    "    oned_n, twod_n = get_resolution()\n",
    "    obliquity_domain_deg = np.linspace(0, 360., oned_n)\n",
    "    obliquity_domain = np.radians(obliquity_domain_deg)\n",
    "    eccentricity *= np.ones_like(obliquity_domain)\n",
    "    spin_rate = target_object['orbital_freq']\n",
    "    orbital_freq = target_object['orbital_freq']\n",
    "    spin_rate *= np.ones_like(obliquity_domain)\n",
    "    orbital_freq *= np.ones_like(obliquity_domain)\n",
    "    semi_major_axis = orbital_motion2semi_a(orbital_freq, host_object['mass'], target_object['mass'])\n",
    "    \n",
    "    # Setup plot\n",
    "    if double_plot:\n",
    "        fig, axes = plt.subplots(ncols=2, figsize=(6.4*1.75, 4.8), constrained_layout=True)\n",
    "        ax0 = axes[0]\n",
    "        ax1 = axes[1]\n",
    "        ax0.set_title('$\\\\dot{\\\\theta} \\\\; = \\\\; n$')\n",
    "        ax1.set_title('$\\\\dot{\\\\theta} \\\\; = \\\\; 2n$')\n",
    "        \n",
    "        fig2, axes2 = plt.subplots(ncols=2, figsize=(6.4*1.75, 4.8), constrained_layout=True)\n",
    "        ax2_0 = axes2[0]\n",
    "        ax2_1 = axes2[1]\n",
    "        ax2_0.set_title('$\\\\dot{\\\\theta} \\\\; = \\\\; n$')\n",
    "        ax2_1.set_title('$\\\\dot{\\\\theta} \\\\; = \\\\; 2n$')\n",
    "        \n",
    "    else:\n",
    "        fig, ax0 = plt.subplots(ncols=1, figsize=(6.4, 4.8), constrained_layout=True)\n",
    "        ax1 = None\n",
    "        ax0.set_title('$\\\\dot{\\\\theta} \\\\; = \\\\; n$')\n",
    "        axes = [ax0]\n",
    "        \n",
    "        fig2, ax2_0 = plt.subplots(ncols=1, figsize=(6.4, 4.8), constrained_layout=True)\n",
    "        ax2_1 = None\n",
    "        axes2 = [ax2_0]\n",
    "        ax2_0.set_title('$\\\\dot{\\\\theta} \\\\; = \\\\; n$')\n",
    "    \n",
    "    for ax in fig.get_axes():\n",
    "        ax.label_outer()\n",
    "    \n",
    "    for ax in fig2.get_axes():\n",
    "        ax.label_outer()\n",
    "    \n",
    "    for ax in axes:\n",
    "        if ax is ax0:\n",
    "            ax.set(xlabel='Obliquity [deg.]', ylabel='Tidal Heating [W]')\n",
    "        else:\n",
    "            ax.set(xlabel='Obliquity [deg.]')\n",
    "            \n",
    "    for ax in axes2:\n",
    "        if ax is ax2_0:\n",
    "            ax.set(xlabel='Obliquity [deg.]', ylabel='Tidal Polar Torque [N m]')\n",
    "        else:\n",
    "            ax.set(xlabel='Obliquity [deg.]')\n",
    "    \n",
    "    max_heating = 0.\n",
    "    min_heating = 1.e100\n",
    "    max_torque = 0.\n",
    "    min_torque = 1.e100\n",
    "    for case_i, (max_order_l, eccentricity_trunc) in enumerate(cases):\n",
    "        \n",
    "        if different_e:\n",
    "            eccentricity = eccentricity_trunc\n",
    "            eccentricity_trunc = 20\n",
    "        \n",
    "        dissipation_results = \\\n",
    "            single_dissipation_from_dict_or_world_instance(\n",
    "                host_object, target_object,\n",
    "                target_viscosity, target_shear, rheology=rheo_model_name,\n",
    "                complex_compliance_inputs=rheo_input,\n",
    "                eccentricity=eccentricity, obliquity=obliquity_domain,\n",
    "                orbital_frequency=orbital_freq, \n",
    "                spin_frequency=orbital_freq,\n",
    "                max_tidal_order_l=max_order_l, eccentricity_truncation_lvl=eccentricity_trunc,\n",
    "                use_obliquity=True, tidal_scale=target_object['tidal_scale'],\n",
    "                fixed_k2=target_object['k2'], fixed_q=target_object['fixed_q'],\n",
    "                fixed_dt=target_object['fixed_dt'],\n",
    "                da_dt_scale=(3.154e7 / 1000.), de_dt_scale=3.154e7,\n",
    "                dspin_dt_scale=((360. / (2. * np.pi)) * 3.154e7**2))\n",
    "\n",
    "        tidal_heating_targ_pos = dissipation_results['tidal_heating']\n",
    "        tidal_torque_pos = dissipation_results['tidal_torque']\n",
    "        dspin_dt_targ_pos = dissipation_results['spin_rate_derivative']\n",
    "        de_dt_pos = dissipation_results['eccentricity_derivative']\n",
    "        da_dt_pos = dissipation_results['semi_major_axis_derivative']\n",
    "        \n",
    "        if double_plot:\n",
    "            # Calculate tides: spin=-n\n",
    "            dissipation_results = \\\n",
    "                single_dissipation_from_dict_or_world_instance(\n",
    "                    host_object, target_object,\n",
    "                    target_viscosity, target_shear, rheology=rheo_model_name,\n",
    "                    complex_compliance_inputs=rheo_input,\n",
    "                    eccentricity=eccentricity, obliquity=obliquity_domain,\n",
    "                    orbital_frequency=orbital_freq, \n",
    "                    spin_frequency=-orbital_freq,\n",
    "                    max_tidal_order_l=max_order_l, eccentricity_truncation_lvl=eccentricity_trunc,\n",
    "                    use_obliquity=True, tidal_scale=target_object['tidal_scale'],\n",
    "                    fixed_k2=target_object['k2'], fixed_q=target_object['fixed_q'],\n",
    "                    fixed_dt=target_object['fixed_dt'],\n",
    "                    da_dt_scale=(3.154e7 / 1000.), de_dt_scale=3.154e7,\n",
    "                    dspin_dt_scale=((360. / (2. * np.pi)) * 3.154e7**2))\n",
    "\n",
    "            tidal_heating_targ_neg = dissipation_results['tidal_heating']\n",
    "            tidal_torque_neg = dissipation_results['tidal_torque']\n",
    "            dspin_dt_targ_neg = dissipation_results['spin_rate_derivative']\n",
    "            de_dt_neg = dissipation_results['eccentricity_derivative']\n",
    "            da_dt_neg = dissipation_results['semi_major_axis_derivative']\n",
    "        \n",
    "            # Heating Manipulation\n",
    "            max_heating = max(max_heating, np.max(tidal_heating_targ_neg), np.max(tidal_heating_targ_pos))\n",
    "            min_heating = min(min_heating, np.min(tidal_heating_targ_neg), np.min(tidal_heating_targ_pos))\n",
    "            \n",
    "            # Torque Manipulation\n",
    "            max_torque = max(max_torque, np.max(tidal_torque_neg), np.max(tidal_torque_pos))\n",
    "            min_torque = min(min_torque, np.min(tidal_torque_neg), np.min(tidal_torque_pos))\n",
    "            torque_s0_pos, torque_s0_neg = neg_array_for_log_plot(tidal_torque_pos)\n",
    "            torque_s1_pos, torque_s1_neg = neg_array_for_log_plot(tidal_torque_neg)\n",
    "        else:\n",
    "            # Heating Manipulation\n",
    "            max_heating = max(max_heating, np.max(tidal_heating_targ_pos))\n",
    "            min_heating = min(min_heating, np.min(tidal_heating_targ_pos))\n",
    "            \n",
    "            # Torque Manipulation\n",
    "            max_torque = max(max_torque, np.max(tidal_torque_pos))\n",
    "            min_torque = min(min_torque, np.min(tidal_torque_pos))\n",
    "            torque_s0_pos, torque_s0_neg = neg_array_for_log_plot(tidal_torque_pos)\n",
    "            \n",
    "        # Print Heating Difference\n",
    "        print('Order-l:', max_order_l, 'Truncation:', eccentricity_trunc, 'MaxtoMin Ratio:',\n",
    "              np.max(tidal_heating_targ_pos)/np.min(tidal_heating_targ_pos))\n",
    "        \n",
    "        # Plot results\n",
    "        style = case_line_styles[case_i]\n",
    "        name = case_names[case_i]\n",
    "        \n",
    "        if double_plot:\n",
    "            ax0.plot(obliquity_domain_deg, tidal_heating_targ_pos, ls=style, c='k', label=name)\n",
    "            ax1.plot(obliquity_domain_deg, tidal_heating_targ_neg, ls=style, c='k', label=name)\n",
    "\n",
    "            ax2_0.plot(obliquity_domain_deg, torque_s0_pos, ls=style, c=red, label=name)\n",
    "            ax2_0.plot(obliquity_domain_deg, torque_s0_neg, ls=style, c=blue)\n",
    "            ax2_1.plot(obliquity_domain_deg, torque_s1_pos, ls=style, c=red, label=name)\n",
    "            ax2_1.plot(obliquity_domain_deg, torque_s1_neg, ls=style, c=blue)\n",
    "        else:\n",
    "            ax0.plot(obliquity_domain_deg, tidal_heating_targ_pos, ls=style, c='k', label=name)\n",
    "            ax2_0.plot(obliquity_domain_deg, torque_s0_pos, ls=style, c=red, label=name)\n",
    "            ax2_0.plot(obliquity_domain_deg, torque_s0_neg, ls=style, c=blue)\n",
    "        \n",
    "    # Legend\n",
    "    ax0.legend(loc='best')\n",
    "    \n",
    "    # Avoid color legend for torque plot. Use heating plot for handles\n",
    "    handles, labels = ax0.get_legend_handles_labels()\n",
    "    ax2_0.legend(handles, labels, loc='lower center')\n",
    "    \n",
    "    # Axis limits and grid\n",
    "    for ax in axes:\n",
    "#         if min_heating < 1e16:\n",
    "#             min_heating = 0.\n",
    "#         else:\n",
    "#             min_heating = 0.99 * min_heating\n",
    "#         ax.set(ylim=(min_heating, max_heating*1.01))\n",
    "        ax.set(ylim=(0.2e17, 1.4e17))\n",
    "        ax.set_xticks([0, 45, 90, 135, 180, 225, 270, 315, 360])\n",
    "        ax.grid(axis='both', alpha=0.5, ls='--')\n",
    "        \n",
    "    for ax in axes2:\n",
    "        min_torque = max(min_torque, 1e14)\n",
    "        ax.set(ylim=(min_torque*0.99, max_torque*1.01), yscale='log')\n",
    "        ax.set_xticks([0, 45,90, 135, 180, 225, 270, 315, 360])\n",
    "        ax.grid(axis='both', alpha=0.5, ls='--')\n",
    "    \n",
    "    if save_fig:\n",
    "        if different_e:\n",
    "            save_name = analysis_version_save + 'ObliquityEccenLevels_' + target_object['name'] + '_' + host_object['name']\n",
    "        else:\n",
    "            save_name = analysis_version_save + 'ObliquityEccenTruncs_' + target_object['name'] + '_' + host_object['name']\n",
    "        if add_save_name is not None:\n",
    "            save_name = save_name + '_' + add_save_name\n",
    "\n",
    "        fig.savefig(save_name + '_Heating.pdf')\n",
    "        fig2.savefig(save_name + '_Torque.pdf')\n",
    "        \n",
    "    plt.show()"
   ]
  },
  {
   "cell_type": "markdown",
   "metadata": {},
   "source": [
    "#### Modest Eccentricity, 0.05"
   ]
  },
  {
   "cell_type": "code",
   "execution_count": 50,
   "metadata": {
    "pycharm": {
     "name": "#%%\n"
    }
   },
   "outputs": [
    {
     "data": {
      "application/vnd.jupyter.widget-view+json": {
       "model_id": "cf83fa4f0e2f40a9bdd0cdd86ce0b5d1",
       "version_major": 2,
       "version_minor": 0
      },
      "text/plain": [
       "Canvas(toolbar=Toolbar(toolitems=[('Home', 'Reset original view', 'home', 'home'), ('Back', 'Back to previous …"
      ]
     },
     "metadata": {},
     "output_type": "display_data"
    },
    {
     "data": {
      "application/vnd.jupyter.widget-view+json": {
       "model_id": "b511b1e587bd4391b0de4fb8c3f8bb2e",
       "version_major": 2,
       "version_minor": 0
      },
      "text/plain": [
       "Canvas(toolbar=Toolbar(toolitems=[('Home', 'Reset original view', 'home', 'home'), ('Back', 'Back to previous …"
      ]
     },
     "metadata": {},
     "output_type": "display_data"
    },
    {
     "name": "stdout",
     "output_type": "stream",
     "text": [
      "Order-l: 2 Truncation: 2 MaxtoMin Ratio: 79.69477473669741\n",
      "Order-l: 2 Truncation: 6 MaxtoMin Ratio: 78.6908252720574\n",
      "Order-l: 2 Truncation: 10 MaxtoMin Ratio: 78.69076805589395\n",
      "Order-l: 2 Truncation: 20 MaxtoMin Ratio: 78.69076805435344\n"
     ]
    }
   ],
   "source": [
    "obliquity_variation_eccentricity_truncation_1(TRAPPIST1_e, TRAPPIST1, eccentricity=0.05,\n",
    "                                            target_viscosity=rock_viscosity, target_shear=rock_shear,\n",
    "                                            target_rheo='Sundberg-Cooper',\n",
    "                                            double_plot=False,\n",
    "                                            add_save_name='ModestEccen')"
   ]
  },
  {
   "cell_type": "markdown",
   "metadata": {},
   "source": [
    "#### Large Eccentricity, 0.3"
   ]
  },
  {
   "cell_type": "code",
   "execution_count": 49,
   "metadata": {
    "pycharm": {
     "name": "#%%\n"
    },
    "scrolled": false
   },
   "outputs": [
    {
     "data": {
      "application/vnd.jupyter.widget-view+json": {
       "model_id": "bd0684d7ccb64382b1606c69bea532a4",
       "version_major": 2,
       "version_minor": 0
      },
      "text/plain": [
       "Canvas(toolbar=Toolbar(toolitems=[('Home', 'Reset original view', 'home', 'home'), ('Back', 'Back to previous …"
      ]
     },
     "metadata": {},
     "output_type": "display_data"
    },
    {
     "data": {
      "application/vnd.jupyter.widget-view+json": {
       "model_id": "ab6a33ad536449869251155910376c7e",
       "version_major": 2,
       "version_minor": 0
      },
      "text/plain": [
       "Canvas(toolbar=Toolbar(toolitems=[('Home', 'Reset original view', 'home', 'home'), ('Back', 'Back to previous …"
      ]
     },
     "metadata": {},
     "output_type": "display_data"
    },
    {
     "name": "stdout",
     "output_type": "stream",
     "text": [
      "Order-l: 2 Truncation: 2 MaxtoMin Ratio: 4.043384082915312\n",
      "Order-l: 2 Truncation: 6 MaxtoMin Ratio: 3.0854311308374442\n",
      "Order-l: 2 Truncation: 10 MaxtoMin Ratio: 3.0392308721757035\n",
      "Order-l: 2 Truncation: 20 MaxtoMin Ratio: 3.037590605148129\n"
     ]
    }
   ],
   "source": [
    "obliquity_variation_eccentricity_truncation_1(TRAPPIST1_e, TRAPPIST1, eccentricity=0.3,\n",
    "                                            target_viscosity=rock_viscosity, target_shear=rock_shear,\n",
    "                                            target_rheo='Sundberg-Cooper',\n",
    "                                            double_plot=False,\n",
    "                                            add_save_name='LargeEccen')"
   ]
  },
  {
   "cell_type": "code",
   "execution_count": 48,
   "metadata": {},
   "outputs": [
    {
     "data": {
      "application/vnd.jupyter.widget-view+json": {
       "model_id": "9b7d4ae8bff14302a72fe81b6ae2fde6",
       "version_major": 2,
       "version_minor": 0
      },
      "text/plain": [
       "Canvas(toolbar=Toolbar(toolitems=[('Home', 'Reset original view', 'home', 'home'), ('Back', 'Back to previous …"
      ]
     },
     "metadata": {},
     "output_type": "display_data"
    },
    {
     "data": {
      "application/vnd.jupyter.widget-view+json": {
       "model_id": "7198391c1a444d4cbd3a1dd8be19d1c9",
       "version_major": 2,
       "version_minor": 0
      },
      "text/plain": [
       "Canvas(toolbar=Toolbar(toolitems=[('Home', 'Reset original view', 'home', 'home'), ('Back', 'Back to previous …"
      ]
     },
     "metadata": {},
     "output_type": "display_data"
    },
    {
     "name": "stdout",
     "output_type": "stream",
     "text": [
      "Order-l: 2 Truncation: 20 MaxtoMin Ratio: inf\n",
      "Order-l: 2 Truncation: 20 MaxtoMin Ratio: 20.320788105764322\n",
      "Order-l: 2 Truncation: 20 MaxtoMin Ratio: 3.037590605148129\n",
      "Order-l: 2 Truncation: 20 MaxtoMin Ratio: 1.399734907565173\n"
     ]
    }
   ],
   "source": [
    "obliquity_variation_eccentricity_truncation_1(TRAPPIST1_e, TRAPPIST1,\n",
    "                                            target_viscosity=rock_viscosity, target_shear=rock_shear,\n",
    "                                            target_rheo='Sundberg-Cooper',\n",
    "                                            double_plot=False,\n",
    "                                            add_save_name='LargeEccen', different_e=True)"
   ]
  },
  {
   "cell_type": "markdown",
   "metadata": {},
   "source": [
    "#### Very Large Eccentricity, 0.6"
   ]
  },
  {
   "cell_type": "code",
   "execution_count": 47,
   "metadata": {
    "pycharm": {
     "name": "#%%\n"
    }
   },
   "outputs": [
    {
     "data": {
      "application/vnd.jupyter.widget-view+json": {
       "model_id": "d5ec058498ad4dcca00bbecfac83a7f9",
       "version_major": 2,
       "version_minor": 0
      },
      "text/plain": [
       "Canvas(toolbar=Toolbar(toolitems=[('Home', 'Reset original view', 'home', 'home'), ('Back', 'Back to previous …"
      ]
     },
     "metadata": {},
     "output_type": "display_data"
    },
    {
     "data": {
      "application/vnd.jupyter.widget-view+json": {
       "model_id": "6eb9d549e0ea4535b70ceb7bc0f26143",
       "version_major": 2,
       "version_minor": 0
      },
      "text/plain": [
       "Canvas(toolbar=Toolbar(toolitems=[('Home', 'Reset original view', 'home', 'home'), ('Back', 'Back to previous …"
      ]
     },
     "metadata": {},
     "output_type": "display_data"
    },
    {
     "name": "stdout",
     "output_type": "stream",
     "text": [
      "Order-l: 2 Truncation: 2 MaxtoMin Ratio: 2.499534957873485\n",
      "Order-l: 2 Truncation: 6 MaxtoMin Ratio: 1.6614933731933588\n",
      "Order-l: 2 Truncation: 10 MaxtoMin Ratio: 1.482022749596828\n",
      "Order-l: 2 Truncation: 20 MaxtoMin Ratio: 1.399734907565173\n"
     ]
    }
   ],
   "source": [
    "obliquity_variation_eccentricity_truncation_1(TRAPPIST1_e, TRAPPIST1, eccentricity=0.6,\n",
    "                                            target_viscosity=rock_viscosity, target_shear=rock_shear,\n",
    "                                            target_rheo='Sundberg-Cooper',\n",
    "                                            double_plot=False,\n",
    "                                            add_save_name='VeryLargeEccen')"
   ]
  },
  {
   "cell_type": "markdown",
   "metadata": {},
   "source": [
    "### Obliquity Domain - Eccentricity Truncation"
   ]
  },
  {
   "cell_type": "code",
   "execution_count": 33,
   "metadata": {},
   "outputs": [],
   "source": [
    "def obliquity_variation_eccentricity_truncation_2(target_object, host_object,\n",
    "                        target_viscosity=5.0e14, target_shear=3.3e9, target_rheo='Sundberg-Cooper',\n",
    "                        double_plot=True, show_annotation: bool = False,\n",
    "                        eccentricity=.3, add_save_name: str = None, save_fig=auto_save_plots_ck.value):\n",
    "    \n",
    "    # Find rheology information\n",
    "    rheo_color, rheo_model_name, rheo_input = rheologies[target_rheo]\n",
    "\n",
    "    # Setup Domain and Cases\n",
    "    cases = [(2, 2), (2, 6), (2, 10), (2, 20)]\n",
    "    case_line_styles = ['-', '--', '-.', ':']\n",
    "    case_names = ['$\\\\mathcal{O}(e^{' + f'{trunc_level}' + '}$)' if order_l == 2 \n",
    "                  else '$l = ' + str(order_l) + '\\\\mathcal{O}(e^{' + f'{trunc_level}' + '}$)'\n",
    "                  for order_l, trunc_level in cases]\n",
    "    \n",
    "    oned_n, twod_n = get_resolution()\n",
    "    obliquity_domain_deg = np.linspace(0, 360., oned_n)\n",
    "    obliquity_domain = np.radians(obliquity_domain_deg)\n",
    "    eccentricity *= np.ones_like(obliquity_domain)\n",
    "    \n",
    "    \n",
    "    spin_rate = target_object['orbital_freq']\n",
    "    orbital_freq = target_object['orbital_freq']\n",
    "    \n",
    "    spin_rate *= np.ones_like(obliquity_domain)\n",
    "    orbital_freq *= np.ones_like(obliquity_domain)\n",
    "    semi_major_axis = orbital_motion2semi_a(orbital_freq, host_object['mass'], target_object['mass'])\n",
    "    \n",
    "    # Setup plot\n",
    "    if double_plot:\n",
    "        fig, axes = plt.subplots(ncols=2, figsize=(6.4*1.75, 4.8), constrained_layout=True)\n",
    "        ax0 = axes[0]\n",
    "        ax1 = axes[1]\n",
    "        ax0.set_title('$\\\\dot{\\\\theta} \\\\; = \\\\; n$')\n",
    "        ax1.set_title('$\\\\dot{\\\\theta} \\\\; = \\\\; -n$')\n",
    "    else:\n",
    "        fig, ax0 = plt.subplots(ncols=1, figsize=(6.4, 4.8), constrained_layout=True)\n",
    "        ax0.set_title('$\\\\dot{\\\\theta} \\\\; = \\\\; n$')\n",
    "        ax1 = None\n",
    "        axes = [ax0]\n",
    "    \n",
    "    for ax in fig.get_axes():\n",
    "        ax.label_outer()\n",
    "    \n",
    "    for ax in axes:\n",
    "        if ax is ax0:\n",
    "            ax.set(xlabel='Obliquity [deg.]', ylabel='Tidal Heating [W]')\n",
    "        else:\n",
    "            ax.set(xlabel='Obliquity [deg.]')\n",
    "    \n",
    "    max_heating = 0.\n",
    "    min_heating = 1.e100\n",
    "    first_case_heating = None\n",
    "    last_case_heating = None\n",
    "    for case_i, (max_order_l, eccentricity_trunc) in enumerate(cases):\n",
    "\n",
    "        # Calculate tides: spin=n\n",
    "        dissipation_results = \\\n",
    "                single_dissipation_from_dict_or_world_instance(\n",
    "                    host_object, target_object,\n",
    "                    target_viscosity, target_shear, rheology=rheo_model_name,\n",
    "                    complex_compliance_inputs=rheo_input,\n",
    "                    eccentricity=eccentricity, obliquity=obliquity_domain,\n",
    "                    orbital_frequency=orbital_freq,\n",
    "                    spin_frequency=-orbital_freq,\n",
    "                    max_tidal_order_l=max_order_l, eccentricity_truncation_lvl=eccentricity_trunc,\n",
    "                    use_obliquity=True, tidal_scale=target_object['tidal_scale'],\n",
    "                    fixed_k2=target_object['k2'], fixed_q=target_object['fixed_q'],\n",
    "                    fixed_dt=target_object['fixed_dt'],\n",
    "                    da_dt_scale=(3.154e7 / 1000.), de_dt_scale=3.154e7,\n",
    "                    dspin_dt_scale=((360. / (2. * np.pi)) * 3.154e7**2))\n",
    "\n",
    "        tidal_heating_targ_pos = dissipation_results['tidal_heating']\n",
    "        tidal_torque_pos = dissipation_results['tidal_torque']\n",
    "        dspin_dt_targ_pos = dissipation_results['spin_rate_derivative']\n",
    "        de_dt_pos = dissipation_results['eccentricity_derivative']\n",
    "        da_dt_pos = dissipation_results['semi_major_axis_derivative']\n",
    "\n",
    "        if ax1 is not None:\n",
    "            dissipation_results = \\\n",
    "                single_dissipation_from_dict_or_world_instance(\n",
    "                    host_object, target_object,\n",
    "                    target_viscosity, target_shear, rheology=rheo_model_name,\n",
    "                    complex_compliance_inputs=rheo_input,\n",
    "                    eccentricity=eccentricity, obliquity=obliquity_domain,\n",
    "                    orbital_frequency=orbital_freq,\n",
    "                    spin_frequency=-orbital_freq,\n",
    "                    max_tidal_order_l=max_order_l, eccentricity_truncation_lvl=eccentricity_trunc,\n",
    "                    use_obliquity=True, tidal_scale=target_object['tidal_scale'],\n",
    "                    fixed_k2=target_object['k2'], fixed_q=target_object['fixed_q'],\n",
    "                    fixed_dt=target_object['fixed_dt'],\n",
    "                    da_dt_scale=(3.154e7 / 1000.), de_dt_scale=3.154e7,\n",
    "                    dspin_dt_scale=((360. / (2. * np.pi)) * 3.154e7**2))\n",
    "\n",
    "            tidal_heating_targ_neg = dissipation_results['tidal_heating']\n",
    "            tidal_torque_neg = dissipation_results['tidal_torque']\n",
    "            dspin_dt_targ_neg = dissipation_results['spin_rate_derivative']\n",
    "            de_dt_neg = dissipation_results['eccentricity_derivative']\n",
    "            da_dt_neg = dissipation_results['semi_major_axis_derivative']\n",
    "\n",
    "        \n",
    "            max_heating = max(max_heating, np.max(tidal_heating_targ_pos))\n",
    "            min_heating = min(min_heating, np.min(tidal_heating_targ_pos))\n",
    "        else:\n",
    "            max_heating = max(max_heating, np.max(tidal_heating_targ_pos))\n",
    "            min_heating = min(min_heating, np.min(tidal_heating_targ_pos))\n",
    "        \n",
    "        # Plot results\n",
    "        style = case_line_styles[case_i]\n",
    "        name = case_names[case_i]\n",
    "        ax0.plot(obliquity_domain_deg, tidal_heating_targ_pos, ls=style, c='k', label=name)\n",
    "        if ax1 is not None:\n",
    "            ax1.plot(obliquity_domain_deg, tidal_heating_targ_neg, ls=style, c='k', label=name)\n",
    "            \n",
    "        if case_i == 0:\n",
    "            first_case_heating = tidal_heating_targ_pos\n",
    "        elif case_i == len(cases) - 1:\n",
    "            last_case_heating = tidal_heating_targ_pos\n",
    "            \n",
    "        # Plot Enhancement Line\n",
    "        if case_i == len(cases) - 1:\n",
    "            no_obliquity_heating = tidal_heating_targ_pos[0]\n",
    "            max_obliquity_heating = np.max(tidal_heating_targ_pos)\n",
    "            max_obliquity_heating_loc = find_nearest(tidal_heating_targ_pos, max_obliquity_heating)\n",
    "            max_obliq_value = np.degrees(obliquity_domain[max_obliquity_heating_loc])\n",
    "            print(max_obliq_value)\n",
    "            heating_delta = max_obliquity_heating-no_obliquity_heating\n",
    "            \n",
    "            # Add hline\n",
    "            ax0.axhline(y=no_obliquity_heating, ls=':', c='b', alpha=1.)\n",
    "            \n",
    "            # Add Arrows\n",
    "            if show_annotation:\n",
    "                ax0.annotate(\"\", xy=(max_obliq_value, no_obliquity_heating),\n",
    "                             xytext=(max_obliq_value, max_obliquity_heating),\n",
    "                             xycoords='data', textcoords='data', arrowprops={'arrowstyle': '<->', 'color': 'blue'})\n",
    "\n",
    "                # Add Text\n",
    "                increase_text = \"Maximum heating enhancement of \\n$\\\\approx \" + f\"{max_obliquity_heating/no_obliquity_heating:.0f}$\" + \"$\\\\times$ from obliquity tides.\"\n",
    "\n",
    "                ax0.text(max_obliq_value, 0.7 * no_obliquity_heating, increase_text,\n",
    "                         fontsize=12, ha='center', c='b')\n",
    "        \n",
    "    ax0.legend(loc='lower right')\n",
    "    for ax in axes:\n",
    "        ax.set(ylim=(min_heating*0.7, max_heating*1.05))\n",
    "        ax.set_xticks([0, 45,90, 135, 180, 225, 270, 315, 360])\n",
    "        ax.grid(axis='both', alpha=0.5, ls='--')\n",
    "    \n",
    "    # Make Ratio Plot\n",
    "    if False:\n",
    "        fig2, ax2_0 = plt.subplots(ncols=1, figsize=(6.4, 4.8), constrained_layout=True)\n",
    "        ax2_0.plot(obliquity_domain_deg, last_case_heating/first_case_heating)\n",
    "        ax2_0.set(ylabel=f'Tidal Heating Ratio {case_names[len(cases) - 1]} / {case_names[0]}', xlabel='Obliquity [deg.]')\n",
    "    \n",
    "    if save_fig:\n",
    "        save_name = analysis_version_save + 'ObliquityEccenTruncs_' + target_object['name'] + '_' + host_object['name']\n",
    "        if add_save_name is not None:\n",
    "            save_name = save_name + '_' + add_save_name\n",
    "\n",
    "        fig.savefig(save_name + '_ObliquityFig.pdf')\n",
    "        "
   ]
  },
  {
   "cell_type": "markdown",
   "metadata": {},
   "source": [
    "#### Modest Eccentricity, 0.05"
   ]
  },
  {
   "cell_type": "code",
   "execution_count": 46,
   "metadata": {},
   "outputs": [
    {
     "data": {
      "application/vnd.jupyter.widget-view+json": {
       "model_id": "24a126efe2984e7796856c4f81c5b967",
       "version_major": 2,
       "version_minor": 0
      },
      "text/plain": [
       "Canvas(toolbar=Toolbar(toolitems=[('Home', 'Reset original view', 'home', 'home'), ('Back', 'Back to previous …"
      ]
     },
     "metadata": {},
     "output_type": "display_data"
    },
    {
     "name": "stdout",
     "output_type": "stream",
     "text": [
      "325.0433008660173\n"
     ]
    }
   ],
   "source": [
    "obliquity_variation_eccentricity_truncation_2(TRAPPIST1_e, TRAPPIST1, eccentricity=0.05,\n",
    "                                            target_viscosity=rock_viscosity, target_shear=rock_shear,\n",
    "                                            target_rheo='Sundberg-Cooper', double_plot=False,\n",
    "                                            add_save_name='ModestEccen')"
   ]
  },
  {
   "cell_type": "markdown",
   "metadata": {},
   "source": [
    "#### Large Eccentricity, 0.3"
   ]
  },
  {
   "cell_type": "code",
   "execution_count": 45,
   "metadata": {
    "scrolled": false
   },
   "outputs": [
    {
     "data": {
      "application/vnd.jupyter.widget-view+json": {
       "model_id": "cddf3fe28cfd4be491faa5b79cd43649",
       "version_major": 2,
       "version_minor": 0
      },
      "text/plain": [
       "Canvas(toolbar=Toolbar(toolitems=[('Home', 'Reset original view', 'home', 'home'), ('Back', 'Back to previous …"
      ]
     },
     "metadata": {},
     "output_type": "display_data"
    },
    {
     "name": "stdout",
     "output_type": "stream",
     "text": [
      "26.28772575451509\n"
     ]
    }
   ],
   "source": [
    "obliquity_variation_eccentricity_truncation_2(TRAPPIST1_e, TRAPPIST1, eccentricity=0.3,\n",
    "                                            target_viscosity=rock_viscosity, target_shear=rock_shear,\n",
    "                                            target_rheo='Sundberg-Cooper', double_plot=False,\n",
    "                                            add_save_name='LargeEccen')"
   ]
  },
  {
   "cell_type": "markdown",
   "metadata": {},
   "source": [
    "#### Very Large Eccentricity, 0.6"
   ]
  },
  {
   "cell_type": "code",
   "execution_count": 44,
   "metadata": {},
   "outputs": [
    {
     "data": {
      "application/vnd.jupyter.widget-view+json": {
       "model_id": "9879d504311640ad8eda4a475108a857",
       "version_major": 2,
       "version_minor": 0
      },
      "text/plain": [
       "Canvas(toolbar=Toolbar(toolitems=[('Home', 'Reset original view', 'home', 'home'), ('Back', 'Back to previous …"
      ]
     },
     "metadata": {},
     "output_type": "display_data"
    },
    {
     "name": "stdout",
     "output_type": "stream",
     "text": [
      "0.0\n"
     ]
    }
   ],
   "source": [
    "obliquity_variation_eccentricity_truncation_2(TRAPPIST1_e, TRAPPIST1, eccentricity=0.6,\n",
    "                                            target_viscosity=rock_viscosity, target_shear=rock_shear,\n",
    "                                            target_rheo='Sundberg-Cooper', double_plot=False,\n",
    "                                            add_save_name='VeryLargeEccen')"
   ]
  },
  {
   "cell_type": "markdown",
   "metadata": {},
   "source": [
    "## Pluto-Charon de/dt over semi-major axis domain"
   ]
  },
  {
   "cell_type": "markdown",
   "metadata": {},
   "source": [
    "## Higher Order l Comparison"
   ]
  },
  {
   "cell_type": "code",
   "execution_count": 37,
   "metadata": {},
   "outputs": [],
   "source": [
    "def higher_order_l_compare(object1_dict, object2_dict,\n",
    "                           obj1_viscosity=ice_viscosity, obj1_shear=ice_shear, obj1_rheology='Sundberg-Cooper',\n",
    "                           obj2_viscosity=ice_viscosity, obj2_shear=ice_shear, obj2_rheology='Sundberg-Cooper',\n",
    "                           eccentricity_truncation=10,\n",
    "                           eccentricities=(0.01, 0.6), obj1_obliquity = 0., obj2_obliquity = 0.,\n",
    "                           zpoints_heating=np.linspace(1, 2., 30), zticks_heating=(1, 1.25, 1.5, 1.75, 2),\n",
    "                           zpoints_eccen=np.linspace(-2, 2., 30), zticks_eccen=(-2, -1, 0, 1, 2),\n",
    "                           ztick_names = ('$10^{-2}$', '$10^{-1}$', '$1$', '$10^{1}$', '$10^{2}$'),\n",
    "#                            zpoints_eccen=50, zticks_eccen=None,\n",
    "                           add_save_name: str = None, save_fig=auto_save_plots_ck.value):\n",
    "    \n",
    "    print('This plot can take a while even at low resolution.')\n",
    "    order_ls = [2, 3, 7]\n",
    "    obj1_tidal_calcs = dict()\n",
    "    obj2_tidal_calcs = dict()\n",
    "    eccentricity_calcs = dict()\n",
    "    \n",
    "    # Pull out information\n",
    "    rheo1_color, rheo1_model_name, rheo1_input = rheologies[obj1_rheology]\n",
    "    rheo2_color, rheo2_model_name, rheo2_input = rheologies[obj2_rheology]\n",
    "    \n",
    "    # Setup Domains\n",
    "    oned_n, twod_n = get_resolution()\n",
    "    # This plot can use a ton of memory so its N should be lower than all the other plots.\n",
    "    twod_n_real = int(math.floor(0.55 * twod_n))\n",
    "    orbital_period_domain = np.logspace(-1, 1, twod_n_real)\n",
    "    obj1_spin_period_domain =  np.logspace(-1, 1, twod_n_real)\n",
    "    \n",
    "    orbital_freq_domain = days2rads(orbital_period_domain)\n",
    "    obj1_spin_freq_domain = days2rads(obj1_spin_period_domain)\n",
    "    \n",
    "    orbital_freq, obj1_spin_freq = np.meshgrid(orbital_freq_domain, obj1_spin_freq_domain)\n",
    "    shape = orbital_freq.shape\n",
    "    orbital_freq = orbital_freq.flatten()\n",
    "    obj1_spin_freq = obj1_spin_freq.flatten()\n",
    "    semi_major_axis = orbital_motion2semi_a(orbital_freq, object1_dict['mass'], object2_dict['mass'])\n",
    "    x = orbital_period_domain\n",
    "    y = obj1_spin_period_domain\n",
    "    \n",
    "    #    Assume object 2 has already spin-synched\n",
    "    obj2_spin_freq = orbital_freq # 2. * np.pi / (86400. * 2.) * np.ones_like(orbital_freq)\n",
    "    \n",
    "    # Setup figures\n",
    "    #    Heating Figure\n",
    "    heating_fig = plt.figure(figsize=(6.4*1.5, 6.8*1.5), constrained_layout=True)\n",
    "    ratios = (.49, .49, .02)\n",
    "    heating_gs = GridSpec(3, 3, figure=heating_fig, width_ratios=ratios)\n",
    "    heating_axes = [heating_fig.add_subplot(heating_gs[0, i]) for i in range(2)]\n",
    "    heating_axes += [heating_fig.add_subplot(heating_gs[1, i]) for i in range(2)]\n",
    "    heating_axes += [heating_fig.add_subplot(heating_gs[2, i]) for i in range(2)]\n",
    "    heating_cbs = [heating_fig.add_subplot(heating_gs[i, 2]) for i in range(3)]\n",
    "    \n",
    "    for ax_i, ax in enumerate(heating_axes):\n",
    "        ax.set(xscale='log', yscale='log')\n",
    "        if ax_i == 0:\n",
    "            ax.set(ylabel='$l_{max}=2$\\nSpin Period [days]', title=f'e={eccentricities[0]}')\n",
    "            ax.tick_params(labelbottom=False)\n",
    "        elif ax_i == 1:\n",
    "            ax.set(title=f'e={eccentricities[1]}')\n",
    "            ax.tick_params(labelbottom=False, labelleft=False)\n",
    "        elif ax_i == 2:\n",
    "            ax.set(ylabel='$l_{max}=3$\\nSpin Period [days]')\n",
    "            ax.tick_params(labelbottom=False)\n",
    "        elif ax_i == 3:\n",
    "            ax.tick_params(labelbottom=False, labelleft=False)\n",
    "        elif ax_i == 4:\n",
    "            ax.set(ylabel='$l_{max}=7$\\nSpin Period [days]', xlabel='Orbital Period [days]')\n",
    "        elif ax_i == 5:\n",
    "            ax.set(xlabel='Orbital Period [days]')            \n",
    "            ax.tick_params(labelleft=False)\n",
    "            \n",
    "    #    Eccentricity Figure\n",
    "    eccen_fig = plt.figure(figsize=(6.4*1.5, 6.8*1.5), constrained_layout=True)\n",
    "    ratios = (.49, .49, .02)\n",
    "    eccen_gs = GridSpec(3, 3, figure=eccen_fig, width_ratios=ratios)\n",
    "    eccen_axes = [eccen_fig.add_subplot(eccen_gs[0, i]) for i in range(2)]\n",
    "    eccen_axes += [eccen_fig.add_subplot(eccen_gs[1, i]) for i in range(2)]\n",
    "    eccen_axes += [eccen_fig.add_subplot(eccen_gs[2, i]) for i in range(2)]\n",
    "    eccen_cbs = [eccen_fig.add_subplot(eccen_gs[i, 2]) for i in range(3)]\n",
    "    \n",
    "    for ax_i, ax in enumerate(eccen_axes):\n",
    "        ax.set(xscale='log', yscale='log')\n",
    "        if ax_i == 0:\n",
    "            ax.set(ylabel='$l_{max}=2$\\nSpin Period [days]', title=f'e={eccentricities[0]}')\n",
    "            ax.tick_params(labelbottom=False)\n",
    "        elif ax_i == 1:\n",
    "            ax.set(title=f'e={eccentricities[1]}')\n",
    "            ax.tick_params(labelbottom=False, labelleft=False)\n",
    "        elif ax_i == 2:\n",
    "            ax.set(ylabel='$l_{max}=3$\\nSpin Period [days]')\n",
    "            ax.tick_params(labelbottom=False)\n",
    "        elif ax_i == 3:\n",
    "            ax.tick_params(labelbottom=False, labelleft=False)\n",
    "        elif ax_i == 4:\n",
    "            ax.set(ylabel='$l_{max}=7$\\nSpin Period [days]', xlabel='Orbital Period [days]')\n",
    "        elif ax_i == 5:\n",
    "            ax.set(xlabel='Orbital Period [days]')            \n",
    "            ax.tick_params(labelleft=False)\n",
    "        \n",
    "    \n",
    "    case_inputs = {\n",
    "        (3, eccentricities[0], 0): (heating_axes[2], eccen_axes[2]),\n",
    "        (3, eccentricities[1], 1): (heating_axes[3], eccen_axes[3]),\n",
    "        (7, eccentricities[0], 0): (heating_axes[4], eccen_axes[4]),\n",
    "        (7, eccentricities[1], 1): (heating_axes[5], eccen_axes[5]),\n",
    "    }\n",
    "    \n",
    "    # Calculate baseline (order-l=2)\n",
    "    obj1_heatings_2 = list()\n",
    "    dedts_2 = list()\n",
    "    for e_i, eccentricity in enumerate(eccentricities):\n",
    "        \n",
    "        # Calculate Dissipation and derivatives\n",
    "        dissipation_results = \\\n",
    "            dual_dissipation_from_dict_or_world_instance(\n",
    "                object1_dict, object2_dict,\n",
    "                viscosities=(obj1_viscosity, obj2_viscosity),\n",
    "                shear_moduli=(obj1_shear, obj2_shear),\n",
    "                rheologies=(rheo1_model_name, rheo2_model_name),\n",
    "                complex_compliance_inputs=(rheo1_input, rheo2_input),\n",
    "                obliquities=(obj1_obliquity, obj2_obliquity),\n",
    "                spin_frequencies=(obj1_spin_freq, obj2_spin_freq),\n",
    "                tidal_scales=(object1_dict['tidal_scale'], object2_dict['tidal_scale']),\n",
    "                fixed_k2s=(object1_dict['k2'], object2_dict['k2']),\n",
    "                fixed_qs=(object1_dict['fixed_q'], object2_dict['fixed_q']),\n",
    "                fixed_dts=(object1_dict['fixed_dt'], object2_dict['fixed_dt']),\n",
    "                eccentricity=eccentricity,\n",
    "                orbital_frequency=orbital_freq,\n",
    "                max_tidal_order_l=2, eccentricity_truncation_lvl=eccentricity_truncation,\n",
    "                use_obliquity=True,\n",
    "                da_dt_scale=(3.154e7 / 1000.), de_dt_scale=3.154e7,\n",
    "                dspin_dt_scale=((360. / (2. * np.pi)) * 3.154e7**2))\n",
    "        \n",
    "        obj1_tidal_heating_2 = dissipation_results['host']['tidal_heating']\n",
    "        de_dt = dissipation_results['eccentricity_derivative']\n",
    "        da_dt = dissipation_results['semi_major_axis_derivative']\n",
    "        \n",
    "        # Reshape results and store\n",
    "        obj1_tidal_heating_2 = obj1_tidal_heating_2.reshape(shape)\n",
    "        de_dt = de_dt.reshape(shape)\n",
    "        obj1_heatings_2.append(obj1_tidal_heating_2)\n",
    "        dedts_2.append(de_dt)\n",
    "        \n",
    "        # l=2 data for plots\n",
    "        heating_data = np.log10(obj1_tidal_heating_2)\n",
    "        eccen_data_combo = np.log10(np.abs(de_dt))\n",
    "        \n",
    "        # Add to plots\n",
    "        heating_ax = heating_axes[e_i]\n",
    "        eccen_ax = eccen_axes[e_i]\n",
    "        \n",
    "        heating_cb_data_top = heating_ax.contourf(x, y, heating_data, 60, cmap=lajolla_map)        \n",
    "        eccen_cb_data_top = eccen_ax.contourf(x, y, eccen_data_combo, np.linspace(-8, 3, len(zpoints_eccen)), cmap=lajolla_map)\n",
    "        for c in eccen_cb_data_top.collections:\n",
    "            c.set_edgecolor(\"face\")\n",
    "        for c in heating_cb_data_top.collections:\n",
    "            c.set_edgecolor(\"face\")\n",
    "        \n",
    "        \n",
    "    # Perform other l-order calculations and add to the plot\n",
    "    eccen_cb_datas = list()\n",
    "    for (order_l, eccentricity, order_2_index), (heating_ax, eccen_ax) in case_inputs.items():\n",
    "        \n",
    "        # Calculate Dissipation and derivatives\n",
    "        dissipation_results = \\\n",
    "            dual_dissipation_from_dict_or_world_instance(\n",
    "                object1_dict, object2_dict,\n",
    "                viscosities=(obj1_viscosity, obj2_viscosity),\n",
    "                shear_moduli=(obj1_shear, obj2_shear),\n",
    "                rheologies=(rheo1_model_name, rheo2_model_name),\n",
    "                complex_compliance_inputs=(rheo1_input, rheo2_input),\n",
    "                obliquities=(obj1_obliquity, obj2_obliquity),\n",
    "                spin_frequencies=(obj1_spin_freq, obj2_spin_freq),\n",
    "                tidal_scales=(object1_dict['tidal_scale'], object2_dict['tidal_scale']),\n",
    "                fixed_k2s=(object1_dict['k2'], object2_dict['k2']),\n",
    "                fixed_qs=(object1_dict['fixed_q'], object2_dict['fixed_q']),\n",
    "                fixed_dts=(object1_dict['fixed_dt'], object2_dict['fixed_dt']),\n",
    "                eccentricity=eccentricity,\n",
    "                orbital_frequency=orbital_freq,\n",
    "                max_tidal_order_l=order_l, eccentricity_truncation_lvl=eccentricity_truncation,\n",
    "                use_obliquity=True,\n",
    "                da_dt_scale=(3.154e7 / 1000.), de_dt_scale=3.154e7,\n",
    "                dspin_dt_scale=((360. / (2. * np.pi)) * 3.154e7**2))\n",
    "    \n",
    "        obj1_tidal_heating = dissipation_results['host']['tidal_heating']\n",
    "        de_dt = dissipation_results['eccentricity_derivative']\n",
    "        da_dt = dissipation_results['semi_major_axis_derivative']\n",
    "        \n",
    "        # Reshape\n",
    "        obj1_tidal_heating = obj1_tidal_heating.reshape(shape)\n",
    "        de_dt = de_dt.reshape(shape)\n",
    "        \n",
    "        # Pull out order-2 results and find ratio\n",
    "        heating_ratio = np.abs(obj1_tidal_heating / obj1_heatings_2[order_2_index])\n",
    "        eccen_ratio = np.abs(de_dt / dedts_2[order_2_index])\n",
    "        eccen_ratio = np.log10(eccen_ratio)\n",
    "        \n",
    "        ## There are a handful of points above 10^2 for l=7 at very low spin-period. Set this to 10^2 just so the plot is filled out.\n",
    "        eccen_ratio[eccen_ratio > 2] = 2\n",
    "        \n",
    "        # Add to plots\n",
    "        heating_cb_data = heating_ax.contourf(x, y, heating_ratio, zpoints_heating, cmap=lajolla_map)\n",
    "        \n",
    "        eccen_cb_data = eccen_ax.contourf(x, y, eccen_ratio, zpoints_eccen, cmap=cork_map)\n",
    "        eccen_cb_datas.append(eccen_cb_data)\n",
    "        \n",
    "        for c in eccen_cb_data.collections:\n",
    "            c.set_edgecolor(\"face\")\n",
    "        for c in heating_cb_data.collections:\n",
    "            c.set_edgecolor(\"face\")\n",
    "        \n",
    "    # Add Colorbars\n",
    "    for cb_i, cb_ax in enumerate(heating_cbs):\n",
    "        if cb_i == 0:\n",
    "            cb = plt.colorbar(heating_cb_data_top, pad=0.05, cax=cb_ax)\n",
    "            cb.set_label('Tidal Heating [log$_{10}$ W]')\n",
    "        else:\n",
    "            cb = plt.colorbar(heating_cb_data, pad=0.05, cax=cb_ax, ticks=zticks_heating)\n",
    "            cb.set_label('Tidal Heating Ratio')\n",
    "            \n",
    "    # Annotations\n",
    "    eccen_axes[3].annotate(\"Enhancement at\\nLow Orbital Period\", (0.4, 4), (0.4, 4),\n",
    "                           fontsize=12, ha='center')\n",
    "    eccen_axes[5].annotate(\"New Modes\\nActivated\", (0.4, .29), (0.26, 1),\n",
    "                           arrowprops={'arrowstyle': '-['},\n",
    "                           fontsize=12, ha='center')\n",
    "    # Add Colorbars\n",
    "    for cb_i, cb_ax in enumerate(heating_cbs):\n",
    "        if cb_i == 0:\n",
    "            cb = plt.colorbar(heating_cb_data_top, pad=0.05, cax=cb_ax)\n",
    "            cb.set_label('Tidal Heating [log$_{10}$ W]')\n",
    "        else:\n",
    "            cb = plt.colorbar(heating_cb_data, pad=0.05, cax=cb_ax, ticks=zticks_heating)\n",
    "            cb.set_label('Tidal Heating Ratio')\n",
    "            \n",
    "    for cb_i, cb_ax in enumerate(eccen_cbs):\n",
    "        if cb_i == 0:\n",
    "            cb = plt.colorbar(eccen_cb_data_top, pad=0.05, cax=cb_ax, ticks=[-8, -6, -4, -2, 0, 2])\n",
    "            cb.set_label('$|\\\\dot{e}|$ [yr$^{-1}$]')\n",
    "            cb.ax.set_yticklabels(['$10^{-8}$', '$10^{-6}$', '$10^{-4}$', '$10^{-2}$', '$1$', '$10^{2}$'])\n",
    "        else:\n",
    "            cb2 = plt.colorbar(eccen_cb_datas[cb_i-1], pad=0.05, cax=eccen_cbs[cb_i], ticks=zticks_eccen)\n",
    "            cb2.set_label('$|\\\\dot{e}|$ Ratio')\n",
    "            cb2.ax.set_yticklabels(ztick_names)\n",
    "        \n",
    "    if save_fig:\n",
    "        save_name = analysis_version_save + 'OrderlComparePlot_' + object1_dict['name'] + '_' + object2_dict['name']\n",
    "        if add_save_name is not None:\n",
    "            save_name = save_name + '_' + add_save_name\n",
    "\n",
    "        heating_fig.savefig(save_name + '_HeatingRatio.pdf')\n",
    "        eccen_fig.savefig(save_name + '_dedtRatio.pdf')\n",
    "        heating_fig.savefig(save_name + '_HeatingRatio.png', dpi=300)\n",
    "        eccen_fig.savefig(save_name + '_dedtRatio.png', dpi=300)\n",
    "\n",
    "    plt.show()"
   ]
  },
  {
   "cell_type": "code",
   "execution_count": 43,
   "metadata": {
    "scrolled": false
   },
   "outputs": [
    {
     "name": "stdout",
     "output_type": "stream",
     "text": [
      "This plot can take a while even at low resolution.\n"
     ]
    },
    {
     "data": {
      "application/vnd.jupyter.widget-view+json": {
       "model_id": "0125516dda3e40f7af29ead1cb61ce6e",
       "version_major": 2,
       "version_minor": 0
      },
      "text/plain": [
       "Canvas(toolbar=Toolbar(toolitems=[('Home', 'Reset original view', 'home', 'home'), ('Back', 'Back to previous …"
      ]
     },
     "metadata": {},
     "output_type": "display_data"
    },
    {
     "data": {
      "application/vnd.jupyter.widget-view+json": {
       "model_id": "ccf6811389494f768cd3f60fb93cc20b",
       "version_major": 2,
       "version_minor": 0
      },
      "text/plain": [
       "Canvas(toolbar=Toolbar(toolitems=[('Home', 'Reset original view', 'home', 'home'), ('Back', 'Back to previous …"
      ]
     },
     "metadata": {},
     "output_type": "display_data"
    }
   ],
   "source": [
    "higher_order_l_compare(pluto, charon,\n",
    "                       obj1_viscosity=ice_viscosity, obj1_shear=ice_shear, obj1_rheology='Sundberg-Cooper',\n",
    "                           obj2_viscosity=ice_viscosity, obj2_shear=ice_shear, obj2_rheology='Sundberg-Cooper',\n",
    "                           eccentricity_truncation=20,\n",
    "                           eccentricities=(0.05, 0.6), obj1_obliquity = 0., obj2_obliquity = 0., add_save_name='IceVisco')"
   ]
  },
  {
   "cell_type": "code",
   "execution_count": 42,
   "metadata": {
    "scrolled": false
   },
   "outputs": [
    {
     "name": "stdout",
     "output_type": "stream",
     "text": [
      "This plot can take a while even at low resolution.\n"
     ]
    },
    {
     "data": {
      "application/vnd.jupyter.widget-view+json": {
       "model_id": "26dc8b56f4c941d5b55144f06048624c",
       "version_major": 2,
       "version_minor": 0
      },
      "text/plain": [
       "Canvas(toolbar=Toolbar(toolitems=[('Home', 'Reset original view', 'home', 'home'), ('Back', 'Back to previous …"
      ]
     },
     "metadata": {},
     "output_type": "display_data"
    },
    {
     "data": {
      "application/vnd.jupyter.widget-view+json": {
       "model_id": "837a8977841d4fd393d5d45243eb0d20",
       "version_major": 2,
       "version_minor": 0
      },
      "text/plain": [
       "Canvas(toolbar=Toolbar(toolitems=[('Home', 'Reset original view', 'home', 'home'), ('Back', 'Back to previous …"
      ]
     },
     "metadata": {},
     "output_type": "display_data"
    }
   ],
   "source": [
    "higher_order_l_compare(pluto, charon,\n",
    "                       obj1_viscosity=ice_viscosity, obj1_shear=ice_shear, obj1_rheology='CTL',\n",
    "                           obj2_viscosity=ice_viscosity, obj2_shear=ice_shear, obj2_rheology='CTL',\n",
    "                           eccentricity_truncation=20,\n",
    "                           eccentricities=(0.05, 0.6), obj1_obliquity = 0., obj2_obliquity = 0., add_save_name='IceVisco')"
   ]
  },
  {
   "cell_type": "markdown",
   "metadata": {},
   "source": [
    "## Interactive"
   ]
  },
  {
   "cell_type": "markdown",
   "metadata": {},
   "source": [
    "### Order-l Comparison: Eccentricity leads to resonance shifts"
   ]
  },
  {
   "cell_type": "code",
   "execution_count": 40,
   "metadata": {},
   "outputs": [
    {
     "name": "stdout",
     "output_type": "stream",
     "text": [
      "Warning: Cannot change to a different GUI toolkit: notebook. Using ipympl instead.\n"
     ]
    }
   ],
   "source": [
    "%matplotlib notebook\n",
    "\n",
    "def resonance_shift_interactive(object1_dict, object2_dict,\n",
    "                                obj1_viscosity=ice_viscosity, obj1_shear=ice_shear, obj1_rheology='Sundberg-Cooper',\n",
    "                                obj2_viscosity=ice_viscosity, obj2_shear=ice_shear, obj2_rheology='Sundberg-Cooper',\n",
    "                                eccentricity_truncation=20,\n",
    "                                obj1_obliquity = 0., obj2_obliquity = 0.,\n",
    "                                order_l: int = 3, computational_N = None,\n",
    "                                save_frame: bool = False,\n",
    "                                add_save_name: str = None, save_fig=auto_save_plots_ck.value):\n",
    "    \n",
    "    # Interpret input and reinit function\n",
    "    rheo1_color, rheo1_model_name, rheo1_input = rheologies[obj1_rheology]\n",
    "    rheo2_color, rheo2_model_name, rheo2_input = rheologies[obj2_rheology]\n",
    "    \n",
    "    # Setup domains\n",
    "    if computational_N is None:\n",
    "        oned_n, twod_n = get_resolution()\n",
    "        computational_N = oned_n\n",
    "        \n",
    "    orbital_period = np.linspace(.5, 40., computational_N)\n",
    "    orbital_freq = days2rads(orbital_period)\n",
    "    semi_major_axis = orbital_motion2semi_a(orbital_freq, object1_dict['mass'], object2_dict['mass'])\n",
    "    x = orbital_period\n",
    "    \n",
    "    # Setup plot\n",
    "    fig, ax = plt.subplots()\n",
    "    fig.canvas.toolbar_visible = False\n",
    "    fig.canvas.header_visible = False\n",
    "    fig.canvas.resizable = True\n",
    "    ax.set(xlabel='Orbital Period [days]', ylabel='$\\\\dot{e}$ Ratio [$l=' + f'{order_l}' + '/l=2$]', ylim=(0, 10))\n",
    "    # Initialize plot with fake data\n",
    "    line_pos, = ax.plot(x, np.ones_like(x), c=red)\n",
    "    line_neg, = ax.plot(x, np.ones_like(x), c=blue)\n",
    "    obj1_vline = ax.axvline(x=1., ls=':', c=red, alpha=0.5)\n",
    "    obj2_vline = ax.axvline(x=2., ls=':', c=blue, alpha=0.5)\n",
    "    \n",
    "    # Make a directory for frames\n",
    "    if save_frame and save_fig:\n",
    "        dir_name = 'eccen_resonance_frames'\n",
    "        if add_save_name is not None:\n",
    "            dir_name += add_save_name\n",
    "        frame_dir = os.path.join(os.getcwd(), dir_name)\n",
    "        if not os.path.isdir(frame_dir):\n",
    "            os.mkdir(frame_dir)\n",
    "    \n",
    "    def resonance_shift(object_1_spin_period, object_2_spin_period, eccentricity):\n",
    "        \n",
    "        # Find frequencies\n",
    "        object1_spin_freq = days2rads(object_1_spin_period)\n",
    "        object2_spin_freq = days2rads(object_2_spin_period)\n",
    "        \n",
    "        # Calculate l=2 Dissipation\n",
    "        dissipation_results = \\\n",
    "            dual_dissipation_from_dict_or_world_instance(\n",
    "                object1_dict, object2_dict,\n",
    "                viscosities=(obj1_viscosity, obj2_viscosity),\n",
    "                shear_moduli=(obj1_shear, obj2_shear),\n",
    "                rheologies=(rheo1_model_name, rheo2_model_name),\n",
    "                complex_compliance_inputs=(rheo1_input, rheo2_input),\n",
    "                obliquities=(obj1_obliquity, obj2_obliquity),\n",
    "                spin_frequencies=(object1_spin_freq, object2_spin_freq),\n",
    "                tidal_scales=(object1_dict['tidal_scale'], object2_dict['tidal_scale']),\n",
    "                fixed_k2s=(object1_dict['k2'], object2_dict['k2']),\n",
    "                fixed_qs=(object1_dict['fixed_q'], object2_dict['fixed_q']),\n",
    "                fixed_dts=(object1_dict['fixed_dt'], object2_dict['fixed_dt']),\n",
    "                eccentricity=eccentricity,\n",
    "                orbital_frequency=orbital_freq,\n",
    "                max_tidal_order_l=2, eccentricity_truncation_lvl=eccentricity_truncation,\n",
    "                use_obliquity=True,\n",
    "                da_dt_scale=(3.154e7 / 1000.), de_dt_scale=3.154e7,\n",
    "                dspin_dt_scale=((360. / (2. * np.pi)) * 3.154e7**2))\n",
    "    \n",
    "        obj1_tidal_heating_2 = dissipation_results['host']['tidal_heating']\n",
    "        obj2_tidal_heating_2 = dissipation_results['secondary']['tidal_heating']\n",
    "        dspin_dt_obj1_2 = dissipation_results['host']['spin_rate_derivative']\n",
    "        dspin_dt_obj2_2 = dissipation_results['secondary']['spin_rate_derivative']\n",
    "        de_dt_2 = dissipation_results['eccentricity_derivative']\n",
    "        da_dt_2 = dissipation_results['semi_major_axis_derivative']\n",
    "        \n",
    "        # Calculate provided l Dissipation\n",
    "        dissipation_results = \\\n",
    "            dual_dissipation_from_dict_or_world_instance(\n",
    "                object1_dict, object2_dict,\n",
    "                viscosities=(obj1_viscosity, obj2_viscosity),\n",
    "                shear_moduli=(obj1_shear, obj2_shear),\n",
    "                rheologies=(rheo1_model_name, rheo2_model_name),\n",
    "                complex_compliance_inputs=(rheo1_input, rheo2_input),\n",
    "                obliquities=(obj1_obliquity, obj2_obliquity),\n",
    "                spin_frequencies=(object1_spin_freq, object2_spin_freq),\n",
    "                tidal_scales=(object1_dict['tidal_scale'], object2_dict['tidal_scale']),\n",
    "                fixed_k2s=(object1_dict['k2'], object2_dict['k2']),\n",
    "                fixed_qs=(object1_dict['fixed_q'], object2_dict['fixed_q']),\n",
    "                fixed_dts=(object1_dict['fixed_dt'], object2_dict['fixed_dt']),\n",
    "                eccentricity=eccentricity,\n",
    "                orbital_frequency=orbital_freq,\n",
    "                max_tidal_order_l=order_l, eccentricity_truncation_lvl=eccentricity_truncation,\n",
    "                use_obliquity=True,\n",
    "                da_dt_scale=(3.154e7 / 1000.), de_dt_scale=3.154e7,\n",
    "                dspin_dt_scale=((360. / (2. * np.pi)) * 3.154e7**2))\n",
    "    \n",
    "        obj1_tidal_heating_l = dissipation_results['host']['tidal_heating']\n",
    "        obj2_tidal_heating_l = dissipation_results['secondary']['tidal_heating']\n",
    "        dspin_dt_obj1_l = dissipation_results['host']['spin_rate_derivative']\n",
    "        dspin_dt_obj2_l = dissipation_results['secondary']['spin_rate_derivative']\n",
    "        de_dt_l = dissipation_results['eccentricity_derivative']\n",
    "        da_dt_l = dissipation_results['semi_major_axis_derivative']\n",
    "        \n",
    "        # Calculate Ratios\n",
    "        eccen_ratio = de_dt_l / de_dt_2\n",
    "        # Make eccentriciy work with log plotting (likely to have negatives)\n",
    "        eccen_ratio_pos, eccen_ratio_neg = neg_array_for_log_plot(eccen_ratio)\n",
    "        \n",
    "        return eccen_ratio_pos, eccen_ratio_neg\n",
    "    \n",
    "    def update(object_1_spin_period=2., object_2_spin_period=4., eccentricity=.3):\n",
    "        \n",
    "        # Calculate new ratios\n",
    "        eccen_ratio_pos, eccen_ratio_neg = resonance_shift(object_1_spin_period, object_2_spin_period, eccentricity)\n",
    "        \n",
    "        # Update plot\n",
    "        line_pos.set_ydata(eccen_ratio_pos)\n",
    "        line_neg.set_ydata(eccen_ratio_neg)\n",
    "        ax.set(title=f'e={eccentricity:0.2f}, s1={object_1_spin_period:.1f}, s2={object_2_spin_period:0.1f}')\n",
    "        obj1_vline.set_xdata((object_1_spin_period, object_1_spin_period))\n",
    "        obj2_vline.set_xdata((object_2_spin_period, object_2_spin_period))\n",
    "        \n",
    "        if save_frame and save_fig:\n",
    "            frame_name = f'eccen_resonance_frame__sp1_{object_1_spin_period:.1f}__sp2' + \\\n",
    "                         f'_{object_2_spin_period:.1f}__e_{eccentricity:0.2f}.png'\n",
    "            fig.savefig(os.path.join(frame_dir, frame_name), dpi=300)\n",
    "        \n",
    "        # Recalculate the plot limits\n",
    "        ax.relim()\n",
    "        ax.autoscale_view()\n",
    "        fig.canvas.draw_idle()\n",
    "        \n",
    "    interact(update,\n",
    "         object_1_spin_period=(0.5,10,.25),\n",
    "         object_2_spin_period=(0.5,10,.25),\n",
    "         eccentricity=(0.001, 0.7, 0.05))\n",
    "    "
   ]
  },
  {
   "cell_type": "code",
   "execution_count": 41,
   "metadata": {},
   "outputs": [
    {
     "name": "stdout",
     "output_type": "stream",
     "text": [
      "--Call--\n",
      "> \u001b[1;32mc:\\users\\joepr\\.conda\\envs\\dev\\lib\\site-packages\\ipython\\core\\displayhook.py\u001b[0m(252)\u001b[0;36m__call__\u001b[1;34m()\u001b[0m\n",
      "\u001b[1;32m    250 \u001b[1;33m        \u001b[0msys\u001b[0m\u001b[1;33m.\u001b[0m\u001b[0mstdout\u001b[0m\u001b[1;33m.\u001b[0m\u001b[0mflush\u001b[0m\u001b[1;33m(\u001b[0m\u001b[1;33m)\u001b[0m\u001b[1;33m\u001b[0m\u001b[1;33m\u001b[0m\u001b[0m\n",
      "\u001b[0m\u001b[1;32m    251 \u001b[1;33m\u001b[1;33m\u001b[0m\u001b[0m\n",
      "\u001b[0m\u001b[1;32m--> 252 \u001b[1;33m    \u001b[1;32mdef\u001b[0m \u001b[0m__call__\u001b[0m\u001b[1;33m(\u001b[0m\u001b[0mself\u001b[0m\u001b[1;33m,\u001b[0m \u001b[0mresult\u001b[0m\u001b[1;33m=\u001b[0m\u001b[1;32mNone\u001b[0m\u001b[1;33m)\u001b[0m\u001b[1;33m:\u001b[0m\u001b[1;33m\u001b[0m\u001b[1;33m\u001b[0m\u001b[0m\n",
      "\u001b[0m\u001b[1;32m    253 \u001b[1;33m        \"\"\"Printing with history cache management.\n",
      "\u001b[0m\u001b[1;32m    254 \u001b[1;33m\u001b[1;33m\u001b[0m\u001b[0m\n",
      "\u001b[0m\n",
      "ipdb> q\n"
     ]
    },
    {
     "ename": "BdbQuit",
     "evalue": "",
     "output_type": "error",
     "traceback": [
      "\u001b[1;31m---------------------------------------------------------------------------\u001b[0m",
      "\u001b[1;31mBdbQuit\u001b[0m                                   Traceback (most recent call last)",
      "\u001b[1;32m<ipython-input-41-e89c41de3e19>\u001b[0m in \u001b[0;36m<module>\u001b[1;34m\u001b[0m\n\u001b[1;32m----> 1\u001b[1;33m \u001b[0mbreakpoint\u001b[0m\u001b[1;33m(\u001b[0m\u001b[1;33m)\u001b[0m\u001b[1;33m\u001b[0m\u001b[1;33m\u001b[0m\u001b[0m\n\u001b[0m",
      "\u001b[1;32m~\\.conda\\envs\\dev\\lib\\site-packages\\IPython\\core\\displayhook.py\u001b[0m in \u001b[0;36m__call__\u001b[1;34m(self, result)\u001b[0m\n\u001b[0;32m    250\u001b[0m         \u001b[0msys\u001b[0m\u001b[1;33m.\u001b[0m\u001b[0mstdout\u001b[0m\u001b[1;33m.\u001b[0m\u001b[0mflush\u001b[0m\u001b[1;33m(\u001b[0m\u001b[1;33m)\u001b[0m\u001b[1;33m\u001b[0m\u001b[1;33m\u001b[0m\u001b[0m\n\u001b[0;32m    251\u001b[0m \u001b[1;33m\u001b[0m\u001b[0m\n\u001b[1;32m--> 252\u001b[1;33m     \u001b[1;32mdef\u001b[0m \u001b[0m__call__\u001b[0m\u001b[1;33m(\u001b[0m\u001b[0mself\u001b[0m\u001b[1;33m,\u001b[0m \u001b[0mresult\u001b[0m\u001b[1;33m=\u001b[0m\u001b[1;32mNone\u001b[0m\u001b[1;33m)\u001b[0m\u001b[1;33m:\u001b[0m\u001b[1;33m\u001b[0m\u001b[1;33m\u001b[0m\u001b[0m\n\u001b[0m\u001b[0;32m    253\u001b[0m         \"\"\"Printing with history cache management.\n\u001b[0;32m    254\u001b[0m \u001b[1;33m\u001b[0m\u001b[0m\n",
      "\u001b[1;32m~\\.conda\\envs\\dev\\lib\\bdb.py\u001b[0m in \u001b[0;36mtrace_dispatch\u001b[1;34m(self, frame, event, arg)\u001b[0m\n\u001b[0;32m     88\u001b[0m             \u001b[1;32mreturn\u001b[0m \u001b[0mself\u001b[0m\u001b[1;33m.\u001b[0m\u001b[0mdispatch_line\u001b[0m\u001b[1;33m(\u001b[0m\u001b[0mframe\u001b[0m\u001b[1;33m)\u001b[0m\u001b[1;33m\u001b[0m\u001b[1;33m\u001b[0m\u001b[0m\n\u001b[0;32m     89\u001b[0m         \u001b[1;32mif\u001b[0m \u001b[0mevent\u001b[0m \u001b[1;33m==\u001b[0m \u001b[1;34m'call'\u001b[0m\u001b[1;33m:\u001b[0m\u001b[1;33m\u001b[0m\u001b[1;33m\u001b[0m\u001b[0m\n\u001b[1;32m---> 90\u001b[1;33m             \u001b[1;32mreturn\u001b[0m \u001b[0mself\u001b[0m\u001b[1;33m.\u001b[0m\u001b[0mdispatch_call\u001b[0m\u001b[1;33m(\u001b[0m\u001b[0mframe\u001b[0m\u001b[1;33m,\u001b[0m \u001b[0marg\u001b[0m\u001b[1;33m)\u001b[0m\u001b[1;33m\u001b[0m\u001b[1;33m\u001b[0m\u001b[0m\n\u001b[0m\u001b[0;32m     91\u001b[0m         \u001b[1;32mif\u001b[0m \u001b[0mevent\u001b[0m \u001b[1;33m==\u001b[0m \u001b[1;34m'return'\u001b[0m\u001b[1;33m:\u001b[0m\u001b[1;33m\u001b[0m\u001b[1;33m\u001b[0m\u001b[0m\n\u001b[0;32m     92\u001b[0m             \u001b[1;32mreturn\u001b[0m \u001b[0mself\u001b[0m\u001b[1;33m.\u001b[0m\u001b[0mdispatch_return\u001b[0m\u001b[1;33m(\u001b[0m\u001b[0mframe\u001b[0m\u001b[1;33m,\u001b[0m \u001b[0marg\u001b[0m\u001b[1;33m)\u001b[0m\u001b[1;33m\u001b[0m\u001b[1;33m\u001b[0m\u001b[0m\n",
      "\u001b[1;32m~\\.conda\\envs\\dev\\lib\\bdb.py\u001b[0m in \u001b[0;36mdispatch_call\u001b[1;34m(self, frame, arg)\u001b[0m\n\u001b[0;32m    133\u001b[0m             \u001b[1;32mreturn\u001b[0m \u001b[0mself\u001b[0m\u001b[1;33m.\u001b[0m\u001b[0mtrace_dispatch\u001b[0m\u001b[1;33m\u001b[0m\u001b[1;33m\u001b[0m\u001b[0m\n\u001b[0;32m    134\u001b[0m         \u001b[0mself\u001b[0m\u001b[1;33m.\u001b[0m\u001b[0muser_call\u001b[0m\u001b[1;33m(\u001b[0m\u001b[0mframe\u001b[0m\u001b[1;33m,\u001b[0m \u001b[0marg\u001b[0m\u001b[1;33m)\u001b[0m\u001b[1;33m\u001b[0m\u001b[1;33m\u001b[0m\u001b[0m\n\u001b[1;32m--> 135\u001b[1;33m         \u001b[1;32mif\u001b[0m \u001b[0mself\u001b[0m\u001b[1;33m.\u001b[0m\u001b[0mquitting\u001b[0m\u001b[1;33m:\u001b[0m \u001b[1;32mraise\u001b[0m \u001b[0mBdbQuit\u001b[0m\u001b[1;33m\u001b[0m\u001b[1;33m\u001b[0m\u001b[0m\n\u001b[0m\u001b[0;32m    136\u001b[0m         \u001b[1;32mreturn\u001b[0m \u001b[0mself\u001b[0m\u001b[1;33m.\u001b[0m\u001b[0mtrace_dispatch\u001b[0m\u001b[1;33m\u001b[0m\u001b[1;33m\u001b[0m\u001b[0m\n\u001b[0;32m    137\u001b[0m \u001b[1;33m\u001b[0m\u001b[0m\n",
      "\u001b[1;31mBdbQuit\u001b[0m: "
     ]
    }
   ],
   "source": [
    "breakpoint()"
   ]
  },
  {
   "cell_type": "code",
   "execution_count": null,
   "metadata": {
    "scrolled": false
   },
   "outputs": [],
   "source": [
    "resonance_shift_interactive(pluto, charon,\n",
    "                            obj1_viscosity=ice_viscosity, obj1_shear=ice_shear, obj1_rheology='Sundberg-Cooper',\n",
    "                            obj2_viscosity=ice_viscosity, obj2_shear=ice_shear, obj2_rheology='Sundberg-Cooper',\n",
    "                            eccentricity_truncation=14,\n",
    "                            obj1_obliquity=0., obj2_obliquity=0.,\n",
    "                            order_l=4, computational_N=2000,\n",
    "                            save_frame=False, add_save_name=None, save_fig=False)"
   ]
  }
 ],
 "metadata": {
  "kernelspec": {
   "display_name": "Python 3",
   "language": "python",
   "name": "python3"
  },
  "language_info": {
   "codemirror_mode": {
    "name": "ipython",
    "version": 3
   },
   "file_extension": ".py",
   "mimetype": "text/x-python",
   "name": "python",
   "nbconvert_exporter": "python",
   "pygments_lexer": "ipython3",
   "version": "3.9.4"
  }
 },
 "nbformat": 4,
 "nbformat_minor": 1
}
